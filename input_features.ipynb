{
 "cells": [
  {
   "cell_type": "markdown",
   "metadata": {},
   "source": [
    "# Libs"
   ]
  },
  {
   "cell_type": "code",
   "execution_count": 1,
   "metadata": {
    "collapsed": false
   },
   "outputs": [
    {
     "name": "stderr",
     "output_type": "stream",
     "text": [
      "Using TensorFlow backend.\n"
     ]
    }
   ],
   "source": [
    "import pandas as pd\n",
    "import numpy as np\n",
    "from keras.preprocessing.sequence import pad_sequences\n",
    "from keras.models import Model, load_model\n",
    "from keras.layers import Input, LSTM, Dense, Masking\n",
    "import matplotlib\n",
    "import matplotlib.pyplot as plt\n",
    "from keras.callbacks import ModelCheckpoint\n",
    "from WickelfeaturesProject.keras_metrics import KerasMetrics\n",
    "from keras.optimizers import adam\n",
    "import keras.backend as K\n",
    "from sklearn.metrics import f1_score\n",
    "from scipy.spatial import distance\n",
    "import pickle\n",
    "opt = adam()"
   ]
  },
  {
   "cell_type": "markdown",
   "metadata": {},
   "source": [
    "# Data"
   ]
  },
  {
   "cell_type": "code",
   "execution_count": 4,
   "metadata": {
    "collapsed": true
   },
   "outputs": [],
   "source": [
    "corpus = pd.read_csv(\"WickelfeaturesProject/Corpus new coding/corpus_complete.csv\", names=['verb0', 'inf_verb', 'conj_verb0', 'conj_verb'])"
   ]
  },
  {
   "cell_type": "code",
   "execution_count": 5,
   "metadata": {
    "collapsed": true
   },
   "outputs": [],
   "source": [
    "corpus.drop(['verb0','conj_verb0'], axis=1,inplace=True)"
   ]
  },
  {
   "cell_type": "code",
   "execution_count": 6,
   "metadata": {
    "collapsed": true
   },
   "outputs": [],
   "source": [
    "corpus['conj_verb'] = corpus.conj_verb.apply(lambda x: x.strip('#'))"
   ]
  },
  {
   "cell_type": "code",
   "execution_count": 7,
   "metadata": {
    "collapsed": true
   },
   "outputs": [],
   "source": [
    "corpus['inf_verb'] = corpus.inf_verb.apply(lambda x: x.strip('#'))"
   ]
  },
  {
   "cell_type": "code",
   "execution_count": 8,
   "metadata": {
    "collapsed": false
   },
   "outputs": [
    {
     "data": {
      "text/html": [
       "<div>\n",
       "<style scoped>\n",
       "    .dataframe tbody tr th:only-of-type {\n",
       "        vertical-align: middle;\n",
       "    }\n",
       "\n",
       "    .dataframe tbody tr th {\n",
       "        vertical-align: top;\n",
       "    }\n",
       "\n",
       "    .dataframe thead th {\n",
       "        text-align: right;\n",
       "    }\n",
       "</style>\n",
       "<table border=\"1\" class=\"dataframe\">\n",
       "  <thead>\n",
       "    <tr style=\"text-align: right;\">\n",
       "      <th></th>\n",
       "      <th>inf_verb</th>\n",
       "      <th>conj_verb</th>\n",
       "    </tr>\n",
       "  </thead>\n",
       "  <tbody>\n",
       "    <tr>\n",
       "      <th>0</th>\n",
       "      <td>Ansia</td>\n",
       "      <td>Anseiu</td>\n",
       "    </tr>\n",
       "    <tr>\n",
       "      <th>1</th>\n",
       "      <td>odia</td>\n",
       "      <td>odeiu</td>\n",
       "    </tr>\n",
       "    <tr>\n",
       "      <th>2</th>\n",
       "      <td>pleitea</td>\n",
       "      <td>pleiteiu</td>\n",
       "    </tr>\n",
       "    <tr>\n",
       "      <th>3</th>\n",
       "      <td>ins3ndia</td>\n",
       "      <td>ins3ndeiu</td>\n",
       "    </tr>\n",
       "    <tr>\n",
       "      <th>4</th>\n",
       "      <td>sortea</td>\n",
       "      <td>sorteiu</td>\n",
       "    </tr>\n",
       "  </tbody>\n",
       "</table>\n",
       "</div>"
      ],
      "text/plain": [
       "   inf_verb  conj_verb\n",
       "0     Ansia     Anseiu\n",
       "1      odia      odeiu\n",
       "2   pleitea   pleiteiu\n",
       "3  ins3ndia  ins3ndeiu\n",
       "4    sortea    sorteiu"
      ]
     },
     "execution_count": 8,
     "metadata": {},
     "output_type": "execute_result"
    }
   ],
   "source": [
    "corpus.head()"
   ]
  },
  {
   "cell_type": "code",
   "execution_count": 9,
   "metadata": {
    "collapsed": true
   },
   "outputs": [],
   "source": [
    "corpus.to_csv('WickelfeaturesProject/Corpus new coding/actual_corpus_used', index=False)"
   ]
  },
  {
   "cell_type": "code",
   "execution_count": 10,
   "metadata": {
    "collapsed": true
   },
   "outputs": [],
   "source": [
    "corpus['conj_verb'] = corpus.conj_verb.apply(lambda x: '#'+x+ '$')"
   ]
  },
  {
   "cell_type": "code",
   "execution_count": 11,
   "metadata": {
    "collapsed": false
   },
   "outputs": [
    {
     "data": {
      "text/html": [
       "<div>\n",
       "<style scoped>\n",
       "    .dataframe tbody tr th:only-of-type {\n",
       "        vertical-align: middle;\n",
       "    }\n",
       "\n",
       "    .dataframe tbody tr th {\n",
       "        vertical-align: top;\n",
       "    }\n",
       "\n",
       "    .dataframe thead th {\n",
       "        text-align: right;\n",
       "    }\n",
       "</style>\n",
       "<table border=\"1\" class=\"dataframe\">\n",
       "  <thead>\n",
       "    <tr style=\"text-align: right;\">\n",
       "      <th></th>\n",
       "      <th>inf_verb</th>\n",
       "      <th>conj_verb</th>\n",
       "    </tr>\n",
       "  </thead>\n",
       "  <tbody>\n",
       "    <tr>\n",
       "      <th>0</th>\n",
       "      <td>Ansia</td>\n",
       "      <td>#Anseiu$</td>\n",
       "    </tr>\n",
       "    <tr>\n",
       "      <th>1</th>\n",
       "      <td>odia</td>\n",
       "      <td>#odeiu$</td>\n",
       "    </tr>\n",
       "    <tr>\n",
       "      <th>2</th>\n",
       "      <td>pleitea</td>\n",
       "      <td>#pleiteiu$</td>\n",
       "    </tr>\n",
       "    <tr>\n",
       "      <th>3</th>\n",
       "      <td>ins3ndia</td>\n",
       "      <td>#ins3ndeiu$</td>\n",
       "    </tr>\n",
       "    <tr>\n",
       "      <th>4</th>\n",
       "      <td>sortea</td>\n",
       "      <td>#sorteiu$</td>\n",
       "    </tr>\n",
       "  </tbody>\n",
       "</table>\n",
       "</div>"
      ],
      "text/plain": [
       "   inf_verb    conj_verb\n",
       "0     Ansia     #Anseiu$\n",
       "1      odia      #odeiu$\n",
       "2   pleitea   #pleiteiu$\n",
       "3  ins3ndia  #ins3ndeiu$\n",
       "4    sortea    #sorteiu$"
      ]
     },
     "execution_count": 11,
     "metadata": {},
     "output_type": "execute_result"
    }
   ],
   "source": [
    "corpus.head()"
   ]
  },
  {
   "cell_type": "code",
   "execution_count": 12,
   "metadata": {
    "collapsed": true
   },
   "outputs": [],
   "source": [
    "corpus.to_csv('WickelfeaturesProject/Corpus new coding/actual_corpus_used', index=False)"
   ]
  },
  {
   "cell_type": "code",
   "execution_count": 2,
   "metadata": {
    "collapsed": false
   },
   "outputs": [],
   "source": [
    "corpus = pd.read_csv('WickelfeaturesProject/Corpus new coding/actual_corpus_used')"
   ]
  },
  {
   "cell_type": "code",
   "execution_count": 3,
   "metadata": {
    "collapsed": false
   },
   "outputs": [
    {
     "data": {
      "text/html": [
       "<div>\n",
       "<style scoped>\n",
       "    .dataframe tbody tr th:only-of-type {\n",
       "        vertical-align: middle;\n",
       "    }\n",
       "\n",
       "    .dataframe tbody tr th {\n",
       "        vertical-align: top;\n",
       "    }\n",
       "\n",
       "    .dataframe thead th {\n",
       "        text-align: right;\n",
       "    }\n",
       "</style>\n",
       "<table border=\"1\" class=\"dataframe\">\n",
       "  <thead>\n",
       "    <tr style=\"text-align: right;\">\n",
       "      <th></th>\n",
       "      <th>inf_verb</th>\n",
       "      <th>conj_verb</th>\n",
       "    </tr>\n",
       "  </thead>\n",
       "  <tbody>\n",
       "    <tr>\n",
       "      <th>0</th>\n",
       "      <td>Ansia</td>\n",
       "      <td>#Anseiu$</td>\n",
       "    </tr>\n",
       "    <tr>\n",
       "      <th>1</th>\n",
       "      <td>odia</td>\n",
       "      <td>#odeiu$</td>\n",
       "    </tr>\n",
       "    <tr>\n",
       "      <th>2</th>\n",
       "      <td>pleitea</td>\n",
       "      <td>#pleiteiu$</td>\n",
       "    </tr>\n",
       "    <tr>\n",
       "      <th>3</th>\n",
       "      <td>ins3ndia</td>\n",
       "      <td>#ins3ndeiu$</td>\n",
       "    </tr>\n",
       "    <tr>\n",
       "      <th>4</th>\n",
       "      <td>sortea</td>\n",
       "      <td>#sorteiu$</td>\n",
       "    </tr>\n",
       "  </tbody>\n",
       "</table>\n",
       "</div>"
      ],
      "text/plain": [
       "   inf_verb    conj_verb\n",
       "0     Ansia     #Anseiu$\n",
       "1      odia      #odeiu$\n",
       "2   pleitea   #pleiteiu$\n",
       "3  ins3ndia  #ins3ndeiu$\n",
       "4    sortea    #sorteiu$"
      ]
     },
     "execution_count": 3,
     "metadata": {},
     "output_type": "execute_result"
    }
   ],
   "source": [
    "corpus.head()"
   ]
  },
  {
   "cell_type": "markdown",
   "metadata": {},
   "source": [
    "# Features"
   ]
  },
  {
   "cell_type": "code",
   "execution_count": 4,
   "metadata": {
    "collapsed": true
   },
   "outputs": [],
   "source": [
    "features = ['oclusiva', 'nasal', 'tepe', 'fricativa', 'l-aprox', 'bilabial', 'labiodental',\n",
    "           'alveolar', 'p-alveolar', 'palatal', 'velar', 'glotal', 'vozeada', 'fechada',\n",
    "           'm-fechada', 'm-aberta', 'aberta', 'anterior', 'posterior', 'beg', 'end']"
   ]
  },
  {
   "cell_type": "code",
   "execution_count": 5,
   "metadata": {
    "collapsed": true
   },
   "outputs": [],
   "source": [
    "#http://www.ipachart.com/\n",
    "phones = {\n",
    "\"p\" : ['bilabial', 'oclusiva'],\n",
    "\"b\" : ['bilabial', 'oclusiva', 'vozeada'],\n",
    "\"f\" : ['labiodental', 'fricativa'],\n",
    "\"v\" : ['labiodental', 'fricativa', 'vozeada'],\n",
    "\"t\" : ['alveolar', 'oclusiva'],\n",
    "\"d\" : ['alveolar', 'oclusiva', 'vozeada'],\n",
    "\"m\" : ['bilabial', 'nasal'],\n",
    "\"n\" : ['alveolar', 'nasal'],\n",
    "\"k\" : ['velar', 'oclusiva'],\n",
    "\"g\" : ['velar', 'oclusiva', 'vozeada'],\n",
    "\"N\" : ['nasal', 'palatal'],\n",
    "\"r\" : ['alveolar', 'tepe'],\n",
    "\"s\" : ['alveolar', 'fricativa'],\n",
    "\"z\" : ['alveolar', 'fricativa', 'vozeada'],\n",
    "\"j\" : ['p-alveolar', 'fricativa', 'vozeada'],\n",
    "\"l\" : ['l-aprox', 'p-alveolar'],\n",
    "\"L\" : ['l-aprox', 'palatal'],\n",
    "\"h\" : ['glotal', 'fricativa'],\n",
    "\"x\" : ['fricativa', 'p-alveolar'],\n",
    "\"i\" : ['anterior', 'fechada'],\n",
    "\"e\" : ['m-fechada', 'anterior'],\n",
    "\"E\" : ['m-aberta', 'anterior'],\n",
    "\"a\" : ['anterior', 'aberta'],\n",
    "\"u\" : ['posterior', 'fechada'],\n",
    "\"o\" : ['m-fechada', 'posterior'],\n",
    "\"O\" : ['m-aberta', 'posterior'],\n",
    "\"A\" : ['anterior', 'aberta', 'nasal'],\n",
    "\"3\" : ['m-fechada', 'anterior', 'nasal'],\n",
    "\"PAD\": [''],\n",
    "\"#\" : ['beg'],\n",
    "\"$\" : [\"end\"]}"
   ]
  },
  {
   "cell_type": "code",
   "execution_count": 6,
   "metadata": {
    "collapsed": true
   },
   "outputs": [],
   "source": [
    "with open('WickelfeaturesProject/Files/phones.pickle', 'wb') as file:\n",
    "    pickle.dump(phones, file, protocol=pickle.HIGHEST_PROTOCOL)"
   ]
  },
  {
   "cell_type": "markdown",
   "metadata": {},
   "source": [
    "# Functions"
   ]
  },
  {
   "cell_type": "code",
   "execution_count": 7,
   "metadata": {
    "collapsed": true
   },
   "outputs": [],
   "source": [
    "def code(phone): \n",
    "    array = []\n",
    "    for item in features:\n",
    "        if item in phones[phone]:\n",
    "            array.append(1)\n",
    "        else:\n",
    "            array.append(0)\n",
    "    return np.array(array)"
   ]
  },
  {
   "cell_type": "markdown",
   "metadata": {
    "collapsed": false
   },
   "source": [
    "code('h')"
   ]
  },
  {
   "cell_type": "markdown",
   "metadata": {
    "collapsed": false
   },
   "source": [
    "code('#')"
   ]
  },
  {
   "cell_type": "code",
   "execution_count": null,
   "metadata": {
    "collapsed": true
   },
   "outputs": [],
   "source": [
    "def preprocessing(df):\n",
    "    \n",
    "    df.drop(['verb0','conj_verb0'], axis=1,inplace=True)\n",
    "    df['inf_verb'] = df.inf_verb.str.strip('#')\n",
    "    df['conj_verb'] = df.conj_verb.apply(lambda x: x[:-1] + '$')\n",
    "    return df"
   ]
  },
  {
   "cell_type": "code",
   "execution_count": 10,
   "metadata": {
    "collapsed": true
   },
   "outputs": [],
   "source": [
    "def code_verb(verb):\n",
    "    coded = list()\n",
    "    for item in verb:\n",
    "        coded.append(code(item))\n",
    "    return np.array(coded)"
   ]
  },
  {
   "cell_type": "markdown",
   "metadata": {
    "collapsed": false
   },
   "source": [
    "code_verb('falu')"
   ]
  },
  {
   "cell_type": "markdown",
   "metadata": {
    "collapsed": true
   },
   "source": [
    "def verify(verb):\n",
    "    for phone in verb:\n",
    "        if phone not in phones.keys():\n",
    "            print(phone, verb)\n",
    "        else:\n",
    "            pass"
   ]
  },
  {
   "cell_type": "code",
   "execution_count": 94,
   "metadata": {
    "collapsed": false
   },
   "outputs": [],
   "source": [
    "def preprocessing(df):\n",
    "    \n",
    "    df.drop(['verb0','conj_verb0'], axis=1,inplace=True)\n",
    "    df['inf_verb'] = df.inf_verb.str.strip('#')\n",
    "    df['conj_verb'] = df.conj_verb.apply(lambda x: x[:-1] + '$')\n",
    "    coded_in = corpus.inf_verb.apply(code_verb)\n",
    "    coded_out = corpus.conj_verb.apply(code_verb)\n",
    "    coded_out_target = coded_out.apply(lambda x: np.vstack((x[1:],np.zeros(21))))\n",
    "    padded_in = pad_sequences(coded_in, value=np.zeros(21))\n",
    "    padded_out = pad_sequences(coded_out, value=np.zeros(21),padding=\"post\")\n",
    "    padded_out_target = pad_sequences(coded_out_target, value=np.zeros(21),padding=\"post\")\n",
    "        \n",
    "    return df, coded_in, coded_out, padded_in, padded_out"
   ]
  },
  {
   "cell_type": "markdown",
   "metadata": {},
   "source": [
    "# Maximum Length of input and output"
   ]
  },
  {
   "cell_type": "code",
   "execution_count": 25,
   "metadata": {
    "collapsed": false
   },
   "outputs": [
    {
     "data": {
      "text/plain": [
       "11"
      ]
     },
     "execution_count": 25,
     "metadata": {},
     "output_type": "execute_result"
    }
   ],
   "source": [
    "corpus.inf_verb.str.len().max()"
   ]
  },
  {
   "cell_type": "code",
   "execution_count": 12,
   "metadata": {
    "collapsed": true
   },
   "outputs": [],
   "source": [
    "max_decoder_seq_length = corpus.conj_verb.str.len().max()"
   ]
  },
  {
   "cell_type": "code",
   "execution_count": 27,
   "metadata": {
    "collapsed": false
   },
   "outputs": [
    {
     "data": {
      "text/plain": [
       "13"
      ]
     },
     "execution_count": 27,
     "metadata": {},
     "output_type": "execute_result"
    }
   ],
   "source": [
    "max_decoder_seq_length"
   ]
  },
  {
   "cell_type": "markdown",
   "metadata": {},
   "source": [
    "# Padding"
   ]
  },
  {
   "cell_type": "code",
   "execution_count": 13,
   "metadata": {
    "collapsed": true
   },
   "outputs": [],
   "source": [
    "coded_in = corpus.inf_verb.apply(code_verb)"
   ]
  },
  {
   "cell_type": "code",
   "execution_count": 14,
   "metadata": {
    "collapsed": true
   },
   "outputs": [],
   "source": [
    "input_texts = corpus.inf_verb[-30:]"
   ]
  },
  {
   "cell_type": "code",
   "execution_count": 30,
   "metadata": {
    "collapsed": false
   },
   "outputs": [
    {
     "data": {
      "text/plain": [
       "393         sabe\n",
       "394      ekivale\n",
       "395        prove\n",
       "396        traze\n",
       "397         pode\n",
       "398        desda\n",
       "399         idea\n",
       "400       estrea\n",
       "401           da\n",
       "402     sobresta\n",
       "403         esta\n",
       "404         kabe\n",
       "405         ouvi\n",
       "406    entreouvi\n",
       "407       heouvi\n",
       "408         pari\n",
       "409        perde\n",
       "410        testa\n",
       "411     obiserva\n",
       "412      eskolie\n",
       "413     konversa\n",
       "414         fexa\n",
       "415        gosta\n",
       "416        volta\n",
       "417      espresa\n",
       "418        pasea\n",
       "419       akorda\n",
       "420        korta\n",
       "421       aumosa\n",
       "422       injeri\n",
       "Name: inf_verb, dtype: object"
      ]
     },
     "execution_count": 30,
     "metadata": {},
     "output_type": "execute_result"
    }
   ],
   "source": [
    "input_texts"
   ]
  },
  {
   "cell_type": "code",
   "execution_count": 17,
   "metadata": {
    "collapsed": true
   },
   "outputs": [],
   "source": [
    "coded_out = corpus.conj_verb.apply(code_verb)"
   ]
  },
  {
   "cell_type": "markdown",
   "metadata": {
    "collapsed": false
   },
   "source": [
    "coded_in[0]"
   ]
  },
  {
   "cell_type": "code",
   "execution_count": 20,
   "metadata": {
    "collapsed": false
   },
   "outputs": [],
   "source": [
    "padded_in = pad_sequences(coded_in, value=np.zeros(21))\n",
    "padded_out = pad_sequences(coded_out, value=np.zeros(21),padding=\"post\")"
   ]
  },
  {
   "cell_type": "code",
   "execution_count": 21,
   "metadata": {
    "collapsed": false
   },
   "outputs": [
    {
     "data": {
      "text/plain": [
       "(423, 13, 21)"
      ]
     },
     "execution_count": 21,
     "metadata": {},
     "output_type": "execute_result"
    }
   ],
   "source": [
    "padded_out = pad_sequences(coded_out, value=np.zeros(21),padding=\"post\")\n",
    "padded_out.shape"
   ]
  },
  {
   "cell_type": "markdown",
   "metadata": {},
   "source": [
    "about pre padding: https://stackoverflow.com/questions/46298793/how-does-choosing-between-pre-and-post-zero-padding-of-sequences-impact-results"
   ]
  },
  {
   "cell_type": "markdown",
   "metadata": {},
   "source": [
    "# Test Split"
   ]
  },
  {
   "cell_type": "code",
   "execution_count": 22,
   "metadata": {
    "collapsed": true
   },
   "outputs": [],
   "source": [
    "x_test = padded_in[-30:]\n",
    "y_test = padded_out[-30:]\n",
    "\n",
    "padded_in = padded_in[:-30]\n",
    "padded_out = padded_out[:-30]"
   ]
  },
  {
   "cell_type": "markdown",
   "metadata": {},
   "source": [
    "# Preprocessing"
   ]
  },
  {
   "cell_type": "code",
   "execution_count": 99,
   "metadata": {
    "collapsed": true
   },
   "outputs": [],
   "source": [
    "def preprocessing(df):\n",
    "    \n",
    "    #df.drop(['verb0','conj_verb0'], axis=1,inplace=True)\n",
    "    df['inf_verb'] = df.inf_verb.str.strip('#')\n",
    "    df['conj_verb'] = df.conj_verb.apply(lambda x: x[:-1] + '$')\n",
    "    coded_in = corpus.inf_verb.apply(code_verb)\n",
    "    coded_out = corpus.conj_verb.apply(code_verb)\n",
    "    coded_out_target = coded_out.apply(lambda x: np.vstack((x[1:],np.zeros(21))))\n",
    "    padded_in = pad_sequences(coded_in, value=np.zeros(21))\n",
    "    padded_out = pad_sequences(coded_out, value=np.zeros(21),padding=\"post\")\n",
    "    padded_out_target = pad_sequences(coded_out_target, value=np.zeros(21),padding=\"post\")\n",
    "        \n",
    "    return df, coded_in, coded_out, padded_in, padded_out"
   ]
  },
  {
   "cell_type": "code",
   "execution_count": 74,
   "metadata": {
    "collapsed": false
   },
   "outputs": [],
   "source": [
    "frame = pd.read_csv(\"WickelfeaturesProject/Corpus_new_coding/403verbs.csv\")\n"
   ]
  },
  {
   "cell_type": "code",
   "execution_count": 70,
   "metadata": {
    "collapsed": false
   },
   "outputs": [
    {
     "data": {
      "text/html": [
       "<div>\n",
       "<style scoped>\n",
       "    .dataframe tbody tr th:only-of-type {\n",
       "        vertical-align: middle;\n",
       "    }\n",
       "\n",
       "    .dataframe tbody tr th {\n",
       "        vertical-align: top;\n",
       "    }\n",
       "\n",
       "    .dataframe thead th {\n",
       "        text-align: right;\n",
       "    }\n",
       "</style>\n",
       "<table border=\"1\" class=\"dataframe\">\n",
       "  <thead>\n",
       "    <tr style=\"text-align: right;\">\n",
       "      <th></th>\n",
       "      <th>inf_verb</th>\n",
       "      <th>conj_verb</th>\n",
       "    </tr>\n",
       "  </thead>\n",
       "  <tbody>\n",
       "    <tr>\n",
       "      <th>0</th>\n",
       "      <td>Ansia</td>\n",
       "      <td>#Anseiu$</td>\n",
       "    </tr>\n",
       "    <tr>\n",
       "      <th>1</th>\n",
       "      <td>odia</td>\n",
       "      <td>#odeiu$</td>\n",
       "    </tr>\n",
       "    <tr>\n",
       "      <th>2</th>\n",
       "      <td>pleitea</td>\n",
       "      <td>#pleiteiu$</td>\n",
       "    </tr>\n",
       "    <tr>\n",
       "      <th>3</th>\n",
       "      <td>ins3ndia</td>\n",
       "      <td>#ins3ndeiu$</td>\n",
       "    </tr>\n",
       "    <tr>\n",
       "      <th>4</th>\n",
       "      <td>sortea</td>\n",
       "      <td>#sorteiu$</td>\n",
       "    </tr>\n",
       "    <tr>\n",
       "      <th>5</th>\n",
       "      <td>hemedia</td>\n",
       "      <td>#hemedeiu$</td>\n",
       "    </tr>\n",
       "    <tr>\n",
       "      <th>6</th>\n",
       "      <td>intermedia</td>\n",
       "      <td>#intermedeiu$</td>\n",
       "    </tr>\n",
       "    <tr>\n",
       "      <th>7</th>\n",
       "      <td>media</td>\n",
       "      <td>#medeiu$</td>\n",
       "    </tr>\n",
       "    <tr>\n",
       "      <th>8</th>\n",
       "      <td>oLa</td>\n",
       "      <td>#OLu$</td>\n",
       "    </tr>\n",
       "    <tr>\n",
       "      <th>9</th>\n",
       "      <td>koloka</td>\n",
       "      <td>#kolOku$</td>\n",
       "    </tr>\n",
       "    <tr>\n",
       "      <th>10</th>\n",
       "      <td>informa</td>\n",
       "      <td>#infOrmu$</td>\n",
       "    </tr>\n",
       "    <tr>\n",
       "      <th>11</th>\n",
       "      <td>torna</td>\n",
       "      <td>#tOrnu$</td>\n",
       "    </tr>\n",
       "    <tr>\n",
       "      <th>12</th>\n",
       "      <td>boia</td>\n",
       "      <td>#bOiu$</td>\n",
       "    </tr>\n",
       "    <tr>\n",
       "      <th>13</th>\n",
       "      <td>bota</td>\n",
       "      <td>#bOtu$</td>\n",
       "    </tr>\n",
       "    <tr>\n",
       "      <th>14</th>\n",
       "      <td>toka</td>\n",
       "      <td>#tOku$</td>\n",
       "    </tr>\n",
       "    <tr>\n",
       "      <th>15</th>\n",
       "      <td>foka</td>\n",
       "      <td>#fOku$</td>\n",
       "    </tr>\n",
       "    <tr>\n",
       "      <th>16</th>\n",
       "      <td>mostra</td>\n",
       "      <td>#mOstru$</td>\n",
       "    </tr>\n",
       "    <tr>\n",
       "      <th>17</th>\n",
       "      <td>xora</td>\n",
       "      <td>#xOru$</td>\n",
       "    </tr>\n",
       "    <tr>\n",
       "      <th>18</th>\n",
       "      <td>nota</td>\n",
       "      <td>#nOtu$</td>\n",
       "    </tr>\n",
       "    <tr>\n",
       "      <th>19</th>\n",
       "      <td>tosta</td>\n",
       "      <td>#tOstu$</td>\n",
       "    </tr>\n",
       "    <tr>\n",
       "      <th>20</th>\n",
       "      <td>troka</td>\n",
       "      <td>#trOku$</td>\n",
       "    </tr>\n",
       "    <tr>\n",
       "      <th>21</th>\n",
       "      <td>heboka</td>\n",
       "      <td>#hebOku$</td>\n",
       "    </tr>\n",
       "    <tr>\n",
       "      <th>22</th>\n",
       "      <td>soka</td>\n",
       "      <td>#sOku$</td>\n",
       "    </tr>\n",
       "    <tr>\n",
       "      <th>23</th>\n",
       "      <td>kosa</td>\n",
       "      <td>#kOsu$</td>\n",
       "    </tr>\n",
       "    <tr>\n",
       "      <th>24</th>\n",
       "      <td>toma</td>\n",
       "      <td>#tOmu$</td>\n",
       "    </tr>\n",
       "    <tr>\n",
       "      <th>25</th>\n",
       "      <td>hekorta</td>\n",
       "      <td>#hekOrtu$</td>\n",
       "    </tr>\n",
       "    <tr>\n",
       "      <th>26</th>\n",
       "      <td>entorta</td>\n",
       "      <td>#entOrtu$</td>\n",
       "    </tr>\n",
       "    <tr>\n",
       "      <th>27</th>\n",
       "      <td>enkosta</td>\n",
       "      <td>#enkOstu$</td>\n",
       "    </tr>\n",
       "    <tr>\n",
       "      <th>28</th>\n",
       "      <td>hetorna</td>\n",
       "      <td>#hetOrnu$</td>\n",
       "    </tr>\n",
       "    <tr>\n",
       "      <th>29</th>\n",
       "      <td>deskobri</td>\n",
       "      <td>#deskubru$</td>\n",
       "    </tr>\n",
       "    <tr>\n",
       "      <th>...</th>\n",
       "      <td>...</td>\n",
       "      <td>...</td>\n",
       "    </tr>\n",
       "    <tr>\n",
       "      <th>393</th>\n",
       "      <td>sabe</td>\n",
       "      <td>#sei$</td>\n",
       "    </tr>\n",
       "    <tr>\n",
       "      <th>394</th>\n",
       "      <td>ekivale</td>\n",
       "      <td>#ekivaLu$</td>\n",
       "    </tr>\n",
       "    <tr>\n",
       "      <th>395</th>\n",
       "      <td>prove</td>\n",
       "      <td>#prov3Nu$</td>\n",
       "    </tr>\n",
       "    <tr>\n",
       "      <th>396</th>\n",
       "      <td>traze</td>\n",
       "      <td>#tragu$</td>\n",
       "    </tr>\n",
       "    <tr>\n",
       "      <th>397</th>\n",
       "      <td>pode</td>\n",
       "      <td>#pOsu$</td>\n",
       "    </tr>\n",
       "    <tr>\n",
       "      <th>398</th>\n",
       "      <td>desda</td>\n",
       "      <td>#dEsdu$</td>\n",
       "    </tr>\n",
       "    <tr>\n",
       "      <th>399</th>\n",
       "      <td>idea</td>\n",
       "      <td>#ideiu$</td>\n",
       "    </tr>\n",
       "    <tr>\n",
       "      <th>400</th>\n",
       "      <td>estrea</td>\n",
       "      <td>#estrEiu$</td>\n",
       "    </tr>\n",
       "    <tr>\n",
       "      <th>401</th>\n",
       "      <td>da</td>\n",
       "      <td>#dou$</td>\n",
       "    </tr>\n",
       "    <tr>\n",
       "      <th>402</th>\n",
       "      <td>sobresta</td>\n",
       "      <td>#sobrestou$</td>\n",
       "    </tr>\n",
       "    <tr>\n",
       "      <th>403</th>\n",
       "      <td>esta</td>\n",
       "      <td>#estou$</td>\n",
       "    </tr>\n",
       "    <tr>\n",
       "      <th>404</th>\n",
       "      <td>kabe</td>\n",
       "      <td>#kaibu$</td>\n",
       "    </tr>\n",
       "    <tr>\n",
       "      <th>405</th>\n",
       "      <td>ouvi</td>\n",
       "      <td>#ousu$</td>\n",
       "    </tr>\n",
       "    <tr>\n",
       "      <th>406</th>\n",
       "      <td>entreouvi</td>\n",
       "      <td>#entreousu$</td>\n",
       "    </tr>\n",
       "    <tr>\n",
       "      <th>407</th>\n",
       "      <td>heouvi</td>\n",
       "      <td>#heousu$</td>\n",
       "    </tr>\n",
       "    <tr>\n",
       "      <th>408</th>\n",
       "      <td>pari</td>\n",
       "      <td>#pairu$</td>\n",
       "    </tr>\n",
       "    <tr>\n",
       "      <th>409</th>\n",
       "      <td>perde</td>\n",
       "      <td>#perku$</td>\n",
       "    </tr>\n",
       "    <tr>\n",
       "      <th>410</th>\n",
       "      <td>testa</td>\n",
       "      <td>#tEstu$</td>\n",
       "    </tr>\n",
       "    <tr>\n",
       "      <th>411</th>\n",
       "      <td>obiserva</td>\n",
       "      <td>#obisErvu$</td>\n",
       "    </tr>\n",
       "    <tr>\n",
       "      <th>412</th>\n",
       "      <td>eskolie</td>\n",
       "      <td>#eskoLu$</td>\n",
       "    </tr>\n",
       "    <tr>\n",
       "      <th>413</th>\n",
       "      <td>konversa</td>\n",
       "      <td>#konvErsu$</td>\n",
       "    </tr>\n",
       "    <tr>\n",
       "      <th>414</th>\n",
       "      <td>fexa</td>\n",
       "      <td>#fExu$</td>\n",
       "    </tr>\n",
       "    <tr>\n",
       "      <th>415</th>\n",
       "      <td>gosta</td>\n",
       "      <td>#gOstu$</td>\n",
       "    </tr>\n",
       "    <tr>\n",
       "      <th>416</th>\n",
       "      <td>volta</td>\n",
       "      <td>#vOltu$</td>\n",
       "    </tr>\n",
       "    <tr>\n",
       "      <th>417</th>\n",
       "      <td>espresa</td>\n",
       "      <td>#esprEsu$</td>\n",
       "    </tr>\n",
       "    <tr>\n",
       "      <th>418</th>\n",
       "      <td>pasea</td>\n",
       "      <td>#paseiu$</td>\n",
       "    </tr>\n",
       "    <tr>\n",
       "      <th>419</th>\n",
       "      <td>akorda</td>\n",
       "      <td>#akOrdu$</td>\n",
       "    </tr>\n",
       "    <tr>\n",
       "      <th>420</th>\n",
       "      <td>korta</td>\n",
       "      <td>#kOrtu$</td>\n",
       "    </tr>\n",
       "    <tr>\n",
       "      <th>421</th>\n",
       "      <td>aumosa</td>\n",
       "      <td>#aumOsu$</td>\n",
       "    </tr>\n",
       "    <tr>\n",
       "      <th>422</th>\n",
       "      <td>injeri</td>\n",
       "      <td>#injiru$</td>\n",
       "    </tr>\n",
       "  </tbody>\n",
       "</table>\n",
       "<p>423 rows × 2 columns</p>\n",
       "</div>"
      ],
      "text/plain": [
       "       inf_verb      conj_verb\n",
       "0         Ansia       #Anseiu$\n",
       "1          odia        #odeiu$\n",
       "2       pleitea     #pleiteiu$\n",
       "3      ins3ndia    #ins3ndeiu$\n",
       "4        sortea      #sorteiu$\n",
       "5       hemedia     #hemedeiu$\n",
       "6    intermedia  #intermedeiu$\n",
       "7         media       #medeiu$\n",
       "8           oLa          #OLu$\n",
       "9        koloka       #kolOku$\n",
       "10      informa      #infOrmu$\n",
       "11        torna        #tOrnu$\n",
       "12         boia         #bOiu$\n",
       "13         bota         #bOtu$\n",
       "14         toka         #tOku$\n",
       "15         foka         #fOku$\n",
       "16       mostra       #mOstru$\n",
       "17         xora         #xOru$\n",
       "18         nota         #nOtu$\n",
       "19        tosta        #tOstu$\n",
       "20        troka        #trOku$\n",
       "21       heboka       #hebOku$\n",
       "22         soka         #sOku$\n",
       "23         kosa         #kOsu$\n",
       "24         toma         #tOmu$\n",
       "25      hekorta      #hekOrtu$\n",
       "26      entorta      #entOrtu$\n",
       "27      enkosta      #enkOstu$\n",
       "28      hetorna      #hetOrnu$\n",
       "29     deskobri     #deskubru$\n",
       "..          ...            ...\n",
       "393        sabe          #sei$\n",
       "394     ekivale      #ekivaLu$\n",
       "395       prove      #prov3Nu$\n",
       "396       traze        #tragu$\n",
       "397        pode         #pOsu$\n",
       "398       desda        #dEsdu$\n",
       "399        idea        #ideiu$\n",
       "400      estrea      #estrEiu$\n",
       "401          da          #dou$\n",
       "402    sobresta    #sobrestou$\n",
       "403        esta        #estou$\n",
       "404        kabe        #kaibu$\n",
       "405        ouvi         #ousu$\n",
       "406   entreouvi    #entreousu$\n",
       "407      heouvi       #heousu$\n",
       "408        pari        #pairu$\n",
       "409       perde        #perku$\n",
       "410       testa        #tEstu$\n",
       "411    obiserva     #obisErvu$\n",
       "412     eskolie       #eskoLu$\n",
       "413    konversa     #konvErsu$\n",
       "414        fexa         #fExu$\n",
       "415       gosta        #gOstu$\n",
       "416       volta        #vOltu$\n",
       "417     espresa      #esprEsu$\n",
       "418       pasea       #paseiu$\n",
       "419      akorda       #akOrdu$\n",
       "420       korta        #kOrtu$\n",
       "421      aumosa       #aumOsu$\n",
       "422      injeri       #injiru$\n",
       "\n",
       "[423 rows x 2 columns]"
      ]
     },
     "execution_count": 70,
     "metadata": {},
     "output_type": "execute_result"
    }
   ],
   "source": [
    "corpus"
   ]
  },
  {
   "cell_type": "markdown",
   "metadata": {},
   "source": [
    "# The Network"
   ]
  },
  {
   "cell_type": "code",
   "execution_count": 37,
   "metadata": {
    "collapsed": true
   },
   "outputs": [],
   "source": [
    "latent_dim = 256\n",
    "num_encoder_tokens = 21\n",
    "\n",
    "# Define an input sequence and process it.\n",
    "encoder_inputs = Input(shape=(None, num_encoder_tokens)) #19\n",
    "#encoder_inputs = Masking()(encoder_inputs) # Assuming PAD is zeros\n",
    "encoder = LSTM(latent_dim, return_state=True)\n",
    "# Now the LSTM will ignore the PADs when encoding\n",
    "# by skipping those timesteps that are masked\n",
    "encoder_outputs, state_h, state_c = encoder(encoder_inputs)\n",
    "# We discard `encoder_outputs` and only keep the states.\n",
    "encoder_states = [state_h, state_c]\n",
    "\n",
    "# Set up the decoder, using `encoder_states` as initial state.\n",
    "num_decoder_tokens = 21\n",
    "decoder_inputs = Input(shape=(None, num_decoder_tokens))\n",
    "# We set up our decoder to return full output sequences,\n",
    "# and to return internal states as well. We don't use the\n",
    "# return states in the training model, but we will use them in inference.\n",
    "decoder_lstm = LSTM(latent_dim, return_sequences=True, return_state=True)\n",
    "decoder_outputs, _, _ = decoder_lstm(decoder_inputs,\n",
    "                                     initial_state=encoder_states)\n",
    "decoder_dense = Dense(num_decoder_tokens, activation='sigmoid')\n",
    "decoder_outputs = decoder_dense(decoder_outputs)\n",
    "\n",
    "# Define the model that will turn\n",
    "# `encoder_input_data` & `decoder_input_data` into `decoder_target_data`\n",
    "model = Model([encoder_inputs, decoder_inputs], decoder_outputs)"
   ]
  },
  {
   "cell_type": "code",
   "execution_count": 38,
   "metadata": {
    "collapsed": false
   },
   "outputs": [
    {
     "data": {
      "text/plain": [
       "21"
      ]
     },
     "execution_count": 38,
     "metadata": {},
     "output_type": "execute_result"
    }
   ],
   "source": [
    "num_encoder_tokens"
   ]
  },
  {
   "cell_type": "code",
   "execution_count": 25,
   "metadata": {
    "collapsed": true
   },
   "outputs": [],
   "source": [
    "coded_out_target = coded_out.apply(lambda x: np.vstack((x[1:],np.zeros(21))))"
   ]
  },
  {
   "cell_type": "code",
   "execution_count": 26,
   "metadata": {
    "collapsed": false
   },
   "outputs": [
    {
     "data": {
      "text/plain": [
       "(393, 13, 21)"
      ]
     },
     "execution_count": 26,
     "metadata": {},
     "output_type": "execute_result"
    }
   ],
   "source": [
    "padded_out.shape"
   ]
  },
  {
   "cell_type": "code",
   "execution_count": 27,
   "metadata": {
    "collapsed": false
   },
   "outputs": [],
   "source": [
    "padded_out_target = pad_sequences(coded_out_target, value=np.zeros(21),padding=\"post\")"
   ]
  },
  {
   "cell_type": "code",
   "execution_count": 44,
   "metadata": {
    "collapsed": true
   },
   "outputs": [],
   "source": [
    "#because of test split\n",
    "padded_out_target = padded_out_target[:-30]"
   ]
  },
  {
   "cell_type": "code",
   "execution_count": 48,
   "metadata": {
    "collapsed": false
   },
   "outputs": [
    {
     "name": "stdout",
     "output_type": "stream",
     "text": [
      "CPU times: user 11min 33s, sys: 1min 23s, total: 12min 57s\n",
      "Wall time: 3min 45s\n"
     ]
    }
   ],
   "source": [
    "%%time\n",
    "# Run training\n",
    "keras_metrics = KerasMetrics()\n",
    "model.compile(optimizer=opt, loss='binary_crossentropy', metrics=[ keras_metrics.fbeta_score,\n",
    "               keras_metrics.recall,\n",
    "               keras_metrics.precision]) #, mean_pred],)\n",
    "model.save_weights('WickelfeaturesProject/new_model_1.h5')\n",
    "history = model.fit([padded_in, padded_out],\n",
    "                    padded_out_target,\n",
    "                    batch_size=128,\n",
    "                    epochs=300,\n",
    "                    validation_split=0.2,verbose=False)"
   ]
  },
  {
   "cell_type": "code",
   "execution_count": 49,
   "metadata": {
    "collapsed": false
   },
   "outputs": [
    {
     "data": {
      "text/plain": [
       "dict_keys(['val_loss', 'val_fbeta_score', 'val_recall', 'val_precision', 'loss', 'fbeta_score', 'recall', 'precision'])"
      ]
     },
     "execution_count": 49,
     "metadata": {},
     "output_type": "execute_result"
    }
   ],
   "source": [
    "history.history.keys()"
   ]
  },
  {
   "cell_type": "markdown",
   "metadata": {},
   "source": [
    "## F1 score Plot"
   ]
  },
  {
   "cell_type": "code",
   "execution_count": 50,
   "metadata": {
    "collapsed": false
   },
   "outputs": [
    {
     "data": {
      "image/png": "[encoded data removed]",
      "text/plain": [
       "<Figure size 432x288 with 1 Axes>"
      ]
     },
     "metadata": {},
     "output_type": "display_data"
    }
   ],
   "source": [
    "# summarize history for accuracy\n",
    "plt.plot(history.history['fbeta_score'])\n",
    "plt.plot(pd.Series(history.history['val_fbeta_score']))\n",
    "plt.title('f1 score')\n",
    "plt.ylabel('f1_Score')\n",
    "plt.xlabel('epoch')\n",
    "plt.legend(['train', 'test'], loc='upper left');"
   ]
  },
  {
   "cell_type": "code",
   "execution_count": 51,
   "metadata": {
    "collapsed": false
   },
   "outputs": [
    {
     "data": {
      "text/plain": [
       "0.7563260793685913"
      ]
     },
     "execution_count": 51,
     "metadata": {},
     "output_type": "execute_result"
    }
   ],
   "source": [
    "history.history['val_fbeta_score'][-1]"
   ]
  },
  {
   "cell_type": "markdown",
   "metadata": {},
   "source": [
    "## Recall Score Plot"
   ]
  },
  {
   "cell_type": "code",
   "execution_count": 52,
   "metadata": {
    "collapsed": false
   },
   "outputs": [
    {
     "data": {
      "image/png": "[encoded data removed]",
      "text/plain": [
       "<Figure size 432x288 with 1 Axes>"
      ]
     },
     "metadata": {},
     "output_type": "display_data"
    }
   ],
   "source": [
    "# summarize history for accuracy\n",
    "score = 'recall'\n",
    "plt.plot(history.history[score])\n",
    "plt.plot(pd.Series(history.history['val_{}'.format(score)]))\n",
    "plt.title('model {}'.format(score))\n",
    "plt.ylabel(score)\n",
    "plt.xlabel('epoch')\n",
    "plt.legend(['train', 'test'], loc='upper left');"
   ]
  },
  {
   "cell_type": "code",
   "execution_count": 53,
   "metadata": {
    "collapsed": false
   },
   "outputs": [
    {
     "data": {
      "text/plain": [
       "0.6927038431167603"
      ]
     },
     "execution_count": 53,
     "metadata": {},
     "output_type": "execute_result"
    }
   ],
   "source": [
    "history.history['val_recall'][-1]"
   ]
  },
  {
   "cell_type": "markdown",
   "metadata": {},
   "source": [
    "## Precision Score Plot"
   ]
  },
  {
   "cell_type": "code",
   "execution_count": 54,
   "metadata": {
    "collapsed": false
   },
   "outputs": [
    {
     "data": {
      "image/png": "[encoded data removed]",
      "text/plain": [
       "<Figure size 432x288 with 1 Axes>"
      ]
     },
     "metadata": {},
     "output_type": "display_data"
    }
   ],
   "source": [
    "score = 'precision'\n",
    "plt.plot(history.history[score])\n",
    "plt.plot(pd.Series(history.history['val_{}'.format(score)]))\n",
    "plt.title('model {}'.format(score))\n",
    "plt.ylabel(score)\n",
    "plt.xlabel('epoch')\n",
    "plt.legend(['train', 'test'], loc='upper left');"
   ]
  },
  {
   "cell_type": "code",
   "execution_count": 55,
   "metadata": {
    "collapsed": false
   },
   "outputs": [
    {
     "data": {
      "text/plain": [
       "0.8328173160552979"
      ]
     },
     "execution_count": 55,
     "metadata": {},
     "output_type": "execute_result"
    }
   ],
   "source": [
    "history.history['val_precision'][-1]"
   ]
  },
  {
   "cell_type": "code",
   "execution_count": 56,
   "metadata": {
    "collapsed": false
   },
   "outputs": [
    {
     "data": {
      "image/png": "[encoded data removed]",
      "text/plain": [
       "<Figure size 432x288 with 1 Axes>"
      ]
     },
     "metadata": {},
     "output_type": "display_data"
    }
   ],
   "source": [
    "%matplotlib inline\n",
    "# summarize history for loss\n",
    "plt.plot(history.history['loss'])\n",
    "plt.plot(history.history['val_loss'])\n",
    "plt.title('model loss')\n",
    "plt.ylabel('loss')\n",
    "plt.xlabel('epoch')\n",
    "plt.legend(['train', 'test'], loc='upper left');"
   ]
  },
  {
   "cell_type": "markdown",
   "metadata": {},
   "source": [
    "# Predict"
   ]
  },
  {
   "cell_type": "markdown",
   "metadata": {},
   "source": [
    "## Euclidean Distance"
   ]
  },
  {
   "cell_type": "markdown",
   "metadata": {},
   "source": [
    "from scipy.spatial import distance\n",
    "a = np.array([0,0,1])\n",
    "b = np.array([0, 0, 1])\n",
    "dst = distance.euclidean(a, b)\n",
    "dst"
   ]
  },
  {
   "cell_type": "code",
   "execution_count": 57,
   "metadata": {
    "collapsed": false
   },
   "outputs": [
    {
     "data": {
      "text/plain": [
       "{'p': array([1, 0, 0, 0, 0, 1, 0, 0, 0, 0, 0, 0, 0, 0, 0, 0, 0, 0, 0, 0, 0]),\n",
       " 'b': array([1, 0, 0, 0, 0, 1, 0, 0, 0, 0, 0, 0, 1, 0, 0, 0, 0, 0, 0, 0, 0]),\n",
       " 'f': array([0, 0, 0, 1, 0, 0, 1, 0, 0, 0, 0, 0, 0, 0, 0, 0, 0, 0, 0, 0, 0]),\n",
       " 'v': array([0, 0, 0, 1, 0, 0, 1, 0, 0, 0, 0, 0, 1, 0, 0, 0, 0, 0, 0, 0, 0]),\n",
       " 't': array([1, 0, 0, 0, 0, 0, 0, 1, 0, 0, 0, 0, 0, 0, 0, 0, 0, 0, 0, 0, 0]),\n",
       " 'd': array([1, 0, 0, 0, 0, 0, 0, 1, 0, 0, 0, 0, 1, 0, 0, 0, 0, 0, 0, 0, 0]),\n",
       " 'm': array([0, 1, 0, 0, 0, 1, 0, 0, 0, 0, 0, 0, 0, 0, 0, 0, 0, 0, 0, 0, 0]),\n",
       " 'n': array([0, 1, 0, 0, 0, 0, 0, 1, 0, 0, 0, 0, 0, 0, 0, 0, 0, 0, 0, 0, 0]),\n",
       " 'k': array([1, 0, 0, 0, 0, 0, 0, 0, 0, 0, 1, 0, 0, 0, 0, 0, 0, 0, 0, 0, 0]),\n",
       " 'g': array([1, 0, 0, 0, 0, 0, 0, 0, 0, 0, 1, 0, 1, 0, 0, 0, 0, 0, 0, 0, 0]),\n",
       " 'N': array([0, 1, 0, 0, 0, 0, 0, 0, 0, 1, 0, 0, 0, 0, 0, 0, 0, 0, 0, 0, 0]),\n",
       " 'r': array([0, 0, 1, 0, 0, 0, 0, 1, 0, 0, 0, 0, 0, 0, 0, 0, 0, 0, 0, 0, 0]),\n",
       " 's': array([0, 0, 0, 1, 0, 0, 0, 1, 0, 0, 0, 0, 0, 0, 0, 0, 0, 0, 0, 0, 0]),\n",
       " 'z': array([0, 0, 0, 1, 0, 0, 0, 1, 0, 0, 0, 0, 1, 0, 0, 0, 0, 0, 0, 0, 0]),\n",
       " 'j': array([0, 0, 0, 1, 0, 0, 0, 0, 1, 0, 0, 0, 1, 0, 0, 0, 0, 0, 0, 0, 0]),\n",
       " 'l': array([0, 0, 0, 0, 1, 0, 0, 0, 1, 0, 0, 0, 0, 0, 0, 0, 0, 0, 0, 0, 0]),\n",
       " 'L': array([0, 0, 0, 0, 1, 0, 0, 0, 0, 1, 0, 0, 0, 0, 0, 0, 0, 0, 0, 0, 0]),\n",
       " 'h': array([0, 0, 0, 1, 0, 0, 0, 0, 0, 0, 0, 1, 0, 0, 0, 0, 0, 0, 0, 0, 0]),\n",
       " 'x': array([0, 0, 0, 1, 0, 0, 0, 0, 1, 0, 0, 0, 0, 0, 0, 0, 0, 0, 0, 0, 0]),\n",
       " 'i': array([0, 0, 0, 0, 0, 0, 0, 0, 0, 0, 0, 0, 0, 1, 0, 0, 0, 1, 0, 0, 0]),\n",
       " 'e': array([0, 0, 0, 0, 0, 0, 0, 0, 0, 0, 0, 0, 0, 0, 1, 0, 0, 1, 0, 0, 0]),\n",
       " 'E': array([0, 0, 0, 0, 0, 0, 0, 0, 0, 0, 0, 0, 0, 0, 0, 1, 0, 1, 0, 0, 0]),\n",
       " 'a': array([0, 0, 0, 0, 0, 0, 0, 0, 0, 0, 0, 0, 0, 0, 0, 0, 1, 1, 0, 0, 0]),\n",
       " 'u': array([0, 0, 0, 0, 0, 0, 0, 0, 0, 0, 0, 0, 0, 1, 0, 0, 0, 0, 1, 0, 0]),\n",
       " 'o': array([0, 0, 0, 0, 0, 0, 0, 0, 0, 0, 0, 0, 0, 0, 1, 0, 0, 0, 1, 0, 0]),\n",
       " 'O': array([0, 0, 0, 0, 0, 0, 0, 0, 0, 0, 0, 0, 0, 0, 0, 1, 0, 0, 1, 0, 0]),\n",
       " 'A': array([0, 1, 0, 0, 0, 0, 0, 0, 0, 0, 0, 0, 0, 0, 0, 0, 1, 1, 0, 0, 0]),\n",
       " '3': array([0, 1, 0, 0, 0, 0, 0, 0, 0, 0, 0, 0, 0, 0, 1, 0, 0, 1, 0, 0, 0]),\n",
       " 'PAD': array([0, 0, 0, 0, 0, 0, 0, 0, 0, 0, 0, 0, 0, 0, 0, 0, 0, 0, 0, 0, 0]),\n",
       " '#': array([0, 0, 0, 0, 0, 0, 0, 0, 0, 0, 0, 0, 0, 0, 0, 0, 0, 0, 0, 1, 0]),\n",
       " '$': array([0, 0, 0, 0, 0, 0, 0, 0, 0, 0, 0, 0, 0, 0, 0, 0, 0, 0, 0, 0, 1])}"
      ]
     },
     "execution_count": 57,
     "metadata": {},
     "output_type": "execute_result"
    }
   ],
   "source": [
    "phone_arrays = {}\n",
    "for phone in phones:\n",
    "    phone_arrays[phone] = code(phone)\n",
    "phone_arrays"
   ]
  },
  {
   "cell_type": "code",
   "execution_count": 58,
   "metadata": {
    "collapsed": true
   },
   "outputs": [],
   "source": [
    "import pickle\n",
    "phone_arrays = {}\n",
    "for phone in phones:\n",
    "    phone_arrays[phone] = code(phone)\n",
    "phone_arrays\n",
    "with open('WickelfeaturesProject/Files/phone_arrays.pickle', 'wb') as file:\n",
    "    pickle.dump(phone_arrays, file, protocol=pickle.HIGHEST_PROTOCOL)"
   ]
  },
  {
   "cell_type": "code",
   "execution_count": 59,
   "metadata": {
    "collapsed": true
   },
   "outputs": [],
   "source": [
    "with open('WickelfeaturesProject/Files/phone_arrays.pickle', 'rb') as file:\n",
    "    phone_arrays = pickle.load(file)"
   ]
  },
  {
   "cell_type": "code",
   "execution_count": 60,
   "metadata": {
    "collapsed": false
   },
   "outputs": [
    {
     "data": {
      "text/plain": [
       "{'p': array([1, 0, 0, 0, 0, 1, 0, 0, 0, 0, 0, 0, 0, 0, 0, 0, 0, 0, 0, 0, 0]),\n",
       " 'b': array([1, 0, 0, 0, 0, 1, 0, 0, 0, 0, 0, 0, 1, 0, 0, 0, 0, 0, 0, 0, 0]),\n",
       " 'f': array([0, 0, 0, 1, 0, 0, 1, 0, 0, 0, 0, 0, 0, 0, 0, 0, 0, 0, 0, 0, 0]),\n",
       " 'v': array([0, 0, 0, 1, 0, 0, 1, 0, 0, 0, 0, 0, 1, 0, 0, 0, 0, 0, 0, 0, 0]),\n",
       " 't': array([1, 0, 0, 0, 0, 0, 0, 1, 0, 0, 0, 0, 0, 0, 0, 0, 0, 0, 0, 0, 0]),\n",
       " 'd': array([1, 0, 0, 0, 0, 0, 0, 1, 0, 0, 0, 0, 1, 0, 0, 0, 0, 0, 0, 0, 0]),\n",
       " 'm': array([0, 1, 0, 0, 0, 1, 0, 0, 0, 0, 0, 0, 0, 0, 0, 0, 0, 0, 0, 0, 0]),\n",
       " 'n': array([0, 1, 0, 0, 0, 0, 0, 1, 0, 0, 0, 0, 0, 0, 0, 0, 0, 0, 0, 0, 0]),\n",
       " 'k': array([1, 0, 0, 0, 0, 0, 0, 0, 0, 0, 1, 0, 0, 0, 0, 0, 0, 0, 0, 0, 0]),\n",
       " 'g': array([1, 0, 0, 0, 0, 0, 0, 0, 0, 0, 1, 0, 1, 0, 0, 0, 0, 0, 0, 0, 0]),\n",
       " 'N': array([0, 1, 0, 0, 0, 0, 0, 0, 0, 1, 0, 0, 0, 0, 0, 0, 0, 0, 0, 0, 0]),\n",
       " 'r': array([0, 0, 1, 0, 0, 0, 0, 1, 0, 0, 0, 0, 0, 0, 0, 0, 0, 0, 0, 0, 0]),\n",
       " 's': array([0, 0, 0, 1, 0, 0, 0, 1, 0, 0, 0, 0, 0, 0, 0, 0, 0, 0, 0, 0, 0]),\n",
       " 'z': array([0, 0, 0, 1, 0, 0, 0, 1, 0, 0, 0, 0, 1, 0, 0, 0, 0, 0, 0, 0, 0]),\n",
       " 'j': array([0, 0, 0, 1, 0, 0, 0, 0, 1, 0, 0, 0, 1, 0, 0, 0, 0, 0, 0, 0, 0]),\n",
       " 'l': array([0, 0, 0, 0, 1, 0, 0, 0, 1, 0, 0, 0, 0, 0, 0, 0, 0, 0, 0, 0, 0]),\n",
       " 'L': array([0, 0, 0, 0, 1, 0, 0, 0, 0, 1, 0, 0, 0, 0, 0, 0, 0, 0, 0, 0, 0]),\n",
       " 'h': array([0, 0, 0, 1, 0, 0, 0, 0, 0, 0, 0, 1, 0, 0, 0, 0, 0, 0, 0, 0, 0]),\n",
       " 'x': array([0, 0, 0, 1, 0, 0, 0, 0, 1, 0, 0, 0, 0, 0, 0, 0, 0, 0, 0, 0, 0]),\n",
       " 'i': array([0, 0, 0, 0, 0, 0, 0, 0, 0, 0, 0, 0, 0, 1, 0, 0, 0, 1, 0, 0, 0]),\n",
       " 'e': array([0, 0, 0, 0, 0, 0, 0, 0, 0, 0, 0, 0, 0, 0, 1, 0, 0, 1, 0, 0, 0]),\n",
       " 'E': array([0, 0, 0, 0, 0, 0, 0, 0, 0, 0, 0, 0, 0, 0, 0, 1, 0, 1, 0, 0, 0]),\n",
       " 'a': array([0, 0, 0, 0, 0, 0, 0, 0, 0, 0, 0, 0, 0, 0, 0, 0, 1, 1, 0, 0, 0]),\n",
       " 'u': array([0, 0, 0, 0, 0, 0, 0, 0, 0, 0, 0, 0, 0, 1, 0, 0, 0, 0, 1, 0, 0]),\n",
       " 'o': array([0, 0, 0, 0, 0, 0, 0, 0, 0, 0, 0, 0, 0, 0, 1, 0, 0, 0, 1, 0, 0]),\n",
       " 'O': array([0, 0, 0, 0, 0, 0, 0, 0, 0, 0, 0, 0, 0, 0, 0, 1, 0, 0, 1, 0, 0]),\n",
       " 'A': array([0, 1, 0, 0, 0, 0, 0, 0, 0, 0, 0, 0, 0, 0, 0, 0, 1, 1, 0, 0, 0]),\n",
       " '3': array([0, 1, 0, 0, 0, 0, 0, 0, 0, 0, 0, 0, 0, 0, 1, 0, 0, 1, 0, 0, 0]),\n",
       " 'PAD': array([0, 0, 0, 0, 0, 0, 0, 0, 0, 0, 0, 0, 0, 0, 0, 0, 0, 0, 0, 0, 0]),\n",
       " '#': array([0, 0, 0, 0, 0, 0, 0, 0, 0, 0, 0, 0, 0, 0, 0, 0, 0, 0, 0, 1, 0]),\n",
       " '$': array([0, 0, 0, 0, 0, 0, 0, 0, 0, 0, 0, 0, 0, 0, 0, 0, 0, 0, 0, 0, 1])}"
      ]
     },
     "execution_count": 60,
     "metadata": {},
     "output_type": "execute_result"
    }
   ],
   "source": [
    "phone_arrays"
   ]
  },
  {
   "cell_type": "code",
   "execution_count": 61,
   "metadata": {
    "collapsed": true
   },
   "outputs": [],
   "source": [
    "def find_closest_array(predicted):\n",
    "    \"\"\"\n",
    "    Find closest array.\n",
    "    \n",
    "    Parameters:\n",
    "    ----------   \n",
    "    predicted : type array\n",
    "    \n",
    "    Returns:\n",
    "    -------\n",
    "    candidate : type string\n",
    "    \"\"\"\n",
    "    min_dst = 10000\n",
    "    candidate = ''\n",
    "    import pickle \n",
    "    with open('WickelfeaturesProject/Files/phone_arrays.pickle', 'rb') as file:\n",
    "        phone_arrays = pickle.load(file)\n",
    "    del phone_arrays['PAD']\n",
    "    for phone in phone_arrays:\n",
    "        dst = distance.euclidean(predicted, phone_arrays[phone])\n",
    "        # finds the minimum distance first\n",
    "        if dst < min_dst:\n",
    "            min_dst = dst\n",
    "            candidate = phone\n",
    "    return candidate       \n",
    "#     for phone in phone_arrays:\n",
    "#             dst = distance.euclidean(predicted, phone_arrays[phone])\n",
    "#             if dst == min_dst:\n",
    "#                 # appends all possible candidates to a list\n",
    "#                 candidates.append(phone)\n",
    "#     if len(candidates) > 1:\n",
    "#         return  '+'.join(candidates) \n",
    "#     else:\n",
    "#         return ''.join(candidates)"
   ]
  },
  {
   "cell_type": "code",
   "execution_count": 62,
   "metadata": {
    "collapsed": false
   },
   "outputs": [
    {
     "data": {
      "text/plain": [
       "'3'"
      ]
     },
     "execution_count": 62,
     "metadata": {},
     "output_type": "execute_result"
    }
   ],
   "source": [
    "# test if it returns 3\n",
    "find_closest_array([0,1, 0, 0, 0, 0, 0, 0, 0, 0, 0, 0, 0, 0, 1, 0, 0, 1, 0,0,0])"
   ]
  },
  {
   "cell_type": "code",
   "execution_count": 63,
   "metadata": {
    "collapsed": false
   },
   "outputs": [
    {
     "data": {
      "text/plain": [
       "'p'"
      ]
     },
     "execution_count": 63,
     "metadata": {},
     "output_type": "execute_result"
    }
   ],
   "source": [
    "# test if it returns a list\n",
    "find_closest_array([.678, 0, 0, 0, 0, 0, 0, 0, 0, 0, 0, 0, 0, 0, 0, 0, 0, 0, 0,0,0])"
   ]
  },
  {
   "cell_type": "markdown",
   "metadata": {},
   "source": [
    " ---"
   ]
  },
  {
   "cell_type": "markdown",
   "metadata": {},
   "source": [
    "## Inference mode"
   ]
  },
  {
   "cell_type": "code",
   "execution_count": 64,
   "metadata": {
    "collapsed": true
   },
   "outputs": [],
   "source": [
    "# Next: inference mode (sampling).\n",
    "# Here's the drill:\n",
    "# 1) encode input and retrieve initial decoder state\n",
    "# 2) run one step of decoder with this initial state\n",
    "# and a \"start of sequence\" token as target.\n",
    "# Output will be the next target token\n",
    "# 3) Repeat with the current target token and current states\n",
    "\n",
    "# Define sampling models\n",
    "encoder_model = Model(encoder_inputs, encoder_states)\n",
    "\n",
    "decoder_state_input_h = Input(shape=(latent_dim,))\n",
    "decoder_state_input_c = Input(shape=(latent_dim,))\n",
    "decoder_states_inputs = [decoder_state_input_h, decoder_state_input_c]\n",
    "decoder_outputs, state_h, state_c = decoder_lstm(\n",
    "    decoder_inputs, initial_state=decoder_states_inputs)\n",
    "decoder_states = [state_h, state_c]\n",
    "decoder_outputs = decoder_dense(decoder_outputs)\n",
    "decoder_model = Model(\n",
    "    [decoder_inputs] + decoder_states_inputs,\n",
    "    [decoder_outputs] + decoder_states)"
   ]
  },
  {
   "cell_type": "code",
   "execution_count": 65,
   "metadata": {
    "collapsed": true
   },
   "outputs": [],
   "source": [
    "lookup = {}\n",
    "for phone in phones:\n",
    "    lookup[phone] = code(phone)    "
   ]
  },
  {
   "cell_type": "code",
   "execution_count": 66,
   "metadata": {
    "collapsed": true
   },
   "outputs": [],
   "source": [
    "with open('WickelfeaturesProject/Files/lookup.pickle', 'wb') as file:\n",
    "    pickle.dump(lookup, file, protocol=pickle.HIGHEST_PROTOCOL)"
   ]
  },
  {
   "cell_type": "code",
   "execution_count": 67,
   "metadata": {
    "collapsed": true
   },
   "outputs": [],
   "source": [
    "def reverse_phone(array):\n",
    "    for item in lookup:\n",
    "        if np.all(array == lookup[item]):\n",
    "            return item"
   ]
  },
  {
   "cell_type": "code",
   "execution_count": 68,
   "metadata": {
    "collapsed": false
   },
   "outputs": [
    {
     "data": {
      "text/plain": [
       "array([0, 1, 0, 0, 0, 0, 0, 0, 0, 0, 0, 0, 0, 0, 0, 0, 1, 1, 0, 0, 0])"
      ]
     },
     "execution_count": 68,
     "metadata": {},
     "output_type": "execute_result"
    }
   ],
   "source": [
    "coded_in[0][0]"
   ]
  },
  {
   "cell_type": "code",
   "execution_count": 69,
   "metadata": {
    "collapsed": false
   },
   "outputs": [
    {
     "data": {
      "text/plain": [
       "'A'"
      ]
     },
     "execution_count": 69,
     "metadata": {},
     "output_type": "execute_result"
    }
   ],
   "source": [
    "reverse_phone(coded_in[0][0])"
   ]
  },
  {
   "cell_type": "code",
   "execution_count": 70,
   "metadata": {
    "collapsed": false
   },
   "outputs": [
    {
     "data": {
      "text/plain": [
       "'PAD'"
      ]
     },
     "execution_count": 70,
     "metadata": {},
     "output_type": "execute_result"
    }
   ],
   "source": [
    "reverse_phone([0, 0, 0, 0, 0, 0, 0, 0, 0, 0, 0, 0, 0, 0, 0, 0, 0, 0, 0, 0, 0])"
   ]
  },
  {
   "cell_type": "code",
   "execution_count": 71,
   "metadata": {
    "collapsed": false
   },
   "outputs": [
    {
     "data": {
      "text/plain": [
       "{'p': array([1, 0, 0, 0, 0, 1, 0, 0, 0, 0, 0, 0, 0, 0, 0, 0, 0, 0, 0, 0, 0]),\n",
       " 'b': array([1, 0, 0, 0, 0, 1, 0, 0, 0, 0, 0, 0, 1, 0, 0, 0, 0, 0, 0, 0, 0]),\n",
       " 'f': array([0, 0, 0, 1, 0, 0, 1, 0, 0, 0, 0, 0, 0, 0, 0, 0, 0, 0, 0, 0, 0]),\n",
       " 'v': array([0, 0, 0, 1, 0, 0, 1, 0, 0, 0, 0, 0, 1, 0, 0, 0, 0, 0, 0, 0, 0]),\n",
       " 't': array([1, 0, 0, 0, 0, 0, 0, 1, 0, 0, 0, 0, 0, 0, 0, 0, 0, 0, 0, 0, 0]),\n",
       " 'd': array([1, 0, 0, 0, 0, 0, 0, 1, 0, 0, 0, 0, 1, 0, 0, 0, 0, 0, 0, 0, 0]),\n",
       " 'm': array([0, 1, 0, 0, 0, 1, 0, 0, 0, 0, 0, 0, 0, 0, 0, 0, 0, 0, 0, 0, 0]),\n",
       " 'n': array([0, 1, 0, 0, 0, 0, 0, 1, 0, 0, 0, 0, 0, 0, 0, 0, 0, 0, 0, 0, 0]),\n",
       " 'k': array([1, 0, 0, 0, 0, 0, 0, 0, 0, 0, 1, 0, 0, 0, 0, 0, 0, 0, 0, 0, 0]),\n",
       " 'g': array([1, 0, 0, 0, 0, 0, 0, 0, 0, 0, 1, 0, 1, 0, 0, 0, 0, 0, 0, 0, 0]),\n",
       " 'N': array([0, 1, 0, 0, 0, 0, 0, 0, 0, 1, 0, 0, 0, 0, 0, 0, 0, 0, 0, 0, 0]),\n",
       " 'r': array([0, 0, 1, 0, 0, 0, 0, 1, 0, 0, 0, 0, 0, 0, 0, 0, 0, 0, 0, 0, 0]),\n",
       " 's': array([0, 0, 0, 1, 0, 0, 0, 1, 0, 0, 0, 0, 0, 0, 0, 0, 0, 0, 0, 0, 0]),\n",
       " 'z': array([0, 0, 0, 1, 0, 0, 0, 1, 0, 0, 0, 0, 1, 0, 0, 0, 0, 0, 0, 0, 0]),\n",
       " 'j': array([0, 0, 0, 1, 0, 0, 0, 0, 1, 0, 0, 0, 1, 0, 0, 0, 0, 0, 0, 0, 0]),\n",
       " 'l': array([0, 0, 0, 0, 1, 0, 0, 0, 1, 0, 0, 0, 0, 0, 0, 0, 0, 0, 0, 0, 0]),\n",
       " 'L': array([0, 0, 0, 0, 1, 0, 0, 0, 0, 1, 0, 0, 0, 0, 0, 0, 0, 0, 0, 0, 0]),\n",
       " 'h': array([0, 0, 0, 1, 0, 0, 0, 0, 0, 0, 0, 1, 0, 0, 0, 0, 0, 0, 0, 0, 0]),\n",
       " 'x': array([0, 0, 0, 1, 0, 0, 0, 0, 1, 0, 0, 0, 0, 0, 0, 0, 0, 0, 0, 0, 0]),\n",
       " 'i': array([0, 0, 0, 0, 0, 0, 0, 0, 0, 0, 0, 0, 0, 1, 0, 0, 0, 1, 0, 0, 0]),\n",
       " 'e': array([0, 0, 0, 0, 0, 0, 0, 0, 0, 0, 0, 0, 0, 0, 1, 0, 0, 1, 0, 0, 0]),\n",
       " 'E': array([0, 0, 0, 0, 0, 0, 0, 0, 0, 0, 0, 0, 0, 0, 0, 1, 0, 1, 0, 0, 0]),\n",
       " 'a': array([0, 0, 0, 0, 0, 0, 0, 0, 0, 0, 0, 0, 0, 0, 0, 0, 1, 1, 0, 0, 0]),\n",
       " 'u': array([0, 0, 0, 0, 0, 0, 0, 0, 0, 0, 0, 0, 0, 1, 0, 0, 0, 0, 1, 0, 0]),\n",
       " 'o': array([0, 0, 0, 0, 0, 0, 0, 0, 0, 0, 0, 0, 0, 0, 1, 0, 0, 0, 1, 0, 0]),\n",
       " 'O': array([0, 0, 0, 0, 0, 0, 0, 0, 0, 0, 0, 0, 0, 0, 0, 1, 0, 0, 1, 0, 0]),\n",
       " 'A': array([0, 1, 0, 0, 0, 0, 0, 0, 0, 0, 0, 0, 0, 0, 0, 0, 1, 1, 0, 0, 0]),\n",
       " '3': array([0, 1, 0, 0, 0, 0, 0, 0, 0, 0, 0, 0, 0, 0, 1, 0, 0, 1, 0, 0, 0]),\n",
       " 'PAD': array([0, 0, 0, 0, 0, 0, 0, 0, 0, 0, 0, 0, 0, 0, 0, 0, 0, 0, 0, 0, 0]),\n",
       " '#': array([0, 0, 0, 0, 0, 0, 0, 0, 0, 0, 0, 0, 0, 0, 0, 0, 0, 0, 0, 1, 0]),\n",
       " '$': array([0, 0, 0, 0, 0, 0, 0, 0, 0, 0, 0, 0, 0, 0, 0, 0, 0, 0, 0, 0, 1])}"
      ]
     },
     "execution_count": 71,
     "metadata": {},
     "output_type": "execute_result"
    }
   ],
   "source": [
    "lookup"
   ]
  },
  {
   "cell_type": "code",
   "execution_count": 72,
   "metadata": {
    "collapsed": true
   },
   "outputs": [],
   "source": [
    "del lookup['PAD']"
   ]
  },
  {
   "cell_type": "code",
   "execution_count": 73,
   "metadata": {
    "collapsed": true
   },
   "outputs": [],
   "source": [
    "with open('WickelfeaturesProject/Files/lookup.pickle', 'wb') as file:\n",
    "    pickle.dump(lookup, file, protocol=pickle.HIGHEST_PROTOCOL)"
   ]
  },
  {
   "cell_type": "code",
   "execution_count": 74,
   "metadata": {
    "collapsed": true
   },
   "outputs": [],
   "source": [
    "lookup['PAD'] = np.array([0, 0, 0, 0, 0, 0, 0, 0, 0, 0, 0, 0, 0, 0, 0, 0, 0, 0, 0, 0, 0])"
   ]
  },
  {
   "cell_type": "code",
   "execution_count": 75,
   "metadata": {
    "collapsed": true
   },
   "outputs": [],
   "source": [
    "with open('WickelfeaturesProject/Files/lookup.pickle', 'rb') as file:\n",
    "    lookup = pickle.load(file)\n",
    "    \n",
    "def decode_sequence(input_seq, renormalize=False):\n",
    "    # Encode the input as state vectors.\n",
    "    states_value = encoder_model.predict(input_seq)\n",
    "\n",
    "    # Generate empty target sequence of length 1.\n",
    "    target_seq = np.zeros((1, 1, 21)) # max decoder len = 13, 21 features\n",
    "    max_decoder_seq_length = 13\n",
    "    \n",
    "    #Populate the first character of target sequence with the start character.\n",
    "    target_seq= lookup['#'].reshape(1, 1, -1)\n",
    "\n",
    "    # Sampling loop for a batch of sequences\n",
    "    # (to simplify, here we assume a batch of size 1).\n",
    "    stop_condition = False\n",
    "    decoded_verb = ''\n",
    "    while not stop_condition:\n",
    "        output_phones, h, c = decoder_model.predict(\n",
    "            [target_seq] + states_value)\n",
    "\n",
    "        # Sample a phone\n",
    "        if renormalize:\n",
    "            sampled_phone = find_closest_array(output_phones[0, -1, :]/omega)\n",
    "        else:\n",
    "            sampled_phone = find_closest_array(output_phones[0, -1, :])                                               \n",
    "        sampled_phone_vector = lookup[sampled_phone]\n",
    "        decoded_verb += sampled_phone\n",
    "        # Exit condition: either hit max length\n",
    "        # or find stop character.\n",
    "        if (sampled_phone == '$' or \n",
    "           len(decoded_verb) > max_decoder_seq_length):\n",
    "            stop_condition = True\n",
    "\n",
    "        # Update the target sequence (of length 1).\n",
    "        target_seq = sampled_phone_vector.reshape(1, 1, -1)\n",
    "#         target_seq = np.zeros((1, 1, num_decoder_tokens))\n",
    "#         target_seq[0, 0, sampled_phone_vector] = 1.\n",
    "\n",
    "        # Update states\n",
    "        states_value = [h, c]\n",
    "\n",
    "    return decoded_verb[:-1]\n",
    "\n",
    "def decode_sequences(seq, renormalize=False):\n",
    "    if len(seq.shape) == 3:\n",
    "        return [decode_sequence(s.reshape(1,*s.shape), renormalize=renormalize) for s in seq]\n",
    "    else:\n",
    "        return [decode_sequence(seq.reshape(1,*seq.shape), renormalize=renormalize)]"
   ]
  },
  {
   "cell_type": "markdown",
   "metadata": {},
   "source": [
    "# Test"
   ]
  },
  {
   "cell_type": "code",
   "execution_count": 77,
   "metadata": {
    "collapsed": true
   },
   "outputs": [],
   "source": [
    "omega = 2*padded_out.mean(axis=0).mean(axis=0)"
   ]
  },
  {
   "cell_type": "code",
   "execution_count": 83,
   "metadata": {
    "collapsed": false
   },
   "outputs": [
    {
     "data": {
      "text/html": [
       "<div>\n",
       "<style scoped>\n",
       "    .dataframe tbody tr th:only-of-type {\n",
       "        vertical-align: middle;\n",
       "    }\n",
       "\n",
       "    .dataframe tbody tr th {\n",
       "        vertical-align: top;\n",
       "    }\n",
       "\n",
       "    .dataframe thead th {\n",
       "        text-align: right;\n",
       "    }\n",
       "</style>\n",
       "<table border=\"1\" class=\"dataframe\">\n",
       "  <thead>\n",
       "    <tr style=\"text-align: right;\">\n",
       "      <th></th>\n",
       "      <th>No renorm</th>\n",
       "      <th>Renorm</th>\n",
       "    </tr>\n",
       "  </thead>\n",
       "  <tbody>\n",
       "    <tr>\n",
       "      <th>sabe</th>\n",
       "      <td>sabu</td>\n",
       "      <td>sabu</td>\n",
       "    </tr>\n",
       "    <tr>\n",
       "      <th>ekivale</th>\n",
       "      <td>egili</td>\n",
       "      <td>egeligu</td>\n",
       "    </tr>\n",
       "    <tr>\n",
       "      <th>prove</th>\n",
       "      <td>provu</td>\n",
       "      <td>provu</td>\n",
       "    </tr>\n",
       "    <tr>\n",
       "      <th>traze</th>\n",
       "      <td>trazu</td>\n",
       "      <td>trazu</td>\n",
       "    </tr>\n",
       "    <tr>\n",
       "      <th>pode</th>\n",
       "      <td>pOtu</td>\n",
       "      <td>bOsu</td>\n",
       "    </tr>\n",
       "    <tr>\n",
       "      <th>desda</th>\n",
       "      <td>desku</td>\n",
       "      <td>dezku</td>\n",
       "    </tr>\n",
       "    <tr>\n",
       "      <th>idea</th>\n",
       "      <td>idiu</td>\n",
       "      <td>adiu</td>\n",
       "    </tr>\n",
       "    <tr>\n",
       "      <th>estrea</th>\n",
       "      <td>estreiu</td>\n",
       "      <td>estreiu</td>\n",
       "    </tr>\n",
       "    <tr>\n",
       "      <th>da</th>\n",
       "      <td>diu</td>\n",
       "      <td>diu</td>\n",
       "    </tr>\n",
       "    <tr>\n",
       "      <th>sobresta</th>\n",
       "      <td>sospretu</td>\n",
       "      <td>sosprAtu</td>\n",
       "    </tr>\n",
       "    <tr>\n",
       "      <th>esta</th>\n",
       "      <td>estu</td>\n",
       "      <td>estu</td>\n",
       "    </tr>\n",
       "    <tr>\n",
       "      <th>kabe</th>\n",
       "      <td>kabu</td>\n",
       "      <td>kabu</td>\n",
       "    </tr>\n",
       "    <tr>\n",
       "      <th>ouvi</th>\n",
       "      <td>ofuu</td>\n",
       "      <td>ovuu</td>\n",
       "    </tr>\n",
       "    <tr>\n",
       "      <th>entreouvi</th>\n",
       "      <td>entruvipu</td>\n",
       "      <td>entrovugu</td>\n",
       "    </tr>\n",
       "    <tr>\n",
       "      <th>heouvi</th>\n",
       "      <td>hofu</td>\n",
       "      <td>hovu</td>\n",
       "    </tr>\n",
       "    <tr>\n",
       "      <th>pari</th>\n",
       "      <td>paru</td>\n",
       "      <td>paru</td>\n",
       "    </tr>\n",
       "    <tr>\n",
       "      <th>perde</th>\n",
       "      <td>pertu</td>\n",
       "      <td>perdu</td>\n",
       "    </tr>\n",
       "    <tr>\n",
       "      <th>testa</th>\n",
       "      <td>testu</td>\n",
       "      <td>testu</td>\n",
       "    </tr>\n",
       "    <tr>\n",
       "      <th>obiserva</th>\n",
       "      <td>oo</td>\n",
       "      <td>kofervaru</td>\n",
       "    </tr>\n",
       "    <tr>\n",
       "      <th>eskolie</th>\n",
       "      <td>eskoleuu</td>\n",
       "      <td>esgleLu</td>\n",
       "    </tr>\n",
       "    <tr>\n",
       "      <th>konversa</th>\n",
       "      <td>konfessu</td>\n",
       "      <td>konv3ssu</td>\n",
       "    </tr>\n",
       "    <tr>\n",
       "      <th>fexa</th>\n",
       "      <td>fexu</td>\n",
       "      <td>felu</td>\n",
       "    </tr>\n",
       "    <tr>\n",
       "      <th>gosta</th>\n",
       "      <td>gostu</td>\n",
       "      <td>gOstu</td>\n",
       "    </tr>\n",
       "    <tr>\n",
       "      <th>volta</th>\n",
       "      <td>ju</td>\n",
       "      <td>jolgu</td>\n",
       "    </tr>\n",
       "    <tr>\n",
       "      <th>espresa</th>\n",
       "      <td>espresu</td>\n",
       "      <td>espresu</td>\n",
       "    </tr>\n",
       "    <tr>\n",
       "      <th>pasea</th>\n",
       "      <td>parexu</td>\n",
       "      <td>parexu</td>\n",
       "    </tr>\n",
       "    <tr>\n",
       "      <th>akorda</th>\n",
       "      <td>akOrdu</td>\n",
       "      <td>akOrdu</td>\n",
       "    </tr>\n",
       "    <tr>\n",
       "      <th>korta</th>\n",
       "      <td>kortu</td>\n",
       "      <td>kortu</td>\n",
       "    </tr>\n",
       "    <tr>\n",
       "      <th>aumosa</th>\n",
       "      <td>imub</td>\n",
       "      <td>imubru</td>\n",
       "    </tr>\n",
       "    <tr>\n",
       "      <th>injeri</th>\n",
       "      <td>infasu</td>\n",
       "      <td>infaxu</td>\n",
       "    </tr>\n",
       "  </tbody>\n",
       "</table>\n",
       "</div>"
      ],
      "text/plain": [
       "           No renorm     Renorm\n",
       "sabe            sabu       sabu\n",
       "ekivale        egili    egeligu\n",
       "prove          provu      provu\n",
       "traze          trazu      trazu\n",
       "pode            pOtu       bOsu\n",
       "desda          desku      dezku\n",
       "idea            idiu       adiu\n",
       "estrea       estreiu    estreiu\n",
       "da               diu        diu\n",
       "sobresta    sospretu   sosprAtu\n",
       "esta            estu       estu\n",
       "kabe            kabu       kabu\n",
       "ouvi            ofuu       ovuu\n",
       "entreouvi  entruvipu  entrovugu\n",
       "heouvi          hofu       hovu\n",
       "pari            paru       paru\n",
       "perde          pertu      perdu\n",
       "testa          testu      testu\n",
       "obiserva          oo  kofervaru\n",
       "eskolie     eskoleuu    esgleLu\n",
       "konversa    konfessu   konv3ssu\n",
       "fexa            fexu       felu\n",
       "gosta          gostu      gOstu\n",
       "volta             ju      jolgu\n",
       "espresa      espresu    espresu\n",
       "pasea         parexu     parexu\n",
       "akorda        akOrdu     akOrdu\n",
       "korta          kortu      kortu\n",
       "aumosa          imub     imubru\n",
       "injeri        infasu     infaxu"
      ]
     },
     "execution_count": 83,
     "metadata": {},
     "output_type": "execute_result"
    }
   ],
   "source": [
    "pd.DataFrame([decode_sequences(x_test), decode_sequences(x_test,True)], columns=input_texts.tolist(), index=['No renorm', 'Renorm']).T"
   ]
  },
  {
   "cell_type": "code",
   "execution_count": 84,
   "metadata": {
    "collapsed": false
   },
   "outputs": [
    {
     "data": {
      "text/html": [
       "<div>\n",
       "<style scoped>\n",
       "    .dataframe tbody tr th:only-of-type {\n",
       "        vertical-align: middle;\n",
       "    }\n",
       "\n",
       "    .dataframe tbody tr th {\n",
       "        vertical-align: top;\n",
       "    }\n",
       "\n",
       "    .dataframe thead th {\n",
       "        text-align: right;\n",
       "    }\n",
       "</style>\n",
       "<table border=\"1\" class=\"dataframe\">\n",
       "  <thead>\n",
       "    <tr style=\"text-align: right;\">\n",
       "      <th></th>\n",
       "      <th>0</th>\n",
       "    </tr>\n",
       "  </thead>\n",
       "  <tbody>\n",
       "    <tr>\n",
       "      <th>Ansia</th>\n",
       "      <td>Anseiu</td>\n",
       "    </tr>\n",
       "    <tr>\n",
       "      <th>odia</th>\n",
       "      <td>odeiu</td>\n",
       "    </tr>\n",
       "    <tr>\n",
       "      <th>pleitea</th>\n",
       "      <td>pleiteiu</td>\n",
       "    </tr>\n",
       "    <tr>\n",
       "      <th>ins3ndia</th>\n",
       "      <td>ins3ndeiu</td>\n",
       "    </tr>\n",
       "    <tr>\n",
       "      <th>sortea</th>\n",
       "      <td>sorteiu</td>\n",
       "    </tr>\n",
       "    <tr>\n",
       "      <th>hemedia</th>\n",
       "      <td>hemedeiu</td>\n",
       "    </tr>\n",
       "    <tr>\n",
       "      <th>intermedia</th>\n",
       "      <td>intermedeiu</td>\n",
       "    </tr>\n",
       "    <tr>\n",
       "      <th>media</th>\n",
       "      <td>medeiu</td>\n",
       "    </tr>\n",
       "    <tr>\n",
       "      <th>oLa</th>\n",
       "      <td>OLu</td>\n",
       "    </tr>\n",
       "    <tr>\n",
       "      <th>koloka</th>\n",
       "      <td>kolOku</td>\n",
       "    </tr>\n",
       "  </tbody>\n",
       "</table>\n",
       "</div>"
      ],
      "text/plain": [
       "                      0\n",
       "Ansia            Anseiu\n",
       "odia              odeiu\n",
       "pleitea        pleiteiu\n",
       "ins3ndia      ins3ndeiu\n",
       "sortea          sorteiu\n",
       "hemedia        hemedeiu\n",
       "intermedia  intermedeiu\n",
       "media            medeiu\n",
       "oLa                 OLu\n",
       "koloka           kolOku"
      ]
     },
     "execution_count": 84,
     "metadata": {},
     "output_type": "execute_result"
    }
   ],
   "source": [
    "#pd.DataFrame(decode_sequences(padded_in[:10]), corpu9s.inf_verb.tolist()[:10])"
   ]
  },
  {
   "cell_type": "markdown",
   "metadata": {},
   "source": [
    "# Learning Curve x Train Size"
   ]
  },
  {
   "cell_type": "code",
   "execution_count": 30,
   "metadata": {
    "collapsed": false
   },
   "outputs": [
    {
     "name": "stdout",
     "output_type": "stream",
     "text": [
      "CPU times: user 35min 18s, sys: 3min 47s, total: 39min 5s\n",
      "Wall time: 11min 20s\n"
     ]
    }
   ],
   "source": [
    "%%time\n",
    "# Run training\n",
    "\n",
    "def train(length):\n",
    "    latent_dim = 256\n",
    "    num_encoder_tokens = 21\n",
    "\n",
    "    # Define an input sequence and process it.\n",
    "    encoder_inputs = Input(shape=(None, num_encoder_tokens)) #19\n",
    "    #encoder_inputs = Masking()(encoder_inputs) # Assuming PAD is zeros\n",
    "    encoder = LSTM(latent_dim, return_state=True)\n",
    "    # Now the LSTM will ignore the PADs when encoding\n",
    "    # by skipping those timesteps that are masked\n",
    "    encoder_outputs, state_h, state_c = encoder(encoder_inputs)\n",
    "    # We discard `encoder_outputs` and only keep the states.\n",
    "    encoder_states = [state_h, state_c]\n",
    "\n",
    "    # Set up the decoder, using `encoder_states` as initial state.\n",
    "    num_decoder_tokens = 21\n",
    "    decoder_inputs = Input(shape=(None, num_decoder_tokens))\n",
    "    # We set up our decoder to return full output sequences,\n",
    "    # and to return internal states as well. We don't use the\n",
    "    # return states in the training model, but we will use them in inference.\n",
    "    decoder_lstm = LSTM(latent_dim, return_sequences=True, return_state=True)\n",
    "    decoder_outputs, _, _ = decoder_lstm(decoder_inputs,\n",
    "                             initial_state=encoder_states)\n",
    "    decoder_dense = Dense(num_decoder_tokens, activation='sigmoid')\n",
    "    decoder_outputs = decoder_dense(decoder_outputs)\n",
    "\n",
    "    # Define the model that will turn\n",
    "    # `encoder_input_data` & `decoder_input_data` into `decoder_target_data`\n",
    "    model = Model([encoder_inputs, decoder_inputs], decoder_outputs)\n",
    "\n",
    "    keras_metrics = KerasMetrics()\n",
    "    model.compile(optimizer=opt, loss='binary_crossentropy', metrics=[ keras_metrics.fbeta_score,\n",
    "                   keras_metrics.recall,\n",
    "                   keras_metrics.precision]) #, mean_pred],)\n",
    "    history = model.fit([padded_in[:length], padded_out[:length]],\n",
    "                        padded_out_target[:length],\n",
    "                        batch_size=128,\n",
    "                        epochs=300,\n",
    "                        validation_split=0.2,verbose=False)\n",
    "    \n",
    "    return history.history['val_fbeta_score'][-1], history.history['recall'][-1], history.history['precision'][-1]\n",
    "\n",
    "lc = {}\n",
    "for length in [100, 150, 250, 300, 393]:\n",
    "    lc[length] = train(length)"
   ]
  },
  {
   "cell_type": "code",
   "execution_count": 31,
   "metadata": {
    "collapsed": false
   },
   "outputs": [
    {
     "data": {
      "text/plain": [
       "{100: (0.5534803867340088, 0.6876574158668518, 0.9181614518165588),\n",
       " 150: (0.5637180805206299, 0.7294632792472839, 0.9192546606063843),\n",
       " 250: (0.7961629629135132, 0.8921688175201417, 0.9658581089973449),\n",
       " 300: (0.7927590012550354, 0.9350285490353902, 0.9777678648630778),\n",
       " 393: (0.7852533459663391, 0.9763083427574983, 0.9875784125297692)}"
      ]
     },
     "execution_count": 31,
     "metadata": {},
     "output_type": "execute_result"
    }
   ],
   "source": [
    "lc"
   ]
  },
  {
   "cell_type": "markdown",
   "metadata": {},
   "source": [
    "with open('WickelfeaturesProject/Files/learning_curve.pickle', 'wb') as file:\n",
    "    pickle.dump(lc, file, protocol=pickle.HIGHEST_PROTOCOL)"
   ]
  },
  {
   "cell_type": "code",
   "execution_count": null,
   "metadata": {
    "collapsed": true
   },
   "outputs": [],
   "source": [
    "with open('WickelfeaturesProject/Files/lc.pickle', 'rb') as file:\n",
    "    lc = pickle.load(file)"
   ]
  },
  {
   "cell_type": "markdown",
   "metadata": {},
   "source": [
    "# Error Analysis"
   ]
  },
  {
   "cell_type": "markdown",
   "metadata": {},
   "source": [
    "Let's generate a test set that is fair with respesct to the representativity of multiple irregular classes."
   ]
  },
  {
   "cell_type": "code",
   "execution_count": 100,
   "metadata": {
    "collapsed": false
   },
   "outputs": [],
   "source": [
    "frame = pd.read_csv(\"WickelfeaturesProject/Corpus_new_coding/403verbs.csv\")"
   ]
  },
  {
   "cell_type": "code",
   "execution_count": 101,
   "metadata": {
    "collapsed": false
   },
   "outputs": [],
   "source": [
    "df, coded_in, coded_out, padded_in, padded_out = preprocessing(frame)"
   ]
  },
  {
   "cell_type": "code",
   "execution_count": 102,
   "metadata": {
    "collapsed": false
   },
   "outputs": [
    {
     "data": {
      "text/html": [
       "<div>\n",
       "<style scoped>\n",
       "    .dataframe tbody tr th:only-of-type {\n",
       "        vertical-align: middle;\n",
       "    }\n",
       "\n",
       "    .dataframe tbody tr th {\n",
       "        vertical-align: top;\n",
       "    }\n",
       "\n",
       "    .dataframe thead th {\n",
       "        text-align: right;\n",
       "    }\n",
       "</style>\n",
       "<table border=\"1\" class=\"dataframe\">\n",
       "  <thead>\n",
       "    <tr style=\"text-align: right;\">\n",
       "      <th></th>\n",
       "      <th>inf_verb</th>\n",
       "      <th>conj_verb</th>\n",
       "    </tr>\n",
       "  </thead>\n",
       "  <tbody>\n",
       "    <tr>\n",
       "      <th>0</th>\n",
       "      <td>Ansia</td>\n",
       "      <td>#Anseiu$</td>\n",
       "    </tr>\n",
       "    <tr>\n",
       "      <th>1</th>\n",
       "      <td>odia</td>\n",
       "      <td>#odeiu$</td>\n",
       "    </tr>\n",
       "    <tr>\n",
       "      <th>2</th>\n",
       "      <td>pleitea</td>\n",
       "      <td>#pleiteiu$</td>\n",
       "    </tr>\n",
       "    <tr>\n",
       "      <th>3</th>\n",
       "      <td>ins3ndia</td>\n",
       "      <td>#ins3ndeiu$</td>\n",
       "    </tr>\n",
       "    <tr>\n",
       "      <th>4</th>\n",
       "      <td>sortea</td>\n",
       "      <td>#sorteiu$</td>\n",
       "    </tr>\n",
       "    <tr>\n",
       "      <th>5</th>\n",
       "      <td>hemedia</td>\n",
       "      <td>#hemedeiu$</td>\n",
       "    </tr>\n",
       "    <tr>\n",
       "      <th>6</th>\n",
       "      <td>intermedia</td>\n",
       "      <td>#intermedeiu$</td>\n",
       "    </tr>\n",
       "    <tr>\n",
       "      <th>7</th>\n",
       "      <td>media</td>\n",
       "      <td>#medeiu$</td>\n",
       "    </tr>\n",
       "    <tr>\n",
       "      <th>8</th>\n",
       "      <td>pasea</td>\n",
       "      <td>#paseiu$</td>\n",
       "    </tr>\n",
       "    <tr>\n",
       "      <th>9</th>\n",
       "      <td>oLa</td>\n",
       "      <td>#OLu$</td>\n",
       "    </tr>\n",
       "    <tr>\n",
       "      <th>10</th>\n",
       "      <td>koloka</td>\n",
       "      <td>#kolOku$</td>\n",
       "    </tr>\n",
       "    <tr>\n",
       "      <th>11</th>\n",
       "      <td>informa</td>\n",
       "      <td>#infOrmu$</td>\n",
       "    </tr>\n",
       "    <tr>\n",
       "      <th>12</th>\n",
       "      <td>torna</td>\n",
       "      <td>#tOrnu$</td>\n",
       "    </tr>\n",
       "    <tr>\n",
       "      <th>13</th>\n",
       "      <td>boia</td>\n",
       "      <td>#bOiu$</td>\n",
       "    </tr>\n",
       "    <tr>\n",
       "      <th>14</th>\n",
       "      <td>bota</td>\n",
       "      <td>#bOtu$</td>\n",
       "    </tr>\n",
       "    <tr>\n",
       "      <th>15</th>\n",
       "      <td>toka</td>\n",
       "      <td>#tOku$</td>\n",
       "    </tr>\n",
       "    <tr>\n",
       "      <th>16</th>\n",
       "      <td>foka</td>\n",
       "      <td>#fOku$</td>\n",
       "    </tr>\n",
       "    <tr>\n",
       "      <th>17</th>\n",
       "      <td>mostra</td>\n",
       "      <td>#mOstru$</td>\n",
       "    </tr>\n",
       "    <tr>\n",
       "      <th>18</th>\n",
       "      <td>xora</td>\n",
       "      <td>#xOru$</td>\n",
       "    </tr>\n",
       "    <tr>\n",
       "      <th>19</th>\n",
       "      <td>nota</td>\n",
       "      <td>#nOtu$</td>\n",
       "    </tr>\n",
       "    <tr>\n",
       "      <th>20</th>\n",
       "      <td>tostar</td>\n",
       "      <td>#tOstu$</td>\n",
       "    </tr>\n",
       "    <tr>\n",
       "      <th>21</th>\n",
       "      <td>troka</td>\n",
       "      <td>#trOku$</td>\n",
       "    </tr>\n",
       "    <tr>\n",
       "      <th>22</th>\n",
       "      <td>heboka</td>\n",
       "      <td>#hebOku$</td>\n",
       "    </tr>\n",
       "    <tr>\n",
       "      <th>23</th>\n",
       "      <td>soka</td>\n",
       "      <td>#sOku$</td>\n",
       "    </tr>\n",
       "    <tr>\n",
       "      <th>24</th>\n",
       "      <td>kosa</td>\n",
       "      <td>#kOsu$</td>\n",
       "    </tr>\n",
       "    <tr>\n",
       "      <th>25</th>\n",
       "      <td>toma</td>\n",
       "      <td>#tOmu$</td>\n",
       "    </tr>\n",
       "    <tr>\n",
       "      <th>26</th>\n",
       "      <td>hekorta</td>\n",
       "      <td>#hekOrtu$</td>\n",
       "    </tr>\n",
       "    <tr>\n",
       "      <th>27</th>\n",
       "      <td>3ntorta</td>\n",
       "      <td>#3ntOrtu$</td>\n",
       "    </tr>\n",
       "    <tr>\n",
       "      <th>28</th>\n",
       "      <td>3nkosta</td>\n",
       "      <td>#3nkOstu$</td>\n",
       "    </tr>\n",
       "    <tr>\n",
       "      <th>29</th>\n",
       "      <td>hetorna</td>\n",
       "      <td>#hetOrnu$</td>\n",
       "    </tr>\n",
       "    <tr>\n",
       "      <th>...</th>\n",
       "      <td>...</td>\n",
       "      <td>...</td>\n",
       "    </tr>\n",
       "    <tr>\n",
       "      <th>373</th>\n",
       "      <td>mAnifesta</td>\n",
       "      <td>#mAnifEstu$</td>\n",
       "    </tr>\n",
       "    <tr>\n",
       "      <th>374</th>\n",
       "      <td>infekita</td>\n",
       "      <td>#infEkitu$</td>\n",
       "    </tr>\n",
       "    <tr>\n",
       "      <th>375</th>\n",
       "      <td>empresta</td>\n",
       "      <td>#emprEstu$</td>\n",
       "    </tr>\n",
       "    <tr>\n",
       "      <th>376</th>\n",
       "      <td>detesta</td>\n",
       "      <td>#detEstu$</td>\n",
       "    </tr>\n",
       "    <tr>\n",
       "      <th>377</th>\n",
       "      <td>testa</td>\n",
       "      <td>#tEstu$</td>\n",
       "    </tr>\n",
       "    <tr>\n",
       "      <th>378</th>\n",
       "      <td>pega</td>\n",
       "      <td>#pEgu$</td>\n",
       "    </tr>\n",
       "    <tr>\n",
       "      <th>379</th>\n",
       "      <td>sega</td>\n",
       "      <td>#sEgu$</td>\n",
       "    </tr>\n",
       "    <tr>\n",
       "      <th>380</th>\n",
       "      <td>seka</td>\n",
       "      <td>#sEku$</td>\n",
       "    </tr>\n",
       "    <tr>\n",
       "      <th>381</th>\n",
       "      <td>leva</td>\n",
       "      <td>#lEvu$</td>\n",
       "    </tr>\n",
       "    <tr>\n",
       "      <th>382</th>\n",
       "      <td>obiserva</td>\n",
       "      <td>#obisErvu$</td>\n",
       "    </tr>\n",
       "    <tr>\n",
       "      <th>383</th>\n",
       "      <td>konversa</td>\n",
       "      <td>#konvErsu$</td>\n",
       "    </tr>\n",
       "    <tr>\n",
       "      <th>384</th>\n",
       "      <td>fexa</td>\n",
       "      <td>#fExu$</td>\n",
       "    </tr>\n",
       "    <tr>\n",
       "      <th>385</th>\n",
       "      <td>espresa</td>\n",
       "      <td>#esprEsu$</td>\n",
       "    </tr>\n",
       "    <tr>\n",
       "      <th>386</th>\n",
       "      <td>preve</td>\n",
       "      <td>#preveju$</td>\n",
       "    </tr>\n",
       "    <tr>\n",
       "      <th>387</th>\n",
       "      <td>Anteve</td>\n",
       "      <td>#Anteveju$</td>\n",
       "    </tr>\n",
       "    <tr>\n",
       "      <th>388</th>\n",
       "      <td>interver</td>\n",
       "      <td>#interveju$</td>\n",
       "    </tr>\n",
       "    <tr>\n",
       "      <th>389</th>\n",
       "      <td>heve</td>\n",
       "      <td>#heveju$</td>\n",
       "    </tr>\n",
       "    <tr>\n",
       "      <th>390</th>\n",
       "      <td>3ntreve</td>\n",
       "      <td>#3ntreveju$</td>\n",
       "    </tr>\n",
       "    <tr>\n",
       "      <th>391</th>\n",
       "      <td>ve</td>\n",
       "      <td>#veju$</td>\n",
       "    </tr>\n",
       "    <tr>\n",
       "      <th>392</th>\n",
       "      <td>obivi</td>\n",
       "      <td>#obiv3Nu$</td>\n",
       "    </tr>\n",
       "    <tr>\n",
       "      <th>393</th>\n",
       "      <td>hekonvi</td>\n",
       "      <td>#hekonv3Nu$</td>\n",
       "    </tr>\n",
       "    <tr>\n",
       "      <th>394</th>\n",
       "      <td>vi</td>\n",
       "      <td>#v3Nu$</td>\n",
       "    </tr>\n",
       "    <tr>\n",
       "      <th>395</th>\n",
       "      <td>adivi</td>\n",
       "      <td>#adiv3Nu$</td>\n",
       "    </tr>\n",
       "    <tr>\n",
       "      <th>396</th>\n",
       "      <td>deskonvi</td>\n",
       "      <td>#deskonv3Nu$</td>\n",
       "    </tr>\n",
       "    <tr>\n",
       "      <th>397</th>\n",
       "      <td>avi</td>\n",
       "      <td>#av3Nu$</td>\n",
       "    </tr>\n",
       "    <tr>\n",
       "      <th>398</th>\n",
       "      <td>dezavi</td>\n",
       "      <td>#dezav3Nu$</td>\n",
       "    </tr>\n",
       "    <tr>\n",
       "      <th>399</th>\n",
       "      <td>provi</td>\n",
       "      <td>#prov3Nu$</td>\n",
       "    </tr>\n",
       "    <tr>\n",
       "      <th>400</th>\n",
       "      <td>hevi</td>\n",
       "      <td>#hev3Nu$</td>\n",
       "    </tr>\n",
       "    <tr>\n",
       "      <th>401</th>\n",
       "      <td>konvi</td>\n",
       "      <td>#konv3Nu$</td>\n",
       "    </tr>\n",
       "    <tr>\n",
       "      <th>402</th>\n",
       "      <td>sobrevi</td>\n",
       "      <td>#sobrev3Nu$</td>\n",
       "    </tr>\n",
       "  </tbody>\n",
       "</table>\n",
       "<p>403 rows × 2 columns</p>\n",
       "</div>"
      ],
      "text/plain": [
       "       inf_verb      conj_verb\n",
       "0         Ansia       #Anseiu$\n",
       "1          odia        #odeiu$\n",
       "2       pleitea     #pleiteiu$\n",
       "3      ins3ndia    #ins3ndeiu$\n",
       "4        sortea      #sorteiu$\n",
       "5       hemedia     #hemedeiu$\n",
       "6    intermedia  #intermedeiu$\n",
       "7         media       #medeiu$\n",
       "8         pasea       #paseiu$\n",
       "9           oLa          #OLu$\n",
       "10       koloka       #kolOku$\n",
       "11      informa      #infOrmu$\n",
       "12        torna        #tOrnu$\n",
       "13         boia         #bOiu$\n",
       "14         bota         #bOtu$\n",
       "15         toka         #tOku$\n",
       "16         foka         #fOku$\n",
       "17       mostra       #mOstru$\n",
       "18         xora         #xOru$\n",
       "19         nota         #nOtu$\n",
       "20       tostar        #tOstu$\n",
       "21        troka        #trOku$\n",
       "22       heboka       #hebOku$\n",
       "23         soka         #sOku$\n",
       "24         kosa         #kOsu$\n",
       "25         toma         #tOmu$\n",
       "26      hekorta      #hekOrtu$\n",
       "27      3ntorta      #3ntOrtu$\n",
       "28      3nkosta      #3nkOstu$\n",
       "29      hetorna      #hetOrnu$\n",
       "..          ...            ...\n",
       "373   mAnifesta    #mAnifEstu$\n",
       "374    infekita     #infEkitu$\n",
       "375    empresta     #emprEstu$\n",
       "376     detesta      #detEstu$\n",
       "377       testa        #tEstu$\n",
       "378        pega         #pEgu$\n",
       "379        sega         #sEgu$\n",
       "380        seka         #sEku$\n",
       "381        leva         #lEvu$\n",
       "382    obiserva     #obisErvu$\n",
       "383    konversa     #konvErsu$\n",
       "384        fexa         #fExu$\n",
       "385     espresa      #esprEsu$\n",
       "386       preve      #preveju$\n",
       "387      Anteve     #Anteveju$\n",
       "388    interver    #interveju$\n",
       "389        heve       #heveju$\n",
       "390     3ntreve    #3ntreveju$\n",
       "391          ve         #veju$\n",
       "392       obivi      #obiv3Nu$\n",
       "393     hekonvi    #hekonv3Nu$\n",
       "394          vi         #v3Nu$\n",
       "395       adivi      #adiv3Nu$\n",
       "396    deskonvi   #deskonv3Nu$\n",
       "397         avi        #av3Nu$\n",
       "398      dezavi     #dezav3Nu$\n",
       "399       provi      #prov3Nu$\n",
       "400        hevi       #hev3Nu$\n",
       "401       konvi      #konv3Nu$\n",
       "402     sobrevi    #sobrev3Nu$\n",
       "\n",
       "[403 rows x 2 columns]"
      ]
     },
     "execution_count": 102,
     "metadata": {},
     "output_type": "execute_result"
    }
   ],
   "source": [
    "df"
   ]
  },
  {
   "cell_type": "code",
   "execution_count": 43,
   "metadata": {
    "collapsed": false
   },
   "outputs": [
    {
     "data": {
      "text/plain": [
       "(403, 4)"
      ]
     },
     "execution_count": 43,
     "metadata": {},
     "output_type": "execute_result"
    }
   ],
   "source": [
    "frame.shape"
   ]
  },
  {
   "cell_type": "code",
   "execution_count": 44,
   "metadata": {
    "collapsed": false
   },
   "outputs": [
    {
     "data": {
      "text/plain": [
       "322.40000000000003"
      ]
     },
     "execution_count": 44,
     "metadata": {},
     "output_type": "execute_result"
    }
   ],
   "source": [
    "0.8*403"
   ]
  },
  {
   "cell_type": "code",
   "execution_count": 39,
   "metadata": {
    "collapsed": false
   },
   "outputs": [
    {
     "data": {
      "text/html": [
       "<div>\n",
       "<style scoped>\n",
       "    .dataframe tbody tr th:only-of-type {\n",
       "        vertical-align: middle;\n",
       "    }\n",
       "\n",
       "    .dataframe tbody tr th {\n",
       "        vertical-align: top;\n",
       "    }\n",
       "\n",
       "    .dataframe thead th {\n",
       "        text-align: right;\n",
       "    }\n",
       "</style>\n",
       "<table border=\"1\" class=\"dataframe\">\n",
       "  <thead>\n",
       "    <tr style=\"text-align: right;\">\n",
       "      <th></th>\n",
       "      <th>verb0</th>\n",
       "      <th>inf_verb</th>\n",
       "      <th>conj_verb0</th>\n",
       "      <th>conj_verb</th>\n",
       "    </tr>\n",
       "  </thead>\n",
       "  <tbody>\n",
       "    <tr>\n",
       "      <th>0</th>\n",
       "      <td>ansiar</td>\n",
       "      <td>#ansia#</td>\n",
       "      <td>anseio</td>\n",
       "      <td>#anseiu#</td>\n",
       "    </tr>\n",
       "    <tr>\n",
       "      <th>1</th>\n",
       "      <td>odiar</td>\n",
       "      <td>#odia#</td>\n",
       "      <td>odeio</td>\n",
       "      <td>#odeiu#</td>\n",
       "    </tr>\n",
       "    <tr>\n",
       "      <th>2</th>\n",
       "      <td>pleitear</td>\n",
       "      <td>#pleitea#</td>\n",
       "      <td>pleiteio</td>\n",
       "      <td>#pleiteiu#</td>\n",
       "    </tr>\n",
       "    <tr>\n",
       "      <th>3</th>\n",
       "      <td>incendiar</td>\n",
       "      <td>#insendia#</td>\n",
       "      <td>incenceio</td>\n",
       "      <td>#insendeiu#</td>\n",
       "    </tr>\n",
       "    <tr>\n",
       "      <th>4</th>\n",
       "      <td>sortear</td>\n",
       "      <td>#sortea#</td>\n",
       "      <td>sorteio</td>\n",
       "      <td>#sorteiu#</td>\n",
       "    </tr>\n",
       "    <tr>\n",
       "      <th>5</th>\n",
       "      <td>remediar</td>\n",
       "      <td>#hemedia#</td>\n",
       "      <td>remedeio</td>\n",
       "      <td>#hemedeiu#</td>\n",
       "    </tr>\n",
       "    <tr>\n",
       "      <th>6</th>\n",
       "      <td>intermediar</td>\n",
       "      <td>#intermedia#</td>\n",
       "      <td>intermedeio</td>\n",
       "      <td>#intermedeiu#</td>\n",
       "    </tr>\n",
       "    <tr>\n",
       "      <th>7</th>\n",
       "      <td>mediar</td>\n",
       "      <td>#media#</td>\n",
       "      <td>medeio</td>\n",
       "      <td>#medeiu#</td>\n",
       "    </tr>\n",
       "    <tr>\n",
       "      <th>8</th>\n",
       "      <td>passear</td>\n",
       "      <td>#pasea#</td>\n",
       "      <td>passeio</td>\n",
       "      <td>#paseiu#</td>\n",
       "    </tr>\n",
       "  </tbody>\n",
       "</table>\n",
       "</div>"
      ],
      "text/plain": [
       "         verb0      inf_verb   conj_verb0      conj_verb\n",
       "0       ansiar       #ansia#       anseio       #anseiu#\n",
       "1        odiar        #odia#        odeio        #odeiu#\n",
       "2     pleitear     #pleitea#     pleiteio     #pleiteiu#\n",
       "3    incendiar    #insendia#    incenceio    #insendeiu#\n",
       "4      sortear      #sortea#      sorteio      #sorteiu#\n",
       "5     remediar     #hemedia#     remedeio     #hemedeiu#\n",
       "6  intermediar  #intermedia#  intermedeio  #intermedeiu#\n",
       "7       mediar       #media#       medeio       #medeiu#\n",
       "8      passear       #pasea#      passeio       #paseiu#"
      ]
     },
     "execution_count": 39,
     "metadata": {},
     "output_type": "execute_result"
    }
   ],
   "source": [
    "corpus2 = pd.concat()"
   ]
  },
  {
   "cell_type": "markdown",
   "metadata": {},
   "source": [
    "# Todo Marcelo"
   ]
  },
  {
   "cell_type": "code",
   "execution_count": null,
   "metadata": {
    "collapsed": true
   },
   "outputs": [],
   "source": [
    "treinar a rede uma vez respeitando o 0.8 x .2"
   ]
  },
  {
   "cell_type": "code",
   "execution_count": null,
   "metadata": {
    "collapsed": true
   },
   "outputs": [],
   "source": [
    "aleatorio com constraints, tem que ter representativos de 5 classes no teste"
   ]
  },
  {
   "cell_type": "code",
   "execution_count": null,
   "metadata": {
    "collapsed": true
   },
   "outputs": [],
   "source": [
    "falar sobre os resultados com verbos q tem mais representatividade (verificar se tem mais da familia trazer por exemplo)"
   ]
  },
  {
   "cell_type": "code",
   "execution_count": null,
   "metadata": {
    "collapsed": true
   },
   "outputs": [],
   "source": [
    "colocar o trazer mais mil vezes pra ver oq acontece"
   ]
  },
  {
   "cell_type": "code",
   "execution_count": null,
   "metadata": {
    "collapsed": true
   },
   "outputs": [],
   "source": [
    "testar \"prazer\" "
   ]
  },
  {
   "cell_type": "code",
   "execution_count": null,
   "metadata": {
    "collapsed": true
   },
   "outputs": [],
   "source": [
    "argumentar que o proximo passo seria verificar testar as frequencias reais"
   ]
  },
  {
   "cell_type": "code",
   "execution_count": null,
   "metadata": {
    "collapsed": true
   },
   "outputs": [],
   "source": [
    "revel"
   ]
  }
 ],
 "metadata": {
  "hide_input": false,
  "kernelspec": {
   "display_name": "metrado",
   "language": "python",
   "name": "metrado"
  },
  "language_info": {
   "codemirror_mode": {
    "name": "ipython",
    "version": 3
   },
   "file_extension": ".py",
   "mimetype": "text/x-python",
   "name": "python",
   "nbconvert_exporter": "python",
   "pygments_lexer": "ipython3",
   "version": "3.6.4"
  },
  "toc": {
   "base_numbering": 1,
   "nav_menu": {},
   "number_sections": true,
   "sideBar": true,
   "skip_h1_title": false,
   "title_cell": "Table of Contents",
   "title_sidebar": "Contents",
   "toc_cell": false,
   "toc_position": {
    "height": "calc(100% - 180px)",
    "left": "10px",
    "top": "150px",
    "width": "206px"
   },
   "toc_section_display": true,
   "toc_window_display": true
  }
 },
 "nbformat": 4,
 "nbformat_minor": 2
}
