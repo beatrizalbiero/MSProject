{
 "cells": [
  {
   "cell_type": "markdown",
   "metadata": {},
   "source": [
    "# Libs"
   ]
  },
  {
   "cell_type": "code",
   "execution_count": 75,
   "metadata": {
    "collapsed": false
   },
   "outputs": [
    {
     "name": "stderr",
     "output_type": "stream",
     "text": [
      "Using TensorFlow backend.\n"
     ]
    }
   ],
   "source": [
    "import pandas as pd\n",
    "import numpy as np\n",
    "from keras.preprocessing.sequence import pad_sequences"
   ]
  },
  {
   "cell_type": "markdown",
   "metadata": {},
   "source": [
    "# Data"
   ]
  },
  {
   "cell_type": "code",
   "execution_count": 7,
   "metadata": {
    "collapsed": false
   },
   "outputs": [],
   "source": [
    "corpus = pd.read_csv(\"WickelfeaturesProject/Corpus_new_coding/corpus_complete.csv\", names=['verb0', 'inf_verb', 'conj_verb0', 'conj_verb'])"
   ]
  },
  {
   "cell_type": "code",
   "execution_count": 16,
   "metadata": {
    "collapsed": false
   },
   "outputs": [],
   "source": [
    "corpus.drop(['verb0','conj_verb0'], axis=1,inplace=True)"
   ]
  },
  {
   "cell_type": "code",
   "execution_count": 25,
   "metadata": {
    "collapsed": false
   },
   "outputs": [],
   "source": [
    "corpus['conj_verb'] = corpus.conj_verb.apply(lambda x: x.strip('#'))"
   ]
  },
  {
   "cell_type": "code",
   "execution_count": 27,
   "metadata": {
    "collapsed": false
   },
   "outputs": [],
   "source": [
    "corpus.to_csv('WickelfeaturesProject/Corpus_new_coding/actual_corpus_used')"
   ]
  },
  {
   "cell_type": "code",
   "execution_count": 31,
   "metadata": {
    "collapsed": false
   },
   "outputs": [
    {
     "data": {
      "text/html": [
       "<div>\n",
       "<style scoped>\n",
       "    .dataframe tbody tr th:only-of-type {\n",
       "        vertical-align: middle;\n",
       "    }\n",
       "\n",
       "    .dataframe tbody tr th {\n",
       "        vertical-align: top;\n",
       "    }\n",
       "\n",
       "    .dataframe thead th {\n",
       "        text-align: right;\n",
       "    }\n",
       "</style>\n",
       "<table border=\"1\" class=\"dataframe\">\n",
       "  <thead>\n",
       "    <tr style=\"text-align: right;\">\n",
       "      <th></th>\n",
       "      <th>inf_verb</th>\n",
       "      <th>conj_verb</th>\n",
       "    </tr>\n",
       "  </thead>\n",
       "  <tbody>\n",
       "    <tr>\n",
       "      <th>0</th>\n",
       "      <td>Ansia</td>\n",
       "      <td>Anseiu</td>\n",
       "    </tr>\n",
       "    <tr>\n",
       "      <th>1</th>\n",
       "      <td>odia</td>\n",
       "      <td>odeiu</td>\n",
       "    </tr>\n",
       "    <tr>\n",
       "      <th>2</th>\n",
       "      <td>pleitea</td>\n",
       "      <td>pleiteiu</td>\n",
       "    </tr>\n",
       "    <tr>\n",
       "      <th>3</th>\n",
       "      <td>ins3ndia</td>\n",
       "      <td>ins3ndeiu</td>\n",
       "    </tr>\n",
       "    <tr>\n",
       "      <th>4</th>\n",
       "      <td>sortea</td>\n",
       "      <td>sorteiu</td>\n",
       "    </tr>\n",
       "    <tr>\n",
       "      <th>5</th>\n",
       "      <td>hemedia</td>\n",
       "      <td>hemedeiu</td>\n",
       "    </tr>\n",
       "    <tr>\n",
       "      <th>6</th>\n",
       "      <td>intermedia</td>\n",
       "      <td>intermedeiu</td>\n",
       "    </tr>\n",
       "    <tr>\n",
       "      <th>7</th>\n",
       "      <td>media</td>\n",
       "      <td>medeiu</td>\n",
       "    </tr>\n",
       "    <tr>\n",
       "      <th>8</th>\n",
       "      <td>oLa</td>\n",
       "      <td>OLu</td>\n",
       "    </tr>\n",
       "    <tr>\n",
       "      <th>9</th>\n",
       "      <td>koloka</td>\n",
       "      <td>kolOku</td>\n",
       "    </tr>\n",
       "    <tr>\n",
       "      <th>10</th>\n",
       "      <td>informa</td>\n",
       "      <td>infOrmu</td>\n",
       "    </tr>\n",
       "    <tr>\n",
       "      <th>11</th>\n",
       "      <td>torna</td>\n",
       "      <td>tOrnu</td>\n",
       "    </tr>\n",
       "    <tr>\n",
       "      <th>12</th>\n",
       "      <td>boia</td>\n",
       "      <td>bOiu</td>\n",
       "    </tr>\n",
       "    <tr>\n",
       "      <th>13</th>\n",
       "      <td>bota</td>\n",
       "      <td>bOtu</td>\n",
       "    </tr>\n",
       "    <tr>\n",
       "      <th>14</th>\n",
       "      <td>toka</td>\n",
       "      <td>tOku</td>\n",
       "    </tr>\n",
       "    <tr>\n",
       "      <th>15</th>\n",
       "      <td>foka</td>\n",
       "      <td>fOku</td>\n",
       "    </tr>\n",
       "    <tr>\n",
       "      <th>16</th>\n",
       "      <td>mostra</td>\n",
       "      <td>mOstru</td>\n",
       "    </tr>\n",
       "    <tr>\n",
       "      <th>17</th>\n",
       "      <td>xora</td>\n",
       "      <td>xOru</td>\n",
       "    </tr>\n",
       "    <tr>\n",
       "      <th>18</th>\n",
       "      <td>nota</td>\n",
       "      <td>nOtu</td>\n",
       "    </tr>\n",
       "    <tr>\n",
       "      <th>19</th>\n",
       "      <td>tosta</td>\n",
       "      <td>tOstu</td>\n",
       "    </tr>\n",
       "    <tr>\n",
       "      <th>20</th>\n",
       "      <td>troka</td>\n",
       "      <td>trOku</td>\n",
       "    </tr>\n",
       "    <tr>\n",
       "      <th>21</th>\n",
       "      <td>heboka</td>\n",
       "      <td>hebOku</td>\n",
       "    </tr>\n",
       "    <tr>\n",
       "      <th>22</th>\n",
       "      <td>soka</td>\n",
       "      <td>sOku</td>\n",
       "    </tr>\n",
       "    <tr>\n",
       "      <th>23</th>\n",
       "      <td>kosa</td>\n",
       "      <td>kOsu</td>\n",
       "    </tr>\n",
       "    <tr>\n",
       "      <th>24</th>\n",
       "      <td>toma</td>\n",
       "      <td>tOmu</td>\n",
       "    </tr>\n",
       "    <tr>\n",
       "      <th>25</th>\n",
       "      <td>hekorta</td>\n",
       "      <td>hekOrtu</td>\n",
       "    </tr>\n",
       "    <tr>\n",
       "      <th>26</th>\n",
       "      <td>entorta</td>\n",
       "      <td>entOrtu</td>\n",
       "    </tr>\n",
       "    <tr>\n",
       "      <th>27</th>\n",
       "      <td>enkosta</td>\n",
       "      <td>enkOstu</td>\n",
       "    </tr>\n",
       "    <tr>\n",
       "      <th>28</th>\n",
       "      <td>hetorna</td>\n",
       "      <td>hetOrnu</td>\n",
       "    </tr>\n",
       "    <tr>\n",
       "      <th>29</th>\n",
       "      <td>deskobri</td>\n",
       "      <td>deskubru</td>\n",
       "    </tr>\n",
       "    <tr>\n",
       "      <th>...</th>\n",
       "      <td>...</td>\n",
       "      <td>...</td>\n",
       "    </tr>\n",
       "    <tr>\n",
       "      <th>393</th>\n",
       "      <td>sabe</td>\n",
       "      <td>sei</td>\n",
       "    </tr>\n",
       "    <tr>\n",
       "      <th>394</th>\n",
       "      <td>ekivale</td>\n",
       "      <td>ekivaLu</td>\n",
       "    </tr>\n",
       "    <tr>\n",
       "      <th>395</th>\n",
       "      <td>prove</td>\n",
       "      <td>prov3Nu</td>\n",
       "    </tr>\n",
       "    <tr>\n",
       "      <th>396</th>\n",
       "      <td>traze</td>\n",
       "      <td>tragu</td>\n",
       "    </tr>\n",
       "    <tr>\n",
       "      <th>397</th>\n",
       "      <td>pode</td>\n",
       "      <td>pOsu</td>\n",
       "    </tr>\n",
       "    <tr>\n",
       "      <th>398</th>\n",
       "      <td>desda</td>\n",
       "      <td>dEsdu</td>\n",
       "    </tr>\n",
       "    <tr>\n",
       "      <th>399</th>\n",
       "      <td>idea</td>\n",
       "      <td>ideiu</td>\n",
       "    </tr>\n",
       "    <tr>\n",
       "      <th>400</th>\n",
       "      <td>estrea</td>\n",
       "      <td>estrEiu</td>\n",
       "    </tr>\n",
       "    <tr>\n",
       "      <th>401</th>\n",
       "      <td>da</td>\n",
       "      <td>dou</td>\n",
       "    </tr>\n",
       "    <tr>\n",
       "      <th>402</th>\n",
       "      <td>sobresta</td>\n",
       "      <td>sobrestou</td>\n",
       "    </tr>\n",
       "    <tr>\n",
       "      <th>403</th>\n",
       "      <td>esta</td>\n",
       "      <td>estou</td>\n",
       "    </tr>\n",
       "    <tr>\n",
       "      <th>404</th>\n",
       "      <td>kabe</td>\n",
       "      <td>kaibu</td>\n",
       "    </tr>\n",
       "    <tr>\n",
       "      <th>405</th>\n",
       "      <td>ouvi</td>\n",
       "      <td>ousu</td>\n",
       "    </tr>\n",
       "    <tr>\n",
       "      <th>406</th>\n",
       "      <td>entreouvi</td>\n",
       "      <td>entreousu</td>\n",
       "    </tr>\n",
       "    <tr>\n",
       "      <th>407</th>\n",
       "      <td>heouvi</td>\n",
       "      <td>heousu</td>\n",
       "    </tr>\n",
       "    <tr>\n",
       "      <th>408</th>\n",
       "      <td>pari</td>\n",
       "      <td>pairu</td>\n",
       "    </tr>\n",
       "    <tr>\n",
       "      <th>409</th>\n",
       "      <td>perde</td>\n",
       "      <td>perku</td>\n",
       "    </tr>\n",
       "    <tr>\n",
       "      <th>410</th>\n",
       "      <td>testa</td>\n",
       "      <td>tEstu</td>\n",
       "    </tr>\n",
       "    <tr>\n",
       "      <th>411</th>\n",
       "      <td>obiserva</td>\n",
       "      <td>obisErvu</td>\n",
       "    </tr>\n",
       "    <tr>\n",
       "      <th>412</th>\n",
       "      <td>eskolie</td>\n",
       "      <td>eskoLu</td>\n",
       "    </tr>\n",
       "    <tr>\n",
       "      <th>413</th>\n",
       "      <td>konversa</td>\n",
       "      <td>konvErsu</td>\n",
       "    </tr>\n",
       "    <tr>\n",
       "      <th>414</th>\n",
       "      <td>fexa</td>\n",
       "      <td>fExu</td>\n",
       "    </tr>\n",
       "    <tr>\n",
       "      <th>415</th>\n",
       "      <td>gosta</td>\n",
       "      <td>gOstu</td>\n",
       "    </tr>\n",
       "    <tr>\n",
       "      <th>416</th>\n",
       "      <td>volta</td>\n",
       "      <td>vOltu</td>\n",
       "    </tr>\n",
       "    <tr>\n",
       "      <th>417</th>\n",
       "      <td>espresa</td>\n",
       "      <td>esprEsu</td>\n",
       "    </tr>\n",
       "    <tr>\n",
       "      <th>418</th>\n",
       "      <td>pasea</td>\n",
       "      <td>paseiu</td>\n",
       "    </tr>\n",
       "    <tr>\n",
       "      <th>419</th>\n",
       "      <td>akorda</td>\n",
       "      <td>akOrdu</td>\n",
       "    </tr>\n",
       "    <tr>\n",
       "      <th>420</th>\n",
       "      <td>korta</td>\n",
       "      <td>kOrtu</td>\n",
       "    </tr>\n",
       "    <tr>\n",
       "      <th>421</th>\n",
       "      <td>aumosa</td>\n",
       "      <td>aumOsu</td>\n",
       "    </tr>\n",
       "    <tr>\n",
       "      <th>422</th>\n",
       "      <td>injeri</td>\n",
       "      <td>injiru</td>\n",
       "    </tr>\n",
       "  </tbody>\n",
       "</table>\n",
       "<p>423 rows × 2 columns</p>\n",
       "</div>"
      ],
      "text/plain": [
       "       inf_verb    conj_verb\n",
       "0         Ansia       Anseiu\n",
       "1          odia        odeiu\n",
       "2       pleitea     pleiteiu\n",
       "3      ins3ndia    ins3ndeiu\n",
       "4        sortea      sorteiu\n",
       "5       hemedia     hemedeiu\n",
       "6    intermedia  intermedeiu\n",
       "7         media       medeiu\n",
       "8           oLa          OLu\n",
       "9        koloka       kolOku\n",
       "10      informa      infOrmu\n",
       "11        torna        tOrnu\n",
       "12         boia         bOiu\n",
       "13         bota         bOtu\n",
       "14         toka         tOku\n",
       "15         foka         fOku\n",
       "16       mostra       mOstru\n",
       "17         xora         xOru\n",
       "18         nota         nOtu\n",
       "19        tosta        tOstu\n",
       "20        troka        trOku\n",
       "21       heboka       hebOku\n",
       "22         soka         sOku\n",
       "23         kosa         kOsu\n",
       "24         toma         tOmu\n",
       "25      hekorta      hekOrtu\n",
       "26      entorta      entOrtu\n",
       "27      enkosta      enkOstu\n",
       "28      hetorna      hetOrnu\n",
       "29     deskobri     deskubru\n",
       "..          ...          ...\n",
       "393        sabe          sei\n",
       "394     ekivale      ekivaLu\n",
       "395       prove      prov3Nu\n",
       "396       traze        tragu\n",
       "397        pode         pOsu\n",
       "398       desda        dEsdu\n",
       "399        idea        ideiu\n",
       "400      estrea      estrEiu\n",
       "401          da          dou\n",
       "402    sobresta    sobrestou\n",
       "403        esta        estou\n",
       "404        kabe        kaibu\n",
       "405        ouvi         ousu\n",
       "406   entreouvi    entreousu\n",
       "407      heouvi       heousu\n",
       "408        pari        pairu\n",
       "409       perde        perku\n",
       "410       testa        tEstu\n",
       "411    obiserva     obisErvu\n",
       "412     eskolie       eskoLu\n",
       "413    konversa     konvErsu\n",
       "414        fexa         fExu\n",
       "415       gosta        gOstu\n",
       "416       volta        vOltu\n",
       "417     espresa      esprEsu\n",
       "418       pasea       paseiu\n",
       "419      akorda       akOrdu\n",
       "420       korta        kOrtu\n",
       "421      aumosa       aumOsu\n",
       "422      injeri       injiru\n",
       "\n",
       "[423 rows x 2 columns]"
      ]
     },
     "execution_count": 31,
     "metadata": {},
     "output_type": "execute_result"
    }
   ],
   "source": [
    "corpus"
   ]
  },
  {
   "cell_type": "markdown",
   "metadata": {},
   "source": [
    "# Features"
   ]
  },
  {
   "cell_type": "code",
   "execution_count": 28,
   "metadata": {
    "collapsed": true
   },
   "outputs": [],
   "source": [
    "features = ['oclusiva', 'nasal', 'tepe', 'fricativa', 'l-aprox', 'bilabial', 'labiodental',\n",
    "           'alveolar', 'p-alveolar', 'palatal', 'velar', 'glotal', 'vozeada', 'fechada',\n",
    "           'm-fechada', 'm-aberta', 'aberta', 'anterior', 'posterior']"
   ]
  },
  {
   "cell_type": "code",
   "execution_count": 62,
   "metadata": {
    "collapsed": false
   },
   "outputs": [],
   "source": [
    "#http://www.ipachart.com/\n",
    "phones = {\n",
    "\"p\" : ['bilabial', 'oclusiva'],\n",
    "\"b\" : ['bilabial', 'oclusiva', 'vozeada'],\n",
    "\"f\" : ['labiodental', 'fricativa'],\n",
    "\"v\" : ['labiodental', 'fricativa', 'vozeada'],\n",
    "\"t\" : ['alveolar', 'oclusiva'],\n",
    "\"d\" : ['alveolar', 'oclusiva', 'vozeada'],\n",
    "\"m\" : ['bilabial', 'nasal'],\n",
    "\"n\" : ['alveolar', 'nasal'],\n",
    "\"k\" : ['velar', 'oclusiva'],\n",
    "\"g\" : ['velar', 'oclusiva', 'vozeada'],\n",
    "\"N\" : ['nasal', 'palatal'],\n",
    "\"r\" : ['alveolar', 'tepe'],\n",
    "\"s\" : ['alveolar', 'fricativa'],\n",
    "\"z\" : ['alveolar', 'fricativa', 'vozeada'],\n",
    "\"j\" : ['p-alveolar', 'fricativa', 'vozeada'],\n",
    "\"l\" : ['l-aprox', 'p-alveolar'],\n",
    "\"L\" : ['l-aprox', 'palatal'],\n",
    "\"h\" : ['glotal', 'fricativa'],\n",
    "\"x\" : ['fricativa', 'p-alveolar'],\n",
    "\"i\" : ['anterior', 'fechada'],\n",
    "\"e\" : ['m-fechada', 'anterior'],\n",
    "\"E\" : ['m-aberta', 'anterior'],\n",
    "\"a\" : ['anterior', 'aberta'],\n",
    "\"u\" : ['posterior', 'fechada'],\n",
    "\"o\" : ['m-fechada', 'posterior'],\n",
    "\"O\" : ['m-aberta', 'posterior'],\n",
    "\"A\" : ['anterior', 'aberta', 'nasal'],\n",
    "\"3\" : ['m-fechada', 'anterior', 'nasal']}"
   ]
  },
  {
   "cell_type": "markdown",
   "metadata": {},
   "source": [
    "# Functions"
   ]
  },
  {
   "cell_type": "code",
   "execution_count": 63,
   "metadata": {
    "collapsed": true
   },
   "outputs": [],
   "source": [
    "def code(phone): \n",
    "    array = []\n",
    "    for item in features:\n",
    "        if item in phones[phone]:\n",
    "            array.append(1)\n",
    "        else:\n",
    "            array.append(0)\n",
    "    return np.array(array)"
   ]
  },
  {
   "cell_type": "code",
   "execution_count": 64,
   "metadata": {
    "collapsed": false
   },
   "outputs": [
    {
     "data": {
      "text/plain": [
       "array([0, 0, 0, 1, 0, 0, 0, 0, 0, 0, 0, 1, 0, 0, 0, 0, 0, 0, 0])"
      ]
     },
     "execution_count": 64,
     "metadata": {},
     "output_type": "execute_result"
    }
   ],
   "source": [
    "code('h')"
   ]
  },
  {
   "cell_type": "code",
   "execution_count": 77,
   "metadata": {
    "collapsed": true
   },
   "outputs": [],
   "source": [
    "def code_verb(verb):\n",
    "    coded = list()\n",
    "    for item in verb:\n",
    "        coded.append(code(item))\n",
    "    return coded"
   ]
  },
  {
   "cell_type": "code",
   "execution_count": 78,
   "metadata": {
    "collapsed": false
   },
   "outputs": [
    {
     "data": {
      "text/plain": [
       "[array([0, 0, 0, 1, 0, 0, 1, 0, 0, 0, 0, 0, 0, 0, 0, 0, 0, 0, 0]),\n",
       " array([0, 0, 0, 0, 0, 0, 0, 0, 0, 0, 0, 0, 0, 0, 0, 0, 1, 1, 0]),\n",
       " array([0, 0, 0, 0, 0, 0, 0, 0, 1, 0, 0, 0, 0, 0, 0, 0, 0, 0, 0]),\n",
       " array([0, 0, 0, 0, 0, 0, 0, 0, 0, 0, 0, 0, 0, 1, 0, 0, 0, 0, 1])]"
      ]
     },
     "execution_count": 78,
     "metadata": {},
     "output_type": "execute_result"
    }
   ],
   "source": [
    "code_verb('falu')"
   ]
  },
  {
   "cell_type": "code",
   "execution_count": 68,
   "metadata": {
    "collapsed": false
   },
   "outputs": [],
   "source": [
    "def verify(verb):\n",
    "    for phone in verb:\n",
    "        if phone not in phones.keys():\n",
    "            print(phone, verb)\n",
    "        else:\n",
    "            None"
   ]
  },
  {
   "cell_type": "code",
   "execution_count": 69,
   "metadata": {
    "collapsed": false
   },
   "outputs": [
    {
     "data": {
      "text/plain": [
       "dict_keys(['p', 'b', 'f', 'v', 't', 'd', 'm', 'n', 'k', 'g', 'N', 'r', 's', 'z', 'j', 'l', 'L', 'h', 'x', 'i', 'e', 'E', 'a', 'u', 'o', 'O', 'A', '3'])"
      ]
     },
     "execution_count": 69,
     "metadata": {},
     "output_type": "execute_result"
    }
   ],
   "source": [
    "phones.keys()"
   ]
  },
  {
   "cell_type": "code",
   "execution_count": 71,
   "metadata": {
    "collapsed": true
   },
   "outputs": [
    {
     "data": {
      "text/plain": [
       "0      None\n",
       "1      None\n",
       "2      None\n",
       "3      None\n",
       "4      None\n",
       "5      None\n",
       "6      None\n",
       "7      None\n",
       "8      None\n",
       "9      None\n",
       "10     None\n",
       "11     None\n",
       "12     None\n",
       "13     None\n",
       "14     None\n",
       "15     None\n",
       "16     None\n",
       "17     None\n",
       "18     None\n",
       "19     None\n",
       "20     None\n",
       "21     None\n",
       "22     None\n",
       "23     None\n",
       "24     None\n",
       "25     None\n",
       "26     None\n",
       "27     None\n",
       "28     None\n",
       "29     None\n",
       "       ... \n",
       "393    None\n",
       "394    None\n",
       "395    None\n",
       "396    None\n",
       "397    None\n",
       "398    None\n",
       "399    None\n",
       "400    None\n",
       "401    None\n",
       "402    None\n",
       "403    None\n",
       "404    None\n",
       "405    None\n",
       "406    None\n",
       "407    None\n",
       "408    None\n",
       "409    None\n",
       "410    None\n",
       "411    None\n",
       "412    None\n",
       "413    None\n",
       "414    None\n",
       "415    None\n",
       "416    None\n",
       "417    None\n",
       "418    None\n",
       "419    None\n",
       "420    None\n",
       "421    None\n",
       "422    None\n",
       "Name: inf_verb, Length: 423, dtype: object"
      ]
     },
     "execution_count": 71,
     "metadata": {},
     "output_type": "execute_result"
    }
   ],
   "source": [
    "corpus.inf_verb.apply(verify)"
   ]
  },
  {
   "cell_type": "markdown",
   "metadata": {},
   "source": [
    "# Maximum Length of input and output"
   ]
  },
  {
   "cell_type": "code",
   "execution_count": 73,
   "metadata": {
    "collapsed": false
   },
   "outputs": [
    {
     "data": {
      "text/plain": [
       "11"
      ]
     },
     "execution_count": 73,
     "metadata": {},
     "output_type": "execute_result"
    }
   ],
   "source": [
    "corpus.inf_verb.str.len().max()"
   ]
  },
  {
   "cell_type": "code",
   "execution_count": 74,
   "metadata": {
    "collapsed": false
   },
   "outputs": [
    {
     "data": {
      "text/plain": [
       "11"
      ]
     },
     "execution_count": 74,
     "metadata": {},
     "output_type": "execute_result"
    }
   ],
   "source": [
    "corpus.conj_verb.str.len().max()"
   ]
  },
  {
   "cell_type": "markdown",
   "metadata": {},
   "source": [
    "# Padding"
   ]
  },
  {
   "cell_type": "code",
   "execution_count": 81,
   "metadata": {
    "collapsed": true
   },
   "outputs": [],
   "source": [
    "coded_in = corpus.inf_verb.apply(code_verb)"
   ]
  },
  {
   "cell_type": "code",
   "execution_count": 83,
   "metadata": {
    "collapsed": false
   },
   "outputs": [],
   "source": [
    "coded_out = corpus.conj_verb.apply(code_verb)"
   ]
  },
  {
   "cell_type": "code",
   "execution_count": 88,
   "metadata": {
    "collapsed": false
   },
   "outputs": [
    {
     "name": "stdout",
     "output_type": "stream",
     "text": [
      "[[0 0 0 0 0 0 0 0 0 0 0 0 0 0 0 0 0 0 0]\n",
      " [0 0 0 0 0 0 0 0 0 0 0 0 0 0 0 0 0 0 0]\n",
      " [0 0 0 0 0 0 0 0 0 0 0 0 0 0 0 0 0 0 0]\n",
      " [0 0 0 0 0 0 0 0 0 0 0 0 0 0 0 0 0 0 0]\n",
      " [0 0 0 0 0 0 0 0 0 0 0 0 0 0 0 0 0 0 0]\n",
      " [0 0 0 0 0 0 0 0 0 0 0 0 0 0 0 0 0 0 0]\n",
      " [0 1 0 0 0 0 0 0 0 0 0 0 0 0 0 0 1 1 0]\n",
      " [0 1 0 0 0 0 0 1 0 0 0 0 0 0 0 0 0 0 0]\n",
      " [0 0 0 1 0 0 0 1 0 0 0 0 0 0 0 0 0 0 0]\n",
      " [0 0 0 0 0 0 0 0 0 0 0 0 0 1 0 0 0 1 0]\n",
      " [0 0 0 0 0 0 0 0 0 0 0 0 0 0 0 0 1 1 0]]\n"
     ]
    }
   ],
   "source": [
    "# define sequences\n",
    "sequences = [\n",
    "    [1, 2, 3, 4],\n",
    "       [1, 2, 3],\n",
    "             [1]\n",
    "    ]\n",
    "# pad sequence\n",
    "padded_in = pad_sequences(coded_in, value=np.zeros(19))\n",
    "padded_out = pad_sequences(coded_out, value=np.zeros(19))\n",
    "print(padded[0])"
   ]
  },
  {
   "cell_type": "markdown",
   "metadata": {},
   "source": [
    "about pre padding: https://stackoverflow.com/questions/46298793/how-does-choosing-between-pre-and-post-zero-padding-of-sequences-impact-results"
   ]
  },
  {
   "cell_type": "code",
   "execution_count": null,
   "metadata": {
    "collapsed": true
   },
   "outputs": [],
   "source": []
  }
 ],
 "metadata": {
  "hide_input": false,
  "kernelspec": {
   "display_name": "metrado",
   "language": "python",
   "name": "metrado"
  },
  "language_info": {
   "codemirror_mode": {
    "name": "ipython",
    "version": 3
   },
   "file_extension": ".py",
   "mimetype": "text/x-python",
   "name": "python",
   "nbconvert_exporter": "python",
   "pygments_lexer": "ipython3",
   "version": "3.6.4"
  },
  "toc": {
   "base_numbering": 1,
   "nav_menu": {},
   "number_sections": true,
   "sideBar": true,
   "skip_h1_title": false,
   "title_cell": "Table of Contents",
   "title_sidebar": "Contents",
   "toc_cell": false,
   "toc_position": {},
   "toc_section_display": true,
   "toc_window_display": false
  }
 },
 "nbformat": 4,
 "nbformat_minor": 2
}
