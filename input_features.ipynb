{
 "cells": [
  {
   "cell_type": "markdown",
   "metadata": {},
   "source": [
    "# Libs"
   ]
  },
  {
   "cell_type": "code",
   "execution_count": 1,
   "metadata": {},
   "outputs": [
    {
     "name": "stderr",
     "output_type": "stream",
     "text": [
      "Using TensorFlow backend.\n"
     ]
    }
   ],
   "source": [
    "import pandas as pd\n",
    "import numpy as np\n",
    "from keras.preprocessing.sequence import pad_sequences\n",
    "from keras.models import Model, load_model\n",
    "from keras.layers import Input, LSTM, Dense, Masking\n",
    "import matplotlib\n",
    "import matplotlib.pyplot as plt\n",
    "from keras.callbacks import ModelCheckpoint\n",
    "from WickelfeaturesProject.keras_metrics import KerasMetrics\n",
    "from keras.optimizers import adam\n",
    "import keras.backend as K\n",
    "from sklearn.metrics import f1_score\n",
    "from scipy.spatial import distance\n",
    "import pickle\n",
    "opt = adam()"
   ]
  },
  {
   "cell_type": "markdown",
   "metadata": {},
   "source": [
    "# Data"
   ]
  },
  {
   "cell_type": "markdown",
   "metadata": {},
   "source": [
    "corpus = pd.read_csv(\"WickelfeaturesProject/Corpus new coding/corpus_complete.csv\", names=['verb0', 'inf_verb', 'conj_verb0', 'conj_verb'])"
   ]
  },
  {
   "cell_type": "markdown",
   "metadata": {},
   "source": [
    "corpus.drop(['verb0','conj_verb0'], axis=1,inplace=True)"
   ]
  },
  {
   "cell_type": "markdown",
   "metadata": {},
   "source": [
    "corpus['conj_verb'] = corpus.conj_verb.apply(lambda x: x.strip('#'))"
   ]
  },
  {
   "cell_type": "markdown",
   "metadata": {},
   "source": [
    "corpus['inf_verb'] = corpus.inf_verb.apply(lambda x: x.strip('#'))"
   ]
  },
  {
   "cell_type": "markdown",
   "metadata": {},
   "source": [
    "corpus.head()"
   ]
  },
  {
   "cell_type": "markdown",
   "metadata": {},
   "source": [
    "corpus.to_csv('WickelfeaturesProject/Corpus new coding/actual_corpus_used', index=False)"
   ]
  },
  {
   "cell_type": "markdown",
   "metadata": {},
   "source": [
    "corpus['conj_verb'] = corpus.conj_verb.apply(lambda x: '#'+x+ '$')"
   ]
  },
  {
   "cell_type": "markdown",
   "metadata": {},
   "source": [
    "corpus.head()"
   ]
  },
  {
   "cell_type": "code",
   "execution_count": 2,
   "metadata": {},
   "outputs": [],
   "source": [
    "#corpus.to_csv('WickelfeaturesProject/Corpus new coding/actual_corpus_used', index=False)"
   ]
  },
  {
   "cell_type": "code",
   "execution_count": 3,
   "metadata": {},
   "outputs": [],
   "source": [
    "corpus = pd.read_csv('WickelfeaturesProject/Corpus new coding/actual_corpus_used')"
   ]
  },
  {
   "cell_type": "markdown",
   "metadata": {},
   "source": [
    "# Features"
   ]
  },
  {
   "cell_type": "code",
   "execution_count": 4,
   "metadata": {},
   "outputs": [],
   "source": [
    "features = ['oclusiva', 'nasal', 'tepe', 'fricativa', 'l-aprox', 'bilabial', 'labiodental',\n",
    "           'alveolar', 'p-alveolar', 'palatal', 'velar', 'glotal', 'vozeada', 'fechada',\n",
    "           'm-fechada', 'm-aberta', 'aberta', 'anterior', 'posterior', 'beg', 'end']"
   ]
  },
  {
   "cell_type": "code",
   "execution_count": 5,
   "metadata": {},
   "outputs": [],
   "source": [
    "#http://www.ipachart.com/\n",
    "phones = {\n",
    "\"p\" : ['bilabial', 'oclusiva'],\n",
    "\"b\" : ['bilabial', 'oclusiva', 'vozeada'],\n",
    "\"f\" : ['labiodental', 'fricativa'],\n",
    "\"v\" : ['labiodental', 'fricativa', 'vozeada'],\n",
    "\"t\" : ['alveolar', 'oclusiva'],\n",
    "\"d\" : ['alveolar', 'oclusiva', 'vozeada'],\n",
    "\"m\" : ['bilabial', 'nasal'],\n",
    "\"n\" : ['alveolar', 'nasal'],\n",
    "\"k\" : ['velar', 'oclusiva'],\n",
    "\"g\" : ['velar', 'oclusiva', 'vozeada'],\n",
    "\"N\" : ['nasal', 'palatal'],\n",
    "\"r\" : ['alveolar', 'tepe'],\n",
    "\"s\" : ['alveolar', 'fricativa'],\n",
    "\"z\" : ['alveolar', 'fricativa', 'vozeada'],\n",
    "\"j\" : ['p-alveolar', 'fricativa', 'vozeada'],\n",
    "\"l\" : ['l-aprox', 'p-alveolar'],\n",
    "\"L\" : ['l-aprox', 'palatal'],\n",
    "\"h\" : ['glotal', 'fricativa'],\n",
    "\"x\" : ['fricativa', 'p-alveolar'],\n",
    "\"i\" : ['anterior', 'fechada'],\n",
    "\"e\" : ['m-fechada', 'anterior'],\n",
    "\"E\" : ['m-aberta', 'anterior'],\n",
    "\"a\" : ['anterior', 'aberta'],\n",
    "\"u\" : ['posterior', 'fechada'],\n",
    "\"o\" : ['m-fechada', 'posterior'],\n",
    "\"O\" : ['m-aberta', 'posterior'],\n",
    "\"A\" : ['anterior', 'aberta', 'nasal'],\n",
    "\"3\" : ['m-fechada', 'anterior', 'nasal'],\n",
    "\"PAD\": [''],\n",
    "\"#\" : ['beg'],\n",
    "\"$\" : [\"end\"]}"
   ]
  },
  {
   "cell_type": "code",
   "execution_count": 6,
   "metadata": {},
   "outputs": [],
   "source": [
    "with open('WickelfeaturesProject/Files/phones.pickle', 'wb') as file:\n",
    "    pickle.dump(phones, file, protocol=pickle.HIGHEST_PROTOCOL)"
   ]
  },
  {
   "cell_type": "markdown",
   "metadata": {},
   "source": [
    "# Functions"
   ]
  },
  {
   "cell_type": "code",
   "execution_count": 7,
   "metadata": {},
   "outputs": [],
   "source": [
    "def code(phone): \n",
    "    array = []\n",
    "    for item in features:\n",
    "        if item in phones[phone]:\n",
    "            array.append(1)\n",
    "        else:\n",
    "            array.append(0)\n",
    "    return np.array(array)"
   ]
  },
  {
   "cell_type": "code",
   "execution_count": 8,
   "metadata": {},
   "outputs": [
    {
     "data": {
      "text/plain": [
       "array([0, 0, 0, 1, 0, 0, 0, 0, 0, 0, 0, 1, 0, 0, 0, 0, 0, 0, 0, 0, 0])"
      ]
     },
     "execution_count": 8,
     "metadata": {},
     "output_type": "execute_result"
    }
   ],
   "source": [
    "code('h')"
   ]
  },
  {
   "cell_type": "code",
   "execution_count": 9,
   "metadata": {},
   "outputs": [
    {
     "data": {
      "text/plain": [
       "array([0, 0, 0, 0, 0, 0, 0, 0, 0, 0, 0, 0, 0, 0, 0, 0, 0, 0, 0, 1, 0])"
      ]
     },
     "execution_count": 9,
     "metadata": {},
     "output_type": "execute_result"
    }
   ],
   "source": [
    "code('#')"
   ]
  },
  {
   "cell_type": "code",
   "execution_count": 10,
   "metadata": {},
   "outputs": [],
   "source": [
    "def code_verb(verb):\n",
    "    coded = list()\n",
    "    for item in verb:\n",
    "        coded.append(code(item))\n",
    "    return np.array(coded)"
   ]
  },
  {
   "cell_type": "code",
   "execution_count": 11,
   "metadata": {},
   "outputs": [
    {
     "data": {
      "text/plain": [
       "array([[0, 0, 0, 1, 0, 0, 1, 0, 0, 0, 0, 0, 0, 0, 0, 0, 0, 0, 0, 0, 0],\n",
       "       [0, 0, 0, 0, 0, 0, 0, 0, 0, 0, 0, 0, 0, 0, 0, 0, 1, 1, 0, 0, 0],\n",
       "       [0, 0, 0, 0, 1, 0, 0, 0, 1, 0, 0, 0, 0, 0, 0, 0, 0, 0, 0, 0, 0],\n",
       "       [0, 0, 0, 0, 0, 0, 0, 0, 0, 0, 0, 0, 0, 1, 0, 0, 0, 0, 1, 0, 0]])"
      ]
     },
     "execution_count": 11,
     "metadata": {},
     "output_type": "execute_result"
    }
   ],
   "source": [
    "code_verb('falu')"
   ]
  },
  {
   "cell_type": "code",
   "execution_count": 12,
   "metadata": {},
   "outputs": [],
   "source": [
    "# def verify(verb):\n",
    "#     for phone in verb:\n",
    "#         if phone not in phones.keys():\n",
    "#             print(phone, verb)\n",
    "#         else:\n",
    "#             None"
   ]
  },
  {
   "cell_type": "code",
   "execution_count": 13,
   "metadata": {},
   "outputs": [
    {
     "data": {
      "text/plain": [
       "dict_keys(['p', 'b', 'f', 'v', 't', 'd', 'm', 'n', 'k', 'g', 'N', 'r', 's', 'z', 'j', 'l', 'L', 'h', 'x', 'i', 'e', 'E', 'a', 'u', 'o', 'O', 'A', '3', 'PAD', '#', '$'])"
      ]
     },
     "execution_count": 13,
     "metadata": {},
     "output_type": "execute_result"
    }
   ],
   "source": [
    "phones.keys()"
   ]
  },
  {
   "cell_type": "code",
   "execution_count": 14,
   "metadata": {},
   "outputs": [],
   "source": [
    "# corpus.inf_verb.apply(verify)"
   ]
  },
  {
   "cell_type": "markdown",
   "metadata": {},
   "source": [
    "# Maximum Length of input and output"
   ]
  },
  {
   "cell_type": "code",
   "execution_count": 15,
   "metadata": {},
   "outputs": [
    {
     "data": {
      "text/plain": [
       "11"
      ]
     },
     "execution_count": 15,
     "metadata": {},
     "output_type": "execute_result"
    }
   ],
   "source": [
    "corpus.inf_verb.str.len().max()"
   ]
  },
  {
   "cell_type": "code",
   "execution_count": 16,
   "metadata": {},
   "outputs": [],
   "source": [
    "max_decoder_seq_length = corpus.conj_verb.str.len().max()"
   ]
  },
  {
   "cell_type": "code",
   "execution_count": 17,
   "metadata": {},
   "outputs": [
    {
     "data": {
      "text/plain": [
       "13"
      ]
     },
     "execution_count": 17,
     "metadata": {},
     "output_type": "execute_result"
    }
   ],
   "source": [
    "max_decoder_seq_length"
   ]
  },
  {
   "cell_type": "markdown",
   "metadata": {},
   "source": [
    "# Padding"
   ]
  },
  {
   "cell_type": "code",
   "execution_count": 18,
   "metadata": {},
   "outputs": [],
   "source": [
    "coded_in = corpus.inf_verb.apply(code_verb)"
   ]
  },
  {
   "cell_type": "code",
   "execution_count": 19,
   "metadata": {},
   "outputs": [],
   "source": [
    "input_texts = corpus.inf_verb[-30:]"
   ]
  },
  {
   "cell_type": "code",
   "execution_count": 90,
   "metadata": {},
   "outputs": [
    {
     "data": {
      "text/plain": [
       "393         sabe\n",
       "394      ekivale\n",
       "395        prove\n",
       "396        traze\n",
       "397         pode\n",
       "398        desda\n",
       "399         idea\n",
       "400       estrea\n",
       "401           da\n",
       "402     sobresta\n",
       "403         esta\n",
       "404         kabe\n",
       "405         ouvi\n",
       "406    entreouvi\n",
       "407       heouvi\n",
       "408         pari\n",
       "409        perde\n",
       "410        testa\n",
       "411     obiserva\n",
       "412      eskolie\n",
       "413     konversa\n",
       "414         fexa\n",
       "415        gosta\n",
       "416        volta\n",
       "417      espresa\n",
       "418        pasea\n",
       "419       akorda\n",
       "420        korta\n",
       "421       aumosa\n",
       "422       injeri\n",
       "Name: inf_verb, dtype: object"
      ]
     },
     "execution_count": 90,
     "metadata": {},
     "output_type": "execute_result"
    }
   ],
   "source": [
    "input_texts"
   ]
  },
  {
   "cell_type": "code",
   "execution_count": 20,
   "metadata": {},
   "outputs": [],
   "source": [
    "coded_out = corpus.conj_verb.apply(code_verb)"
   ]
  },
  {
   "cell_type": "code",
   "execution_count": 21,
   "metadata": {},
   "outputs": [],
   "source": [
    "# # define sequences\n",
    "# sequences = [\n",
    "#     [1, 2, 3, 4],\n",
    "#        [1, 2, 3],\n",
    "#              [1]\n",
    "#     ]\n",
    "# # pad sequence"
   ]
  },
  {
   "cell_type": "code",
   "execution_count": 22,
   "metadata": {},
   "outputs": [
    {
     "data": {
      "text/plain": [
       "array([[0, 1, 0, 0, 0, 0, 0, 0, 0, 0, 0, 0, 0, 0, 0, 0, 1, 1, 0, 0, 0],\n",
       "       [0, 1, 0, 0, 0, 0, 0, 1, 0, 0, 0, 0, 0, 0, 0, 0, 0, 0, 0, 0, 0],\n",
       "       [0, 0, 0, 1, 0, 0, 0, 1, 0, 0, 0, 0, 0, 0, 0, 0, 0, 0, 0, 0, 0],\n",
       "       [0, 0, 0, 0, 0, 0, 0, 0, 0, 0, 0, 0, 0, 1, 0, 0, 0, 1, 0, 0, 0],\n",
       "       [0, 0, 0, 0, 0, 0, 0, 0, 0, 0, 0, 0, 0, 0, 0, 0, 1, 1, 0, 0, 0]])"
      ]
     },
     "execution_count": 22,
     "metadata": {},
     "output_type": "execute_result"
    }
   ],
   "source": [
    "coded_in[0]"
   ]
  },
  {
   "cell_type": "code",
   "execution_count": 23,
   "metadata": {},
   "outputs": [],
   "source": [
    "padded_in = pad_sequences(coded_in, value=np.zeros(21))\n",
    "padded_out = pad_sequences(coded_out, value=np.zeros(21),padding=\"post\")"
   ]
  },
  {
   "cell_type": "code",
   "execution_count": 24,
   "metadata": {},
   "outputs": [
    {
     "data": {
      "text/plain": [
       "(423, 13, 21)"
      ]
     },
     "execution_count": 24,
     "metadata": {},
     "output_type": "execute_result"
    }
   ],
   "source": [
    "padded_out = pad_sequences(coded_out, value=np.zeros(21),padding=\"post\")\n",
    "padded_out.shape"
   ]
  },
  {
   "cell_type": "markdown",
   "metadata": {},
   "source": [
    "about pre padding: https://stackoverflow.com/questions/46298793/how-does-choosing-between-pre-and-post-zero-padding-of-sequences-impact-results"
   ]
  },
  {
   "cell_type": "markdown",
   "metadata": {},
   "source": [
    "# Test Split"
   ]
  },
  {
   "cell_type": "code",
   "execution_count": 25,
   "metadata": {},
   "outputs": [],
   "source": [
    "x_test = padded_in[-30:]\n",
    "y_test = padded_out[-30:]\n",
    "\n",
    "padded_in = padded_in[:-30]\n",
    "padded_out = padded_out[:-30]"
   ]
  },
  {
   "cell_type": "markdown",
   "metadata": {},
   "source": [
    "# The Network"
   ]
  },
  {
   "cell_type": "code",
   "execution_count": null,
   "metadata": {},
   "outputs": [],
   "source": []
  },
  {
   "cell_type": "code",
   "execution_count": 26,
   "metadata": {},
   "outputs": [],
   "source": [
    "latent_dim = 256\n",
    "num_encoder_tokens = 21\n",
    "\n",
    "# Define an input sequence and process it.\n",
    "encoder_inputs = Input(shape=(None, num_encoder_tokens)) #19\n",
    "#encoder_inputs = Masking()(encoder_inputs) # Assuming PAD is zeros\n",
    "encoder = LSTM(latent_dim, return_state=True)\n",
    "# Now the LSTM will ignore the PADs when encoding\n",
    "# by skipping those timesteps that are masked\n",
    "encoder_outputs, state_h, state_c = encoder(encoder_inputs)\n",
    "# We discard `encoder_outputs` and only keep the states.\n",
    "encoder_states = [state_h, state_c]\n",
    "\n",
    "# Set up the decoder, using `encoder_states` as initial state.\n",
    "num_decoder_tokens = 21\n",
    "decoder_inputs = Input(shape=(None, num_decoder_tokens))\n",
    "# We set up our decoder to return full output sequences,\n",
    "# and to return internal states as well. We don't use the\n",
    "# return states in the training model, but we will use them in inference.\n",
    "decoder_lstm = LSTM(latent_dim, return_sequences=True, return_state=True)\n",
    "decoder_outputs, _, _ = decoder_lstm(decoder_inputs,\n",
    "                                     initial_state=encoder_states)\n",
    "decoder_dense = Dense(num_decoder_tokens, activation='sigmoid')\n",
    "decoder_outputs = decoder_dense(decoder_outputs)\n",
    "\n",
    "# Define the model that will turn\n",
    "# `encoder_input_data` & `decoder_input_data` into `decoder_target_data`\n",
    "model = Model([encoder_inputs, decoder_inputs], decoder_outputs)"
   ]
  },
  {
   "cell_type": "code",
   "execution_count": 27,
   "metadata": {},
   "outputs": [
    {
     "data": {
      "text/plain": [
       "21"
      ]
     },
     "execution_count": 27,
     "metadata": {},
     "output_type": "execute_result"
    }
   ],
   "source": [
    "num_encoder_tokens"
   ]
  },
  {
   "cell_type": "code",
   "execution_count": 28,
   "metadata": {},
   "outputs": [
    {
     "data": {
      "text/plain": [
       "array([[0, 0, 0, 0, 0, 0, 0, 0, 0, 0, 0, 0, 0, 0, 0, 0, 0, 0, 0, 1, 0],\n",
       "       [0, 1, 0, 0, 0, 0, 0, 0, 0, 0, 0, 0, 0, 0, 0, 0, 1, 1, 0, 0, 0],\n",
       "       [0, 1, 0, 0, 0, 0, 0, 1, 0, 0, 0, 0, 0, 0, 0, 0, 0, 0, 0, 0, 0],\n",
       "       [0, 0, 0, 1, 0, 0, 0, 1, 0, 0, 0, 0, 0, 0, 0, 0, 0, 0, 0, 0, 0],\n",
       "       [0, 0, 0, 0, 0, 0, 0, 0, 0, 0, 0, 0, 0, 0, 1, 0, 0, 1, 0, 0, 0],\n",
       "       [0, 0, 0, 0, 0, 0, 0, 0, 0, 0, 0, 0, 0, 1, 0, 0, 0, 1, 0, 0, 0],\n",
       "       [0, 0, 0, 0, 0, 0, 0, 0, 0, 0, 0, 0, 0, 1, 0, 0, 0, 0, 1, 0, 0],\n",
       "       [0, 0, 0, 0, 0, 0, 0, 0, 0, 0, 0, 0, 0, 0, 0, 0, 0, 0, 0, 0, 1],\n",
       "       [0, 0, 0, 0, 0, 0, 0, 0, 0, 0, 0, 0, 0, 0, 0, 0, 0, 0, 0, 0, 0],\n",
       "       [0, 0, 0, 0, 0, 0, 0, 0, 0, 0, 0, 0, 0, 0, 0, 0, 0, 0, 0, 0, 0],\n",
       "       [0, 0, 0, 0, 0, 0, 0, 0, 0, 0, 0, 0, 0, 0, 0, 0, 0, 0, 0, 0, 0],\n",
       "       [0, 0, 0, 0, 0, 0, 0, 0, 0, 0, 0, 0, 0, 0, 0, 0, 0, 0, 0, 0, 0],\n",
       "       [0, 0, 0, 0, 0, 0, 0, 0, 0, 0, 0, 0, 0, 0, 0, 0, 0, 0, 0, 0, 0]],\n",
       "      dtype=int32)"
      ]
     },
     "execution_count": 28,
     "metadata": {},
     "output_type": "execute_result"
    }
   ],
   "source": [
    "padded_out[0]"
   ]
  },
  {
   "cell_type": "code",
   "execution_count": 29,
   "metadata": {},
   "outputs": [],
   "source": [
    "coded_out_target = coded_out.apply(lambda x: np.vstack((x[1:],np.zeros(21))))"
   ]
  },
  {
   "cell_type": "code",
   "execution_count": 30,
   "metadata": {},
   "outputs": [
    {
     "data": {
      "text/plain": [
       "(393, 13, 21)"
      ]
     },
     "execution_count": 30,
     "metadata": {},
     "output_type": "execute_result"
    }
   ],
   "source": [
    "padded_out.shape"
   ]
  },
  {
   "cell_type": "code",
   "execution_count": 31,
   "metadata": {},
   "outputs": [],
   "source": [
    "padded_out_target = pad_sequences(coded_out_target, value=np.zeros(21),padding=\"post\")"
   ]
  },
  {
   "cell_type": "code",
   "execution_count": 32,
   "metadata": {},
   "outputs": [
    {
     "data": {
      "text/plain": [
       "(423, 13, 21)"
      ]
     },
     "execution_count": 32,
     "metadata": {},
     "output_type": "execute_result"
    }
   ],
   "source": [
    "padded_out_target.shape"
   ]
  },
  {
   "cell_type": "code",
   "execution_count": 33,
   "metadata": {},
   "outputs": [],
   "source": [
    "#because of test split\n",
    "padded_out_target = padded_out_target[:-30]"
   ]
  },
  {
   "cell_type": "code",
   "execution_count": null,
   "metadata": {},
   "outputs": [],
   "source": []
  },
  {
   "cell_type": "code",
   "execution_count": 34,
   "metadata": {},
   "outputs": [],
   "source": [
    "def mean_pred(y_true, y_pred):\n",
    "    print(K.shape(y_true))\n",
    "    return K.mean(y_pred[y_true == 1])"
   ]
  },
  {
   "cell_type": "code",
   "execution_count": 35,
   "metadata": {},
   "outputs": [],
   "source": [
    "def mean_pred(y_true, y_pred):\n",
    "    \n",
    "    return K.mean(y_pred[y_true == 1])"
   ]
  },
  {
   "cell_type": "code",
   "execution_count": 36,
   "metadata": {},
   "outputs": [
    {
     "name": "stdout",
     "output_type": "stream",
     "text": [
      "Train on 314 samples, validate on 79 samples\n",
      "Epoch 1/300\n",
      "314/314 [==============================] - 4s 11ms/step - loss: 0.6903 - fbeta_score: 0.1127 - recall: 0.4736 - precision: 0.0661 - val_loss: 0.6721 - val_fbeta_score: 0.1486 - val_recall: 0.1777 - val_precision: 0.1277\n",
      "Epoch 2/300\n",
      "314/314 [==============================] - 0s 503us/step - loss: 0.6617 - fbeta_score: 0.1343 - recall: 0.1392 - precision: 0.1464 - val_loss: 0.6220 - val_fbeta_score: 0.0333 - val_recall: 0.0189 - val_precision: 0.1401\n",
      "Epoch 3/300\n",
      "314/314 [==============================] - 0s 519us/step - loss: 0.5883 - fbeta_score: 0.0209 - recall: 0.0118 - precision: 0.1281 - val_loss: 0.4492 - val_fbeta_score: 0.0000e+00 - val_recall: 0.0000e+00 - val_precision: 0.0000e+00\n",
      "Epoch 4/300\n",
      "314/314 [==============================] - 0s 531us/step - loss: 0.3695 - fbeta_score: 0.0000e+00 - recall: 0.0000e+00 - precision: 0.0000e+00 - val_loss: 0.2227 - val_fbeta_score: 0.0000e+00 - val_recall: 0.0000e+00 - val_precision: 0.0000e+00\n",
      "Epoch 5/300\n",
      "314/314 [==============================] - 0s 543us/step - loss: 0.1991 - fbeta_score: 0.0000e+00 - recall: 0.0000e+00 - precision: 0.0000e+00 - val_loss: 0.1963 - val_fbeta_score: 0.0000e+00 - val_recall: 0.0000e+00 - val_precision: 0.0000e+00\n",
      "Epoch 6/300\n",
      "314/314 [==============================] - 0s 546us/step - loss: 0.1915 - fbeta_score: 0.0000e+00 - recall: 0.0000e+00 - precision: 0.0000e+00 - val_loss: 0.2065 - val_fbeta_score: 0.0000e+00 - val_recall: 0.0000e+00 - val_precision: 0.0000e+00\n",
      "Epoch 7/300\n",
      "314/314 [==============================] - 0s 530us/step - loss: 0.1911 - fbeta_score: 0.0000e+00 - recall: 0.0000e+00 - precision: 0.0000e+00 - val_loss: 0.1920 - val_fbeta_score: 0.0000e+00 - val_recall: 0.0000e+00 - val_precision: 0.0000e+00\n",
      "Epoch 8/300\n",
      "314/314 [==============================] - 0s 449us/step - loss: 0.1764 - fbeta_score: 0.0000e+00 - recall: 0.0000e+00 - precision: 0.0000e+00 - val_loss: 0.1833 - val_fbeta_score: 0.0000e+00 - val_recall: 0.0000e+00 - val_precision: 0.0000e+00\n",
      "Epoch 9/300\n",
      "314/314 [==============================] - 0s 405us/step - loss: 0.1732 - fbeta_score: 0.0000e+00 - recall: 0.0000e+00 - precision: 0.0000e+00 - val_loss: 0.1775 - val_fbeta_score: 0.0000e+00 - val_recall: 0.0000e+00 - val_precision: 0.0000e+00\n",
      "Epoch 10/300\n",
      "314/314 [==============================] - 0s 429us/step - loss: 0.1664 - fbeta_score: 0.0000e+00 - recall: 0.0000e+00 - precision: 0.0000e+00 - val_loss: 0.1731 - val_fbeta_score: 0.0000e+00 - val_recall: 0.0000e+00 - val_precision: 0.0000e+00\n",
      "Epoch 11/300\n",
      "314/314 [==============================] - 0s 481us/step - loss: 0.1629 - fbeta_score: 0.0000e+00 - recall: 0.0000e+00 - precision: 0.0000e+00 - val_loss: 0.1721 - val_fbeta_score: 0.0000e+00 - val_recall: 0.0000e+00 - val_precision: 0.0000e+00\n",
      "Epoch 12/300\n",
      "314/314 [==============================] - 0s 490us/step - loss: 0.1609 - fbeta_score: 0.0000e+00 - recall: 0.0000e+00 - precision: 0.0000e+00 - val_loss: 0.1688 - val_fbeta_score: 0.0000e+00 - val_recall: 0.0000e+00 - val_precision: 0.0000e+00\n",
      "Epoch 13/300\n",
      "314/314 [==============================] - 0s 532us/step - loss: 0.1583 - fbeta_score: 0.0000e+00 - recall: 0.0000e+00 - precision: 0.0000e+00 - val_loss: 0.1663 - val_fbeta_score: 0.0000e+00 - val_recall: 0.0000e+00 - val_precision: 0.0000e+00\n",
      "Epoch 14/300\n",
      "314/314 [==============================] - 0s 533us/step - loss: 0.1560 - fbeta_score: 0.0000e+00 - recall: 0.0000e+00 - precision: 0.0000e+00 - val_loss: 0.1636 - val_fbeta_score: 0.0000e+00 - val_recall: 0.0000e+00 - val_precision: 0.0000e+00\n",
      "Epoch 15/300\n",
      "314/314 [==============================] - 0s 545us/step - loss: 0.1530 - fbeta_score: 0.0000e+00 - recall: 0.0000e+00 - precision: 0.0000e+00 - val_loss: 0.1623 - val_fbeta_score: 0.0000e+00 - val_recall: 0.0000e+00 - val_precision: 0.0000e+00\n",
      "Epoch 16/300\n",
      "314/314 [==============================] - 0s 452us/step - loss: 0.1511 - fbeta_score: 0.0000e+00 - recall: 0.0000e+00 - precision: 0.0000e+00 - val_loss: 0.1598 - val_fbeta_score: 0.0000e+00 - val_recall: 0.0000e+00 - val_precision: 0.0000e+00\n",
      "Epoch 17/300\n",
      "314/314 [==============================] - 0s 503us/step - loss: 0.1492 - fbeta_score: 0.0000e+00 - recall: 0.0000e+00 - precision: 0.0000e+00 - val_loss: 0.1577 - val_fbeta_score: 0.0000e+00 - val_recall: 0.0000e+00 - val_precision: 0.0000e+00\n",
      "Epoch 18/300\n",
      "314/314 [==============================] - 0s 536us/step - loss: 0.1475 - fbeta_score: 0.0000e+00 - recall: 0.0000e+00 - precision: 0.0000e+00 - val_loss: 0.1568 - val_fbeta_score: 0.0000e+00 - val_recall: 0.0000e+00 - val_precision: 0.0000e+00\n",
      "Epoch 19/300\n",
      "314/314 [==============================] - 0s 530us/step - loss: 0.1457 - fbeta_score: 0.0000e+00 - recall: 0.0000e+00 - precision: 0.0000e+00 - val_loss: 0.1547 - val_fbeta_score: 0.0000e+00 - val_recall: 0.0000e+00 - val_precision: 0.0000e+00\n",
      "Epoch 20/300\n",
      "314/314 [==============================] - 0s 585us/step - loss: 0.1442 - fbeta_score: 0.0000e+00 - recall: 0.0000e+00 - precision: 0.0000e+00 - val_loss: 0.1539 - val_fbeta_score: 0.0000e+00 - val_recall: 0.0000e+00 - val_precision: 0.0000e+00\n",
      "Epoch 21/300\n",
      "314/314 [==============================] - 0s 484us/step - loss: 0.1424 - fbeta_score: 0.0000e+00 - recall: 0.0000e+00 - precision: 0.0000e+00 - val_loss: 0.1530 - val_fbeta_score: 0.0000e+00 - val_recall: 0.0000e+00 - val_precision: 0.0000e+00\n",
      "Epoch 22/300\n",
      "314/314 [==============================] - 0s 452us/step - loss: 0.1408 - fbeta_score: 0.0000e+00 - recall: 0.0000e+00 - precision: 0.0000e+00 - val_loss: 0.1511 - val_fbeta_score: 0.0000e+00 - val_recall: 0.0000e+00 - val_precision: 0.0000e+00\n",
      "Epoch 23/300\n",
      "314/314 [==============================] - 0s 531us/step - loss: 0.1392 - fbeta_score: 0.0000e+00 - recall: 0.0000e+00 - precision: 0.0000e+00 - val_loss: 0.1518 - val_fbeta_score: 0.0000e+00 - val_recall: 0.0000e+00 - val_precision: 0.0000e+00\n",
      "Epoch 24/300\n",
      "314/314 [==============================] - 0s 576us/step - loss: 0.1379 - fbeta_score: 0.0000e+00 - recall: 0.0000e+00 - precision: 0.0000e+00 - val_loss: 0.1493 - val_fbeta_score: 0.0017 - val_recall: 8.5837e-04 - val_precision: 0.5000\n",
      "Epoch 25/300\n",
      "314/314 [==============================] - 0s 492us/step - loss: 0.1367 - fbeta_score: 0.0058 - recall: 0.0029 - precision: 0.8153 - val_loss: 0.1493 - val_fbeta_score: 0.0000e+00 - val_recall: 0.0000e+00 - val_precision: 0.0000e+00\n",
      "Epoch 26/300\n",
      "314/314 [==============================] - 0s 407us/step - loss: 0.1356 - fbeta_score: 4.4673e-04 - recall: 2.2349e-04 - precision: 0.4076 - val_loss: 0.1486 - val_fbeta_score: 0.0000e+00 - val_recall: 0.0000e+00 - val_precision: 0.0000e+00\n",
      "Epoch 27/300\n",
      "314/314 [==============================] - 0s 455us/step - loss: 0.1348 - fbeta_score: 0.0049 - recall: 0.0025 - precision: 0.5924 - val_loss: 0.1484 - val_fbeta_score: 0.0119 - val_recall: 0.0060 - val_precision: 0.7778\n",
      "Epoch 28/300\n",
      "314/314 [==============================] - 0s 517us/step - loss: 0.1340 - fbeta_score: 0.0246 - recall: 0.0125 - precision: 0.9859 - val_loss: 0.1465 - val_fbeta_score: 0.0068 - val_recall: 0.0034 - val_precision: 0.8000\n",
      "Epoch 29/300\n",
      "314/314 [==============================] - 0s 475us/step - loss: 0.1332 - fbeta_score: 0.0085 - recall: 0.0043 - precision: 0.8153 - val_loss: 0.1485 - val_fbeta_score: 0.0051 - val_recall: 0.0026 - val_precision: 0.6000\n",
      "Epoch 30/300\n",
      "314/314 [==============================] - 0s 491us/step - loss: 0.1326 - fbeta_score: 0.0270 - recall: 0.0138 - precision: 1.0000 - val_loss: 0.1469 - val_fbeta_score: 0.0385 - val_recall: 0.0197 - val_precision: 0.7931\n",
      "Epoch 31/300\n",
      "314/314 [==============================] - 0s 549us/step - loss: 0.1318 - fbeta_score: 0.0480 - recall: 0.0246 - precision: 1.0000 - val_loss: 0.1447 - val_fbeta_score: 0.0369 - val_recall: 0.0189 - val_precision: 0.8462\n",
      "Epoch 32/300\n",
      "314/314 [==============================] - 0s 537us/step - loss: 0.1313 - fbeta_score: 0.0647 - recall: 0.0335 - precision: 0.9890 - val_loss: 0.1513 - val_fbeta_score: 0.0236 - val_recall: 0.0120 - val_precision: 0.7368\n",
      "Epoch 33/300\n"
     ]
    },
    {
     "name": "stdout",
     "output_type": "stream",
     "text": [
      "314/314 [==============================] - 0s 512us/step - loss: 0.1316 - fbeta_score: 0.1006 - recall: 0.0538 - precision: 0.9414 - val_loss: 0.1434 - val_fbeta_score: 0.0916 - val_recall: 0.0489 - val_precision: 0.7125\n",
      "Epoch 34/300\n",
      "314/314 [==============================] - 0s 530us/step - loss: 0.1301 - fbeta_score: 0.1333 - recall: 0.0722 - precision: 0.9486 - val_loss: 0.1467 - val_fbeta_score: 0.0703 - val_recall: 0.0369 - val_precision: 0.7414\n",
      "Epoch 35/300\n",
      "314/314 [==============================] - 0s 464us/step - loss: 0.1291 - fbeta_score: 0.1352 - recall: 0.0728 - precision: 0.9768 - val_loss: 0.1434 - val_fbeta_score: 0.1156 - val_recall: 0.0627 - val_precision: 0.7449\n",
      "Epoch 36/300\n",
      "314/314 [==============================] - 0s 496us/step - loss: 0.1288 - fbeta_score: 0.1702 - recall: 0.0938 - precision: 0.9475 - val_loss: 0.1432 - val_fbeta_score: 0.1108 - val_recall: 0.0601 - val_precision: 0.7071\n",
      "Epoch 37/300\n",
      "314/314 [==============================] - 0s 433us/step - loss: 0.1280 - fbeta_score: 0.1937 - recall: 0.1081 - precision: 0.9400 - val_loss: 0.1444 - val_fbeta_score: 0.1268 - val_recall: 0.0695 - val_precision: 0.7168\n",
      "Epoch 38/300\n",
      "314/314 [==============================] - 0s 404us/step - loss: 0.1274 - fbeta_score: 0.2339 - recall: 0.1339 - precision: 0.9240 - val_loss: 0.1420 - val_fbeta_score: 0.1536 - val_recall: 0.0867 - val_precision: 0.6733\n",
      "Epoch 39/300\n",
      "314/314 [==============================] - 0s 485us/step - loss: 0.1268 - fbeta_score: 0.2550 - recall: 0.1482 - precision: 0.9153 - val_loss: 0.1445 - val_fbeta_score: 0.1569 - val_recall: 0.0884 - val_precision: 0.6959\n",
      "Epoch 40/300\n",
      "314/314 [==============================] - 0s 488us/step - loss: 0.1263 - fbeta_score: 0.2684 - recall: 0.1575 - precision: 0.9087 - val_loss: 0.1416 - val_fbeta_score: 0.1820 - val_recall: 0.1047 - val_precision: 0.6932\n",
      "Epoch 41/300\n",
      "314/314 [==============================] - 0s 527us/step - loss: 0.1259 - fbeta_score: 0.2776 - recall: 0.1643 - precision: 0.8954 - val_loss: 0.1408 - val_fbeta_score: 0.1874 - val_recall: 0.1082 - val_precision: 0.7000\n",
      "Epoch 42/300\n",
      "314/314 [==============================] - 0s 496us/step - loss: 0.1252 - fbeta_score: 0.2870 - recall: 0.1705 - precision: 0.9091 - val_loss: 0.1432 - val_fbeta_score: 0.2040 - val_recall: 0.1193 - val_precision: 0.7020\n",
      "Epoch 43/300\n",
      "314/314 [==============================] - 0s 557us/step - loss: 0.1246 - fbeta_score: 0.3107 - recall: 0.1884 - precision: 0.8857 - val_loss: 0.1395 - val_fbeta_score: 0.2204 - val_recall: 0.1305 - val_precision: 0.7103\n",
      "Epoch 44/300\n",
      "314/314 [==============================] - 0s 576us/step - loss: 0.1242 - fbeta_score: 0.3117 - recall: 0.1894 - precision: 0.8801 - val_loss: 0.1422 - val_fbeta_score: 0.2075 - val_recall: 0.1219 - val_precision: 0.6961\n",
      "Epoch 45/300\n",
      "314/314 [==============================] - 0s 514us/step - loss: 0.1235 - fbeta_score: 0.3090 - recall: 0.1868 - precision: 0.8961 - val_loss: 0.1392 - val_fbeta_score: 0.2328 - val_recall: 0.1391 - val_precision: 0.7137\n",
      "Epoch 46/300\n",
      "314/314 [==============================] - 0s 458us/step - loss: 0.1232 - fbeta_score: 0.3227 - recall: 0.1981 - precision: 0.8709 - val_loss: 0.1381 - val_fbeta_score: 0.2230 - val_recall: 0.1322 - val_precision: 0.7130\n",
      "Epoch 47/300\n",
      "314/314 [==============================] - 0s 577us/step - loss: 0.1227 - fbeta_score: 0.3106 - recall: 0.1883 - precision: 0.8895 - val_loss: 0.1419 - val_fbeta_score: 0.2230 - val_recall: 0.1330 - val_precision: 0.6889\n",
      "Epoch 48/300\n",
      "314/314 [==============================] - 0s 530us/step - loss: 0.1221 - fbeta_score: 0.3269 - recall: 0.2016 - precision: 0.8659 - val_loss: 0.1368 - val_fbeta_score: 0.2293 - val_recall: 0.1365 - val_precision: 0.7162\n",
      "Epoch 49/300\n",
      "314/314 [==============================] - 0s 510us/step - loss: 0.1218 - fbeta_score: 0.3263 - recall: 0.2000 - precision: 0.8855 - val_loss: 0.1403 - val_fbeta_score: 0.2324 - val_recall: 0.1399 - val_precision: 0.6849\n",
      "Epoch 50/300\n",
      "314/314 [==============================] - 0s 565us/step - loss: 0.1213 - fbeta_score: 0.3327 - recall: 0.2055 - precision: 0.8729 - val_loss: 0.1395 - val_fbeta_score: 0.2400 - val_recall: 0.1468 - val_precision: 0.6577\n",
      "Epoch 51/300\n",
      "314/314 [==============================] - 0s 476us/step - loss: 0.1207 - fbeta_score: 0.3367 - recall: 0.2101 - precision: 0.8473 - val_loss: 0.1356 - val_fbeta_score: 0.2395 - val_recall: 0.1442 - val_precision: 0.7059\n",
      "Epoch 52/300\n",
      "314/314 [==============================] - 0s 491us/step - loss: 0.1204 - fbeta_score: 0.3346 - recall: 0.2068 - precision: 0.8767 - val_loss: 0.1394 - val_fbeta_score: 0.2407 - val_recall: 0.1476 - val_precision: 0.6515\n",
      "Epoch 53/300\n",
      "314/314 [==============================] - 0s 451us/step - loss: 0.1202 - fbeta_score: 0.3428 - recall: 0.2136 - precision: 0.8667 - val_loss: 0.1392 - val_fbeta_score: 0.2318 - val_recall: 0.1408 - val_precision: 0.6560\n",
      "Epoch 54/300\n",
      "314/314 [==============================] - 0s 506us/step - loss: 0.1195 - fbeta_score: 0.3326 - recall: 0.2066 - precision: 0.8531 - val_loss: 0.1343 - val_fbeta_score: 0.2533 - val_recall: 0.1545 - val_precision: 0.7031\n",
      "Epoch 55/300\n",
      "314/314 [==============================] - 0s 480us/step - loss: 0.1190 - fbeta_score: 0.3477 - recall: 0.2174 - precision: 0.8683 - val_loss: 0.1396 - val_fbeta_score: 0.2357 - val_recall: 0.1451 - val_precision: 0.6283\n",
      "Epoch 56/300\n",
      "314/314 [==============================] - 0s 448us/step - loss: 0.1185 - fbeta_score: 0.3401 - recall: 0.2133 - precision: 0.8410 - val_loss: 0.1338 - val_fbeta_score: 0.2518 - val_recall: 0.1536 - val_precision: 0.6965\n",
      "Epoch 57/300\n",
      "314/314 [==============================] - 0s 512us/step - loss: 0.1181 - fbeta_score: 0.3442 - recall: 0.2159 - precision: 0.8493 - val_loss: 0.1337 - val_fbeta_score: 0.2589 - val_recall: 0.1597 - val_precision: 0.6838\n",
      "Epoch 58/300\n",
      "314/314 [==============================] - 0s 502us/step - loss: 0.1174 - fbeta_score: 0.3572 - recall: 0.2251 - precision: 0.8648 - val_loss: 0.1354 - val_fbeta_score: 0.2474 - val_recall: 0.1519 - val_precision: 0.6654\n",
      "Epoch 59/300\n",
      "314/314 [==============================] - 0s 579us/step - loss: 0.1167 - fbeta_score: 0.3467 - recall: 0.2170 - precision: 0.8619 - val_loss: 0.1345 - val_fbeta_score: 0.2486 - val_recall: 0.1536 - val_precision: 0.6509\n",
      "Epoch 60/300\n",
      "314/314 [==============================] - 0s 540us/step - loss: 0.1163 - fbeta_score: 0.3517 - recall: 0.2215 - precision: 0.8534 - val_loss: 0.1346 - val_fbeta_score: 0.2500 - val_recall: 0.1536 - val_precision: 0.6704\n",
      "Epoch 61/300\n",
      "314/314 [==============================] - 0s 508us/step - loss: 0.1160 - fbeta_score: 0.3482 - recall: 0.2186 - precision: 0.8564 - val_loss: 0.1333 - val_fbeta_score: 0.2585 - val_recall: 0.1605 - val_precision: 0.6631\n",
      "Epoch 62/300\n",
      "314/314 [==============================] - 0s 459us/step - loss: 0.1153 - fbeta_score: 0.3589 - recall: 0.2293 - precision: 0.8255 - val_loss: 0.1317 - val_fbeta_score: 0.2828 - val_recall: 0.1777 - val_precision: 0.6923\n",
      "Epoch 63/300\n",
      "314/314 [==============================] - 0s 476us/step - loss: 0.1150 - fbeta_score: 0.3745 - recall: 0.2393 - precision: 0.8606 - val_loss: 0.1342 - val_fbeta_score: 0.2598 - val_recall: 0.1622 - val_precision: 0.6517\n",
      "Epoch 64/300\n",
      "314/314 [==============================] - 0s 582us/step - loss: 0.1145 - fbeta_score: 0.3652 - recall: 0.2324 - precision: 0.8523 - val_loss: 0.1305 - val_fbeta_score: 0.2787 - val_recall: 0.1751 - val_precision: 0.6823\n",
      "Epoch 65/300\n",
      "314/314 [==============================] - 0s 473us/step - loss: 0.1142 - fbeta_score: 0.3649 - recall: 0.2329 - precision: 0.8418 - val_loss: 0.1311 - val_fbeta_score: 0.2799 - val_recall: 0.1760 - val_precision: 0.6833\n",
      "Epoch 66/300\n",
      "314/314 [==============================] - 0s 524us/step - loss: 0.1135 - fbeta_score: 0.3739 - recall: 0.2389 - precision: 0.8594 - val_loss: 0.1349 - val_fbeta_score: 0.2509 - val_recall: 0.1571 - val_precision: 0.6224\n",
      "Epoch 67/300\n",
      "314/314 [==============================] - 0s 518us/step - loss: 0.1133 - fbeta_score: 0.3621 - recall: 0.2311 - precision: 0.8351 - val_loss: 0.1297 - val_fbeta_score: 0.2938 - val_recall: 0.1863 - val_precision: 0.6955\n",
      "Epoch 68/300\n"
     ]
    },
    {
     "name": "stdout",
     "output_type": "stream",
     "text": [
      "314/314 [==============================] - 0s 484us/step - loss: 0.1126 - fbeta_score: 0.3759 - recall: 0.2419 - precision: 0.8429 - val_loss: 0.1292 - val_fbeta_score: 0.2949 - val_recall: 0.1880 - val_precision: 0.6844\n",
      "Epoch 69/300\n",
      "314/314 [==============================] - 0s 454us/step - loss: 0.1120 - fbeta_score: 0.3891 - recall: 0.2525 - precision: 0.8480 - val_loss: 0.1298 - val_fbeta_score: 0.2865 - val_recall: 0.1820 - val_precision: 0.6730\n",
      "Epoch 70/300\n",
      "314/314 [==============================] - 0s 459us/step - loss: 0.1114 - fbeta_score: 0.3787 - recall: 0.2436 - precision: 0.8495 - val_loss: 0.1293 - val_fbeta_score: 0.2901 - val_recall: 0.1854 - val_precision: 0.6667\n",
      "Epoch 71/300\n",
      "314/314 [==============================] - 0s 474us/step - loss: 0.1110 - fbeta_score: 0.3863 - recall: 0.2518 - precision: 0.8302 - val_loss: 0.1273 - val_fbeta_score: 0.3244 - val_recall: 0.2120 - val_precision: 0.6899\n",
      "Epoch 72/300\n",
      "314/314 [==============================] - 0s 520us/step - loss: 0.1108 - fbeta_score: 0.4066 - recall: 0.2687 - precision: 0.8354 - val_loss: 0.1299 - val_fbeta_score: 0.2937 - val_recall: 0.1897 - val_precision: 0.6500\n",
      "Epoch 73/300\n",
      "314/314 [==============================] - 0s 523us/step - loss: 0.1107 - fbeta_score: 0.4010 - recall: 0.2629 - precision: 0.8449 - val_loss: 0.1328 - val_fbeta_score: 0.2727 - val_recall: 0.1742 - val_precision: 0.6265\n",
      "Epoch 74/300\n",
      "314/314 [==============================] - 0s 478us/step - loss: 0.1103 - fbeta_score: 0.3894 - recall: 0.2552 - precision: 0.8221 - val_loss: 0.1266 - val_fbeta_score: 0.3137 - val_recall: 0.2034 - val_precision: 0.6850\n",
      "Epoch 75/300\n",
      "314/314 [==============================] - 0s 495us/step - loss: 0.1094 - fbeta_score: 0.3970 - recall: 0.2610 - precision: 0.8302 - val_loss: 0.1260 - val_fbeta_score: 0.3165 - val_recall: 0.2069 - val_precision: 0.6732\n",
      "Epoch 76/300\n",
      "314/314 [==============================] - 0s 450us/step - loss: 0.1089 - fbeta_score: 0.4244 - recall: 0.2833 - precision: 0.8455 - val_loss: 0.1303 - val_fbeta_score: 0.2908 - val_recall: 0.1888 - val_precision: 0.6322\n",
      "Epoch 77/300\n",
      "314/314 [==============================] - 0s 452us/step - loss: 0.1082 - fbeta_score: 0.4098 - recall: 0.2718 - precision: 0.8328 - val_loss: 0.1253 - val_fbeta_score: 0.3288 - val_recall: 0.2163 - val_precision: 0.6848\n",
      "Epoch 78/300\n",
      "314/314 [==============================] - 0s 461us/step - loss: 0.1076 - fbeta_score: 0.4211 - recall: 0.2811 - precision: 0.8397 - val_loss: 0.1267 - val_fbeta_score: 0.3172 - val_recall: 0.2086 - val_precision: 0.6621\n",
      "Epoch 79/300\n",
      "314/314 [==============================] - 0s 525us/step - loss: 0.1071 - fbeta_score: 0.4266 - recall: 0.2862 - precision: 0.8381 - val_loss: 0.1288 - val_fbeta_score: 0.3122 - val_recall: 0.2052 - val_precision: 0.6530\n",
      "Epoch 80/300\n",
      "314/314 [==============================] - 0s 451us/step - loss: 0.1069 - fbeta_score: 0.4136 - recall: 0.2771 - precision: 0.8146 - val_loss: 0.1228 - val_fbeta_score: 0.3484 - val_recall: 0.2318 - val_precision: 0.7013\n",
      "Epoch 81/300\n",
      "314/314 [==============================] - 0s 509us/step - loss: 0.1069 - fbeta_score: 0.4261 - recall: 0.2855 - precision: 0.8414 - val_loss: 0.1254 - val_fbeta_score: 0.3198 - val_recall: 0.2094 - val_precision: 0.6759\n",
      "Epoch 82/300\n",
      "314/314 [==============================] - 0s 471us/step - loss: 0.1062 - fbeta_score: 0.4416 - recall: 0.2979 - precision: 0.8543 - val_loss: 0.1304 - val_fbeta_score: 0.3025 - val_recall: 0.1991 - val_precision: 0.6287\n",
      "Epoch 83/300\n",
      "314/314 [==============================] - 0s 480us/step - loss: 0.1061 - fbeta_score: 0.4203 - recall: 0.2836 - precision: 0.8145 - val_loss: 0.1224 - val_fbeta_score: 0.3595 - val_recall: 0.2421 - val_precision: 0.6980\n",
      "Epoch 84/300\n",
      "314/314 [==============================] - 0s 454us/step - loss: 0.1051 - fbeta_score: 0.4425 - recall: 0.3025 - precision: 0.8266 - val_loss: 0.1240 - val_fbeta_score: 0.3361 - val_recall: 0.2223 - val_precision: 0.6888\n",
      "Epoch 85/300\n",
      "314/314 [==============================] - 0s 519us/step - loss: 0.1043 - fbeta_score: 0.4429 - recall: 0.2990 - precision: 0.8543 - val_loss: 0.1247 - val_fbeta_score: 0.3234 - val_recall: 0.2137 - val_precision: 0.6640\n",
      "Epoch 86/300\n",
      "314/314 [==============================] - 0s 515us/step - loss: 0.1037 - fbeta_score: 0.4416 - recall: 0.3011 - precision: 0.8278 - val_loss: 0.1225 - val_fbeta_score: 0.3583 - val_recall: 0.2421 - val_precision: 0.6895\n",
      "Epoch 87/300\n",
      "314/314 [==============================] - 0s 495us/step - loss: 0.1031 - fbeta_score: 0.4504 - recall: 0.3091 - precision: 0.8295 - val_loss: 0.1220 - val_fbeta_score: 0.3520 - val_recall: 0.2352 - val_precision: 0.6990\n",
      "Epoch 88/300\n",
      "314/314 [==============================] - 0s 498us/step - loss: 0.1027 - fbeta_score: 0.4534 - recall: 0.3105 - precision: 0.8406 - val_loss: 0.1219 - val_fbeta_score: 0.3616 - val_recall: 0.2472 - val_precision: 0.6729\n",
      "Epoch 89/300\n",
      "314/314 [==============================] - 0s 444us/step - loss: 0.1024 - fbeta_score: 0.4773 - recall: 0.3355 - precision: 0.8270 - val_loss: 0.1273 - val_fbeta_score: 0.3272 - val_recall: 0.2197 - val_precision: 0.6400\n",
      "Epoch 90/300\n",
      "314/314 [==============================] - 0s 547us/step - loss: 0.1023 - fbeta_score: 0.4646 - recall: 0.3227 - precision: 0.8297 - val_loss: 0.1241 - val_fbeta_score: 0.3293 - val_recall: 0.2197 - val_precision: 0.6564\n",
      "Epoch 91/300\n",
      "314/314 [==============================] - 0s 463us/step - loss: 0.1016 - fbeta_score: 0.4528 - recall: 0.3123 - precision: 0.8231 - val_loss: 0.1183 - val_fbeta_score: 0.3794 - val_recall: 0.2592 - val_precision: 0.7073\n",
      "Epoch 92/300\n",
      "314/314 [==============================] - 0s 517us/step - loss: 0.1013 - fbeta_score: 0.4720 - recall: 0.3289 - precision: 0.8371 - val_loss: 0.1226 - val_fbeta_score: 0.3526 - val_recall: 0.2386 - val_precision: 0.6748\n",
      "Epoch 93/300\n",
      "314/314 [==============================] - 0s 507us/step - loss: 0.1004 - fbeta_score: 0.4794 - recall: 0.3356 - precision: 0.8389 - val_loss: 0.1234 - val_fbeta_score: 0.3575 - val_recall: 0.2429 - val_precision: 0.6770\n",
      "Epoch 94/300\n",
      "314/314 [==============================] - 0s 446us/step - loss: 0.0996 - fbeta_score: 0.4774 - recall: 0.3359 - precision: 0.8262 - val_loss: 0.1192 - val_fbeta_score: 0.3863 - val_recall: 0.2670 - val_precision: 0.6989\n",
      "Epoch 95/300\n",
      "314/314 [==============================] - 0s 476us/step - loss: 0.0989 - fbeta_score: 0.4850 - recall: 0.3410 - precision: 0.8398 - val_loss: 0.1208 - val_fbeta_score: 0.3765 - val_recall: 0.2584 - val_precision: 0.6935\n",
      "Epoch 96/300\n",
      "314/314 [==============================] - 0s 566us/step - loss: 0.0985 - fbeta_score: 0.4969 - recall: 0.3527 - precision: 0.8406 - val_loss: 0.1241 - val_fbeta_score: 0.3467 - val_recall: 0.2343 - val_precision: 0.6659\n",
      "Epoch 97/300\n",
      "314/314 [==============================] - 0s 528us/step - loss: 0.0982 - fbeta_score: 0.4767 - recall: 0.3346 - precision: 0.8293 - val_loss: 0.1166 - val_fbeta_score: 0.4024 - val_recall: 0.2833 - val_precision: 0.6947\n",
      "Epoch 98/300\n",
      "314/314 [==============================] - 0s 417us/step - loss: 0.0981 - fbeta_score: 0.5014 - recall: 0.3590 - precision: 0.8319 - val_loss: 0.1187 - val_fbeta_score: 0.3981 - val_recall: 0.2807 - val_precision: 0.6841\n",
      "Epoch 99/300\n",
      "314/314 [==============================] - 0s 417us/step - loss: 0.0973 - fbeta_score: 0.5091 - recall: 0.3661 - precision: 0.8355 - val_loss: 0.1222 - val_fbeta_score: 0.3724 - val_recall: 0.2575 - val_precision: 0.6726\n",
      "Epoch 100/300\n",
      "314/314 [==============================] - 0s 447us/step - loss: 0.0965 - fbeta_score: 0.5053 - recall: 0.3614 - precision: 0.8396 - val_loss: 0.1185 - val_fbeta_score: 0.3971 - val_recall: 0.2790 - val_precision: 0.6886\n",
      "Epoch 101/300\n",
      "314/314 [==============================] - 0s 479us/step - loss: 0.0957 - fbeta_score: 0.5046 - recall: 0.3601 - precision: 0.8429 - val_loss: 0.1168 - val_fbeta_score: 0.4000 - val_recall: 0.2807 - val_precision: 0.6957\n",
      "Epoch 102/300\n",
      "314/314 [==============================] - 0s 388us/step - loss: 0.0951 - fbeta_score: 0.5131 - recall: 0.3680 - precision: 0.8478 - val_loss: 0.1186 - val_fbeta_score: 0.4039 - val_recall: 0.2858 - val_precision: 0.6880\n",
      "Epoch 103/300\n"
     ]
    },
    {
     "name": "stdout",
     "output_type": "stream",
     "text": [
      "314/314 [==============================] - 0s 411us/step - loss: 0.0944 - fbeta_score: 0.5224 - recall: 0.3794 - precision: 0.8400 - val_loss: 0.1182 - val_fbeta_score: 0.4073 - val_recall: 0.2893 - val_precision: 0.6878\n",
      "Epoch 104/300\n",
      "314/314 [==============================] - 0s 407us/step - loss: 0.0941 - fbeta_score: 0.5243 - recall: 0.3811 - precision: 0.8403 - val_loss: 0.1172 - val_fbeta_score: 0.4075 - val_recall: 0.2893 - val_precision: 0.6892\n",
      "Epoch 105/300\n",
      "314/314 [==============================] - 0s 466us/step - loss: 0.0934 - fbeta_score: 0.5266 - recall: 0.3833 - precision: 0.8411 - val_loss: 0.1162 - val_fbeta_score: 0.4133 - val_recall: 0.2944 - val_precision: 0.6929\n",
      "Epoch 106/300\n",
      "314/314 [==============================] - 0s 468us/step - loss: 0.0930 - fbeta_score: 0.5271 - recall: 0.3838 - precision: 0.8412 - val_loss: 0.1203 - val_fbeta_score: 0.4002 - val_recall: 0.2833 - val_precision: 0.6818\n",
      "Epoch 107/300\n",
      "314/314 [==============================] - 0s 443us/step - loss: 0.0927 - fbeta_score: 0.5329 - recall: 0.3900 - precision: 0.8411 - val_loss: 0.1192 - val_fbeta_score: 0.4034 - val_recall: 0.2858 - val_precision: 0.6852\n",
      "Epoch 108/300\n",
      "314/314 [==============================] - 0s 451us/step - loss: 0.0921 - fbeta_score: 0.5255 - recall: 0.3824 - precision: 0.8409 - val_loss: 0.1152 - val_fbeta_score: 0.4272 - val_recall: 0.3099 - val_precision: 0.6876\n",
      "Epoch 109/300\n",
      "314/314 [==============================] - 0s 361us/step - loss: 0.0910 - fbeta_score: 0.5457 - recall: 0.4046 - precision: 0.8381 - val_loss: 0.1168 - val_fbeta_score: 0.4145 - val_recall: 0.2953 - val_precision: 0.6949\n",
      "Epoch 110/300\n",
      "314/314 [==============================] - 0s 564us/step - loss: 0.0906 - fbeta_score: 0.5368 - recall: 0.3922 - precision: 0.8507 - val_loss: 0.1172 - val_fbeta_score: 0.4243 - val_recall: 0.3082 - val_precision: 0.6812\n",
      "Epoch 111/300\n",
      "314/314 [==============================] - 0s 426us/step - loss: 0.0901 - fbeta_score: 0.5501 - recall: 0.4094 - precision: 0.8382 - val_loss: 0.1179 - val_fbeta_score: 0.4217 - val_recall: 0.3039 - val_precision: 0.6887\n",
      "Epoch 112/300\n",
      "314/314 [==============================] - 0s 522us/step - loss: 0.0896 - fbeta_score: 0.5458 - recall: 0.4027 - precision: 0.8468 - val_loss: 0.1125 - val_fbeta_score: 0.4388 - val_recall: 0.3185 - val_precision: 0.7053\n",
      "Epoch 113/300\n",
      "314/314 [==============================] - 0s 498us/step - loss: 0.0892 - fbeta_score: 0.5526 - recall: 0.4114 - precision: 0.8420 - val_loss: 0.1118 - val_fbeta_score: 0.4503 - val_recall: 0.3305 - val_precision: 0.7064\n",
      "Epoch 114/300\n",
      "314/314 [==============================] - 0s 468us/step - loss: 0.0888 - fbeta_score: 0.5610 - recall: 0.4201 - precision: 0.8443 - val_loss: 0.1192 - val_fbeta_score: 0.4217 - val_recall: 0.3039 - val_precision: 0.6887\n",
      "Epoch 115/300\n",
      "314/314 [==============================] - 0s 508us/step - loss: 0.0887 - fbeta_score: 0.5608 - recall: 0.4230 - precision: 0.8316 - val_loss: 0.1175 - val_fbeta_score: 0.4269 - val_recall: 0.3082 - val_precision: 0.6944\n",
      "Epoch 116/300\n",
      "314/314 [==============================] - 0s 501us/step - loss: 0.0877 - fbeta_score: 0.5544 - recall: 0.4148 - precision: 0.8356 - val_loss: 0.1111 - val_fbeta_score: 0.4562 - val_recall: 0.3356 - val_precision: 0.7122\n",
      "Epoch 117/300\n",
      "314/314 [==============================] - 0s 462us/step - loss: 0.0871 - fbeta_score: 0.5652 - recall: 0.4271 - precision: 0.8351 - val_loss: 0.1107 - val_fbeta_score: 0.4771 - val_recall: 0.3571 - val_precision: 0.7185\n",
      "Epoch 118/300\n",
      "314/314 [==============================] - 0s 465us/step - loss: 0.0866 - fbeta_score: 0.5806 - recall: 0.4419 - precision: 0.8466 - val_loss: 0.1166 - val_fbeta_score: 0.4304 - val_recall: 0.3090 - val_precision: 0.7087\n",
      "Epoch 119/300\n",
      "314/314 [==============================] - 0s 382us/step - loss: 0.0860 - fbeta_score: 0.5736 - recall: 0.4336 - precision: 0.8477 - val_loss: 0.1156 - val_fbeta_score: 0.4528 - val_recall: 0.3373 - val_precision: 0.6883\n",
      "Epoch 120/300\n",
      "314/314 [==============================] - 0s 389us/step - loss: 0.0853 - fbeta_score: 0.5816 - recall: 0.4451 - precision: 0.8388 - val_loss: 0.1128 - val_fbeta_score: 0.4526 - val_recall: 0.3322 - val_precision: 0.7101\n",
      "Epoch 121/300\n",
      "314/314 [==============================] - 0s 448us/step - loss: 0.0844 - fbeta_score: 0.5839 - recall: 0.4463 - precision: 0.8442 - val_loss: 0.1112 - val_fbeta_score: 0.4804 - val_recall: 0.3622 - val_precision: 0.7128\n",
      "Epoch 122/300\n",
      "314/314 [==============================] - 0s 481us/step - loss: 0.0837 - fbeta_score: 0.5944 - recall: 0.4570 - precision: 0.8500 - val_loss: 0.1138 - val_fbeta_score: 0.4582 - val_recall: 0.3391 - val_precision: 0.7066\n",
      "Epoch 123/300\n",
      "314/314 [==============================] - 0s 373us/step - loss: 0.0832 - fbeta_score: 0.5918 - recall: 0.4524 - precision: 0.8557 - val_loss: 0.1132 - val_fbeta_score: 0.4714 - val_recall: 0.3536 - val_precision: 0.7067\n",
      "Epoch 124/300\n",
      "314/314 [==============================] - 0s 455us/step - loss: 0.0829 - fbeta_score: 0.5973 - recall: 0.4639 - precision: 0.8385 - val_loss: 0.1089 - val_fbeta_score: 0.4946 - val_recall: 0.3751 - val_precision: 0.7259\n",
      "Epoch 125/300\n",
      "314/314 [==============================] - 0s 492us/step - loss: 0.0822 - fbeta_score: 0.5964 - recall: 0.4590 - precision: 0.8514 - val_loss: 0.1093 - val_fbeta_score: 0.4923 - val_recall: 0.3725 - val_precision: 0.7258\n",
      "Epoch 126/300\n",
      "314/314 [==============================] - 0s 431us/step - loss: 0.0816 - fbeta_score: 0.6143 - recall: 0.4775 - precision: 0.8611 - val_loss: 0.1153 - val_fbeta_score: 0.4733 - val_recall: 0.3536 - val_precision: 0.7153\n",
      "Epoch 127/300\n",
      "314/314 [==============================] - 0s 465us/step - loss: 0.0811 - fbeta_score: 0.6092 - recall: 0.4721 - precision: 0.8586 - val_loss: 0.1112 - val_fbeta_score: 0.4907 - val_recall: 0.3725 - val_precision: 0.7185\n",
      "Epoch 128/300\n",
      "314/314 [==============================] - 0s 474us/step - loss: 0.0804 - fbeta_score: 0.6139 - recall: 0.4803 - precision: 0.8506 - val_loss: 0.1076 - val_fbeta_score: 0.5146 - val_recall: 0.4000 - val_precision: 0.7214\n",
      "Epoch 129/300\n",
      "314/314 [==============================] - 0s 518us/step - loss: 0.0796 - fbeta_score: 0.6366 - recall: 0.5062 - precision: 0.8581 - val_loss: 0.1135 - val_fbeta_score: 0.4818 - val_recall: 0.3631 - val_precision: 0.7157\n",
      "Epoch 130/300\n",
      "314/314 [==============================] - 0s 488us/step - loss: 0.0792 - fbeta_score: 0.6160 - recall: 0.4783 - precision: 0.8653 - val_loss: 0.1105 - val_fbeta_score: 0.4969 - val_recall: 0.3777 - val_precision: 0.7261\n",
      "Epoch 131/300\n",
      "314/314 [==============================] - 0s 459us/step - loss: 0.0785 - fbeta_score: 0.6324 - recall: 0.5010 - precision: 0.8577 - val_loss: 0.1087 - val_fbeta_score: 0.5114 - val_recall: 0.3931 - val_precision: 0.7316\n",
      "Epoch 132/300\n",
      "314/314 [==============================] - 0s 442us/step - loss: 0.0777 - fbeta_score: 0.6341 - recall: 0.5011 - precision: 0.8634 - val_loss: 0.1062 - val_fbeta_score: 0.5236 - val_recall: 0.4043 - val_precision: 0.7429\n",
      "Epoch 133/300\n",
      "314/314 [==============================] - 0s 433us/step - loss: 0.0772 - fbeta_score: 0.6413 - recall: 0.5078 - precision: 0.8699 - val_loss: 0.1065 - val_fbeta_score: 0.5348 - val_recall: 0.4223 - val_precision: 0.7289\n",
      "Epoch 134/300\n",
      "314/314 [==============================] - 0s 445us/step - loss: 0.0766 - fbeta_score: 0.6513 - recall: 0.5228 - precision: 0.8637 - val_loss: 0.1102 - val_fbeta_score: 0.5150 - val_recall: 0.3974 - val_precision: 0.7314\n",
      "Epoch 135/300\n",
      "314/314 [==============================] - 0s 422us/step - loss: 0.0760 - fbeta_score: 0.6488 - recall: 0.5184 - precision: 0.8680 - val_loss: 0.1088 - val_fbeta_score: 0.5191 - val_recall: 0.4026 - val_precision: 0.7305\n",
      "Epoch 136/300\n",
      "314/314 [==============================] - 0s 421us/step - loss: 0.0754 - fbeta_score: 0.6507 - recall: 0.5209 - precision: 0.8664 - val_loss: 0.1080 - val_fbeta_score: 0.5362 - val_recall: 0.4223 - val_precision: 0.7343\n",
      "Epoch 137/300\n",
      "314/314 [==============================] - 0s 430us/step - loss: 0.0748 - fbeta_score: 0.6654 - recall: 0.5401 - precision: 0.8666 - val_loss: 0.1102 - val_fbeta_score: 0.5218 - val_recall: 0.4103 - val_precision: 0.7166\n"
     ]
    },
    {
     "name": "stdout",
     "output_type": "stream",
     "text": [
      "Epoch 138/300\n",
      "314/314 [==============================] - 0s 540us/step - loss: 0.0744 - fbeta_score: 0.6580 - recall: 0.5301 - precision: 0.8673 - val_loss: 0.1079 - val_fbeta_score: 0.5356 - val_recall: 0.4197 - val_precision: 0.7398\n",
      "Epoch 139/300\n",
      "314/314 [==============================] - 0s 499us/step - loss: 0.0734 - fbeta_score: 0.6623 - recall: 0.5354 - precision: 0.8686 - val_loss: 0.1058 - val_fbeta_score: 0.5472 - val_recall: 0.4326 - val_precision: 0.7445\n",
      "Epoch 140/300\n",
      "314/314 [==============================] - 0s 549us/step - loss: 0.0729 - fbeta_score: 0.6710 - recall: 0.5468 - precision: 0.8683 - val_loss: 0.1030 - val_fbeta_score: 0.5536 - val_recall: 0.4455 - val_precision: 0.7310\n",
      "Epoch 141/300\n",
      "314/314 [==============================] - 0s 478us/step - loss: 0.0729 - fbeta_score: 0.6706 - recall: 0.5461 - precision: 0.8689 - val_loss: 0.1045 - val_fbeta_score: 0.5520 - val_recall: 0.4395 - val_precision: 0.7420\n",
      "Epoch 142/300\n",
      "314/314 [==============================] - 0s 497us/step - loss: 0.0718 - fbeta_score: 0.6772 - recall: 0.5523 - precision: 0.8749 - val_loss: 0.1081 - val_fbeta_score: 0.5442 - val_recall: 0.4283 - val_precision: 0.7459\n",
      "Epoch 143/300\n",
      "314/314 [==============================] - 0s 429us/step - loss: 0.0712 - fbeta_score: 0.6786 - recall: 0.5535 - precision: 0.8770 - val_loss: 0.1049 - val_fbeta_score: 0.5558 - val_recall: 0.4446 - val_precision: 0.7411\n",
      "Epoch 144/300\n",
      "314/314 [==============================] - 0s 404us/step - loss: 0.0706 - fbeta_score: 0.6859 - recall: 0.5635 - precision: 0.8766 - val_loss: 0.1022 - val_fbeta_score: 0.5670 - val_recall: 0.4541 - val_precision: 0.7546\n",
      "Epoch 145/300\n",
      "314/314 [==============================] - 0s 433us/step - loss: 0.0705 - fbeta_score: 0.6882 - recall: 0.5676 - precision: 0.8738 - val_loss: 0.1029 - val_fbeta_score: 0.5681 - val_recall: 0.4584 - val_precision: 0.7469\n",
      "Epoch 146/300\n",
      "314/314 [==============================] - 0s 443us/step - loss: 0.0695 - fbeta_score: 0.6946 - recall: 0.5731 - precision: 0.8815 - val_loss: 0.1067 - val_fbeta_score: 0.5565 - val_recall: 0.4481 - val_precision: 0.7342\n",
      "Epoch 147/300\n",
      "314/314 [==============================] - 0s 461us/step - loss: 0.0693 - fbeta_score: 0.6963 - recall: 0.5779 - precision: 0.8758 - val_loss: 0.1086 - val_fbeta_score: 0.5434 - val_recall: 0.4275 - val_precision: 0.7455\n",
      "Epoch 148/300\n",
      "314/314 [==============================] - 0s 402us/step - loss: 0.0687 - fbeta_score: 0.6917 - recall: 0.5668 - precision: 0.8871 - val_loss: 0.1043 - val_fbeta_score: 0.5803 - val_recall: 0.4790 - val_precision: 0.7361\n",
      "Epoch 149/300\n",
      "314/314 [==============================] - 0s 430us/step - loss: 0.0680 - fbeta_score: 0.7090 - recall: 0.5984 - precision: 0.8698 - val_loss: 0.1031 - val_fbeta_score: 0.5710 - val_recall: 0.4575 - val_precision: 0.7593\n",
      "Epoch 150/300\n",
      "314/314 [==============================] - 0s 438us/step - loss: 0.0675 - fbeta_score: 0.6975 - recall: 0.5723 - precision: 0.8936 - val_loss: 0.1029 - val_fbeta_score: 0.5827 - val_recall: 0.4764 - val_precision: 0.7500\n",
      "Epoch 151/300\n",
      "314/314 [==============================] - 0s 492us/step - loss: 0.0668 - fbeta_score: 0.7153 - recall: 0.6020 - precision: 0.8816 - val_loss: 0.1046 - val_fbeta_score: 0.5626 - val_recall: 0.4532 - val_precision: 0.7416\n",
      "Epoch 152/300\n",
      "314/314 [==============================] - 0s 508us/step - loss: 0.0661 - fbeta_score: 0.7122 - recall: 0.5945 - precision: 0.8882 - val_loss: 0.1014 - val_fbeta_score: 0.5905 - val_recall: 0.4815 - val_precision: 0.7633\n",
      "Epoch 153/300\n",
      "314/314 [==============================] - 0s 491us/step - loss: 0.0654 - fbeta_score: 0.7201 - recall: 0.6062 - precision: 0.8868 - val_loss: 0.1016 - val_fbeta_score: 0.5910 - val_recall: 0.4850 - val_precision: 0.7564\n",
      "Epoch 154/300\n",
      "314/314 [==============================] - 0s 520us/step - loss: 0.0648 - fbeta_score: 0.7221 - recall: 0.6104 - precision: 0.8845 - val_loss: 0.1023 - val_fbeta_score: 0.5917 - val_recall: 0.4876 - val_precision: 0.7523\n",
      "Epoch 155/300\n",
      "314/314 [==============================] - 0s 574us/step - loss: 0.0643 - fbeta_score: 0.7300 - recall: 0.6183 - precision: 0.8911 - val_loss: 0.1026 - val_fbeta_score: 0.5874 - val_recall: 0.4773 - val_precision: 0.7637\n",
      "Epoch 156/300\n",
      "314/314 [==============================] - 0s 505us/step - loss: 0.0641 - fbeta_score: 0.7256 - recall: 0.6124 - precision: 0.8908 - val_loss: 0.1042 - val_fbeta_score: 0.6005 - val_recall: 0.4961 - val_precision: 0.7605\n",
      "Epoch 157/300\n",
      "314/314 [==============================] - 0s 502us/step - loss: 0.0635 - fbeta_score: 0.7269 - recall: 0.6130 - precision: 0.8930 - val_loss: 0.1007 - val_fbeta_score: 0.5970 - val_recall: 0.4927 - val_precision: 0.7573\n",
      "Epoch 158/300\n",
      "314/314 [==============================] - 0s 542us/step - loss: 0.0628 - fbeta_score: 0.7338 - recall: 0.6246 - precision: 0.8895 - val_loss: 0.0994 - val_fbeta_score: 0.6136 - val_recall: 0.5159 - val_precision: 0.7569\n",
      "Epoch 159/300\n",
      "314/314 [==============================] - 0s 519us/step - loss: 0.0625 - fbeta_score: 0.7393 - recall: 0.6333 - precision: 0.8881 - val_loss: 0.1013 - val_fbeta_score: 0.6065 - val_recall: 0.5021 - val_precision: 0.7657\n",
      "Epoch 160/300\n",
      "314/314 [==============================] - 0s 486us/step - loss: 0.0621 - fbeta_score: 0.7378 - recall: 0.6272 - precision: 0.8959 - val_loss: 0.1054 - val_fbeta_score: 0.6004 - val_recall: 0.4953 - val_precision: 0.7622\n",
      "Epoch 161/300\n",
      "314/314 [==============================] - 0s 475us/step - loss: 0.0616 - fbeta_score: 0.7431 - recall: 0.6357 - precision: 0.8945 - val_loss: 0.1011 - val_fbeta_score: 0.6131 - val_recall: 0.5073 - val_precision: 0.7746\n",
      "Epoch 162/300\n",
      "314/314 [==============================] - 0s 508us/step - loss: 0.0608 - fbeta_score: 0.7436 - recall: 0.6342 - precision: 0.8997 - val_loss: 0.1017 - val_fbeta_score: 0.6232 - val_recall: 0.5253 - val_precision: 0.7660\n",
      "Epoch 163/300\n",
      "314/314 [==============================] - 0s 565us/step - loss: 0.0606 - fbeta_score: 0.7479 - recall: 0.6408 - precision: 0.8982 - val_loss: 0.0990 - val_fbeta_score: 0.6128 - val_recall: 0.5073 - val_precision: 0.7736\n",
      "Epoch 164/300\n",
      "314/314 [==============================] - 0s 436us/step - loss: 0.0603 - fbeta_score: 0.7485 - recall: 0.6431 - precision: 0.8957 - val_loss: 0.0948 - val_fbeta_score: 0.6343 - val_recall: 0.5382 - val_precision: 0.7722\n",
      "Epoch 165/300\n",
      "314/314 [==============================] - 0s 414us/step - loss: 0.0603 - fbeta_score: 0.7457 - recall: 0.6369 - precision: 0.8997 - val_loss: 0.0974 - val_fbeta_score: 0.6318 - val_recall: 0.5339 - val_precision: 0.7736\n",
      "Epoch 166/300\n",
      "314/314 [==============================] - 0s 416us/step - loss: 0.0592 - fbeta_score: 0.7624 - recall: 0.6621 - precision: 0.8989 - val_loss: 0.1009 - val_fbeta_score: 0.6168 - val_recall: 0.5133 - val_precision: 0.7726\n",
      "Epoch 167/300\n",
      "314/314 [==============================] - 0s 442us/step - loss: 0.0590 - fbeta_score: 0.7516 - recall: 0.6433 - precision: 0.9042 - val_loss: 0.1072 - val_fbeta_score: 0.6218 - val_recall: 0.5236 - val_precision: 0.7654\n",
      "Epoch 168/300\n",
      "314/314 [==============================] - 0s 457us/step - loss: 0.0591 - fbeta_score: 0.7626 - recall: 0.6690 - precision: 0.8869 - val_loss: 0.1004 - val_fbeta_score: 0.6190 - val_recall: 0.5124 - val_precision: 0.7814\n",
      "Epoch 169/300\n",
      "314/314 [==============================] - 0s 499us/step - loss: 0.0578 - fbeta_score: 0.7578 - recall: 0.6478 - precision: 0.9131 - val_loss: 0.0961 - val_fbeta_score: 0.6498 - val_recall: 0.5631 - val_precision: 0.7681\n",
      "Epoch 170/300\n",
      "314/314 [==============================] - 0s 439us/step - loss: 0.0571 - fbeta_score: 0.7680 - recall: 0.6702 - precision: 0.8994 - val_loss: 0.1008 - val_fbeta_score: 0.6341 - val_recall: 0.5348 - val_precision: 0.7788\n",
      "Epoch 171/300\n",
      "314/314 [==============================] - 0s 569us/step - loss: 0.0566 - fbeta_score: 0.7723 - recall: 0.6729 - precision: 0.9063 - val_loss: 0.0991 - val_fbeta_score: 0.6403 - val_recall: 0.5494 - val_precision: 0.7674\n",
      "Epoch 172/300\n",
      "314/314 [==============================] - 0s 531us/step - loss: 0.0559 - fbeta_score: 0.7738 - recall: 0.6758 - precision: 0.9051 - val_loss: 0.0969 - val_fbeta_score: 0.6397 - val_recall: 0.5433 - val_precision: 0.7776\n"
     ]
    },
    {
     "name": "stdout",
     "output_type": "stream",
     "text": [
      "Epoch 173/300\n",
      "314/314 [==============================] - 0s 452us/step - loss: 0.0555 - fbeta_score: 0.7768 - recall: 0.6752 - precision: 0.9146 - val_loss: 0.0952 - val_fbeta_score: 0.6520 - val_recall: 0.5614 - val_precision: 0.7776\n",
      "Epoch 174/300\n",
      "314/314 [==============================] - 0s 424us/step - loss: 0.0552 - fbeta_score: 0.7808 - recall: 0.6861 - precision: 0.9059 - val_loss: 0.0995 - val_fbeta_score: 0.6426 - val_recall: 0.5433 - val_precision: 0.7863\n",
      "Epoch 175/300\n",
      "314/314 [==============================] - 0s 469us/step - loss: 0.0544 - fbeta_score: 0.7814 - recall: 0.6782 - precision: 0.9215 - val_loss: 0.1027 - val_fbeta_score: 0.6309 - val_recall: 0.5305 - val_precision: 0.7783\n",
      "Epoch 176/300\n",
      "314/314 [==============================] - 0s 377us/step - loss: 0.0541 - fbeta_score: 0.7831 - recall: 0.6864 - precision: 0.9119 - val_loss: 0.0982 - val_fbeta_score: 0.6524 - val_recall: 0.5622 - val_precision: 0.7770\n",
      "Epoch 177/300\n",
      "314/314 [==============================] - 0s 427us/step - loss: 0.0537 - fbeta_score: 0.7901 - recall: 0.6964 - precision: 0.9130 - val_loss: 0.0975 - val_fbeta_score: 0.6408 - val_recall: 0.5468 - val_precision: 0.7740\n",
      "Epoch 178/300\n",
      "314/314 [==============================] - 0s 519us/step - loss: 0.0532 - fbeta_score: 0.7876 - recall: 0.6926 - precision: 0.9129 - val_loss: 0.0934 - val_fbeta_score: 0.6686 - val_recall: 0.5845 - val_precision: 0.7810\n",
      "Epoch 179/300\n",
      "314/314 [==============================] - 0s 565us/step - loss: 0.0526 - fbeta_score: 0.7958 - recall: 0.7059 - precision: 0.9120 - val_loss: 0.0992 - val_fbeta_score: 0.6526 - val_recall: 0.5562 - val_precision: 0.7893\n",
      "Epoch 180/300\n",
      "314/314 [==============================] - 0s 498us/step - loss: 0.0520 - fbeta_score: 0.7958 - recall: 0.6995 - precision: 0.9228 - val_loss: 0.1011 - val_fbeta_score: 0.6475 - val_recall: 0.5511 - val_precision: 0.7848\n",
      "Epoch 181/300\n",
      "314/314 [==============================] - 0s 465us/step - loss: 0.0516 - fbeta_score: 0.7948 - recall: 0.7001 - precision: 0.9191 - val_loss: 0.0940 - val_fbeta_score: 0.6710 - val_recall: 0.5794 - val_precision: 0.7969\n",
      "Epoch 182/300\n",
      "314/314 [==============================] - 0s 510us/step - loss: 0.0510 - fbeta_score: 0.8013 - recall: 0.7087 - precision: 0.9217 - val_loss: 0.0938 - val_fbeta_score: 0.6650 - val_recall: 0.5768 - val_precision: 0.7850\n",
      "Epoch 183/300\n",
      "314/314 [==============================] - 0s 551us/step - loss: 0.0507 - fbeta_score: 0.8057 - recall: 0.7177 - precision: 0.9184 - val_loss: 0.0983 - val_fbeta_score: 0.6627 - val_recall: 0.5734 - val_precision: 0.7850\n",
      "Epoch 184/300\n",
      "314/314 [==============================] - 0s 546us/step - loss: 0.0501 - fbeta_score: 0.8069 - recall: 0.7181 - precision: 0.9208 - val_loss: 0.0960 - val_fbeta_score: 0.6607 - val_recall: 0.5734 - val_precision: 0.7795\n",
      "Epoch 185/300\n",
      "314/314 [==============================] - 0s 588us/step - loss: 0.0495 - fbeta_score: 0.8084 - recall: 0.7165 - precision: 0.9276 - val_loss: 0.0968 - val_fbeta_score: 0.6633 - val_recall: 0.5717 - val_precision: 0.7900\n",
      "Epoch 186/300\n",
      "314/314 [==============================] - 0s 527us/step - loss: 0.0491 - fbeta_score: 0.8118 - recall: 0.7252 - precision: 0.9220 - val_loss: 0.0975 - val_fbeta_score: 0.6660 - val_recall: 0.5760 - val_precision: 0.7894\n",
      "Epoch 187/300\n",
      "314/314 [==============================] - 0s 409us/step - loss: 0.0489 - fbeta_score: 0.8123 - recall: 0.7271 - precision: 0.9202 - val_loss: 0.0950 - val_fbeta_score: 0.6765 - val_recall: 0.5914 - val_precision: 0.7901\n",
      "Epoch 188/300\n",
      "314/314 [==============================] - 0s 416us/step - loss: 0.0483 - fbeta_score: 0.8150 - recall: 0.7323 - precision: 0.9187 - val_loss: 0.0939 - val_fbeta_score: 0.6686 - val_recall: 0.5803 - val_precision: 0.7888\n",
      "Epoch 189/300\n",
      "314/314 [==============================] - 0s 550us/step - loss: 0.0480 - fbeta_score: 0.8167 - recall: 0.7304 - precision: 0.9262 - val_loss: 0.0929 - val_fbeta_score: 0.6745 - val_recall: 0.5940 - val_precision: 0.7802\n",
      "Epoch 190/300\n",
      "314/314 [==============================] - 0s 460us/step - loss: 0.0475 - fbeta_score: 0.8219 - recall: 0.7388 - precision: 0.9262 - val_loss: 0.0951 - val_fbeta_score: 0.6785 - val_recall: 0.5888 - val_precision: 0.8005\n",
      "Epoch 191/300\n",
      "314/314 [==============================] - 0s 442us/step - loss: 0.0469 - fbeta_score: 0.8244 - recall: 0.7414 - precision: 0.9283 - val_loss: 0.0954 - val_fbeta_score: 0.6778 - val_recall: 0.5948 - val_precision: 0.7875\n",
      "Epoch 192/300\n",
      "314/314 [==============================] - 0s 530us/step - loss: 0.0464 - fbeta_score: 0.8280 - recall: 0.7499 - precision: 0.9242 - val_loss: 0.0949 - val_fbeta_score: 0.6769 - val_recall: 0.5888 - val_precision: 0.7958\n",
      "Epoch 193/300\n",
      "314/314 [==============================] - 0s 434us/step - loss: 0.0460 - fbeta_score: 0.8270 - recall: 0.7450 - precision: 0.9292 - val_loss: 0.0952 - val_fbeta_score: 0.6762 - val_recall: 0.5897 - val_precision: 0.7924\n",
      "Epoch 194/300\n",
      "314/314 [==============================] - 0s 470us/step - loss: 0.0458 - fbeta_score: 0.8277 - recall: 0.7476 - precision: 0.9270 - val_loss: 0.0934 - val_fbeta_score: 0.6826 - val_recall: 0.6017 - val_precision: 0.7885\n",
      "Epoch 195/300\n",
      "314/314 [==============================] - 0s 444us/step - loss: 0.0457 - fbeta_score: 0.8287 - recall: 0.7477 - precision: 0.9293 - val_loss: 0.0939 - val_fbeta_score: 0.6794 - val_recall: 0.5940 - val_precision: 0.7936\n",
      "Epoch 196/300\n",
      "314/314 [==============================] - 0s 471us/step - loss: 0.0453 - fbeta_score: 0.8350 - recall: 0.7617 - precision: 0.9239 - val_loss: 0.0952 - val_fbeta_score: 0.6762 - val_recall: 0.5914 - val_precision: 0.7892\n",
      "Epoch 197/300\n",
      "314/314 [==============================] - 0s 439us/step - loss: 0.0448 - fbeta_score: 0.8285 - recall: 0.7476 - precision: 0.9291 - val_loss: 0.0987 - val_fbeta_score: 0.6752 - val_recall: 0.5914 - val_precision: 0.7865\n",
      "Epoch 198/300\n",
      "314/314 [==============================] - 0s 506us/step - loss: 0.0448 - fbeta_score: 0.8358 - recall: 0.7617 - precision: 0.9260 - val_loss: 0.0971 - val_fbeta_score: 0.6729 - val_recall: 0.5837 - val_precision: 0.7944\n",
      "Epoch 199/300\n",
      "314/314 [==============================] - 0s 443us/step - loss: 0.0440 - fbeta_score: 0.8336 - recall: 0.7527 - precision: 0.9342 - val_loss: 0.0929 - val_fbeta_score: 0.6916 - val_recall: 0.6180 - val_precision: 0.7852\n",
      "Epoch 200/300\n",
      "314/314 [==============================] - 0s 419us/step - loss: 0.0437 - fbeta_score: 0.8429 - recall: 0.7713 - precision: 0.9294 - val_loss: 0.0909 - val_fbeta_score: 0.6810 - val_recall: 0.5983 - val_precision: 0.7902\n",
      "Epoch 201/300\n",
      "314/314 [==============================] - 0s 449us/step - loss: 0.0438 - fbeta_score: 0.8425 - recall: 0.7662 - precision: 0.9358 - val_loss: 0.0957 - val_fbeta_score: 0.6791 - val_recall: 0.5948 - val_precision: 0.7911\n",
      "Epoch 202/300\n",
      "314/314 [==============================] - 0s 437us/step - loss: 0.0433 - fbeta_score: 0.8413 - recall: 0.7726 - precision: 0.9238 - val_loss: 0.0940 - val_fbeta_score: 0.6926 - val_recall: 0.6180 - val_precision: 0.7877\n",
      "Epoch 203/300\n",
      "314/314 [==============================] - 0s 414us/step - loss: 0.0424 - fbeta_score: 0.8510 - recall: 0.7831 - precision: 0.9319 - val_loss: 0.0969 - val_fbeta_score: 0.6778 - val_recall: 0.5897 - val_precision: 0.7970\n",
      "Epoch 204/300\n",
      "314/314 [==============================] - 0s 497us/step - loss: 0.0423 - fbeta_score: 0.8454 - recall: 0.7744 - precision: 0.9308 - val_loss: 0.0931 - val_fbeta_score: 0.6867 - val_recall: 0.6094 - val_precision: 0.7863\n",
      "Epoch 205/300\n",
      "314/314 [==============================] - 0s 412us/step - loss: 0.0420 - fbeta_score: 0.8456 - recall: 0.7714 - precision: 0.9358 - val_loss: 0.0896 - val_fbeta_score: 0.6949 - val_recall: 0.6206 - val_precision: 0.7893\n",
      "Epoch 206/300\n",
      "314/314 [==============================] - 0s 427us/step - loss: 0.0419 - fbeta_score: 0.8542 - recall: 0.7917 - precision: 0.9275 - val_loss: 0.0920 - val_fbeta_score: 0.6936 - val_recall: 0.6120 - val_precision: 0.8002\n",
      "Epoch 207/300\n",
      "314/314 [==============================] - 0s 513us/step - loss: 0.0418 - fbeta_score: 0.8479 - recall: 0.7738 - precision: 0.9378 - val_loss: 0.0965 - val_fbeta_score: 0.6954 - val_recall: 0.6223 - val_precision: 0.7880\n"
     ]
    },
    {
     "name": "stdout",
     "output_type": "stream",
     "text": [
      "Epoch 208/300\n",
      "314/314 [==============================] - 0s 440us/step - loss: 0.0415 - fbeta_score: 0.8520 - recall: 0.7848 - precision: 0.9318 - val_loss: 0.0989 - val_fbeta_score: 0.6818 - val_recall: 0.5914 - val_precision: 0.8049\n",
      "Epoch 209/300\n",
      "314/314 [==============================] - 0s 505us/step - loss: 0.0413 - fbeta_score: 0.8446 - recall: 0.7730 - precision: 0.9312 - val_loss: 0.0949 - val_fbeta_score: 0.6982 - val_recall: 0.6266 - val_precision: 0.7883\n",
      "Epoch 210/300\n",
      "314/314 [==============================] - 0s 517us/step - loss: 0.0405 - fbeta_score: 0.8564 - recall: 0.7950 - precision: 0.9281 - val_loss: 0.0919 - val_fbeta_score: 0.6890 - val_recall: 0.6103 - val_precision: 0.7909\n",
      "Epoch 211/300\n",
      "314/314 [==============================] - 0s 563us/step - loss: 0.0402 - fbeta_score: 0.8548 - recall: 0.7862 - precision: 0.9367 - val_loss: 0.0941 - val_fbeta_score: 0.6990 - val_recall: 0.6300 - val_precision: 0.7850\n",
      "Epoch 212/300\n",
      "314/314 [==============================] - 0s 521us/step - loss: 0.0406 - fbeta_score: 0.8598 - recall: 0.7992 - precision: 0.9302 - val_loss: 0.1004 - val_fbeta_score: 0.6798 - val_recall: 0.5914 - val_precision: 0.7993\n",
      "Epoch 213/300\n",
      "314/314 [==============================] - 0s 502us/step - loss: 0.0400 - fbeta_score: 0.8593 - recall: 0.7920 - precision: 0.9392 - val_loss: 0.0956 - val_fbeta_score: 0.6933 - val_recall: 0.6172 - val_precision: 0.7910\n",
      "Epoch 214/300\n",
      "314/314 [==============================] - 0s 432us/step - loss: 0.0392 - fbeta_score: 0.8620 - recall: 0.7958 - precision: 0.9405 - val_loss: 0.0905 - val_fbeta_score: 0.6999 - val_recall: 0.6215 - val_precision: 0.8009\n",
      "Epoch 215/300\n",
      "314/314 [==============================] - 0s 405us/step - loss: 0.0387 - fbeta_score: 0.8692 - recall: 0.8078 - precision: 0.9407 - val_loss: 0.0916 - val_fbeta_score: 0.7045 - val_recall: 0.6343 - val_precision: 0.7921\n",
      "Epoch 216/300\n",
      "314/314 [==============================] - 0s 463us/step - loss: 0.0384 - fbeta_score: 0.8677 - recall: 0.8042 - precision: 0.9421 - val_loss: 0.0949 - val_fbeta_score: 0.6998 - val_recall: 0.6223 - val_precision: 0.7993\n",
      "Epoch 217/300\n",
      "314/314 [==============================] - 0s 533us/step - loss: 0.0381 - fbeta_score: 0.8683 - recall: 0.8067 - precision: 0.9402 - val_loss: 0.0919 - val_fbeta_score: 0.7041 - val_recall: 0.6240 - val_precision: 0.8078\n",
      "Epoch 218/300\n",
      "314/314 [==============================] - 0s 550us/step - loss: 0.0376 - fbeta_score: 0.8711 - recall: 0.8097 - precision: 0.9426 - val_loss: 0.0923 - val_fbeta_score: 0.7102 - val_recall: 0.6395 - val_precision: 0.7985\n",
      "Epoch 219/300\n",
      "314/314 [==============================] - 0s 518us/step - loss: 0.0371 - fbeta_score: 0.8728 - recall: 0.8140 - precision: 0.9408 - val_loss: 0.0917 - val_fbeta_score: 0.7034 - val_recall: 0.6300 - val_precision: 0.7961\n",
      "Epoch 220/300\n",
      "314/314 [==============================] - 0s 504us/step - loss: 0.0367 - fbeta_score: 0.8736 - recall: 0.8164 - precision: 0.9394 - val_loss: 0.0903 - val_fbeta_score: 0.7116 - val_recall: 0.6438 - val_precision: 0.7953\n",
      "Epoch 221/300\n",
      "314/314 [==============================] - 0s 462us/step - loss: 0.0364 - fbeta_score: 0.8778 - recall: 0.8202 - precision: 0.9440 - val_loss: 0.0943 - val_fbeta_score: 0.7047 - val_recall: 0.6249 - val_precision: 0.8080\n",
      "Epoch 222/300\n",
      "314/314 [==============================] - 0s 553us/step - loss: 0.0361 - fbeta_score: 0.8787 - recall: 0.8189 - precision: 0.9479 - val_loss: 0.0952 - val_fbeta_score: 0.7058 - val_recall: 0.6292 - val_precision: 0.8037\n",
      "Epoch 223/300\n",
      "314/314 [==============================] - 0s 517us/step - loss: 0.0362 - fbeta_score: 0.8760 - recall: 0.8188 - precision: 0.9418 - val_loss: 0.0897 - val_fbeta_score: 0.7148 - val_recall: 0.6506 - val_precision: 0.7929\n",
      "Epoch 224/300\n",
      "314/314 [==============================] - 0s 460us/step - loss: 0.0359 - fbeta_score: 0.8768 - recall: 0.8190 - precision: 0.9436 - val_loss: 0.0902 - val_fbeta_score: 0.7099 - val_recall: 0.6386 - val_precision: 0.7991\n",
      "Epoch 225/300\n",
      "314/314 [==============================] - 0s 480us/step - loss: 0.0356 - fbeta_score: 0.8814 - recall: 0.8283 - precision: 0.9420 - val_loss: 0.0959 - val_fbeta_score: 0.7112 - val_recall: 0.6438 - val_precision: 0.7945\n",
      "Epoch 226/300\n",
      "314/314 [==============================] - 0s 441us/step - loss: 0.0354 - fbeta_score: 0.8801 - recall: 0.8241 - precision: 0.9445 - val_loss: 0.0945 - val_fbeta_score: 0.7065 - val_recall: 0.6292 - val_precision: 0.8055\n",
      "Epoch 227/300\n",
      "314/314 [==============================] - 0s 430us/step - loss: 0.0347 - fbeta_score: 0.8863 - recall: 0.8358 - precision: 0.9435 - val_loss: 0.0916 - val_fbeta_score: 0.7194 - val_recall: 0.6524 - val_precision: 0.8017\n",
      "Epoch 228/300\n",
      "314/314 [==============================] - 0s 466us/step - loss: 0.0344 - fbeta_score: 0.8857 - recall: 0.8300 - precision: 0.9495 - val_loss: 0.0905 - val_fbeta_score: 0.7150 - val_recall: 0.6429 - val_precision: 0.8054\n",
      "Epoch 229/300\n",
      "314/314 [==============================] - 0s 455us/step - loss: 0.0341 - fbeta_score: 0.8887 - recall: 0.8373 - precision: 0.9468 - val_loss: 0.0917 - val_fbeta_score: 0.7190 - val_recall: 0.6524 - val_precision: 0.8008\n",
      "Epoch 230/300\n",
      "314/314 [==============================] - 0s 481us/step - loss: 0.0339 - fbeta_score: 0.8875 - recall: 0.8347 - precision: 0.9475 - val_loss: 0.0904 - val_fbeta_score: 0.7164 - val_recall: 0.6515 - val_precision: 0.7956\n",
      "Epoch 231/300\n",
      "314/314 [==============================] - 0s 424us/step - loss: 0.0335 - fbeta_score: 0.8914 - recall: 0.8413 - precision: 0.9478 - val_loss: 0.0948 - val_fbeta_score: 0.7107 - val_recall: 0.6326 - val_precision: 0.8108\n",
      "Epoch 232/300\n",
      "314/314 [==============================] - 0s 435us/step - loss: 0.0331 - fbeta_score: 0.8906 - recall: 0.8381 - precision: 0.9502 - val_loss: 0.0916 - val_fbeta_score: 0.7206 - val_recall: 0.6541 - val_precision: 0.8021\n",
      "Epoch 233/300\n",
      "314/314 [==============================] - 0s 445us/step - loss: 0.0326 - fbeta_score: 0.8943 - recall: 0.8447 - precision: 0.9501 - val_loss: 0.0895 - val_fbeta_score: 0.7160 - val_recall: 0.6438 - val_precision: 0.8065\n",
      "Epoch 234/300\n",
      "314/314 [==============================] - 0s 475us/step - loss: 0.0324 - fbeta_score: 0.8952 - recall: 0.8435 - precision: 0.9537 - val_loss: 0.0934 - val_fbeta_score: 0.7191 - val_recall: 0.6515 - val_precision: 0.8023\n",
      "Epoch 235/300\n",
      "314/314 [==============================] - 0s 490us/step - loss: 0.0323 - fbeta_score: 0.8983 - recall: 0.8530 - precision: 0.9486 - val_loss: 0.0913 - val_fbeta_score: 0.7203 - val_recall: 0.6489 - val_precision: 0.8094\n",
      "Epoch 236/300\n",
      "314/314 [==============================] - 0s 452us/step - loss: 0.0319 - fbeta_score: 0.8952 - recall: 0.8421 - precision: 0.9555 - val_loss: 0.0921 - val_fbeta_score: 0.7206 - val_recall: 0.6532 - val_precision: 0.8036\n",
      "Epoch 237/300\n",
      "314/314 [==============================] - 0s 487us/step - loss: 0.0320 - fbeta_score: 0.9004 - recall: 0.8561 - precision: 0.9495 - val_loss: 0.0911 - val_fbeta_score: 0.7202 - val_recall: 0.6541 - val_precision: 0.8013\n",
      "Epoch 238/300\n",
      "314/314 [==============================] - 0s 399us/step - loss: 0.0314 - fbeta_score: 0.9014 - recall: 0.8533 - precision: 0.9554 - val_loss: 0.0893 - val_fbeta_score: 0.7222 - val_recall: 0.6549 - val_precision: 0.8049\n",
      "Epoch 239/300\n",
      "314/314 [==============================] - 0s 433us/step - loss: 0.0314 - fbeta_score: 0.8985 - recall: 0.8537 - precision: 0.9483 - val_loss: 0.0930 - val_fbeta_score: 0.7213 - val_recall: 0.6532 - val_precision: 0.8053\n",
      "Epoch 240/300\n",
      "314/314 [==============================] - 0s 445us/step - loss: 0.0311 - fbeta_score: 0.9042 - recall: 0.8574 - precision: 0.9563 - val_loss: 0.0936 - val_fbeta_score: 0.7163 - val_recall: 0.6403 - val_precision: 0.8126\n",
      "Epoch 241/300\n",
      "314/314 [==============================] - 0s 423us/step - loss: 0.0306 - fbeta_score: 0.9037 - recall: 0.8582 - precision: 0.9542 - val_loss: 0.0922 - val_fbeta_score: 0.7271 - val_recall: 0.6609 - val_precision: 0.8080\n",
      "Epoch 242/300\n",
      "314/314 [==============================] - 0s 390us/step - loss: 0.0304 - fbeta_score: 0.9070 - recall: 0.8640 - precision: 0.9544 - val_loss: 0.0883 - val_fbeta_score: 0.7204 - val_recall: 0.6558 - val_precision: 0.7992\n"
     ]
    },
    {
     "name": "stdout",
     "output_type": "stream",
     "text": [
      "Epoch 243/300\n",
      "314/314 [==============================] - 0s 369us/step - loss: 0.0306 - fbeta_score: 0.9057 - recall: 0.8630 - precision: 0.9529 - val_loss: 0.0898 - val_fbeta_score: 0.7266 - val_recall: 0.6627 - val_precision: 0.8042\n",
      "Epoch 244/300\n",
      "314/314 [==============================] - 0s 521us/step - loss: 0.0303 - fbeta_score: 0.9065 - recall: 0.8645 - precision: 0.9528 - val_loss: 0.0914 - val_fbeta_score: 0.7297 - val_recall: 0.6661 - val_precision: 0.8067\n",
      "Epoch 245/300\n",
      "314/314 [==============================] - 0s 510us/step - loss: 0.0297 - fbeta_score: 0.9085 - recall: 0.8640 - precision: 0.9579 - val_loss: 0.0923 - val_fbeta_score: 0.7264 - val_recall: 0.6609 - val_precision: 0.8063\n",
      "Epoch 246/300\n",
      "314/314 [==============================] - 0s 395us/step - loss: 0.0295 - fbeta_score: 0.9110 - recall: 0.8698 - precision: 0.9562 - val_loss: 0.0915 - val_fbeta_score: 0.7278 - val_recall: 0.6644 - val_precision: 0.8046\n",
      "Epoch 247/300\n",
      "314/314 [==============================] - 0s 419us/step - loss: 0.0292 - fbeta_score: 0.9150 - recall: 0.8759 - precision: 0.9578 - val_loss: 0.0905 - val_fbeta_score: 0.7268 - val_recall: 0.6575 - val_precision: 0.8123\n",
      "Epoch 248/300\n",
      "314/314 [==============================] - 0s 463us/step - loss: 0.0289 - fbeta_score: 0.9116 - recall: 0.8701 - precision: 0.9574 - val_loss: 0.0882 - val_fbeta_score: 0.7339 - val_recall: 0.6747 - val_precision: 0.8045\n",
      "Epoch 249/300\n",
      "314/314 [==============================] - 0s 390us/step - loss: 0.0287 - fbeta_score: 0.9167 - recall: 0.8787 - precision: 0.9583 - val_loss: 0.0912 - val_fbeta_score: 0.7280 - val_recall: 0.6618 - val_precision: 0.8090\n",
      "Epoch 250/300\n",
      "314/314 [==============================] - 0s 462us/step - loss: 0.0283 - fbeta_score: 0.9185 - recall: 0.8817 - precision: 0.9586 - val_loss: 0.0926 - val_fbeta_score: 0.7322 - val_recall: 0.6678 - val_precision: 0.8104\n",
      "Epoch 251/300\n",
      "314/314 [==============================] - 0s 446us/step - loss: 0.0280 - fbeta_score: 0.9175 - recall: 0.8802 - precision: 0.9581 - val_loss: 0.0901 - val_fbeta_score: 0.7266 - val_recall: 0.6592 - val_precision: 0.8093\n",
      "Epoch 252/300\n",
      "314/314 [==============================] - 0s 462us/step - loss: 0.0280 - fbeta_score: 0.9172 - recall: 0.8788 - precision: 0.9592 - val_loss: 0.0917 - val_fbeta_score: 0.7322 - val_recall: 0.6652 - val_precision: 0.8141\n",
      "Epoch 253/300\n",
      "314/314 [==============================] - 0s 435us/step - loss: 0.0279 - fbeta_score: 0.9188 - recall: 0.8815 - precision: 0.9594 - val_loss: 0.0922 - val_fbeta_score: 0.7242 - val_recall: 0.6558 - val_precision: 0.8085\n",
      "Epoch 254/300\n",
      "314/314 [==============================] - 0s 373us/step - loss: 0.0277 - fbeta_score: 0.9199 - recall: 0.8809 - precision: 0.9625 - val_loss: 0.0926 - val_fbeta_score: 0.7267 - val_recall: 0.6584 - val_precision: 0.8108\n",
      "Epoch 255/300\n",
      "314/314 [==============================] - 0s 455us/step - loss: 0.0276 - fbeta_score: 0.9189 - recall: 0.8828 - precision: 0.9583 - val_loss: 0.0906 - val_fbeta_score: 0.7387 - val_recall: 0.6687 - val_precision: 0.8252\n",
      "Epoch 256/300\n",
      "314/314 [==============================] - 0s 468us/step - loss: 0.0272 - fbeta_score: 0.9198 - recall: 0.8809 - precision: 0.9623 - val_loss: 0.0938 - val_fbeta_score: 0.7283 - val_recall: 0.6627 - val_precision: 0.8084\n",
      "Epoch 257/300\n",
      "314/314 [==============================] - 0s 454us/step - loss: 0.0274 - fbeta_score: 0.9183 - recall: 0.8784 - precision: 0.9621 - val_loss: 0.0965 - val_fbeta_score: 0.7172 - val_recall: 0.6498 - val_precision: 0.8002\n",
      "Epoch 258/300\n",
      "314/314 [==============================] - 0s 398us/step - loss: 0.0277 - fbeta_score: 0.9150 - recall: 0.8782 - precision: 0.9552 - val_loss: 0.0894 - val_fbeta_score: 0.7267 - val_recall: 0.6721 - val_precision: 0.7909\n",
      "Epoch 259/300\n",
      "314/314 [==============================] - 0s 504us/step - loss: 0.0274 - fbeta_score: 0.9211 - recall: 0.8847 - precision: 0.9607 - val_loss: 0.0876 - val_fbeta_score: 0.7365 - val_recall: 0.6730 - val_precision: 0.8133\n",
      "Epoch 260/300\n",
      "314/314 [==============================] - 0s 507us/step - loss: 0.0269 - fbeta_score: 0.9241 - recall: 0.8900 - precision: 0.9609 - val_loss: 0.0907 - val_fbeta_score: 0.7368 - val_recall: 0.6704 - val_precision: 0.8178\n",
      "Epoch 261/300\n",
      "314/314 [==============================] - 0s 511us/step - loss: 0.0264 - fbeta_score: 0.9217 - recall: 0.8858 - precision: 0.9607 - val_loss: 0.0913 - val_fbeta_score: 0.7336 - val_recall: 0.6652 - val_precision: 0.8175\n",
      "Epoch 262/300\n",
      "314/314 [==============================] - 0s 554us/step - loss: 0.0260 - fbeta_score: 0.9285 - recall: 0.8960 - precision: 0.9636 - val_loss: 0.0937 - val_fbeta_score: 0.7257 - val_recall: 0.6541 - val_precision: 0.8150\n",
      "Epoch 263/300\n",
      "314/314 [==============================] - 0s 518us/step - loss: 0.0257 - fbeta_score: 0.9241 - recall: 0.8878 - precision: 0.9637 - val_loss: 0.0895 - val_fbeta_score: 0.7310 - val_recall: 0.6764 - val_precision: 0.7952\n",
      "Epoch 264/300\n",
      "314/314 [==============================] - 0s 561us/step - loss: 0.0257 - fbeta_score: 0.9286 - recall: 0.8962 - precision: 0.9634 - val_loss: 0.0904 - val_fbeta_score: 0.7338 - val_recall: 0.6661 - val_precision: 0.8168\n",
      "Epoch 265/300\n",
      "314/314 [==============================] - 0s 503us/step - loss: 0.0255 - fbeta_score: 0.9279 - recall: 0.8937 - precision: 0.9650 - val_loss: 0.0919 - val_fbeta_score: 0.7379 - val_recall: 0.6755 - val_precision: 0.8130\n",
      "Epoch 266/300\n",
      "314/314 [==============================] - 0s 413us/step - loss: 0.0252 - fbeta_score: 0.9293 - recall: 0.8977 - precision: 0.9634 - val_loss: 0.0929 - val_fbeta_score: 0.7312 - val_recall: 0.6584 - val_precision: 0.8221\n",
      "Epoch 267/300\n",
      "314/314 [==============================] - 0s 474us/step - loss: 0.0248 - fbeta_score: 0.9339 - recall: 0.9040 - precision: 0.9659 - val_loss: 0.0923 - val_fbeta_score: 0.7341 - val_recall: 0.6755 - val_precision: 0.8039\n",
      "Epoch 268/300\n",
      "314/314 [==============================] - 0s 462us/step - loss: 0.0248 - fbeta_score: 0.9320 - recall: 0.9015 - precision: 0.9647 - val_loss: 0.0908 - val_fbeta_score: 0.7336 - val_recall: 0.6712 - val_precision: 0.8087\n",
      "Epoch 269/300\n",
      "314/314 [==============================] - 0s 474us/step - loss: 0.0243 - fbeta_score: 0.9365 - recall: 0.9050 - precision: 0.9704 - val_loss: 0.0907 - val_fbeta_score: 0.7322 - val_recall: 0.6652 - val_precision: 0.8141\n",
      "Epoch 270/300\n",
      "314/314 [==============================] - 0s 518us/step - loss: 0.0239 - fbeta_score: 0.9380 - recall: 0.9086 - precision: 0.9693 - val_loss: 0.0930 - val_fbeta_score: 0.7367 - val_recall: 0.6738 - val_precision: 0.8126\n",
      "Epoch 271/300\n",
      "314/314 [==============================] - 0s 502us/step - loss: 0.0237 - fbeta_score: 0.9401 - recall: 0.9146 - precision: 0.9670 - val_loss: 0.0917 - val_fbeta_score: 0.7330 - val_recall: 0.6635 - val_precision: 0.8189\n",
      "Epoch 272/300\n",
      "314/314 [==============================] - 0s 478us/step - loss: 0.0237 - fbeta_score: 0.9362 - recall: 0.9056 - precision: 0.9690 - val_loss: 0.0921 - val_fbeta_score: 0.7380 - val_recall: 0.6721 - val_precision: 0.8182\n",
      "Epoch 273/300\n",
      "314/314 [==============================] - 0s 467us/step - loss: 0.0231 - fbeta_score: 0.9402 - recall: 0.9113 - precision: 0.9711 - val_loss: 0.0900 - val_fbeta_score: 0.7415 - val_recall: 0.6807 - val_precision: 0.8142\n",
      "Epoch 274/300\n",
      "314/314 [==============================] - 0s 454us/step - loss: 0.0229 - fbeta_score: 0.9430 - recall: 0.9182 - precision: 0.9692 - val_loss: 0.0919 - val_fbeta_score: 0.7358 - val_recall: 0.6704 - val_precision: 0.8152\n",
      "Epoch 275/300\n",
      "314/314 [==============================] - 0s 450us/step - loss: 0.0227 - fbeta_score: 0.9428 - recall: 0.9154 - precision: 0.9721 - val_loss: 0.0937 - val_fbeta_score: 0.7342 - val_recall: 0.6661 - val_precision: 0.8177\n",
      "Epoch 276/300\n",
      "314/314 [==============================] - 0s 416us/step - loss: 0.0226 - fbeta_score: 0.9443 - recall: 0.9198 - precision: 0.9702 - val_loss: 0.0900 - val_fbeta_score: 0.7363 - val_recall: 0.6712 - val_precision: 0.8154\n",
      "Epoch 277/300\n",
      "314/314 [==============================] - 0s 410us/step - loss: 0.0225 - fbeta_score: 0.9433 - recall: 0.9158 - precision: 0.9726 - val_loss: 0.0917 - val_fbeta_score: 0.7429 - val_recall: 0.6807 - val_precision: 0.8175\n"
     ]
    },
    {
     "name": "stdout",
     "output_type": "stream",
     "text": [
      "Epoch 278/300\n",
      "314/314 [==============================] - 0s 500us/step - loss: 0.0221 - fbeta_score: 0.9458 - recall: 0.9206 - precision: 0.9725 - val_loss: 0.0940 - val_fbeta_score: 0.7347 - val_recall: 0.6678 - val_precision: 0.8164\n",
      "Epoch 279/300\n",
      "314/314 [==============================] - 0s 448us/step - loss: 0.0220 - fbeta_score: 0.9465 - recall: 0.9229 - precision: 0.9714 - val_loss: 0.0902 - val_fbeta_score: 0.7439 - val_recall: 0.6781 - val_precision: 0.8238\n",
      "Epoch 280/300\n",
      "314/314 [==============================] - 0s 462us/step - loss: 0.0217 - fbeta_score: 0.9458 - recall: 0.9190 - precision: 0.9742 - val_loss: 0.0908 - val_fbeta_score: 0.7434 - val_recall: 0.6815 - val_precision: 0.8177\n",
      "Epoch 281/300\n",
      "314/314 [==============================] - 0s 448us/step - loss: 0.0216 - fbeta_score: 0.9497 - recall: 0.9265 - precision: 0.9741 - val_loss: 0.0935 - val_fbeta_score: 0.7406 - val_recall: 0.6738 - val_precision: 0.8220\n",
      "Epoch 282/300\n",
      "314/314 [==============================] - 0s 570us/step - loss: 0.0213 - fbeta_score: 0.9504 - recall: 0.9287 - precision: 0.9731 - val_loss: 0.0905 - val_fbeta_score: 0.7420 - val_recall: 0.6824 - val_precision: 0.8129\n",
      "Epoch 283/300\n",
      "314/314 [==============================] - 0s 481us/step - loss: 0.0213 - fbeta_score: 0.9508 - recall: 0.9277 - precision: 0.9749 - val_loss: 0.0960 - val_fbeta_score: 0.7328 - val_recall: 0.6592 - val_precision: 0.8249\n",
      "Epoch 284/300\n",
      "314/314 [==============================] - 0s 530us/step - loss: 0.0213 - fbeta_score: 0.9474 - recall: 0.9226 - precision: 0.9737 - val_loss: 0.0955 - val_fbeta_score: 0.7369 - val_recall: 0.6695 - val_precision: 0.8193\n",
      "Epoch 285/300\n",
      "314/314 [==============================] - 0s 433us/step - loss: 0.0210 - fbeta_score: 0.9483 - recall: 0.9257 - precision: 0.9720 - val_loss: 0.0891 - val_fbeta_score: 0.7423 - val_recall: 0.6764 - val_precision: 0.8225\n",
      "Epoch 286/300\n",
      "314/314 [==============================] - 0s 508us/step - loss: 0.0208 - fbeta_score: 0.9507 - recall: 0.9260 - precision: 0.9767 - val_loss: 0.0921 - val_fbeta_score: 0.7421 - val_recall: 0.6867 - val_precision: 0.8073\n",
      "Epoch 287/300\n",
      "314/314 [==============================] - 0s 507us/step - loss: 0.0206 - fbeta_score: 0.9511 - recall: 0.9302 - precision: 0.9731 - val_loss: 0.0916 - val_fbeta_score: 0.7454 - val_recall: 0.6824 - val_precision: 0.8213\n",
      "Epoch 288/300\n",
      "314/314 [==============================] - 0s 445us/step - loss: 0.0203 - fbeta_score: 0.9549 - recall: 0.9333 - precision: 0.9777 - val_loss: 0.0924 - val_fbeta_score: 0.7440 - val_recall: 0.6747 - val_precision: 0.8291\n",
      "Epoch 289/300\n",
      "314/314 [==============================] - 0s 486us/step - loss: 0.0201 - fbeta_score: 0.9534 - recall: 0.9316 - precision: 0.9761 - val_loss: 0.0934 - val_fbeta_score: 0.7428 - val_recall: 0.6781 - val_precision: 0.8212\n",
      "Epoch 290/300\n",
      "314/314 [==============================] - 0s 445us/step - loss: 0.0200 - fbeta_score: 0.9530 - recall: 0.9308 - precision: 0.9765 - val_loss: 0.0914 - val_fbeta_score: 0.7454 - val_recall: 0.6824 - val_precision: 0.8213\n",
      "Epoch 291/300\n",
      "314/314 [==============================] - 0s 402us/step - loss: 0.0196 - fbeta_score: 0.9576 - recall: 0.9384 - precision: 0.9776 - val_loss: 0.0943 - val_fbeta_score: 0.7412 - val_recall: 0.6773 - val_precision: 0.8185\n",
      "Epoch 292/300\n",
      "314/314 [==============================] - 0s 429us/step - loss: 0.0197 - fbeta_score: 0.9542 - recall: 0.9346 - precision: 0.9746 - val_loss: 0.0927 - val_fbeta_score: 0.7423 - val_recall: 0.6824 - val_precision: 0.8137\n",
      "Epoch 293/300\n",
      "314/314 [==============================] - 0s 482us/step - loss: 0.0195 - fbeta_score: 0.9560 - recall: 0.9338 - precision: 0.9792 - val_loss: 0.0892 - val_fbeta_score: 0.7433 - val_recall: 0.6824 - val_precision: 0.8162\n",
      "Epoch 294/300\n",
      "314/314 [==============================] - 0s 561us/step - loss: 0.0193 - fbeta_score: 0.9578 - recall: 0.9366 - precision: 0.9799 - val_loss: 0.0918 - val_fbeta_score: 0.7506 - val_recall: 0.6961 - val_precision: 0.8143\n",
      "Epoch 295/300\n",
      "314/314 [==============================] - 0s 487us/step - loss: 0.0191 - fbeta_score: 0.9608 - recall: 0.9447 - precision: 0.9774 - val_loss: 0.0960 - val_fbeta_score: 0.7375 - val_recall: 0.6670 - val_precision: 0.8248\n",
      "Epoch 296/300\n",
      "314/314 [==============================] - 0s 511us/step - loss: 0.0191 - fbeta_score: 0.9584 - recall: 0.9396 - precision: 0.9780 - val_loss: 0.0946 - val_fbeta_score: 0.7428 - val_recall: 0.6781 - val_precision: 0.8212\n",
      "Epoch 297/300\n",
      "314/314 [==============================] - 0s 442us/step - loss: 0.0190 - fbeta_score: 0.9569 - recall: 0.9364 - precision: 0.9784 - val_loss: 0.0900 - val_fbeta_score: 0.7443 - val_recall: 0.6858 - val_precision: 0.8136\n",
      "Epoch 298/300\n",
      "314/314 [==============================] - 0s 384us/step - loss: 0.0190 - fbeta_score: 0.9562 - recall: 0.9371 - precision: 0.9761 - val_loss: 0.0912 - val_fbeta_score: 0.7499 - val_recall: 0.6910 - val_precision: 0.8198\n",
      "Epoch 299/300\n",
      "314/314 [==============================] - 0s 550us/step - loss: 0.0188 - fbeta_score: 0.9595 - recall: 0.9404 - precision: 0.9793 - val_loss: 0.0985 - val_fbeta_score: 0.7308 - val_recall: 0.6584 - val_precision: 0.8212\n",
      "Epoch 300/300\n",
      "314/314 [==============================] - 0s 448us/step - loss: 0.0193 - fbeta_score: 0.9560 - recall: 0.9386 - precision: 0.9741 - val_loss: 0.0984 - val_fbeta_score: 0.7322 - val_recall: 0.6584 - val_precision: 0.8247\n",
      "CPU times: user 1min 13s, sys: 7.86 s, total: 1min 21s\n",
      "Wall time: 50.6 s\n"
     ]
    }
   ],
   "source": [
    "%%time\n",
    "# Run training\n",
    "keras_metrics = KerasMetrics()\n",
    "model.compile(optimizer=opt, loss='binary_crossentropy', metrics=[ keras_metrics.fbeta_score,\n",
    "               keras_metrics.recall,\n",
    "               keras_metrics.precision]) #, mean_pred],)\n",
    "#model.save_weights('WickelfeaturesProject/new_model_1.h5')\n",
    "history = model.fit([padded_in, padded_out],\n",
    "                    padded_out_target,\n",
    "                    batch_size=128,\n",
    "                    epochs=300,\n",
    "                    validation_split=0.2,verbose=True)"
   ]
  },
  {
   "cell_type": "code",
   "execution_count": 37,
   "metadata": {},
   "outputs": [
    {
     "data": {
      "text/plain": [
       "dict_keys(['val_loss', 'val_fbeta_score', 'val_recall', 'val_precision', 'loss', 'fbeta_score', 'recall', 'precision'])"
      ]
     },
     "execution_count": 37,
     "metadata": {},
     "output_type": "execute_result"
    }
   ],
   "source": [
    "history.history.keys()"
   ]
  },
  {
   "cell_type": "code",
   "execution_count": 38,
   "metadata": {},
   "outputs": [
    {
     "data": {
      "image/png": "[encoded data removed]",
      "text/plain": [
       "<Figure size 432x288 with 1 Axes>"
      ]
     },
     "metadata": {
      "needs_background": "light"
     },
     "output_type": "display_data"
    }
   ],
   "source": [
    "# summarize history for accuracy\n",
    "plt.plot(history.history['fbeta_score'])\n",
    "plt.plot(pd.Series(history.history['val_fbeta_score']))\n",
    "plt.title('f1 score')\n",
    "plt.ylabel('f1_Score')\n",
    "plt.xlabel('epoch')\n",
    "plt.legend(['train', 'test'], loc='upper left');"
   ]
  },
  {
   "cell_type": "code",
   "execution_count": 39,
   "metadata": {},
   "outputs": [
    {
     "data": {
      "text/plain": [
       "0.7322194576263428"
      ]
     },
     "execution_count": 39,
     "metadata": {},
     "output_type": "execute_result"
    }
   ],
   "source": [
    "history.history['val_fbeta_score'][-1]"
   ]
  },
  {
   "cell_type": "code",
   "execution_count": 40,
   "metadata": {},
   "outputs": [
    {
     "data": {
      "image/png": "[encoded data removed]",
      "text/plain": [
       "<Figure size 432x288 with 1 Axes>"
      ]
     },
     "metadata": {
      "needs_background": "light"
     },
     "output_type": "display_data"
    }
   ],
   "source": [
    "# summarize history for accuracy\n",
    "score = 'recall'\n",
    "plt.plot(history.history[score])\n",
    "plt.plot(pd.Series(history.history['val_{}'.format(score)]))\n",
    "plt.title('model {}'.format(score))\n",
    "plt.ylabel(score)\n",
    "plt.xlabel('epoch')\n",
    "plt.legend(['train', 'test'], loc='upper left');"
   ]
  },
  {
   "cell_type": "code",
   "execution_count": 41,
   "metadata": {},
   "outputs": [
    {
     "data": {
      "text/plain": [
       "0.6583691239356995"
      ]
     },
     "execution_count": 41,
     "metadata": {},
     "output_type": "execute_result"
    }
   ],
   "source": [
    "history.history['val_recall'][-1]"
   ]
  },
  {
   "cell_type": "code",
   "execution_count": 42,
   "metadata": {},
   "outputs": [
    {
     "data": {
      "image/png": "[encoded data removed]",
      "text/plain": [
       "<Figure size 432x288 with 1 Axes>"
      ]
     },
     "metadata": {
      "needs_background": "light"
     },
     "output_type": "display_data"
    }
   ],
   "source": [
    "score = 'precision'\n",
    "plt.plot(history.history[score])\n",
    "plt.plot(pd.Series(history.history['val_{}'.format(score)]))\n",
    "plt.title('model {}'.format(score))\n",
    "plt.ylabel(score)\n",
    "plt.xlabel('epoch')\n",
    "plt.legend(['train', 'test'], loc='upper left');"
   ]
  },
  {
   "cell_type": "code",
   "execution_count": 43,
   "metadata": {},
   "outputs": [
    {
     "data": {
      "text/plain": [
       "0.824731171131134"
      ]
     },
     "execution_count": 43,
     "metadata": {},
     "output_type": "execute_result"
    }
   ],
   "source": [
    "history.history['val_precision'][-1]"
   ]
  },
  {
   "cell_type": "code",
   "execution_count": 44,
   "metadata": {},
   "outputs": [
    {
     "data": {
      "image/png": "[encoded data removed]",
      "text/plain": [
       "<Figure size 432x288 with 1 Axes>"
      ]
     },
     "metadata": {
      "needs_background": "light"
     },
     "output_type": "display_data"
    }
   ],
   "source": [
    "%matplotlib inline\n",
    "# summarize history for loss\n",
    "plt.plot(history.history['loss'])\n",
    "plt.plot(history.history['val_loss'])\n",
    "plt.title('model loss')\n",
    "plt.ylabel('loss')\n",
    "plt.xlabel('epoch')\n",
    "plt.legend(['train', 'test'], loc='upper left');"
   ]
  },
  {
   "cell_type": "markdown",
   "metadata": {},
   "source": [
    "# Predict"
   ]
  },
  {
   "cell_type": "markdown",
   "metadata": {},
   "source": [
    "## Euclidean Distance"
   ]
  },
  {
   "cell_type": "markdown",
   "metadata": {},
   "source": [
    "from scipy.spatial import distance\n",
    "a = np.array([0,0,1])\n",
    "b = np.array([0, 0, 1])\n",
    "dst = distance.euclidean(a, b)\n",
    "dst"
   ]
  },
  {
   "cell_type": "code",
   "execution_count": 45,
   "metadata": {},
   "outputs": [
    {
     "data": {
      "text/plain": [
       "{'p': array([1, 0, 0, 0, 0, 1, 0, 0, 0, 0, 0, 0, 0, 0, 0, 0, 0, 0, 0, 0, 0]),\n",
       " 'b': array([1, 0, 0, 0, 0, 1, 0, 0, 0, 0, 0, 0, 1, 0, 0, 0, 0, 0, 0, 0, 0]),\n",
       " 'f': array([0, 0, 0, 1, 0, 0, 1, 0, 0, 0, 0, 0, 0, 0, 0, 0, 0, 0, 0, 0, 0]),\n",
       " 'v': array([0, 0, 0, 1, 0, 0, 1, 0, 0, 0, 0, 0, 1, 0, 0, 0, 0, 0, 0, 0, 0]),\n",
       " 't': array([1, 0, 0, 0, 0, 0, 0, 1, 0, 0, 0, 0, 0, 0, 0, 0, 0, 0, 0, 0, 0]),\n",
       " 'd': array([1, 0, 0, 0, 0, 0, 0, 1, 0, 0, 0, 0, 1, 0, 0, 0, 0, 0, 0, 0, 0]),\n",
       " 'm': array([0, 1, 0, 0, 0, 1, 0, 0, 0, 0, 0, 0, 0, 0, 0, 0, 0, 0, 0, 0, 0]),\n",
       " 'n': array([0, 1, 0, 0, 0, 0, 0, 1, 0, 0, 0, 0, 0, 0, 0, 0, 0, 0, 0, 0, 0]),\n",
       " 'k': array([1, 0, 0, 0, 0, 0, 0, 0, 0, 0, 1, 0, 0, 0, 0, 0, 0, 0, 0, 0, 0]),\n",
       " 'g': array([1, 0, 0, 0, 0, 0, 0, 0, 0, 0, 1, 0, 1, 0, 0, 0, 0, 0, 0, 0, 0]),\n",
       " 'N': array([0, 1, 0, 0, 0, 0, 0, 0, 0, 1, 0, 0, 0, 0, 0, 0, 0, 0, 0, 0, 0]),\n",
       " 'r': array([0, 0, 1, 0, 0, 0, 0, 1, 0, 0, 0, 0, 0, 0, 0, 0, 0, 0, 0, 0, 0]),\n",
       " 's': array([0, 0, 0, 1, 0, 0, 0, 1, 0, 0, 0, 0, 0, 0, 0, 0, 0, 0, 0, 0, 0]),\n",
       " 'z': array([0, 0, 0, 1, 0, 0, 0, 1, 0, 0, 0, 0, 1, 0, 0, 0, 0, 0, 0, 0, 0]),\n",
       " 'j': array([0, 0, 0, 1, 0, 0, 0, 0, 1, 0, 0, 0, 1, 0, 0, 0, 0, 0, 0, 0, 0]),\n",
       " 'l': array([0, 0, 0, 0, 1, 0, 0, 0, 1, 0, 0, 0, 0, 0, 0, 0, 0, 0, 0, 0, 0]),\n",
       " 'L': array([0, 0, 0, 0, 1, 0, 0, 0, 0, 1, 0, 0, 0, 0, 0, 0, 0, 0, 0, 0, 0]),\n",
       " 'h': array([0, 0, 0, 1, 0, 0, 0, 0, 0, 0, 0, 1, 0, 0, 0, 0, 0, 0, 0, 0, 0]),\n",
       " 'x': array([0, 0, 0, 1, 0, 0, 0, 0, 1, 0, 0, 0, 0, 0, 0, 0, 0, 0, 0, 0, 0]),\n",
       " 'i': array([0, 0, 0, 0, 0, 0, 0, 0, 0, 0, 0, 0, 0, 1, 0, 0, 0, 1, 0, 0, 0]),\n",
       " 'e': array([0, 0, 0, 0, 0, 0, 0, 0, 0, 0, 0, 0, 0, 0, 1, 0, 0, 1, 0, 0, 0]),\n",
       " 'E': array([0, 0, 0, 0, 0, 0, 0, 0, 0, 0, 0, 0, 0, 0, 0, 1, 0, 1, 0, 0, 0]),\n",
       " 'a': array([0, 0, 0, 0, 0, 0, 0, 0, 0, 0, 0, 0, 0, 0, 0, 0, 1, 1, 0, 0, 0]),\n",
       " 'u': array([0, 0, 0, 0, 0, 0, 0, 0, 0, 0, 0, 0, 0, 1, 0, 0, 0, 0, 1, 0, 0]),\n",
       " 'o': array([0, 0, 0, 0, 0, 0, 0, 0, 0, 0, 0, 0, 0, 0, 1, 0, 0, 0, 1, 0, 0]),\n",
       " 'O': array([0, 0, 0, 0, 0, 0, 0, 0, 0, 0, 0, 0, 0, 0, 0, 1, 0, 0, 1, 0, 0]),\n",
       " 'A': array([0, 1, 0, 0, 0, 0, 0, 0, 0, 0, 0, 0, 0, 0, 0, 0, 1, 1, 0, 0, 0]),\n",
       " '3': array([0, 1, 0, 0, 0, 0, 0, 0, 0, 0, 0, 0, 0, 0, 1, 0, 0, 1, 0, 0, 0]),\n",
       " 'PAD': array([0, 0, 0, 0, 0, 0, 0, 0, 0, 0, 0, 0, 0, 0, 0, 0, 0, 0, 0, 0, 0]),\n",
       " '#': array([0, 0, 0, 0, 0, 0, 0, 0, 0, 0, 0, 0, 0, 0, 0, 0, 0, 0, 0, 1, 0]),\n",
       " '$': array([0, 0, 0, 0, 0, 0, 0, 0, 0, 0, 0, 0, 0, 0, 0, 0, 0, 0, 0, 0, 1])}"
      ]
     },
     "execution_count": 45,
     "metadata": {},
     "output_type": "execute_result"
    }
   ],
   "source": [
    "phone_arrays = {}\n",
    "for phone in phones:\n",
    "    phone_arrays[phone] = code(phone)\n",
    "phone_arrays"
   ]
  },
  {
   "cell_type": "code",
   "execution_count": 58,
   "metadata": {},
   "outputs": [],
   "source": [
    "import pickle\n",
    "phone_arrays = {}\n",
    "for phone in phones:\n",
    "    phone_arrays[phone] = code(phone)\n",
    "phone_arrays\n",
    "with open('WickelfeaturesProject/Files/phone_arrays.pickle', 'wb') as file:\n",
    "    pickle.dump(phone_arrays, file, protocol=pickle.HIGHEST_PROTOCOL)"
   ]
  },
  {
   "cell_type": "code",
   "execution_count": 59,
   "metadata": {},
   "outputs": [],
   "source": [
    "with open('WickelfeaturesProject/Files/phone_arrays.pickle', 'rb') as file:\n",
    "    phone_arrays = pickle.load(file)"
   ]
  },
  {
   "cell_type": "code",
   "execution_count": 60,
   "metadata": {},
   "outputs": [
    {
     "data": {
      "text/plain": [
       "{'p': array([1, 0, 0, 0, 0, 1, 0, 0, 0, 0, 0, 0, 0, 0, 0, 0, 0, 0, 0, 0, 0]),\n",
       " 'b': array([1, 0, 0, 0, 0, 1, 0, 0, 0, 0, 0, 0, 1, 0, 0, 0, 0, 0, 0, 0, 0]),\n",
       " 'f': array([0, 0, 0, 1, 0, 0, 1, 0, 0, 0, 0, 0, 0, 0, 0, 0, 0, 0, 0, 0, 0]),\n",
       " 'v': array([0, 0, 0, 1, 0, 0, 1, 0, 0, 0, 0, 0, 1, 0, 0, 0, 0, 0, 0, 0, 0]),\n",
       " 't': array([1, 0, 0, 0, 0, 0, 0, 1, 0, 0, 0, 0, 0, 0, 0, 0, 0, 0, 0, 0, 0]),\n",
       " 'd': array([1, 0, 0, 0, 0, 0, 0, 1, 0, 0, 0, 0, 1, 0, 0, 0, 0, 0, 0, 0, 0]),\n",
       " 'm': array([0, 1, 0, 0, 0, 1, 0, 0, 0, 0, 0, 0, 0, 0, 0, 0, 0, 0, 0, 0, 0]),\n",
       " 'n': array([0, 1, 0, 0, 0, 0, 0, 1, 0, 0, 0, 0, 0, 0, 0, 0, 0, 0, 0, 0, 0]),\n",
       " 'k': array([1, 0, 0, 0, 0, 0, 0, 0, 0, 0, 1, 0, 0, 0, 0, 0, 0, 0, 0, 0, 0]),\n",
       " 'g': array([1, 0, 0, 0, 0, 0, 0, 0, 0, 0, 1, 0, 1, 0, 0, 0, 0, 0, 0, 0, 0]),\n",
       " 'N': array([0, 1, 0, 0, 0, 0, 0, 0, 0, 1, 0, 0, 0, 0, 0, 0, 0, 0, 0, 0, 0]),\n",
       " 'r': array([0, 0, 1, 0, 0, 0, 0, 1, 0, 0, 0, 0, 0, 0, 0, 0, 0, 0, 0, 0, 0]),\n",
       " 's': array([0, 0, 0, 1, 0, 0, 0, 1, 0, 0, 0, 0, 0, 0, 0, 0, 0, 0, 0, 0, 0]),\n",
       " 'z': array([0, 0, 0, 1, 0, 0, 0, 1, 0, 0, 0, 0, 1, 0, 0, 0, 0, 0, 0, 0, 0]),\n",
       " 'j': array([0, 0, 0, 1, 0, 0, 0, 0, 1, 0, 0, 0, 1, 0, 0, 0, 0, 0, 0, 0, 0]),\n",
       " 'l': array([0, 0, 0, 0, 1, 0, 0, 0, 1, 0, 0, 0, 0, 0, 0, 0, 0, 0, 0, 0, 0]),\n",
       " 'L': array([0, 0, 0, 0, 1, 0, 0, 0, 0, 1, 0, 0, 0, 0, 0, 0, 0, 0, 0, 0, 0]),\n",
       " 'h': array([0, 0, 0, 1, 0, 0, 0, 0, 0, 0, 0, 1, 0, 0, 0, 0, 0, 0, 0, 0, 0]),\n",
       " 'x': array([0, 0, 0, 1, 0, 0, 0, 0, 1, 0, 0, 0, 0, 0, 0, 0, 0, 0, 0, 0, 0]),\n",
       " 'i': array([0, 0, 0, 0, 0, 0, 0, 0, 0, 0, 0, 0, 0, 1, 0, 0, 0, 1, 0, 0, 0]),\n",
       " 'e': array([0, 0, 0, 0, 0, 0, 0, 0, 0, 0, 0, 0, 0, 0, 1, 0, 0, 1, 0, 0, 0]),\n",
       " 'E': array([0, 0, 0, 0, 0, 0, 0, 0, 0, 0, 0, 0, 0, 0, 0, 1, 0, 1, 0, 0, 0]),\n",
       " 'a': array([0, 0, 0, 0, 0, 0, 0, 0, 0, 0, 0, 0, 0, 0, 0, 0, 1, 1, 0, 0, 0]),\n",
       " 'u': array([0, 0, 0, 0, 0, 0, 0, 0, 0, 0, 0, 0, 0, 1, 0, 0, 0, 0, 1, 0, 0]),\n",
       " 'o': array([0, 0, 0, 0, 0, 0, 0, 0, 0, 0, 0, 0, 0, 0, 1, 0, 0, 0, 1, 0, 0]),\n",
       " 'O': array([0, 0, 0, 0, 0, 0, 0, 0, 0, 0, 0, 0, 0, 0, 0, 1, 0, 0, 1, 0, 0]),\n",
       " 'A': array([0, 1, 0, 0, 0, 0, 0, 0, 0, 0, 0, 0, 0, 0, 0, 0, 1, 1, 0, 0, 0]),\n",
       " '3': array([0, 1, 0, 0, 0, 0, 0, 0, 0, 0, 0, 0, 0, 0, 1, 0, 0, 1, 0, 0, 0]),\n",
       " 'PAD': array([0, 0, 0, 0, 0, 0, 0, 0, 0, 0, 0, 0, 0, 0, 0, 0, 0, 0, 0, 0, 0]),\n",
       " '#': array([0, 0, 0, 0, 0, 0, 0, 0, 0, 0, 0, 0, 0, 0, 0, 0, 0, 0, 0, 1, 0]),\n",
       " '$': array([0, 0, 0, 0, 0, 0, 0, 0, 0, 0, 0, 0, 0, 0, 0, 0, 0, 0, 0, 0, 1])}"
      ]
     },
     "execution_count": 60,
     "metadata": {},
     "output_type": "execute_result"
    }
   ],
   "source": [
    "phone_arrays"
   ]
  },
  {
   "cell_type": "code",
   "execution_count": 88,
   "metadata": {},
   "outputs": [],
   "source": [
    "def find_closest_array(predicted):\n",
    "    \"\"\"\n",
    "    Find closest array.\n",
    "    \n",
    "    Parameters:\n",
    "    ----------   \n",
    "    predicted : type array\n",
    "    \n",
    "    Returns:\n",
    "    -------\n",
    "    candidate : type string\n",
    "    \"\"\"\n",
    "    min_dst = 10000\n",
    "    candidate = ''\n",
    "    import pickle \n",
    "    with open('WickelfeaturesProject/Files/phone_arrays.pickle', 'rb') as file:\n",
    "        phone_arrays = pickle.load(file)\n",
    "    for phone in phone_arrays:\n",
    "        dst = distance.euclidean(predicted, phone_arrays[phone])\n",
    "        # finds the minimum distance first\n",
    "        if dst < min_dst:\n",
    "            min_dst = dst\n",
    "            candidate = phone\n",
    "    return candidate       \n",
    "#     for phone in phone_arrays:\n",
    "#             dst = distance.euclidean(predicted, phone_arrays[phone])\n",
    "#             if dst == min_dst:\n",
    "#                 # appends all possible candidates to a list\n",
    "#                 candidates.append(phone)\n",
    "#     if len(candidates) > 1:\n",
    "#         return  '+'.join(candidates) \n",
    "#     else:\n",
    "#         return ''.join(candidates)"
   ]
  },
  {
   "cell_type": "code",
   "execution_count": 83,
   "metadata": {},
   "outputs": [
    {
     "data": {
      "text/plain": [
       "'3'"
      ]
     },
     "execution_count": 83,
     "metadata": {},
     "output_type": "execute_result"
    }
   ],
   "source": [
    "# test if it returns 3\n",
    "find_closest_array([0,1, 0, 0, 0, 0, 0, 0, 0, 0, 0, 0, 0, 0, 1, 0, 0, 1, 0,0,0])"
   ]
  },
  {
   "cell_type": "code",
   "execution_count": 84,
   "metadata": {},
   "outputs": [
    {
     "data": {
      "text/plain": [
       "'PAD'"
      ]
     },
     "execution_count": 84,
     "metadata": {},
     "output_type": "execute_result"
    }
   ],
   "source": [
    "# test if it returns a list\n",
    "find_closest_array([.678, 0, 0, 0, 0, 0, 0, 0, 0, 0, 0, 0, 0, 0, 0, 0, 0, 0, 0,0,0])"
   ]
  },
  {
   "cell_type": "markdown",
   "metadata": {},
   "source": [
    " ---"
   ]
  },
  {
   "cell_type": "markdown",
   "metadata": {},
   "source": [
    "## Inference mode"
   ]
  },
  {
   "cell_type": "code",
   "execution_count": 72,
   "metadata": {},
   "outputs": [],
   "source": [
    "# Next: inference mode (sampling).\n",
    "# Here's the drill:\n",
    "# 1) encode input and retrieve initial decoder state\n",
    "# 2) run one step of decoder with this initial state\n",
    "# and a \"start of sequence\" token as target.\n",
    "# Output will be the next target token\n",
    "# 3) Repeat with the current target token and current states\n",
    "\n",
    "# Define sampling models\n",
    "encoder_model = Model(encoder_inputs, encoder_states)\n",
    "\n",
    "decoder_state_input_h = Input(shape=(latent_dim,))\n",
    "decoder_state_input_c = Input(shape=(latent_dim,))\n",
    "decoder_states_inputs = [decoder_state_input_h, decoder_state_input_c]\n",
    "decoder_outputs, state_h, state_c = decoder_lstm(\n",
    "    decoder_inputs, initial_state=decoder_states_inputs)\n",
    "decoder_states = [state_h, state_c]\n",
    "decoder_outputs = decoder_dense(decoder_outputs)\n",
    "decoder_model = Model(\n",
    "    [decoder_inputs] + decoder_states_inputs,\n",
    "    [decoder_outputs] + decoder_states)"
   ]
  },
  {
   "cell_type": "code",
   "execution_count": 73,
   "metadata": {},
   "outputs": [],
   "source": [
    "lookup = {}\n",
    "for phone in phones:\n",
    "    lookup[phone] = code(phone)    "
   ]
  },
  {
   "cell_type": "code",
   "execution_count": 74,
   "metadata": {},
   "outputs": [],
   "source": [
    "with open('WickelfeaturesProject/Files/lookup.pickle', 'wb') as file:\n",
    "    pickle.dump(lookup, file, protocol=pickle.HIGHEST_PROTOCOL)"
   ]
  },
  {
   "cell_type": "code",
   "execution_count": 75,
   "metadata": {},
   "outputs": [],
   "source": [
    "def reverse_phone(array):\n",
    "    for item in lookup:\n",
    "        if np.all(array == lookup[item]):\n",
    "            return item"
   ]
  },
  {
   "cell_type": "code",
   "execution_count": 76,
   "metadata": {},
   "outputs": [
    {
     "data": {
      "text/plain": [
       "array([0, 1, 0, 0, 0, 0, 0, 0, 0, 0, 0, 0, 0, 0, 0, 0, 1, 1, 0, 0, 0])"
      ]
     },
     "execution_count": 76,
     "metadata": {},
     "output_type": "execute_result"
    }
   ],
   "source": [
    "coded_in[0][0]"
   ]
  },
  {
   "cell_type": "code",
   "execution_count": 77,
   "metadata": {},
   "outputs": [
    {
     "data": {
      "text/plain": [
       "'A'"
      ]
     },
     "execution_count": 77,
     "metadata": {},
     "output_type": "execute_result"
    }
   ],
   "source": [
    "reverse_phone(coded_in[0][0])"
   ]
  },
  {
   "cell_type": "code",
   "execution_count": 78,
   "metadata": {},
   "outputs": [
    {
     "data": {
      "text/plain": [
       "'PAD'"
      ]
     },
     "execution_count": 78,
     "metadata": {},
     "output_type": "execute_result"
    }
   ],
   "source": [
    "reverse_phone([0, 0, 0, 0, 0, 0, 0, 0, 0, 0, 0, 0, 0, 0, 0, 0, 0, 0, 0, 0, 0])"
   ]
  },
  {
   "cell_type": "code",
   "execution_count": 79,
   "metadata": {},
   "outputs": [
    {
     "data": {
      "text/plain": [
       "{'p': array([1, 0, 0, 0, 0, 1, 0, 0, 0, 0, 0, 0, 0, 0, 0, 0, 0, 0, 0, 0, 0]),\n",
       " 'b': array([1, 0, 0, 0, 0, 1, 0, 0, 0, 0, 0, 0, 1, 0, 0, 0, 0, 0, 0, 0, 0]),\n",
       " 'f': array([0, 0, 0, 1, 0, 0, 1, 0, 0, 0, 0, 0, 0, 0, 0, 0, 0, 0, 0, 0, 0]),\n",
       " 'v': array([0, 0, 0, 1, 0, 0, 1, 0, 0, 0, 0, 0, 1, 0, 0, 0, 0, 0, 0, 0, 0]),\n",
       " 't': array([1, 0, 0, 0, 0, 0, 0, 1, 0, 0, 0, 0, 0, 0, 0, 0, 0, 0, 0, 0, 0]),\n",
       " 'd': array([1, 0, 0, 0, 0, 0, 0, 1, 0, 0, 0, 0, 1, 0, 0, 0, 0, 0, 0, 0, 0]),\n",
       " 'm': array([0, 1, 0, 0, 0, 1, 0, 0, 0, 0, 0, 0, 0, 0, 0, 0, 0, 0, 0, 0, 0]),\n",
       " 'n': array([0, 1, 0, 0, 0, 0, 0, 1, 0, 0, 0, 0, 0, 0, 0, 0, 0, 0, 0, 0, 0]),\n",
       " 'k': array([1, 0, 0, 0, 0, 0, 0, 0, 0, 0, 1, 0, 0, 0, 0, 0, 0, 0, 0, 0, 0]),\n",
       " 'g': array([1, 0, 0, 0, 0, 0, 0, 0, 0, 0, 1, 0, 1, 0, 0, 0, 0, 0, 0, 0, 0]),\n",
       " 'N': array([0, 1, 0, 0, 0, 0, 0, 0, 0, 1, 0, 0, 0, 0, 0, 0, 0, 0, 0, 0, 0]),\n",
       " 'r': array([0, 0, 1, 0, 0, 0, 0, 1, 0, 0, 0, 0, 0, 0, 0, 0, 0, 0, 0, 0, 0]),\n",
       " 's': array([0, 0, 0, 1, 0, 0, 0, 1, 0, 0, 0, 0, 0, 0, 0, 0, 0, 0, 0, 0, 0]),\n",
       " 'z': array([0, 0, 0, 1, 0, 0, 0, 1, 0, 0, 0, 0, 1, 0, 0, 0, 0, 0, 0, 0, 0]),\n",
       " 'j': array([0, 0, 0, 1, 0, 0, 0, 0, 1, 0, 0, 0, 1, 0, 0, 0, 0, 0, 0, 0, 0]),\n",
       " 'l': array([0, 0, 0, 0, 1, 0, 0, 0, 1, 0, 0, 0, 0, 0, 0, 0, 0, 0, 0, 0, 0]),\n",
       " 'L': array([0, 0, 0, 0, 1, 0, 0, 0, 0, 1, 0, 0, 0, 0, 0, 0, 0, 0, 0, 0, 0]),\n",
       " 'h': array([0, 0, 0, 1, 0, 0, 0, 0, 0, 0, 0, 1, 0, 0, 0, 0, 0, 0, 0, 0, 0]),\n",
       " 'x': array([0, 0, 0, 1, 0, 0, 0, 0, 1, 0, 0, 0, 0, 0, 0, 0, 0, 0, 0, 0, 0]),\n",
       " 'i': array([0, 0, 0, 0, 0, 0, 0, 0, 0, 0, 0, 0, 0, 1, 0, 0, 0, 1, 0, 0, 0]),\n",
       " 'e': array([0, 0, 0, 0, 0, 0, 0, 0, 0, 0, 0, 0, 0, 0, 1, 0, 0, 1, 0, 0, 0]),\n",
       " 'E': array([0, 0, 0, 0, 0, 0, 0, 0, 0, 0, 0, 0, 0, 0, 0, 1, 0, 1, 0, 0, 0]),\n",
       " 'a': array([0, 0, 0, 0, 0, 0, 0, 0, 0, 0, 0, 0, 0, 0, 0, 0, 1, 1, 0, 0, 0]),\n",
       " 'u': array([0, 0, 0, 0, 0, 0, 0, 0, 0, 0, 0, 0, 0, 1, 0, 0, 0, 0, 1, 0, 0]),\n",
       " 'o': array([0, 0, 0, 0, 0, 0, 0, 0, 0, 0, 0, 0, 0, 0, 1, 0, 0, 0, 1, 0, 0]),\n",
       " 'O': array([0, 0, 0, 0, 0, 0, 0, 0, 0, 0, 0, 0, 0, 0, 0, 1, 0, 0, 1, 0, 0]),\n",
       " 'A': array([0, 1, 0, 0, 0, 0, 0, 0, 0, 0, 0, 0, 0, 0, 0, 0, 1, 1, 0, 0, 0]),\n",
       " '3': array([0, 1, 0, 0, 0, 0, 0, 0, 0, 0, 0, 0, 0, 0, 1, 0, 0, 1, 0, 0, 0]),\n",
       " 'PAD': array([0, 0, 0, 0, 0, 0, 0, 0, 0, 0, 0, 0, 0, 0, 0, 0, 0, 0, 0, 0, 0]),\n",
       " '#': array([0, 0, 0, 0, 0, 0, 0, 0, 0, 0, 0, 0, 0, 0, 0, 0, 0, 0, 0, 1, 0]),\n",
       " '$': array([0, 0, 0, 0, 0, 0, 0, 0, 0, 0, 0, 0, 0, 0, 0, 0, 0, 0, 0, 0, 1])}"
      ]
     },
     "execution_count": 79,
     "metadata": {},
     "output_type": "execute_result"
    }
   ],
   "source": [
    "lookup"
   ]
  },
  {
   "cell_type": "code",
   "execution_count": 113,
   "metadata": {},
   "outputs": [],
   "source": [
    "del lookup['PAD']"
   ]
  },
  {
   "cell_type": "code",
   "execution_count": 135,
   "metadata": {},
   "outputs": [],
   "source": [
    "with open('WickelfeaturesProject/Files/lookup.pickle', 'wb') as file:\n",
    "    pickle.dump(lookup, file, protocol=pickle.HIGHEST_PROTOCOL)"
   ]
  },
  {
   "cell_type": "code",
   "execution_count": 134,
   "metadata": {},
   "outputs": [],
   "source": [
    "lookup['PAD'] = np.array([0, 0, 0, 0, 0, 0, 0, 0, 0, 0, 0, 0, 0, 0, 0, 0, 0, 0, 0, 0, 0])"
   ]
  },
  {
   "cell_type": "code",
   "execution_count": 144,
   "metadata": {},
   "outputs": [],
   "source": [
    "with open('WickelfeaturesProject/Files/lookup.pickle', 'rb') as file:\n",
    "    lookup = pickle.load(file)\n",
    "    \n",
    "def decode_sequence(input_seq, renormalize=False):\n",
    "    # Encode the input as state vectors.\n",
    "    states_value = encoder_model.predict(input_seq)\n",
    "\n",
    "    # Generate empty target sequence of length 1.\n",
    "    target_seq = np.zeros((1, 1, 21)) # max decoder len = 13, 21 features\n",
    "    max_decoder_seq_length = 13\n",
    "    \n",
    "    #Populate the first character of target sequence with the start character.\n",
    "    target_seq= lookup['#'].reshape(1, 1, -1)\n",
    "\n",
    "    # Sampling loop for a batch of sequences\n",
    "    # (to simplify, here we assume a batch of size 1).\n",
    "    stop_condition = False\n",
    "    decoded_verb = ''\n",
    "    while not stop_condition:\n",
    "        output_phones, h, c = decoder_model.predict(\n",
    "            [target_seq] + states_value)\n",
    "\n",
    "        # Sample a phone\n",
    "        if renormalize:\n",
    "            sampled_phone = find_closest_array(output_phones[0, -1, :]/omega)\n",
    "        else:\n",
    "            sampled_phone = find_closest_array(output_phones[0, -1, :])                                               \n",
    "        sampled_phone_vector = lookup[sampled_phone]\n",
    "        decoded_verb += sampled_phone\n",
    "        # Exit condition: either hit max length\n",
    "        # or find stop character.\n",
    "        if (sampled_phone == '$' or \n",
    "           len(decoded_verb) > max_decoder_seq_length):\n",
    "            stop_condition = True\n",
    "\n",
    "        # Update the target sequence (of length 1).\n",
    "        target_seq = sampled_phone_vector.reshape(1, 1, -1)\n",
    "#         target_seq = np.zeros((1, 1, num_decoder_tokens))\n",
    "#         target_seq[0, 0, sampled_phone_vector] = 1.\n",
    "\n",
    "        # Update states\n",
    "        states_value = [h, c]\n",
    "\n",
    "    return decoded_verb[:-1]\n",
    "\n",
    "def decode_sequences(seq, renormalize=False):\n",
    "    if len(seq.shape) == 3:\n",
    "        return [decode_sequence(s.reshape(1,*s.shape), renormalize=renormalize) for s in seq]\n",
    "    else:\n",
    "        return [decode_sequence(seq.reshape(1,*seq.shape), renormalize=renormalize)]"
   ]
  },
  {
   "cell_type": "markdown",
   "metadata": {},
   "source": [
    "# Test"
   ]
  },
  {
   "cell_type": "code",
   "execution_count": 148,
   "metadata": {},
   "outputs": [
    {
     "data": {
      "text/html": [
       "<div>\n",
       "<style scoped>\n",
       "    .dataframe tbody tr th:only-of-type {\n",
       "        vertical-align: middle;\n",
       "    }\n",
       "\n",
       "    .dataframe tbody tr th {\n",
       "        vertical-align: top;\n",
       "    }\n",
       "\n",
       "    .dataframe thead th {\n",
       "        text-align: right;\n",
       "    }\n",
       "</style>\n",
       "<table border=\"1\" class=\"dataframe\">\n",
       "  <thead>\n",
       "    <tr style=\"text-align: right;\">\n",
       "      <th></th>\n",
       "      <th>No renorm</th>\n",
       "      <th>Renorm</th>\n",
       "    </tr>\n",
       "  </thead>\n",
       "  <tbody>\n",
       "    <tr>\n",
       "      <th>sabe</th>\n",
       "      <td>sabu</td>\n",
       "      <td>vabu</td>\n",
       "    </tr>\n",
       "    <tr>\n",
       "      <th>ekivale</th>\n",
       "      <td>agelisu</td>\n",
       "      <td>ageliju</td>\n",
       "    </tr>\n",
       "    <tr>\n",
       "      <th>prove</th>\n",
       "      <td>provu</td>\n",
       "      <td>brovu</td>\n",
       "    </tr>\n",
       "    <tr>\n",
       "      <th>traze</th>\n",
       "      <td>traPADu</td>\n",
       "      <td>draju</td>\n",
       "    </tr>\n",
       "    <tr>\n",
       "      <th>pode</th>\n",
       "      <td>pOPADu</td>\n",
       "      <td>bOhu</td>\n",
       "    </tr>\n",
       "    <tr>\n",
       "      <th>desda</th>\n",
       "      <td>desku</td>\n",
       "      <td>dezku</td>\n",
       "    </tr>\n",
       "    <tr>\n",
       "      <th>idea</th>\n",
       "      <td>adiu</td>\n",
       "      <td>adiu</td>\n",
       "    </tr>\n",
       "    <tr>\n",
       "      <th>estrea</th>\n",
       "      <td>estreuu</td>\n",
       "      <td>estrau</td>\n",
       "    </tr>\n",
       "    <tr>\n",
       "      <th>da</th>\n",
       "      <td>PADPADu</td>\n",
       "      <td>Odu</td>\n",
       "    </tr>\n",
       "    <tr>\n",
       "      <th>sobresta</th>\n",
       "      <td>sPADPADPADrPA</td>\n",
       "      <td>zorpErsu</td>\n",
       "    </tr>\n",
       "    <tr>\n",
       "      <th>esta</th>\n",
       "      <td>estu</td>\n",
       "      <td>eztu</td>\n",
       "    </tr>\n",
       "    <tr>\n",
       "      <th>kabe</th>\n",
       "      <td>gapu</td>\n",
       "      <td>gabu</td>\n",
       "    </tr>\n",
       "    <tr>\n",
       "      <th>ouvi</th>\n",
       "      <td>ouvu</td>\n",
       "      <td>ojuu</td>\n",
       "    </tr>\n",
       "    <tr>\n",
       "      <th>entreouvi</th>\n",
       "      <td>entPADPADPADPA</td>\n",
       "      <td>entrevuju</td>\n",
       "    </tr>\n",
       "    <tr>\n",
       "      <th>heouvi</th>\n",
       "      <td>hoPADuvu</td>\n",
       "      <td>hohoju</td>\n",
       "    </tr>\n",
       "    <tr>\n",
       "      <th>pari</th>\n",
       "      <td>paru</td>\n",
       "      <td>paru</td>\n",
       "    </tr>\n",
       "    <tr>\n",
       "      <th>perde</th>\n",
       "      <td>pertu</td>\n",
       "      <td>perdu</td>\n",
       "    </tr>\n",
       "    <tr>\n",
       "      <th>testa</th>\n",
       "      <td>testu</td>\n",
       "      <td>testu</td>\n",
       "    </tr>\n",
       "    <tr>\n",
       "      <th>obiserva</th>\n",
       "      <td>eporfasu</td>\n",
       "      <td>ebervaju</td>\n",
       "    </tr>\n",
       "    <tr>\n",
       "      <th>eskolie</th>\n",
       "      <td>eskoluu</td>\n",
       "      <td>ehklliu</td>\n",
       "    </tr>\n",
       "    <tr>\n",
       "      <th>konversa</th>\n",
       "      <td>konsPADPADsu</td>\n",
       "      <td>konvarzu</td>\n",
       "    </tr>\n",
       "    <tr>\n",
       "      <th>fexa</th>\n",
       "      <td>fexu</td>\n",
       "      <td>valu</td>\n",
       "    </tr>\n",
       "    <tr>\n",
       "      <th>gosta</th>\n",
       "      <td>gostu</td>\n",
       "      <td>gOstu</td>\n",
       "    </tr>\n",
       "    <tr>\n",
       "      <th>volta</th>\n",
       "      <td>xoPADbu</td>\n",
       "      <td>jOldu</td>\n",
       "    </tr>\n",
       "    <tr>\n",
       "      <th>espresa</th>\n",
       "      <td>esprisu</td>\n",
       "      <td>esprizu</td>\n",
       "    </tr>\n",
       "    <tr>\n",
       "      <th>pasea</th>\n",
       "      <td>paPADsu</td>\n",
       "      <td>paazu</td>\n",
       "    </tr>\n",
       "    <tr>\n",
       "      <th>akorda</th>\n",
       "      <td>akordu</td>\n",
       "      <td>agOrdu</td>\n",
       "    </tr>\n",
       "    <tr>\n",
       "      <th>korta</th>\n",
       "      <td>kontu</td>\n",
       "      <td>kOrtu</td>\n",
       "    </tr>\n",
       "    <tr>\n",
       "      <th>aumosa</th>\n",
       "      <td>imuPADPADu</td>\n",
       "      <td>Amulu</td>\n",
       "    </tr>\n",
       "    <tr>\n",
       "      <th>injeri</th>\n",
       "      <td>infPADPADu</td>\n",
       "      <td>invaxu</td>\n",
       "    </tr>\n",
       "  </tbody>\n",
       "</table>\n",
       "</div>"
      ],
      "text/plain": [
       "                No renorm     Renorm\n",
       "sabe                 sabu       vabu\n",
       "ekivale           agelisu    ageliju\n",
       "prove               provu      brovu\n",
       "traze             traPADu      draju\n",
       "pode               pOPADu       bOhu\n",
       "desda               desku      dezku\n",
       "idea                 adiu       adiu\n",
       "estrea            estreuu     estrau\n",
       "da                PADPADu        Odu\n",
       "sobresta    sPADPADPADrPA   zorpErsu\n",
       "esta                 estu       eztu\n",
       "kabe                 gapu       gabu\n",
       "ouvi                 ouvu       ojuu\n",
       "entreouvi  entPADPADPADPA  entrevuju\n",
       "heouvi           hoPADuvu     hohoju\n",
       "pari                 paru       paru\n",
       "perde               pertu      perdu\n",
       "testa               testu      testu\n",
       "obiserva         eporfasu   ebervaju\n",
       "eskolie           eskoluu    ehklliu\n",
       "konversa     konsPADPADsu   konvarzu\n",
       "fexa                 fexu       valu\n",
       "gosta               gostu      gOstu\n",
       "volta             xoPADbu      jOldu\n",
       "espresa           esprisu    esprizu\n",
       "pasea             paPADsu      paazu\n",
       "akorda             akordu     agOrdu\n",
       "korta               kontu      kOrtu\n",
       "aumosa         imuPADPADu      Amulu\n",
       "injeri         infPADPADu     invaxu"
      ]
     },
     "execution_count": 148,
     "metadata": {},
     "output_type": "execute_result"
    }
   ],
   "source": [
    "pd.DataFrame([decode_sequences(x_test), decode_sequences(x_test,True)], columns=input_texts.to_list(), index=['No renorm', 'Renorm']).T"
   ]
  },
  {
   "cell_type": "code",
   "execution_count": 122,
   "metadata": {},
   "outputs": [
    {
     "data": {
      "text/html": [
       "<div>\n",
       "<style scoped>\n",
       "    .dataframe tbody tr th:only-of-type {\n",
       "        vertical-align: middle;\n",
       "    }\n",
       "\n",
       "    .dataframe tbody tr th {\n",
       "        vertical-align: top;\n",
       "    }\n",
       "\n",
       "    .dataframe thead th {\n",
       "        text-align: right;\n",
       "    }\n",
       "</style>\n",
       "<table border=\"1\" class=\"dataframe\">\n",
       "  <thead>\n",
       "    <tr style=\"text-align: right;\">\n",
       "      <th></th>\n",
       "      <th>0</th>\n",
       "    </tr>\n",
       "  </thead>\n",
       "  <tbody>\n",
       "    <tr>\n",
       "      <th>Ansia</th>\n",
       "      <td>Ansiiu</td>\n",
       "    </tr>\n",
       "    <tr>\n",
       "      <th>odia</th>\n",
       "      <td>idiiu</td>\n",
       "    </tr>\n",
       "    <tr>\n",
       "      <th>pleitea</th>\n",
       "      <td>plipitiu</td>\n",
       "    </tr>\n",
       "    <tr>\n",
       "      <th>ins3ndia</th>\n",
       "      <td>intAnviu</td>\n",
       "    </tr>\n",
       "    <tr>\n",
       "      <th>sortea</th>\n",
       "      <td>sorpriu</td>\n",
       "    </tr>\n",
       "    <tr>\n",
       "      <th>hemedia</th>\n",
       "      <td>hemebiiu</td>\n",
       "    </tr>\n",
       "    <tr>\n",
       "      <th>intermedia</th>\n",
       "      <td>3npr3briviu</td>\n",
       "    </tr>\n",
       "    <tr>\n",
       "      <th>media</th>\n",
       "      <td>mAdiu</td>\n",
       "    </tr>\n",
       "    <tr>\n",
       "      <th>oLa</th>\n",
       "      <td>luu</td>\n",
       "    </tr>\n",
       "    <tr>\n",
       "      <th>koloka</th>\n",
       "      <td>kolkuu</td>\n",
       "    </tr>\n",
       "  </tbody>\n",
       "</table>\n",
       "</div>"
      ],
      "text/plain": [
       "                      0\n",
       "Ansia            Ansiiu\n",
       "odia              idiiu\n",
       "pleitea        plipitiu\n",
       "ins3ndia       intAnviu\n",
       "sortea          sorpriu\n",
       "hemedia        hemebiiu\n",
       "intermedia  3npr3briviu\n",
       "media             mAdiu\n",
       "oLa                 luu\n",
       "koloka           kolkuu"
      ]
     },
     "execution_count": 122,
     "metadata": {},
     "output_type": "execute_result"
    }
   ],
   "source": [
    "pd.DataFrame(decode_sequences(padded_in[:10]), corpus.inf_verb.to_list()[:10])"
   ]
  },
  {
   "cell_type": "code",
   "execution_count": 129,
   "metadata": {},
   "outputs": [],
   "source": [
    "omega = 2*padded_out.mean(axis=0).mean(axis=0)"
   ]
  }
 ],
 "metadata": {
  "hide_input": false,
  "kernelspec": {
   "display_name": "Python (bia)",
   "language": "python",
   "name": "bia"
  },
  "language_info": {
   "codemirror_mode": {
    "name": "ipython",
    "version": 3
   },
   "file_extension": ".py",
   "mimetype": "text/x-python",
   "name": "python",
   "nbconvert_exporter": "python",
   "pygments_lexer": "ipython3",
   "version": "3.6.8"
  },
  "toc": {
   "base_numbering": 1,
   "nav_menu": {},
   "number_sections": true,
   "sideBar": true,
   "skip_h1_title": false,
   "title_cell": "Table of Contents",
   "title_sidebar": "Contents",
   "toc_cell": false,
   "toc_position": {
    "height": "calc(100% - 180px)",
    "left": "10px",
    "top": "150px",
    "width": "320px"
   },
   "toc_section_display": true,
   "toc_window_display": true
  }
 },
 "nbformat": 4,
 "nbformat_minor": 2
}
