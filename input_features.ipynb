{
 "cells": [
  {
   "cell_type": "markdown",
   "metadata": {},
   "source": [
    "# Libs"
   ]
  },
  {
   "cell_type": "code",
   "execution_count": 13,
   "metadata": {},
   "outputs": [],
   "source": [
    "import pandas as pd\n",
    "import numpy as np\n",
    "from keras.preprocessing.sequence import pad_sequences\n",
    "from keras.models import Model, load_model\n",
    "from keras.layers import Input, LSTM, Dense, Masking\n",
    "import matplotlib\n",
    "import matplotlib.pyplot as plt\n",
    "from keras.callbacks import ModelCheckpoint\n",
    "from WickelfeaturesProject.keras_metrics import KerasMetrics\n",
    "from keras.optimizers import adam\n",
    "import keras.backend as K\n",
    "from sklearn.metrics import f1_score\n",
    "from scipy.spatial import distance\n",
    "opt = adam()"
   ]
  },
  {
   "cell_type": "markdown",
   "metadata": {},
   "source": [
    "# Data"
   ]
  },
  {
   "cell_type": "markdown",
   "metadata": {},
   "source": [
    "corpus = pd.read_csv(\"WickelfeaturesProject/Corpus new coding/corpus_complete.csv\", names=['verb0', 'inf_verb', 'conj_verb0', 'conj_verb'])"
   ]
  },
  {
   "cell_type": "markdown",
   "metadata": {},
   "source": [
    "corpus.drop(['verb0','conj_verb0'], axis=1,inplace=True)"
   ]
  },
  {
   "cell_type": "markdown",
   "metadata": {},
   "source": [
    "corpus['conj_verb'] = corpus.conj_verb.apply(lambda x: x.strip('#'))"
   ]
  },
  {
   "cell_type": "markdown",
   "metadata": {},
   "source": [
    "corpus['inf_verb'] = corpus.inf_verb.apply(lambda x: x.strip('#'))"
   ]
  },
  {
   "cell_type": "markdown",
   "metadata": {},
   "source": [
    "corpus.to_csv('WickelfeaturesProject/Corpus new coding/actual_corpus_used', index=False)"
   ]
  },
  {
   "cell_type": "code",
   "execution_count": 5,
   "metadata": {},
   "outputs": [],
   "source": [
    "corpus = pd.read_csv('WickelfeaturesProject/Corpus new coding/actual_corpus_used' )"
   ]
  },
  {
   "cell_type": "markdown",
   "metadata": {},
   "source": [
    "# Features"
   ]
  },
  {
   "cell_type": "code",
   "execution_count": 6,
   "metadata": {},
   "outputs": [],
   "source": [
    "features = ['oclusiva', 'nasal', 'tepe', 'fricativa', 'l-aprox', 'bilabial', 'labiodental',\n",
    "           'alveolar', 'p-alveolar', 'palatal', 'velar', 'glotal', 'vozeada', 'fechada',\n",
    "           'm-fechada', 'm-aberta', 'aberta', 'anterior', 'posterior']"
   ]
  },
  {
   "cell_type": "code",
   "execution_count": 7,
   "metadata": {},
   "outputs": [],
   "source": [
    "#http://www.ipachart.com/\n",
    "phones = {\n",
    "\"p\" : ['bilabial', 'oclusiva'],\n",
    "\"b\" : ['bilabial', 'oclusiva', 'vozeada'],\n",
    "\"f\" : ['labiodental', 'fricativa'],\n",
    "\"v\" : ['labiodental', 'fricativa', 'vozeada'],\n",
    "\"t\" : ['alveolar', 'oclusiva'],\n",
    "\"d\" : ['alveolar', 'oclusiva', 'vozeada'],\n",
    "\"m\" : ['bilabial', 'nasal'],\n",
    "\"n\" : ['alveolar', 'nasal'],\n",
    "\"k\" : ['velar', 'oclusiva'],\n",
    "\"g\" : ['velar', 'oclusiva', 'vozeada'],\n",
    "\"N\" : ['nasal', 'palatal'],\n",
    "\"r\" : ['alveolar', 'tepe'],\n",
    "\"s\" : ['alveolar', 'fricativa'],\n",
    "\"z\" : ['alveolar', 'fricativa', 'vozeada'],\n",
    "\"j\" : ['p-alveolar', 'fricativa', 'vozeada'],\n",
    "\"l\" : ['l-aprox', 'p-alveolar'],\n",
    "\"L\" : ['l-aprox', 'palatal'],\n",
    "\"h\" : ['glotal', 'fricativa'],\n",
    "\"x\" : ['fricativa', 'p-alveolar'],\n",
    "\"i\" : ['anterior', 'fechada'],\n",
    "\"e\" : ['m-fechada', 'anterior'],\n",
    "\"E\" : ['m-aberta', 'anterior'],\n",
    "\"a\" : ['anterior', 'aberta'],\n",
    "\"u\" : ['posterior', 'fechada'],\n",
    "\"o\" : ['m-fechada', 'posterior'],\n",
    "\"O\" : ['m-aberta', 'posterior'],\n",
    "\"A\" : ['anterior', 'aberta', 'nasal'],\n",
    "\"3\" : ['m-fechada', 'anterior', 'nasal']}"
   ]
  },
  {
   "cell_type": "markdown",
   "metadata": {},
   "source": [
    "# Functions"
   ]
  },
  {
   "cell_type": "code",
   "execution_count": 9,
   "metadata": {},
   "outputs": [],
   "source": [
    "def code(phone): \n",
    "    array = []\n",
    "    for item in features:\n",
    "        if item in phones[phone]:\n",
    "            array.append(1)\n",
    "        else:\n",
    "            array.append(0)\n",
    "    return np.array(array)"
   ]
  },
  {
   "cell_type": "code",
   "execution_count": 122,
   "metadata": {},
   "outputs": [
    {
     "data": {
      "text/plain": [
       "array([0, 0, 0, 1, 0, 0, 0, 0, 0, 0, 0, 1, 0, 0, 0, 0, 0, 0, 0])"
      ]
     },
     "execution_count": 122,
     "metadata": {},
     "output_type": "execute_result"
    }
   ],
   "source": [
    "code('h')"
   ]
  },
  {
   "cell_type": "code",
   "execution_count": 123,
   "metadata": {},
   "outputs": [],
   "source": [
    "def code_verb(verb):\n",
    "    coded = list()\n",
    "    for item in verb:\n",
    "        coded.append(code(item))\n",
    "    return coded"
   ]
  },
  {
   "cell_type": "code",
   "execution_count": 124,
   "metadata": {},
   "outputs": [
    {
     "data": {
      "text/plain": [
       "[array([0, 0, 0, 1, 0, 0, 1, 0, 0, 0, 0, 0, 0, 0, 0, 0, 0, 0, 0]),\n",
       " array([0, 0, 0, 0, 0, 0, 0, 0, 0, 0, 0, 0, 0, 0, 0, 0, 1, 1, 0]),\n",
       " array([0, 0, 0, 0, 1, 0, 0, 0, 1, 0, 0, 0, 0, 0, 0, 0, 0, 0, 0]),\n",
       " array([0, 0, 0, 0, 0, 0, 0, 0, 0, 0, 0, 0, 0, 1, 0, 0, 0, 0, 1])]"
      ]
     },
     "execution_count": 124,
     "metadata": {},
     "output_type": "execute_result"
    }
   ],
   "source": [
    "#code_verb('falu')"
   ]
  },
  {
   "cell_type": "code",
   "execution_count": 125,
   "metadata": {},
   "outputs": [],
   "source": [
    "# def verify(verb):\n",
    "#     for phone in verb:\n",
    "#         if phone not in phones.keys():\n",
    "#             print(phone, verb)\n",
    "#         else:\n",
    "#             None"
   ]
  },
  {
   "cell_type": "code",
   "execution_count": 126,
   "metadata": {},
   "outputs": [
    {
     "data": {
      "text/plain": [
       "dict_keys(['p', 'b', 'f', 'v', 't', 'd', 'm', 'n', 'k', 'g', 'N', 'r', 's', 'z', 'j', 'l', 'L', 'h', 'x', 'i', 'e', 'E', 'a', 'u', 'o', 'O', 'A', '3'])"
      ]
     },
     "execution_count": 126,
     "metadata": {},
     "output_type": "execute_result"
    }
   ],
   "source": [
    "phones.keys()"
   ]
  },
  {
   "cell_type": "code",
   "execution_count": 17,
   "metadata": {
    "collapsed": true
   },
   "outputs": [
    {
     "data": {
      "text/plain": [
       "0      None\n",
       "1      None\n",
       "2      None\n",
       "3      None\n",
       "4      None\n",
       "5      None\n",
       "6      None\n",
       "7      None\n",
       "8      None\n",
       "9      None\n",
       "10     None\n",
       "11     None\n",
       "12     None\n",
       "13     None\n",
       "14     None\n",
       "15     None\n",
       "16     None\n",
       "17     None\n",
       "18     None\n",
       "19     None\n",
       "20     None\n",
       "21     None\n",
       "22     None\n",
       "23     None\n",
       "24     None\n",
       "25     None\n",
       "26     None\n",
       "27     None\n",
       "28     None\n",
       "29     None\n",
       "       ... \n",
       "393    None\n",
       "394    None\n",
       "395    None\n",
       "396    None\n",
       "397    None\n",
       "398    None\n",
       "399    None\n",
       "400    None\n",
       "401    None\n",
       "402    None\n",
       "403    None\n",
       "404    None\n",
       "405    None\n",
       "406    None\n",
       "407    None\n",
       "408    None\n",
       "409    None\n",
       "410    None\n",
       "411    None\n",
       "412    None\n",
       "413    None\n",
       "414    None\n",
       "415    None\n",
       "416    None\n",
       "417    None\n",
       "418    None\n",
       "419    None\n",
       "420    None\n",
       "421    None\n",
       "422    None\n",
       "Name: inf_verb, Length: 423, dtype: object"
      ]
     },
     "execution_count": 17,
     "metadata": {},
     "output_type": "execute_result"
    }
   ],
   "source": [
    "# corpus.inf_verb.apply(verify)"
   ]
  },
  {
   "cell_type": "markdown",
   "metadata": {},
   "source": [
    "# Maximum Length of input and output"
   ]
  },
  {
   "cell_type": "code",
   "execution_count": 127,
   "metadata": {},
   "outputs": [
    {
     "data": {
      "text/plain": [
       "11"
      ]
     },
     "execution_count": 127,
     "metadata": {},
     "output_type": "execute_result"
    }
   ],
   "source": [
    "corpus.inf_verb.str.len().max()"
   ]
  },
  {
   "cell_type": "code",
   "execution_count": 128,
   "metadata": {},
   "outputs": [
    {
     "data": {
      "text/plain": [
       "11"
      ]
     },
     "execution_count": 128,
     "metadata": {},
     "output_type": "execute_result"
    }
   ],
   "source": [
    "corpus.conj_verb.str.len().max()"
   ]
  },
  {
   "cell_type": "markdown",
   "metadata": {},
   "source": [
    "# Padding"
   ]
  },
  {
   "cell_type": "code",
   "execution_count": 129,
   "metadata": {},
   "outputs": [],
   "source": [
    "coded_in = corpus.inf_verb.apply(code_verb)"
   ]
  },
  {
   "cell_type": "code",
   "execution_count": 130,
   "metadata": {},
   "outputs": [],
   "source": [
    "coded_out = corpus.conj_verb.apply(code_verb)"
   ]
  },
  {
   "cell_type": "code",
   "execution_count": null,
   "metadata": {
    "collapsed": true
   },
   "outputs": [],
   "source": [
    "# # define sequences\n",
    "# sequences = [\n",
    "#     [1, 2, 3, 4],\n",
    "#        [1, 2, 3],\n",
    "#              [1]\n",
    "#     ]\n",
    "# # pad sequence"
   ]
  },
  {
   "cell_type": "code",
   "execution_count": 131,
   "metadata": {},
   "outputs": [],
   "source": [
    "padded_in = pad_sequences(coded_in, value=np.zeros(19))\n",
    "padded_out = pad_sequences(coded_out, value=np.zeros(19),padding=\"post\")"
   ]
  },
  {
   "cell_type": "code",
   "execution_count": 132,
   "metadata": {},
   "outputs": [
    {
     "data": {
      "text/plain": [
       "(423, 11, 19)"
      ]
     },
     "execution_count": 132,
     "metadata": {},
     "output_type": "execute_result"
    }
   ],
   "source": [
    "padded_out = pad_sequences(coded_out, value=np.zeros(19),padding=\"post\")\n",
    "padded_out.shape"
   ]
  },
  {
   "cell_type": "markdown",
   "metadata": {},
   "source": [
    "about pre padding: https://stackoverflow.com/questions/46298793/how-does-choosing-between-pre-and-post-zero-padding-of-sequences-impact-results"
   ]
  },
  {
   "cell_type": "markdown",
   "metadata": {},
   "source": [
    "# Test Split"
   ]
  },
  {
   "cell_type": "code",
   "execution_count": 133,
   "metadata": {},
   "outputs": [],
   "source": [
    "x_test = padded_in[-30:]\n",
    "y_test = padded_out[-30:]\n",
    "\n",
    "padded_in = padded_in[:-30]\n",
    "padded_out = padded_out[:-30]"
   ]
  },
  {
   "cell_type": "markdown",
   "metadata": {},
   "source": [
    "# The Network"
   ]
  },
  {
   "cell_type": "code",
   "execution_count": 187,
   "metadata": {},
   "outputs": [],
   "source": [
    "latent_dim = 256\n",
    "num_encoder_tokens = 19\n",
    "\n",
    "# Define an input sequence and process it.\n",
    "encoder_inputs = Input(shape=(None, num_encoder_tokens)) #19\n",
    "#encoder_inputs = Masking()(encoder_inputs) # Assuming PAD is zeros\n",
    "encoder = LSTM(latent_dim, return_state=True)\n",
    "# Now the LSTM will ignore the PADs when encoding\n",
    "# by skipping those timesteps that are masked\n",
    "encoder_outputs, state_h, state_c = encoder(encoder_inputs)\n",
    "# We discard `encoder_outputs` and only keep the states.\n",
    "encoder_states = [state_h, state_c]\n",
    "\n",
    "# Set up the decoder, using `encoder_states` as initial state.\n",
    "num_decoder_tokens = 19\n",
    "decoder_inputs = Input(shape=(None, num_decoder_tokens))\n",
    "# We set up our decoder to return full output sequences,\n",
    "# and to return internal states as well. We don't use the\n",
    "# return states in the training model, but we will use them in inference.\n",
    "decoder_lstm = LSTM(latent_dim, return_sequences=True, return_state=True)\n",
    "decoder_outputs, _, _ = decoder_lstm(decoder_inputs,\n",
    "                                     initial_state=encoder_states)\n",
    "decoder_dense = Dense(num_decoder_tokens, activation='sigmoid')\n",
    "decoder_outputs = decoder_dense(decoder_outputs)\n",
    "\n",
    "# Define the model that will turn\n",
    "# `encoder_input_data` & `decoder_input_data` into `decoder_target_data`\n",
    "model = Model([encoder_inputs, decoder_inputs], decoder_outputs)"
   ]
  },
  {
   "cell_type": "code",
   "execution_count": 135,
   "metadata": {},
   "outputs": [
    {
     "data": {
      "text/plain": [
       "19"
      ]
     },
     "execution_count": 135,
     "metadata": {},
     "output_type": "execute_result"
    }
   ],
   "source": [
    "num_encoder_tokens"
   ]
  },
  {
   "cell_type": "code",
   "execution_count": 136,
   "metadata": {},
   "outputs": [
    {
     "data": {
      "text/plain": [
       "array([[0, 1, 0, 0, 0, 0, 0, 0, 0, 0, 0, 0, 0, 0, 0, 0, 1, 1, 0],\n",
       "       [0, 1, 0, 0, 0, 0, 0, 1, 0, 0, 0, 0, 0, 0, 0, 0, 0, 0, 0],\n",
       "       [0, 0, 0, 1, 0, 0, 0, 1, 0, 0, 0, 0, 0, 0, 0, 0, 0, 0, 0],\n",
       "       [0, 0, 0, 0, 0, 0, 0, 0, 0, 0, 0, 0, 0, 0, 1, 0, 0, 1, 0],\n",
       "       [0, 0, 0, 0, 0, 0, 0, 0, 0, 0, 0, 0, 0, 1, 0, 0, 0, 1, 0],\n",
       "       [0, 0, 0, 0, 0, 0, 0, 0, 0, 0, 0, 0, 0, 1, 0, 0, 0, 0, 1],\n",
       "       [0, 0, 0, 0, 0, 0, 0, 0, 0, 0, 0, 0, 0, 0, 0, 0, 0, 0, 0],\n",
       "       [0, 0, 0, 0, 0, 0, 0, 0, 0, 0, 0, 0, 0, 0, 0, 0, 0, 0, 0],\n",
       "       [0, 0, 0, 0, 0, 0, 0, 0, 0, 0, 0, 0, 0, 0, 0, 0, 0, 0, 0],\n",
       "       [0, 0, 0, 0, 0, 0, 0, 0, 0, 0, 0, 0, 0, 0, 0, 0, 0, 0, 0],\n",
       "       [0, 0, 0, 0, 0, 0, 0, 0, 0, 0, 0, 0, 0, 0, 0, 0, 0, 0, 0]],\n",
       "      dtype=int32)"
      ]
     },
     "execution_count": 136,
     "metadata": {},
     "output_type": "execute_result"
    }
   ],
   "source": [
    "padded_out[0]"
   ]
  },
  {
   "cell_type": "code",
   "execution_count": 137,
   "metadata": {},
   "outputs": [],
   "source": [
    "coded_out_target = coded_out.apply(lambda x: np.vstack((x[1:],np.zeros(19))))"
   ]
  },
  {
   "cell_type": "code",
   "execution_count": 147,
   "metadata": {},
   "outputs": [
    {
     "data": {
      "text/plain": [
       "(393, 11, 19)"
      ]
     },
     "execution_count": 147,
     "metadata": {},
     "output_type": "execute_result"
    }
   ],
   "source": [
    "padded_out.shape"
   ]
  },
  {
   "cell_type": "code",
   "execution_count": 138,
   "metadata": {},
   "outputs": [],
   "source": [
    "padded_out_target = pad_sequences(coded_out_target, value=np.zeros(19),padding=\"post\")"
   ]
  },
  {
   "cell_type": "code",
   "execution_count": 139,
   "metadata": {},
   "outputs": [
    {
     "data": {
      "text/plain": [
       "(423, 11, 19)"
      ]
     },
     "execution_count": 139,
     "metadata": {},
     "output_type": "execute_result"
    }
   ],
   "source": [
    "padded_out_target.shape"
   ]
  },
  {
   "cell_type": "code",
   "execution_count": 148,
   "metadata": {},
   "outputs": [],
   "source": [
    "#because of test split\n",
    "padded_out_target = padded_out_target[:-30]"
   ]
  },
  {
   "cell_type": "code",
   "execution_count": 141,
   "metadata": {},
   "outputs": [],
   "source": []
  },
  {
   "cell_type": "code",
   "execution_count": 142,
   "metadata": {},
   "outputs": [],
   "source": [
    "def mean_pred(y_true, y_pred):\n",
    "    print(K.shape(y_true))\n",
    "    return K.mean(y_pred[y_true == 1])"
   ]
  },
  {
   "cell_type": "code",
   "execution_count": 143,
   "metadata": {},
   "outputs": [],
   "source": [
    "def mean_pred(y_true, y_pred):\n",
    "    \n",
    "    return K.mean(y_pred[y_true == 1])"
   ]
  },
  {
   "cell_type": "code",
   "execution_count": 188,
   "metadata": {},
   "outputs": [
    {
     "name": "stdout",
     "output_type": "stream",
     "text": [
      "Train on 314 samples, validate on 79 samples\n",
      "Epoch 1/200\n",
      "314/314 [==============================] - 5s 16ms/step - loss: 0.6588 - fbeta_score: 0.0826 - recall: 0.2311 - precision: 0.0933 - val_loss: 0.2934 - val_fbeta_score: 0.0000e+00 - val_recall: 0.0000e+00 - val_precision: 0.0000e+00\n",
      "Epoch 2/200\n",
      "314/314 [==============================] - 0s 450us/step - loss: 0.2372 - fbeta_score: 0.0000e+00 - recall: 0.0000e+00 - precision: 0.0000e+00 - val_loss: 0.2016 - val_fbeta_score: 0.0000e+00 - val_recall: 0.0000e+00 - val_precision: 0.0000e+00\n",
      "Epoch 3/200\n",
      "314/314 [==============================] - 0s 513us/step - loss: 0.1884 - fbeta_score: 0.0000e+00 - recall: 0.0000e+00 - precision: 0.0000e+00 - val_loss: 0.1836 - val_fbeta_score: 0.0000e+00 - val_recall: 0.0000e+00 - val_precision: 0.0000e+00\n",
      "Epoch 4/200\n",
      "314/314 [==============================] - 0s 504us/step - loss: 0.1703 - fbeta_score: 0.0000e+00 - recall: 0.0000e+00 - precision: 0.0000e+00 - val_loss: 0.1824 - val_fbeta_score: 0.0000e+00 - val_recall: 0.0000e+00 - val_precision: 0.0000e+00\n",
      "Epoch 5/200\n",
      "314/314 [==============================] - 0s 444us/step - loss: 0.1665 - fbeta_score: 0.0000e+00 - recall: 0.0000e+00 - precision: 0.0000e+00 - val_loss: 0.1719 - val_fbeta_score: 0.0000e+00 - val_recall: 0.0000e+00 - val_precision: 0.0000e+00\n",
      "Epoch 6/200\n",
      "314/314 [==============================] - 0s 418us/step - loss: 0.1589 - fbeta_score: 0.0000e+00 - recall: 0.0000e+00 - precision: 0.0000e+00 - val_loss: 0.1660 - val_fbeta_score: 0.0000e+00 - val_recall: 0.0000e+00 - val_precision: 0.0000e+00\n",
      "Epoch 7/200\n",
      "314/314 [==============================] - 0s 411us/step - loss: 0.1544 - fbeta_score: 0.0000e+00 - recall: 0.0000e+00 - precision: 0.0000e+00 - val_loss: 0.1641 - val_fbeta_score: 0.0000e+00 - val_recall: 0.0000e+00 - val_precision: 0.0000e+00\n",
      "Epoch 8/200\n",
      "314/314 [==============================] - 0s 441us/step - loss: 0.1525 - fbeta_score: 0.0000e+00 - recall: 0.0000e+00 - precision: 0.0000e+00 - val_loss: 0.1607 - val_fbeta_score: 0.0233 - val_recall: 0.0120 - val_precision: 0.3667\n",
      "Epoch 9/200\n",
      "314/314 [==============================] - 0s 469us/step - loss: 0.1497 - fbeta_score: 0.0397 - recall: 0.0205 - precision: 0.6663 - val_loss: 0.1584 - val_fbeta_score: 0.0043 - val_recall: 0.0022 - val_precision: 0.5000\n",
      "Epoch 10/200\n",
      "314/314 [==============================] - 0s 464us/step - loss: 0.1472 - fbeta_score: 0.0057 - recall: 0.0029 - precision: 0.7912 - val_loss: 0.1560 - val_fbeta_score: 0.0213 - val_recall: 0.0109 - val_precision: 0.4167\n",
      "Epoch 11/200\n",
      "314/314 [==============================] - 0s 480us/step - loss: 0.1449 - fbeta_score: 0.0401 - recall: 0.0207 - precision: 0.6924 - val_loss: 0.1550 - val_fbeta_score: 0.0233 - val_recall: 0.0120 - val_precision: 0.3793\n",
      "Epoch 12/200\n",
      "314/314 [==============================] - 0s 384us/step - loss: 0.1434 - fbeta_score: 0.0411 - recall: 0.0212 - precision: 0.6944 - val_loss: 0.1537 - val_fbeta_score: 0.0598 - val_recall: 0.0317 - val_precision: 0.5370\n",
      "Epoch 13/200\n",
      "314/314 [==============================] - 0s 494us/step - loss: 0.1416 - fbeta_score: 0.0924 - recall: 0.0493 - precision: 0.7555 - val_loss: 0.1515 - val_fbeta_score: 0.0558 - val_recall: 0.0295 - val_precision: 0.5294\n",
      "Epoch 14/200\n",
      "314/314 [==============================] - 0s 475us/step - loss: 0.1394 - fbeta_score: 0.0773 - recall: 0.0408 - precision: 0.7414 - val_loss: 0.1489 - val_fbeta_score: 0.0472 - val_recall: 0.0251 - val_precision: 0.3898\n",
      "Epoch 15/200\n",
      "314/314 [==============================] - 0s 452us/step - loss: 0.1375 - fbeta_score: 0.0913 - recall: 0.0485 - precision: 0.7790 - val_loss: 0.1472 - val_fbeta_score: 0.0392 - val_recall: 0.0207 - val_precision: 0.3519\n",
      "Epoch 16/200\n",
      "314/314 [==============================] - 0s 449us/step - loss: 0.1360 - fbeta_score: 0.0873 - recall: 0.0463 - precision: 0.7640 - val_loss: 0.1452 - val_fbeta_score: 0.0509 - val_recall: 0.0273 - val_precision: 0.3788\n",
      "Epoch 17/200\n",
      "314/314 [==============================] - 0s 486us/step - loss: 0.1340 - fbeta_score: 0.1082 - recall: 0.0591 - precision: 0.7299 - val_loss: 0.1431 - val_fbeta_score: 0.1343 - val_recall: 0.0775 - val_precision: 0.5035\n",
      "Epoch 18/200\n",
      "314/314 [==============================] - 0s 511us/step - loss: 0.1320 - fbeta_score: 0.1366 - recall: 0.0759 - precision: 0.7321 - val_loss: 0.1403 - val_fbeta_score: 0.1375 - val_recall: 0.0797 - val_precision: 0.5000\n",
      "Epoch 19/200\n",
      "314/314 [==============================] - 0s 477us/step - loss: 0.1295 - fbeta_score: 0.2085 - recall: 0.1224 - precision: 0.7307 - val_loss: 0.1401 - val_fbeta_score: 0.1236 - val_recall: 0.0710 - val_precision: 0.4779\n",
      "Epoch 20/200\n",
      "314/314 [==============================] - 0s 484us/step - loss: 0.1283 - fbeta_score: 0.2350 - recall: 0.1436 - precision: 0.7103 - val_loss: 0.1390 - val_fbeta_score: 0.1219 - val_recall: 0.0699 - val_precision: 0.4776\n",
      "Epoch 21/200\n",
      "314/314 [==============================] - 0s 482us/step - loss: 0.1254 - fbeta_score: 0.2621 - recall: 0.1614 - precision: 0.7390 - val_loss: 0.1407 - val_fbeta_score: 0.1558 - val_recall: 0.0928 - val_precision: 0.4857\n",
      "Epoch 22/200\n",
      "314/314 [==============================] - 0s 409us/step - loss: 0.1240 - fbeta_score: 0.2998 - recall: 0.1892 - precision: 0.7353 - val_loss: 0.1364 - val_fbeta_score: 0.2397 - val_recall: 0.1550 - val_precision: 0.5279\n",
      "Epoch 23/200\n",
      "314/314 [==============================] - 0s 499us/step - loss: 0.1215 - fbeta_score: 0.3390 - recall: 0.2236 - precision: 0.7008 - val_loss: 0.1289 - val_fbeta_score: 0.3212 - val_recall: 0.2162 - val_precision: 0.6246\n",
      "Epoch 24/200\n",
      "314/314 [==============================] - 0s 471us/step - loss: 0.1198 - fbeta_score: 0.3785 - recall: 0.2576 - precision: 0.7135 - val_loss: 0.1290 - val_fbeta_score: 0.3446 - val_recall: 0.2347 - val_precision: 0.6476\n",
      "Epoch 25/200\n",
      "314/314 [==============================] - 0s 423us/step - loss: 0.1192 - fbeta_score: 0.3617 - recall: 0.2389 - precision: 0.7470 - val_loss: 0.1295 - val_fbeta_score: 0.3574 - val_recall: 0.2511 - val_precision: 0.6199\n",
      "Epoch 26/200\n",
      "314/314 [==============================] - 0s 554us/step - loss: 0.1157 - fbeta_score: 0.4253 - recall: 0.2991 - precision: 0.7361 - val_loss: 0.1345 - val_fbeta_score: 0.2236 - val_recall: 0.1386 - val_precision: 0.5773\n",
      "Epoch 27/200\n",
      "314/314 [==============================] - 0s 531us/step - loss: 0.1152 - fbeta_score: 0.3681 - recall: 0.2444 - precision: 0.7589 - val_loss: 0.1278 - val_fbeta_score: 0.3759 - val_recall: 0.2686 - val_precision: 0.6260\n",
      "Epoch 28/200\n",
      "314/314 [==============================] - 0s 445us/step - loss: 0.1131 - fbeta_score: 0.4280 - recall: 0.3049 - precision: 0.7194 - val_loss: 0.1246 - val_fbeta_score: 0.3399 - val_recall: 0.2271 - val_precision: 0.6753\n",
      "Epoch 29/200\n",
      "314/314 [==============================] - 0s 456us/step - loss: 0.1130 - fbeta_score: 0.4008 - recall: 0.2726 - precision: 0.7601 - val_loss: 0.1273 - val_fbeta_score: 0.3913 - val_recall: 0.2838 - val_precision: 0.6295\n",
      "Epoch 30/200\n",
      "314/314 [==============================] - 0s 491us/step - loss: 0.1111 - fbeta_score: 0.4578 - recall: 0.3338 - precision: 0.7305 - val_loss: 0.1286 - val_fbeta_score: 0.3165 - val_recall: 0.2118 - val_precision: 0.6258\n",
      "Epoch 31/200\n",
      "314/314 [==============================] - 0s 449us/step - loss: 0.1096 - fbeta_score: 0.4334 - recall: 0.3028 - precision: 0.7648 - val_loss: 0.1268 - val_fbeta_score: 0.3913 - val_recall: 0.2838 - val_precision: 0.6295\n",
      "Epoch 32/200\n",
      "314/314 [==============================] - 0s 471us/step - loss: 0.1083 - fbeta_score: 0.4638 - recall: 0.3407 - precision: 0.7270 - val_loss: 0.1221 - val_fbeta_score: 0.4121 - val_recall: 0.2969 - val_precision: 0.6733\n",
      "Epoch 33/200\n",
      "314/314 [==============================] - 0s 514us/step - loss: 0.1072 - fbeta_score: 0.4530 - recall: 0.3228 - precision: 0.7600 - val_loss: 0.1208 - val_fbeta_score: 0.4251 - val_recall: 0.3111 - val_precision: 0.6706\n",
      "Epoch 34/200\n",
      "314/314 [==============================] - 0s 484us/step - loss: 0.1059 - fbeta_score: 0.4775 - recall: 0.3479 - precision: 0.7608 - val_loss: 0.1253 - val_fbeta_score: 0.3905 - val_recall: 0.2795 - val_precision: 0.6481\n",
      "Epoch 35/200\n",
      "314/314 [==============================] - 0s 476us/step - loss: 0.1047 - fbeta_score: 0.4730 - recall: 0.3430 - precision: 0.7621 - val_loss: 0.1250 - val_fbeta_score: 0.4033 - val_recall: 0.2915 - val_precision: 0.6544\n",
      "Epoch 36/200\n",
      "314/314 [==============================] - 0s 449us/step - loss: 0.1039 - fbeta_score: 0.4778 - recall: 0.3495 - precision: 0.7552 - val_loss: 0.1202 - val_fbeta_score: 0.4374 - val_recall: 0.3242 - val_precision: 0.6719\n",
      "Epoch 37/200\n",
      "314/314 [==============================] - 0s 390us/step - loss: 0.1036 - fbeta_score: 0.4827 - recall: 0.3531 - precision: 0.7630 - val_loss: 0.1205 - val_fbeta_score: 0.4253 - val_recall: 0.3122 - val_precision: 0.6667\n",
      "Epoch 38/200\n",
      "314/314 [==============================] - 0s 443us/step - loss: 0.1021 - fbeta_score: 0.4979 - recall: 0.3702 - precision: 0.7600 - val_loss: 0.1258 - val_fbeta_score: 0.4000 - val_recall: 0.2904 - val_precision: 0.6425\n",
      "Epoch 39/200\n",
      "314/314 [==============================] - 0s 494us/step - loss: 0.1014 - fbeta_score: 0.4970 - recall: 0.3688 - precision: 0.7621 - val_loss: 0.1254 - val_fbeta_score: 0.4042 - val_recall: 0.2926 - val_precision: 0.6537\n",
      "Epoch 40/200\n",
      "314/314 [==============================] - 0s 437us/step - loss: 0.1007 - fbeta_score: 0.4915 - recall: 0.3622 - precision: 0.7649 - val_loss: 0.1217 - val_fbeta_score: 0.4290 - val_recall: 0.3166 - val_precision: 0.6651\n",
      "Epoch 41/200\n",
      "314/314 [==============================] - 0s 478us/step - loss: 0.0995 - fbeta_score: 0.5035 - recall: 0.3746 - precision: 0.7682 - val_loss: 0.1256 - val_fbeta_score: 0.4006 - val_recall: 0.2915 - val_precision: 0.6403\n",
      "Epoch 42/200\n",
      "314/314 [==============================] - 0s 437us/step - loss: 0.0993 - fbeta_score: 0.5163 - recall: 0.3885 - precision: 0.7694 - val_loss: 0.1240 - val_fbeta_score: 0.4030 - val_recall: 0.2926 - val_precision: 0.6473\n",
      "Epoch 43/200\n",
      "314/314 [==============================] - 0s 443us/step - loss: 0.0979 - fbeta_score: 0.5063 - recall: 0.3755 - precision: 0.7779 - val_loss: 0.1202 - val_fbeta_score: 0.4413 - val_recall: 0.3286 - val_precision: 0.6719\n",
      "Epoch 44/200\n",
      "314/314 [==============================] - 0s 456us/step - loss: 0.0970 - fbeta_score: 0.5137 - recall: 0.3834 - precision: 0.7781 - val_loss: 0.1261 - val_fbeta_score: 0.4054 - val_recall: 0.2959 - val_precision: 0.6437\n",
      "Epoch 45/200\n",
      "314/314 [==============================] - 0s 509us/step - loss: 0.0981 - fbeta_score: 0.5124 - recall: 0.3845 - precision: 0.7681 - val_loss: 0.1320 - val_fbeta_score: 0.3876 - val_recall: 0.2795 - val_precision: 0.6321\n",
      "Epoch 46/200\n",
      "314/314 [==============================] - 0s 412us/step - loss: 0.0968 - fbeta_score: 0.5170 - recall: 0.3877 - precision: 0.7763 - val_loss: 0.1252 - val_fbeta_score: 0.4124 - val_recall: 0.3046 - val_precision: 0.6384\n",
      "Epoch 47/200\n",
      "314/314 [==============================] - 0s 398us/step - loss: 0.0959 - fbeta_score: 0.5288 - recall: 0.4052 - precision: 0.7611 - val_loss: 0.1168 - val_fbeta_score: 0.4601 - val_recall: 0.3461 - val_precision: 0.6861\n",
      "Epoch 48/200\n",
      "314/314 [==============================] - 0s 453us/step - loss: 0.0951 - fbeta_score: 0.5271 - recall: 0.3996 - precision: 0.7742 - val_loss: 0.1144 - val_fbeta_score: 0.4615 - val_recall: 0.3472 - val_precision: 0.6883\n",
      "Epoch 49/200\n",
      "314/314 [==============================] - 0s 369us/step - loss: 0.0950 - fbeta_score: 0.5372 - recall: 0.4031 - precision: 0.8060 - val_loss: 0.1205 - val_fbeta_score: 0.4508 - val_recall: 0.3373 - val_precision: 0.6791\n",
      "Epoch 50/200\n",
      "314/314 [==============================] - 0s 450us/step - loss: 0.0933 - fbeta_score: 0.5521 - recall: 0.4256 - precision: 0.7857 - val_loss: 0.1237 - val_fbeta_score: 0.4427 - val_recall: 0.3330 - val_precision: 0.6602\n",
      "Epoch 51/200\n",
      "314/314 [==============================] - 0s 430us/step - loss: 0.0919 - fbeta_score: 0.5580 - recall: 0.4340 - precision: 0.7813 - val_loss: 0.1193 - val_fbeta_score: 0.4670 - val_recall: 0.3548 - val_precision: 0.6828\n",
      "Epoch 52/200\n",
      "314/314 [==============================] - 0s 480us/step - loss: 0.0908 - fbeta_score: 0.5666 - recall: 0.4392 - precision: 0.7983 - val_loss: 0.1186 - val_fbeta_score: 0.4723 - val_recall: 0.3581 - val_precision: 0.6934\n",
      "Epoch 53/200\n",
      "314/314 [==============================] - 0s 401us/step - loss: 0.0904 - fbeta_score: 0.5667 - recall: 0.4353 - precision: 0.8120 - val_loss: 0.1187 - val_fbeta_score: 0.4712 - val_recall: 0.3570 - val_precision: 0.6928\n",
      "Epoch 54/200\n",
      "314/314 [==============================] - 0s 453us/step - loss: 0.0893 - fbeta_score: 0.5767 - recall: 0.4468 - precision: 0.8134 - val_loss: 0.1275 - val_fbeta_score: 0.4372 - val_recall: 0.3231 - val_precision: 0.6758\n",
      "Epoch 55/200\n",
      "314/314 [==============================] - 0s 465us/step - loss: 0.0888 - fbeta_score: 0.5768 - recall: 0.4493 - precision: 0.8054 - val_loss: 0.1183 - val_fbeta_score: 0.4867 - val_recall: 0.3788 - val_precision: 0.6804\n",
      "Epoch 56/200\n",
      "314/314 [==============================] - 0s 469us/step - loss: 0.0880 - fbeta_score: 0.5844 - recall: 0.4589 - precision: 0.8053 - val_loss: 0.1188 - val_fbeta_score: 0.4806 - val_recall: 0.3646 - val_precision: 0.7046\n",
      "Epoch 57/200\n",
      "314/314 [==============================] - 0s 517us/step - loss: 0.0869 - fbeta_score: 0.5873 - recall: 0.4558 - precision: 0.8261 - val_loss: 0.1184 - val_fbeta_score: 0.4972 - val_recall: 0.3854 - val_precision: 0.7004\n",
      "Epoch 58/200\n",
      "314/314 [==============================] - 0s 435us/step - loss: 0.0856 - fbeta_score: 0.6007 - recall: 0.4741 - precision: 0.8198 - val_loss: 0.1202 - val_fbeta_score: 0.4897 - val_recall: 0.3766 - val_precision: 0.6998\n",
      "Epoch 59/200\n",
      "314/314 [==============================] - 0s 414us/step - loss: 0.0850 - fbeta_score: 0.5984 - recall: 0.4709 - precision: 0.8204 - val_loss: 0.1187 - val_fbeta_score: 0.4975 - val_recall: 0.3832 - val_precision: 0.7091\n",
      "Epoch 60/200\n",
      "314/314 [==============================] - 0s 466us/step - loss: 0.0840 - fbeta_score: 0.6099 - recall: 0.4812 - precision: 0.8331 - val_loss: 0.1207 - val_fbeta_score: 0.4989 - val_recall: 0.3854 - val_precision: 0.7074\n",
      "Epoch 61/200\n",
      "314/314 [==============================] - 0s 469us/step - loss: 0.0834 - fbeta_score: 0.6144 - recall: 0.4895 - precision: 0.8251 - val_loss: 0.1255 - val_fbeta_score: 0.4792 - val_recall: 0.3646 - val_precision: 0.6987\n",
      "Epoch 62/200\n",
      "314/314 [==============================] - 0s 418us/step - loss: 0.0825 - fbeta_score: 0.6180 - recall: 0.4916 - precision: 0.8322 - val_loss: 0.1218 - val_fbeta_score: 0.4860 - val_recall: 0.3701 - val_precision: 0.7077\n",
      "Epoch 63/200\n",
      "314/314 [==============================] - 0s 438us/step - loss: 0.0816 - fbeta_score: 0.6191 - recall: 0.4905 - precision: 0.8396 - val_loss: 0.1180 - val_fbeta_score: 0.5150 - val_recall: 0.4039 - val_precision: 0.7102\n",
      "Epoch 64/200\n",
      "314/314 [==============================] - 0s 492us/step - loss: 0.0806 - fbeta_score: 0.6303 - recall: 0.5066 - precision: 0.8343 - val_loss: 0.1194 - val_fbeta_score: 0.5059 - val_recall: 0.3952 - val_precision: 0.7029\n",
      "Epoch 65/200\n",
      "314/314 [==============================] - 0s 472us/step - loss: 0.0798 - fbeta_score: 0.6368 - recall: 0.5128 - precision: 0.8407 - val_loss: 0.1170 - val_fbeta_score: 0.5242 - val_recall: 0.4138 - val_precision: 0.7151\n",
      "Epoch 66/200\n",
      "314/314 [==============================] - 0s 460us/step - loss: 0.0790 - fbeta_score: 0.6390 - recall: 0.5165 - precision: 0.8378 - val_loss: 0.1175 - val_fbeta_score: 0.5159 - val_recall: 0.4072 - val_precision: 0.7038\n",
      "Epoch 67/200\n",
      "314/314 [==============================] - 0s 422us/step - loss: 0.0783 - fbeta_score: 0.6527 - recall: 0.5335 - precision: 0.8409 - val_loss: 0.1170 - val_fbeta_score: 0.5234 - val_recall: 0.4083 - val_precision: 0.7290\n",
      "Epoch 68/200\n",
      "314/314 [==============================] - 0s 493us/step - loss: 0.0772 - fbeta_score: 0.6475 - recall: 0.5225 - precision: 0.8514 - val_loss: 0.1181 - val_fbeta_score: 0.5298 - val_recall: 0.4269 - val_precision: 0.6982\n",
      "Epoch 69/200\n",
      "314/314 [==============================] - 0s 456us/step - loss: 0.0767 - fbeta_score: 0.6529 - recall: 0.5332 - precision: 0.8422 - val_loss: 0.1182 - val_fbeta_score: 0.5185 - val_recall: 0.4061 - val_precision: 0.7168\n",
      "Epoch 70/200\n"
     ]
    },
    {
     "name": "stdout",
     "output_type": "stream",
     "text": [
      "314/314 [==============================] - 0s 418us/step - loss: 0.0755 - fbeta_score: 0.6683 - recall: 0.5545 - precision: 0.8425 - val_loss: 0.1210 - val_fbeta_score: 0.5159 - val_recall: 0.3996 - val_precision: 0.7276\n",
      "Epoch 71/200\n",
      "314/314 [==============================] - 0s 498us/step - loss: 0.0747 - fbeta_score: 0.6580 - recall: 0.5337 - precision: 0.8578 - val_loss: 0.1189 - val_fbeta_score: 0.5251 - val_recall: 0.4170 - val_precision: 0.7087\n",
      "Epoch 72/200\n",
      "314/314 [==============================] - 0s 463us/step - loss: 0.0740 - fbeta_score: 0.6754 - recall: 0.5636 - precision: 0.8429 - val_loss: 0.1331 - val_fbeta_score: 0.4610 - val_recall: 0.3450 - val_precision: 0.6945\n",
      "Epoch 73/200\n",
      "314/314 [==============================] - 0s 468us/step - loss: 0.0759 - fbeta_score: 0.6571 - recall: 0.5371 - precision: 0.8468 - val_loss: 0.1262 - val_fbeta_score: 0.4926 - val_recall: 0.3821 - val_precision: 0.6931\n",
      "Epoch 74/200\n",
      "314/314 [==============================] - 0s 474us/step - loss: 0.0746 - fbeta_score: 0.6670 - recall: 0.5554 - precision: 0.8349 - val_loss: 0.1161 - val_fbeta_score: 0.5352 - val_recall: 0.4312 - val_precision: 0.7054\n",
      "Epoch 75/200\n",
      "314/314 [==============================] - 0s 477us/step - loss: 0.0735 - fbeta_score: 0.6672 - recall: 0.5541 - precision: 0.8385 - val_loss: 0.1135 - val_fbeta_score: 0.5430 - val_recall: 0.4312 - val_precision: 0.7328\n",
      "Epoch 76/200\n",
      "314/314 [==============================] - 0s 501us/step - loss: 0.0725 - fbeta_score: 0.6828 - recall: 0.5723 - precision: 0.8460 - val_loss: 0.1187 - val_fbeta_score: 0.5436 - val_recall: 0.4389 - val_precision: 0.7140\n",
      "Epoch 77/200\n",
      "314/314 [==============================] - 0s 426us/step - loss: 0.0712 - fbeta_score: 0.6838 - recall: 0.5707 - precision: 0.8536 - val_loss: 0.1200 - val_fbeta_score: 0.5210 - val_recall: 0.4061 - val_precision: 0.7266\n",
      "Epoch 78/200\n",
      "314/314 [==============================] - 0s 418us/step - loss: 0.0707 - fbeta_score: 0.6891 - recall: 0.5798 - precision: 0.8509 - val_loss: 0.1145 - val_fbeta_score: 0.5714 - val_recall: 0.4760 - val_precision: 0.7148\n",
      "Epoch 79/200\n",
      "314/314 [==============================] - 0s 479us/step - loss: 0.0698 - fbeta_score: 0.7014 - recall: 0.5966 - precision: 0.8529 - val_loss: 0.1219 - val_fbeta_score: 0.5200 - val_recall: 0.4039 - val_precision: 0.7298\n",
      "Epoch 80/200\n",
      "314/314 [==============================] - 0s 397us/step - loss: 0.0687 - fbeta_score: 0.6966 - recall: 0.5844 - precision: 0.8622 - val_loss: 0.1129 - val_fbeta_score: 0.5537 - val_recall: 0.4421 - val_precision: 0.7404\n",
      "Epoch 81/200\n",
      "314/314 [==============================] - 0s 472us/step - loss: 0.0679 - fbeta_score: 0.7051 - recall: 0.5925 - precision: 0.8712 - val_loss: 0.1157 - val_fbeta_score: 0.5404 - val_recall: 0.4269 - val_precision: 0.7363\n",
      "Epoch 82/200\n",
      "314/314 [==============================] - 0s 496us/step - loss: 0.0670 - fbeta_score: 0.7089 - recall: 0.5970 - precision: 0.8724 - val_loss: 0.1199 - val_fbeta_score: 0.5623 - val_recall: 0.4629 - val_precision: 0.7162\n",
      "Epoch 83/200\n",
      "314/314 [==============================] - 0s 461us/step - loss: 0.0667 - fbeta_score: 0.7170 - recall: 0.6210 - precision: 0.8482 - val_loss: 0.1192 - val_fbeta_score: 0.5462 - val_recall: 0.4323 - val_precision: 0.7416\n",
      "Epoch 84/200\n",
      "314/314 [==============================] - 0s 428us/step - loss: 0.0655 - fbeta_score: 0.7144 - recall: 0.6108 - precision: 0.8611 - val_loss: 0.1125 - val_fbeta_score: 0.5562 - val_recall: 0.4487 - val_precision: 0.7313\n",
      "Epoch 85/200\n",
      "314/314 [==============================] - 0s 524us/step - loss: 0.0646 - fbeta_score: 0.7206 - recall: 0.6121 - precision: 0.8760 - val_loss: 0.1184 - val_fbeta_score: 0.5649 - val_recall: 0.4563 - val_precision: 0.7411\n",
      "Epoch 86/200\n",
      "314/314 [==============================] - 0s 485us/step - loss: 0.0640 - fbeta_score: 0.7208 - recall: 0.6155 - precision: 0.8698 - val_loss: 0.1104 - val_fbeta_score: 0.5797 - val_recall: 0.4782 - val_precision: 0.7361\n",
      "Epoch 87/200\n",
      "314/314 [==============================] - 0s 478us/step - loss: 0.0641 - fbeta_score: 0.7231 - recall: 0.6216 - precision: 0.8647 - val_loss: 0.1145 - val_fbeta_score: 0.5846 - val_recall: 0.4793 - val_precision: 0.7491\n",
      "Epoch 88/200\n",
      "314/314 [==============================] - 0s 374us/step - loss: 0.0625 - fbeta_score: 0.7366 - recall: 0.6431 - precision: 0.8621 - val_loss: 0.1166 - val_fbeta_score: 0.5670 - val_recall: 0.4618 - val_precision: 0.7344\n",
      "Epoch 89/200\n",
      "314/314 [==============================] - 0s 475us/step - loss: 0.0619 - fbeta_score: 0.7370 - recall: 0.6399 - precision: 0.8691 - val_loss: 0.1168 - val_fbeta_score: 0.5656 - val_recall: 0.4563 - val_precision: 0.7438\n",
      "Epoch 90/200\n",
      "314/314 [==============================] - 0s 469us/step - loss: 0.0606 - fbeta_score: 0.7375 - recall: 0.6351 - precision: 0.8793 - val_loss: 0.1122 - val_fbeta_score: 0.5943 - val_recall: 0.4902 - val_precision: 0.7546\n",
      "Epoch 91/200\n",
      "314/314 [==============================] - 0s 422us/step - loss: 0.0601 - fbeta_score: 0.7509 - recall: 0.6575 - precision: 0.8751 - val_loss: 0.1154 - val_fbeta_score: 0.5712 - val_recall: 0.4640 - val_precision: 0.7430\n",
      "Epoch 92/200\n",
      "314/314 [==============================] - 0s 380us/step - loss: 0.0596 - fbeta_score: 0.7428 - recall: 0.6427 - precision: 0.8805 - val_loss: 0.1156 - val_fbeta_score: 0.5838 - val_recall: 0.4793 - val_precision: 0.7466\n",
      "Epoch 93/200\n",
      "314/314 [==============================] - 0s 439us/step - loss: 0.0590 - fbeta_score: 0.7545 - recall: 0.6670 - precision: 0.8687 - val_loss: 0.1190 - val_fbeta_score: 0.5775 - val_recall: 0.4738 - val_precision: 0.7394\n",
      "Epoch 94/200\n",
      "314/314 [==============================] - 0s 532us/step - loss: 0.0587 - fbeta_score: 0.7510 - recall: 0.6567 - precision: 0.8773 - val_loss: 0.1128 - val_fbeta_score: 0.5874 - val_recall: 0.4749 - val_precision: 0.7699\n",
      "Epoch 95/200\n",
      "314/314 [==============================] - 0s 478us/step - loss: 0.0582 - fbeta_score: 0.7565 - recall: 0.6654 - precision: 0.8767 - val_loss: 0.1101 - val_fbeta_score: 0.6051 - val_recall: 0.5076 - val_precision: 0.7488\n",
      "Epoch 96/200\n",
      "314/314 [==============================] - 0s 459us/step - loss: 0.0578 - fbeta_score: 0.7634 - recall: 0.6749 - precision: 0.8788 - val_loss: 0.1209 - val_fbeta_score: 0.5655 - val_recall: 0.4498 - val_precision: 0.7616\n",
      "Epoch 97/200\n",
      "314/314 [==============================] - 0s 426us/step - loss: 0.0569 - fbeta_score: 0.7576 - recall: 0.6664 - precision: 0.8777 - val_loss: 0.1121 - val_fbeta_score: 0.6109 - val_recall: 0.5142 - val_precision: 0.7524\n",
      "Epoch 98/200\n",
      "314/314 [==============================] - 0s 462us/step - loss: 0.0560 - fbeta_score: 0.7779 - recall: 0.6962 - precision: 0.8816 - val_loss: 0.1168 - val_fbeta_score: 0.5922 - val_recall: 0.4891 - val_precision: 0.7504\n",
      "Epoch 99/200\n",
      "314/314 [==============================] - 0s 417us/step - loss: 0.0557 - fbeta_score: 0.7672 - recall: 0.6772 - precision: 0.8854 - val_loss: 0.1144 - val_fbeta_score: 0.5980 - val_recall: 0.4945 - val_precision: 0.7563\n",
      "Epoch 100/200\n",
      "314/314 [==============================] - 0s 447us/step - loss: 0.0548 - fbeta_score: 0.7751 - recall: 0.6898 - precision: 0.8847 - val_loss: 0.1177 - val_fbeta_score: 0.5993 - val_recall: 0.4956 - val_precision: 0.7579\n",
      "Epoch 101/200\n",
      "314/314 [==============================] - 0s 458us/step - loss: 0.0538 - fbeta_score: 0.7851 - recall: 0.7102 - precision: 0.8778 - val_loss: 0.1106 - val_fbeta_score: 0.5919 - val_recall: 0.4836 - val_precision: 0.7625\n",
      "Epoch 102/200\n",
      "314/314 [==============================] - 0s 403us/step - loss: 0.0541 - fbeta_score: 0.7735 - recall: 0.6835 - precision: 0.8915 - val_loss: 0.1131 - val_fbeta_score: 0.6244 - val_recall: 0.5273 - val_precision: 0.7655\n",
      "Epoch 103/200\n",
      "314/314 [==============================] - 0s 390us/step - loss: 0.0527 - fbeta_score: 0.7943 - recall: 0.7213 - precision: 0.8839 - val_loss: 0.1179 - val_fbeta_score: 0.6054 - val_recall: 0.5000 - val_precision: 0.7672\n",
      "Epoch 104/200\n",
      "314/314 [==============================] - 0s 360us/step - loss: 0.0523 - fbeta_score: 0.7830 - recall: 0.6957 - precision: 0.8954 - val_loss: 0.1120 - val_fbeta_score: 0.6214 - val_recall: 0.5295 - val_precision: 0.7519\n",
      "Epoch 105/200\n"
     ]
    },
    {
     "name": "stdout",
     "output_type": "stream",
     "text": [
      "314/314 [==============================] - 0s 367us/step - loss: 0.0513 - fbeta_score: 0.8019 - recall: 0.7298 - precision: 0.8902 - val_loss: 0.1132 - val_fbeta_score: 0.6251 - val_recall: 0.5251 - val_precision: 0.7721\n",
      "Epoch 106/200\n",
      "314/314 [==============================] - 0s 337us/step - loss: 0.0507 - fbeta_score: 0.8015 - recall: 0.7227 - precision: 0.8997 - val_loss: 0.1152 - val_fbeta_score: 0.6028 - val_recall: 0.4978 - val_precision: 0.7638\n",
      "Epoch 107/200\n",
      "314/314 [==============================] - 0s 545us/step - loss: 0.0505 - fbeta_score: 0.7988 - recall: 0.7223 - precision: 0.8937 - val_loss: 0.1163 - val_fbeta_score: 0.6074 - val_recall: 0.5033 - val_precision: 0.7658\n",
      "Epoch 108/200\n",
      "314/314 [==============================] - 0s 511us/step - loss: 0.0500 - fbeta_score: 0.8017 - recall: 0.7243 - precision: 0.8978 - val_loss: 0.1114 - val_fbeta_score: 0.6266 - val_recall: 0.5240 - val_precision: 0.7792\n",
      "Epoch 109/200\n",
      "314/314 [==============================] - 0s 477us/step - loss: 0.0493 - fbeta_score: 0.8072 - recall: 0.7315 - precision: 0.9007 - val_loss: 0.1164 - val_fbeta_score: 0.6261 - val_recall: 0.5284 - val_precision: 0.7683\n",
      "Epoch 110/200\n",
      "314/314 [==============================] - 0s 543us/step - loss: 0.0482 - fbeta_score: 0.8101 - recall: 0.7318 - precision: 0.9073 - val_loss: 0.1130 - val_fbeta_score: 0.6407 - val_recall: 0.5480 - val_precision: 0.7711\n",
      "Epoch 111/200\n",
      "314/314 [==============================] - 0s 445us/step - loss: 0.0477 - fbeta_score: 0.8198 - recall: 0.7501 - precision: 0.9039 - val_loss: 0.1147 - val_fbeta_score: 0.6312 - val_recall: 0.5306 - val_precision: 0.7788\n",
      "Epoch 112/200\n",
      "314/314 [==============================] - 0s 431us/step - loss: 0.0470 - fbeta_score: 0.8209 - recall: 0.7464 - precision: 0.9123 - val_loss: 0.1132 - val_fbeta_score: 0.6320 - val_recall: 0.5371 - val_precision: 0.7676\n",
      "Epoch 113/200\n",
      "314/314 [==============================] - 0s 392us/step - loss: 0.0468 - fbeta_score: 0.8248 - recall: 0.7578 - precision: 0.9049 - val_loss: 0.1155 - val_fbeta_score: 0.6163 - val_recall: 0.5120 - val_precision: 0.7739\n",
      "Epoch 114/200\n",
      "314/314 [==============================] - 0s 486us/step - loss: 0.0465 - fbeta_score: 0.8195 - recall: 0.7434 - precision: 0.9131 - val_loss: 0.1126 - val_fbeta_score: 0.6453 - val_recall: 0.5491 - val_precision: 0.7823\n",
      "Epoch 115/200\n",
      "314/314 [==============================] - 0s 418us/step - loss: 0.0461 - fbeta_score: 0.8237 - recall: 0.7480 - precision: 0.9165 - val_loss: 0.1144 - val_fbeta_score: 0.6415 - val_recall: 0.5568 - val_precision: 0.7567\n",
      "Epoch 116/200\n",
      "314/314 [==============================] - 0s 437us/step - loss: 0.0457 - fbeta_score: 0.8296 - recall: 0.7673 - precision: 0.9033 - val_loss: 0.1146 - val_fbeta_score: 0.6366 - val_recall: 0.5393 - val_precision: 0.7767\n",
      "Epoch 117/200\n",
      "314/314 [==============================] - 0s 432us/step - loss: 0.0450 - fbeta_score: 0.8330 - recall: 0.7682 - precision: 0.9098 - val_loss: 0.1149 - val_fbeta_score: 0.6288 - val_recall: 0.5317 - val_precision: 0.7694\n",
      "Epoch 118/200\n",
      "314/314 [==============================] - 0s 479us/step - loss: 0.0441 - fbeta_score: 0.8362 - recall: 0.7659 - precision: 0.9208 - val_loss: 0.1144 - val_fbeta_score: 0.6432 - val_recall: 0.5491 - val_precision: 0.7762\n",
      "Epoch 119/200\n",
      "314/314 [==============================] - 0s 457us/step - loss: 0.0435 - fbeta_score: 0.8430 - recall: 0.7810 - precision: 0.9158 - val_loss: 0.1149 - val_fbeta_score: 0.6431 - val_recall: 0.5459 - val_precision: 0.7825\n",
      "Epoch 120/200\n",
      "314/314 [==============================] - 0s 493us/step - loss: 0.0428 - fbeta_score: 0.8434 - recall: 0.7754 - precision: 0.9247 - val_loss: 0.1147 - val_fbeta_score: 0.6477 - val_recall: 0.5579 - val_precision: 0.7719\n",
      "Epoch 121/200\n",
      "314/314 [==============================] - 0s 422us/step - loss: 0.0423 - fbeta_score: 0.8525 - recall: 0.7934 - precision: 0.9211 - val_loss: 0.1129 - val_fbeta_score: 0.6418 - val_recall: 0.5448 - val_precision: 0.7809\n",
      "Epoch 122/200\n",
      "314/314 [==============================] - 0s 460us/step - loss: 0.0421 - fbeta_score: 0.8453 - recall: 0.7797 - precision: 0.9231 - val_loss: 0.1137 - val_fbeta_score: 0.6554 - val_recall: 0.5710 - val_precision: 0.7691\n",
      "Epoch 123/200\n",
      "314/314 [==============================] - 0s 452us/step - loss: 0.0416 - fbeta_score: 0.8582 - recall: 0.8037 - precision: 0.9207 - val_loss: 0.1194 - val_fbeta_score: 0.6327 - val_recall: 0.5284 - val_precision: 0.7883\n",
      "Epoch 124/200\n",
      "314/314 [==============================] - 0s 405us/step - loss: 0.0414 - fbeta_score: 0.8482 - recall: 0.7812 - precision: 0.9278 - val_loss: 0.1118 - val_fbeta_score: 0.6529 - val_recall: 0.5677 - val_precision: 0.7681\n",
      "Epoch 125/200\n",
      "314/314 [==============================] - 0s 388us/step - loss: 0.0408 - fbeta_score: 0.8560 - recall: 0.8012 - precision: 0.9191 - val_loss: 0.1157 - val_fbeta_score: 0.6381 - val_recall: 0.5360 - val_precision: 0.7881\n",
      "Epoch 126/200\n",
      "314/314 [==============================] - 0s 447us/step - loss: 0.0409 - fbeta_score: 0.8479 - recall: 0.7834 - precision: 0.9243 - val_loss: 0.1174 - val_fbeta_score: 0.6477 - val_recall: 0.5579 - val_precision: 0.7719\n",
      "Epoch 127/200\n",
      "314/314 [==============================] - 0s 469us/step - loss: 0.0404 - fbeta_score: 0.8594 - recall: 0.8074 - precision: 0.9186 - val_loss: 0.1162 - val_fbeta_score: 0.6662 - val_recall: 0.5797 - val_precision: 0.7832\n",
      "Epoch 128/200\n",
      "314/314 [==============================] - 0s 386us/step - loss: 0.0399 - fbeta_score: 0.8595 - recall: 0.8037 - precision: 0.9237 - val_loss: 0.1132 - val_fbeta_score: 0.6608 - val_recall: 0.5710 - val_precision: 0.7841\n",
      "Epoch 129/200\n",
      "314/314 [==============================] - 0s 402us/step - loss: 0.0388 - fbeta_score: 0.8676 - recall: 0.8161 - precision: 0.9260 - val_loss: 0.1163 - val_fbeta_score: 0.6544 - val_recall: 0.5633 - val_precision: 0.7806\n",
      "Epoch 130/200\n",
      "314/314 [==============================] - 0s 412us/step - loss: 0.0383 - fbeta_score: 0.8704 - recall: 0.8167 - precision: 0.9319 - val_loss: 0.1195 - val_fbeta_score: 0.6412 - val_recall: 0.5415 - val_precision: 0.7861\n",
      "Epoch 131/200\n",
      "314/314 [==============================] - 0s 374us/step - loss: 0.0383 - fbeta_score: 0.8693 - recall: 0.8148 - precision: 0.9317 - val_loss: 0.1110 - val_fbeta_score: 0.6683 - val_recall: 0.5852 - val_precision: 0.7791\n",
      "Epoch 132/200\n",
      "314/314 [==============================] - 0s 377us/step - loss: 0.0374 - fbeta_score: 0.8782 - recall: 0.8288 - precision: 0.9340 - val_loss: 0.1190 - val_fbeta_score: 0.6641 - val_recall: 0.5731 - val_precision: 0.7895\n",
      "Epoch 133/200\n",
      "314/314 [==============================] - 0s 444us/step - loss: 0.0372 - fbeta_score: 0.8732 - recall: 0.8189 - precision: 0.9352 - val_loss: 0.1155 - val_fbeta_score: 0.6696 - val_recall: 0.5841 - val_precision: 0.7845\n",
      "Epoch 134/200\n",
      "314/314 [==============================] - 0s 434us/step - loss: 0.0368 - fbeta_score: 0.8751 - recall: 0.8248 - precision: 0.9322 - val_loss: 0.1129 - val_fbeta_score: 0.6662 - val_recall: 0.5808 - val_precision: 0.7812\n",
      "Epoch 135/200\n",
      "314/314 [==============================] - 0s 552us/step - loss: 0.0365 - fbeta_score: 0.8799 - recall: 0.8329 - precision: 0.9326 - val_loss: 0.1188 - val_fbeta_score: 0.6578 - val_recall: 0.5699 - val_precision: 0.7779\n",
      "Epoch 136/200\n",
      "314/314 [==============================] - 0s 478us/step - loss: 0.0362 - fbeta_score: 0.8775 - recall: 0.8252 - precision: 0.9368 - val_loss: 0.1146 - val_fbeta_score: 0.6787 - val_recall: 0.5961 - val_precision: 0.7879\n",
      "Epoch 137/200\n",
      "314/314 [==============================] - 0s 453us/step - loss: 0.0358 - fbeta_score: 0.8812 - recall: 0.8363 - precision: 0.9313 - val_loss: 0.1155 - val_fbeta_score: 0.6725 - val_recall: 0.5852 - val_precision: 0.7906\n",
      "Epoch 138/200\n",
      "314/314 [==============================] - 0s 557us/step - loss: 0.0350 - fbeta_score: 0.8839 - recall: 0.8380 - precision: 0.9350 - val_loss: 0.1187 - val_fbeta_score: 0.6590 - val_recall: 0.5644 - val_precision: 0.7917\n",
      "Epoch 139/200\n",
      "314/314 [==============================] - 0s 413us/step - loss: 0.0349 - fbeta_score: 0.8816 - recall: 0.8281 - precision: 0.9426 - val_loss: 0.1139 - val_fbeta_score: 0.6704 - val_recall: 0.5862 - val_precision: 0.7828\n"
     ]
    },
    {
     "name": "stdout",
     "output_type": "stream",
     "text": [
      "Epoch 140/200\n",
      "314/314 [==============================] - 0s 430us/step - loss: 0.0343 - fbeta_score: 0.8888 - recall: 0.8408 - precision: 0.9427 - val_loss: 0.1169 - val_fbeta_score: 0.6696 - val_recall: 0.5841 - val_precision: 0.7845\n",
      "Epoch 141/200\n",
      "314/314 [==============================] - 0s 515us/step - loss: 0.0338 - fbeta_score: 0.8905 - recall: 0.8447 - precision: 0.9415 - val_loss: 0.1175 - val_fbeta_score: 0.6675 - val_recall: 0.5808 - val_precision: 0.7847\n",
      "Epoch 142/200\n",
      "314/314 [==============================] - 0s 464us/step - loss: 0.0334 - fbeta_score: 0.8923 - recall: 0.8475 - precision: 0.9423 - val_loss: 0.1162 - val_fbeta_score: 0.6742 - val_recall: 0.5884 - val_precision: 0.7892\n",
      "Epoch 143/200\n",
      "314/314 [==============================] - 0s 484us/step - loss: 0.0329 - fbeta_score: 0.8950 - recall: 0.8513 - precision: 0.9435 - val_loss: 0.1184 - val_fbeta_score: 0.6675 - val_recall: 0.5819 - val_precision: 0.7827\n",
      "Epoch 144/200\n",
      "314/314 [==============================] - 0s 438us/step - loss: 0.0324 - fbeta_score: 0.8966 - recall: 0.8535 - precision: 0.9444 - val_loss: 0.1146 - val_fbeta_score: 0.6779 - val_recall: 0.5928 - val_precision: 0.7915\n",
      "Epoch 145/200\n",
      "314/314 [==============================] - 0s 503us/step - loss: 0.0323 - fbeta_score: 0.9010 - recall: 0.8617 - precision: 0.9443 - val_loss: 0.1166 - val_fbeta_score: 0.6827 - val_recall: 0.6037 - val_precision: 0.7855\n",
      "Epoch 146/200\n",
      "314/314 [==============================] - 0s 397us/step - loss: 0.0318 - fbeta_score: 0.9001 - recall: 0.8546 - precision: 0.9507 - val_loss: 0.1179 - val_fbeta_score: 0.6780 - val_recall: 0.5895 - val_precision: 0.7976\n",
      "Epoch 147/200\n",
      "314/314 [==============================] - 0s 368us/step - loss: 0.0314 - fbeta_score: 0.9030 - recall: 0.8638 - precision: 0.9462 - val_loss: 0.1162 - val_fbeta_score: 0.6820 - val_recall: 0.5983 - val_precision: 0.7931\n",
      "Epoch 148/200\n",
      "314/314 [==============================] - 0s 517us/step - loss: 0.0310 - fbeta_score: 0.9043 - recall: 0.8623 - precision: 0.9506 - val_loss: 0.1163 - val_fbeta_score: 0.6829 - val_recall: 0.5983 - val_precision: 0.7954\n",
      "Epoch 149/200\n",
      "314/314 [==============================] - 0s 419us/step - loss: 0.0307 - fbeta_score: 0.9074 - recall: 0.8716 - precision: 0.9464 - val_loss: 0.1174 - val_fbeta_score: 0.6861 - val_recall: 0.6026 - val_precision: 0.7965\n",
      "Epoch 150/200\n",
      "314/314 [==============================] - 0s 394us/step - loss: 0.0302 - fbeta_score: 0.9083 - recall: 0.8679 - precision: 0.9526 - val_loss: 0.1170 - val_fbeta_score: 0.6812 - val_recall: 0.5961 - val_precision: 0.7948\n",
      "Epoch 151/200\n",
      "314/314 [==============================] - 0s 409us/step - loss: 0.0300 - fbeta_score: 0.9089 - recall: 0.8679 - precision: 0.9540 - val_loss: 0.1159 - val_fbeta_score: 0.6725 - val_recall: 0.5852 - val_precision: 0.7906\n",
      "Epoch 152/200\n",
      "314/314 [==============================] - 0s 363us/step - loss: 0.0303 - fbeta_score: 0.9077 - recall: 0.8731 - precision: 0.9452 - val_loss: 0.1184 - val_fbeta_score: 0.6759 - val_recall: 0.5873 - val_precision: 0.7959\n",
      "Epoch 153/200\n",
      "314/314 [==============================] - 0s 383us/step - loss: 0.0298 - fbeta_score: 0.9086 - recall: 0.8647 - precision: 0.9571 - val_loss: 0.1202 - val_fbeta_score: 0.6759 - val_recall: 0.5852 - val_precision: 0.8000\n",
      "Epoch 154/200\n",
      "314/314 [==============================] - 0s 438us/step - loss: 0.0294 - fbeta_score: 0.9112 - recall: 0.8741 - precision: 0.9515 - val_loss: 0.1131 - val_fbeta_score: 0.6798 - val_recall: 0.6048 - val_precision: 0.7759\n",
      "Epoch 155/200\n",
      "314/314 [==============================] - 0s 528us/step - loss: 0.0291 - fbeta_score: 0.9129 - recall: 0.8789 - precision: 0.9497 - val_loss: 0.1222 - val_fbeta_score: 0.6679 - val_recall: 0.5786 - val_precision: 0.7899\n",
      "Epoch 156/200\n",
      "314/314 [==============================] - 0s 471us/step - loss: 0.0289 - fbeta_score: 0.9117 - recall: 0.8710 - precision: 0.9565 - val_loss: 0.1191 - val_fbeta_score: 0.6963 - val_recall: 0.6234 - val_precision: 0.7887\n",
      "Epoch 157/200\n",
      "314/314 [==============================] - 0s 513us/step - loss: 0.0284 - fbeta_score: 0.9146 - recall: 0.8811 - precision: 0.9507 - val_loss: 0.1178 - val_fbeta_score: 0.6854 - val_recall: 0.5993 - val_precision: 0.8003\n",
      "Epoch 158/200\n",
      "314/314 [==============================] - 0s 410us/step - loss: 0.0282 - fbeta_score: 0.9161 - recall: 0.8802 - precision: 0.9552 - val_loss: 0.1203 - val_fbeta_score: 0.6755 - val_recall: 0.5862 - val_precision: 0.7967\n",
      "Epoch 159/200\n",
      "314/314 [==============================] - 0s 404us/step - loss: 0.0281 - fbeta_score: 0.9155 - recall: 0.8804 - precision: 0.9537 - val_loss: 0.1153 - val_fbeta_score: 0.6843 - val_recall: 0.6070 - val_precision: 0.7842\n",
      "Epoch 160/200\n",
      "314/314 [==============================] - 0s 423us/step - loss: 0.0276 - fbeta_score: 0.9187 - recall: 0.8854 - precision: 0.9547 - val_loss: 0.1213 - val_fbeta_score: 0.6976 - val_recall: 0.6245 - val_precision: 0.7901\n",
      "Epoch 161/200\n",
      "314/314 [==============================] - 0s 519us/step - loss: 0.0273 - fbeta_score: 0.9220 - recall: 0.8871 - precision: 0.9596 - val_loss: 0.1215 - val_fbeta_score: 0.6876 - val_recall: 0.6092 - val_precision: 0.7893\n",
      "Epoch 162/200\n",
      "314/314 [==============================] - 0s 393us/step - loss: 0.0271 - fbeta_score: 0.9199 - recall: 0.8876 - precision: 0.9549 - val_loss: 0.1172 - val_fbeta_score: 0.6845 - val_recall: 0.6004 - val_precision: 0.7959\n",
      "Epoch 163/200\n",
      "314/314 [==============================] - 0s 491us/step - loss: 0.0264 - fbeta_score: 0.9237 - recall: 0.8889 - precision: 0.9613 - val_loss: 0.1219 - val_fbeta_score: 0.6948 - val_recall: 0.6114 - val_precision: 0.8046\n",
      "Epoch 164/200\n",
      "314/314 [==============================] - 0s 407us/step - loss: 0.0263 - fbeta_score: 0.9243 - recall: 0.8916 - precision: 0.9596 - val_loss: 0.1206 - val_fbeta_score: 0.6944 - val_recall: 0.6103 - val_precision: 0.8055\n",
      "Epoch 165/200\n",
      "314/314 [==============================] - 0s 544us/step - loss: 0.0260 - fbeta_score: 0.9263 - recall: 0.8914 - precision: 0.9640 - val_loss: 0.1205 - val_fbeta_score: 0.6889 - val_recall: 0.6081 - val_precision: 0.7946\n",
      "Epoch 166/200\n",
      "314/314 [==============================] - 0s 506us/step - loss: 0.0256 - fbeta_score: 0.9309 - recall: 0.9019 - precision: 0.9619 - val_loss: 0.1198 - val_fbeta_score: 0.6860 - val_recall: 0.6059 - val_precision: 0.7906\n",
      "Epoch 167/200\n",
      "314/314 [==============================] - 0s 439us/step - loss: 0.0251 - fbeta_score: 0.9323 - recall: 0.9032 - precision: 0.9633 - val_loss: 0.1190 - val_fbeta_score: 0.6972 - val_recall: 0.6146 - val_precision: 0.8054\n",
      "Epoch 168/200\n",
      "314/314 [==============================] - 0s 425us/step - loss: 0.0248 - fbeta_score: 0.9329 - recall: 0.9019 - precision: 0.9662 - val_loss: 0.1182 - val_fbeta_score: 0.6950 - val_recall: 0.6157 - val_precision: 0.7977\n",
      "Epoch 169/200\n",
      "314/314 [==============================] - 0s 383us/step - loss: 0.0247 - fbeta_score: 0.9313 - recall: 0.9011 - precision: 0.9637 - val_loss: 0.1193 - val_fbeta_score: 0.6967 - val_recall: 0.6157 - val_precision: 0.8023\n",
      "Epoch 170/200\n",
      "314/314 [==============================] - 0s 433us/step - loss: 0.0243 - fbeta_score: 0.9334 - recall: 0.9024 - precision: 0.9667 - val_loss: 0.1231 - val_fbeta_score: 0.6991 - val_recall: 0.6190 - val_precision: 0.8031\n",
      "Epoch 171/200\n",
      "314/314 [==============================] - 0s 468us/step - loss: 0.0243 - fbeta_score: 0.9335 - recall: 0.9040 - precision: 0.9650 - val_loss: 0.1193 - val_fbeta_score: 0.6958 - val_recall: 0.6168 - val_precision: 0.7980\n",
      "Epoch 172/200\n",
      "314/314 [==============================] - 0s 461us/step - loss: 0.0240 - fbeta_score: 0.9361 - recall: 0.9067 - precision: 0.9675 - val_loss: 0.1224 - val_fbeta_score: 0.6885 - val_recall: 0.6081 - val_precision: 0.7934\n",
      "Epoch 173/200\n",
      "314/314 [==============================] - 0s 405us/step - loss: 0.0238 - fbeta_score: 0.9369 - recall: 0.9102 - precision: 0.9653 - val_loss: 0.1176 - val_fbeta_score: 0.6897 - val_recall: 0.6103 - val_precision: 0.7929\n",
      "Epoch 174/200\n",
      "314/314 [==============================] - 0s 446us/step - loss: 0.0237 - fbeta_score: 0.9358 - recall: 0.9091 - precision: 0.9643 - val_loss: 0.1246 - val_fbeta_score: 0.6969 - val_recall: 0.6124 - val_precision: 0.8084\n"
     ]
    },
    {
     "name": "stdout",
     "output_type": "stream",
     "text": [
      "Epoch 175/200\n",
      "314/314 [==============================] - 0s 472us/step - loss: 0.0235 - fbeta_score: 0.9373 - recall: 0.9087 - precision: 0.9676 - val_loss: 0.1171 - val_fbeta_score: 0.6984 - val_recall: 0.6245 - val_precision: 0.7922\n",
      "Epoch 176/200\n",
      "314/314 [==============================] - 0s 428us/step - loss: 0.0232 - fbeta_score: 0.9391 - recall: 0.9135 - precision: 0.9662 - val_loss: 0.1226 - val_fbeta_score: 0.6911 - val_recall: 0.6070 - val_precision: 0.8023\n",
      "Epoch 177/200\n",
      "314/314 [==============================] - 0s 349us/step - loss: 0.0231 - fbeta_score: 0.9368 - recall: 0.9061 - precision: 0.9695 - val_loss: 0.1211 - val_fbeta_score: 0.7013 - val_recall: 0.6255 - val_precision: 0.7981\n",
      "Epoch 178/200\n",
      "314/314 [==============================] - 0s 393us/step - loss: 0.0227 - fbeta_score: 0.9400 - recall: 0.9161 - precision: 0.9652 - val_loss: 0.1187 - val_fbeta_score: 0.7010 - val_recall: 0.6234 - val_precision: 0.8008\n",
      "Epoch 179/200\n",
      "314/314 [==============================] - 0s 408us/step - loss: 0.0224 - fbeta_score: 0.9418 - recall: 0.9150 - precision: 0.9703 - val_loss: 0.1219 - val_fbeta_score: 0.6895 - val_recall: 0.6037 - val_precision: 0.8038\n",
      "Epoch 180/200\n",
      "314/314 [==============================] - 0s 374us/step - loss: 0.0223 - fbeta_score: 0.9412 - recall: 0.9143 - precision: 0.9697 - val_loss: 0.1218 - val_fbeta_score: 0.6986 - val_recall: 0.6212 - val_precision: 0.7980\n",
      "Epoch 181/200\n",
      "314/314 [==============================] - 0s 416us/step - loss: 0.0221 - fbeta_score: 0.9406 - recall: 0.9168 - precision: 0.9657 - val_loss: 0.1224 - val_fbeta_score: 0.6979 - val_recall: 0.6179 - val_precision: 0.8017\n",
      "Epoch 182/200\n",
      "314/314 [==============================] - 0s 514us/step - loss: 0.0220 - fbeta_score: 0.9416 - recall: 0.9160 - precision: 0.9687 - val_loss: 0.1189 - val_fbeta_score: 0.6898 - val_recall: 0.6070 - val_precision: 0.7989\n",
      "Epoch 183/200\n",
      "314/314 [==============================] - 0s 423us/step - loss: 0.0216 - fbeta_score: 0.9440 - recall: 0.9164 - precision: 0.9732 - val_loss: 0.1241 - val_fbeta_score: 0.7016 - val_recall: 0.6288 - val_precision: 0.7934\n",
      "Epoch 184/200\n",
      "314/314 [==============================] - 0s 481us/step - loss: 0.0214 - fbeta_score: 0.9482 - recall: 0.9243 - precision: 0.9734 - val_loss: 0.1236 - val_fbeta_score: 0.7088 - val_recall: 0.6310 - val_precision: 0.8084\n",
      "Epoch 185/200\n",
      "314/314 [==============================] - 0s 404us/step - loss: 0.0211 - fbeta_score: 0.9475 - recall: 0.9241 - precision: 0.9721 - val_loss: 0.1187 - val_fbeta_score: 0.6865 - val_recall: 0.6059 - val_precision: 0.7917\n",
      "Epoch 186/200\n",
      "314/314 [==============================] - 0s 361us/step - loss: 0.0208 - fbeta_score: 0.9474 - recall: 0.9224 - precision: 0.9739 - val_loss: 0.1212 - val_fbeta_score: 0.7034 - val_recall: 0.6266 - val_precision: 0.8017\n",
      "Epoch 187/200\n",
      "314/314 [==============================] - 0s 357us/step - loss: 0.0205 - fbeta_score: 0.9513 - recall: 0.9309 - precision: 0.9727 - val_loss: 0.1234 - val_fbeta_score: 0.7109 - val_recall: 0.6310 - val_precision: 0.8141\n",
      "Epoch 188/200\n",
      "314/314 [==============================] - 0s 418us/step - loss: 0.0204 - fbeta_score: 0.9487 - recall: 0.9265 - precision: 0.9720 - val_loss: 0.1233 - val_fbeta_score: 0.7014 - val_recall: 0.6245 - val_precision: 0.8000\n",
      "Epoch 189/200\n",
      "314/314 [==============================] - 0s 383us/step - loss: 0.0198 - fbeta_score: 0.9531 - recall: 0.9333 - precision: 0.9739 - val_loss: 0.1231 - val_fbeta_score: 0.7030 - val_recall: 0.6266 - val_precision: 0.8006\n",
      "Epoch 190/200\n",
      "314/314 [==============================] - 0s 403us/step - loss: 0.0197 - fbeta_score: 0.9516 - recall: 0.9288 - precision: 0.9756 - val_loss: 0.1255 - val_fbeta_score: 0.7056 - val_recall: 0.6266 - val_precision: 0.8073\n",
      "Epoch 191/200\n",
      "314/314 [==============================] - 0s 387us/step - loss: 0.0194 - fbeta_score: 0.9521 - recall: 0.9313 - precision: 0.9739 - val_loss: 0.1197 - val_fbeta_score: 0.7018 - val_recall: 0.6255 - val_precision: 0.7992\n",
      "Epoch 192/200\n",
      "314/314 [==============================] - 0s 457us/step - loss: 0.0192 - fbeta_score: 0.9560 - recall: 0.9353 - precision: 0.9776 - val_loss: 0.1254 - val_fbeta_score: 0.7089 - val_recall: 0.6288 - val_precision: 0.8124\n",
      "Epoch 193/200\n",
      "314/314 [==============================] - 0s 422us/step - loss: 0.0190 - fbeta_score: 0.9547 - recall: 0.9331 - precision: 0.9773 - val_loss: 0.1219 - val_fbeta_score: 0.7102 - val_recall: 0.6354 - val_precision: 0.8050\n",
      "Epoch 194/200\n",
      "314/314 [==============================] - 0s 468us/step - loss: 0.0187 - fbeta_score: 0.9571 - recall: 0.9388 - precision: 0.9761 - val_loss: 0.1249 - val_fbeta_score: 0.7054 - val_recall: 0.6288 - val_precision: 0.8033\n",
      "Epoch 195/200\n",
      "314/314 [==============================] - 0s 469us/step - loss: 0.0185 - fbeta_score: 0.9567 - recall: 0.9344 - precision: 0.9802 - val_loss: 0.1233 - val_fbeta_score: 0.7108 - val_recall: 0.6332 - val_precision: 0.8101\n",
      "Epoch 196/200\n",
      "314/314 [==============================] - 0s 490us/step - loss: 0.0182 - fbeta_score: 0.9588 - recall: 0.9385 - precision: 0.9802 - val_loss: 0.1235 - val_fbeta_score: 0.7040 - val_recall: 0.6310 - val_precision: 0.7961\n",
      "Epoch 197/200\n",
      "314/314 [==============================] - 0s 419us/step - loss: 0.0180 - fbeta_score: 0.9596 - recall: 0.9419 - precision: 0.9779 - val_loss: 0.1236 - val_fbeta_score: 0.7067 - val_recall: 0.6288 - val_precision: 0.8067\n",
      "Epoch 198/200\n",
      "314/314 [==============================] - 0s 455us/step - loss: 0.0179 - fbeta_score: 0.9574 - recall: 0.9344 - precision: 0.9816 - val_loss: 0.1263 - val_fbeta_score: 0.7107 - val_recall: 0.6343 - val_precision: 0.8081\n",
      "Epoch 199/200\n",
      "314/314 [==============================] - 0s 362us/step - loss: 0.0181 - fbeta_score: 0.9612 - recall: 0.9448 - precision: 0.9783 - val_loss: 0.1271 - val_fbeta_score: 0.7029 - val_recall: 0.6277 - val_precision: 0.7986\n",
      "Epoch 200/200\n",
      "314/314 [==============================] - 0s 465us/step - loss: 0.0180 - fbeta_score: 0.9589 - recall: 0.9419 - precision: 0.9765 - val_loss: 0.1248 - val_fbeta_score: 0.7047 - val_recall: 0.6266 - val_precision: 0.8050\n",
      "CPU times: user 51.9 s, sys: 3.63 s, total: 55.5 s\n",
      "Wall time: 34.8 s\n"
     ]
    }
   ],
   "source": [
    "%%time\n",
    "# Run training\n",
    "keras_metrics = KerasMetrics()\n",
    "model.compile(optimizer=opt, loss='binary_crossentropy', metrics=[ keras_metrics.fbeta_score,\n",
    "               keras_metrics.recall,\n",
    "               keras_metrics.precision]) #, mean_pred],)\n",
    "history2 = model.fit([padded_in, padded_out],\n",
    "                    padded_out_target,\n",
    "                    batch_size=128,\n",
    "                    epochs=200,\n",
    "                    validation_split=0.2,verbose=True)"
   ]
  },
  {
   "cell_type": "code",
   "execution_count": 189,
   "metadata": {},
   "outputs": [
    {
     "data": {
      "text/plain": [
       "dict_keys(['val_loss', 'val_fbeta_score', 'val_recall', 'val_precision', 'loss', 'fbeta_score', 'recall', 'precision'])"
      ]
     },
     "execution_count": 189,
     "metadata": {},
     "output_type": "execute_result"
    }
   ],
   "source": [
    "history2.history.keys()"
   ]
  },
  {
   "cell_type": "code",
   "execution_count": 190,
   "metadata": {},
   "outputs": [
    {
     "data": {
      "image/png": "[encoded data removed]",
      "text/plain": [
       "<Figure size 432x288 with 1 Axes>"
      ]
     },
     "metadata": {
      "needs_background": "light"
     },
     "output_type": "display_data"
    }
   ],
   "source": [
    "# summarize history for accuracy\n",
    "plt.plot(history2.history['fbeta_score'])\n",
    "plt.plot(pd.Series(history2.history['val_fbeta_score']))\n",
    "plt.title('f1 score')\n",
    "plt.ylabel('f1_Score')\n",
    "plt.xlabel('epoch')\n",
    "plt.legend(['train', 'test'], loc='upper left');"
   ]
  },
  {
   "cell_type": "code",
   "execution_count": 195,
   "metadata": {},
   "outputs": [
    {
     "data": {
      "text/plain": [
       "0.7047267556190491"
      ]
     },
     "execution_count": 195,
     "metadata": {},
     "output_type": "execute_result"
    }
   ],
   "source": [
    "history2.history['val_fbeta_score'][-1]"
   ]
  },
  {
   "cell_type": "code",
   "execution_count": 191,
   "metadata": {},
   "outputs": [
    {
     "data": {
      "image/png": "[encoded data removed]",
      "text/plain": [
       "<Figure size 432x288 with 1 Axes>"
      ]
     },
     "metadata": {
      "needs_background": "light"
     },
     "output_type": "display_data"
    }
   ],
   "source": [
    "# summarize history for accuracy\n",
    "score = 'recall'\n",
    "plt.plot(history2.history[score])\n",
    "plt.plot(pd.Series(history2.history['val_{}'.format(score)]))\n",
    "plt.title('model {}'.format(score))\n",
    "plt.ylabel(score)\n",
    "plt.xlabel('epoch')\n",
    "plt.legend(['train', 'test'], loc='upper left');"
   ]
  },
  {
   "cell_type": "code",
   "execution_count": 196,
   "metadata": {},
   "outputs": [
    {
     "data": {
      "text/plain": [
       "0.6266375780105591"
      ]
     },
     "execution_count": 196,
     "metadata": {},
     "output_type": "execute_result"
    }
   ],
   "source": [
    "history2.history['val_recall'][-1]"
   ]
  },
  {
   "cell_type": "code",
   "execution_count": 192,
   "metadata": {},
   "outputs": [
    {
     "data": {
      "image/png": "[encoded data removed]",
      "text/plain": [
       "<Figure size 432x288 with 1 Axes>"
      ]
     },
     "metadata": {
      "needs_background": "light"
     },
     "output_type": "display_data"
    }
   ],
   "source": [
    "score = 'precision'\n",
    "plt.plot(history2.history[score])\n",
    "plt.plot(pd.Series(history2.history['val_{}'.format(score)]))\n",
    "plt.title('model {}'.format(score))\n",
    "plt.ylabel(score)\n",
    "plt.xlabel('epoch')\n",
    "plt.legend(['train', 'test'], loc='upper left');"
   ]
  },
  {
   "cell_type": "code",
   "execution_count": 197,
   "metadata": {},
   "outputs": [
    {
     "data": {
      "text/plain": [
       "0.8050490617752075"
      ]
     },
     "execution_count": 197,
     "metadata": {},
     "output_type": "execute_result"
    }
   ],
   "source": [
    "history2.history['val_precision'][-1]"
   ]
  },
  {
   "cell_type": "code",
   "execution_count": 193,
   "metadata": {},
   "outputs": [
    {
     "data": {
      "image/png": "[encoded data removed]",
      "text/plain": [
       "<Figure size 432x288 with 1 Axes>"
      ]
     },
     "metadata": {
      "needs_background": "light"
     },
     "output_type": "display_data"
    }
   ],
   "source": [
    "%matplotlib inline\n",
    "# summarize history for loss\n",
    "plt.plot(history2.history['loss'])\n",
    "plt.plot(history2.history['val_loss'])\n",
    "plt.title('model loss')\n",
    "plt.ylabel('loss')\n",
    "plt.xlabel('epoch')\n",
    "plt.legend(['train', 'test'], loc='upper left');"
   ]
  },
  {
   "cell_type": "markdown",
   "metadata": {},
   "source": [
    "# Predict"
   ]
  },
  {
   "cell_type": "markdown",
   "metadata": {},
   "source": [
    "## Euclidean Distance"
   ]
  },
  {
   "cell_type": "markdown",
   "metadata": {},
   "source": [
    "from scipy.spatial import distance\n",
    "a = np.array([0,0,1])\n",
    "b = np.array([0, 0, 1])\n",
    "dst = distance.euclidean(a, b)\n",
    "dst"
   ]
  },
  {
   "cell_type": "markdown",
   "metadata": {},
   "source": [
    "phone_arrays = {}\n",
    "for phone in phones:\n",
    "    phone_arrays[phone] = code(phone)\n",
    "phone_arrays"
   ]
  },
  {
   "cell_type": "markdown",
   "metadata": {},
   "source": [
    "import pickle\n",
    "with open('WickelfeaturesProject/Files/phone_arrays.pickle', 'wb') as file:\n",
    "    pickle.dump(phone_arrays, file, protocol=pickle.HIGHEST_PROTOCOL)"
   ]
  },
  {
   "cell_type": "code",
   "execution_count": 62,
   "metadata": {},
   "outputs": [],
   "source": [
    "def find_closest_array(predicted):\n",
    "    \"\"\"\n",
    "    Find closest array.\n",
    "    \n",
    "    Parameters:\n",
    "    ----------   \n",
    "    predicted : type array\n",
    "    \n",
    "    Returns:\n",
    "    -------\n",
    "    candidate : type string\n",
    "    \"\"\"\n",
    "    min_dst = 10000\n",
    "    candidates = []\n",
    "    import pickle \n",
    "    with open('WickelfeaturesProject/Files/phone_arrays.pickle', 'rb') as file:\n",
    "        phone_arrays = pickle.load(file)\n",
    "    \n",
    "    for phone in phone_arrays:\n",
    "        dst = distance.euclidean(predicted, phone_arrays[phone])\n",
    "        # finds the minimum distance first\n",
    "        if dst < min_dst:\n",
    "            min_dst = dst\n",
    "            \n",
    "    for phone in phone_arrays:\n",
    "            dst = distance.euclidean(predicted, phone_arrays[phone])\n",
    "            if dst == min_dst:\n",
    "                # appends all possible candidates to a list\n",
    "                candidates.append(phone)\n",
    "    if len(candidates) > 1:\n",
    "        return '(' + ''.join(candidates) + ')'\n",
    "    else:\n",
    "        return ''.join(candidates)"
   ]
  },
  {
   "cell_type": "code",
   "execution_count": 63,
   "metadata": {},
   "outputs": [
    {
     "data": {
      "text/plain": [
       "'3'"
      ]
     },
     "execution_count": 63,
     "metadata": {},
     "output_type": "execute_result"
    }
   ],
   "source": [
    "# test if it returns 3\n",
    "find_closest_array([0,1, 0, 0, 0, 0, 0, 0, 0, 0, 0, 0, 0, 0, 1, 0, 0, 1, 0])"
   ]
  },
  {
   "cell_type": "code",
   "execution_count": 64,
   "metadata": {},
   "outputs": [
    {
     "data": {
      "text/plain": [
       "'(ptk)'"
      ]
     },
     "execution_count": 64,
     "metadata": {},
     "output_type": "execute_result"
    }
   ],
   "source": [
    "# test if it returns a list\n",
    "find_closest_array([1, 0, 0, 0, 0, 0, 0, 0, 0, 0, 0, 0, 0, 0, 0, 0, 0, 0, 0])"
   ]
  },
  {
   "cell_type": "markdown",
   "metadata": {},
   "source": [
    " ---"
   ]
  },
  {
   "cell_type": "code",
   "execution_count": null,
   "metadata": {
    "collapsed": true
   },
   "outputs": [],
   "source": [
    "# Next: inference mode (sampling).\n",
    "# Here's the drill:\n",
    "# 1) encode input and retrieve initial decoder state\n",
    "# 2) run one step of decoder with this initial state\n",
    "# and a \"start of sequence\" token as target.\n",
    "# Output will be the next target token\n",
    "# 3) Repeat with the current target token and current states\n",
    "\n",
    "# Define sampling models\n",
    "encoder_model = Model(encoder_inputs, encoder_states)\n",
    "\n",
    "decoder_state_input_h = Input(shape=(latent_dim,))\n",
    "decoder_state_input_c = Input(shape=(latent_dim,))\n",
    "decoder_states_inputs = [decoder_state_input_h, decoder_state_input_c]\n",
    "decoder_outputs, state_h, state_c = decoder_lstm(\n",
    "    decoder_inputs, initial_state=decoder_states_inputs)\n",
    "decoder_states = [state_h, state_c]\n",
    "decoder_outputs = decoder_dense(decoder_outputs)\n",
    "decoder_model = Model(\n",
    "    [decoder_inputs] + decoder_states_inputs,\n",
    "    [decoder_outputs] + decoder_states)"
   ]
  },
  {
   "cell_type": "code",
   "execution_count": 116,
   "metadata": {},
   "outputs": [
    {
     "data": {
      "text/plain": [
       "{'p': ['bilabial', 'oclusiva'],\n",
       " 'b': ['bilabial', 'oclusiva', 'vozeada'],\n",
       " 'f': ['labiodental', 'fricativa'],\n",
       " 'v': ['labiodental', 'fricativa', 'vozeada'],\n",
       " 't': ['alveolar', 'oclusiva'],\n",
       " 'd': ['alveolar', 'oclusiva', 'vozeada'],\n",
       " 'm': ['bilabial', 'nasal'],\n",
       " 'n': ['alveolar', 'nasal'],\n",
       " 'k': ['velar', 'oclusiva'],\n",
       " 'g': ['velar', 'oclusiva', 'vozeada'],\n",
       " 'N': ['nasal', 'palatal'],\n",
       " 'r': ['alveolar', 'tepe'],\n",
       " 's': ['alveolar', 'fricativa'],\n",
       " 'z': ['alveolar', 'fricativa', 'vozeada'],\n",
       " 'j': ['p-alveolar', 'fricativa', 'vozeada'],\n",
       " 'l': ['l-aprox', 'p-alveolar'],\n",
       " 'L': ['l-aprox', 'palatal'],\n",
       " 'h': ['glotal', 'fricativa'],\n",
       " 'x': ['fricativa', 'p-alveolar'],\n",
       " 'i': ['anterior', 'fechada'],\n",
       " 'e': ['m-fechada', 'anterior'],\n",
       " 'E': ['m-aberta', 'anterior'],\n",
       " 'a': ['anterior', 'aberta'],\n",
       " 'u': ['posterior', 'fechada'],\n",
       " 'o': ['m-fechada', 'posterior'],\n",
       " 'O': ['m-aberta', 'posterior'],\n",
       " 'A': ['anterior', 'aberta', 'nasal'],\n",
       " '3': ['m-fechada', 'anterior', 'nasal'],\n",
       " 'PAD': array([0., 0., 0., 0., 0., 0., 0., 0., 0., 0., 0., 0., 0., 0., 0., 0., 0.,\n",
       "        0., 0.])}"
      ]
     },
     "execution_count": 116,
     "metadata": {},
     "output_type": "execute_result"
    }
   ],
   "source": [
    "del phones"
   ]
  },
  {
   "cell_type": "code",
   "execution_count": 114,
   "metadata": {},
   "outputs": [
    {
     "name": "stderr",
     "output_type": "stream",
     "text": [
      "/disk1/home/svo6059/anaconda3/envs/bia/lib/python3.6/site-packages/ipykernel_launcher.py:4: FutureWarning: elementwise comparison failed; returning scalar instead, but in the future will perform elementwise comparison\n",
      "  after removing the cwd from sys.path.\n"
     ]
    }
   ],
   "source": [
    "lookup = dict()\n",
    "phones['PAD'] = np.zeros(19)\n",
    "for phone in phones:\n",
    "    lookup[phone] = code(phone)\n",
    "    "
   ]
  },
  {
   "cell_type": "code",
   "execution_count": 112,
   "metadata": {
    "collapsed": true
   },
   "outputs": [],
   "source": [
    "def reverse_phone(array):\n",
    "    for item in lookup:\n",
    "        if np.all(array == lookup[item]):\n",
    "            return item"
   ]
  },
  {
   "cell_type": "code",
   "execution_count": 110,
   "metadata": {},
   "outputs": [
    {
     "data": {
      "text/plain": [
       "array([0, 1, 0, 0, 0, 0, 0, 0, 0, 0, 0, 0, 0, 0, 0, 0, 1, 1, 0])"
      ]
     },
     "execution_count": 110,
     "metadata": {},
     "output_type": "execute_result"
    }
   ],
   "source": [
    "coded_in[0][0]"
   ]
  },
  {
   "cell_type": "code",
   "execution_count": 111,
   "metadata": {},
   "outputs": [
    {
     "data": {
      "text/plain": [
       "'A'"
      ]
     },
     "execution_count": 111,
     "metadata": {},
     "output_type": "execute_result"
    }
   ],
   "source": [
    "reverse_phone(coded_in[0][0])"
   ]
  },
  {
   "cell_type": "code",
   "execution_count": null,
   "metadata": {
    "collapsed": true
   },
   "outputs": [],
   "source": [
    "def decode_sequence(input_seq):\n",
    "    # Encode the input as state vectors.\n",
    "    states_value = encoder_model.predict(input_seq)\n",
    "\n",
    "    # Generate empty target sequence of length 1.\n",
    "    target_seq = np.zeros((1, 11, 19))\n",
    "    # Populate the first character of target sequence with the start character.\n",
    "    # target_seq[0, 0, target_token_index['\\t']] = 1.\n",
    "\n",
    "    # Sampling loop for a batch of sequences\n",
    "    # (to simplify, here we assume a batch of size 1).\n",
    "    stop_condition = False\n",
    "    decoded_word = ''\n",
    "    while not stop_condition:\n",
    "        output_tokens, h, c = decoder_model.predict(\n",
    "            [target_seq] + states_value)\n",
    "\n",
    "        # Sample a token\n",
    "        sampled_token_index = np.argmax(output_tokens[0, -1, :])\n",
    "        sampled_char = reverse_target_char_index[sampled_token_index]\n",
    "        decoded_sentence += sampled_char\n",
    "\n",
    "        # Exit condition: either hit max length\n",
    "        # or find stop character.\n",
    "        if (sampled_char == '\\n' or\n",
    "           len(decoded_sentence) > max_decoder_seq_length):\n",
    "            stop_condition = True\n",
    "\n",
    "        # Update the target sequence (of length 1).\n",
    "        target_seq = np.zeros((1, 1, num_decoder_tokens))\n",
    "        target_seq[0, 0, sampled_token_index] = 1.\n",
    "\n",
    "        # Update states\n",
    "        states_value = [h, c]\n",
    "\n",
    "    return decoded_sentence"
   ]
  }
 ],
 "metadata": {
  "hide_input": false,
  "kernelspec": {
   "display_name": "Python (bia)",
   "language": "python",
   "name": "bia"
  },
  "language_info": {
   "codemirror_mode": {
    "name": "ipython",
    "version": 3
   },
   "file_extension": ".py",
   "mimetype": "text/x-python",
   "name": "python",
   "nbconvert_exporter": "python",
   "pygments_lexer": "ipython3",
   "version": "3.6.8"
  },
  "toc": {
   "base_numbering": 1,
   "nav_menu": {},
   "number_sections": true,
   "sideBar": true,
   "skip_h1_title": false,
   "title_cell": "Table of Contents",
   "title_sidebar": "Contents",
   "toc_cell": false,
   "toc_position": {},
   "toc_section_display": true,
   "toc_window_display": true
  }
 },
 "nbformat": 4,
 "nbformat_minor": 2
}
