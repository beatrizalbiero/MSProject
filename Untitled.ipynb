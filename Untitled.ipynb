{
 "cells": [
  {
   "cell_type": "code",
   "execution_count": 1,
   "metadata": {
    "collapsed": true
   },
   "outputs": [],
   "source": [
    "dictio = {\n",
    "             \"#\": [\"#\", \"#\", \"#\", \"#\", \"#\"],\n",
    "             \"b\": [\"int\", \"b1\", \"front\", \"d1\", \"notboundary\"],\n",
    "             \"p\": [\"int\", \"b1\", \"front\", \"d2\", \"notboundary\"],\n",
    "             \"d\": [\"int\", \"b1\", \"middle\", \"d1\", \"notboundary\"],\n",
    "             \"t\": [\"int\", \"b1\", \"middle\", \"d2\", \"notboundary\"],\n",
    "             \"g\": [\"int\", \"b1\", \"back\", \"d1\", \"notboundary\"],\n",
    "             \"k\": [\"int\", \"b1\", \"back\", \"d2\", \"notboundary\"],\n",
    "             \"m\": [\"int\", \"b2\", \"front\", \"d1\", \"notboundary\"],\n",
    "             \"n\": [\"int\", \"b2\", \"middle\", \"d1\", \"notboundary\"],\n",
    "             \"v\": [\"cont\", \"b1\", \"front\", \"d1\", \"notboundary\"],\n",
    "             \"f\": [\"cont\", \"b1\", \"front\", \"d2\", \"notboundary\"],\n",
    "             \"z\": [\"cont\", \"b1\", \"middle\", \"d1\", \"notboundary\"],\n",
    "             \"s\": [\"cont\", \"b1\", \"middle\", \"d2\", \"notboundary\"],\n",
    "             \"j\": [\"cont\", \"b1\", \"back\", \"d1\", \"notboundary\"],\n",
    "             \"x\": [\"cont\", \"b1\", \"back\", \"d2\", \"notboundary\"],\n",
    "             \"l\": [\"cont\", \"b2\", \"front\", \"d1\", \"notboundary\"],\n",
    "             \"r\": [\"cont\", \"b2\", \"middle\", \"d1\", \"notboundary\"],\n",
    "             \"h\": [\"cont\", \"b2\", \"back\", \"d2\", \"notboundary\"],\n",
    "             \"a\": [\"vowel\", \"b2\", \"middle\", \"d2\", \"notboundary\"],\n",
    "             \"e\": [\"vowel\", \"b1\", \"front\", \"d1\", \"notboundary\"],\n",
    "             \"E\": [\"vowel\", \"b2\", \"front\", \"d2\", \"notboundary\"],\n",
    "             \"i\": [\"vowel\", \"b1\", \"front\", \"d2\", \"notboundary\"],\n",
    "             \"o\": [\"vowel\", \"b1\", \"back\", \"d1\", \"notboundary\"],\n",
    "             \"O\": [\"vowel\", \"b2\", \"back\", \"d2\", \"notboundary\"],\n",
    "             \"u\": [\"vowel\", \"b1\", \"back\", \"d2\", \"notboundary\"]\n",
    "             }"
   ]
  },
  {
   "cell_type": "code",
   "execution_count": 4,
   "metadata": {
    "collapsed": false
   },
   "outputs": [
    {
     "data": {
      "text/plain": [
       "['#', '#', '#', '#', '#']"
      ]
     },
     "execution_count": 4,
     "metadata": {},
     "output_type": "execute_result"
    }
   ],
   "source": [
    "y = \"#\"\n",
    "dictio[y]"
   ]
  },
  {
   "cell_type": "code",
   "execution_count": null,
   "metadata": {
    "collapsed": true
   },
   "outputs": [],
   "source": [
    "def create_matrix(trigrams_list):\n",
    "    \"\"\"\n",
    "    create_matrix\n",
    "    This procedure receives a trigram of phonemes and returns, (for a single trigram), a list of its phonemes\n",
    "    associated to the dictionary\n",
    "\n",
    "    :trigrams_list type: list\n",
    "    :rtype: list\n",
    "    \"\"\"\n",
    "    matrix=[]\n",
    "    for lst in trigrams_list:\n",
    "        trigram_list = []\n",
    "        for i in lst:\n",
    "            trigram_list.append(dictio)\n",
    "        matrix.append(trigram_list)\n",
    "    return matrix"
   ]
  },
  {
   "cell_type": "code",
   "execution_count": null,
   "metadata": {
    "collapsed": true
   },
   "outputs": [],
   "source": []
  }
 ],
 "metadata": {
  "kernelspec": {
   "display_name": "Python 3",
   "language": "python",
   "name": "python3"
  },
  "language_info": {
   "codemirror_mode": {
    "name": "ipython",
    "version": 3
   },
   "file_extension": ".py",
   "mimetype": "text/x-python",
   "name": "python",
   "nbconvert_exporter": "python",
   "pygments_lexer": "ipython3",
   "version": "3.6.0"
  }
 },
 "nbformat": 4,
 "nbformat_minor": 2
}
