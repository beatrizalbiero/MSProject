{
 "cells": [
  {
   "cell_type": "code",
   "execution_count": 18,
   "metadata": {},
   "outputs": [],
   "source": [
    "import pandas as pd\n",
    "import coding_function as cf"
   ]
  },
  {
   "cell_type": "code",
   "execution_count": 25,
   "metadata": {},
   "outputs": [],
   "source": [
    "\"\"\"\n",
    "Files/prop_55.csv\n",
    "\"\"\"\n",
    "def load_data(path):\n",
    "    import coding_function as cf\n",
    "    with open(path,'r') as csvfile:\n",
    "        readcsv = csv.reader(csvfile, delimiter = ',')\n",
    "        phoneticinf = []\n",
    "        phoneticI = []\n",
    "        for row in readcsv:\n",
    "            phoneticinf.append(row[1])\n",
    "            phoneticI.append(row[3])\n",
    "        cf.dataTest(phoneticinf,phoneticI) #tests if dataset is ok\n",
    "        vec_inf = []\n",
    "        vec_I = []\n",
    "        for item in phoneticinf:\n",
    "            vec_inf.append(cf.coding(item))\n",
    "        for item in phoneticI:\n",
    "            vec_I.append(cf.coding(item))   \n",
    "    d = {'infinitivo': phoneticinf, 'vec_inf': vec_inf, 'p pessoa': phoneticI, 'vec_I': vec_I}\n",
    "    df = pd.DataFrame(data=d)\n",
    "    X = df['vec_inf'].as_matrix()\n",
    "    Y = df['vec_I'].as_matrix()\n",
    "    return X,Y"
   ]
  },
  {
   "cell_type": "code",
   "execution_count": 27,
   "metadata": {},
   "outputs": [],
   "source": [
    "import csv\n",
    "X, Y = load_data('/Users/Beatriz/Dropbox/Linguística/algoritmos/principal/data/prop_55.csv')"
   ]
  },
  {
   "cell_type": "code",
   "execution_count": 28,
   "metadata": {},
   "outputs": [
    {
     "data": {
      "text/plain": [
       "464"
      ]
     },
     "execution_count": 28,
     "metadata": {},
     "output_type": "execute_result"
    }
   ],
   "source": [
    "len(X)"
   ]
  },
  {
   "cell_type": "code",
   "execution_count": null,
   "metadata": {},
   "outputs": [],
   "source": []
  }
 ],
 "metadata": {
  "kernelspec": {
   "display_name": "Python 3",
   "language": "python",
   "name": "python3"
  },
  "language_info": {
   "codemirror_mode": {
    "name": "ipython",
    "version": 3
   },
   "file_extension": ".py",
   "mimetype": "text/x-python",
   "name": "python",
   "nbconvert_exporter": "python",
   "pygments_lexer": "ipython3",
   "version": "3.6.0"
  }
 },
 "nbformat": 4,
 "nbformat_minor": 2
}
