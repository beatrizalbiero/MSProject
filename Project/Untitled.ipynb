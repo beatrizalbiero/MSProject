{
 "cells": [
  {
   "cell_type": "code",
   "execution_count": 1,
   "metadata": {},
   "outputs": [],
   "source": [
    "import pandas as pd\n",
    "import coding_function as cf\n",
    "from pathlib import Path"
   ]
  },
  {
   "cell_type": "code",
   "execution_count": 25,
   "metadata": {},
   "outputs": [],
   "source": [
    "\"\"\"\n",
    "Files/prop_55.csv\n",
    "\"\"\"\n",
    "def load_data(path):\n",
    "    import coding_function as cf\n",
    "    with open(path,'r') as csvfile:\n",
    "        readcsv = csv.reader(csvfile, delimiter = ',')\n",
    "        phoneticinf = []\n",
    "        phoneticI = []\n",
    "        for row in readcsv:\n",
    "            phoneticinf.append(row[1])\n",
    "            phoneticI.append(row[3])\n",
    "        cf.dataTest(phoneticinf,phoneticI) #tests if dataset is ok\n",
    "        vec_inf = []\n",
    "        vec_I = []\n",
    "        for item in phoneticinf:\n",
    "            vec_inf.append(cf.coding(item))\n",
    "        for item in phoneticI:\n",
    "            vec_I.append(cf.coding(item))   \n",
    "    d = {'infinitivo': phoneticinf, 'vec_inf': vec_inf, 'p pessoa': phoneticI, 'vec_I': vec_I}\n",
    "    df = pd.DataFrame(data=d)\n",
    "    X = df['vec_inf'].as_matrix()\n",
    "    Y = df['vec_I'].as_matrix()\n",
    "    return X,Y"
   ]
  },
  {
   "cell_type": "code",
   "execution_count": 27,
   "metadata": {},
   "outputs": [],
   "source": [
    "import csv\n",
    "X, Y = load_data('/Users/Beatriz/Dropbox/Linguística/algoritmos/principal/data/prop_55.csv')"
   ]
  },
  {
   "cell_type": "code",
   "execution_count": 28,
   "metadata": {},
   "outputs": [
    {
     "data": {
      "text/plain": [
       "464"
      ]
     },
     "execution_count": 28,
     "metadata": {},
     "output_type": "execute_result"
    }
   ],
   "source": [
    "len(X)"
   ]
  },
  {
   "cell_type": "code",
   "execution_count": 3,
   "metadata": {},
   "outputs": [
    {
     "name": "stdout",
     "output_type": "stream",
     "text": [
      "ok\n"
     ]
    }
   ],
   "source": [
    "my_file = Path(\"/Users/Beatriz/Dropbox/Linguística/algoritmos/principal/data/prop_55.csv\")\n",
    "if my_file.is_file():\n",
    "    print('ok')"
   ]
  },
  {
   "cell_type": "code",
   "execution_count": 10,
   "metadata": {},
   "outputs": [
    {
     "data": {
      "text/plain": [
       "'2018-03-29 19:39:20'"
      ]
     },
     "execution_count": 10,
     "metadata": {},
     "output_type": "execute_result"
    }
   ],
   "source": [
    "from time import gmtime, strftime\n",
    "strftime(\"%Y-%m-%d %H:%M:%S\", gmtime())"
   ]
  },
  {
   "cell_type": "code",
   "execution_count": 1,
   "metadata": {},
   "outputs": [],
   "source": [
    "correct = {'#pega#': '#pEgu', '#sega#': '#sEgu#', '#seka#': '#sEku#',\n",
    "               '#leva#': '#lEvu#', '#ora#': '#Oru#', '#mora#': '#mOru#',\n",
    "               '#posta#': '#pOtu#', '#joga#': '#jOgu#', '#sortia#': '#soiu#',\n",
    "               '#media#': '#medeiu#', '#kompo#': '#koiu#', '#po#': '#poiu#', \n",
    "               '#menti#': '#mintu#', '#tosi#': '#tusu#', '#kobri#': \n",
    "               '#kubro#', '#faze#': '#fasu#', '#mata#': '#matu#', '#paga#': \n",
    "               '#pagu#', '#sai#': '#saiu#', '#bate#': '#batu#', '#kome#': \n",
    "               '#komu#'}"
   ]
  },
  {
   "cell_type": "code",
   "execution_count": 2,
   "metadata": {},
   "outputs": [
    {
     "data": {
      "text/plain": [
       "'#pEgu'"
      ]
     },
     "execution_count": 2,
     "metadata": {},
     "output_type": "execute_result"
    }
   ],
   "source": [
    "correct['#pega#']"
   ]
  },
  {
   "cell_type": "code",
   "execution_count": null,
   "metadata": {},
   "outputs": [],
   "source": []
  }
 ],
 "metadata": {
  "kernelspec": {
   "display_name": "Python 3",
   "language": "python",
   "name": "python3"
  },
  "language_info": {
   "codemirror_mode": {
    "name": "ipython",
    "version": 3
   },
   "file_extension": ".py",
   "mimetype": "text/x-python",
   "name": "python",
   "nbconvert_exporter": "python",
   "pygments_lexer": "ipython3",
   "version": "3.6.4"
  }
 },
 "nbformat": 4,
 "nbformat_minor": 2
}
