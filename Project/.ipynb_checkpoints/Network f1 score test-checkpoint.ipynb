{
 "cells": [
  {
   "cell_type": "markdown",
   "metadata": {},
   "source": [
    "### Packages"
   ]
  },
  {
   "cell_type": "code",
   "execution_count": 1,
   "metadata": {
    "collapsed": false
   },
   "outputs": [
    {
     "name": "stderr",
     "output_type": "stream",
     "text": [
      "Using TensorFlow backend.\n"
     ]
    }
   ],
   "source": [
    "import sys\n",
    "import keras\n",
    "from keras.models import Sequential\n",
    "from keras.layers import Dense\n",
    "from keras.models import load_model\n",
    "from keras_metrics import KerasMetrics\n",
    "from keras.callbacks import EarlyStopping\n",
    "from keras import optimizers\n",
    "import numpy as np\n",
    "import random\n",
    "import pickle\n",
    "import decoding2\n",
    "import decoding_function as df\n",
    "from Files import nodes\n",
    "import os\n",
    "import utility as ut\n",
    "sys.path.append('../')"
   ]
  },
  {
   "cell_type": "code",
   "execution_count": 2,
   "metadata": {
    "collapsed": false
   },
   "outputs": [],
   "source": [
    "def pipeline(verbs):\n",
    "    \"\"\"\n",
    "    Pipeline receives a list of verbs and decodes it.\n",
    "    \n",
    "    :verbs type: list\n",
    "    :r type: string\n",
    "    \"\"\"\n",
    "    import coding_function as cf\n",
    "    test_list = []\n",
    "    for i in verbs:\n",
    "        coding = cf.coding(i)        \n",
    "        test_list.append(coding)\n",
    "    test_list = np.array(test_list)\n",
    "    prediction = model.predict(test_list)\n",
    "    for i in prediction:\n",
    "        print(decoding2.decoding(i))\n",
    "    return test_list.shape"
   ]
  },
  {
   "cell_type": "markdown",
   "metadata": {},
   "source": [
    "### 1. Load Data"
   ]
  },
  {
   "cell_type": "code",
   "execution_count": 49,
   "metadata": {
    "collapsed": true
   },
   "outputs": [],
   "source": [
    "#path = '../data/prop_55.csv' #len 464\n",
    "#path = '../data/prop_65.csv'\n",
    "#path = '../data/prop_75.csv'\n",
    "#path = '../data/prop_85.csv'\n",
    "path = '../data/prop_95.csv'\n",
    "X,Y = ut.load_data(path)\n",
    "batch = len(X)"
   ]
  },
  {
   "cell_type": "markdown",
   "metadata": {},
   "source": [
    "### 2. Fit Neural Net (Optional)"
   ]
  },
  {
   "cell_type": "code",
   "execution_count": 50,
   "metadata": {
    "collapsed": true
   },
   "outputs": [
    {
     "name": "stdout",
     "output_type": "stream",
     "text": [
      " 32/400 [=>............................] - ETA: 1s\n",
      "fbeta_score: 94.70% \n",
      "recall: 92.10% \n",
      "precision: 97.50%\n"
     ]
    }
   ],
   "source": [
    "# 1. Define Model\n",
    "model = Sequential()\n",
    "model.add(Dense(460, input_shape=(460,), activation='sigmoid'))\n",
    "\n",
    "\n",
    "# 2. Compile model\n",
    "keras_metrics = KerasMetrics()\n",
    "model.compile( \n",
    "    optimizer='adam', \n",
    "    loss='mean_squared_error',\n",
    "    metrics = [ keras_metrics.fbeta_score,\n",
    "               keras_metrics.recall,\n",
    "               keras_metrics.precision]\n",
    "            )\n",
    "\n",
    "# 3. Fit model\n",
    "stopper = EarlyStopping(monitor='fbeta_score', min_delta=0.00005, patience=50, verbose=1, mode='max')\n",
    "model.fit(X,Y,epochs = 150, batch_size=batch,verbose=False,callbacks= [stopper])\n",
    "\n",
    "# 4. Evaluate model\n",
    "scores = model.evaluate(X, Y)\n",
    "print(\"\\n%s: %.2f%% \\n%s: %.2f%% \\n%s: %.2f%%\" % (model.metrics_names[1], scores[1]*100, \n",
    "                                                  model.metrics_names[2], scores[2]*100,\n",
    "                                                  model.metrics_names[3], scores[3]*100 ))\n",
    "\n",
    "# 5. Save model\n",
    "model.save('../data/prop_95')"
   ]
  },
  {
   "cell_type": "markdown",
   "metadata": {},
   "source": [
    "### 2. (Or Load Trained Model)"
   ]
  },
  {
   "cell_type": "code",
   "execution_count": 4,
   "metadata": {
    "collapsed": true
   },
   "outputs": [],
   "source": [
    "#model = load_model('../data/prop_55',custom_objects={'fbeta_score': keras_metrics.fbeta_score,\n",
    "#                                                     'recall': keras_metrics.recall,\n",
    "#                                                     'precision': keras_metrics.precision})\n",
    "# model = load_model('../data/prop_65',custom_objects={'fbeta_score': keras_metrics.fbeta_score,\n",
    "#                                                      'recall': keras_metrics.recall,\n",
    "#                                                      'precision': keras_metrics.precision})\n",
    "# model = load_model('../data/prop_75',custom_objects={'fbeta_score': keras_metrics.fbeta_score,\n",
    "#                                                      'recall': keras_metrics.recall,\n",
    "#                                                      'precision': keras_metrics.precision})\n",
    "# model = load_model('../data/prop_85',custom_objects={'fbeta_score': keras_metrics.fbeta_score,\n",
    "#                                                      'recall': keras_metrics.recall,\n",
    "#                                                      'precision': keras_metrics.precision})\n",
    "# model = load_model('../data/prop_95',custom_objects={'fbeta_score': keras_metrics.fbeta_score,\n",
    "#                                                      'recall': keras_metrics.recall,\n",
    "#                                                      'precision': keras_metrics.precision})"
   ]
  },
  {
   "cell_type": "markdown",
   "metadata": {},
   "source": [
    "#### 2.1 Train existing model"
   ]
  },
  {
   "cell_type": "code",
   "execution_count": null,
   "metadata": {},
   "outputs": [],
   "source": [
    "#model.fit(X,Y,epochs = 150, batch_size=batch,verbose=False,callbacks= [stopper])"
   ]
  },
  {
   "cell_type": "markdown",
   "metadata": {},
   "source": [
    "### 3. Check Results\n",
    "Test the prediction for some verbs.\n",
    "\n",
    "pipeline(['#pega#','#sega#','#seka#','#leva#','#ora#','#mora#', '#posta#',\n",
    "          '#joga#','#sortia#','#media#','#kompo#','#po#','#tendi#','#jenti#',\n",
    "          '#menti#','#hendi#','#tosi#','#kobri#','#faze#','#mata#','#paga#',\n",
    "          '#sai#','#bate#','#kome#'])\n",
    "    \n",
    "\n",
    "|       \t|       \t| front \t| middle  \t| back    \t|\n",
    "|:-----:\t|-------\t|------:\t|---------\t|---------\t|\n",
    "|       \t|       \t| v/u   \t| v/u     \t| v/u     \t|\n",
    "|  **int**  | **stop**  | b/p   \t| d/t     \t| g/k     \t|\n",
    "|       \t| **nasal** | m/-   \t| n/-     \t| -       \t|\n",
    "| **cont**  | **fric**  | v/f   \t| z/s    \t| j/x   \t|\n",
    "|       \t| **liq**   | l/-   \t| r/-     \t| -/h     \t|\n",
    "| **vowel** | **high**  | e/i   \t| -       \t| o/u     \t|\n",
    "|       \t| **low**   | -/E   \t| -/a     \t| -/O     \t|"
   ]
  },
  {
   "cell_type": "markdown",
   "metadata": {},
   "source": [
    "## Results:"
   ]
  },
  {
   "cell_type": "markdown",
   "metadata": {},
   "source": [
    "## Proporcao 55% Irregulares"
   ]
  },
  {
   "cell_type": "markdown",
   "metadata": {},
   "source": [
    "|     Model Name     | Test File     | Total Irregular Verbs | Total Verbs | Proportion | Epochs | Batch Size  |\n",
    "|:------------------:|---------------|----------------------:|-------------|------------|--------|-------------|\n",
    "| prop_55         | prop_55       |        209            |  464        |    55%     | 150    |  464         |"
   ]
  },
  {
   "cell_type": "code",
   "execution_count": 10,
   "metadata": {
    "collapsed": false
   },
   "outputs": [
    {
     "data": {
      "text/plain": [
       "464"
      ]
     },
     "execution_count": 10,
     "metadata": {},
     "output_type": "execute_result"
    }
   ],
   "source": [
    "path = '../data/prop_55.csv'\n",
    "X,Y = ut.load_data(path)\n",
    "len(X)"
   ]
  },
  {
   "cell_type": "code",
   "execution_count": 39,
   "metadata": {
    "collapsed": false
   },
   "outputs": [
    {
     "name": "stdout",
     "output_type": "stream",
     "text": [
      "Resposta:#begu#\n",
      "Resposta:#segu#\n",
      "Resposta:#seku#\n",
      "Resposta:#lesu#\n",
      "Resposta:#erru#\n",
      "Resposta:#muru#\n",
      "Resposta:#butu#\n",
      "Resposta:#xogu#\n",
      "Resposta:#suiu#\n",
      "Resposta:#meiu#\n",
      "Resposta:#koiu#\n",
      "Resposta:#poiu#\n",
      "Resposta:#tetu#\n",
      "Resposta:#setu#\n",
      "Resposta:#metu#\n",
      "Resposta:#xedu#\n",
      "Resposta:#tofu#\n",
      "Resposta:#koru#\n",
      "Resposta:#fasu#\n",
      "Resposta:#matu#\n",
      "Resposta:#bagu#\n",
      "Resposta:#saiu#\n",
      "Resposta:#batu#\n",
      "Resposta:#koeu#\n"
     ]
    },
    {
     "data": {
      "text/plain": [
       "(24, 460)"
      ]
     },
     "execution_count": 39,
     "metadata": {},
     "output_type": "execute_result"
    }
   ],
   "source": [
    "model = load_model('../data/prop_55',custom_objects={'fbeta_score': keras_metrics.fbeta_score,\n",
    "                                                     'recall': keras_metrics.recall,\n",
    "                                                     'precision': keras_metrics.precision})\n",
    "pipeline(['#pega#','#sega#','#seka#','#leva#','#ora#','#mora#', '#posta#',\n",
    "          '#joga#','#sortia#','#media#','#kompo#','#po#','#tendi#','#jenti#',\n",
    "          '#menti#','#hendi#','#tosi#','#kobri#','#faze#','#mata#','#paga#',\n",
    "          '#sai#','#bate#','#kome#'])"
   ]
  },
  {
   "cell_type": "markdown",
   "metadata": {},
   "source": [
    "## Proporcao 65% Irregulares\n"
   ]
  },
  {
   "cell_type": "markdown",
   "metadata": {},
   "source": [
    "|     Model Name     | Test File     | Total Irregular Verbs | Total Verbs | Proportion | Epochs | Batch Size  |\n",
    "|:------------------:|---------------|----------------------:|-------------|------------|--------|-------------|\n",
    "| prop_65     | prop_65       |      209        |  579        |    65%     | 150    |  579         |"
   ]
  },
  {
   "cell_type": "code",
   "execution_count": 42,
   "metadata": {},
   "outputs": [
    {
     "name": "stdout",
     "output_type": "stream",
     "text": [
      "Resposta:#bexu#\n",
      "Resposta:#segu#\n",
      "Resposta:#seku#\n",
      "Resposta:#levu#\n",
      "Resposta:#erru#\n",
      "Resposta:#buru#\n",
      "Resposta:#bOtu#\n",
      "Resposta:#xogu#\n",
      "Resposta:#suiu#\n",
      "Resposta:#meiu#\n",
      "Resposta:#koiu#\n",
      "Resposta:#poiu#\n",
      "Resposta:#tetu#\n",
      "Resposta:#xetu#\n",
      "Resposta:#mitu#\n",
      "Resposta:#xetu#\n",
      "Resposta:#tusu#\n",
      "Resposta:#koru#\n",
      "Resposta:#fasu#\n",
      "Resposta:#matu#\n",
      "Resposta:#bagu#\n",
      "Resposta:#saiu#\n",
      "Resposta:#baiu#\n",
      "Resposta:#koeu#\n"
     ]
    },
    {
     "data": {
      "text/plain": [
       "(24, 460)"
      ]
     },
     "execution_count": 42,
     "metadata": {},
     "output_type": "execute_result"
    }
   ],
   "source": [
    "model = load_model('../data/prop_65',custom_objects={'fbeta_score': keras_metrics.fbeta_score,\n",
    "                                                     'recall': keras_metrics.recall,\n",
    "                                                     'precision': keras_metrics.precision})\n",
    "pipeline(['#pega#','#sega#','#seka#','#leva#','#ora#','#mora#', '#posta#',\n",
    "          '#joga#','#sortia#','#media#','#kompo#','#po#','#tendi#','#jenti#',\n",
    "          '#menti#','#hendi#','#tosi#','#kobri#','#faze#','#mata#','#paga#',\n",
    "          '#sai#','#bate#','#kome#'])"
   ]
  },
  {
   "cell_type": "markdown",
   "metadata": {},
   "source": [
    "## Proporcao 75% Irregulares"
   ]
  },
  {
   "cell_type": "markdown",
   "metadata": {},
   "source": [
    "|     Model Name     | Test File     | Total Irregular Verbs | Total Verbs | Proportion | Epochs | Batch Size  |\n",
    "|:------------------:|---------------|----------------------:|-------------|------------|--------|-------------|\n",
    "| prop_75       | prop_75       |            300          |  400        |    75%     | 150   |  400         |"
   ]
  },
  {
   "cell_type": "code",
   "execution_count": 45,
   "metadata": {},
   "outputs": [
    {
     "name": "stdout",
     "output_type": "stream",
     "text": [
      "Resposta:#beku#\n",
      "Resposta:#segu#\n",
      "Resposta:#seku#\n",
      "Resposta:#levu#\n",
      "Resposta:#irru#\n",
      "Resposta:#miru#\n",
      "Resposta:#putu#\n",
      "Resposta:#xogu#\n",
      "Resposta:#suiu#\n",
      "Resposta:#meiu#\n",
      "Resposta:#koiu#\n",
      "Resposta:#poiu#\n",
      "Resposta:#tetu#\n",
      "Resposta:#fetu#\n",
      "Resposta:#mitu#\n",
      "Resposta:#xetu#\n",
      "Resposta:#tosu#\n",
      "Resposta:#koru#\n",
      "Resposta:#fasu#\n",
      "Resposta:#matu#\n",
      "Resposta:#bagu#\n",
      "Resposta:#saiu#\n",
      "Resposta:#bapu#\n",
      "Resposta:#koeu#\n"
     ]
    },
    {
     "data": {
      "text/plain": [
       "(24, 460)"
      ]
     },
     "execution_count": 45,
     "metadata": {},
     "output_type": "execute_result"
    }
   ],
   "source": [
    "model = load_model('../data/prop_75',custom_objects={'fbeta_score': keras_metrics.fbeta_score,\n",
    "                                                     'recall': keras_metrics.recall,\n",
    "                                                     'precision': keras_metrics.precision})\n",
    "pipeline(['#pega#','#sega#','#seka#','#leva#','#ora#','#mora#', '#posta#',\n",
    "          '#joga#','#sortia#','#media#','#kompo#','#po#','#tendi#','#jenti#',\n",
    "          '#menti#','#hendi#','#tosi#','#kobri#','#faze#','#mata#','#paga#',\n",
    "          '#sai#','#bate#','#kome#'])"
   ]
  },
  {
   "cell_type": "markdown",
   "metadata": {},
   "source": [
    "## Proporcao 85% Irregulares"
   ]
  },
  {
   "cell_type": "markdown",
   "metadata": {},
   "source": [
    "|     Model Name     | Test File     | Total Irregular Verbs | Total Verbs | Proportion | Epochs | Batch Size  |\n",
    "|:------------------:|---------------|----------------------:|-------------|------------|--------|-------------|\n",
    "| prop_85       | prop_85       |             340         |  400        |    85%     | 150   |  400         |"
   ]
  },
  {
   "cell_type": "code",
   "execution_count": 48,
   "metadata": {},
   "outputs": [
    {
     "name": "stdout",
     "output_type": "stream",
     "text": [
      "Resposta:#beku#\n",
      "Resposta:#segu#\n",
      "Resposta:#siku#\n",
      "Resposta:#lesu#\n",
      "Resposta:#iaru#\n",
      "Resposta:#biru#\n",
      "Resposta:#bOtu#\n",
      "Resposta:#xogu#\n",
      "Resposta:#suiu#\n",
      "Resposta:#meiu#\n",
      "Resposta:#koiu#\n",
      "Resposta:#poiu#\n",
      "Resposta:#tetu#\n",
      "Resposta:#fetu#\n",
      "Resposta:#mitu#\n",
      "Resposta:#xetu#\n",
      "Resposta:#tofu#\n",
      "Resposta:#koru#\n",
      "Resposta:#fasu#\n",
      "Resposta:#matu#\n",
      "Resposta:#babu#\n",
      "Resposta:#saiu#\n",
      "Resposta:#baiu#\n",
      "Resposta:#koiu#\n"
     ]
    },
    {
     "data": {
      "text/plain": [
       "(24, 460)"
      ]
     },
     "execution_count": 48,
     "metadata": {},
     "output_type": "execute_result"
    }
   ],
   "source": [
    "model = load_model('../data/prop_85',custom_objects={'fbeta_score': keras_metrics.fbeta_score,\n",
    "                                                     'recall': keras_metrics.recall,\n",
    "                                                     'precision': keras_metrics.precision})\n",
    "pipeline(['#pega#','#sega#','#seka#','#leva#','#ora#','#mora#', '#posta#',\n",
    "          '#joga#','#sortia#','#media#','#kompo#','#po#','#tendi#','#jenti#',\n",
    "          '#menti#','#hendi#','#tosi#','#kobri#','#faze#','#mata#','#paga#',\n",
    "          '#sai#','#bate#','#kome#'])"
   ]
  },
  {
   "cell_type": "markdown",
   "metadata": {},
   "source": [
    "## Proporcao 95% Irregulares"
   ]
  },
  {
   "cell_type": "markdown",
   "metadata": {},
   "source": [
    "|     Model Name     | Test File     | Total Irregular Verbs | Total Verbs | Proportion | Epochs | Batch Size  |\n",
    "|:------------------:|---------------|----------------------:|-------------|------------|--------|-------------|\n",
    "| prop_95       | prop_95       |             380         |  400        |    95%     | 150   |  400         |"
   ]
  },
  {
   "cell_type": "code",
   "execution_count": 51,
   "metadata": {},
   "outputs": [
    {
     "name": "stdout",
     "output_type": "stream",
     "text": [
      "Resposta:#pEku#\n",
      "Resposta:#sigu#\n",
      "Resposta:#siku#\n",
      "Resposta:#lesu#\n",
      "Resposta:#earu#\n",
      "Resposta:#mOru#\n",
      "Resposta:#pOtu#\n",
      "Resposta:#xogu#\n",
      "Resposta:#suiu#\n",
      "Resposta:#meiu#\n",
      "Resposta:#koiu#\n",
      "Resposta:#poiu#\n",
      "Resposta:#detu#\n",
      "Resposta:#fetu#\n",
      "Resposta:#mitu#\n",
      "Resposta:#xetu#\n",
      "Resposta:#topu#\n",
      "Resposta:#koru#\n",
      "Resposta:#fasu#\n",
      "Resposta:#matu#\n",
      "Resposta:#papu#\n",
      "Resposta:#saiu#\n",
      "Resposta:#maiu#\n",
      "Resposta:#koiu#\n"
     ]
    },
    {
     "data": {
      "text/plain": [
       "(24, 460)"
      ]
     },
     "execution_count": 51,
     "metadata": {},
     "output_type": "execute_result"
    }
   ],
   "source": [
    "model = load_model('../data/prop_95',custom_objects={'fbeta_score': keras_metrics.fbeta_score,\n",
    "                                                     'recall': keras_metrics.recall,\n",
    "                                                     'precision': keras_metrics.precision})\n",
    "pipeline(['#pega#','#sega#','#seka#','#leva#','#ora#','#mora#', '#posta#',\n",
    "          '#joga#','#sortia#','#media#','#kompo#','#po#','#tendi#','#jenti#',\n",
    "          '#menti#','#hendi#','#tosi#','#kobri#','#faze#','#mata#','#paga#',\n",
    "          '#sai#','#bate#','#kome#'])"
   ]
  },
  {
   "cell_type": "code",
   "execution_count": null,
   "metadata": {},
   "outputs": [],
   "source": []
  }
 ],
 "metadata": {
  "kernelspec": {
   "display_name": "Python 3",
   "language": "python",
   "name": "python3"
  },
  "language_info": {
   "codemirror_mode": {
    "name": "ipython",
    "version": 3
   },
   "file_extension": ".py",
   "mimetype": "text/x-python",
   "name": "python",
   "nbconvert_exporter": "python",
   "pygments_lexer": "ipython3",
   "version": "3.6.0"
  }
 },
 "nbformat": 4,
 "nbformat_minor": 2
}
