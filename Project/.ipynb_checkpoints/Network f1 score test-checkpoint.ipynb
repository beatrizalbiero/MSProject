{
 "cells": [
  {
   "cell_type": "markdown",
   "metadata": {},
   "source": [
    "### Packages"
   ]
  },
  {
   "cell_type": "code",
   "execution_count": 5,
   "metadata": {
    "collapsed": false
   },
   "outputs": [
    {
     "name": "stderr",
     "output_type": "stream",
     "text": [
      "Using TensorFlow backend.\n"
     ]
    }
   ],
   "source": [
    "import sys\n",
    "import keras\n",
    "from keras.models import Sequential\n",
    "from keras.layers import Dense\n",
    "from keras.models import load_model\n",
    "import numpy as np\n",
    "import random\n",
    "import pickle\n",
    "import decoding2\n",
    "import coding_function as cf\n",
    "import decoding_function as df\n",
    "import csv\n",
    "from Files import nodes\n",
    "import os\n",
    "#from keras_metrics import KerasMetrics\n",
    "sys.path.append('../')"
   ]
  },
  {
   "cell_type": "code",
   "execution_count": 6,
   "metadata": {
    "collapsed": false
   },
   "outputs": [],
   "source": [
    "\"\"\"\n",
    "Path Sugestions:\n",
    "Files/training_data_set.csv\n",
    "Files/biased_train1.csv\n",
    "Files/biased_train2.csv\n",
    "Files/biased_train3.csv\n",
    "\"\"\"\n",
    "def load_data(path):\n",
    "    import coding_function as cf\n",
    "    with open(path,'r') as csvfile:\n",
    "        readcsv = csv.reader(csvfile, delimiter = ',')\n",
    "        phoneticinf = []\n",
    "        phoneticI = []\n",
    "        for row in readcsv:\n",
    "            phoneticinf.append(row[1])\n",
    "            phoneticI.append(row[3])\n",
    "    cf.dataTest(phoneticinf,phoneticI)\n",
    "    #for key in dictioinf.keys(): \n",
    "    #    if key in phoneticinf:\n",
    "    #        phoneticinf.remove(key)\n",
    "    dictioinf = {}\n",
    "    dictioI = {}\n",
    "    for item in phoneticinf:\n",
    "        dictioinf[item] = cf.coding(item)\n",
    "    for item in phoneticI:\n",
    "        dictioI[item] = cf.coding(item)    \n",
    "    X = np.array(list(dictioinf.values())) #input column\n",
    "    Y = np.array(list(dictioI.values())) #output column\n",
    "    return X,Y\n",
    "\n",
    "def pipeline(verbs):\n",
    "    \"\"\"\n",
    "    Pipeline receives a list of verbs and decodes it.\n",
    "    \n",
    "    :verbs type: list\n",
    "    :r type: string\n",
    "    \"\"\"\n",
    "    test_list = []\n",
    "    for i in verbs:\n",
    "        coding = cf.coding(i)        \n",
    "        test_list.append(coding)\n",
    "    test_list = np.array(test_list)\n",
    "    prediction = model.predict(test_list)\n",
    "    for i in prediction:\n",
    "        print(decoding2.decoding(i))\n",
    "    return test_list.shape"
   ]
  },
  {
   "cell_type": "markdown",
   "metadata": {},
   "source": [
    "### 1. Load Data"
   ]
  },
  {
   "cell_type": "code",
   "execution_count": 22,
   "metadata": {
    "collapsed": true
   },
   "outputs": [],
   "source": [
    "path = '../data/prop_55.csv'\n",
    "X,Y = load_data(path)"
   ]
  },
  {
   "cell_type": "markdown",
   "metadata": {},
   "source": [
    "### 2. Fit Neural Net (Optional)"
   ]
  },
  {
   "cell_type": "code",
   "execution_count": 23,
   "metadata": {
    "collapsed": true
   },
   "outputs": [],
   "source": [
    "# 1. Define Model\n",
    "model = Sequential()\n",
    "model.add(Dense(460, input_shape=(460,), activation='sigmoid'))\n",
    "\n",
    "# 2. Evaluate model\n",
    "\n",
    "# 3. Compile model\n",
    "model.compile(loss='mean_squared_error', optimizer='adadelta')\n",
    "\n",
    "# 4. Fit model\n",
    "model.fit(X,Y, epochs=600, batch_size=20,verbose=False)\n",
    "\n",
    "# 5. Save model\n",
    "model.save('../data/prop_55')"
   ]
  },
  {
   "cell_type": "markdown",
   "metadata": {},
   "source": [
    "### 2. (Or Load Trained Model)"
   ]
  },
  {
   "cell_type": "code",
   "execution_count": 101,
   "metadata": {
    "collapsed": true
   },
   "outputs": [],
   "source": [
    "model = load_model('../data/biased_model_test1')\n",
    "#model = load_model('../data/biased_model_test1')"
   ]
  },
  {
   "cell_type": "markdown",
   "metadata": {},
   "source": [
    "#### 2.1 Train existing model"
   ]
  },
  {
   "cell_type": "code",
   "execution_count": 97,
   "metadata": {
    "collapsed": false
   },
   "outputs": [
    {
     "data": {
      "text/plain": [
       "<keras.callbacks.History at 0x123196940>"
      ]
     },
     "execution_count": 97,
     "metadata": {},
     "output_type": "execute_result"
    }
   ],
   "source": [
    "#model = load_model('../data/biased_model_test2')\n",
    "model.fit(X,Y, epochs=200, batch_size=5,verbose=False)"
   ]
  },
  {
   "cell_type": "markdown",
   "metadata": {},
   "source": [
    "### 3. Check Results\n",
    "pipeline(['#para#','#fexa#','#mexe#','#konta#','#testa#','#abri#','#kala#','#fala#'])\n",
    "\n",
    "|       \t|       \t| front \t| middle  \t| back    \t|\n",
    "|:-----:\t|-------\t|------:\t|---------\t|---------\t|\n",
    "|       \t|       \t| v/u   \t| v/u     \t| v/u     \t|\n",
    "|  **int**  | **stop**  | b/p   \t| d/t     \t| g/k     \t|\n",
    "|       \t| **nasal** | m/-   \t| n/-     \t| -       \t|\n",
    "| **cont**  | **fric**  | v/f   \t| z/s    \t| j/x   \t|\n",
    "|       \t| **liq**   | l/-   \t| r/-     \t| -/h     \t|\n",
    "| **vowel** | **high**  | e/i   \t| -       \t| o/u     \t|\n",
    "|       \t| **low**   | -/E   \t| -/a     \t| -/O     \t|"
   ]
  },
  {
   "cell_type": "markdown",
   "metadata": {},
   "source": [
    "## Results:\n",
    "|     Model Name     | Test File     | Total Irregular Verbs | Total Verbs | Proportion | Epochs | Batch Size |\n",
    "|:------------------:|---------------|----------------------:|-------------|------------|--------|-------------|\n",
    "| biased_model_test1 | biased_train_1 |                    66 | 139         | 47%        | 600    |  20          |"
   ]
  },
  {
   "cell_type": "code",
   "execution_count": 45,
   "metadata": {
    "collapsed": false
   },
   "outputs": [
    {
     "name": "stdout",
     "output_type": "stream",
     "text": [
      "#pa\n",
      "Decodificado Loop: #paru, Final antes do Loop: ru#\n",
      "#fe\n",
      "Decodificado Loop: #feku#, Final antes do Loop: xu#\n",
      "#me\n",
      "Decodificado Loop: #mexu, Final antes do Loop: xu#\n",
      "#ko\n",
      "Decodificado Loop: #ko#, Final antes do Loop: tu#\n",
      "#tE\n",
      "Decodificado Loop: #tEspu#, Final antes do Loop: tu#\n",
      "#ag\n",
      "Decodificado Loop: #agva#, Final antes do Loop: zu#\n",
      "#pa\n",
      "Decodificado Loop: #palu, Final antes do Loop: lu#\n",
      "#fa\n",
      "Decodificado Loop: #falu, Final antes do Loop: lu#\n"
     ]
    },
    {
     "data": {
      "text/plain": [
       "(8, 460)"
      ]
     },
     "execution_count": 45,
     "metadata": {},
     "output_type": "execute_result"
    }
   ],
   "source": [
    "model = load_model('../data/biased_model_test1')\n",
    "pipeline(['#para#','#fexa#','#mexe#','#konta#','#testa#','#abri#','#kala#','#fala#'])"
   ]
  },
  {
   "cell_type": "markdown",
   "metadata": {},
   "source": [
    "|     Model Name     | Test File     | Total Irregular Verbs | Total Verbs | Proportion | Epochs | Batch Sizes |\n",
    "|:------------------:|---------------|----------------------:|-------------|------------|--------|-------------|\n",
    "| unbiased_model | training_data_set |          151          |    410      |     37%    | 600    |  20          |"
   ]
  },
  {
   "cell_type": "code",
   "execution_count": 78,
   "metadata": {
    "collapsed": false
   },
   "outputs": [
    {
     "name": "stdout",
     "output_type": "stream",
     "text": [
      "#pa\n",
      "Decodificado Loop: #pari#, Final antes do Loop: ru#\n",
      "#fe\n",
      "Decodificado Loop: #fexu, Final antes do Loop: xu#\n",
      "#me\n",
      "Decodificado Loop: #mexu, Final antes do Loop: xu#\n",
      "#ab\n",
      "Decodificado Loop: #abru, Final antes do Loop: ru#\n",
      "#ka\n",
      "Decodificado Loop: #kalu, Final antes do Loop: lu#\n",
      "#fa\n",
      "Decodificado Loop: #falu, Final antes do Loop: lu#\n",
      "#te\n",
      "Decodificado Loop: #teku, Final antes do Loop: ku#\n"
     ]
    },
    {
     "data": {
      "text/plain": [
       "(7, 460)"
      ]
     },
     "execution_count": 78,
     "metadata": {},
     "output_type": "execute_result"
    }
   ],
   "source": [
    "model = load_model('../data/unbiased_model')\n",
    "pipeline(['#para#','#fexa#','#mexe#','#abri#','#kala#','#fala#','#teka#'])"
   ]
  },
  {
   "cell_type": "markdown",
   "metadata": {},
   "source": [
    "|     Model Name     | Test File     | Total Irregular Verbs | Total Verbs | Proportion | Epochs | Batch Size  |\n",
    "|:------------------:|---------------|----------------------:|-------------|------------|--------|-------------|\n",
    "| biased_model_test2 | biased_train2 |        88             |  132        |    66%     | 600    |  20         |"
   ]
  },
  {
   "cell_type": "code",
   "execution_count": 4,
   "metadata": {
    "collapsed": true
   },
   "outputs": [],
   "source": [
    "model = load_model('../data/biased_model_test2')"
   ]
  },
  {
   "cell_type": "code",
   "execution_count": 21,
   "metadata": {
    "collapsed": false
   },
   "outputs": [],
   "source": [
    "#pipeline(['#fexa#','#mexe#','#konta#','#testa#','#kala#','#fala#',\"#bota#\"])"
   ]
  },
  {
   "cell_type": "markdown",
   "metadata": {},
   "source": [
    "|     Model Name     | Test File     | Total Irregular Verbs | Total Verbs | Proportion | Epochs | Batch Size  |\n",
    "|:------------------:|---------------|----------------------:|-------------|------------|--------|-------------|\n",
    "| biased_model_test3 | biased_train3 |        88             |  156        |    50%     | 600    |  20         |"
   ]
  },
  {
   "cell_type": "code",
   "execution_count": 5,
   "metadata": {
    "collapsed": true
   },
   "outputs": [],
   "source": [
    "model = load_model('../data/biased_model_test3')"
   ]
  },
  {
   "cell_type": "code",
   "execution_count": 6,
   "metadata": {
    "collapsed": false
   },
   "outputs": [
    {
     "name": "stdout",
     "output_type": "stream",
     "text": [
      "#pa\n",
      "Decodificado Loop: #paru, Final antes do Loop: ru#\n",
      "#fi\n",
      "Decodificado Loop: #fiku#, Final antes do Loop: xu#\n",
      "#me\n",
      "Decodificado Loop: #mesu, Final antes do Loop: su#\n",
      "#ko\n",
      "Decodificado Loop: #ko#, Final antes do Loop: tu#\n",
      "#dE\n",
      "Decodificado Loop: #dE#, Final antes do Loop: tu#\n",
      "#pa\n",
      "Decodificado Loop: #palu, Final antes do Loop: lu#\n",
      "#fa\n",
      "Decodificado Loop: #falu, Final antes do Loop: lu#\n"
     ]
    },
    {
     "data": {
      "text/plain": [
       "(7, 460)"
      ]
     },
     "execution_count": 6,
     "metadata": {},
     "output_type": "execute_result"
    }
   ],
   "source": [
    "pipeline(['#para#','#fexa#','#mexe#','#konta#','#testa#','#kala#','#fala#'])"
   ]
  },
  {
   "cell_type": "markdown",
   "metadata": {},
   "source": [
    "|     Model Name     | Test File     | Total Irregular Verbs | Total Verbs | Proportion | Epochs | Batch Size  |\n",
    "|:------------------:|---------------|----------------------:|-------------|------------|--------|-------------|\n",
    "| biased_model_test2 | biased_train2 |        88             |  132        |    66%     | 1000    |  20         |"
   ]
  },
  {
   "cell_type": "code",
   "execution_count": 20,
   "metadata": {
    "collapsed": false
   },
   "outputs": [],
   "source": [
    "#pipeline(['#para#','#fexa#','#mexe#','#abri#','#kala#','#fala#','#teka#'])"
   ]
  },
  {
   "cell_type": "markdown",
   "metadata": {},
   "source": [
    "## Proporcao 55% Irregulares"
   ]
  },
  {
   "cell_type": "markdown",
   "metadata": {},
   "source": [
    "|     Model Name     | Test File     | Total Irregular Verbs | Total Verbs | Proportion | Epochs | Batch Size  |\n",
    "|:------------------:|---------------|----------------------:|-------------|------------|--------|-------------|\n",
    "| prop_55           | prop_55       |        209            |  464        |    55%     | 600    |  20         |"
   ]
  },
  {
   "cell_type": "code",
   "execution_count": 24,
   "metadata": {
    "collapsed": false
   },
   "outputs": [
    {
     "name": "stdout",
     "output_type": "stream",
     "text": [
      "#pE\n",
      "Decodificado Loop: #pE#, Final antes do Loop: ku#\n",
      "#si\n",
      "Decodificado Loop: #sikO#, Final antes do Loop: ku#\n",
      "#si\n",
      "Decodificado Loop: #siku, Final antes do Loop: ku#\n",
      "#di\n",
      "Decodificado Loop: #di#, Final antes do Loop: tu#\n",
      "#pr\n",
      "Decodificado Loop: #prespu#, Final antes do Loop: tu#\n"
     ]
    },
    {
     "data": {
      "text/plain": [
       "(5, 460)"
      ]
     },
     "execution_count": 24,
     "metadata": {},
     "output_type": "execute_result"
    }
   ],
   "source": [
    "model = load_model('../data/prop_55')\n",
    "pipeline(['#pega#','#sega#','#seka#','#testa#','#presta#'])"
   ]
  },
  {
   "cell_type": "code",
   "execution_count": 11,
   "metadata": {},
   "outputs": [
    {
     "name": "stdout",
     "output_type": "stream",
     "text": [
      "#en\n",
      "Decodificado Loop: #enO#, Final antes do Loop: ru#\n",
      "#mE\n",
      "Decodificado Loop: #mEzu#, Final antes do Loop: ru#\n",
      "#xe\n",
      "Decodificado Loop: #xedO#, Final antes do Loop: bu#\n",
      "#xu\n",
      "Decodificado Loop: #xukO#, Final antes do Loop: ku#\n"
     ]
    },
    {
     "data": {
      "text/plain": [
       "(4, 460)"
      ]
     },
     "execution_count": 11,
     "metadata": {},
     "output_type": "execute_result"
    }
   ],
   "source": [
    "model = load_model('../data/prop_55')\n",
    "pipeline(['#ora#',\"#mora#\",'#hetoma#','#joga#'])"
   ]
  },
  {
   "cell_type": "code",
   "execution_count": 12,
   "metadata": {},
   "outputs": [
    {
     "name": "stdout",
     "output_type": "stream",
     "text": [
      "#su\n",
      "Decodificado Loop: #su#, Final antes do Loop: iu#\n",
      "#xe\n",
      "Decodificado Loop: #xebiu, Final antes do Loop: iu#\n"
     ]
    },
    {
     "data": {
      "text/plain": [
       "(2, 460)"
      ]
     },
     "execution_count": 12,
     "metadata": {},
     "output_type": "execute_result"
    }
   ],
   "source": [
    "model = load_model('../data/prop_55')\n",
    "pipeline(['#sortia#','#hemedia#'])"
   ]
  },
  {
   "cell_type": "code",
   "execution_count": 18,
   "metadata": {},
   "outputs": [],
   "source": [
    "model = load_model('../data/prop_55')\n",
    "#pipeline(['#vense#','#proteje#','#eskolie#','#hesebe#'])"
   ]
  },
  {
   "cell_type": "code",
   "execution_count": 20,
   "metadata": {},
   "outputs": [
    {
     "name": "stdout",
     "output_type": "stream",
     "text": [
      "#ko\n",
      "Decodificado Loop: #kompi#, Final antes do Loop: iu#\n",
      "#pr\n",
      "Decodificado Loop: #prek#, Final antes do Loop: iu#\n",
      "#po\n",
      "Decodificado Loop: #po#, Final antes do Loop: iu#\n",
      "#xe\n",
      "Decodificado Loop: #xebaaeeiieaei#, Final antes do Loop: iu#\n"
     ]
    },
    {
     "data": {
      "text/plain": [
       "(4, 460)"
      ]
     },
     "execution_count": 20,
     "metadata": {},
     "output_type": "execute_result"
    }
   ],
   "source": [
    "model = load_model('../data/prop_55')\n",
    "pipeline(['#kompo#','#prepo#','#po#','#hepo#'])"
   ]
  },
  {
   "cell_type": "code",
   "execution_count": 21,
   "metadata": {},
   "outputs": [
    {
     "name": "stdout",
     "output_type": "stream",
     "text": [
      "#te\n",
      "Decodificado Loop: #tendtu, Final antes do Loop: tu#\n",
      "#je\n",
      "Decodificado Loop: #jemdio#, Final antes do Loop: tu#\n",
      "#fi\n",
      "Decodificado Loop: #fimpi#, Final antes do Loop: tu#\n",
      "#xe\n",
      "Decodificado Loop: #xedtu, Final antes do Loop: tu#\n"
     ]
    },
    {
     "data": {
      "text/plain": [
       "(4, 460)"
      ]
     },
     "execution_count": 21,
     "metadata": {},
     "output_type": "execute_result"
    }
   ],
   "source": [
    "model = load_model('../data/prop_55')\n",
    "pipeline(['#tendi#','#jenti#','#fenti#','#hendi#'])"
   ]
  },
  {
   "cell_type": "code",
   "execution_count": 23,
   "metadata": {},
   "outputs": [
    {
     "name": "stdout",
     "output_type": "stream",
     "text": [
      "#tu\n",
      "Decodificado Loop: #tu#, Final antes do Loop: tu#\n",
      "#ko\n",
      "Decodificado Loop: #kobsu#, Final antes do Loop: ru#\n",
      "#go\n",
      "Decodificado Loop: #gopiiu#, Final antes do Loop: tu#\n"
     ]
    },
    {
     "data": {
      "text/plain": [
       "(3, 460)"
      ]
     },
     "execution_count": 23,
     "metadata": {},
     "output_type": "execute_result"
    }
   ],
   "source": [
    "model = load_model('../data/prop_55')\n",
    "pipeline(['#tosi#','#kobri#','#goti#'])"
   ]
  },
  {
   "cell_type": "code",
   "execution_count": 25,
   "metadata": {},
   "outputs": [
    {
     "name": "stdout",
     "output_type": "stream",
     "text": [
      "#ai\n",
      "Decodificado Loop: #aisu, Final antes do Loop: su#\n"
     ]
    },
    {
     "data": {
      "text/plain": [
       "(1, 460)"
      ]
     },
     "execution_count": 25,
     "metadata": {},
     "output_type": "execute_result"
    }
   ],
   "source": [
    "model = load_model('../data/prop_55')\n",
    "pipeline(['#afaze#'])"
   ]
  },
  {
   "cell_type": "code",
   "execution_count": 28,
   "metadata": {},
   "outputs": [
    {
     "name": "stdout",
     "output_type": "stream",
     "text": [
      "#ma\n",
      "Decodificado Loop: #matu, Final antes do Loop: tu#\n",
      "#pa\n",
      "Decodificado Loop: #paxku#, Final antes do Loop: tu#\n",
      "#ba\n",
      "Decodificado Loop: #batogabdnug#, Final antes do Loop: tu#\n"
     ]
    },
    {
     "data": {
      "text/plain": [
       "(3, 460)"
      ]
     },
     "execution_count": 28,
     "metadata": {},
     "output_type": "execute_result"
    }
   ],
   "source": [
    "model = load_model('../data/prop_55')\n",
    "pipeline(['#mata#',\"#paga#\",\"#bate#\"])"
   ]
  },
  {
   "cell_type": "code",
   "execution_count": 8,
   "metadata": {
    "collapsed": true
   },
   "outputs": [],
   "source": [
    "path = '../data/prop_55.csv'\n",
    "X,Y = load_data(path)\n",
    "#model = load_model('../data/prop_55')\n",
    "model.fit(X,Y, epochs=400, batch_size=5,verbose=False)\n",
    "model.save('../data/prop_55_2')"
   ]
  },
  {
   "cell_type": "markdown",
   "metadata": {},
   "source": [
    "|     Model Name     | Test File     | Total Irregular Verbs | Total Verbs | Proportion | Epochs | Batch Size  |\n",
    "|:------------------:|---------------|----------------------:|-------------|------------|--------|-------------|\n",
    "| prop_55_2           | prop_55       |        209            |  464        |    55%     | 1000    |  20         |"
   ]
  },
  {
   "cell_type": "code",
   "execution_count": 9,
   "metadata": {},
   "outputs": [
    {
     "name": "stdout",
     "output_type": "stream",
     "text": [
      "#pE\n",
      "Decodificado Loop: #pEsiki#, Final antes do Loop: ku#\n",
      "#si\n",
      "Decodificado Loop: #sigu#, Final antes do Loop: ku#\n",
      "#sE\n",
      "Decodificado Loop: #sEku, Final antes do Loop: ku#\n",
      "#di\n",
      "Decodificado Loop: #di#, Final antes do Loop: tu#\n",
      "#pr\n",
      "Decodificado Loop: #prespu#, Final antes do Loop: tu#\n"
     ]
    },
    {
     "data": {
      "text/plain": [
       "(5, 460)"
      ]
     },
     "execution_count": 9,
     "metadata": {},
     "output_type": "execute_result"
    }
   ],
   "source": [
    "model = load_model('../data/prop_55_2')\n",
    "pipeline(['#pega#','#sega#','#seka#','#testa#','#presta#'])"
   ]
  },
  {
   "cell_type": "code",
   "execution_count": 31,
   "metadata": {},
   "outputs": [
    {
     "name": "stdout",
     "output_type": "stream",
     "text": [
      "#on\n",
      "Decodificado Loop: #ona#, Final antes do Loop: ru#\n",
      "#mO\n",
      "Decodificado Loop: #mOsa#, Final antes do Loop: ru#\n",
      "#ju\n",
      "Decodificado Loop: #jugu#, Final antes do Loop: ku#\n"
     ]
    },
    {
     "data": {
      "text/plain": [
       "(3, 460)"
      ]
     },
     "execution_count": 31,
     "metadata": {},
     "output_type": "execute_result"
    }
   ],
   "source": [
    "model = load_model('../data/prop_55_2')\n",
    "pipeline(['#ora#',\"#mora#\",'#joga#'])"
   ]
  },
  {
   "cell_type": "code",
   "execution_count": 32,
   "metadata": {},
   "outputs": [
    {
     "name": "stdout",
     "output_type": "stream",
     "text": [
      "#su\n",
      "Decodificado Loop: #su#, Final antes do Loop: iu#\n",
      "#xe\n",
      "Decodificado Loop: #xebiu, Final antes do Loop: iu#\n"
     ]
    },
    {
     "data": {
      "text/plain": [
       "(2, 460)"
      ]
     },
     "execution_count": 32,
     "metadata": {},
     "output_type": "execute_result"
    }
   ],
   "source": [
    "model = load_model('../data/prop_55_2')\n",
    "pipeline(['#sortia#','#hemedia#'])"
   ]
  },
  {
   "cell_type": "code",
   "execution_count": 36,
   "metadata": {},
   "outputs": [
    {
     "name": "stdout",
     "output_type": "stream",
     "text": [
      "#pr\n",
      "Decodificado Loop: #prokepipipibi#, Final antes do Loop: gu#\n"
     ]
    },
    {
     "data": {
      "text/plain": [
       "(1, 460)"
      ]
     },
     "execution_count": 36,
     "metadata": {},
     "output_type": "execute_result"
    }
   ],
   "source": [
    "model = load_model('../data/prop_55_2')\n",
    "pipeline(['#proteje#'])"
   ]
  },
  {
   "cell_type": "code",
   "execution_count": 39,
   "metadata": {},
   "outputs": [
    {
     "name": "stdout",
     "output_type": "stream",
     "text": [
      "#ko\n",
      "Decodificado Loop: #kompi#, Final antes do Loop: iu#\n",
      "#po\n",
      "Decodificado Loop: #po#, Final antes do Loop: iu#\n",
      "#xe\n",
      "Decodificado Loop: #xebaaeeiaeeaieeei#, Final antes do Loop: iu#\n"
     ]
    },
    {
     "data": {
      "text/plain": [
       "(3, 460)"
      ]
     },
     "execution_count": 39,
     "metadata": {},
     "output_type": "execute_result"
    }
   ],
   "source": [
    "model = load_model('../data/prop_55_2')\n",
    "pipeline(['#kompo#','#po#','#hepo#'])"
   ]
  },
  {
   "cell_type": "code",
   "execution_count": 42,
   "metadata": {},
   "outputs": [
    {
     "name": "stdout",
     "output_type": "stream",
     "text": [
      "#je\n",
      "Decodificado Loop: #jentu, Final antes do Loop: tu#\n",
      "#fi\n",
      "Decodificado Loop: #finpu#, Final antes do Loop: tu#\n",
      "#xe\n",
      "Decodificado Loop: #xedtu, Final antes do Loop: tu#\n"
     ]
    },
    {
     "data": {
      "text/plain": [
       "(3, 460)"
      ]
     },
     "execution_count": 42,
     "metadata": {},
     "output_type": "execute_result"
    }
   ],
   "source": [
    "model = load_model('../data/prop_55_2')\n",
    "pipeline(['#jenti#','#fenti#','#hendi#'])"
   ]
  },
  {
   "cell_type": "code",
   "execution_count": 45,
   "metadata": {},
   "outputs": [
    {
     "name": "stdout",
     "output_type": "stream",
     "text": [
      "#tu\n",
      "Decodificado Loop: #tu#, Final antes do Loop: tu#\n",
      "#ko\n",
      "Decodificado Loop: #kodsi#, Final antes do Loop: ru#\n",
      "#go\n",
      "Decodificado Loop: #goti#, Final antes do Loop: tu#\n"
     ]
    },
    {
     "data": {
      "text/plain": [
       "(3, 460)"
      ]
     },
     "execution_count": 45,
     "metadata": {},
     "output_type": "execute_result"
    }
   ],
   "source": [
    "model = load_model('../data/prop_55_2')\n",
    "pipeline(['#tosi#','#kobri#','#goti#'])"
   ]
  },
  {
   "cell_type": "code",
   "execution_count": 47,
   "metadata": {},
   "outputs": [
    {
     "name": "stdout",
     "output_type": "stream",
     "text": [
      "#ai\n",
      "Decodificado Loop: #aisu, Final antes do Loop: su#\n"
     ]
    },
    {
     "data": {
      "text/plain": [
       "(1, 460)"
      ]
     },
     "execution_count": 47,
     "metadata": {},
     "output_type": "execute_result"
    }
   ],
   "source": [
    "model = load_model('../data/prop_55')\n",
    "pipeline(['#afaze#'])"
   ]
  },
  {
   "cell_type": "code",
   "execution_count": 50,
   "metadata": {},
   "outputs": [
    {
     "name": "stdout",
     "output_type": "stream",
     "text": [
      "#ma\n",
      "Decodificado Loop: #matu, Final antes do Loop: tu#\n",
      "#pa\n",
      "Decodificado Loop: #paxuku, Final antes do Loop: ku#\n",
      "#ba\n",
      "Decodificado Loop: #batogabddug#, Final antes do Loop: iu#\n"
     ]
    },
    {
     "data": {
      "text/plain": [
       "(3, 460)"
      ]
     },
     "execution_count": 50,
     "metadata": {},
     "output_type": "execute_result"
    }
   ],
   "source": [
    "model = load_model('../data/prop_55_2')\n",
    "pipeline(['#mata#',\"#paga#\",\"#bate#\"])"
   ]
  },
  {
   "cell_type": "code",
   "execution_count": null,
   "metadata": {},
   "outputs": [],
   "source": []
  }
 ],
 "metadata": {
  "kernelspec": {
   "display_name": "Python 3",
   "language": "python",
   "name": "python3"
  },
  "language_info": {
   "codemirror_mode": {
    "name": "ipython",
    "version": 3
   },
   "file_extension": ".py",
   "mimetype": "text/x-python",
   "name": "python",
   "nbconvert_exporter": "python",
   "pygments_lexer": "ipython3",
   "version": "3.6.0"
  }
 },
 "nbformat": 4,
 "nbformat_minor": 2
}
