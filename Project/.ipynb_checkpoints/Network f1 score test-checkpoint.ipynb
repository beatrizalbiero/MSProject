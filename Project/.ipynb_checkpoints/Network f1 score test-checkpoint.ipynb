{
 "cells": [
  {
   "cell_type": "markdown",
   "metadata": {},
   "source": [
    "### Packages"
   ]
  },
  {
   "cell_type": "code",
   "execution_count": 17,
   "metadata": {
    "collapsed": false
   },
   "outputs": [],
   "source": [
    "import sys\n",
    "import keras\n",
    "from keras.models import Sequential\n",
    "from keras.layers import Dense\n",
    "from keras.models import load_model\n",
    "from keras_metrics import KerasMetrics\n",
    "from keras.callbacks import EarlyStopping\n",
    "from keras import optimizers\n",
    "import numpy as np\n",
    "import random\n",
    "import pickle\n",
    "import decoding2\n",
    "import coding_function as cf\n",
    "import decoding_function as df\n",
    "import csv\n",
    "from Files import nodes\n",
    "import os\n",
    "sys.path.append('../')"
   ]
  },
  {
   "cell_type": "code",
   "execution_count": 4,
   "metadata": {
    "collapsed": false
   },
   "outputs": [],
   "source": [
    "\"\"\"\n",
    "Path Sugestions:\n",
    "Files/training_data_set.csv\n",
    "Files/biased_train1.csv\n",
    "Files/biased_train2.csv\n",
    "Files/prop_55.csv\n",
    "\"\"\"\n",
    "def load_data(path):\n",
    "    import pandas as pd\n",
    "    with open(path,'r') as csvfile:\n",
    "        readcsv = csv.reader(csvfile, delimiter = ',')\n",
    "        phoneticinf = []\n",
    "        phoneticI = []\n",
    "        for row in readcsv:\n",
    "            phoneticinf.append(row[1])\n",
    "            phoneticI.append(row[3])\n",
    "        cf.dataTest(phoneticinf,phoneticI) #tests if dataset is ok\n",
    "        vec_inf = []\n",
    "        vec_I = []\n",
    "        for item in phoneticinf:\n",
    "            vec_inf.append(cf.coding(item))\n",
    "        for item in phoneticI:\n",
    "            vec_I.append(cf.coding(item))   \n",
    "    d = {'infinitivo': phoneticinf, 'vec_inf': vec_inf, 'p pessoa': phoneticI, 'vec_I': vec_I}\n",
    "    df = pd.DataFrame(data=d)\n",
    "    X = np.array(df['vec_inf'].tolist())\n",
    "    Y = np.array(df['vec_I'].tolist())\n",
    "    #X = np.array(list(dictioinf.values())) #input column\n",
    "    #Y = np.array(list(dictioI.values())) #output column\n",
    "    return X,Y\n",
    "\n",
    "def pipeline(verbs):\n",
    "    \"\"\"\n",
    "    Pipeline receives a list of verbs and decodes it.\n",
    "    \n",
    "    :verbs type: list\n",
    "    :r type: string\n",
    "    \"\"\"\n",
    "    test_list = []\n",
    "    for i in verbs:\n",
    "        coding = cf.coding(i)        \n",
    "        test_list.append(coding)\n",
    "    test_list = np.array(test_list)\n",
    "    prediction = model.predict(test_list)\n",
    "    for i in prediction:\n",
    "        print(decoding2.decoding(i))\n",
    "    return test_list.shape"
   ]
  },
  {
   "cell_type": "markdown",
   "metadata": {},
   "source": [
    "### 1. Load Data"
   ]
  },
  {
   "cell_type": "code",
   "execution_count": 5,
   "metadata": {
    "collapsed": true
   },
   "outputs": [
    {
     "data": {
      "text/plain": [
       "579"
      ]
     },
     "execution_count": 5,
     "metadata": {},
     "output_type": "execute_result"
    }
   ],
   "source": [
    "#path = '../data/prop_55.csv' #len 464\n",
    "path = '../data/prop_65.csv'\n",
    "#path = '../data/prop_75.csv'\n",
    "#path = '../data/prop_85.csv'\n",
    "#path = '../data/prop_95.csv'\n",
    "X,Y = load_data(path)\n",
    "len(X)"
   ]
  },
  {
   "cell_type": "markdown",
   "metadata": {},
   "source": [
    "### 2. Fit Neural Net (Optional)"
   ]
  },
  {
   "cell_type": "code",
   "execution_count": 31,
   "metadata": {
    "collapsed": true
   },
   "outputs": [
    {
     "name": "stdout",
     "output_type": "stream",
     "text": [
      "Epoch 1/150\n",
      "579/579 [==============================] - 0s - loss: 0.2605 - fbeta_score_1: 0.2898 - fbeta_score_2: 0.2898 - recall: 0.4924 - precision: 0.2054\n",
      "Epoch 2/150\n",
      "579/579 [==============================] - 0s - loss: 0.2507 - fbeta_score_1: 0.2967 - fbeta_score_2: 0.2967 - recall: 0.4702 - precision: 0.2167\n",
      "Epoch 3/150\n",
      "579/579 [==============================] - 0s - loss: 0.2382 - fbeta_score_1: 0.3066 - fbeta_score_2: 0.3066 - recall: 0.4408 - precision: 0.2351\n",
      "Epoch 4/150\n",
      "579/579 [==============================] - 0s - loss: 0.2265 - fbeta_score_1: 0.3189 - fbeta_score_2: 0.3189 - recall: 0.4156 - precision: 0.2587\n",
      "Epoch 5/150\n",
      "579/579 [==============================] - 0s - loss: 0.2156 - fbeta_score_1: 0.3318 - fbeta_score_2: 0.3318 - recall: 0.3923 - precision: 0.2875\n",
      "Epoch 6/150\n",
      "579/579 [==============================] - 0s - loss: 0.2055 - fbeta_score_1: 0.3470 - fbeta_score_2: 0.3470 - recall: 0.3744 - precision: 0.3234\n",
      "Epoch 7/150\n",
      "579/579 [==============================] - 0s - loss: 0.1963 - fbeta_score_1: 0.3603 - fbeta_score_2: 0.3603 - recall: 0.3581 - precision: 0.3626\n",
      "Epoch 8/150\n",
      "579/579 [==============================] - 0s - loss: 0.1878 - fbeta_score_1: 0.3754 - fbeta_score_2: 0.3754 - recall: 0.3469 - precision: 0.4089\n",
      "Epoch 9/150\n",
      "579/579 [==============================] - 0s - loss: 0.1801 - fbeta_score_1: 0.3893 - fbeta_score_2: 0.3893 - recall: 0.3390 - precision: 0.4572\n",
      "Epoch 10/150\n",
      "579/579 [==============================] - 0s - loss: 0.1731 - fbeta_score_1: 0.4008 - fbeta_score_2: 0.4008 - recall: 0.3329 - precision: 0.5036\n",
      "Epoch 11/150\n",
      "579/579 [==============================] - 0s - loss: 0.1668 - fbeta_score_1: 0.4128 - fbeta_score_2: 0.4128 - recall: 0.3310 - precision: 0.5482\n",
      "Epoch 12/150\n",
      "579/579 [==============================] - 0s - loss: 0.1611 - fbeta_score_1: 0.4230 - fbeta_score_2: 0.4230 - recall: 0.3302 - precision: 0.5885\n",
      "Epoch 13/150\n",
      "579/579 [==============================] - 0s - loss: 0.1560 - fbeta_score_1: 0.4319 - fbeta_score_2: 0.4319 - recall: 0.3304 - precision: 0.6235\n",
      "Epoch 14/150\n",
      "579/579 [==============================] - 0s - loss: 0.1514 - fbeta_score_1: 0.4407 - fbeta_score_2: 0.4407 - recall: 0.3329 - precision: 0.6518\n",
      "Epoch 15/150\n",
      "579/579 [==============================] - 0s - loss: 0.1472 - fbeta_score_1: 0.4494 - fbeta_score_2: 0.4494 - recall: 0.3366 - precision: 0.6761\n",
      "Epoch 16/150\n",
      "579/579 [==============================] - 0s - loss: 0.1435 - fbeta_score_1: 0.4573 - fbeta_score_2: 0.4573 - recall: 0.3408 - precision: 0.6950\n",
      "Epoch 17/150\n",
      "579/579 [==============================] - 0s - loss: 0.1401 - fbeta_score_1: 0.4649 - fbeta_score_2: 0.4649 - recall: 0.3454 - precision: 0.7106\n",
      "Epoch 18/150\n",
      "579/579 [==============================] - 0s - loss: 0.1370 - fbeta_score_1: 0.4728 - fbeta_score_2: 0.4728 - recall: 0.3512 - precision: 0.7233\n",
      "Epoch 19/150\n",
      "579/579 [==============================] - 0s - loss: 0.1342 - fbeta_score_1: 0.4814 - fbeta_score_2: 0.4814 - recall: 0.3581 - precision: 0.7340\n",
      "Epoch 20/150\n",
      "579/579 [==============================] - 0s - loss: 0.1316 - fbeta_score_1: 0.4885 - fbeta_score_2: 0.4885 - recall: 0.3638 - precision: 0.7430\n",
      "Epoch 21/150\n",
      "579/579 [==============================] - 0s - loss: 0.1292 - fbeta_score_1: 0.4958 - fbeta_score_2: 0.4958 - recall: 0.3701 - precision: 0.7505\n",
      "Epoch 22/150\n",
      "579/579 [==============================] - 0s - loss: 0.1270 - fbeta_score_1: 0.5045 - fbeta_score_2: 0.5045 - recall: 0.3780 - precision: 0.7585\n",
      "Epoch 23/150\n",
      "579/579 [==============================] - 0s - loss: 0.1249 - fbeta_score_1: 0.5133 - fbeta_score_2: 0.5133 - recall: 0.3860 - precision: 0.7658\n",
      "Epoch 24/150\n",
      "579/579 [==============================] - 0s - loss: 0.1230 - fbeta_score_1: 0.5200 - fbeta_score_2: 0.5200 - recall: 0.3922 - precision: 0.7714\n",
      "Epoch 25/150\n",
      "579/579 [==============================] - 0s - loss: 0.1212 - fbeta_score_1: 0.5283 - fbeta_score_2: 0.5283 - recall: 0.4001 - precision: 0.7775\n",
      "Epoch 26/150\n",
      "579/579 [==============================] - 0s - loss: 0.1195 - fbeta_score_1: 0.5367 - fbeta_score_2: 0.5367 - recall: 0.4081 - precision: 0.7835\n",
      "Epoch 27/150\n",
      "579/579 [==============================] - 0s - loss: 0.1180 - fbeta_score_1: 0.5447 - fbeta_score_2: 0.5447 - recall: 0.4157 - precision: 0.7896\n",
      "Epoch 28/150\n",
      "579/579 [==============================] - 0s - loss: 0.1164 - fbeta_score_1: 0.5532 - fbeta_score_2: 0.5532 - recall: 0.4239 - precision: 0.7959\n",
      "Epoch 29/150\n",
      "579/579 [==============================] - 0s - loss: 0.1150 - fbeta_score_1: 0.5603 - fbeta_score_2: 0.5603 - recall: 0.4307 - precision: 0.8012\n",
      "Epoch 30/150\n",
      "579/579 [==============================] - 0s - loss: 0.1136 - fbeta_score_1: 0.5676 - fbeta_score_2: 0.5676 - recall: 0.4374 - precision: 0.8080\n",
      "Epoch 31/150\n",
      "579/579 [==============================] - 0s - loss: 0.1123 - fbeta_score_1: 0.5746 - fbeta_score_2: 0.5746 - recall: 0.4445 - precision: 0.8123\n",
      "Epoch 32/150\n",
      "579/579 [==============================] - 0s - loss: 0.1110 - fbeta_score_1: 0.5819 - fbeta_score_2: 0.5819 - recall: 0.4522 - precision: 0.8161\n",
      "Epoch 33/150\n",
      "579/579 [==============================] - 0s - loss: 0.1097 - fbeta_score_1: 0.5878 - fbeta_score_2: 0.5878 - recall: 0.4583 - precision: 0.8193\n",
      "Epoch 34/150\n",
      "579/579 [==============================] - 0s - loss: 0.1085 - fbeta_score_1: 0.5954 - fbeta_score_2: 0.5954 - recall: 0.4661 - precision: 0.8239\n",
      "Epoch 35/150\n",
      "579/579 [==============================] - 0s - loss: 0.1074 - fbeta_score_1: 0.6026 - fbeta_score_2: 0.6026 - recall: 0.4737 - precision: 0.8278\n",
      "Epoch 36/150\n",
      "579/579 [==============================] - 0s - loss: 0.1062 - fbeta_score_1: 0.6098 - fbeta_score_2: 0.6098 - recall: 0.4812 - precision: 0.8321\n",
      "Epoch 37/150\n",
      "579/579 [==============================] - 0s - loss: 0.1051 - fbeta_score_1: 0.6166 - fbeta_score_2: 0.6166 - recall: 0.4883 - precision: 0.8362\n",
      "Epoch 38/150\n",
      "579/579 [==============================] - 0s - loss: 0.1040 - fbeta_score_1: 0.6226 - fbeta_score_2: 0.6226 - recall: 0.4946 - precision: 0.8400\n",
      "Epoch 39/150\n",
      "579/579 [==============================] - 0s - loss: 0.1030 - fbeta_score_1: 0.6290 - fbeta_score_2: 0.6290 - recall: 0.5014 - precision: 0.8437\n",
      "Epoch 40/150\n",
      "579/579 [==============================] - 0s - loss: 0.1020 - fbeta_score_1: 0.6350 - fbeta_score_2: 0.6350 - recall: 0.5079 - precision: 0.8469\n",
      "Epoch 41/150\n",
      "579/579 [==============================] - 0s - loss: 0.1010 - fbeta_score_1: 0.6402 - fbeta_score_2: 0.6402 - recall: 0.5136 - precision: 0.8496\n",
      "Epoch 42/150\n",
      "579/579 [==============================] - 0s - loss: 0.1000 - fbeta_score_1: 0.6456 - fbeta_score_2: 0.6456 - recall: 0.5194 - precision: 0.8530\n",
      "Epoch 43/150\n",
      "579/579 [==============================] - 0s - loss: 0.0990 - fbeta_score_1: 0.6518 - fbeta_score_2: 0.6518 - recall: 0.5259 - precision: 0.8567\n",
      "Epoch 44/150\n",
      "579/579 [==============================] - 0s - loss: 0.0981 - fbeta_score_1: 0.6574 - fbeta_score_2: 0.6574 - recall: 0.5321 - precision: 0.8597\n",
      "Epoch 45/150\n",
      "579/579 [==============================] - 0s - loss: 0.0972 - fbeta_score_1: 0.6637 - fbeta_score_2: 0.6637 - recall: 0.5393 - precision: 0.8629\n",
      "Epoch 46/150\n",
      "579/579 [==============================] - 0s - loss: 0.0963 - fbeta_score_1: 0.6707 - fbeta_score_2: 0.6707 - recall: 0.5472 - precision: 0.8663\n",
      "Epoch 47/150\n",
      "579/579 [==============================] - 0s - loss: 0.0954 - fbeta_score_1: 0.6757 - fbeta_score_2: 0.6757 - recall: 0.5527 - precision: 0.8690\n",
      "Epoch 48/150\n",
      "579/579 [==============================] - 0s - loss: 0.0946 - fbeta_score_1: 0.6807 - fbeta_score_2: 0.6807 - recall: 0.5583 - precision: 0.8721\n",
      "Epoch 49/150\n",
      "579/579 [==============================] - 0s - loss: 0.0937 - fbeta_score_1: 0.6863 - fbeta_score_2: 0.6863 - recall: 0.5647 - precision: 0.8747\n",
      "Epoch 50/150\n",
      "579/579 [==============================] - 0s - loss: 0.0929 - fbeta_score_1: 0.6924 - fbeta_score_2: 0.6924 - recall: 0.5718 - precision: 0.8773\n",
      "Epoch 51/150\n",
      "579/579 [==============================] - 0s - loss: 0.0921 - fbeta_score_1: 0.6971 - fbeta_score_2: 0.6971 - recall: 0.5774 - precision: 0.8794\n",
      "Epoch 52/150\n",
      "579/579 [==============================] - 0s - loss: 0.0913 - fbeta_score_1: 0.7006 - fbeta_score_2: 0.7006 - recall: 0.5816 - precision: 0.8808\n",
      "Epoch 53/150\n",
      "579/579 [==============================] - 0s - loss: 0.0905 - fbeta_score_1: 0.7053 - fbeta_score_2: 0.7053 - recall: 0.5871 - precision: 0.8831\n",
      "Epoch 54/150\n",
      "579/579 [==============================] - 0s - loss: 0.0897 - fbeta_score_1: 0.7098 - fbeta_score_2: 0.7098 - recall: 0.5926 - precision: 0.8848\n",
      "Epoch 55/150\n",
      "579/579 [==============================] - 0s - loss: 0.0889 - fbeta_score_1: 0.7140 - fbeta_score_2: 0.7140 - recall: 0.5977 - precision: 0.8866\n",
      "Epoch 56/150\n",
      "579/579 [==============================] - 0s - loss: 0.0882 - fbeta_score_1: 0.7180 - fbeta_score_2: 0.7180 - recall: 0.6025 - precision: 0.8885\n",
      "Epoch 57/150\n",
      "579/579 [==============================] - 0s - loss: 0.0875 - fbeta_score_1: 0.7219 - fbeta_score_2: 0.7219 - recall: 0.6072 - precision: 0.8900\n",
      "Epoch 58/150\n",
      "579/579 [==============================] - 0s - loss: 0.0867 - fbeta_score_1: 0.7255 - fbeta_score_2: 0.7255 - recall: 0.6116 - precision: 0.8915\n",
      "Epoch 59/150\n",
      "579/579 [==============================] - 0s - loss: 0.0860 - fbeta_score_1: 0.7297 - fbeta_score_2: 0.7297 - recall: 0.6167 - precision: 0.8933\n",
      "Epoch 60/150\n",
      "579/579 [==============================] - 0s - loss: 0.0853 - fbeta_score_1: 0.7341 - fbeta_score_2: 0.7341 - recall: 0.6222 - precision: 0.8950\n",
      "Epoch 61/150\n",
      "579/579 [==============================] - 0s - loss: 0.0846 - fbeta_score_1: 0.7387 - fbeta_score_2: 0.7387 - recall: 0.6278 - precision: 0.8971\n",
      "Epoch 62/150\n",
      "579/579 [==============================] - 0s - loss: 0.0839 - fbeta_score_1: 0.7420 - fbeta_score_2: 0.7420 - recall: 0.6319 - precision: 0.8987\n",
      "Epoch 63/150\n",
      "579/579 [==============================] - 0s - loss: 0.0832 - fbeta_score_1: 0.7462 - fbeta_score_2: 0.7462 - recall: 0.6371 - precision: 0.9004\n",
      "Epoch 64/150\n",
      "579/579 [==============================] - 0s - loss: 0.0826 - fbeta_score_1: 0.7494 - fbeta_score_2: 0.7494 - recall: 0.6410 - precision: 0.9021\n",
      "Epoch 65/150\n",
      "579/579 [==============================] - 0s - loss: 0.0819 - fbeta_score_1: 0.7526 - fbeta_score_2: 0.7526 - recall: 0.6446 - precision: 0.9040\n",
      "Epoch 66/150\n",
      "579/579 [==============================] - 0s - loss: 0.0813 - fbeta_score_1: 0.7558 - fbeta_score_2: 0.7558 - recall: 0.6485 - precision: 0.9057\n",
      "Epoch 67/150\n",
      "579/579 [==============================] - 0s - loss: 0.0806 - fbeta_score_1: 0.7596 - fbeta_score_2: 0.7596 - recall: 0.6531 - precision: 0.9077\n",
      "Epoch 68/150\n",
      "579/579 [==============================] - 0s - loss: 0.0800 - fbeta_score_1: 0.7632 - fbeta_score_2: 0.7632 - recall: 0.6577 - precision: 0.9091\n",
      "Epoch 69/150\n",
      "579/579 [==============================] - 0s - loss: 0.0794 - fbeta_score_1: 0.7667 - fbeta_score_2: 0.7667 - recall: 0.6623 - precision: 0.9103\n",
      "Epoch 70/150\n",
      "579/579 [==============================] - 0s - loss: 0.0788 - fbeta_score_1: 0.7701 - fbeta_score_2: 0.7701 - recall: 0.6667 - precision: 0.9114\n",
      "Epoch 71/150\n",
      "579/579 [==============================] - 0s - loss: 0.0782 - fbeta_score_1: 0.7731 - fbeta_score_2: 0.7731 - recall: 0.6703 - precision: 0.9132\n",
      "Epoch 72/150\n",
      "579/579 [==============================] - 0s - loss: 0.0776 - fbeta_score_1: 0.7761 - fbeta_score_2: 0.7761 - recall: 0.6740 - precision: 0.9146\n",
      "Epoch 73/150\n",
      "579/579 [==============================] - 0s - loss: 0.0770 - fbeta_score_1: 0.7792 - fbeta_score_2: 0.7792 - recall: 0.6778 - precision: 0.9161\n",
      "Epoch 74/150\n",
      "579/579 [==============================] - 0s - loss: 0.0764 - fbeta_score_1: 0.7816 - fbeta_score_2: 0.7816 - recall: 0.6810 - precision: 0.9169\n",
      "Epoch 75/150\n",
      "579/579 [==============================] - 0s - loss: 0.0758 - fbeta_score_1: 0.7846 - fbeta_score_2: 0.7846 - recall: 0.6851 - precision: 0.9179\n",
      "Epoch 76/150\n",
      "579/579 [==============================] - 0s - loss: 0.0753 - fbeta_score_1: 0.7872 - fbeta_score_2: 0.7872 - recall: 0.6886 - precision: 0.9187\n",
      "Epoch 77/150\n",
      "579/579 [==============================] - 0s - loss: 0.0747 - fbeta_score_1: 0.7900 - fbeta_score_2: 0.7900 - recall: 0.6925 - precision: 0.9195\n",
      "Epoch 78/150\n",
      "579/579 [==============================] - 0s - loss: 0.0742 - fbeta_score_1: 0.7930 - fbeta_score_2: 0.7930 - recall: 0.6964 - precision: 0.9207\n",
      "Epoch 79/150\n",
      "579/579 [==============================] - 0s - loss: 0.0736 - fbeta_score_1: 0.7956 - fbeta_score_2: 0.7956 - recall: 0.6999 - precision: 0.9216\n",
      "Epoch 80/150\n",
      "579/579 [==============================] - 0s - loss: 0.0731 - fbeta_score_1: 0.7977 - fbeta_score_2: 0.7977 - recall: 0.7028 - precision: 0.9222\n",
      "Epoch 81/150\n",
      "579/579 [==============================] - 0s - loss: 0.0726 - fbeta_score_1: 0.8002 - fbeta_score_2: 0.8002 - recall: 0.7063 - precision: 0.9229\n",
      "Epoch 82/150\n",
      "579/579 [==============================] - 0s - loss: 0.0721 - fbeta_score_1: 0.8029 - fbeta_score_2: 0.8029 - recall: 0.7101 - precision: 0.9237\n",
      "Epoch 83/150\n",
      "579/579 [==============================] - 0s - loss: 0.0715 - fbeta_score_1: 0.8056 - fbeta_score_2: 0.8056 - recall: 0.7138 - precision: 0.9245\n",
      "Epoch 84/150\n",
      "579/579 [==============================] - 0s - loss: 0.0710 - fbeta_score_1: 0.8080 - fbeta_score_2: 0.8080 - recall: 0.7170 - precision: 0.9253\n",
      "Epoch 85/150\n",
      "579/579 [==============================] - 0s - loss: 0.0705 - fbeta_score_1: 0.8107 - fbeta_score_2: 0.8107 - recall: 0.7208 - precision: 0.9263\n",
      "Epoch 86/150\n",
      "579/579 [==============================] - 0s - loss: 0.0700 - fbeta_score_1: 0.8137 - fbeta_score_2: 0.8137 - recall: 0.7249 - precision: 0.9273\n",
      "Epoch 87/150\n",
      "579/579 [==============================] - 0s - loss: 0.0696 - fbeta_score_1: 0.8158 - fbeta_score_2: 0.8158 - recall: 0.7279 - precision: 0.9280\n",
      "Epoch 88/150\n",
      "579/579 [==============================] - 0s - loss: 0.0691 - fbeta_score_1: 0.8182 - fbeta_score_2: 0.8182 - recall: 0.7310 - precision: 0.9290\n",
      "Epoch 89/150\n",
      "579/579 [==============================] - 0s - loss: 0.0686 - fbeta_score_1: 0.8201 - fbeta_score_2: 0.8201 - recall: 0.7338 - precision: 0.9295\n",
      "Epoch 90/150\n",
      "579/579 [==============================] - 0s - loss: 0.0681 - fbeta_score_1: 0.8222 - fbeta_score_2: 0.8222 - recall: 0.7368 - precision: 0.9301\n",
      "Epoch 91/150\n",
      "579/579 [==============================] - 0s - loss: 0.0677 - fbeta_score_1: 0.8245 - fbeta_score_2: 0.8245 - recall: 0.7399 - precision: 0.9310\n",
      "Epoch 92/150\n",
      "579/579 [==============================] - 0s - loss: 0.0672 - fbeta_score_1: 0.8265 - fbeta_score_2: 0.8265 - recall: 0.7428 - precision: 0.9316\n",
      "Epoch 93/150\n",
      "579/579 [==============================] - 0s - loss: 0.0668 - fbeta_score_1: 0.8286 - fbeta_score_2: 0.8286 - recall: 0.7458 - precision: 0.9322\n",
      "Epoch 94/150\n",
      "579/579 [==============================] - 0s - loss: 0.0663 - fbeta_score_1: 0.8305 - fbeta_score_2: 0.8305 - recall: 0.7485 - precision: 0.9329\n",
      "Epoch 95/150\n",
      "579/579 [==============================] - 0s - loss: 0.0659 - fbeta_score_1: 0.8329 - fbeta_score_2: 0.8329 - recall: 0.7518 - precision: 0.9336\n",
      "Epoch 96/150\n",
      "579/579 [==============================] - 0s - loss: 0.0654 - fbeta_score_1: 0.8349 - fbeta_score_2: 0.8349 - recall: 0.7545 - precision: 0.9346\n",
      "Epoch 97/150\n",
      "579/579 [==============================] - 0s - loss: 0.0650 - fbeta_score_1: 0.8368 - fbeta_score_2: 0.8368 - recall: 0.7568 - precision: 0.9356\n",
      "Epoch 98/150\n",
      "579/579 [==============================] - 0s - loss: 0.0646 - fbeta_score_1: 0.8385 - fbeta_score_2: 0.8385 - recall: 0.7593 - precision: 0.9362\n",
      "Epoch 99/150\n",
      "579/579 [==============================] - 0s - loss: 0.0641 - fbeta_score_1: 0.8408 - fbeta_score_2: 0.8408 - recall: 0.7625 - precision: 0.9370\n",
      "Epoch 100/150\n",
      "579/579 [==============================] - 0s - loss: 0.0637 - fbeta_score_1: 0.8426 - fbeta_score_2: 0.8426 - recall: 0.7652 - precision: 0.9376\n",
      "Epoch 101/150\n",
      "579/579 [==============================] - 0s - loss: 0.0633 - fbeta_score_1: 0.8448 - fbeta_score_2: 0.8448 - recall: 0.7683 - precision: 0.9383\n",
      "Epoch 102/150\n",
      "579/579 [==============================] - 0s - loss: 0.0629 - fbeta_score_1: 0.8466 - fbeta_score_2: 0.8466 - recall: 0.7709 - precision: 0.9388\n",
      "Epoch 103/150\n",
      "579/579 [==============================] - 0s - loss: 0.0625 - fbeta_score_1: 0.8486 - fbeta_score_2: 0.8486 - recall: 0.7736 - precision: 0.9398\n",
      "Epoch 104/150\n",
      "579/579 [==============================] - 0s - loss: 0.0621 - fbeta_score_1: 0.8505 - fbeta_score_2: 0.8505 - recall: 0.7763 - precision: 0.9404\n",
      "Epoch 105/150\n",
      "579/579 [==============================] - 0s - loss: 0.0617 - fbeta_score_1: 0.8521 - fbeta_score_2: 0.8521 - recall: 0.7784 - precision: 0.9410\n",
      "Epoch 106/150\n",
      "579/579 [==============================] - 0s - loss: 0.0613 - fbeta_score_1: 0.8539 - fbeta_score_2: 0.8539 - recall: 0.7813 - precision: 0.9415\n",
      "Epoch 107/150\n",
      "579/579 [==============================] - 0s - loss: 0.0609 - fbeta_score_1: 0.8553 - fbeta_score_2: 0.8553 - recall: 0.7832 - precision: 0.9420\n",
      "Epoch 108/150\n",
      "579/579 [==============================] - 0s - loss: 0.0605 - fbeta_score_1: 0.8571 - fbeta_score_2: 0.8571 - recall: 0.7859 - precision: 0.9425\n",
      "Epoch 109/150\n",
      "579/579 [==============================] - 0s - loss: 0.0602 - fbeta_score_1: 0.8589 - fbeta_score_2: 0.8589 - recall: 0.7884 - precision: 0.9433\n",
      "Epoch 110/150\n",
      "579/579 [==============================] - 0s - loss: 0.0598 - fbeta_score_1: 0.8605 - fbeta_score_2: 0.8605 - recall: 0.7906 - precision: 0.9439\n",
      "Epoch 111/150\n",
      "579/579 [==============================] - 0s - loss: 0.0594 - fbeta_score_1: 0.8620 - fbeta_score_2: 0.8620 - recall: 0.7928 - precision: 0.9444\n",
      "Epoch 112/150\n",
      "579/579 [==============================] - 0s - loss: 0.0591 - fbeta_score_1: 0.8633 - fbeta_score_2: 0.8633 - recall: 0.7946 - precision: 0.9450\n",
      "Epoch 113/150\n",
      "579/579 [==============================] - 0s - loss: 0.0587 - fbeta_score_1: 0.8646 - fbeta_score_2: 0.8646 - recall: 0.7966 - precision: 0.9453\n",
      "Epoch 114/150\n",
      "579/579 [==============================] - 0s - loss: 0.0583 - fbeta_score_1: 0.8663 - fbeta_score_2: 0.8663 - recall: 0.7990 - precision: 0.9459\n",
      "Epoch 115/150\n",
      "579/579 [==============================] - 0s - loss: 0.0580 - fbeta_score_1: 0.8676 - fbeta_score_2: 0.8676 - recall: 0.8007 - precision: 0.9467\n",
      "Epoch 116/150\n",
      "579/579 [==============================] - 0s - loss: 0.0576 - fbeta_score_1: 0.8689 - fbeta_score_2: 0.8689 - recall: 0.8026 - precision: 0.9470\n",
      "Epoch 117/150\n",
      "579/579 [==============================] - 0s - loss: 0.0573 - fbeta_score_1: 0.8705 - fbeta_score_2: 0.8705 - recall: 0.8051 - precision: 0.9474\n",
      "Epoch 118/150\n",
      "579/579 [==============================] - 0s - loss: 0.0570 - fbeta_score_1: 0.8718 - fbeta_score_2: 0.8718 - recall: 0.8069 - precision: 0.9480\n",
      "Epoch 119/150\n",
      "579/579 [==============================] - 0s - loss: 0.0566 - fbeta_score_1: 0.8732 - fbeta_score_2: 0.8732 - recall: 0.8090 - precision: 0.9485\n",
      "Epoch 120/150\n",
      "579/579 [==============================] - 0s - loss: 0.0563 - fbeta_score_1: 0.8745 - fbeta_score_2: 0.8745 - recall: 0.8108 - precision: 0.9490\n",
      "Epoch 121/150\n",
      "579/579 [==============================] - 0s - loss: 0.0559 - fbeta_score_1: 0.8761 - fbeta_score_2: 0.8761 - recall: 0.8132 - precision: 0.9496\n",
      "Epoch 122/150\n",
      "579/579 [==============================] - 0s - loss: 0.0556 - fbeta_score_1: 0.8774 - fbeta_score_2: 0.8774 - recall: 0.8153 - precision: 0.9498\n",
      "Epoch 123/150\n",
      "579/579 [==============================] - 0s - loss: 0.0553 - fbeta_score_1: 0.8784 - fbeta_score_2: 0.8784 - recall: 0.8168 - precision: 0.9501\n",
      "Epoch 124/150\n",
      "579/579 [==============================] - 0s - loss: 0.0550 - fbeta_score_1: 0.8796 - fbeta_score_2: 0.8796 - recall: 0.8185 - precision: 0.9505\n",
      "Epoch 125/150\n",
      "579/579 [==============================] - 0s - loss: 0.0547 - fbeta_score_1: 0.8808 - fbeta_score_2: 0.8808 - recall: 0.8203 - precision: 0.9510\n",
      "Epoch 126/150\n",
      "579/579 [==============================] - 0s - loss: 0.0543 - fbeta_score_1: 0.8819 - fbeta_score_2: 0.8819 - recall: 0.8218 - precision: 0.9514\n",
      "Epoch 127/150\n",
      "579/579 [==============================] - 0s - loss: 0.0540 - fbeta_score_1: 0.8832 - fbeta_score_2: 0.8832 - recall: 0.8237 - precision: 0.9520\n",
      "Epoch 128/150\n",
      "579/579 [==============================] - 0s - loss: 0.0537 - fbeta_score_1: 0.8842 - fbeta_score_2: 0.8842 - recall: 0.8252 - precision: 0.9524\n",
      "Epoch 129/150\n",
      "579/579 [==============================] - 0s - loss: 0.0534 - fbeta_score_1: 0.8850 - fbeta_score_2: 0.8850 - recall: 0.8263 - precision: 0.9527\n",
      "Epoch 130/150\n",
      "579/579 [==============================] - 0s - loss: 0.0531 - fbeta_score_1: 0.8865 - fbeta_score_2: 0.8865 - recall: 0.8285 - precision: 0.9533\n",
      "Epoch 131/150\n",
      "579/579 [==============================] - 0s - loss: 0.0528 - fbeta_score_1: 0.8880 - fbeta_score_2: 0.8880 - recall: 0.8306 - precision: 0.9538\n",
      "Epoch 132/150\n",
      "579/579 [==============================] - 0s - loss: 0.0525 - fbeta_score_1: 0.8894 - fbeta_score_2: 0.8894 - recall: 0.8328 - precision: 0.9541\n",
      "Epoch 133/150\n",
      "579/579 [==============================] - 0s - loss: 0.0522 - fbeta_score_1: 0.8904 - fbeta_score_2: 0.8904 - recall: 0.8343 - precision: 0.9546\n",
      "Epoch 134/150\n",
      "579/579 [==============================] - 0s - loss: 0.0519 - fbeta_score_1: 0.8914 - fbeta_score_2: 0.8914 - recall: 0.8357 - precision: 0.9550\n",
      "Epoch 135/150\n",
      "579/579 [==============================] - 0s - loss: 0.0516 - fbeta_score_1: 0.8922 - fbeta_score_2: 0.8922 - recall: 0.8370 - precision: 0.9552\n",
      "Epoch 136/150\n",
      "579/579 [==============================] - 0s - loss: 0.0514 - fbeta_score_1: 0.8932 - fbeta_score_2: 0.8932 - recall: 0.8385 - precision: 0.9556\n",
      "Epoch 137/150\n",
      "579/579 [==============================] - 0s - loss: 0.0511 - fbeta_score_1: 0.8941 - fbeta_score_2: 0.8941 - recall: 0.8397 - precision: 0.9560\n",
      "Epoch 138/150\n",
      "579/579 [==============================] - 0s - loss: 0.0508 - fbeta_score_1: 0.8948 - fbeta_score_2: 0.8948 - recall: 0.8408 - precision: 0.9561\n",
      "Epoch 139/150\n",
      "579/579 [==============================] - 0s - loss: 0.0505 - fbeta_score_1: 0.8957 - fbeta_score_2: 0.8957 - recall: 0.8421 - precision: 0.9565\n",
      "Epoch 140/150\n",
      "579/579 [==============================] - 0s - loss: 0.0503 - fbeta_score_1: 0.8967 - fbeta_score_2: 0.8967 - recall: 0.8437 - precision: 0.9569\n",
      "Epoch 141/150\n",
      "579/579 [==============================] - 0s - loss: 0.0500 - fbeta_score_1: 0.8974 - fbeta_score_2: 0.8974 - recall: 0.8447 - precision: 0.9572\n",
      "Epoch 142/150\n",
      "579/579 [==============================] - 0s - loss: 0.0497 - fbeta_score_1: 0.8982 - fbeta_score_2: 0.8982 - recall: 0.8459 - precision: 0.9573\n",
      "Epoch 143/150\n",
      "579/579 [==============================] - 0s - loss: 0.0495 - fbeta_score_1: 0.8991 - fbeta_score_2: 0.8991 - recall: 0.8473 - precision: 0.9575\n",
      "Epoch 144/150\n",
      "579/579 [==============================] - 0s - loss: 0.0492 - fbeta_score_1: 0.8999 - fbeta_score_2: 0.8999 - recall: 0.8486 - precision: 0.9578\n",
      "Epoch 145/150\n",
      "579/579 [==============================] - 0s - loss: 0.0489 - fbeta_score_1: 0.9010 - fbeta_score_2: 0.9010 - recall: 0.8501 - precision: 0.9582\n",
      "Epoch 146/150\n",
      "579/579 [==============================] - 0s - loss: 0.0487 - fbeta_score_1: 0.9016 - fbeta_score_2: 0.9016 - recall: 0.8511 - precision: 0.9585\n",
      "Epoch 147/150\n",
      "579/579 [==============================] - 0s - loss: 0.0484 - fbeta_score_1: 0.9023 - fbeta_score_2: 0.9023 - recall: 0.8521 - precision: 0.9587\n",
      "Epoch 148/150\n",
      "579/579 [==============================] - 0s - loss: 0.0482 - fbeta_score_1: 0.9033 - fbeta_score_2: 0.9033 - recall: 0.8535 - precision: 0.9591\n",
      "Epoch 149/150\n",
      "579/579 [==============================] - 0s - loss: 0.0479 - fbeta_score_1: 0.9043 - fbeta_score_2: 0.9043 - recall: 0.8551 - precision: 0.9595\n",
      "Epoch 150/150\n",
      "579/579 [==============================] - 0s - loss: 0.0477 - fbeta_score_1: 0.9053 - fbeta_score_2: 0.9053 - recall: 0.8564 - precision: 0.9601\n",
      "576/579 [============================>.] - ETA: 0s\n",
      "fbeta_score: 90.25%\n"
     ]
    }
   ],
   "source": [
    "# 1. Define Model\n",
    "model = Sequential()\n",
    "model.add(Dense(460, input_shape=(460,), activation='sigmoid'))\n",
    "\n",
    "\n",
    "# 2. Compile model\n",
    "keras_metrics = KerasMetrics()\n",
    "f1_score = keras_metrics.fbeta_score\n",
    "model.compile( \n",
    "    optimizer='adam', \n",
    "    loss='mean_squared_error',\n",
    "    metrics = [f1_score, \n",
    "                           keras_metrics.fbeta_score,\n",
    "                           keras_metrics.recall,\n",
    "                          keras_metrics.precision]\n",
    "            )\n",
    "\n",
    "# 3. Fit model\n",
    "stopper = EarlyStopping(monitor='fbeta_score_1', min_delta=0.00005, patience=50, verbose=1, mode='max')\n",
    "model.fit(X,Y,epochs = 150, batch_size=600,verbose=False,callbacks= [stopper])\n",
    "\n",
    "# 4. Evaluate model\n",
    "scores = model.evaluate(X, Y)\n",
    "print(\"\\n%s: %.2f%%\" % (model.metrics_names[1], scores[1]*100))\n",
    "\n",
    "# 5. Save model\n",
    "#model.save('../data/f1_test')"
   ]
  },
  {
   "cell_type": "markdown",
   "metadata": {},
   "source": [
    "### 2. (Or Load Trained Model)"
   ]
  },
  {
   "cell_type": "code",
   "execution_count": 4,
   "metadata": {
    "collapsed": true
   },
   "outputs": [],
   "source": [
    "model = load_model('../data/prop_55_batch_353')\n",
    "#model = load_model('../data/biased_model_test1')"
   ]
  },
  {
   "cell_type": "markdown",
   "metadata": {},
   "source": [
    "#### 2.1 Train existing model"
   ]
  },
  {
   "cell_type": "code",
   "execution_count": 46,
   "metadata": {
    "collapsed": false
   },
   "outputs": [],
   "source": [
    "model = load_model('../data/prop_65_batch_579')\n",
    "model.fit(X,Y, epochs=400, batch_size=579,verbose=False)\n",
    "model.save('../data/prop_65_batch_579')"
   ]
  },
  {
   "cell_type": "markdown",
   "metadata": {},
   "source": [
    "### 3. Check Results\n",
    "pipeline(['#para#','#fexa#','#mexe#','#konta#','#testa#','#abri#','#kala#','#fala#'])\n",
    "\n",
    "|       \t|       \t| front \t| middle  \t| back    \t|\n",
    "|:-----:\t|-------\t|------:\t|---------\t|---------\t|\n",
    "|       \t|       \t| v/u   \t| v/u     \t| v/u     \t|\n",
    "|  **int**  | **stop**  | b/p   \t| d/t     \t| g/k     \t|\n",
    "|       \t| **nasal** | m/-   \t| n/-     \t| -       \t|\n",
    "| **cont**  | **fric**  | v/f   \t| z/s    \t| j/x   \t|\n",
    "|       \t| **liq**   | l/-   \t| r/-     \t| -/h     \t|\n",
    "| **vowel** | **high**  | e/i   \t| -       \t| o/u     \t|\n",
    "|       \t| **low**   | -/E   \t| -/a     \t| -/O     \t|"
   ]
  },
  {
   "cell_type": "markdown",
   "metadata": {},
   "source": [
    "## Results:\n",
    "|     Model Name     | Test File     | Total Irregular Verbs | Total Verbs | Proportion | Epochs | Batch Size |\n",
    "|:------------------:|---------------|----------------------:|-------------|------------|--------|-------------|\n",
    "| biased_model_test1 | biased_train_1 |                    66 | 139         | 47%        | 600    |  20          |"
   ]
  },
  {
   "cell_type": "code",
   "execution_count": 45,
   "metadata": {
    "collapsed": false
   },
   "outputs": [
    {
     "name": "stdout",
     "output_type": "stream",
     "text": [
      "#pa\n",
      "Decodificado Loop: #paru, Final antes do Loop: ru#\n",
      "#fe\n",
      "Decodificado Loop: #feku#, Final antes do Loop: xu#\n",
      "#me\n",
      "Decodificado Loop: #mexu, Final antes do Loop: xu#\n",
      "#ko\n",
      "Decodificado Loop: #ko#, Final antes do Loop: tu#\n",
      "#tE\n",
      "Decodificado Loop: #tEspu#, Final antes do Loop: tu#\n",
      "#ag\n",
      "Decodificado Loop: #agva#, Final antes do Loop: zu#\n",
      "#pa\n",
      "Decodificado Loop: #palu, Final antes do Loop: lu#\n",
      "#fa\n",
      "Decodificado Loop: #falu, Final antes do Loop: lu#\n"
     ]
    },
    {
     "data": {
      "text/plain": [
       "(8, 460)"
      ]
     },
     "execution_count": 45,
     "metadata": {},
     "output_type": "execute_result"
    }
   ],
   "source": [
    "model = load_model('../data/biased_model_test1')\n",
    "pipeline(['#para#','#fexa#','#mexe#','#konta#','#testa#','#abri#','#kala#','#fala#'])"
   ]
  },
  {
   "cell_type": "markdown",
   "metadata": {},
   "source": [
    "|     Model Name     | Test File     | Total Irregular Verbs | Total Verbs | Proportion | Epochs | Batch Sizes |\n",
    "|:------------------:|---------------|----------------------:|-------------|------------|--------|-------------|\n",
    "| unbiased_model | training_data_set |          151          |    410      |     37%    | 600    |  20          |"
   ]
  },
  {
   "cell_type": "code",
   "execution_count": 78,
   "metadata": {
    "collapsed": false
   },
   "outputs": [
    {
     "name": "stdout",
     "output_type": "stream",
     "text": [
      "#pa\n",
      "Decodificado Loop: #pari#, Final antes do Loop: ru#\n",
      "#fe\n",
      "Decodificado Loop: #fexu, Final antes do Loop: xu#\n",
      "#me\n",
      "Decodificado Loop: #mexu, Final antes do Loop: xu#\n",
      "#ab\n",
      "Decodificado Loop: #abru, Final antes do Loop: ru#\n",
      "#ka\n",
      "Decodificado Loop: #kalu, Final antes do Loop: lu#\n",
      "#fa\n",
      "Decodificado Loop: #falu, Final antes do Loop: lu#\n",
      "#te\n",
      "Decodificado Loop: #teku, Final antes do Loop: ku#\n"
     ]
    },
    {
     "data": {
      "text/plain": [
       "(7, 460)"
      ]
     },
     "execution_count": 78,
     "metadata": {},
     "output_type": "execute_result"
    }
   ],
   "source": [
    "model = load_model('../data/unbiased_model')\n",
    "pipeline(['#para#','#fexa#','#mexe#','#abri#','#kala#','#fala#','#teka#'])"
   ]
  },
  {
   "cell_type": "markdown",
   "metadata": {},
   "source": [
    "|     Model Name     | Test File     | Total Irregular Verbs | Total Verbs | Proportion | Epochs | Batch Size  |\n",
    "|:------------------:|---------------|----------------------:|-------------|------------|--------|-------------|\n",
    "| biased_model_test2 | biased_train2 |        88             |  132        |    66%     | 600    |  20         |"
   ]
  },
  {
   "cell_type": "code",
   "execution_count": 4,
   "metadata": {
    "collapsed": true
   },
   "outputs": [],
   "source": [
    "model = load_model('../data/biased_model_test2')"
   ]
  },
  {
   "cell_type": "code",
   "execution_count": 21,
   "metadata": {
    "collapsed": false
   },
   "outputs": [],
   "source": [
    "#pipeline(['#fexa#','#mexe#','#konta#','#testa#','#kala#','#fala#',\"#bota#\"])"
   ]
  },
  {
   "cell_type": "markdown",
   "metadata": {},
   "source": [
    "|     Model Name     | Test File     | Total Irregular Verbs | Total Verbs | Proportion | Epochs | Batch Size  |\n",
    "|:------------------:|---------------|----------------------:|-------------|------------|--------|-------------|\n",
    "| biased_model_test3 | biased_train3 |        88             |  156        |    50%     | 600    |  20         |"
   ]
  },
  {
   "cell_type": "code",
   "execution_count": 5,
   "metadata": {
    "collapsed": true
   },
   "outputs": [],
   "source": [
    "model = load_model('../data/biased_model_test3')"
   ]
  },
  {
   "cell_type": "code",
   "execution_count": 6,
   "metadata": {
    "collapsed": false
   },
   "outputs": [
    {
     "name": "stdout",
     "output_type": "stream",
     "text": [
      "#pa\n",
      "Decodificado Loop: #paru, Final antes do Loop: ru#\n",
      "#fi\n",
      "Decodificado Loop: #fiku#, Final antes do Loop: xu#\n",
      "#me\n",
      "Decodificado Loop: #mesu, Final antes do Loop: su#\n",
      "#ko\n",
      "Decodificado Loop: #ko#, Final antes do Loop: tu#\n",
      "#dE\n",
      "Decodificado Loop: #dE#, Final antes do Loop: tu#\n",
      "#pa\n",
      "Decodificado Loop: #palu, Final antes do Loop: lu#\n",
      "#fa\n",
      "Decodificado Loop: #falu, Final antes do Loop: lu#\n"
     ]
    },
    {
     "data": {
      "text/plain": [
       "(7, 460)"
      ]
     },
     "execution_count": 6,
     "metadata": {},
     "output_type": "execute_result"
    }
   ],
   "source": [
    "pipeline(['#para#','#fexa#','#mexe#','#konta#','#testa#','#kala#','#fala#'])"
   ]
  },
  {
   "cell_type": "markdown",
   "metadata": {},
   "source": [
    "|     Model Name     | Test File     | Total Irregular Verbs | Total Verbs | Proportion | Epochs | Batch Size  |\n",
    "|:------------------:|---------------|----------------------:|-------------|------------|--------|-------------|\n",
    "| biased_model_test2 | biased_train2 |        88             |  132        |    66%     | 1000    |  20         |"
   ]
  },
  {
   "cell_type": "code",
   "execution_count": 20,
   "metadata": {
    "collapsed": false
   },
   "outputs": [],
   "source": [
    "#pipeline(['#para#','#fexa#','#mexe#','#abri#','#kala#','#fala#','#teka#'])"
   ]
  },
  {
   "cell_type": "markdown",
   "metadata": {},
   "source": [
    "## Proporcao 55% Irregulares"
   ]
  },
  {
   "cell_type": "markdown",
   "metadata": {},
   "source": [
    "|     Model Name     | Test File     | Total Irregular Verbs | Total Verbs | Proportion | Epochs | Batch Size  |\n",
    "|:------------------:|---------------|----------------------:|-------------|------------|--------|-------------|\n",
    "| prop_55_batch_400           | prop_55       |        209            |  464        |    55%     | 1000    |  400         |"
   ]
  },
  {
   "cell_type": "code",
   "execution_count": 238,
   "metadata": {
    "collapsed": false
   },
   "outputs": [
    {
     "data": {
      "text/plain": [
       "464"
      ]
     },
     "execution_count": 238,
     "metadata": {},
     "output_type": "execute_result"
    }
   ],
   "source": [
    "path = '../data/prop_55.csv'\n",
    "X,Y = load_data(path)\n",
    "len(X)"
   ]
  },
  {
   "cell_type": "code",
   "execution_count": 72,
   "metadata": {
    "collapsed": false
   },
   "outputs": [
    {
     "name": "stdout",
     "output_type": "stream",
     "text": [
      "#pe\n",
      "Decodificado Loop: #pe, Final antes do Loop: gu#\n",
      "#se\n",
      "Decodificado Loop: #se, Final antes do Loop: gu#\n",
      "#se\n",
      "Decodificado Loop: #se, Final antes do Loop: ku#\n",
      "#le\n",
      "Decodificado Loop: #le, Final antes do Loop: vu#\n"
     ]
    },
    {
     "data": {
      "text/plain": [
       "(4, 460)"
      ]
     },
     "execution_count": 72,
     "metadata": {},
     "output_type": "execute_result"
    }
   ],
   "source": [
    "model = load_model('../data/prop_55_batch_400')\n",
    "pipeline(['#pega#','#sega#','#seka#','#leva#'])"
   ]
  },
  {
   "cell_type": "code",
   "execution_count": 17,
   "metadata": {},
   "outputs": [
    {
     "name": "stdout",
     "output_type": "stream",
     "text": [
      "#er\n",
      "Decodificado Loop: #er, Final antes do Loop: ru#\n",
      "#bi\n",
      "Decodificado Loop: #bi, Final antes do Loop: ru#\n",
      "#xo\n",
      "Decodificado Loop: #xo, Final antes do Loop: gu#\n",
      "#ai\n",
      "Decodificado Loop: #ai, Final antes do Loop: tu#\n"
     ]
    },
    {
     "data": {
      "text/plain": [
       "(4, 460)"
      ]
     },
     "execution_count": 17,
     "metadata": {},
     "output_type": "execute_result"
    }
   ],
   "source": [
    "model = load_model('../data/prop_55_batch_400')\n",
    "pipeline(['#ora#',\"#mora#\",'#joga#','#posta#'])"
   ]
  },
  {
   "cell_type": "code",
   "execution_count": 21,
   "metadata": {},
   "outputs": [
    {
     "name": "stdout",
     "output_type": "stream",
     "text": [
      "#su\n",
      "Decodificado Loop: #su, Final antes do Loop: iu#\n",
      "#xe\n",
      "Decodificado Loop: #xe, Final antes do Loop: iu#\n"
     ]
    },
    {
     "data": {
      "text/plain": [
       "(2, 460)"
      ]
     },
     "execution_count": 21,
     "metadata": {},
     "output_type": "execute_result"
    }
   ],
   "source": [
    "model = load_model('../data/prop_55_batch_400')\n",
    "pipeline(['#sortia#','#hemedia#'])"
   ]
  },
  {
   "cell_type": "code",
   "execution_count": 23,
   "metadata": {},
   "outputs": [
    {
     "name": "stdout",
     "output_type": "stream",
     "text": [
      "#be\n",
      "Decodificado Loop: #be, Final antes do Loop: tu#\n",
      "#pr\n",
      "Decodificado Loop: #pr, Final antes do Loop: ju#\n",
      "#bz\n",
      "Decodificado Loop: #bz, Final antes do Loop: fu#\n"
     ]
    },
    {
     "data": {
      "text/plain": [
       "(3, 460)"
      ]
     },
     "execution_count": 23,
     "metadata": {},
     "output_type": "execute_result"
    }
   ],
   "source": [
    "model = load_model('../data/prop_55_batch_400')\n",
    "pipeline(['#vense#','#proteje#','#eskolie#'])"
   ]
  },
  {
   "cell_type": "code",
   "execution_count": 24,
   "metadata": {},
   "outputs": [
    {
     "name": "stdout",
     "output_type": "stream",
     "text": [
      "#po\n",
      "Decodificado Loop: #po, Final antes do Loop: iu#\n",
      "#xe\n",
      "Decodificado Loop: #xe, Final antes do Loop: iu#\n"
     ]
    },
    {
     "data": {
      "text/plain": [
       "(2, 460)"
      ]
     },
     "execution_count": 24,
     "metadata": {},
     "output_type": "execute_result"
    }
   ],
   "source": [
    "model = load_model('../data/prop_55_batch_400')\n",
    "pipeline(['#po#','#hepo#'])"
   ]
  },
  {
   "cell_type": "code",
   "execution_count": 25,
   "metadata": {},
   "outputs": [
    {
     "name": "stdout",
     "output_type": "stream",
     "text": [
      "#te\n",
      "Decodificado Loop: #te, Final antes do Loop: du#\n",
      "#je\n",
      "Decodificado Loop: #je, Final antes do Loop: tu#\n",
      "#fe\n",
      "Decodificado Loop: #fe, Final antes do Loop: tu#\n",
      "#xe\n",
      "Decodificado Loop: #xe, Final antes do Loop: tu#\n"
     ]
    },
    {
     "data": {
      "text/plain": [
       "(4, 460)"
      ]
     },
     "execution_count": 25,
     "metadata": {},
     "output_type": "execute_result"
    }
   ],
   "source": [
    "model = load_model('../data/prop_55_batch_400')\n",
    "pipeline(['#tendi#','#jenti#','#fenti#','#hendi#'])"
   ]
  },
  {
   "cell_type": "code",
   "execution_count": 26,
   "metadata": {},
   "outputs": [
    {
     "name": "stdout",
     "output_type": "stream",
     "text": [
      "#te\n",
      "Decodificado Loop: #te, Final antes do Loop: su#\n",
      "#ko\n",
      "Decodificado Loop: #ko, Final antes do Loop: ru#\n",
      "#go\n",
      "Decodificado Loop: #go, Final antes do Loop: tu#\n"
     ]
    },
    {
     "data": {
      "text/plain": [
       "(3, 460)"
      ]
     },
     "execution_count": 26,
     "metadata": {},
     "output_type": "execute_result"
    }
   ],
   "source": [
    "model = load_model('../data/prop_55_batch_400')\n",
    "pipeline(['#tosi#','#kobri#','#goti#'])"
   ]
  },
  {
   "cell_type": "code",
   "execution_count": 27,
   "metadata": {},
   "outputs": [
    {
     "name": "stdout",
     "output_type": "stream",
     "text": [
      "#da\n",
      "Decodificado Loop: #da, Final antes do Loop: su#\n",
      "#fa\n",
      "Decodificado Loop: #fa, Final antes do Loop: zu#\n"
     ]
    },
    {
     "data": {
      "text/plain": [
       "(2, 460)"
      ]
     },
     "execution_count": 27,
     "metadata": {},
     "output_type": "execute_result"
    }
   ],
   "source": [
    "model = load_model('../data/prop_55_batch_400')\n",
    "pipeline(['#nase#','#faze#'])"
   ]
  },
  {
   "cell_type": "code",
   "execution_count": 28,
   "metadata": {},
   "outputs": [
    {
     "name": "stdout",
     "output_type": "stream",
     "text": [
      "#ma\n",
      "Decodificado Loop: #ma, Final antes do Loop: tu#\n",
      "#pa\n",
      "Decodificado Loop: #pa, Final antes do Loop: gu#\n",
      "#ba\n",
      "Decodificado Loop: #ba, Final antes do Loop: tu#\n",
      "#ta\n",
      "Decodificado Loop: #ta, Final antes do Loop: iu#\n"
     ]
    },
    {
     "data": {
      "text/plain": [
       "(4, 460)"
      ]
     },
     "execution_count": 28,
     "metadata": {},
     "output_type": "execute_result"
    }
   ],
   "source": [
    "model = load_model('../data/prop_55_batch_400')\n",
    "pipeline(['#mata#',\"#paga#\",\"#bate#\",\"#sai#\"])"
   ]
  },
  {
   "cell_type": "code",
   "execution_count": 29,
   "metadata": {
    "collapsed": true
   },
   "outputs": [],
   "source": [
    "path = '../data/prop_55.csv'\n",
    "X,Y = load_data(path)\n",
    "model = load_model('../data/prop_55_batch_400')\n",
    "model.fit(X,Y, epochs=400, batch_size=400,verbose=False)\n",
    "model.save('../data/prop_55_batch_400_2')"
   ]
  },
  {
   "cell_type": "markdown",
   "metadata": {},
   "source": [
    "|     Model Name     | Test File     | Total Irregular Verbs | Total Verbs | Proportion | Epochs | Batch Size  |\n",
    "|:------------------:|---------------|----------------------:|-------------|------------|--------|-------------|\n",
    "| prop_55_batch_400_2   | prop_55       |        209           |  464        |    55%     | 1400    |  400        |"
   ]
  },
  {
   "cell_type": "code",
   "execution_count": 71,
   "metadata": {},
   "outputs": [
    {
     "name": "stdout",
     "output_type": "stream",
     "text": [
      "#pe\n",
      "Decodificado Loop: #pe, Final antes do Loop: gu#\n",
      "#se\n",
      "Decodificado Loop: #se, Final antes do Loop: gu#\n",
      "#se\n",
      "Decodificado Loop: #se, Final antes do Loop: ku#\n",
      "#le\n",
      "Decodificado Loop: #le, Final antes do Loop: vu#\n"
     ]
    },
    {
     "data": {
      "text/plain": [
       "(4, 460)"
      ]
     },
     "execution_count": 71,
     "metadata": {},
     "output_type": "execute_result"
    }
   ],
   "source": [
    "model = load_model('../data/prop_55_batch_400_2')\n",
    "pipeline(['#pega#','#sega#','#seka#','#leva#'])"
   ]
  },
  {
   "cell_type": "code",
   "execution_count": 32,
   "metadata": {},
   "outputs": [
    {
     "name": "stdout",
     "output_type": "stream",
     "text": [
      "#er\n",
      "Decodificado Loop: #er, Final antes do Loop: ru#\n",
      "#mi\n",
      "Decodificado Loop: #mi, Final antes do Loop: ru#\n",
      "#xo\n",
      "Decodificado Loop: #xo, Final antes do Loop: gu#\n",
      "#bu\n",
      "Decodificado Loop: #bu, Final antes do Loop: tu#\n",
      "#xe\n",
      "Decodificado Loop: #xe, Final antes do Loop: bu#\n"
     ]
    },
    {
     "data": {
      "text/plain": [
       "(5, 460)"
      ]
     },
     "execution_count": 32,
     "metadata": {},
     "output_type": "execute_result"
    }
   ],
   "source": [
    "model = load_model('../data/prop_55_batch_400_2')\n",
    "pipeline(['#ora#',\"#mora#\",'#joga#','#posta#','#hetoma#'])"
   ]
  },
  {
   "cell_type": "code",
   "execution_count": 36,
   "metadata": {},
   "outputs": [
    {
     "name": "stdout",
     "output_type": "stream",
     "text": [
      "#su\n",
      "Decodificado Loop: #su, Final antes do Loop: iu#\n"
     ]
    },
    {
     "data": {
      "text/plain": [
       "(1, 460)"
      ]
     },
     "execution_count": 36,
     "metadata": {},
     "output_type": "execute_result"
    }
   ],
   "source": [
    "model = load_model('../data/prop_55_batch_400_2')\n",
    "pipeline(['#sortia#'])"
   ]
  },
  {
   "cell_type": "code",
   "execution_count": 37,
   "metadata": {},
   "outputs": [
    {
     "name": "stdout",
     "output_type": "stream",
     "text": [
      "#be\n",
      "Decodificado Loop: #be, Final antes do Loop: tu#\n"
     ]
    },
    {
     "data": {
      "text/plain": [
       "(1, 460)"
      ]
     },
     "execution_count": 37,
     "metadata": {},
     "output_type": "execute_result"
    }
   ],
   "source": [
    "model = load_model('../data/prop_55_batch_400_2')\n",
    "pipeline(['#vense#'])"
   ]
  },
  {
   "cell_type": "code",
   "execution_count": 38,
   "metadata": {},
   "outputs": [
    {
     "name": "stdout",
     "output_type": "stream",
     "text": [
      "#ko\n",
      "Decodificado Loop: #ko, Final antes do Loop: iu#\n",
      "#po\n",
      "Decodificado Loop: #po, Final antes do Loop: iu#\n"
     ]
    },
    {
     "data": {
      "text/plain": [
       "(2, 460)"
      ]
     },
     "execution_count": 38,
     "metadata": {},
     "output_type": "execute_result"
    }
   ],
   "source": [
    "model = load_model('../data/prop_55_batch_400_2')\n",
    "pipeline(['#kompo#','#po#'])"
   ]
  },
  {
   "cell_type": "code",
   "execution_count": 40,
   "metadata": {},
   "outputs": [
    {
     "name": "stdout",
     "output_type": "stream",
     "text": [
      "#je\n",
      "Decodificado Loop: #je, Final antes do Loop: tu#\n",
      "#fe\n",
      "Decodificado Loop: #fe, Final antes do Loop: tu#\n",
      "#xe\n",
      "Decodificado Loop: #xe, Final antes do Loop: du#\n",
      "#te\n",
      "Decodificado Loop: #te, Final antes do Loop: du#\n"
     ]
    },
    {
     "data": {
      "text/plain": [
       "(4, 460)"
      ]
     },
     "execution_count": 40,
     "metadata": {},
     "output_type": "execute_result"
    }
   ],
   "source": [
    "model = load_model('../data/prop_55_batch_400_2')\n",
    "pipeline(['#jenti#','#fenti#','#hendi#','#tendi#'])"
   ]
  },
  {
   "cell_type": "code",
   "execution_count": 41,
   "metadata": {},
   "outputs": [
    {
     "name": "stdout",
     "output_type": "stream",
     "text": [
      "#to\n",
      "Decodificado Loop: #to, Final antes do Loop: su#\n",
      "#ko\n",
      "Decodificado Loop: #ko, Final antes do Loop: ru#\n",
      "#go\n",
      "Decodificado Loop: #go, Final antes do Loop: tu#\n"
     ]
    },
    {
     "data": {
      "text/plain": [
       "(3, 460)"
      ]
     },
     "execution_count": 41,
     "metadata": {},
     "output_type": "execute_result"
    }
   ],
   "source": [
    "model = load_model('../data/prop_55_batch_400_2')\n",
    "pipeline(['#tosi#','#kobri#','#goti#'])#,'#fosi#']) "
   ]
  },
  {
   "cell_type": "code",
   "execution_count": 42,
   "metadata": {},
   "outputs": [
    {
     "name": "stdout",
     "output_type": "stream",
     "text": [
      "#ai\n",
      "Decodificado Loop: #ai, Final antes do Loop: su#\n",
      "#da\n",
      "Decodificado Loop: #da, Final antes do Loop: su#\n"
     ]
    },
    {
     "data": {
      "text/plain": [
       "(2, 460)"
      ]
     },
     "execution_count": 42,
     "metadata": {},
     "output_type": "execute_result"
    }
   ],
   "source": [
    "model = load_model('../data/prop_55_batch_400_2')\n",
    "pipeline(['#afaze#','#nase#'])"
   ]
  },
  {
   "cell_type": "code",
   "execution_count": 43,
   "metadata": {},
   "outputs": [
    {
     "name": "stdout",
     "output_type": "stream",
     "text": [
      "#ma\n",
      "Decodificado Loop: #ma, Final antes do Loop: tu#\n",
      "#pa\n",
      "Decodificado Loop: #pa, Final antes do Loop: gu#\n",
      "#ta\n",
      "Decodificado Loop: #ta, Final antes do Loop: iu#\n",
      "#ba\n",
      "Decodificado Loop: #ba, Final antes do Loop: tu#\n"
     ]
    },
    {
     "data": {
      "text/plain": [
       "(4, 460)"
      ]
     },
     "execution_count": 43,
     "metadata": {},
     "output_type": "execute_result"
    }
   ],
   "source": [
    "model = load_model('../data/prop_55_batch_400_2')\n",
    "pipeline(['#mata#',\"#paga#\",'#sai#','#bate#'])"
   ]
  },
  {
   "cell_type": "markdown",
   "metadata": {},
   "source": [
    "## Proporcao 65% Irregulares\n"
   ]
  },
  {
   "cell_type": "markdown",
   "metadata": {},
   "source": [
    "|     Model Name     | Test File     | Total Irregular Verbs | Total Verbs | Proportion | Epochs | Batch Size  |\n",
    "|:------------------:|---------------|----------------------:|-------------|------------|--------|-------------|\n",
    "| prop_65_batch_100       | prop_65       |      209        |  579        |    65%     | 1000    |  100         |"
   ]
  },
  {
   "cell_type": "code",
   "execution_count": 62,
   "metadata": {},
   "outputs": [
    {
     "name": "stdout",
     "output_type": "stream",
     "text": [
      "#pe\n",
      "Decodificado Loop: #pe, Final antes do Loop: gu#\n",
      "#se\n",
      "Decodificado Loop: #se, Final antes do Loop: gu#\n",
      "#si\n",
      "Decodificado Loop: #si, Final antes do Loop: ku#\n",
      "#de\n",
      "Decodificado Loop: #de, Final antes do Loop: tu#\n",
      "#pr\n",
      "Decodificado Loop: #pr, Final antes do Loop: tu#\n"
     ]
    },
    {
     "data": {
      "text/plain": [
       "(5, 460)"
      ]
     },
     "execution_count": 62,
     "metadata": {},
     "output_type": "execute_result"
    }
   ],
   "source": [
    "model = load_model('../data/prop_65_batch_100')\n",
    "pipeline(['#pega#','#sega#','#seka#','#testa#','#presta#'])"
   ]
  },
  {
   "cell_type": "code",
   "execution_count": 63,
   "metadata": {},
   "outputs": [
    {
     "name": "stdout",
     "output_type": "stream",
     "text": [
      "#er\n",
      "Decodificado Loop: #er, Final antes do Loop: ru#\n",
      "#me\n",
      "Decodificado Loop: #me, Final antes do Loop: ru#\n",
      "#jo\n",
      "Decodificado Loop: #jo, Final antes do Loop: gu#\n",
      "#ap\n",
      "Decodificado Loop: #ap, Final antes do Loop: tu#\n",
      "#xe\n",
      "Decodificado Loop: #xe, Final antes do Loop: bu#\n"
     ]
    },
    {
     "data": {
      "text/plain": [
       "(5, 460)"
      ]
     },
     "execution_count": 63,
     "metadata": {},
     "output_type": "execute_result"
    }
   ],
   "source": [
    "model = load_model('../data/prop_65_batch_100')\n",
    "pipeline(['#ora#',\"#mora#\",'#joga#','#aposta#','#hetoma#'])"
   ]
  },
  {
   "cell_type": "code",
   "execution_count": 64,
   "metadata": {},
   "outputs": [
    {
     "name": "stdout",
     "output_type": "stream",
     "text": [
      "#su\n",
      "Decodificado Loop: #su, Final antes do Loop: iu#\n",
      "#me\n",
      "Decodificado Loop: #me, Final antes do Loop: iu#\n"
     ]
    },
    {
     "data": {
      "text/plain": [
       "(2, 460)"
      ]
     },
     "execution_count": 64,
     "metadata": {},
     "output_type": "execute_result"
    }
   ],
   "source": [
    "model = load_model('../data/prop_65_batch_100')\n",
    "pipeline(['#sortia#','#media#'])"
   ]
  },
  {
   "cell_type": "code",
   "execution_count": 65,
   "metadata": {},
   "outputs": [
    {
     "name": "stdout",
     "output_type": "stream",
     "text": [
      "#ve\n",
      "Decodificado Loop: #ve, Final antes do Loop: su#\n",
      "#pr\n",
      "Decodificado Loop: #pr, Final antes do Loop: ju#\n"
     ]
    },
    {
     "data": {
      "text/plain": [
       "(2, 460)"
      ]
     },
     "execution_count": 65,
     "metadata": {},
     "output_type": "execute_result"
    }
   ],
   "source": [
    "model = load_model('../data/prop_65_batch_100')\n",
    "pipeline(['#vense#','#proteje#'])"
   ]
  },
  {
   "cell_type": "code",
   "execution_count": 66,
   "metadata": {},
   "outputs": [
    {
     "name": "stdout",
     "output_type": "stream",
     "text": [
      "#po\n",
      "Decodificado Loop: #po, Final antes do Loop: iu#\n",
      "#xe\n",
      "Decodificado Loop: #xe, Final antes do Loop: iu#\n"
     ]
    },
    {
     "data": {
      "text/plain": [
       "(2, 460)"
      ]
     },
     "execution_count": 66,
     "metadata": {},
     "output_type": "execute_result"
    }
   ],
   "source": [
    "model = load_model('../data/prop_65_batch_100')\n",
    "pipeline(['#po#','#hepo#'])"
   ]
  },
  {
   "cell_type": "code",
   "execution_count": 67,
   "metadata": {},
   "outputs": [
    {
     "name": "stdout",
     "output_type": "stream",
     "text": [
      "#je\n",
      "Decodificado Loop: #je, Final antes do Loop: tu#\n",
      "#fe\n",
      "Decodificado Loop: #fe, Final antes do Loop: tu#\n",
      "#xe\n",
      "Decodificado Loop: #xe, Final antes do Loop: tu#\n",
      "#te\n",
      "Decodificado Loop: #te, Final antes do Loop: tu#\n"
     ]
    },
    {
     "data": {
      "text/plain": [
       "(4, 460)"
      ]
     },
     "execution_count": 67,
     "metadata": {},
     "output_type": "execute_result"
    }
   ],
   "source": [
    "model = load_model('../data/prop_65_batch_100')\n",
    "pipeline(['#jenti#','#fenti#','#hendi#','#tendi#'])"
   ]
  },
  {
   "cell_type": "code",
   "execution_count": 68,
   "metadata": {},
   "outputs": [
    {
     "name": "stdout",
     "output_type": "stream",
     "text": [
      "#to\n",
      "Decodificado Loop: #to, Final antes do Loop: su#\n",
      "#ko\n",
      "Decodificado Loop: #ko, Final antes do Loop: ru#\n",
      "#go\n",
      "Decodificado Loop: #go, Final antes do Loop: tu#\n"
     ]
    },
    {
     "data": {
      "text/plain": [
       "(3, 460)"
      ]
     },
     "execution_count": 68,
     "metadata": {},
     "output_type": "execute_result"
    }
   ],
   "source": [
    "model = load_model('../data/prop_65_batch_100')\n",
    "pipeline(['#tosi#','#kobri#','#goti#'])#'#fosi#']) "
   ]
  },
  {
   "cell_type": "code",
   "execution_count": 69,
   "metadata": {},
   "outputs": [
    {
     "name": "stdout",
     "output_type": "stream",
     "text": [
      "#as\n",
      "Decodificado Loop: #as, Final antes do Loop: su#\n",
      "#na\n",
      "Decodificado Loop: #na, Final antes do Loop: su#\n"
     ]
    },
    {
     "data": {
      "text/plain": [
       "(2, 460)"
      ]
     },
     "execution_count": 69,
     "metadata": {},
     "output_type": "execute_result"
    }
   ],
   "source": [
    "model = load_model('../data/prop_65_batch_100')\n",
    "pipeline(['#afaze#','#nase#'])"
   ]
  },
  {
   "cell_type": "code",
   "execution_count": 70,
   "metadata": {},
   "outputs": [
    {
     "name": "stdout",
     "output_type": "stream",
     "text": [
      "#ma\n",
      "Decodificado Loop: #ma, Final antes do Loop: tu#\n",
      "#pa\n",
      "Decodificado Loop: #pa, Final antes do Loop: gu#\n",
      "#sa\n",
      "Decodificado Loop: #sa, Final antes do Loop: iu#\n",
      "#ba\n",
      "Decodificado Loop: #ba, Final antes do Loop: pu#\n"
     ]
    },
    {
     "data": {
      "text/plain": [
       "(4, 460)"
      ]
     },
     "execution_count": 70,
     "metadata": {},
     "output_type": "execute_result"
    }
   ],
   "source": [
    "model = load_model('../data/prop_65_batch_100')\n",
    "pipeline(['#mata#',\"#paga#\",'#sai#','#bate#'])"
   ]
  },
  {
   "cell_type": "markdown",
   "metadata": {},
   "source": [
    "|     Model Name     | Test File     | Total Irregular Verbs | Total Verbs | Proportion | Epochs | Batch Size  |\n",
    "|:------------------:|---------------|----------------------:|-------------|------------|--------|-------------|\n",
    "| prop_65_batch_579_2       | prop_65       |            209        |  579        |    65%     | 1400   |  579         |"
   ]
  },
  {
   "cell_type": "code",
   "execution_count": 56,
   "metadata": {},
   "outputs": [],
   "source": [
    "model = load_model('../data/prop_65_batch_579')\n",
    "model.fit(X,Y, epochs=400, batch_size=40,verbose=False)\n",
    "model.save('../data/prop_65_batch_579_2')"
   ]
  },
  {
   "cell_type": "code",
   "execution_count": 57,
   "metadata": {},
   "outputs": [
    {
     "name": "stdout",
     "output_type": "stream",
     "text": [
      "#pe\n",
      "Decodificado Loop: #pe, Final antes do Loop: tu#\n",
      "#se\n",
      "Decodificado Loop: #se, Final antes do Loop: gu#\n",
      "#se\n",
      "Decodificado Loop: #se, Final antes do Loop: ku#\n",
      "#de\n",
      "Decodificado Loop: #de, Final antes do Loop: tu#\n",
      "#pr\n",
      "Decodificado Loop: #pr, Final antes do Loop: tu#\n"
     ]
    },
    {
     "data": {
      "text/plain": [
       "(5, 460)"
      ]
     },
     "execution_count": 57,
     "metadata": {},
     "output_type": "execute_result"
    }
   ],
   "source": [
    "model = load_model('../data/prop_65_batch_579_2')\n",
    "pipeline(['#pega#','#sega#','#seka#','#testa#','#presta#'])"
   ]
  },
  {
   "cell_type": "code",
   "execution_count": 58,
   "metadata": {},
   "outputs": [
    {
     "name": "stdout",
     "output_type": "stream",
     "text": [
      "#ea\n",
      "Decodificado Loop: #ea, Final antes do Loop: ru#\n",
      "#be\n",
      "Decodificado Loop: #be, Final antes do Loop: zu#\n",
      "#xo\n",
      "Decodificado Loop: #xo, Final antes do Loop: gu#\n",
      "#de\n",
      "Decodificado Loop: #de, Final antes do Loop: tu#\n",
      "#xe\n",
      "Decodificado Loop: #xe, Final antes do Loop: du#\n"
     ]
    },
    {
     "data": {
      "text/plain": [
       "(5, 460)"
      ]
     },
     "execution_count": 58,
     "metadata": {},
     "output_type": "execute_result"
    }
   ],
   "source": [
    "model = load_model('../data/prop_65_batch_579_2')\n",
    "pipeline(['#ora#',\"#mora#\",'#joga#','#aposta#','#hetoma#'])"
   ]
  },
  {
   "cell_type": "code",
   "execution_count": 59,
   "metadata": {},
   "outputs": [
    {
     "name": "stdout",
     "output_type": "stream",
     "text": [
      "#to\n",
      "Decodificado Loop: #to, Final antes do Loop: pu#\n",
      "#be\n",
      "Decodificado Loop: #be, Final antes do Loop: iu#\n"
     ]
    },
    {
     "data": {
      "text/plain": [
       "(2, 460)"
      ]
     },
     "execution_count": 59,
     "metadata": {},
     "output_type": "execute_result"
    }
   ],
   "source": [
    "model = load_model('../data/prop_65_batch_579_2')\n",
    "pipeline(['#sortia#','#media#'])"
   ]
  },
  {
   "cell_type": "code",
   "execution_count": 60,
   "metadata": {},
   "outputs": [
    {
     "name": "stdout",
     "output_type": "stream",
     "text": [
      "#be\n",
      "Decodificado Loop: #be, Final antes do Loop: su#\n",
      "#bd\n",
      "Decodificado Loop: #bd, Final antes do Loop: fu#\n"
     ]
    },
    {
     "data": {
      "text/plain": [
       "(2, 460)"
      ]
     },
     "execution_count": 60,
     "metadata": {},
     "output_type": "execute_result"
    }
   ],
   "source": [
    "model = load_model('../data/prop_65_batch_579_2')\n",
    "pipeline(['#vense#','#eskolie#'])"
   ]
  },
  {
   "cell_type": "code",
   "execution_count": 96,
   "metadata": {},
   "outputs": [
    {
     "name": "stdout",
     "output_type": "stream",
     "text": [
      "#po\n",
      "Decodificado Loop: #po#, Final antes do Loop: iu#\n",
      "#xe\n",
      "Decodificado Loop: #xebuu#, Final antes do Loop: iu#\n"
     ]
    },
    {
     "data": {
      "text/plain": [
       "(2, 460)"
      ]
     },
     "execution_count": 96,
     "metadata": {},
     "output_type": "execute_result"
    }
   ],
   "source": [
    "model = load_model('../data/prop_65')\n",
    "pipeline(['#po#','#hepo#'])"
   ]
  },
  {
   "cell_type": "code",
   "execution_count": 97,
   "metadata": {},
   "outputs": [
    {
     "name": "stdout",
     "output_type": "stream",
     "text": [
      "#je\n",
      "Decodificado Loop: #jentu, Final antes do Loop: tu#\n",
      "#fe\n",
      "Decodificado Loop: #fentu, Final antes do Loop: tu#\n",
      "#xe\n",
      "Decodificado Loop: #xentu#, Final antes do Loop: du#\n",
      "#te\n",
      "Decodificado Loop: #tentk#, Final antes do Loop: du#\n"
     ]
    },
    {
     "data": {
      "text/plain": [
       "(4, 460)"
      ]
     },
     "execution_count": 97,
     "metadata": {},
     "output_type": "execute_result"
    }
   ],
   "source": [
    "model = load_model('../data/prop_65_1000')\n",
    "pipeline(['#jenti#','#fenti#','#hendi#','#tendi#'])"
   ]
  },
  {
   "cell_type": "code",
   "execution_count": 101,
   "metadata": {},
   "outputs": [
    {
     "name": "stdout",
     "output_type": "stream",
     "text": [
      "#to\n",
      "Decodificado Loop: #to#, Final antes do Loop: su#\n",
      "#ko\n",
      "Decodificado Loop: #kobsu#, Final antes do Loop: ru#\n"
     ]
    },
    {
     "data": {
      "text/plain": [
       "(2, 460)"
      ]
     },
     "execution_count": 101,
     "metadata": {},
     "output_type": "execute_result"
    }
   ],
   "source": [
    "model = load_model('../data/prop_65_1000')\n",
    "pipeline(['#tosi#','#kobri#'])#,'#fosi#']) "
   ]
  },
  {
   "cell_type": "code",
   "execution_count": 102,
   "metadata": {},
   "outputs": [
    {
     "name": "stdout",
     "output_type": "stream",
     "text": [
      "#af\n",
      "Decodificado Loop: #afu#, Final antes do Loop: su#\n",
      "#na\n",
      "Decodificado Loop: #natu#, Final antes do Loop: su#\n"
     ]
    },
    {
     "data": {
      "text/plain": [
       "(2, 460)"
      ]
     },
     "execution_count": 102,
     "metadata": {},
     "output_type": "execute_result"
    }
   ],
   "source": [
    "model = load_model('../data/prop_65_1000')\n",
    "pipeline(['#afaze#','#nase#'])"
   ]
  },
  {
   "cell_type": "code",
   "execution_count": 103,
   "metadata": {},
   "outputs": [
    {
     "name": "stdout",
     "output_type": "stream",
     "text": [
      "#ma\n",
      "Decodificado Loop: #matu, Final antes do Loop: tu#\n",
      "#pa\n",
      "Decodificado Loop: #pagu, Final antes do Loop: gu#\n",
      "#sa\n",
      "Decodificado Loop: #sau#, Final antes do Loop: iu#\n",
      "#ba\n",
      "Decodificado Loop: #batu#, Final antes do Loop: pu#\n"
     ]
    },
    {
     "data": {
      "text/plain": [
       "(4, 460)"
      ]
     },
     "execution_count": 103,
     "metadata": {},
     "output_type": "execute_result"
    }
   ],
   "source": [
    "model = load_model('../data/prop_65_1000')\n",
    "pipeline(['#mata#',\"#paga#\",'#sai#','#bate#'])"
   ]
  },
  {
   "cell_type": "markdown",
   "metadata": {},
   "source": [
    "## Proporcao 75% Irregulares"
   ]
  },
  {
   "cell_type": "markdown",
   "metadata": {},
   "source": [
    "|     Model Name     | Test File     | Total Irregular Verbs | Total Verbs | Proportion | Epochs | Batch Size  |\n",
    "|:------------------:|---------------|----------------------:|-------------|------------|--------|-------------|\n",
    "| prop_75       | prop_75       |                      |  400        |    75%     | 600   |  20         |"
   ]
  },
  {
   "cell_type": "code",
   "execution_count": 106,
   "metadata": {},
   "outputs": [
    {
     "name": "stdout",
     "output_type": "stream",
     "text": [
      "#pe\n",
      "Decodificado Loop: #pegu, Final antes do Loop: gu#\n",
      "#si\n",
      "Decodificado Loop: #sigu, Final antes do Loop: gu#\n",
      "#si\n",
      "Decodificado Loop: #siku, Final antes do Loop: ku#\n",
      "#te\n",
      "Decodificado Loop: #te#, Final antes do Loop: tu#\n",
      "#pr\n",
      "Decodificado Loop: #presps#, Final antes do Loop: tu#\n"
     ]
    },
    {
     "data": {
      "text/plain": [
       "(5, 460)"
      ]
     },
     "execution_count": 106,
     "metadata": {},
     "output_type": "execute_result"
    }
   ],
   "source": [
    "model = load_model('../data/prop_75')\n",
    "pipeline(['#pega#','#sega#','#seka#','#testa#','#presta#'])"
   ]
  },
  {
   "cell_type": "code",
   "execution_count": 109,
   "metadata": {},
   "outputs": [
    {
     "name": "stdout",
     "output_type": "stream",
     "text": [
      "#er\n",
      "Decodificado Loop: #eru, Final antes do Loop: ru#\n",
      "#mi\n",
      "Decodificado Loop: #misu#, Final antes do Loop: ru#\n",
      "#ap\n",
      "Decodificado Loop: #apu#, Final antes do Loop: tu#\n"
     ]
    },
    {
     "data": {
      "text/plain": [
       "(3, 460)"
      ]
     },
     "execution_count": 109,
     "metadata": {},
     "output_type": "execute_result"
    }
   ],
   "source": [
    "model = load_model('../data/prop_75')\n",
    "pipeline(['#ora#',\"#mora#\",'#aposta#'])"
   ]
  },
  {
   "cell_type": "code",
   "execution_count": 110,
   "metadata": {},
   "outputs": [
    {
     "name": "stdout",
     "output_type": "stream",
     "text": [
      "#su\n",
      "Decodificado Loop: #su#, Final antes do Loop: iu#\n",
      "#me\n",
      "Decodificado Loop: #medu#, Final antes do Loop: iu#\n"
     ]
    },
    {
     "data": {
      "text/plain": [
       "(2, 460)"
      ]
     },
     "execution_count": 110,
     "metadata": {},
     "output_type": "execute_result"
    }
   ],
   "source": [
    "model = load_model('../data/prop_75')\n",
    "pipeline(['#sortia#','#media#'])"
   ]
  },
  {
   "cell_type": "code",
   "execution_count": 112,
   "metadata": {},
   "outputs": [
    {
     "name": "stdout",
     "output_type": "stream",
     "text": [
      "#ve\n",
      "Decodificado Loop: #vensu, Final antes do Loop: su#\n"
     ]
    },
    {
     "data": {
      "text/plain": [
       "(1, 460)"
      ]
     },
     "execution_count": 112,
     "metadata": {},
     "output_type": "execute_result"
    }
   ],
   "source": [
    "model = load_model('../data/prop_75')\n",
    "pipeline(['#vense#'])"
   ]
  },
  {
   "cell_type": "code",
   "execution_count": 114,
   "metadata": {},
   "outputs": [
    {
     "name": "stdout",
     "output_type": "stream",
     "text": [
      "#po\n",
      "Decodificado Loop: #pompp#, Final antes do Loop: iu#\n",
      "#xe\n",
      "Decodificado Loop: #xebuu#, Final antes do Loop: iu#\n",
      "#ko\n",
      "Decodificado Loop: #kompi#, Final antes do Loop: iu#\n"
     ]
    },
    {
     "data": {
      "text/plain": [
       "(3, 460)"
      ]
     },
     "execution_count": 114,
     "metadata": {},
     "output_type": "execute_result"
    }
   ],
   "source": [
    "model = load_model('../data/prop_75')\n",
    "pipeline(['#po#','#hepo#','#kompo#'])"
   ]
  },
  {
   "cell_type": "code",
   "execution_count": 116,
   "metadata": {},
   "outputs": [
    {
     "name": "stdout",
     "output_type": "stream",
     "text": [
      "#fe\n",
      "Decodificado Loop: #fentu, Final antes do Loop: tu#\n",
      "#xe\n",
      "Decodificado Loop: #xedtu, Final antes do Loop: tu#\n",
      "#te\n",
      "Decodificado Loop: #tentk#, Final antes do Loop: tu#\n"
     ]
    },
    {
     "data": {
      "text/plain": [
       "(3, 460)"
      ]
     },
     "execution_count": 116,
     "metadata": {},
     "output_type": "execute_result"
    }
   ],
   "source": [
    "model = load_model('../data/prop_75')\n",
    "pipeline(['#fenti#','#hendi#','#tendi#'])"
   ]
  },
  {
   "cell_type": "code",
   "execution_count": 118,
   "metadata": {},
   "outputs": [
    {
     "name": "stdout",
     "output_type": "stream",
     "text": [
      "#ko\n",
      "Decodificado Loop: #komsu#, Final antes do Loop: ru#\n"
     ]
    },
    {
     "data": {
      "text/plain": [
       "(1, 460)"
      ]
     },
     "execution_count": 118,
     "metadata": {},
     "output_type": "execute_result"
    }
   ],
   "source": [
    "model = load_model('../data/prop_75')\n",
    "pipeline(['#kobri#'])#,'#fosi#']) "
   ]
  },
  {
   "cell_type": "code",
   "execution_count": 119,
   "metadata": {},
   "outputs": [
    {
     "name": "stdout",
     "output_type": "stream",
     "text": [
      "#ap\n",
      "Decodificado Loop: #apu#, Final antes do Loop: su#\n",
      "#na\n",
      "Decodificado Loop: #naku#, Final antes do Loop: su#\n"
     ]
    },
    {
     "data": {
      "text/plain": [
       "(2, 460)"
      ]
     },
     "execution_count": 119,
     "metadata": {},
     "output_type": "execute_result"
    }
   ],
   "source": [
    "model = load_model('../data/prop_75')\n",
    "pipeline(['#afaze#','#nase#'])"
   ]
  },
  {
   "cell_type": "code",
   "execution_count": 120,
   "metadata": {},
   "outputs": [
    {
     "name": "stdout",
     "output_type": "stream",
     "text": [
      "#ma\n",
      "Decodificado Loop: #matu, Final antes do Loop: tu#\n",
      "#pa\n",
      "Decodificado Loop: #pabu#, Final antes do Loop: gu#\n",
      "#sa\n",
      "Decodificado Loop: #sai#, Final antes do Loop: au#\n",
      "#ba\n",
      "Decodificado Loop: #batu, Final antes do Loop: tu#\n"
     ]
    },
    {
     "data": {
      "text/plain": [
       "(4, 460)"
      ]
     },
     "execution_count": 120,
     "metadata": {},
     "output_type": "execute_result"
    }
   ],
   "source": [
    "model = load_model('../data/prop_75')\n",
    "pipeline(['#mata#',\"#paga#\",'#sai#','#bate#'])"
   ]
  },
  {
   "cell_type": "markdown",
   "metadata": {},
   "source": [
    "|     Model Name     | Test File     | Total Irregular Verbs | Total Verbs | Proportion | Epochs | Batch Size  |\n",
    "|:------------------:|---------------|----------------------:|-------------|------------|--------|-------------|\n",
    "| prop_75_1000       | prop_75       |                      |  400        |    75%     | 1000   |  20         |"
   ]
  },
  {
   "cell_type": "code",
   "execution_count": 121,
   "metadata": {},
   "outputs": [],
   "source": [
    "model = load_model('../data/prop_75')\n",
    "model.fit(X,Y, epochs=400, batch_size=20,verbose=False)\n",
    "model.save('../data/prop_75_1000')"
   ]
  },
  {
   "cell_type": "code",
   "execution_count": 122,
   "metadata": {},
   "outputs": [
    {
     "name": "stdout",
     "output_type": "stream",
     "text": [
      "#pe\n",
      "Decodificado Loop: #pegu, Final antes do Loop: gu#\n",
      "#si\n",
      "Decodificado Loop: #sigu, Final antes do Loop: gu#\n",
      "#si\n",
      "Decodificado Loop: #sikO#, Final antes do Loop: ku#\n",
      "#te\n",
      "Decodificado Loop: #te#, Final antes do Loop: tu#\n",
      "#pr\n",
      "Decodificado Loop: #prespx#, Final antes do Loop: tu#\n"
     ]
    },
    {
     "data": {
      "text/plain": [
       "(5, 460)"
      ]
     },
     "execution_count": 122,
     "metadata": {},
     "output_type": "execute_result"
    }
   ],
   "source": [
    "model = load_model('../data/prop_75_1000')\n",
    "pipeline(['#pega#','#sega#','#seka#','#testa#','#presta#'])"
   ]
  },
  {
   "cell_type": "code",
   "execution_count": 127,
   "metadata": {},
   "outputs": [
    {
     "name": "stdout",
     "output_type": "stream",
     "text": [
      "#er\n",
      "Decodificado Loop: #eru, Final antes do Loop: ru#\n",
      "#mo\n",
      "Decodificado Loop: #moza#, Final antes do Loop: ru#\n",
      "#ap\n",
      "Decodificado Loop: #apu#, Final antes do Loop: tu#\n"
     ]
    },
    {
     "data": {
      "text/plain": [
       "(3, 460)"
      ]
     },
     "execution_count": 127,
     "metadata": {},
     "output_type": "execute_result"
    }
   ],
   "source": [
    "model = load_model('../data/prop_75_1000')\n",
    "pipeline(['#ora#',\"#mora#\",'#aposta#'])"
   ]
  },
  {
   "cell_type": "code",
   "execution_count": 128,
   "metadata": {},
   "outputs": [
    {
     "name": "stdout",
     "output_type": "stream",
     "text": [
      "#su\n",
      "Decodificado Loop: #su#, Final antes do Loop: iu#\n",
      "#me\n",
      "Decodificado Loop: #meeo#, Final antes do Loop: iu#\n"
     ]
    },
    {
     "data": {
      "text/plain": [
       "(2, 460)"
      ]
     },
     "execution_count": 128,
     "metadata": {},
     "output_type": "execute_result"
    }
   ],
   "source": [
    "model = load_model('../data/prop_75_1000')\n",
    "pipeline(['#sortia#','#media#'])"
   ]
  },
  {
   "cell_type": "code",
   "execution_count": 129,
   "metadata": {},
   "outputs": [
    {
     "name": "stdout",
     "output_type": "stream",
     "text": [
      "#ve\n",
      "Decodificado Loop: #vensu, Final antes do Loop: su#\n"
     ]
    },
    {
     "data": {
      "text/plain": [
       "(1, 460)"
      ]
     },
     "execution_count": 129,
     "metadata": {},
     "output_type": "execute_result"
    }
   ],
   "source": [
    "model = load_model('../data/prop_75_1000')\n",
    "pipeline(['#vense#'])"
   ]
  },
  {
   "cell_type": "code",
   "execution_count": 130,
   "metadata": {},
   "outputs": [
    {
     "name": "stdout",
     "output_type": "stream",
     "text": [
      "#po\n",
      "Decodificado Loop: #po#, Final antes do Loop: iu#\n",
      "#xe\n",
      "Decodificado Loop: #xebaO#, Final antes do Loop: iu#\n",
      "#ko\n",
      "Decodificado Loop: #kompi#, Final antes do Loop: iu#\n"
     ]
    },
    {
     "data": {
      "text/plain": [
       "(3, 460)"
      ]
     },
     "execution_count": 130,
     "metadata": {},
     "output_type": "execute_result"
    }
   ],
   "source": [
    "model = load_model('../data/prop_75_1000')\n",
    "pipeline(['#po#','#hepo#','#kompo#'])"
   ]
  },
  {
   "cell_type": "code",
   "execution_count": 131,
   "metadata": {},
   "outputs": [
    {
     "name": "stdout",
     "output_type": "stream",
     "text": [
      "#po\n",
      "Decodificado Loop: #po#, Final antes do Loop: iu#\n",
      "#xe\n",
      "Decodificado Loop: #xebaO#, Final antes do Loop: iu#\n",
      "#ko\n",
      "Decodificado Loop: #kompi#, Final antes do Loop: iu#\n"
     ]
    },
    {
     "data": {
      "text/plain": [
       "(3, 460)"
      ]
     },
     "execution_count": 131,
     "metadata": {},
     "output_type": "execute_result"
    }
   ],
   "source": [
    "model = load_model('../data/prop_75_1000')\n",
    "pipeline(['#po#','#hepo#','#kompo#'])"
   ]
  },
  {
   "cell_type": "code",
   "execution_count": 136,
   "metadata": {},
   "outputs": [
    {
     "name": "stdout",
     "output_type": "stream",
     "text": [
      "#fe\n",
      "Decodificado Loop: #fentu, Final antes do Loop: tu#\n",
      "#xe\n",
      "Decodificado Loop: #xedtu, Final antes do Loop: tu#\n"
     ]
    },
    {
     "data": {
      "text/plain": [
       "(2, 460)"
      ]
     },
     "execution_count": 136,
     "metadata": {},
     "output_type": "execute_result"
    }
   ],
   "source": [
    "model = load_model('../data/prop_75_1000')\n",
    "pipeline(['#fenti#','#hendi#'])"
   ]
  },
  {
   "cell_type": "code",
   "execution_count": 139,
   "metadata": {},
   "outputs": [
    {
     "name": "stdout",
     "output_type": "stream",
     "text": [
      "#ko\n",
      "Decodificado Loop: #komsu#, Final antes do Loop: ru#\n"
     ]
    },
    {
     "data": {
      "text/plain": [
       "(1, 460)"
      ]
     },
     "execution_count": 139,
     "metadata": {},
     "output_type": "execute_result"
    }
   ],
   "source": [
    "model = load_model('../data/prop_75_1000')\n",
    "pipeline(['#kobri#'])#,'#fosi#']) "
   ]
  },
  {
   "cell_type": "code",
   "execution_count": 140,
   "metadata": {},
   "outputs": [
    {
     "name": "stdout",
     "output_type": "stream",
     "text": [
      "#af\n",
      "Decodificado Loop: #afu#, Final antes do Loop: su#\n",
      "#na\n",
      "Decodificado Loop: #napu#, Final antes do Loop: su#\n"
     ]
    },
    {
     "data": {
      "text/plain": [
       "(2, 460)"
      ]
     },
     "execution_count": 140,
     "metadata": {},
     "output_type": "execute_result"
    }
   ],
   "source": [
    "model = load_model('../data/prop_75_1000')\n",
    "pipeline(['#afaze#','#nase#'])"
   ]
  },
  {
   "cell_type": "code",
   "execution_count": 141,
   "metadata": {},
   "outputs": [
    {
     "name": "stdout",
     "output_type": "stream",
     "text": [
      "#ma\n",
      "Decodificado Loop: #matu, Final antes do Loop: tu#\n",
      "#pa\n",
      "Decodificado Loop: #pabu#, Final antes do Loop: gu#\n",
      "#sa\n",
      "Decodificado Loop: #safpipipppp#, Final antes do Loop: au#\n",
      "#ba\n",
      "Decodificado Loop: #batu#, Final antes do Loop: pu#\n"
     ]
    },
    {
     "data": {
      "text/plain": [
       "(4, 460)"
      ]
     },
     "execution_count": 141,
     "metadata": {},
     "output_type": "execute_result"
    }
   ],
   "source": [
    "model = load_model('../data/prop_75_1000')\n",
    "pipeline(['#mata#',\"#paga#\",'#sai#','#bate#'])"
   ]
  },
  {
   "cell_type": "markdown",
   "metadata": {},
   "source": [
    "## Proporcao 85% Irregulares"
   ]
  },
  {
   "cell_type": "markdown",
   "metadata": {},
   "source": [
    "|     Model Name     | Test File     | Total Irregular Verbs | Total Verbs | Proportion | Epochs | Batch Size  |\n",
    "|:------------------:|---------------|----------------------:|-------------|------------|--------|-------------|\n",
    "| prop_85       | prop_85       |                      |  400        |    85%     | 600   |  20         |"
   ]
  },
  {
   "cell_type": "code",
   "execution_count": 144,
   "metadata": {},
   "outputs": [
    {
     "name": "stdout",
     "output_type": "stream",
     "text": [
      "#pe\n",
      "Decodificado Loop: #pegu, Final antes do Loop: gu#\n",
      "#si\n",
      "Decodificado Loop: #sigu, Final antes do Loop: gu#\n",
      "#si\n",
      "Decodificado Loop: #siku, Final antes do Loop: ku#\n",
      "#de\n",
      "Decodificado Loop: #de#, Final antes do Loop: tu#\n",
      "#pr\n",
      "Decodificado Loop: #presps#, Final antes do Loop: tu#\n"
     ]
    },
    {
     "data": {
      "text/plain": [
       "(5, 460)"
      ]
     },
     "execution_count": 144,
     "metadata": {},
     "output_type": "execute_result"
    }
   ],
   "source": [
    "model = load_model('../data/prop_85')\n",
    "pipeline(['#pega#','#sega#','#seka#','#testa#','#presta#'])"
   ]
  },
  {
   "cell_type": "code",
   "execution_count": 147,
   "metadata": {},
   "outputs": [
    {
     "name": "stdout",
     "output_type": "stream",
     "text": [
      "#er\n",
      "Decodificado Loop: #eru, Final antes do Loop: ru#\n",
      "#mu\n",
      "Decodificado Loop: #muzujfzazasakada#, Final antes do Loop: ru#\n",
      "#jo\n",
      "Decodificado Loop: #jogogu, Final antes do Loop: gu#\n"
     ]
    },
    {
     "data": {
      "text/plain": [
       "(3, 460)"
      ]
     },
     "execution_count": 147,
     "metadata": {},
     "output_type": "execute_result"
    }
   ],
   "source": [
    "model = load_model('../data/prop_85')\n",
    "pipeline(['#ora#',\"#mora#\",'#joga#'])"
   ]
  },
  {
   "cell_type": "code",
   "execution_count": 148,
   "metadata": {},
   "outputs": [
    {
     "name": "stdout",
     "output_type": "stream",
     "text": [
      "#su\n",
      "Decodificado Loop: #su#, Final antes do Loop: iu#\n",
      "#me\n",
      "Decodificado Loop: #meuu#, Final antes do Loop: iu#\n"
     ]
    },
    {
     "data": {
      "text/plain": [
       "(2, 460)"
      ]
     },
     "execution_count": 148,
     "metadata": {},
     "output_type": "execute_result"
    }
   ],
   "source": [
    "model = load_model('../data/prop_85')\n",
    "pipeline(['#sortia#','#media#'])"
   ]
  },
  {
   "cell_type": "markdown",
   "metadata": {},
   "source": [
    "## FULL BATCH"
   ]
  },
  {
   "cell_type": "code",
   "execution_count": 13,
   "metadata": {},
   "outputs": [
    {
     "name": "stdout",
     "output_type": "stream",
     "text": [
      "#pe\n",
      "Decodificado Loop: #pe, Final antes do Loop: gu#\n"
     ]
    },
    {
     "data": {
      "text/plain": [
       "(1, 460)"
      ]
     },
     "execution_count": 13,
     "metadata": {},
     "output_type": "execute_result"
    }
   ],
   "source": [
    "model = load_model('../data/prop_55_batch_400')\n",
    "pipeline(['#pega#'])"
   ]
  },
  {
   "cell_type": "code",
   "execution_count": null,
   "metadata": {},
   "outputs": [],
   "source": []
  }
 ],
 "metadata": {
  "kernelspec": {
   "display_name": "Python 3",
   "language": "python",
   "name": "python3"
  },
  "language_info": {
   "codemirror_mode": {
    "name": "ipython",
    "version": 3
   },
   "file_extension": ".py",
   "mimetype": "text/x-python",
   "name": "python",
   "nbconvert_exporter": "python",
   "pygments_lexer": "ipython3",
   "version": "3.6.0"
  }
 },
 "nbformat": 4,
 "nbformat_minor": 2
}
