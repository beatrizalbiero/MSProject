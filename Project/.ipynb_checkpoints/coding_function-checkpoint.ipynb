{
 "cells": [
  {
   "cell_type": "code",
   "execution_count": null,
   "metadata": {
    "collapsed": true
   },
   "outputs": [],
   "source": [
    "##############################################################################################################################\n",
    "'''\n",
    "Coding Function:\n",
    "The coding function receives a string (in this case, a verb)\n",
    "and returns a boolean list with length 460, which is going to be the activation vetor after all.\n",
    "Usage example: \n",
    "import coding_function as cf\n",
    "dar = cf.coding('#dar#')\n",
    "'''\n",
    "##############################################################################################################################"
   ]
  },
  {
   "cell_type": "code",
   "execution_count": 14,
   "metadata": {
    "collapsed": true
   },
   "outputs": [],
   "source": [
    "import pickle\n",
    "from itertools import islice, tee\n",
    "from itertools import compress"
   ]
  },
  {
   "cell_type": "code",
   "execution_count": 15,
   "metadata": {
    "collapsed": true
   },
   "outputs": [],
   "source": [
    "def dictionary(phoneme):\n",
    "    \"\"\"\n",
    "    dictionary\n",
    "    This dictionary associates a phoneme to a set of phonological features\n",
    "    This dictionary was created based on the phonological table of brazilian portuguese language\n",
    "\n",
    "    :type phoneme: str\n",
    "    :rtype: dict\n",
    "\n",
    "    \"\"\"\n",
    "\n",
    "    dictio = {\n",
    "             \"#\":[\"#\",\"#\",\"#\",\"#\",\"#\"],\n",
    "             \"b\":[\"int\",\"b1\",\"front\",\"d1\",\"notboundary\"], \"p\":[\"int\",\"b1\",\"front\",\"d2\",\"notboundary\"],\n",
    "             \"d\":[\"int\",\"b1\",\"middle\",\"d1\",\"notboundary\"],\"t\":[\"int\",\"b1\",\"middle\",\"d2\",\"notboundary\"],\n",
    "             \"g\":[\"int\",\"b1\",\"back\",\"d1\",\"notboundary\"],\"k\":[\"int\",\"b1\",\"back\",\"d2\",\"notboundary\"],\n",
    "             \"m\":[\"int\",\"b2\",\"front\",\"d1\",\"notboundary\"],\"n\":[\"int\",\"b2\",\"middle\",\"d1\",\"notboundary\"],\n",
    "             \"v\":[\"cont\",\"b1\",\"front\",\"d1\",\"notboundary\"],\"f\":[\"cont\",\"b1\",\"front\",\"d2\",\"notboundary\"],\n",
    "             \"z\":[\"cont\",\"b1\",\"middle\",\"d1\",\"notboundary\"],\"s\":[\"cont\",\"b1\",\"middle\",\"d2\",\"notboundary\"],\n",
    "             \"j\":[\"cont\",\"b1\",\"back\",\"d1\",\"notboundary\"],\"x\":[\"cont\",\"b1\",\"back\",\"d2\",\"notboundary\"],\n",
    "             \"l\":[\"cont\",\"b2\",\"front\",\"d1\",\"notboundary\"],\"r\":[\"cont\",\"b2\",\"middle\",\"d1\",\"notboundary\"],\n",
    "             \"h\":[\"cont\",\"b2\",\"back\",\"d2\",\"notboundary\"],\n",
    "             \"a\":[\"vowel\",\"b2\",\"middle\",\"d2\",\"notboundary\"],\"e\":[\"vowel\",\"b1\",\"front\",\"d1\",\"notboundary\"],\n",
    "             \"E\":[\"vowel\",\"b2\",\"front\",\"d2\",\"notboundary\"], \"i\":[\"vowel\",\"b1\",\"front\",\"d2\",\"notboundary\"],\n",
    "             \"o\":[\"vowel\",\"b1\",\"back\",\"d1\",\"notboundary\"], \"O\":[\"vowel\",\"b2\",\"back\",\"d2\",\"notboundary\"],\n",
    "             \"u\":[\"vowel\",\"b1\",\"back\",\"d2\",\"notboundary\"]\n",
    "             }\n",
    "    return dictio[phoneme]"
   ]
  },
  {
   "cell_type": "code",
   "execution_count": 1,
   "metadata": {
    "collapsed": true
   },
   "outputs": [],
   "source": [
    "'''\n",
    "Check dataset:\n",
    "'''\n",
    "def dataTest(phoneticinf,phoneticI):\n",
    "    i = 1\n",
    "    for word in phoneticinf:\n",
    "        if str(word[0]) != '#':\n",
    "            print ('error: # missing in line {}'.format(i))\n",
    "            break\n",
    "        else: i = i + 1\n",
    "        i = 1    \n",
    "        for character in word:\n",
    "            if str(character) not in dictio:\n",
    "                print ('error: char ' + character + ' not in dictionary in word:' + word + ' line ' + str(i))\n",
    "                break\n",
    "    i = 1            \n",
    "    for word in phoneticI:\n",
    "        if str(word[0]) != '#':\n",
    "            print ('error: # missing in line {}'.format(i))\n",
    "            break\n",
    "        else: i = i + 1\n",
    "        i = 1   \n",
    "        for character in word:\n",
    "            if str(character) not in dictio:\n",
    "                print ('error: char ' + character + ' not in dictionary in word:' + word + ' line ' + str(i))\n",
    "                break          \n",
    "                \n",
    "    return 'done'"
   ]
  },
  {
   "cell_type": "code",
   "execution_count": 2,
   "metadata": {
    "collapsed": true
   },
   "outputs": [],
   "source": [
    "def trigramizer(verb):\n",
    "    \"\"\"\n",
    "    trigramizer\n",
    "    This procedure receives a verb and returns a list of all trigrams\n",
    "\n",
    "    :type verb: str\n",
    "    :rtype: list\n",
    "    \"\"\"\n",
    "    N = 3\n",
    "    trigrams = zip(*(islice(seq, index, None) for index, seq in enumerate(tee(verb, N))))\n",
    "    return list(trigrams)"
   ]
  },
  {
   "cell_type": "code",
   "execution_count": 17,
   "metadata": {
    "collapsed": true
   },
   "outputs": [],
   "source": [
    "def create_matrix(trigrams_list):\n",
    "    \"\"\"\n",
    "    create_matrix\n",
    "    This procedure receives a trigram of phonemes and returns, (for a single trigram), a list of its phonemes\n",
    "    associated to the dictionary\n",
    "\n",
    "    :trigrams_list type: list\n",
    "    :rtype: list\n",
    "    \"\"\"\n",
    "    matrix=[]\n",
    "    for lst in trigrams_list:\n",
    "        trigram_list = []\n",
    "        for i in lst:\n",
    "            trigram_list.append(dictionary(i))\n",
    "        matrix.append(trigram_list)\n",
    "    return matrix"
   ]
  },
  {
   "cell_type": "code",
   "execution_count": 18,
   "metadata": {
    "collapsed": true
   },
   "outputs": [],
   "source": [
    "def wickelfeatures(verb):\n",
    "    \"\"\"\n",
    "    wickelfeatures\n",
    "    Given a verb, this procedure returns a matrix of Wickelfeatures, i.e., trigrams associated to\n",
    "    the dicionary of features\n",
    "\n",
    "    :verb type: str\n",
    "    :rtype: list\n",
    "    \"\"\"\n",
    "    trig = trigramizer(verb)\n",
    "    matrix = create_matrix(trig)\n",
    "\n",
    "    return matrix"
   ]
  },
  {
   "cell_type": "code",
   "execution_count": 19,
   "metadata": {
    "collapsed": true
   },
   "outputs": [],
   "source": [
    "'''\n",
    "Input nodes \"dictionary\"\n",
    "A list of 460 nodes (wickelfeatures) has been created so we can compare it to the verb wikelfeatures\n",
    "'''\n",
    "with open(\"nodes.txt\", \"rb\") as file:\n",
    "    wickelfeatures_list = pickle.load(file)"
   ]
  },
  {
   "cell_type": "code",
   "execution_count": 20,
   "metadata": {
    "collapsed": true
   },
   "outputs": [],
   "source": [
    "def prep(lista_wkl):\n",
    "    \"\"\"\n",
    "    Prep: Prepares the verb for the comparison\n",
    "    This procedure receives a single wickelfeature and\n",
    "    returns a table of 16 wickelfeatures that are going to be activated\n",
    "    (based on McClellands and Rumelharts experiment)\n",
    "    Selects the wickelfeatures that are going to be activated by each trigram\n",
    "\n",
    "    :lista_wkl type: list\n",
    "    :rtype: list\n",
    "    \"\"\"\n",
    "    new_list = [\n",
    "    [lista_wkl[0][0], lista_wkl[1][0],lista_wkl[2][0]],\n",
    "    [lista_wkl[0][1], lista_wkl[1][0],lista_wkl[2][1]],\n",
    "    [lista_wkl[0][2], lista_wkl[1][0],lista_wkl[2][2]],\n",
    "    [lista_wkl[0][3], lista_wkl[1][0],lista_wkl[2][3]],\n",
    "    [lista_wkl[0][0], lista_wkl[1][1],lista_wkl[2][0]],\n",
    "    [lista_wkl[0][1], lista_wkl[1][1],lista_wkl[2][1]],\n",
    "    [lista_wkl[0][2], lista_wkl[1][1],lista_wkl[2][2]],\n",
    "    [lista_wkl[0][3], lista_wkl[1][1],lista_wkl[2][3]],\n",
    "    [lista_wkl[0][0], lista_wkl[1][2],lista_wkl[2][0]],\n",
    "    [lista_wkl[0][1], lista_wkl[1][2],lista_wkl[2][1]],\n",
    "    [lista_wkl[0][2], lista_wkl[1][2],lista_wkl[2][2]],\n",
    "    [lista_wkl[0][3], lista_wkl[1][2],lista_wkl[2][3]],\n",
    "    [lista_wkl[0][0], lista_wkl[1][3],lista_wkl[2][0]],\n",
    "    [lista_wkl[0][1], lista_wkl[1][3],lista_wkl[2][1]],\n",
    "    [lista_wkl[0][2], lista_wkl[1][3],lista_wkl[2][2]],\n",
    "    [lista_wkl[0][3], lista_wkl[1][3],lista_wkl[2][3]]\n",
    "    ]\n",
    "    return new_list"
   ]
  },
  {
   "cell_type": "code",
   "execution_count": 21,
   "metadata": {
    "collapsed": true
   },
   "outputs": [],
   "source": [
    "def activate_nodes(verb): #for each verb, returns the table of features to be activated\n",
    "    \"\"\"\n",
    "    activate_nodes\n",
    "    This procedure receives a verb and returns a list of wickelfeatures to be activated (based in the 'prep' procedure)\n",
    "\n",
    "    :verb type: str\n",
    "    :rtype: list\n",
    "    \"\"\"\n",
    "    list_prep = []\n",
    "    for item in wickelfeatures(verb):\n",
    "        list_prep.append(prep(item))\n",
    "    return list_prep"
   ]
  },
  {
   "cell_type": "code",
   "execution_count": 22,
   "metadata": {
    "collapsed": true
   },
   "outputs": [],
   "source": [
    "def compare (list1,list2):\n",
    "    \"\"\"\n",
    "    compare\n",
    "    This procedure simply compares a list of wickelfeatures (of the required verb) with the table of all\n",
    "    possible wickelfeatures (the wickelfeatures_list)\n",
    "    It is a boolean vector with length 460.\n",
    "\n",
    "    :list1 type: list\n",
    "    :list2 type: list\n",
    "    :rtype: list\n",
    "    \"\"\"\n",
    "    list_i =[0]*460\n",
    "    for item in list2:\n",
    "        for x in item:\n",
    "            for i, element in enumerate(list1):\n",
    "                if(x == element):\n",
    "                    list_i[i] = 1\n",
    "\n",
    "    return list_i"
   ]
  },
  {
   "cell_type": "code",
   "execution_count": 23,
   "metadata": {
    "collapsed": true
   },
   "outputs": [],
   "source": [
    "def coding(verb):\n",
    "    \"\"\"\n",
    "    coding\n",
    "    Finally, this procedure receives a verb and returns a 460 length boolean list.\n",
    "\n",
    "    :verb type: str\n",
    "    :rtype: list\n",
    "    \"\"\"\n",
    "    table = activate_nodes(verb)\n",
    "    nodes = compare(wickelfeatures_list,table)\n",
    "    return nodes"
   ]
  },
  {
   "cell_type": "code",
   "execution_count": 24,
   "metadata": {
    "collapsed": true
   },
   "outputs": [],
   "source": [
    "#Example:\n",
    "dar = coding(\"#dar#\")"
   ]
  },
  {
   "cell_type": "code",
   "execution_count": 25,
   "metadata": {
    "collapsed": true
   },
   "outputs": [],
   "source": [
    "def vector2string(filter_list,wickelfeatures_list):\n",
    "    '''\n",
    "    vector2string\n",
    "    This procedure receives a boolean list of wickelfeatures and returns a string vector of wickelfeatures\n",
    "\n",
    "    :filter_list type: list\n",
    "    :wickelfeatures_list type: list\n",
    "    :rtype: list\n",
    "    '''\n",
    "    vecting = list(compress(wickelfeatures_list, filter_list))\n",
    "    return vecting"
   ]
  },
  {
   "cell_type": "code",
   "execution_count": null,
   "metadata": {
    "collapsed": true
   },
   "outputs": [],
   "source": []
  }
 ],
 "metadata": {
  "kernelspec": {
   "display_name": "Python 3",
   "language": "python",
   "name": "python3"
  },
  "language_info": {
   "codemirror_mode": {
    "name": "ipython",
    "version": 3
   },
   "file_extension": ".py",
   "mimetype": "text/x-python",
   "name": "python",
   "nbconvert_exporter": "python",
   "pygments_lexer": "ipython3",
   "version": "3.6.0"
  }
 },
 "nbformat": 4,
 "nbformat_minor": 2
}
