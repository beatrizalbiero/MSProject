{
 "cells": [
  {
   "cell_type": "markdown",
   "metadata": {},
   "source": [
    "### Packages"
   ]
  },
  {
   "cell_type": "code",
   "execution_count": 3,
   "metadata": {
    "collapsed": false
   },
   "outputs": [
    {
     "name": "stderr",
     "output_type": "stream",
     "text": [
      "Using TensorFlow backend.\n"
     ]
    }
   ],
   "source": [
    "import sys\n",
    "import keras\n",
    "from keras.models import Sequential\n",
    "from keras.layers import Dense\n",
    "from keras.models import load_model\n",
    "from keras_metrics import KerasMetrics\n",
    "from keras.callbacks import EarlyStopping\n",
    "from keras import optimizers\n",
    "import numpy as np\n",
    "import random\n",
    "import pickle\n",
    "import decoding2\n",
    "import decoding_function as df\n",
    "from Files import nodes\n",
    "import os\n",
    "import utility as ut\n",
    "sys.path.append('../')"
   ]
  },
  {
   "cell_type": "code",
   "execution_count": 3,
   "metadata": {
    "collapsed": false
   },
   "outputs": [],
   "source": [
    "def pipeline(verbs):\n",
    "    \"\"\"\n",
    "    Pipeline receives a list of verbs and decodes it.\n",
    "    \n",
    "    :verbs type: list\n",
    "    :r type: string\n",
    "    \"\"\"\n",
    "    import coding_function as cf\n",
    "    test_list = []\n",
    "    for i in verbs:\n",
    "        coding = cf.coding(i)        \n",
    "        test_list.append(coding)\n",
    "    test_list = np.array(test_list)\n",
    "    prediction = model.predict(test_list)\n",
    "    for i in prediction:\n",
    "        print(decoding2.decoding(i))\n",
    "    return test_list.shape"
   ]
  },
  {
   "cell_type": "code",
   "execution_count": 26,
   "metadata": {},
   "outputs": [],
   "source": [
    "def pipeline(verbs):\n",
    "    \"\"\"\n",
    "    Pipeline receives a list of verbs and predicts a conjugated form for them.\n",
    "    The prediction is saved in an output file.\n",
    "\n",
    "    :verbs type: list\n",
    "    :r type: string\n",
    "    \"\"\"\n",
    "    import coding_function as cf\n",
    "    from time import gmtime, strftime\n",
    "    import itertools\n",
    "    time = strftime(\"%Y-%m-%d_%H:%M:%S\", gmtime())\n",
    "    name = \"output\" + time + \".txt\"\n",
    "\n",
    "    correct = {'#pega#': '#pEgu', '#sega#': '#sEgu#', '#seka#': '#sEku#',\n",
    "               '#leva#': '#lEvu#', '#ora#': '#Oru#', '#mora#': '#mOru#',\n",
    "               '#posta#': '#pOtu#', '#joga#': '#jOgu#', '#sortia#': '#soiu#',\n",
    "               '#media#': '#medeiu#', '#kompo#': '#koiu#', '#po#': '#poiu#', \n",
    "               '#menti#': '#mintu#', '#tosi#': '#tusu#', '#kobri#': \n",
    "               '#kubro#', '#faze#': '#fasu#', '#mata#': '#matu#', '#paga#': \n",
    "               '#pagu#', '#sai#': '#saiu#', '#bate#': '#batu#', '#kome#': \n",
    "               '#komu#'}\n",
    "\n",
    "    f = open('Files/Results/'+ name, \"w\")\n",
    "    f.write(\"train data set:\" + path + '\\n' + 'Results:\\n' + 'model name: ' + load + '\\n')\n",
    "    test_list = []\n",
    "    for i in verbs:\n",
    "        coding = cf.coding(i)\n",
    "        test_list.append(coding)\n",
    "    test_list = np.array(test_list)\n",
    "    prediction = model.predict(test_list)\n",
    "    for i,j in list(zip(verbs, prediction)):\n",
    "        f.write('verb: '+ i + \", expected: \" + correct[i] + \", prediction: \" + \n",
    "                decoding2.decoding(j) + '\\n')\n",
    "        print('verb: '+ i + \", expected: \" + correct[i] + \", prediction: \" + \n",
    "                decoding2.decoding(j) + '\\n')\n",
    "    scores = model.evaluate(X, Y)\n",
    "    f.write(\"\\n%s: %.2f%% \\n%s: %.2f%% \\n%s: %.2f%%\" % (model.metrics_names[1], scores[1]*100, \n",
    "                                                  model.metrics_names[2], scores[2]*100,\n",
    "                                                  model.metrics_names[3], scores[3]*100 ))\n",
    "    print(\"\\n%s: %.2f%% \\n%s: %.2f%% \\n%s: %.2f%%\" % (model.metrics_names[1], scores[1]*100, \n",
    "                                                  model.metrics_names[2], scores[2]*100,\n",
    "                                                  model.metrics_names[3], scores[3]*100 ))\n",
    "    \n",
    "    f.close()\n",
    "    return print(\"\\nPredictions saved in the file: \" + name) "
   ]
  },
  {
   "cell_type": "markdown",
   "metadata": {},
   "source": [
    "### 1. Load Data"
   ]
  },
  {
   "cell_type": "code",
   "execution_count": 5,
   "metadata": {
    "collapsed": true
   },
   "outputs": [],
   "source": [
    "path = '../data/prop_55.csv' #len 464\n",
    "#path = '../data/prop_65.csv'\n",
    "#path = '../data/prop_75.csv'\n",
    "#path = '../data/prop_85.csv'\n",
    "#path = '../data/prop_95.csv'\n",
    "#path = 'Files/50_50_morar.csv'\n",
    "X,Y = ut.load_data(path)\n",
    "batch = len(X)"
   ]
  },
  {
   "cell_type": "markdown",
   "metadata": {},
   "source": [
    "### 2. Fit Neural Net (Optional)"
   ]
  },
  {
   "cell_type": "code",
   "execution_count": 56,
   "metadata": {
    "collapsed": true
   },
   "outputs": [],
   "source": [
    "# 1. Define Model\n",
    "model = Sequential()\n",
    "model.add(Dense(460, input_shape=(460,), activation='sigmoid'))\n",
    "\n",
    "\n",
    "# 2. Compile model\n",
    "keras_metrics = KerasMetrics()\n",
    "model.compile( \n",
    "    optimizer='adam', \n",
    "    loss='mean_squared_error',\n",
    "    metrics = [ keras_metrics.fbeta_score,\n",
    "               keras_metrics.recall,\n",
    "               keras_metrics.precision]\n",
    "            )\n",
    "\n",
    "# 3. Fit model\n",
    "stopper = EarlyStopping(monitor='fbeta_score', min_delta=0.00005, patience=50, verbose=1, mode='max')\n",
    "model.fit(X,Y,epochs = 150, batch_size=batch,verbose=False,callbacks= [stopper])\n",
    "\n",
    "# 4. Evaluate model\n",
    "scores = model.evaluate(X, Y)\n",
    "print(\"\\n%s: %.2f%% \\n%s: %.2f%% \\n%s: %.2f%%\" % (model.metrics_names[1], scores[1]*100, \n",
    "                                                  model.metrics_names[2], scores[2]*100,\n",
    "                                                  model.metrics_names[3], scores[3]*100 ))\n",
    "\n",
    "# 5. Save model\n",
    "model.save('../data/50_50_morar')"
   ]
  },
  {
   "cell_type": "markdown",
   "metadata": {},
   "source": [
    "### 2. (Or Load Trained Model)\n",
    "For example: "
   ]
  },
  {
   "cell_type": "code",
   "execution_count": 4,
   "metadata": {
    "collapsed": true
   },
   "outputs": [],
   "source": [
    "#model = load_model('../data/prop_55',custom_objects={'fbeta_score': keras_metrics.fbeta_score,"
   ]
  },
  {
   "cell_type": "markdown",
   "metadata": {},
   "source": [
    "#### 2.1 Train existing model"
   ]
  },
  {
   "cell_type": "code",
   "execution_count": null,
   "metadata": {},
   "outputs": [],
   "source": [
    "#model.fit(X,Y,epochs = 150, batch_size=batch,verbose=False,callbacks= [stopper])"
   ]
  },
  {
   "cell_type": "markdown",
   "metadata": {},
   "source": [
    "### 3. Check Results\n",
    "Test the prediction for some verbs.\n",
    "\n",
    "pipeline(['#pega#','#sega#','#seka#','#leva#','#ora#','#mora#', '#posta#',\n",
    "          '#joga#','#sortia#','#media#','#kompo#','#po#','#tendi#','#jenti#',\n",
    "          '#menti#','#hendi#','#tosi#','#kobri#','#faze#','#mata#','#paga#',\n",
    "          '#sai#','#bate#','#kome#'])\n",
    "    \n",
    "\n",
    "|       \t|       \t| front \t| middle  \t| back    \t|\n",
    "|:-----:\t|-------\t|------:\t|---------\t|---------\t|\n",
    "|       \t|       \t| v/u   \t| v/u     \t| v/u     \t|\n",
    "|  **int**  | **stop**  | b/p   \t| d/t     \t| g/k     \t|\n",
    "|       \t| **nasal** | m/-   \t| n/-     \t| -       \t|\n",
    "| **cont**  | **fric**  | v/f   \t| z/s    \t| j/x   \t|\n",
    "|       \t| **liq**   | l/-   \t| r/-     \t| -/h     \t|\n",
    "| **vowel** | **high**  | e/i   \t| -       \t| o/u     \t|\n",
    "|       \t| **low**   | -/E   \t| -/a     \t| -/O     \t|"
   ]
  },
  {
   "cell_type": "markdown",
   "metadata": {},
   "source": [
    "## Results:"
   ]
  },
  {
   "cell_type": "markdown",
   "metadata": {},
   "source": [
    "## Proporcao 55% Irregulares"
   ]
  },
  {
   "cell_type": "markdown",
   "metadata": {},
   "source": [
    "|     Model Name     | Test File     | Total Irregular Verbs | Total Verbs | Proportion | Epochs | Batch Size  |\n",
    "|:------------------:|---------------|----------------------:|-------------|------------|--------|-------------|\n",
    "| prop_55         | prop_55       |        209            |  464        |    55%     | 150    |  464         |"
   ]
  },
  {
   "cell_type": "code",
   "execution_count": 27,
   "metadata": {
    "collapsed": false
   },
   "outputs": [
    {
     "name": "stdout",
     "output_type": "stream",
     "text": [
      "verb: #pega#, expected: #pEgu, prediction: Resposta:#begu#\n",
      "\n",
      "verb: #sega#, expected: #sEgu#, prediction: Resposta:#segu#\n",
      "\n",
      "verb: #seka#, expected: #sEku#, prediction: Resposta:#seku#\n",
      "\n",
      "verb: #leva#, expected: #lEvu#, prediction: Resposta:#lesu#\n",
      "\n",
      "verb: #ora#, expected: #Oru#, prediction: Resposta:#erru#\n",
      "\n",
      "verb: #mora#, expected: #mOru#, prediction: Resposta:#muru#\n",
      "\n",
      "verb: #posta#, expected: #pOtu#, prediction: Resposta:#butu#\n",
      "\n",
      "verb: #joga#, expected: #jOgu#, prediction: Resposta:#xogu#\n",
      "\n",
      "verb: #sortia#, expected: #soiu#, prediction: Resposta:#suiu#\n",
      "\n",
      "verb: #media#, expected: #medeiu#, prediction: Resposta:#meiu#\n",
      "\n",
      "verb: #kompo#, expected: #koiu#, prediction: Resposta:#koiu#\n",
      "\n",
      "verb: #po#, expected: #poiu#, prediction: Resposta:#poiu#\n",
      "\n",
      "verb: #menti#, expected: #mintu#, prediction: Resposta:#metu#\n",
      "\n",
      "verb: #tosi#, expected: #tusu#, prediction: Resposta:#tofu#\n",
      "\n",
      "verb: #kobri#, expected: #kubro#, prediction: Resposta:#koru#\n",
      "\n",
      "verb: #faze#, expected: #fasu#, prediction: Resposta:#fasu#\n",
      "\n",
      "verb: #mata#, expected: #matu#, prediction: Resposta:#matu#\n",
      "\n",
      "verb: #paga#, expected: #pagu#, prediction: Resposta:#bagu#\n",
      "\n",
      "verb: #sai#, expected: #saiu#, prediction: Resposta:#saiu#\n",
      "\n",
      "verb: #bate#, expected: #batu#, prediction: Resposta:#batu#\n",
      "\n",
      "verb: #kome#, expected: #komu#, prediction: Resposta:#koeu#\n",
      "\n",
      " 32/464 [=>............................] - ETA: 1s\n",
      "fbeta_score: 89.99% \n",
      "fbeta_score: 89.99% \n",
      "recall: 84.92%\n",
      "\n",
      "Predictions saved in the file: output2018-03-29_21:23:54.txt\n"
     ]
    }
   ],
   "source": [
    "keras_metrics = KerasMetrics()\n",
    "load = '../data/prop_55'\n",
    "model = load_model(load,custom_objects={'fbeta_score': keras_metrics.fbeta_score,\n",
    "                                                     'recall': keras_metrics.recall,\n",
    "                                                     'precision': keras_metrics.precision})\n",
    "pipeline(['#pega#','#sega#','#seka#','#leva#','#ora#','#mora#', '#posta#',\n",
    "          '#joga#','#sortia#','#media#','#kompo#','#po#','#menti#','#tosi#',\n",
    "          '#kobri#','#faze#','#mata#','#paga#',\n",
    "          '#sai#','#bate#','#kome#'])"
   ]
  },
  {
   "cell_type": "markdown",
   "metadata": {},
   "source": [
    "## Proporcao 65% Irregulares\n"
   ]
  },
  {
   "cell_type": "markdown",
   "metadata": {},
   "source": [
    "|     Model Name     | Test File     | Total Irregular Verbs | Total Verbs | Proportion | Epochs | Batch Size  |\n",
    "|:------------------:|---------------|----------------------:|-------------|------------|--------|-------------|\n",
    "| prop_65     | prop_65       |      209        |  579        |    65%     | 150    |  579         |"
   ]
  },
  {
   "cell_type": "code",
   "execution_count": 22,
   "metadata": {},
   "outputs": [
    {
     "name": "stdout",
     "output_type": "stream",
     "text": [
      "verb: #pega#, expected: #pEgu, prediction: Resposta:#bexu#\n",
      "\n",
      "verb: #sega#, expected: #sEgu#, prediction: Resposta:#segu#\n",
      "\n",
      "verb: #seka#, expected: #sEku#, prediction: Resposta:#seku#\n",
      "\n",
      "verb: #leva#, expected: #lEvu#, prediction: Resposta:#levu#\n",
      "\n",
      "verb: #ora#, expected: #Oru#, prediction: Resposta:#erru#\n",
      "\n",
      "verb: #mora#, expected: #mOru#, prediction: Resposta:#buru#\n",
      "\n",
      "verb: #posta#, expected: #pOtu#, prediction: Resposta:#bOtu#\n",
      "\n",
      "verb: #joga#, expected: #jOgu#, prediction: Resposta:#xogu#\n",
      "\n",
      "verb: #sortia#, expected: #soiu#, prediction: Resposta:#suiu#\n",
      "\n",
      "verb: #media#, expected: #medeiu#, prediction: Resposta:#meiu#\n",
      "\n",
      "verb: #kompo#, expected: #koiu#, prediction: Resposta:#koiu#\n",
      "\n",
      "verb: #po#, expected: #poiu#, prediction: Resposta:#poiu#\n",
      "\n",
      "verb: #menti#, expected: #mintu#, prediction: Resposta:#mitu#\n",
      "\n",
      "verb: #tosi#, expected: #tusu#, prediction: Resposta:#tusu#\n",
      "\n",
      "verb: #kobri#, expected: #kubro#, prediction: Resposta:#koru#\n",
      "\n",
      "verb: #faze#, expected: #fasu#, prediction: Resposta:#fasu#\n",
      "\n",
      "verb: #mata#, expected: #matu#, prediction: Resposta:#matu#\n",
      "\n",
      "verb: #paga#, expected: #pagu#, prediction: Resposta:#bagu#\n",
      "\n",
      "verb: #sai#, expected: #saiu#, prediction: Resposta:#saiu#\n",
      "\n",
      "verb: #bate#, expected: #batu#, prediction: Resposta:#baiu#\n",
      "\n",
      "verb: #kome#, expected: #komu#, prediction: Resposta:#koeu#\n",
      "\n",
      " 32/464 [=>............................] - ETA: 1s\n",
      "Predictions saved in the file: output2018-03-29_21:19:25.txt\n"
     ]
    }
   ],
   "source": [
    "keras_metrics = KerasMetrics()\n",
    "load = '../data/prop_65'\n",
    "model = load_model(load,custom_objects={'fbeta_score': keras_metrics.fbeta_score,\n",
    "                                                     'recall': keras_metrics.recall,\n",
    "                                                     'precision': keras_metrics.precision})\n",
    "pipeline(['#pega#','#sega#','#seka#','#leva#','#ora#','#mora#', '#posta#',\n",
    "          '#joga#','#sortia#','#media#','#kompo#','#po#','#menti#','#tosi#',\n",
    "          '#kobri#','#faze#','#mata#','#paga#',\n",
    "          '#sai#','#bate#','#kome#'])"
   ]
  },
  {
   "cell_type": "markdown",
   "metadata": {},
   "source": [
    "## Proporcao 75% Irregulares"
   ]
  },
  {
   "cell_type": "markdown",
   "metadata": {},
   "source": [
    "|     Model Name     | Test File     | Total Irregular Verbs | Total Verbs | Proportion | Epochs | Batch Size  |\n",
    "|:------------------:|---------------|----------------------:|-------------|------------|--------|-------------|\n",
    "| prop_75       | prop_75       |            300          |  400        |    75%     | 150   |  400         |"
   ]
  },
  {
   "cell_type": "code",
   "execution_count": 23,
   "metadata": {},
   "outputs": [
    {
     "name": "stdout",
     "output_type": "stream",
     "text": [
      "verb: #pega#, expected: #pEgu, prediction: Resposta:#beku#\n",
      "\n",
      "verb: #sega#, expected: #sEgu#, prediction: Resposta:#segu#\n",
      "\n",
      "verb: #seka#, expected: #sEku#, prediction: Resposta:#seku#\n",
      "\n",
      "verb: #leva#, expected: #lEvu#, prediction: Resposta:#levu#\n",
      "\n",
      "verb: #ora#, expected: #Oru#, prediction: Resposta:#irru#\n",
      "\n",
      "verb: #mora#, expected: #mOru#, prediction: Resposta:#miru#\n",
      "\n",
      "verb: #posta#, expected: #pOtu#, prediction: Resposta:#putu#\n",
      "\n",
      "verb: #joga#, expected: #jOgu#, prediction: Resposta:#xogu#\n",
      "\n",
      "verb: #sortia#, expected: #soiu#, prediction: Resposta:#suiu#\n",
      "\n",
      "verb: #media#, expected: #medeiu#, prediction: Resposta:#meiu#\n",
      "\n",
      "verb: #kompo#, expected: #koiu#, prediction: Resposta:#koiu#\n",
      "\n",
      "verb: #po#, expected: #poiu#, prediction: Resposta:#poiu#\n",
      "\n",
      "verb: #menti#, expected: #mintu#, prediction: Resposta:#mitu#\n",
      "\n",
      "verb: #tosi#, expected: #tusu#, prediction: Resposta:#tosu#\n",
      "\n",
      "verb: #kobri#, expected: #kubro#, prediction: Resposta:#koru#\n",
      "\n",
      "verb: #faze#, expected: #fasu#, prediction: Resposta:#fasu#\n",
      "\n",
      "verb: #mata#, expected: #matu#, prediction: Resposta:#matu#\n",
      "\n",
      "verb: #paga#, expected: #pagu#, prediction: Resposta:#bagu#\n",
      "\n",
      "verb: #sai#, expected: #saiu#, prediction: Resposta:#saiu#\n",
      "\n",
      "verb: #bate#, expected: #batu#, prediction: Resposta:#bapu#\n",
      "\n",
      "verb: #kome#, expected: #komu#, prediction: Resposta:#koeu#\n",
      "\n",
      " 32/464 [=>............................] - ETA: 1s\n",
      "Predictions saved in the file: output2018-03-29_21:20:27.txt\n"
     ]
    }
   ],
   "source": [
    "keras_metrics = KerasMetrics()\n",
    "load = '../data/prop_75'\n",
    "model = load_model(load, custom_objects={'fbeta_score': keras_metrics.fbeta_score,\n",
    "                                                     'recall': keras_metrics.recall,\n",
    "                                                     'precision': keras_metrics.precision})\n",
    "pipeline(['#pega#','#sega#','#seka#','#leva#','#ora#','#mora#', '#posta#',\n",
    "          '#joga#','#sortia#','#media#','#kompo#','#po#','#menti#','#tosi#',\n",
    "          '#kobri#','#faze#','#mata#','#paga#',\n",
    "          '#sai#','#bate#','#kome#'])"
   ]
  },
  {
   "cell_type": "markdown",
   "metadata": {},
   "source": [
    "## Proporcao 85% Irregulares"
   ]
  },
  {
   "cell_type": "markdown",
   "metadata": {},
   "source": [
    "|     Model Name     | Test File     | Total Irregular Verbs | Total Verbs | Proportion | Epochs | Batch Size  |\n",
    "|:------------------:|---------------|----------------------:|-------------|------------|--------|-------------|\n",
    "| prop_85       | prop_85       |             340         |  400        |    85%     | 150   |  400         |"
   ]
  },
  {
   "cell_type": "code",
   "execution_count": 24,
   "metadata": {},
   "outputs": [
    {
     "name": "stdout",
     "output_type": "stream",
     "text": [
      "verb: #pega#, expected: #pEgu, prediction: Resposta:#beku#\n",
      "\n",
      "verb: #sega#, expected: #sEgu#, prediction: Resposta:#segu#\n",
      "\n",
      "verb: #seka#, expected: #sEku#, prediction: Resposta:#siku#\n",
      "\n",
      "verb: #leva#, expected: #lEvu#, prediction: Resposta:#lesu#\n",
      "\n",
      "verb: #ora#, expected: #Oru#, prediction: Resposta:#iaru#\n",
      "\n",
      "verb: #mora#, expected: #mOru#, prediction: Resposta:#biru#\n",
      "\n",
      "verb: #posta#, expected: #pOtu#, prediction: Resposta:#bOtu#\n",
      "\n",
      "verb: #joga#, expected: #jOgu#, prediction: Resposta:#xogu#\n",
      "\n",
      "verb: #sortia#, expected: #soiu#, prediction: Resposta:#suiu#\n",
      "\n",
      "verb: #media#, expected: #medeiu#, prediction: Resposta:#meiu#\n",
      "\n",
      "verb: #kompo#, expected: #koiu#, prediction: Resposta:#koiu#\n",
      "\n",
      "verb: #po#, expected: #poiu#, prediction: Resposta:#poiu#\n",
      "\n",
      "verb: #menti#, expected: #mintu#, prediction: Resposta:#mitu#\n",
      "\n",
      "verb: #tosi#, expected: #tusu#, prediction: Resposta:#tofu#\n",
      "\n",
      "verb: #kobri#, expected: #kubro#, prediction: Resposta:#koru#\n",
      "\n",
      "verb: #faze#, expected: #fasu#, prediction: Resposta:#fasu#\n",
      "\n",
      "verb: #mata#, expected: #matu#, prediction: Resposta:#matu#\n",
      "\n",
      "verb: #paga#, expected: #pagu#, prediction: Resposta:#babu#\n",
      "\n",
      "verb: #sai#, expected: #saiu#, prediction: Resposta:#saiu#\n",
      "\n",
      "verb: #bate#, expected: #batu#, prediction: Resposta:#baiu#\n",
      "\n",
      "verb: #kome#, expected: #komu#, prediction: Resposta:#koiu#\n",
      "\n",
      " 32/464 [=>............................] - ETA: 1s\n",
      "Predictions saved in the file: output2018-03-29_21:21:05.txt\n"
     ]
    }
   ],
   "source": [
    "keras_metrics = KerasMetrics()\n",
    "load = '../data/prop_85'\n",
    "model = load_model(load,custom_objects={'fbeta_score': keras_metrics.fbeta_score,\n",
    "                                                     'recall': keras_metrics.recall,\n",
    "                                                     'precision': keras_metrics.precision})\n",
    "pipeline(['#pega#','#sega#','#seka#','#leva#','#ora#','#mora#', '#posta#',\n",
    "          '#joga#','#sortia#','#media#','#kompo#','#po#','#menti#','#tosi#',\n",
    "          '#kobri#','#faze#','#mata#','#paga#',\n",
    "          '#sai#','#bate#','#kome#'])"
   ]
  },
  {
   "cell_type": "markdown",
   "metadata": {},
   "source": [
    "## Proporcao 95% Irregulares"
   ]
  },
  {
   "cell_type": "markdown",
   "metadata": {},
   "source": [
    "|     Model Name     | Test File     | Total Irregular Verbs | Total Verbs | Proportion | Epochs | Batch Size  |\n",
    "|:------------------:|---------------|----------------------:|-------------|------------|--------|-------------|\n",
    "| prop_95       | prop_95       |             380         |  400        |    95%     | 150   |  400         |"
   ]
  },
  {
   "cell_type": "code",
   "execution_count": 25,
   "metadata": {},
   "outputs": [
    {
     "name": "stdout",
     "output_type": "stream",
     "text": [
      "verb: #pega#, expected: #pEgu, prediction: Resposta:#pEku#\n",
      "\n",
      "verb: #sega#, expected: #sEgu#, prediction: Resposta:#sigu#\n",
      "\n",
      "verb: #seka#, expected: #sEku#, prediction: Resposta:#siku#\n",
      "\n",
      "verb: #leva#, expected: #lEvu#, prediction: Resposta:#lesu#\n",
      "\n",
      "verb: #ora#, expected: #Oru#, prediction: Resposta:#earu#\n",
      "\n",
      "verb: #mora#, expected: #mOru#, prediction: Resposta:#mOru#\n",
      "\n",
      "verb: #posta#, expected: #pOtu#, prediction: Resposta:#pOtu#\n",
      "\n",
      "verb: #joga#, expected: #jOgu#, prediction: Resposta:#xogu#\n",
      "\n",
      "verb: #sortia#, expected: #soiu#, prediction: Resposta:#suiu#\n",
      "\n",
      "verb: #media#, expected: #medeiu#, prediction: Resposta:#meiu#\n",
      "\n",
      "verb: #kompo#, expected: #koiu#, prediction: Resposta:#koiu#\n",
      "\n",
      "verb: #po#, expected: #poiu#, prediction: Resposta:#poiu#\n",
      "\n",
      "verb: #menti#, expected: #mintu#, prediction: Resposta:#mitu#\n",
      "\n",
      "verb: #tosi#, expected: #tusu#, prediction: Resposta:#topu#\n",
      "\n",
      "verb: #kobri#, expected: #kubro#, prediction: Resposta:#koru#\n",
      "\n",
      "verb: #faze#, expected: #fasu#, prediction: Resposta:#fasu#\n",
      "\n",
      "verb: #mata#, expected: #matu#, prediction: Resposta:#matu#\n",
      "\n",
      "verb: #paga#, expected: #pagu#, prediction: Resposta:#papu#\n",
      "\n",
      "verb: #sai#, expected: #saiu#, prediction: Resposta:#saiu#\n",
      "\n",
      "verb: #bate#, expected: #batu#, prediction: Resposta:#maiu#\n",
      "\n",
      "verb: #kome#, expected: #komu#, prediction: Resposta:#koiu#\n",
      "\n",
      " 32/464 [=>............................] - ETA: 1s\n",
      "Predictions saved in the file: output2018-03-29_21:21:30.txt\n"
     ]
    }
   ],
   "source": [
    "keras_metrics = KerasMetrics()\n",
    "load = '../data/prop_95'\n",
    "model = load_model(load, custom_objects={'fbeta_score': keras_metrics.fbeta_score,\n",
    "                                                     'recall': keras_metrics.recall,\n",
    "                                                     'precision': keras_metrics.precision})\n",
    "pipeline(['#pega#','#sega#','#seka#','#leva#','#ora#','#mora#', '#posta#',\n",
    "          '#joga#','#sortia#','#media#','#kompo#','#po#','#menti#','#tosi#',\n",
    "          '#kobri#','#faze#','#mata#','#paga#',\n",
    "          '#sai#','#bate#','#kome#'])"
   ]
  },
  {
   "cell_type": "markdown",
   "metadata": {},
   "source": [
    "### Experimento 50 - 50"
   ]
  },
  {
   "cell_type": "code",
   "execution_count": 59,
   "metadata": {},
   "outputs": [
    {
     "name": "stdout",
     "output_type": "stream",
     "text": [
      "Resposta:#bOtu#\n",
      "Resposta:#tOku#\n",
      "Resposta:#legu#\n",
      "Resposta:#batu#\n",
      "Resposta:#lepu#\n",
      "Resposta:#kasu#\n"
     ]
    },
    {
     "data": {
      "text/plain": [
       "(6, 460)"
      ]
     },
     "execution_count": 59,
     "metadata": {},
     "output_type": "execute_result"
    }
   ],
   "source": [
    "model = load_model('../data/50_50_morar',custom_objects={'fbeta_score': keras_metrics.fbeta_score,\n",
    "                                                     'recall': keras_metrics.recall,\n",
    "                                                     'precision': keras_metrics.precision})\n",
    "pipeline(['#nota#','#soka#','#loga#','#bate#','#limpa#','#kasa#'])"
   ]
  },
  {
   "cell_type": "code",
   "execution_count": null,
   "metadata": {},
   "outputs": [],
   "source": []
  }
 ],
 "metadata": {
  "kernelspec": {
   "display_name": "Python 3",
   "language": "python",
   "name": "python3"
  },
  "language_info": {
   "codemirror_mode": {
    "name": "ipython",
    "version": 3
   },
   "file_extension": ".py",
   "mimetype": "text/x-python",
   "name": "python",
   "nbconvert_exporter": "python",
   "pygments_lexer": "ipython3",
   "version": "3.6.4"
  }
 },
 "nbformat": 4,
 "nbformat_minor": 2
}
