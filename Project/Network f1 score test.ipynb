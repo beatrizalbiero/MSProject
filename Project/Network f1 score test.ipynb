{
 "cells": [
  {
   "cell_type": "markdown",
   "metadata": {},
   "source": [
    "### Packages"
   ]
  },
  {
   "cell_type": "code",
   "execution_count": 1,
   "metadata": {
    "collapsed": false
   },
   "outputs": [
    {
     "name": "stderr",
     "output_type": "stream",
     "text": [
      "Using TensorFlow backend.\n"
     ]
    }
   ],
   "source": [
    "import sys\n",
    "import keras\n",
    "from keras.models import Sequential\n",
    "from keras.layers import Dense\n",
    "from keras.models import load_model\n",
    "from keras_metrics import KerasMetrics\n",
    "from keras.callbacks import EarlyStopping\n",
    "from keras import optimizers\n",
    "import numpy as np\n",
    "import random\n",
    "import pickle\n",
    "import decoding2\n",
    "import decoding_function as df\n",
    "from Files import nodes\n",
    "import os\n",
    "import utility as ut\n",
    "import livelossplot\n",
    "sys.path.append('../')"
   ]
  },
  {
   "cell_type": "code",
   "execution_count": 35,
   "metadata": {
    "collapsed": true
   },
   "outputs": [],
   "source": [
    "def pipeline(verbs):\n",
    "    \"\"\"\n",
    "    Pipeline receives a list of verbs and predicts a conjugated form for them.\n",
    "    The prediction is saved in an output file.\n",
    "\n",
    "    :verbs type: list\n",
    "    :r type: string\n",
    "    \"\"\"\n",
    "    import coding_function as cf\n",
    "    from time import gmtime, strftime\n",
    "    import itertools\n",
    "    time = strftime(\"%Y-%m-%d_%H:%M:%S\", gmtime())\n",
    "    name = \"output_\" + time + \".txt\"\n",
    "\n",
    "    correct = {'#pega#': '#pEgu#', '#sega#': '#sEgu#', '#seka#': '#sEku#',\n",
    "               '#leva#': '#lEvu#', '#ora#': '#Oru#', '#mora#': '#mOru#',\n",
    "               '#posta#': '#pOtu#', '#joga#': '#jOgu#', '#sortia#': '#soiu#',\n",
    "               '#media#': '#meiu#', '#kompo#': '#koiu#', '#po#': '#poiu#', \n",
    "               '#menti#': '#mitu#', '#tosi#': '#tusu#', '#kobri#': \n",
    "               '#kuro#', '#faze#': '#fasu#', '#mata#': '#matu#', '#paga#': \n",
    "               '#pagu#', '#sai#': '#saiu#', '#bate#': '#batu#', '#kome#': \n",
    "               '#komu#','#nota#': '#nOta#','#soka#': '#sOku#','#loga#': '#lOga#',\n",
    "               '#limpa#': '#lipu#','#kasa#': '#kasu#'}\n",
    "\n",
    "#     f = open('Files/Results/'+ name, \"w\")\n",
    "#     f.write(\"train data set:\" + path + '\\n' + 'Results:\\n' + 'model name: ' + load + '\\n')\n",
    "    test_list = []\n",
    "    for i in verbs:\n",
    "        coding = cf.coding(i)\n",
    "        test_list.append(coding)\n",
    "    test_list = np.array(test_list)\n",
    "    prediction = model.predict(test_list)\n",
    "    sum = 0\n",
    "    for i,j in list(zip(verbs, prediction)):\n",
    "#         f.write('verb: '+ i + \", expected: \" + correct[i] + \", prediction: \" + \n",
    "#                 decoding2.decoding(j) + '\\n')\n",
    "        decoded = decoding2.decoding(j)\n",
    "        print('verb: '+ i + \", expected: \" + correct[i] + \", prediction: \" + \n",
    "                decoded + '\\n')\n",
    "        \n",
    "        if decoded == correct[i]:\n",
    "            sum = sum + 1    \n",
    "    print(\"Accuracy (verbs): %.2f%%\" % (sum/len(verbs)*100 ))\n",
    "    scores = model.evaluate(X, Y)\n",
    "#     f.write(\"\\n%s: %.2f%% \\n%s: %.2f%% \\n%s: %.2f%%\" % (model.metrics_names[0], scores[1]*100,\n",
    "#                                                         model.metrics_names[1], scores[1]*100, \n",
    "#                                                         model.metrics_names[2], scores[2]*100,\n",
    "#                                                         model.metrics_names[3], scores[3]*100 ))\n",
    "    print(\"\\n%s: %.2f%% \\n%s: %.2f%% \\n%s: %.2f%% \\n%s: %.2f%%\" % (model.metrics_names[0], scores[0]*100,\n",
    "                                                                   model.metrics_names[1], scores[1]*100, \n",
    "                                                                   model.metrics_names[2], scores[2]*100,\n",
    "                                                                   model.metrics_names[3], scores[3]*100 ))\n",
    "    \n",
    "    \n",
    "    #f.close()\n",
    "    return #print(\"\\nPredictions saved in the file: \" + name) "
   ]
  },
  {
   "cell_type": "markdown",
   "metadata": {},
   "source": [
    "### 1. Load Data"
   ]
  },
  {
   "cell_type": "code",
   "execution_count": 30,
   "metadata": {
    "collapsed": true
   },
   "outputs": [],
   "source": [
    "#path = '../data/prop_55.csv' #len 464\n",
    "#path = '../data/prop_65.csv'\n",
    "#path = '../data/prop_75.csv'\n",
    "#path = '../data/prop_85.csv'\n",
    "#path = '../data/prop_95.csv'\n",
    "path = 'Files/50_50_morar.csv'\n",
    "X,Y = ut.load_data(path)\n",
    "batch = len(X)"
   ]
  },
  {
   "cell_type": "markdown",
   "metadata": {},
   "source": [
    "### 2. Fit Neural Net (Optional)"
   ]
  },
  {
   "cell_type": "code",
   "execution_count": 31,
   "metadata": {
    "collapsed": false
   },
   "outputs": [
    {
     "name": "stdout",
     "output_type": "stream",
     "text": [
      " 32/192 [====>.........................] - ETA: 0s\n",
      "loss: 0.73% \n",
      "fbeta_score: 99.87% \n",
      "recall: 99.75% \n",
      "precision: 99.99%\n"
     ]
    }
   ],
   "source": [
    "# 1. Define Model\n",
    "model = Sequential()\n",
    "model.add(Dense(460, input_shape=(460,), activation='sigmoid'))\n",
    "\n",
    "\n",
    "# 2. Compile model\n",
    "keras_metrics = KerasMetrics()\n",
    "model.compile( \n",
    "    optimizer='adam', \n",
    "    loss='mean_squared_error',\n",
    "    metrics = [ keras_metrics.fbeta_score,\n",
    "               keras_metrics.recall,\n",
    "               keras_metrics.precision]\n",
    "            )\n",
    "\n",
    "# 3. Fit model\n",
    "#stopper = EarlyStopping(monitor='loss', min_delta=0.00005, patience=50, verbose=1, mode='max')\n",
    "model.fit(X,Y,epochs = 400, batch_size=batch,verbose=False)#,callbacks= [stopper])\n",
    "\n",
    "# 4. Evaluate model\n",
    "scores = model.evaluate(X, Y)\n",
    "print(\"\\n%s: %.2f%% \\n%s: %.2f%% \\n%s: %.2f%% \\n%s: %.2f%%\" % (model.metrics_names[0], scores[0]*100,\n",
    "                                                               model.metrics_names[1], scores[1]*100, \n",
    "                                                               model.metrics_names[2], scores[2]*100,\n",
    "                                                               model.metrics_names[3], scores[3]*100 ))\n",
    "\n",
    "# 5. Save model\n",
    "model.save('../data/test_5050')"
   ]
  },
  {
   "cell_type": "markdown",
   "metadata": {},
   "source": [
    "### 2. (Or Load Trained Model)\n",
    "For example: "
   ]
  },
  {
   "cell_type": "code",
   "execution_count": 4,
   "metadata": {
    "collapsed": true
   },
   "outputs": [],
   "source": [
    "#model = load_model('../data/prop_55',custom_objects={'fbeta_score': keras_metrics.fbeta_score,"
   ]
  },
  {
   "cell_type": "markdown",
   "metadata": {},
   "source": [
    "#### 2.1 Train existing model"
   ]
  },
  {
   "cell_type": "code",
   "execution_count": null,
   "metadata": {
    "collapsed": true
   },
   "outputs": [],
   "source": [
    "#model.fit(X,Y,epochs = 150, batch_size=batch,verbose=False,callbacks= [stopper])"
   ]
  },
  {
   "cell_type": "markdown",
   "metadata": {},
   "source": [
    "### 3. Check Results\n",
    "Test the prediction for some verbs.\n",
    "\n",
    "pipeline(['#pega#','#sega#','#seka#','#leva#','#ora#','#mora#', '#posta#',\n",
    "          '#joga#','#sortia#','#media#','#kompo#','#po#','#tendi#','#jenti#',\n",
    "          '#menti#','#hendi#','#tosi#','#kobri#','#faze#','#mata#','#paga#',\n",
    "          '#sai#','#bate#','#kome#'])\n",
    "    \n",
    "\n",
    "|       \t|       \t| front \t| middle  \t| back    \t|\n",
    "|:-----:\t|-------\t|------:\t|---------\t|---------\t|\n",
    "|       \t|       \t| v/u   \t| v/u     \t| v/u     \t|\n",
    "|  **int**  | **stop**  | b/p   \t| d/t     \t| g/k     \t|\n",
    "|       \t| **nasal** | m/-   \t| n/-     \t| -       \t|\n",
    "| **cont**  | **fric**  | v/f   \t| z/s    \t| j/x   \t|\n",
    "|       \t| **liq**   | l/-   \t| r/-     \t| -/h     \t|\n",
    "| **vowel** | **high**  | e/i   \t| -       \t| o/u     \t|\n",
    "|       \t| **low**   | -/E   \t| -/a     \t| -/O     \t|"
   ]
  },
  {
   "cell_type": "markdown",
   "metadata": {},
   "source": [
    "## Results:"
   ]
  },
  {
   "cell_type": "markdown",
   "metadata": {},
   "source": [
    "## Proporcao 55% Irregulares"
   ]
  },
  {
   "cell_type": "markdown",
   "metadata": {},
   "source": [
    "|     Model Name     | Test File     | Total Irregular Verbs | Total Verbs | Proportion | Epochs | Batch Size  |\n",
    "|:------------------:|---------------|----------------------:|-------------|------------|--------|-------------|\n",
    "| prop_55    | prop_55       |   209    |  464     |    55%     | 400    |  464         |"
   ]
  },
  {
   "cell_type": "code",
   "execution_count": 15,
   "metadata": {
    "collapsed": false
   },
   "outputs": [
    {
     "name": "stdout",
     "output_type": "stream",
     "text": [
      "verb: #pega#, expected: #pEgu#, prediction: #pegu#\n",
      "\n",
      "verb: #sega#, expected: #sEgu#, prediction: #segu#\n",
      "\n",
      "verb: #seka#, expected: #sEku#, prediction: #seku#\n",
      "\n",
      "verb: #leva#, expected: #lEvu#, prediction: #levu#\n",
      "\n",
      "verb: #ora#, expected: #Oru#, prediction: #orru#\n",
      "\n",
      "verb: #mora#, expected: #mOru#, prediction: #moru#\n",
      "\n",
      "verb: #posta#, expected: #pOtu#, prediction: #pOtu#\n",
      "\n",
      "verb: #joga#, expected: #jOgu#, prediction: #jogu#\n",
      "\n",
      "verb: #sortia#, expected: #soiu#, prediction: #suiu#\n",
      "\n",
      "verb: #media#, expected: #meiu#, prediction: #meiu#\n",
      "\n",
      "verb: #kompo#, expected: #koiu#, prediction: #koiu#\n",
      "\n",
      "verb: #po#, expected: #poiu#, prediction: #poiu#\n",
      "\n",
      "verb: #menti#, expected: #mitu#, prediction: #mitu#\n",
      "\n",
      "verb: #tosi#, expected: #tusu#, prediction: #tufu#\n",
      "\n",
      "verb: #kobri#, expected: #kuro#, prediction: #koru#\n",
      "\n",
      "verb: #faze#, expected: #fasu#, prediction: #fasu#\n",
      "\n",
      "verb: #mata#, expected: #matu#, prediction: #matu#\n",
      "\n",
      "verb: #paga#, expected: #pagu#, prediction: #pagu#\n",
      "\n",
      "verb: #sai#, expected: #saiu#, prediction: #saiu#\n",
      "\n",
      "verb: #bate#, expected: #batu#, prediction: #baiu#\n",
      "\n",
      "verb: #kome#, expected: #komu#, prediction: #koeu#\n",
      "\n",
      "Accuracy (verbs): 42.86%\n",
      "448/452 [============================>.] - ETA: 0s\b\b\b\b\b\b\b\b\b\b\b\b\b\b\b\b\b\b\b\b\b\b\b\b\b\b\b\b\b\b\b\b\b\b\b\b\b\b\b\b\b\b\b\b\b\b\b\b\b\b\n",
      "loss: 1.90% \n",
      "fbeta_score: 98.16% \n",
      "recall: 97.42% \n",
      "precision: 98.91%\n"
     ]
    }
   ],
   "source": [
    "path = '../data/prop_55.csv'\n",
    "X,Y = ut.load_data(path)\n",
    "keras_metrics = KerasMetrics()\n",
    "load = '../data/prop_55'\n",
    "model = load_model(load,custom_objects={'fbeta_score': keras_metrics.fbeta_score,\n",
    "                                                     'recall': keras_metrics.recall,\n",
    "                                                     'precision': keras_metrics.precision})\n",
    "pipeline(['#pega#','#sega#','#seka#','#leva#','#ora#','#mora#', '#posta#',\n",
    "          '#joga#','#sortia#','#media#','#kompo#','#po#','#menti#','#tosi#',\n",
    "          '#kobri#','#faze#','#mata#','#paga#',\n",
    "          '#sai#','#bate#','#kome#'])"
   ]
  },
  {
   "cell_type": "markdown",
   "metadata": {},
   "source": [
    "## Proporcao 65% Irregulares\n"
   ]
  },
  {
   "cell_type": "markdown",
   "metadata": {},
   "source": [
    "|     Model Name     | Test File     | Total Irregular Verbs | Total Verbs | Proportion | Epochs | Batch Size  |\n",
    "|:------------------:|---------------|----------------------:|-------------|------------|--------|-------------|\n",
    "| prop_65     | prop_65       |      209        |  579        |    65%     | 400    |  579         |"
   ]
  },
  {
   "cell_type": "code",
   "execution_count": 18,
   "metadata": {
    "collapsed": false
   },
   "outputs": [
    {
     "name": "stdout",
     "output_type": "stream",
     "text": [
      "verb: #pega#, expected: #pEgu#, prediction: #peju#\n",
      "\n",
      "verb: #sega#, expected: #sEgu#, prediction: #segu#\n",
      "\n",
      "verb: #seka#, expected: #sEku#, prediction: #seku#\n",
      "\n",
      "verb: #leva#, expected: #lEvu#, prediction: #levu#\n",
      "\n",
      "verb: #ora#, expected: #Oru#, prediction: #orru#\n",
      "\n",
      "verb: #mora#, expected: #mOru#, prediction: #moru#\n",
      "\n",
      "verb: #posta#, expected: #pOtu#, prediction: #bOtu#\n",
      "\n",
      "verb: #joga#, expected: #jOgu#, prediction: #jogu#\n",
      "\n",
      "verb: #sortia#, expected: #soiu#, prediction: #suiu#\n",
      "\n",
      "verb: #media#, expected: #meiu#, prediction: #meiu#\n",
      "\n",
      "verb: #kompo#, expected: #koiu#, prediction: #koiu#\n",
      "\n",
      "verb: #po#, expected: #poiu#, prediction: #poiu#\n",
      "\n",
      "verb: #menti#, expected: #mitu#, prediction: #mitu#\n",
      "\n",
      "verb: #tosi#, expected: #tusu#, prediction: #tufu#\n",
      "\n",
      "verb: #kobri#, expected: #kuro#, prediction: #koru#\n",
      "\n",
      "verb: #faze#, expected: #fasu#, prediction: #fasu#\n",
      "\n",
      "verb: #mata#, expected: #matu#, prediction: #matu#\n",
      "\n",
      "verb: #paga#, expected: #pagu#, prediction: #pagu#\n",
      "\n",
      "verb: #sai#, expected: #saiu#, prediction: #saiu#\n",
      "\n",
      "verb: #bate#, expected: #batu#, prediction: #baiu#\n",
      "\n",
      "verb: #kome#, expected: #komu#, prediction: #koeu#\n",
      "\n",
      "Accuracy (verbs): 38.10%\n",
      " 32/565 [>.............................] - ETA: 1s\n",
      "loss: 1.87% \n",
      "fbeta_score: 98.10% \n",
      "recall: 97.45% \n",
      "precision: 98.77%\n"
     ]
    }
   ],
   "source": [
    "path = '../data/prop_65.csv'\n",
    "X,Y = ut.load_data(path)\n",
    "keras_metrics = KerasMetrics()\n",
    "load = '../data/testing'\n",
    "model = load_model(load,custom_objects={'fbeta_score': keras_metrics.fbeta_score,\n",
    "                                                     'recall': keras_metrics.recall,\n",
    "                                                     'precision': keras_metrics.precision})\n",
    "pipeline(['#pega#','#sega#','#seka#','#leva#','#ora#','#mora#', '#posta#',\n",
    "          '#joga#','#sortia#','#media#','#kompo#','#po#','#menti#','#tosi#',\n",
    "          '#kobri#','#faze#','#mata#','#paga#',\n",
    "          '#sai#','#bate#','#kome#'])"
   ]
  },
  {
   "cell_type": "markdown",
   "metadata": {},
   "source": [
    "## Proporcao 75% Irregulares"
   ]
  },
  {
   "cell_type": "markdown",
   "metadata": {},
   "source": [
    "|     Model Name     | Test File     | Total Irregular Verbs | Total Verbs | Proportion | Epochs | Batch Size  |\n",
    "|:------------------:|---------------|----------------------:|-------------|------------|--------|-------------|\n",
    "| prop_75       | prop_75       |            300          |  400        |    75%     | 400   |  400         |"
   ]
  },
  {
   "cell_type": "code",
   "execution_count": 22,
   "metadata": {
    "collapsed": false
   },
   "outputs": [
    {
     "name": "stdout",
     "output_type": "stream",
     "text": [
      "verb: #pega#, expected: #pEgu#, prediction: #peku#\n",
      "\n",
      "verb: #sega#, expected: #sEgu#, prediction: #sigu#\n",
      "\n",
      "verb: #seka#, expected: #sEku#, prediction: #siku#\n",
      "\n",
      "verb: #leva#, expected: #lEvu#, prediction: #levu#\n",
      "\n",
      "verb: #ora#, expected: #Oru#, prediction: #orru#\n",
      "\n",
      "verb: #mora#, expected: #mOru#, prediction: #muru#\n",
      "\n",
      "verb: #posta#, expected: #pOtu#, prediction: #pOtu#\n",
      "\n",
      "verb: #joga#, expected: #jOgu#, prediction: #jogu#\n",
      "\n",
      "verb: #sortia#, expected: #soiu#, prediction: #suiu#\n",
      "\n",
      "verb: #media#, expected: #meiu#, prediction: #meiu#\n",
      "\n",
      "verb: #kompo#, expected: #koiu#, prediction: #koiu#\n",
      "\n",
      "verb: #po#, expected: #poiu#, prediction: #poiu#\n",
      "\n",
      "verb: #menti#, expected: #mitu#, prediction: #mitu#\n",
      "\n",
      "verb: #tosi#, expected: #tusu#, prediction: #tufu#\n",
      "\n",
      "verb: #kobri#, expected: #kuro#, prediction: #koru#\n",
      "\n",
      "verb: #faze#, expected: #fasu#, prediction: #fasu#\n",
      "\n",
      "verb: #mata#, expected: #matu#, prediction: #matu#\n",
      "\n",
      "verb: #paga#, expected: #pagu#, prediction: #bagu#\n",
      "\n",
      "verb: #sai#, expected: #saiu#, prediction: #saiu#\n",
      "\n",
      "verb: #bate#, expected: #batu#, prediction: #batu#\n",
      "\n",
      "verb: #kome#, expected: #komu#, prediction: #koiu#\n",
      "\n",
      "Accuracy (verbs): 42.86%\n",
      " 32/388 [=>............................] - ETA: 1s\n",
      "loss: 1.60% \n",
      "fbeta_score: 98.73% \n",
      "recall: 98.29% \n",
      "precision: 99.18%\n"
     ]
    }
   ],
   "source": [
    "path = '../data/prop_75.csv'\n",
    "X,Y = ut.load_data(path)\n",
    "keras_metrics = KerasMetrics()\n",
    "load = '../data/prop_75'\n",
    "model = load_model(load, custom_objects={'fbeta_score': keras_metrics.fbeta_score,\n",
    "                                                     'recall': keras_metrics.recall,\n",
    "                                                     'precision': keras_metrics.precision})\n",
    "pipeline(['#pega#','#sega#','#seka#','#leva#','#ora#','#mora#', '#posta#',\n",
    "          '#joga#','#sortia#','#media#','#kompo#','#po#','#menti#','#tosi#',\n",
    "          '#kobri#','#faze#','#mata#','#paga#',\n",
    "          '#sai#','#bate#','#kome#'])"
   ]
  },
  {
   "cell_type": "markdown",
   "metadata": {},
   "source": [
    "## Proporcao 85% Irregulares"
   ]
  },
  {
   "cell_type": "markdown",
   "metadata": {},
   "source": [
    "|     Model Name     | Test File     | Total Irregular Verbs | Total Verbs | Proportion | Epochs | Batch Size  |\n",
    "|:------------------:|---------------|----------------------:|-------------|------------|--------|-------------|\n",
    "| prop_85       | prop_85       |             340         |  400        |    85%     | 400   |  400         |"
   ]
  },
  {
   "cell_type": "code",
   "execution_count": 26,
   "metadata": {
    "collapsed": false
   },
   "outputs": [
    {
     "name": "stdout",
     "output_type": "stream",
     "text": [
      "verb: #pega#, expected: #pEgu#, prediction: #peku#\n",
      "\n",
      "verb: #sega#, expected: #sEgu#, prediction: #sigu#\n",
      "\n",
      "verb: #seka#, expected: #sEku#, prediction: #siku#\n",
      "\n",
      "verb: #leva#, expected: #lEvu#, prediction: #levu#\n",
      "\n",
      "verb: #ora#, expected: #Oru#, prediction: #orru#\n",
      "\n",
      "verb: #mora#, expected: #mOru#, prediction: #muru#\n",
      "\n",
      "verb: #posta#, expected: #pOtu#, prediction: #pOtu#\n",
      "\n",
      "verb: #joga#, expected: #jOgu#, prediction: #jogu#\n",
      "\n",
      "verb: #sortia#, expected: #soiu#, prediction: #suiu#\n",
      "\n",
      "verb: #media#, expected: #meiu#, prediction: #meiu#\n",
      "\n",
      "verb: #kompo#, expected: #koiu#, prediction: #koiu#\n",
      "\n",
      "verb: #po#, expected: #poiu#, prediction: #poiu#\n",
      "\n",
      "verb: #menti#, expected: #mitu#, prediction: #mitu#\n",
      "\n",
      "verb: #tosi#, expected: #tusu#, prediction: #tupu#\n",
      "\n",
      "verb: #kobri#, expected: #kuro#, prediction: #koru#\n",
      "\n",
      "verb: #faze#, expected: #fasu#, prediction: #fasu#\n",
      "\n",
      "verb: #mata#, expected: #matu#, prediction: #matu#\n",
      "\n",
      "verb: #paga#, expected: #pagu#, prediction: #pagu#\n",
      "\n",
      "verb: #sai#, expected: #saiu#, prediction: #saiu#\n",
      "\n",
      "verb: #bate#, expected: #batu#, prediction: #baiu#\n",
      "\n",
      "verb: #kome#, expected: #komu#, prediction: #koiu#\n",
      "\n",
      "Accuracy (verbs): 42.86%\n",
      " 32/390 [=>............................] - ETA: 1s\n",
      "loss: 1.41% \n",
      "fbeta_score: 99.16% \n",
      "recall: 98.81% \n",
      "precision: 99.52%\n"
     ]
    }
   ],
   "source": [
    "path = '../data/prop_85.csv'\n",
    "X,Y = ut.load_data(path)\n",
    "keras_metrics = KerasMetrics()\n",
    "load = '../data/prop_85'\n",
    "model = load_model(load,custom_objects={'fbeta_score': keras_metrics.fbeta_score,\n",
    "                                                     'recall': keras_metrics.recall,\n",
    "                                                     'precision': keras_metrics.precision})\n",
    "pipeline(['#pega#','#sega#','#seka#','#leva#','#ora#','#mora#', '#posta#',\n",
    "          '#joga#','#sortia#','#media#','#kompo#','#po#','#menti#','#tosi#',\n",
    "          '#kobri#','#faze#','#mata#','#paga#',\n",
    "          '#sai#','#bate#','#kome#'])"
   ]
  },
  {
   "cell_type": "markdown",
   "metadata": {},
   "source": [
    "## Proporcao 95% Irregulares"
   ]
  },
  {
   "cell_type": "markdown",
   "metadata": {},
   "source": [
    "|     Model Name     | Test File     | Total Irregular Verbs | Total Verbs | Proportion | Epochs | Batch Size  |\n",
    "|:------------------:|---------------|----------------------:|-------------|------------|--------|-------------|\n",
    "| prop_95       | prop_95       |             380         |  400        |    95%     | 400   |  400         |"
   ]
  },
  {
   "cell_type": "code",
   "execution_count": 29,
   "metadata": {
    "collapsed": false
   },
   "outputs": [
    {
     "name": "stdout",
     "output_type": "stream",
     "text": [
      "verb: #pega#, expected: #pEgu#, prediction: #bEku#\n",
      "\n",
      "verb: #sega#, expected: #sEgu#, prediction: #sigu#\n",
      "\n",
      "verb: #seka#, expected: #sEku#, prediction: #siku#\n",
      "\n",
      "verb: #leva#, expected: #lEvu#, prediction: #lezu#\n",
      "\n",
      "verb: #ora#, expected: #Oru#, prediction: #esru#\n",
      "\n",
      "verb: #mora#, expected: #mOru#, prediction: #miru#\n",
      "\n",
      "verb: #posta#, expected: #pOtu#, prediction: #pOtu#\n",
      "\n",
      "verb: #joga#, expected: #jOgu#, prediction: #xugu#\n",
      "\n",
      "verb: #sortia#, expected: #soiu#, prediction: #suiu#\n",
      "\n",
      "verb: #media#, expected: #meiu#, prediction: #meiu#\n",
      "\n",
      "verb: #kompo#, expected: #koiu#, prediction: #koiu#\n",
      "\n",
      "verb: #po#, expected: #poiu#, prediction: #poiu#\n",
      "\n",
      "verb: #menti#, expected: #mitu#, prediction: #mitu#\n",
      "\n",
      "verb: #tosi#, expected: #tusu#, prediction: #tutu#\n",
      "\n",
      "verb: #kobri#, expected: #kuro#, prediction: #koru#\n",
      "\n",
      "verb: #faze#, expected: #fasu#, prediction: #fasu#\n",
      "\n",
      "verb: #mata#, expected: #matu#, prediction: #matu#\n",
      "\n",
      "verb: #paga#, expected: #pagu#, prediction: #pagu#\n",
      "\n",
      "verb: #sai#, expected: #saiu#, prediction: #saiu#\n",
      "\n",
      "verb: #bate#, expected: #batu#, prediction: #baiu#\n",
      "\n",
      "verb: #kome#, expected: #komu#, prediction: #koiu#\n",
      "\n",
      "Accuracy (verbs): 42.86%\n",
      " 32/395 [=>............................] - ETA: 1s\n",
      "loss: 1.24% \n",
      "fbeta_score: 99.39% \n",
      "recall: 99.16% \n",
      "precision: 99.62%\n"
     ]
    }
   ],
   "source": [
    "keras_metrics = KerasMetrics()\n",
    "load = '../data/prop_95'\n",
    "model = load_model(load, custom_objects={'fbeta_score': keras_metrics.fbeta_score,\n",
    "                                                     'recall': keras_metrics.recall,\n",
    "                                                     'precision': keras_metrics.precision})\n",
    "pipeline(['#pega#','#sega#','#seka#','#leva#','#ora#','#mora#', '#posta#',\n",
    "          '#joga#','#sortia#','#media#','#kompo#','#po#','#menti#','#tosi#',\n",
    "          '#kobri#','#faze#','#mata#','#paga#',\n",
    "          '#sai#','#bate#','#kome#'])"
   ]
  },
  {
   "cell_type": "markdown",
   "metadata": {},
   "source": [
    "### Experimento 50 - 50"
   ]
  },
  {
   "cell_type": "code",
   "execution_count": 36,
   "metadata": {
    "collapsed": false
   },
   "outputs": [
    {
     "name": "stdout",
     "output_type": "stream",
     "text": [
      "verb: #nota#, expected: #nOta#, prediction: #dOtu#\n",
      "\n",
      "verb: #soka#, expected: #sOku#, prediction: #sOku#\n",
      "\n",
      "verb: #loga#, expected: #lOga#, prediction: #logu#\n",
      "\n",
      "verb: #bate#, expected: #batu#, prediction: #batu#\n",
      "\n",
      "verb: #limpa#, expected: #lipu#, prediction: #lipu#\n",
      "\n",
      "verb: #kasa#, expected: #kasu#, prediction: #kasu#\n",
      "\n",
      "Accuracy (verbs): 66.67%\n",
      " 32/192 [====>.........................] - ETA: 0s\n",
      "loss: 0.73% \n",
      "fbeta_score: 99.87% \n",
      "recall: 99.75% \n",
      "precision: 99.99%\n"
     ]
    }
   ],
   "source": [
    "model = load_model('../data/test_5050',custom_objects={'fbeta_score': keras_metrics.fbeta_score,\n",
    "                                                     'recall': keras_metrics.recall,\n",
    "                                                     'precision': keras_metrics.precision})\n",
    "pipeline(['#nota#','#soka#','#loga#','#bate#','#limpa#','#kasa#'])"
   ]
  },
  {
   "cell_type": "code",
   "execution_count": 1,
   "metadata": {
    "collapsed": false
   },
   "outputs": [
    {
     "name": "stderr",
     "output_type": "stream",
     "text": [
      "Using TensorFlow backend.\n"
     ]
    }
   ],
   "source": [
    "import livelossplot"
   ]
  },
  {
   "cell_type": "code",
   "execution_count": null,
   "metadata": {
    "collapsed": true
   },
   "outputs": [],
   "source": []
  }
 ],
 "metadata": {
  "kernelspec": {
   "display_name": "Python 3",
   "language": "python",
   "name": "python3"
  },
  "language_info": {
   "codemirror_mode": {
    "name": "ipython",
    "version": 3
   },
   "file_extension": ".py",
   "mimetype": "text/x-python",
   "name": "python",
   "nbconvert_exporter": "python",
   "pygments_lexer": "ipython3",
   "version": "3.6.4"
  }
 },
 "nbformat": 4,
 "nbformat_minor": 2
}
