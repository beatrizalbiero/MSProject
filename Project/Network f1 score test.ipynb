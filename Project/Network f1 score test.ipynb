{
 "cells": [
  {
   "cell_type": "markdown",
   "metadata": {},
   "source": [
    "### Packages"
   ]
  },
  {
   "cell_type": "code",
   "execution_count": 1,
   "metadata": {
    "collapsed": false
   },
   "outputs": [
    {
     "name": "stderr",
     "output_type": "stream",
     "text": [
      "Using TensorFlow backend.\n"
     ]
    }
   ],
   "source": [
    "import sys\n",
    "import keras\n",
    "from keras.models import Sequential\n",
    "from keras.layers import Dense\n",
    "from keras.models import load_model\n",
    "from keras_metrics import KerasMetrics\n",
    "from keras.callbacks import EarlyStopping\n",
    "from keras import optimizers\n",
    "import numpy as np\n",
    "import random\n",
    "import pickle\n",
    "import decoding2\n",
    "import decoding_function as df\n",
    "from Files import nodes\n",
    "import os\n",
    "import utility as ut\n",
    "sys.path.append('../')"
   ]
  },
  {
   "cell_type": "code",
   "execution_count": 2,
   "metadata": {
    "collapsed": false
   },
   "outputs": [],
   "source": [
    "def pipeline(verbs):\n",
    "    \"\"\"\n",
    "    Pipeline receives a list of verbs and decodes it.\n",
    "    \n",
    "    :verbs type: list\n",
    "    :r type: string\n",
    "    \"\"\"\n",
    "    import coding_function as cf\n",
    "    test_list = []\n",
    "    for i in verbs:\n",
    "        coding = cf.coding(i)        \n",
    "        test_list.append(coding)\n",
    "    test_list = np.array(test_list)\n",
    "    prediction = model.predict(test_list)\n",
    "    for i in prediction:\n",
    "        print(decoding2.decoding(i))\n",
    "    return test_list.shape"
   ]
  },
  {
   "cell_type": "markdown",
   "metadata": {},
   "source": [
    "### 1. Load Data"
   ]
  },
  {
   "cell_type": "code",
   "execution_count": 31,
   "metadata": {
    "collapsed": true
   },
   "outputs": [],
   "source": [
    "path = '../data/prop_55.csv' #len 464\n",
    "#path = '../data/prop_65.csv'\n",
    "#path = '../data/prop_75.csv'\n",
    "#path = '../data/prop_85.csv'\n",
    "#path = '../data/prop_95.csv'\n",
    "X,Y = ut.load_data(path)\n",
    "batch = len(X)"
   ]
  },
  {
   "cell_type": "markdown",
   "metadata": {},
   "source": [
    "### 2. Fit Neural Net (Optional)"
   ]
  },
  {
   "cell_type": "code",
   "execution_count": 38,
   "metadata": {
    "collapsed": true
   },
   "outputs": [
    {
     "name": "stdout",
     "output_type": "stream",
     "text": [
      " 32/464 [=>............................] - ETA: 1s\n",
      "fbeta_score: 90.02% \n",
      "recall: 84.98% \n",
      "precision: 95.75%\n"
     ]
    }
   ],
   "source": [
    "# 1. Define Model\n",
    "model = Sequential()\n",
    "model.add(Dense(460, input_shape=(460,), activation='sigmoid'))\n",
    "\n",
    "\n",
    "# 2. Compile model\n",
    "keras_metrics = KerasMetrics()\n",
    "model.compile( \n",
    "    optimizer='adam', \n",
    "    loss='mean_squared_error',\n",
    "    metrics = [ keras_metrics.fbeta_score,\n",
    "               keras_metrics.recall,\n",
    "               keras_metrics.precision]\n",
    "            )\n",
    "\n",
    "# 3. Fit model\n",
    "stopper = EarlyStopping(monitor='fbeta_score', min_delta=0.00005, patience=50, verbose=1, mode='max')\n",
    "model.fit(X,Y,epochs = 150, batch_size=batch,verbose=False,callbacks= [stopper])\n",
    "\n",
    "# 4. Evaluate model\n",
    "scores = model.evaluate(X, Y)\n",
    "print(\"\\n%s: %.2f%% \\n%s: %.2f%% \\n%s: %.2f%%\" % (model.metrics_names[1], scores[1]*100, \n",
    "                                                  model.metrics_names[2], scores[2]*100,\n",
    "                                                  model.metrics_names[3], scores[3]*100 ))\n",
    "\n",
    "# 5. Save model\n",
    "#model.save('../data/prop_95')"
   ]
  },
  {
   "cell_type": "code",
   "execution_count": 11,
   "metadata": {},
   "outputs": [
    {
     "name": "stdout",
     "output_type": "stream",
     "text": [
      "#be\n",
      "Decodificado Loop: #be, Final antes do Loop: xu#\n",
      "#se\n",
      "Decodificado Loop: #se, Final antes do Loop: gu#\n",
      "#se\n",
      "Decodificado Loop: #se, Final antes do Loop: ku#\n",
      "#le\n",
      "Decodificado Loop: #le, Final antes do Loop: fu#\n",
      "#er\n",
      "Decodificado Loop: #er, Final antes do Loop: ru#\n",
      "#bu\n",
      "Decodificado Loop: #bu, Final antes do Loop: ru#\n",
      "#bO\n",
      "Decodificado Loop: #bO, Final antes do Loop: tu#\n",
      "#xo\n",
      "Decodificado Loop: #xo, Final antes do Loop: gu#\n",
      "#su\n",
      "Decodificado Loop: #su, Final antes do Loop: iu#\n",
      "#me\n",
      "Decodificado Loop: #me, Final antes do Loop: iu#\n",
      "#ko\n",
      "Decodificado Loop: #ko, Final antes do Loop: iu#\n",
      "#po\n",
      "Decodificado Loop: #po, Final antes do Loop: iu#\n",
      "#te\n",
      "Decodificado Loop: #te, Final antes do Loop: tu#\n",
      "#xe\n",
      "Decodificado Loop: #xe, Final antes do Loop: tu#\n",
      "#mi\n",
      "Decodificado Loop: #mi, Final antes do Loop: tu#\n",
      "#xe\n",
      "Decodificado Loop: #xe, Final antes do Loop: tu#\n",
      "#to\n",
      "Decodificado Loop: #to, Final antes do Loop: fu#\n",
      "#ko\n",
      "Decodificado Loop: #ko, Final antes do Loop: ru#\n",
      "#fa\n",
      "Decodificado Loop: #fa, Final antes do Loop: su#\n",
      "#ma\n",
      "Decodificado Loop: #ma, Final antes do Loop: tu#\n",
      "#pa\n",
      "Decodificado Loop: #pa, Final antes do Loop: gu#\n",
      "#sa\n",
      "Decodificado Loop: #sa, Final antes do Loop: iu#\n",
      "#ba\n",
      "Decodificado Loop: #ba, Final antes do Loop: iu#\n",
      "#ko\n",
      "Decodificado Loop: #ko, Final antes do Loop: eu#\n"
     ]
    },
    {
     "data": {
      "text/plain": [
       "(24, 460)"
      ]
     },
     "execution_count": 11,
     "metadata": {},
     "output_type": "execute_result"
    }
   ],
   "source": [
    "#prop_65\n",
    "pipeline(['#pega#','#sega#','#seka#','#leva#','#ora#','#mora#', '#posta#',\n",
    "          '#joga#','#sortia#','#media#','#kompo#','#po#','#tendi#','#jenti#',\n",
    "          '#menti#','#hendi#','#tosi#','#kobri#','#faze#','#mata#','#paga#',\n",
    "          '#sai#','#bate#','#kome#'])"
   ]
  },
  {
   "cell_type": "code",
   "execution_count": 14,
   "metadata": {},
   "outputs": [
    {
     "name": "stdout",
     "output_type": "stream",
     "text": [
      "#be\n",
      "Decodificado Loop: #be, Final antes do Loop: ku#\n",
      "#se\n",
      "Decodificado Loop: #se, Final antes do Loop: gu#\n",
      "#se\n",
      "Decodificado Loop: #se, Final antes do Loop: ku#\n",
      "#le\n",
      "Decodificado Loop: #le, Final antes do Loop: vu#\n",
      "#er\n",
      "Decodificado Loop: #er, Final antes do Loop: ru#\n",
      "#mu\n",
      "Decodificado Loop: #mu, Final antes do Loop: ru#\n",
      "#po\n",
      "Decodificado Loop: #po, Final antes do Loop: tu#\n",
      "#xo\n",
      "Decodificado Loop: #xo, Final antes do Loop: gu#\n",
      "#su\n",
      "Decodificado Loop: #su, Final antes do Loop: iu#\n",
      "#me\n",
      "Decodificado Loop: #me, Final antes do Loop: iu#\n",
      "#ko\n",
      "Decodificado Loop: #ko, Final antes do Loop: iu#\n",
      "#po\n",
      "Decodificado Loop: #po, Final antes do Loop: iu#\n",
      "#de\n",
      "Decodificado Loop: #de, Final antes do Loop: tu#\n",
      "#fe\n",
      "Decodificado Loop: #fe, Final antes do Loop: tu#\n",
      "#mi\n",
      "Decodificado Loop: #mi, Final antes do Loop: tu#\n",
      "#xe\n",
      "Decodificado Loop: #xe, Final antes do Loop: tu#\n",
      "#tu\n",
      "Decodificado Loop: #tu, Final antes do Loop: su#\n",
      "#ko\n",
      "Decodificado Loop: #ko, Final antes do Loop: ru#\n",
      "#fa\n",
      "Decodificado Loop: #fa, Final antes do Loop: su#\n",
      "#ma\n",
      "Decodificado Loop: #ma, Final antes do Loop: tu#\n",
      "#ba\n",
      "Decodificado Loop: #ba, Final antes do Loop: gu#\n",
      "#sa\n",
      "Decodificado Loop: #sa, Final antes do Loop: iu#\n",
      "#ba\n",
      "Decodificado Loop: #ba, Final antes do Loop: pu#\n",
      "#ko\n",
      "Decodificado Loop: #ko, Final antes do Loop: iu#\n"
     ]
    },
    {
     "data": {
      "text/plain": [
       "(24, 460)"
      ]
     },
     "execution_count": 14,
     "metadata": {},
     "output_type": "execute_result"
    }
   ],
   "source": [
    "#prop_75\n",
    "pipeline(['#pega#','#sega#','#seka#','#leva#','#ora#','#mora#', '#posta#',\n",
    "          '#joga#','#sortia#','#media#','#kompo#','#po#','#tendi#','#jenti#',\n",
    "          '#menti#','#hendi#','#tosi#','#kobri#','#faze#','#mata#','#paga#',\n",
    "          '#sai#','#bate#','#kome#'])"
   ]
  },
  {
   "cell_type": "code",
   "execution_count": 5,
   "metadata": {},
   "outputs": [
    {
     "name": "stdout",
     "output_type": "stream",
     "text": [
      "Resposta:#beku#\n",
      "Resposta:#segu#\n",
      "Resposta:#seku#\n",
      "Resposta:#lefu#\n",
      "Resposta:#earu#\n",
      "Resposta:#muru#\n",
      "Resposta:#bOtu#\n",
      "Resposta:#xogu#\n",
      "Resposta:#suiu#\n",
      "Resposta:#meiu#\n",
      "Resposta:#koiu#\n",
      "Resposta:#poiu#\n",
      "Resposta:#tetu#\n",
      "Resposta:#fetu#\n",
      "Resposta:#mitu#\n",
      "Resposta:#xetu#\n",
      "Resposta:#tofu#\n",
      "Resposta:#koru#\n",
      "Resposta:#fasu#\n",
      "Resposta:#matu#\n",
      "Resposta:#babu#\n",
      "Resposta:#saiu#\n",
      "Resposta:#baiu#\n",
      "Resposta:#koiu#\n"
     ]
    },
    {
     "data": {
      "text/plain": [
       "(24, 460)"
      ]
     },
     "execution_count": 5,
     "metadata": {},
     "output_type": "execute_result"
    }
   ],
   "source": [
    "#prop_85\n",
    "pipeline(['#pega#','#sega#','#seka#','#leva#','#ora#','#mora#', '#posta#',\n",
    "          '#joga#','#sortia#','#media#','#kompo#','#po#','#tendi#','#jenti#',\n",
    "          '#menti#','#hendi#','#tosi#','#kobri#','#faze#','#mata#','#paga#',\n",
    "          '#sai#','#bate#','#kome#'])"
   ]
  },
  {
   "cell_type": "code",
   "execution_count": 8,
   "metadata": {},
   "outputs": [
    {
     "name": "stdout",
     "output_type": "stream",
     "text": [
      "Resposta:#bEku#\n",
      "Resposta:#sigu#\n",
      "Resposta:#siku#\n",
      "Resposta:#lefu#\n",
      "Resposta:#earu#\n",
      "Resposta:#mOru#\n",
      "Resposta:#bOtu#\n",
      "Resposta:#xogu#\n",
      "Resposta:#suiu#\n",
      "Resposta:#meiu#\n",
      "Resposta:#koiu#\n",
      "Resposta:#poiu#\n",
      "Resposta:#tetu#\n",
      "Resposta:#fetu#\n",
      "Resposta:#mitu#\n",
      "Resposta:#xetu#\n",
      "Resposta:#totu#\n",
      "Resposta:#koru#\n",
      "Resposta:#fasu#\n",
      "Resposta:#matu#\n",
      "Resposta:#baku#\n",
      "Resposta:#saiu#\n",
      "Resposta:#maiu#\n",
      "Resposta:#koiu#\n"
     ]
    },
    {
     "data": {
      "text/plain": [
       "(24, 460)"
      ]
     },
     "execution_count": 8,
     "metadata": {},
     "output_type": "execute_result"
    }
   ],
   "source": [
    "#prop_95\n",
    "pipeline(['#pega#','#sega#','#seka#','#leva#','#ora#','#mora#', '#posta#',\n",
    "          '#joga#','#sortia#','#media#','#kompo#','#po#','#tendi#','#jenti#',\n",
    "          '#menti#','#hendi#','#tosi#','#kobri#','#faze#','#mata#','#paga#',\n",
    "          '#sai#','#bate#','#kome#'])"
   ]
  },
  {
   "cell_type": "markdown",
   "metadata": {},
   "source": [
    "### 2. (Or Load Trained Model)"
   ]
  },
  {
   "cell_type": "code",
   "execution_count": 4,
   "metadata": {
    "collapsed": true
   },
   "outputs": [],
   "source": [
    "model = load_model('../data/prop_55')\n",
    "#model = load_model('../data/prop_65')\n",
    "#model = load_model('../data/prop_75')\n",
    "#model = load_model('../data/prop_85')\n",
    "#model = load_model('../data/prop_95')"
   ]
  },
  {
   "cell_type": "markdown",
   "metadata": {},
   "source": [
    "#### 2.1 Train existing model"
   ]
  },
  {
   "cell_type": "markdown",
   "metadata": {},
   "source": [
    "### 3. Check Results\n",
    "pipeline(['#para#','#fexa#','#mexe#','#konta#','#testa#','#abri#','#kala#','#fala#'])\n",
    "\n",
    "|       \t|       \t| front \t| middle  \t| back    \t|\n",
    "|:-----:\t|-------\t|------:\t|---------\t|---------\t|\n",
    "|       \t|       \t| v/u   \t| v/u     \t| v/u     \t|\n",
    "|  **int**  | **stop**  | b/p   \t| d/t     \t| g/k     \t|\n",
    "|       \t| **nasal** | m/-   \t| n/-     \t| -       \t|\n",
    "| **cont**  | **fric**  | v/f   \t| z/s    \t| j/x   \t|\n",
    "|       \t| **liq**   | l/-   \t| r/-     \t| -/h     \t|\n",
    "| **vowel** | **high**  | e/i   \t| -       \t| o/u     \t|\n",
    "|       \t| **low**   | -/E   \t| -/a     \t| -/O     \t|"
   ]
  },
  {
   "cell_type": "markdown",
   "metadata": {},
   "source": [
    "## Results:"
   ]
  },
  {
   "cell_type": "markdown",
   "metadata": {},
   "source": [
    "## Proporcao 55% Irregulares"
   ]
  },
  {
   "cell_type": "markdown",
   "metadata": {},
   "source": [
    "|     Model Name     | Test File     | Total Irregular Verbs | Total Verbs | Proportion | Epochs | Batch Size  |\n",
    "|:------------------:|---------------|----------------------:|-------------|------------|--------|-------------|\n",
    "| prop_55_batch_400           | prop_55       |        209            |  464        |    55%     | 150    |  464         |"
   ]
  },
  {
   "cell_type": "code",
   "execution_count": 10,
   "metadata": {
    "collapsed": false
   },
   "outputs": [
    {
     "data": {
      "text/plain": [
       "464"
      ]
     },
     "execution_count": 10,
     "metadata": {},
     "output_type": "execute_result"
    }
   ],
   "source": [
    "path = '../data/prop_55.csv'\n",
    "X,Y = ut.load_data(path)\n",
    "len(X)"
   ]
  },
  {
   "cell_type": "code",
   "execution_count": 30,
   "metadata": {
    "collapsed": false
   },
   "outputs": [
    {
     "ename": "ValueError",
     "evalue": "Unknown metric function:recall",
     "output_type": "error",
     "traceback": [
      "\u001b[0;31m---------------------------------------------------------------------------\u001b[0m",
      "\u001b[0;31mValueError\u001b[0m                                Traceback (most recent call last)",
      "\u001b[0;32m<ipython-input-30-07e6a56d0077>\u001b[0m in \u001b[0;36m<module>\u001b[0;34m()\u001b[0m\n\u001b[1;32m      1\u001b[0m \u001b[0mkeras\u001b[0m\u001b[0;34m.\u001b[0m\u001b[0mmetrics\u001b[0m\u001b[0;34m.\u001b[0m\u001b[0mcustom_metric\u001b[0m \u001b[0;34m=\u001b[0m \u001b[0mkeras_metrics\u001b[0m\u001b[0;34m.\u001b[0m\u001b[0mfbeta_score\u001b[0m\u001b[0;34m\u001b[0m\u001b[0m\n\u001b[0;32m----> 2\u001b[0;31m \u001b[0mmodel\u001b[0m \u001b[0;34m=\u001b[0m \u001b[0mload_model\u001b[0m\u001b[0;34m(\u001b[0m\u001b[0;34m'../data/prop_55'\u001b[0m\u001b[0;34m,\u001b[0m\u001b[0mcustom_objects\u001b[0m\u001b[0;34m=\u001b[0m\u001b[0;34m{\u001b[0m\u001b[0;34m'fbeta_score'\u001b[0m\u001b[0;34m:\u001b[0m \u001b[0mkeras_metrics\u001b[0m\u001b[0;34m.\u001b[0m\u001b[0mfbeta_score\u001b[0m\u001b[0;34m}\u001b[0m\u001b[0;34m)\u001b[0m\u001b[0;34m\u001b[0m\u001b[0m\n\u001b[0m\u001b[1;32m      3\u001b[0m pipeline(['#pega#','#sega#','#seka#','#leva#','#ora#','#mora#', '#posta#',\n\u001b[1;32m      4\u001b[0m           \u001b[0;34m'#joga#'\u001b[0m\u001b[0;34m,\u001b[0m\u001b[0;34m'#sortia#'\u001b[0m\u001b[0;34m,\u001b[0m\u001b[0;34m'#media#'\u001b[0m\u001b[0;34m,\u001b[0m\u001b[0;34m'#kompo#'\u001b[0m\u001b[0;34m,\u001b[0m\u001b[0;34m'#po#'\u001b[0m\u001b[0;34m,\u001b[0m\u001b[0;34m'#tendi#'\u001b[0m\u001b[0;34m,\u001b[0m\u001b[0;34m'#jenti#'\u001b[0m\u001b[0;34m,\u001b[0m\u001b[0;34m\u001b[0m\u001b[0m\n\u001b[1;32m      5\u001b[0m           \u001b[0;34m'#menti#'\u001b[0m\u001b[0;34m,\u001b[0m\u001b[0;34m'#hendi#'\u001b[0m\u001b[0;34m,\u001b[0m\u001b[0;34m'#tosi#'\u001b[0m\u001b[0;34m,\u001b[0m\u001b[0;34m'#kobri#'\u001b[0m\u001b[0;34m,\u001b[0m\u001b[0;34m'#faze#'\u001b[0m\u001b[0;34m,\u001b[0m\u001b[0;34m'#mata#'\u001b[0m\u001b[0;34m,\u001b[0m\u001b[0;34m'#paga#'\u001b[0m\u001b[0;34m,\u001b[0m\u001b[0;34m\u001b[0m\u001b[0m\n",
      "\u001b[0;32m//anaconda/lib/python3.6/site-packages/keras/models.py\u001b[0m in \u001b[0;36mload_model\u001b[0;34m(filepath, custom_objects, compile)\u001b[0m\n\u001b[1;32m    268\u001b[0m                       \u001b[0mmetrics\u001b[0m\u001b[0;34m=\u001b[0m\u001b[0mmetrics\u001b[0m\u001b[0;34m,\u001b[0m\u001b[0;34m\u001b[0m\u001b[0m\n\u001b[1;32m    269\u001b[0m                       \u001b[0mloss_weights\u001b[0m\u001b[0;34m=\u001b[0m\u001b[0mloss_weights\u001b[0m\u001b[0;34m,\u001b[0m\u001b[0;34m\u001b[0m\u001b[0m\n\u001b[0;32m--> 270\u001b[0;31m                       sample_weight_mode=sample_weight_mode)\n\u001b[0m\u001b[1;32m    271\u001b[0m \u001b[0;34m\u001b[0m\u001b[0m\n\u001b[1;32m    272\u001b[0m         \u001b[0;31m# Set optimizer weights.\u001b[0m\u001b[0;34m\u001b[0m\u001b[0;34m\u001b[0m\u001b[0m\n",
      "\u001b[0;32m//anaconda/lib/python3.6/site-packages/keras/models.py\u001b[0m in \u001b[0;36mcompile\u001b[0;34m(self, optimizer, loss, metrics, sample_weight_mode, weighted_metrics, **kwargs)\u001b[0m\n\u001b[1;32m    782\u001b[0m                            \u001b[0msample_weight_mode\u001b[0m\u001b[0;34m=\u001b[0m\u001b[0msample_weight_mode\u001b[0m\u001b[0;34m,\u001b[0m\u001b[0;34m\u001b[0m\u001b[0m\n\u001b[1;32m    783\u001b[0m                            \u001b[0mweighted_metrics\u001b[0m\u001b[0;34m=\u001b[0m\u001b[0mweighted_metrics\u001b[0m\u001b[0;34m,\u001b[0m\u001b[0;34m\u001b[0m\u001b[0m\n\u001b[0;32m--> 784\u001b[0;31m                            **kwargs)\n\u001b[0m\u001b[1;32m    785\u001b[0m         \u001b[0mself\u001b[0m\u001b[0;34m.\u001b[0m\u001b[0moptimizer\u001b[0m \u001b[0;34m=\u001b[0m \u001b[0mself\u001b[0m\u001b[0;34m.\u001b[0m\u001b[0mmodel\u001b[0m\u001b[0;34m.\u001b[0m\u001b[0moptimizer\u001b[0m\u001b[0;34m\u001b[0m\u001b[0m\n\u001b[1;32m    786\u001b[0m         \u001b[0mself\u001b[0m\u001b[0;34m.\u001b[0m\u001b[0mloss\u001b[0m \u001b[0;34m=\u001b[0m \u001b[0mself\u001b[0m\u001b[0;34m.\u001b[0m\u001b[0mmodel\u001b[0m\u001b[0;34m.\u001b[0m\u001b[0mloss\u001b[0m\u001b[0;34m\u001b[0m\u001b[0m\n",
      "\u001b[0;32m//anaconda/lib/python3.6/site-packages/keras/engine/training.py\u001b[0m in \u001b[0;36mcompile\u001b[0;34m(self, optimizer, loss, metrics, loss_weights, sample_weight_mode, weighted_metrics, target_tensors, **kwargs)\u001b[0m\n\u001b[1;32m    922\u001b[0m                         \u001b[0mappend_metric\u001b[0m\u001b[0;34m(\u001b[0m\u001b[0mi\u001b[0m\u001b[0;34m,\u001b[0m \u001b[0mmetric_name\u001b[0m\u001b[0;34m,\u001b[0m \u001b[0mmetric_result\u001b[0m\u001b[0;34m)\u001b[0m\u001b[0;34m\u001b[0m\u001b[0m\n\u001b[1;32m    923\u001b[0m \u001b[0;34m\u001b[0m\u001b[0m\n\u001b[0;32m--> 924\u001b[0;31m                 \u001b[0mhandle_metrics\u001b[0m\u001b[0;34m(\u001b[0m\u001b[0moutput_metrics\u001b[0m\u001b[0;34m)\u001b[0m\u001b[0;34m\u001b[0m\u001b[0m\n\u001b[0m\u001b[1;32m    925\u001b[0m                 \u001b[0mhandle_metrics\u001b[0m\u001b[0;34m(\u001b[0m\u001b[0moutput_weighted_metrics\u001b[0m\u001b[0;34m,\u001b[0m \u001b[0mweights\u001b[0m\u001b[0;34m=\u001b[0m\u001b[0mweights\u001b[0m\u001b[0;34m)\u001b[0m\u001b[0;34m\u001b[0m\u001b[0m\n\u001b[1;32m    926\u001b[0m \u001b[0;34m\u001b[0m\u001b[0m\n",
      "\u001b[0;32m//anaconda/lib/python3.6/site-packages/keras/engine/training.py\u001b[0m in \u001b[0;36mhandle_metrics\u001b[0;34m(metrics, weights)\u001b[0m\n\u001b[1;32m    912\u001b[0m                             \u001b[0mmetric_name\u001b[0m \u001b[0;34m=\u001b[0m \u001b[0mmetric_name_prefix\u001b[0m \u001b[0;34m+\u001b[0m \u001b[0;34m'acc'\u001b[0m\u001b[0;34m\u001b[0m\u001b[0m\n\u001b[1;32m    913\u001b[0m                         \u001b[0;32melse\u001b[0m\u001b[0;34m:\u001b[0m\u001b[0;34m\u001b[0m\u001b[0m\n\u001b[0;32m--> 914\u001b[0;31m                             \u001b[0mmetric_fn\u001b[0m \u001b[0;34m=\u001b[0m \u001b[0mmetrics_module\u001b[0m\u001b[0;34m.\u001b[0m\u001b[0mget\u001b[0m\u001b[0;34m(\u001b[0m\u001b[0mmetric\u001b[0m\u001b[0;34m)\u001b[0m\u001b[0;34m\u001b[0m\u001b[0m\n\u001b[0m\u001b[1;32m    915\u001b[0m                             \u001b[0mweighted_metric_fn\u001b[0m \u001b[0;34m=\u001b[0m \u001b[0m_weighted_masked_objective\u001b[0m\u001b[0;34m(\u001b[0m\u001b[0mmetric_fn\u001b[0m\u001b[0;34m)\u001b[0m\u001b[0;34m\u001b[0m\u001b[0m\n\u001b[1;32m    916\u001b[0m                             \u001b[0mmetric_name\u001b[0m \u001b[0;34m=\u001b[0m \u001b[0mmetric_name_prefix\u001b[0m \u001b[0;34m+\u001b[0m \u001b[0mmetric_fn\u001b[0m\u001b[0;34m.\u001b[0m\u001b[0m__name__\u001b[0m\u001b[0;34m\u001b[0m\u001b[0m\n",
      "\u001b[0;32m//anaconda/lib/python3.6/site-packages/keras/metrics.py\u001b[0m in \u001b[0;36mget\u001b[0;34m(identifier)\u001b[0m\n\u001b[1;32m     65\u001b[0m     \u001b[0;32mif\u001b[0m \u001b[0misinstance\u001b[0m\u001b[0;34m(\u001b[0m\u001b[0midentifier\u001b[0m\u001b[0;34m,\u001b[0m \u001b[0msix\u001b[0m\u001b[0;34m.\u001b[0m\u001b[0mstring_types\u001b[0m\u001b[0;34m)\u001b[0m\u001b[0;34m:\u001b[0m\u001b[0;34m\u001b[0m\u001b[0m\n\u001b[1;32m     66\u001b[0m         \u001b[0midentifier\u001b[0m \u001b[0;34m=\u001b[0m \u001b[0mstr\u001b[0m\u001b[0;34m(\u001b[0m\u001b[0midentifier\u001b[0m\u001b[0;34m)\u001b[0m\u001b[0;34m\u001b[0m\u001b[0m\n\u001b[0;32m---> 67\u001b[0;31m         \u001b[0;32mreturn\u001b[0m \u001b[0mdeserialize\u001b[0m\u001b[0;34m(\u001b[0m\u001b[0midentifier\u001b[0m\u001b[0;34m)\u001b[0m\u001b[0;34m\u001b[0m\u001b[0m\n\u001b[0m\u001b[1;32m     68\u001b[0m     \u001b[0;32melif\u001b[0m \u001b[0mcallable\u001b[0m\u001b[0;34m(\u001b[0m\u001b[0midentifier\u001b[0m\u001b[0;34m)\u001b[0m\u001b[0;34m:\u001b[0m\u001b[0;34m\u001b[0m\u001b[0m\n\u001b[1;32m     69\u001b[0m         \u001b[0;32mreturn\u001b[0m \u001b[0midentifier\u001b[0m\u001b[0;34m\u001b[0m\u001b[0m\n",
      "\u001b[0;32m//anaconda/lib/python3.6/site-packages/keras/metrics.py\u001b[0m in \u001b[0;36mdeserialize\u001b[0;34m(name, custom_objects)\u001b[0m\n\u001b[1;32m     59\u001b[0m                                     \u001b[0mmodule_objects\u001b[0m\u001b[0;34m=\u001b[0m\u001b[0mglobals\u001b[0m\u001b[0;34m(\u001b[0m\u001b[0;34m)\u001b[0m\u001b[0;34m,\u001b[0m\u001b[0;34m\u001b[0m\u001b[0m\n\u001b[1;32m     60\u001b[0m                                     \u001b[0mcustom_objects\u001b[0m\u001b[0;34m=\u001b[0m\u001b[0mcustom_objects\u001b[0m\u001b[0;34m,\u001b[0m\u001b[0;34m\u001b[0m\u001b[0m\n\u001b[0;32m---> 61\u001b[0;31m                                     printable_module_name='metric function')\n\u001b[0m\u001b[1;32m     62\u001b[0m \u001b[0;34m\u001b[0m\u001b[0m\n\u001b[1;32m     63\u001b[0m \u001b[0;34m\u001b[0m\u001b[0m\n",
      "\u001b[0;32m//anaconda/lib/python3.6/site-packages/keras/utils/generic_utils.py\u001b[0m in \u001b[0;36mdeserialize_keras_object\u001b[0;34m(identifier, module_objects, custom_objects, printable_module_name)\u001b[0m\n\u001b[1;32m    157\u001b[0m             \u001b[0;32mif\u001b[0m \u001b[0mfn\u001b[0m \u001b[0;32mis\u001b[0m \u001b[0;32mNone\u001b[0m\u001b[0;34m:\u001b[0m\u001b[0;34m\u001b[0m\u001b[0m\n\u001b[1;32m    158\u001b[0m                 raise ValueError('Unknown ' + printable_module_name +\n\u001b[0;32m--> 159\u001b[0;31m                                  ':' + function_name)\n\u001b[0m\u001b[1;32m    160\u001b[0m         \u001b[0;32mreturn\u001b[0m \u001b[0mfn\u001b[0m\u001b[0;34m\u001b[0m\u001b[0m\n\u001b[1;32m    161\u001b[0m     \u001b[0;32melse\u001b[0m\u001b[0;34m:\u001b[0m\u001b[0;34m\u001b[0m\u001b[0m\n",
      "\u001b[0;31mValueError\u001b[0m: Unknown metric function:recall"
     ]
    }
   ],
   "source": [
    "keras.metrics.custom_metric = keras_metrics.fbeta_score\n",
    "model = load_model('../data/prop_55',custom_objects={'fbeta_score': keras_metrics.fbeta_score})\n",
    "pipeline(['#pega#','#sega#','#seka#','#leva#','#ora#','#mora#', '#posta#',\n",
    "          '#joga#','#sortia#','#media#','#kompo#','#po#','#tendi#','#jenti#',\n",
    "          '#menti#','#hendi#','#tosi#','#kobri#','#faze#','#mata#','#paga#',\n",
    "          '#sai#','#bate#','#kome#'])"
   ]
  },
  {
   "cell_type": "code",
   "execution_count": 17,
   "metadata": {},
   "outputs": [
    {
     "name": "stdout",
     "output_type": "stream",
     "text": [
      "#er\n",
      "Decodificado Loop: #er, Final antes do Loop: ru#\n",
      "#bi\n",
      "Decodificado Loop: #bi, Final antes do Loop: ru#\n",
      "#xo\n",
      "Decodificado Loop: #xo, Final antes do Loop: gu#\n",
      "#ai\n",
      "Decodificado Loop: #ai, Final antes do Loop: tu#\n"
     ]
    },
    {
     "data": {
      "text/plain": [
       "(4, 460)"
      ]
     },
     "execution_count": 17,
     "metadata": {},
     "output_type": "execute_result"
    }
   ],
   "source": [
    "model = load_model('../data/prop_55_batch_400')\n",
    "pipeline(['#ora#',\"#mora#\",'#joga#','#posta#'])"
   ]
  },
  {
   "cell_type": "code",
   "execution_count": 21,
   "metadata": {},
   "outputs": [
    {
     "name": "stdout",
     "output_type": "stream",
     "text": [
      "#su\n",
      "Decodificado Loop: #su, Final antes do Loop: iu#\n",
      "#xe\n",
      "Decodificado Loop: #xe, Final antes do Loop: iu#\n"
     ]
    },
    {
     "data": {
      "text/plain": [
       "(2, 460)"
      ]
     },
     "execution_count": 21,
     "metadata": {},
     "output_type": "execute_result"
    }
   ],
   "source": [
    "model = load_model('../data/prop_55_batch_400')\n",
    "pipeline(['#sortia#','#hemedia#'])"
   ]
  },
  {
   "cell_type": "code",
   "execution_count": 23,
   "metadata": {},
   "outputs": [
    {
     "name": "stdout",
     "output_type": "stream",
     "text": [
      "#be\n",
      "Decodificado Loop: #be, Final antes do Loop: tu#\n",
      "#pr\n",
      "Decodificado Loop: #pr, Final antes do Loop: ju#\n",
      "#bz\n",
      "Decodificado Loop: #bz, Final antes do Loop: fu#\n"
     ]
    },
    {
     "data": {
      "text/plain": [
       "(3, 460)"
      ]
     },
     "execution_count": 23,
     "metadata": {},
     "output_type": "execute_result"
    }
   ],
   "source": [
    "model = load_model('../data/prop_55_batch_400')\n",
    "pipeline(['#vense#','#proteje#','#eskolie#'])"
   ]
  },
  {
   "cell_type": "code",
   "execution_count": 24,
   "metadata": {},
   "outputs": [
    {
     "name": "stdout",
     "output_type": "stream",
     "text": [
      "#po\n",
      "Decodificado Loop: #po, Final antes do Loop: iu#\n",
      "#xe\n",
      "Decodificado Loop: #xe, Final antes do Loop: iu#\n"
     ]
    },
    {
     "data": {
      "text/plain": [
       "(2, 460)"
      ]
     },
     "execution_count": 24,
     "metadata": {},
     "output_type": "execute_result"
    }
   ],
   "source": [
    "model = load_model('../data/prop_55_batch_400')\n",
    "pipeline(['#po#','#hepo#'])"
   ]
  },
  {
   "cell_type": "code",
   "execution_count": 25,
   "metadata": {},
   "outputs": [
    {
     "name": "stdout",
     "output_type": "stream",
     "text": [
      "#te\n",
      "Decodificado Loop: #te, Final antes do Loop: du#\n",
      "#je\n",
      "Decodificado Loop: #je, Final antes do Loop: tu#\n",
      "#fe\n",
      "Decodificado Loop: #fe, Final antes do Loop: tu#\n",
      "#xe\n",
      "Decodificado Loop: #xe, Final antes do Loop: tu#\n"
     ]
    },
    {
     "data": {
      "text/plain": [
       "(4, 460)"
      ]
     },
     "execution_count": 25,
     "metadata": {},
     "output_type": "execute_result"
    }
   ],
   "source": [
    "model = load_model('../data/prop_55_batch_400')\n",
    "pipeline(['#tendi#','#jenti#','#fenti#','#hendi#'])"
   ]
  },
  {
   "cell_type": "code",
   "execution_count": 26,
   "metadata": {},
   "outputs": [
    {
     "name": "stdout",
     "output_type": "stream",
     "text": [
      "#te\n",
      "Decodificado Loop: #te, Final antes do Loop: su#\n",
      "#ko\n",
      "Decodificado Loop: #ko, Final antes do Loop: ru#\n",
      "#go\n",
      "Decodificado Loop: #go, Final antes do Loop: tu#\n"
     ]
    },
    {
     "data": {
      "text/plain": [
       "(3, 460)"
      ]
     },
     "execution_count": 26,
     "metadata": {},
     "output_type": "execute_result"
    }
   ],
   "source": [
    "model = load_model('../data/prop_55_batch_400')\n",
    "pipeline(['#tosi#','#kobri#','#goti#'])"
   ]
  },
  {
   "cell_type": "code",
   "execution_count": 27,
   "metadata": {},
   "outputs": [
    {
     "name": "stdout",
     "output_type": "stream",
     "text": [
      "#da\n",
      "Decodificado Loop: #da, Final antes do Loop: su#\n",
      "#fa\n",
      "Decodificado Loop: #fa, Final antes do Loop: zu#\n"
     ]
    },
    {
     "data": {
      "text/plain": [
       "(2, 460)"
      ]
     },
     "execution_count": 27,
     "metadata": {},
     "output_type": "execute_result"
    }
   ],
   "source": [
    "model = load_model('../data/prop_55_batch_400')\n",
    "pipeline(['#nase#','#faze#'])"
   ]
  },
  {
   "cell_type": "code",
   "execution_count": 28,
   "metadata": {},
   "outputs": [
    {
     "name": "stdout",
     "output_type": "stream",
     "text": [
      "#ma\n",
      "Decodificado Loop: #ma, Final antes do Loop: tu#\n",
      "#pa\n",
      "Decodificado Loop: #pa, Final antes do Loop: gu#\n",
      "#ba\n",
      "Decodificado Loop: #ba, Final antes do Loop: tu#\n",
      "#ta\n",
      "Decodificado Loop: #ta, Final antes do Loop: iu#\n"
     ]
    },
    {
     "data": {
      "text/plain": [
       "(4, 460)"
      ]
     },
     "execution_count": 28,
     "metadata": {},
     "output_type": "execute_result"
    }
   ],
   "source": [
    "model = load_model('../data/prop_55_batch_400')\n",
    "pipeline(['#mata#',\"#paga#\",\"#bate#\",\"#sai#\"])"
   ]
  },
  {
   "cell_type": "code",
   "execution_count": 29,
   "metadata": {
    "collapsed": true
   },
   "outputs": [],
   "source": [
    "path = '../data/prop_55.csv'\n",
    "X,Y = load_data(path)\n",
    "model = load_model('../data/prop_55_batch_400')\n",
    "model.fit(X,Y, epochs=400, batch_size=400,verbose=False)\n",
    "model.save('../data/prop_55_batch_400_2')"
   ]
  },
  {
   "cell_type": "markdown",
   "metadata": {},
   "source": [
    "|     Model Name     | Test File     | Total Irregular Verbs | Total Verbs | Proportion | Epochs | Batch Size  |\n",
    "|:------------------:|---------------|----------------------:|-------------|------------|--------|-------------|\n",
    "| prop_55_batch_400_2   | prop_55       |        209           |  464        |    55%     | 1400    |  400        |"
   ]
  },
  {
   "cell_type": "code",
   "execution_count": 71,
   "metadata": {},
   "outputs": [
    {
     "name": "stdout",
     "output_type": "stream",
     "text": [
      "#pe\n",
      "Decodificado Loop: #pe, Final antes do Loop: gu#\n",
      "#se\n",
      "Decodificado Loop: #se, Final antes do Loop: gu#\n",
      "#se\n",
      "Decodificado Loop: #se, Final antes do Loop: ku#\n",
      "#le\n",
      "Decodificado Loop: #le, Final antes do Loop: vu#\n"
     ]
    },
    {
     "data": {
      "text/plain": [
       "(4, 460)"
      ]
     },
     "execution_count": 71,
     "metadata": {},
     "output_type": "execute_result"
    }
   ],
   "source": [
    "model = load_model('../data/prop_55_batch_400_2')\n",
    "pipeline(['#pega#','#sega#','#seka#','#leva#'])"
   ]
  },
  {
   "cell_type": "code",
   "execution_count": 32,
   "metadata": {},
   "outputs": [
    {
     "name": "stdout",
     "output_type": "stream",
     "text": [
      "#er\n",
      "Decodificado Loop: #er, Final antes do Loop: ru#\n",
      "#mi\n",
      "Decodificado Loop: #mi, Final antes do Loop: ru#\n",
      "#xo\n",
      "Decodificado Loop: #xo, Final antes do Loop: gu#\n",
      "#bu\n",
      "Decodificado Loop: #bu, Final antes do Loop: tu#\n",
      "#xe\n",
      "Decodificado Loop: #xe, Final antes do Loop: bu#\n"
     ]
    },
    {
     "data": {
      "text/plain": [
       "(5, 460)"
      ]
     },
     "execution_count": 32,
     "metadata": {},
     "output_type": "execute_result"
    }
   ],
   "source": [
    "model = load_model('../data/prop_55_batch_400_2')\n",
    "pipeline(['#ora#',\"#mora#\",'#joga#','#posta#','#hetoma#'])"
   ]
  },
  {
   "cell_type": "code",
   "execution_count": 36,
   "metadata": {},
   "outputs": [
    {
     "name": "stdout",
     "output_type": "stream",
     "text": [
      "#su\n",
      "Decodificado Loop: #su, Final antes do Loop: iu#\n"
     ]
    },
    {
     "data": {
      "text/plain": [
       "(1, 460)"
      ]
     },
     "execution_count": 36,
     "metadata": {},
     "output_type": "execute_result"
    }
   ],
   "source": [
    "model = load_model('../data/prop_55_batch_400_2')\n",
    "pipeline(['#sortia#'])"
   ]
  },
  {
   "cell_type": "code",
   "execution_count": 37,
   "metadata": {},
   "outputs": [
    {
     "name": "stdout",
     "output_type": "stream",
     "text": [
      "#be\n",
      "Decodificado Loop: #be, Final antes do Loop: tu#\n"
     ]
    },
    {
     "data": {
      "text/plain": [
       "(1, 460)"
      ]
     },
     "execution_count": 37,
     "metadata": {},
     "output_type": "execute_result"
    }
   ],
   "source": [
    "model = load_model('../data/prop_55_batch_400_2')\n",
    "pipeline(['#vense#'])"
   ]
  },
  {
   "cell_type": "code",
   "execution_count": 38,
   "metadata": {},
   "outputs": [
    {
     "name": "stdout",
     "output_type": "stream",
     "text": [
      "#ko\n",
      "Decodificado Loop: #ko, Final antes do Loop: iu#\n",
      "#po\n",
      "Decodificado Loop: #po, Final antes do Loop: iu#\n"
     ]
    },
    {
     "data": {
      "text/plain": [
       "(2, 460)"
      ]
     },
     "execution_count": 38,
     "metadata": {},
     "output_type": "execute_result"
    }
   ],
   "source": [
    "model = load_model('../data/prop_55_batch_400_2')\n",
    "pipeline(['#kompo#','#po#'])"
   ]
  },
  {
   "cell_type": "code",
   "execution_count": 40,
   "metadata": {},
   "outputs": [
    {
     "name": "stdout",
     "output_type": "stream",
     "text": [
      "#je\n",
      "Decodificado Loop: #je, Final antes do Loop: tu#\n",
      "#fe\n",
      "Decodificado Loop: #fe, Final antes do Loop: tu#\n",
      "#xe\n",
      "Decodificado Loop: #xe, Final antes do Loop: du#\n",
      "#te\n",
      "Decodificado Loop: #te, Final antes do Loop: du#\n"
     ]
    },
    {
     "data": {
      "text/plain": [
       "(4, 460)"
      ]
     },
     "execution_count": 40,
     "metadata": {},
     "output_type": "execute_result"
    }
   ],
   "source": [
    "model = load_model('../data/prop_55_batch_400_2')\n",
    "pipeline(['#jenti#','#fenti#','#hendi#','#tendi#'])"
   ]
  },
  {
   "cell_type": "code",
   "execution_count": 41,
   "metadata": {},
   "outputs": [
    {
     "name": "stdout",
     "output_type": "stream",
     "text": [
      "#to\n",
      "Decodificado Loop: #to, Final antes do Loop: su#\n",
      "#ko\n",
      "Decodificado Loop: #ko, Final antes do Loop: ru#\n",
      "#go\n",
      "Decodificado Loop: #go, Final antes do Loop: tu#\n"
     ]
    },
    {
     "data": {
      "text/plain": [
       "(3, 460)"
      ]
     },
     "execution_count": 41,
     "metadata": {},
     "output_type": "execute_result"
    }
   ],
   "source": [
    "model = load_model('../data/prop_55_batch_400_2')\n",
    "pipeline(['#tosi#','#kobri#','#goti#'])#,'#fosi#']) "
   ]
  },
  {
   "cell_type": "code",
   "execution_count": 42,
   "metadata": {},
   "outputs": [
    {
     "name": "stdout",
     "output_type": "stream",
     "text": [
      "#ai\n",
      "Decodificado Loop: #ai, Final antes do Loop: su#\n",
      "#da\n",
      "Decodificado Loop: #da, Final antes do Loop: su#\n"
     ]
    },
    {
     "data": {
      "text/plain": [
       "(2, 460)"
      ]
     },
     "execution_count": 42,
     "metadata": {},
     "output_type": "execute_result"
    }
   ],
   "source": [
    "model = load_model('../data/prop_55_batch_400_2')\n",
    "pipeline(['#afaze#','#nase#'])"
   ]
  },
  {
   "cell_type": "code",
   "execution_count": 43,
   "metadata": {},
   "outputs": [
    {
     "name": "stdout",
     "output_type": "stream",
     "text": [
      "#ma\n",
      "Decodificado Loop: #ma, Final antes do Loop: tu#\n",
      "#pa\n",
      "Decodificado Loop: #pa, Final antes do Loop: gu#\n",
      "#ta\n",
      "Decodificado Loop: #ta, Final antes do Loop: iu#\n",
      "#ba\n",
      "Decodificado Loop: #ba, Final antes do Loop: tu#\n"
     ]
    },
    {
     "data": {
      "text/plain": [
       "(4, 460)"
      ]
     },
     "execution_count": 43,
     "metadata": {},
     "output_type": "execute_result"
    }
   ],
   "source": [
    "model = load_model('../data/prop_55_batch_400_2')\n",
    "pipeline(['#mata#',\"#paga#\",'#sai#','#bate#'])"
   ]
  },
  {
   "cell_type": "markdown",
   "metadata": {},
   "source": [
    "## Proporcao 65% Irregulares\n"
   ]
  },
  {
   "cell_type": "markdown",
   "metadata": {},
   "source": [
    "|     Model Name     | Test File     | Total Irregular Verbs | Total Verbs | Proportion | Epochs | Batch Size  |\n",
    "|:------------------:|---------------|----------------------:|-------------|------------|--------|-------------|\n",
    "| prop_65_batch_100       | prop_65       |      209        |  579        |    65%     | 1000    |  100         |"
   ]
  },
  {
   "cell_type": "code",
   "execution_count": 62,
   "metadata": {},
   "outputs": [
    {
     "name": "stdout",
     "output_type": "stream",
     "text": [
      "#pe\n",
      "Decodificado Loop: #pe, Final antes do Loop: gu#\n",
      "#se\n",
      "Decodificado Loop: #se, Final antes do Loop: gu#\n",
      "#si\n",
      "Decodificado Loop: #si, Final antes do Loop: ku#\n",
      "#de\n",
      "Decodificado Loop: #de, Final antes do Loop: tu#\n",
      "#pr\n",
      "Decodificado Loop: #pr, Final antes do Loop: tu#\n"
     ]
    },
    {
     "data": {
      "text/plain": [
       "(5, 460)"
      ]
     },
     "execution_count": 62,
     "metadata": {},
     "output_type": "execute_result"
    }
   ],
   "source": [
    "model = load_model('../data/prop_65_batch_100')\n",
    "pipeline(['#pega#','#sega#','#seka#','#testa#','#presta#'])"
   ]
  },
  {
   "cell_type": "code",
   "execution_count": 63,
   "metadata": {},
   "outputs": [
    {
     "name": "stdout",
     "output_type": "stream",
     "text": [
      "#er\n",
      "Decodificado Loop: #er, Final antes do Loop: ru#\n",
      "#me\n",
      "Decodificado Loop: #me, Final antes do Loop: ru#\n",
      "#jo\n",
      "Decodificado Loop: #jo, Final antes do Loop: gu#\n",
      "#ap\n",
      "Decodificado Loop: #ap, Final antes do Loop: tu#\n",
      "#xe\n",
      "Decodificado Loop: #xe, Final antes do Loop: bu#\n"
     ]
    },
    {
     "data": {
      "text/plain": [
       "(5, 460)"
      ]
     },
     "execution_count": 63,
     "metadata": {},
     "output_type": "execute_result"
    }
   ],
   "source": [
    "model = load_model('../data/prop_65_batch_100')\n",
    "pipeline(['#ora#',\"#mora#\",'#joga#','#aposta#','#hetoma#'])"
   ]
  },
  {
   "cell_type": "code",
   "execution_count": 64,
   "metadata": {},
   "outputs": [
    {
     "name": "stdout",
     "output_type": "stream",
     "text": [
      "#su\n",
      "Decodificado Loop: #su, Final antes do Loop: iu#\n",
      "#me\n",
      "Decodificado Loop: #me, Final antes do Loop: iu#\n"
     ]
    },
    {
     "data": {
      "text/plain": [
       "(2, 460)"
      ]
     },
     "execution_count": 64,
     "metadata": {},
     "output_type": "execute_result"
    }
   ],
   "source": [
    "model = load_model('../data/prop_65_batch_100')\n",
    "pipeline(['#sortia#','#media#'])"
   ]
  },
  {
   "cell_type": "code",
   "execution_count": 65,
   "metadata": {},
   "outputs": [
    {
     "name": "stdout",
     "output_type": "stream",
     "text": [
      "#ve\n",
      "Decodificado Loop: #ve, Final antes do Loop: su#\n",
      "#pr\n",
      "Decodificado Loop: #pr, Final antes do Loop: ju#\n"
     ]
    },
    {
     "data": {
      "text/plain": [
       "(2, 460)"
      ]
     },
     "execution_count": 65,
     "metadata": {},
     "output_type": "execute_result"
    }
   ],
   "source": [
    "model = load_model('../data/prop_65_batch_100')\n",
    "pipeline(['#vense#','#proteje#'])"
   ]
  },
  {
   "cell_type": "code",
   "execution_count": 66,
   "metadata": {},
   "outputs": [
    {
     "name": "stdout",
     "output_type": "stream",
     "text": [
      "#po\n",
      "Decodificado Loop: #po, Final antes do Loop: iu#\n",
      "#xe\n",
      "Decodificado Loop: #xe, Final antes do Loop: iu#\n"
     ]
    },
    {
     "data": {
      "text/plain": [
       "(2, 460)"
      ]
     },
     "execution_count": 66,
     "metadata": {},
     "output_type": "execute_result"
    }
   ],
   "source": [
    "model = load_model('../data/prop_65_batch_100')\n",
    "pipeline(['#po#','#hepo#'])"
   ]
  },
  {
   "cell_type": "code",
   "execution_count": 67,
   "metadata": {},
   "outputs": [
    {
     "name": "stdout",
     "output_type": "stream",
     "text": [
      "#je\n",
      "Decodificado Loop: #je, Final antes do Loop: tu#\n",
      "#fe\n",
      "Decodificado Loop: #fe, Final antes do Loop: tu#\n",
      "#xe\n",
      "Decodificado Loop: #xe, Final antes do Loop: tu#\n",
      "#te\n",
      "Decodificado Loop: #te, Final antes do Loop: tu#\n"
     ]
    },
    {
     "data": {
      "text/plain": [
       "(4, 460)"
      ]
     },
     "execution_count": 67,
     "metadata": {},
     "output_type": "execute_result"
    }
   ],
   "source": [
    "model = load_model('../data/prop_65_batch_100')\n",
    "pipeline(['#jenti#','#fenti#','#hendi#','#tendi#'])"
   ]
  },
  {
   "cell_type": "code",
   "execution_count": 68,
   "metadata": {},
   "outputs": [
    {
     "name": "stdout",
     "output_type": "stream",
     "text": [
      "#to\n",
      "Decodificado Loop: #to, Final antes do Loop: su#\n",
      "#ko\n",
      "Decodificado Loop: #ko, Final antes do Loop: ru#\n",
      "#go\n",
      "Decodificado Loop: #go, Final antes do Loop: tu#\n"
     ]
    },
    {
     "data": {
      "text/plain": [
       "(3, 460)"
      ]
     },
     "execution_count": 68,
     "metadata": {},
     "output_type": "execute_result"
    }
   ],
   "source": [
    "model = load_model('../data/prop_65_batch_100')\n",
    "pipeline(['#tosi#','#kobri#','#goti#'])#'#fosi#']) "
   ]
  },
  {
   "cell_type": "code",
   "execution_count": 69,
   "metadata": {},
   "outputs": [
    {
     "name": "stdout",
     "output_type": "stream",
     "text": [
      "#as\n",
      "Decodificado Loop: #as, Final antes do Loop: su#\n",
      "#na\n",
      "Decodificado Loop: #na, Final antes do Loop: su#\n"
     ]
    },
    {
     "data": {
      "text/plain": [
       "(2, 460)"
      ]
     },
     "execution_count": 69,
     "metadata": {},
     "output_type": "execute_result"
    }
   ],
   "source": [
    "model = load_model('../data/prop_65_batch_100')\n",
    "pipeline(['#afaze#','#nase#'])"
   ]
  },
  {
   "cell_type": "code",
   "execution_count": 70,
   "metadata": {},
   "outputs": [
    {
     "name": "stdout",
     "output_type": "stream",
     "text": [
      "#ma\n",
      "Decodificado Loop: #ma, Final antes do Loop: tu#\n",
      "#pa\n",
      "Decodificado Loop: #pa, Final antes do Loop: gu#\n",
      "#sa\n",
      "Decodificado Loop: #sa, Final antes do Loop: iu#\n",
      "#ba\n",
      "Decodificado Loop: #ba, Final antes do Loop: pu#\n"
     ]
    },
    {
     "data": {
      "text/plain": [
       "(4, 460)"
      ]
     },
     "execution_count": 70,
     "metadata": {},
     "output_type": "execute_result"
    }
   ],
   "source": [
    "model = load_model('../data/prop_65_batch_100')\n",
    "pipeline(['#mata#',\"#paga#\",'#sai#','#bate#'])"
   ]
  },
  {
   "cell_type": "markdown",
   "metadata": {},
   "source": [
    "|     Model Name     | Test File     | Total Irregular Verbs | Total Verbs | Proportion | Epochs | Batch Size  |\n",
    "|:------------------:|---------------|----------------------:|-------------|------------|--------|-------------|\n",
    "| prop_65_batch_579_2       | prop_65       |            209        |  579        |    65%     | 1400   |  579         |"
   ]
  },
  {
   "cell_type": "code",
   "execution_count": 56,
   "metadata": {},
   "outputs": [],
   "source": [
    "model = load_model('../data/prop_65_batch_579')\n",
    "model.fit(X,Y, epochs=400, batch_size=40,verbose=False)\n",
    "model.save('../data/prop_65_batch_579_2')"
   ]
  },
  {
   "cell_type": "code",
   "execution_count": 57,
   "metadata": {},
   "outputs": [
    {
     "name": "stdout",
     "output_type": "stream",
     "text": [
      "#pe\n",
      "Decodificado Loop: #pe, Final antes do Loop: tu#\n",
      "#se\n",
      "Decodificado Loop: #se, Final antes do Loop: gu#\n",
      "#se\n",
      "Decodificado Loop: #se, Final antes do Loop: ku#\n",
      "#de\n",
      "Decodificado Loop: #de, Final antes do Loop: tu#\n",
      "#pr\n",
      "Decodificado Loop: #pr, Final antes do Loop: tu#\n"
     ]
    },
    {
     "data": {
      "text/plain": [
       "(5, 460)"
      ]
     },
     "execution_count": 57,
     "metadata": {},
     "output_type": "execute_result"
    }
   ],
   "source": [
    "model = load_model('../data/prop_65_batch_579_2')\n",
    "pipeline(['#pega#','#sega#','#seka#','#testa#','#presta#'])"
   ]
  },
  {
   "cell_type": "code",
   "execution_count": 58,
   "metadata": {},
   "outputs": [
    {
     "name": "stdout",
     "output_type": "stream",
     "text": [
      "#ea\n",
      "Decodificado Loop: #ea, Final antes do Loop: ru#\n",
      "#be\n",
      "Decodificado Loop: #be, Final antes do Loop: zu#\n",
      "#xo\n",
      "Decodificado Loop: #xo, Final antes do Loop: gu#\n",
      "#de\n",
      "Decodificado Loop: #de, Final antes do Loop: tu#\n",
      "#xe\n",
      "Decodificado Loop: #xe, Final antes do Loop: du#\n"
     ]
    },
    {
     "data": {
      "text/plain": [
       "(5, 460)"
      ]
     },
     "execution_count": 58,
     "metadata": {},
     "output_type": "execute_result"
    }
   ],
   "source": [
    "model = load_model('../data/prop_65_batch_579_2')\n",
    "pipeline(['#ora#',\"#mora#\",'#joga#','#aposta#','#hetoma#'])"
   ]
  },
  {
   "cell_type": "code",
   "execution_count": 59,
   "metadata": {},
   "outputs": [
    {
     "name": "stdout",
     "output_type": "stream",
     "text": [
      "#to\n",
      "Decodificado Loop: #to, Final antes do Loop: pu#\n",
      "#be\n",
      "Decodificado Loop: #be, Final antes do Loop: iu#\n"
     ]
    },
    {
     "data": {
      "text/plain": [
       "(2, 460)"
      ]
     },
     "execution_count": 59,
     "metadata": {},
     "output_type": "execute_result"
    }
   ],
   "source": [
    "model = load_model('../data/prop_65_batch_579_2')\n",
    "pipeline(['#sortia#','#media#'])"
   ]
  },
  {
   "cell_type": "code",
   "execution_count": 60,
   "metadata": {},
   "outputs": [
    {
     "name": "stdout",
     "output_type": "stream",
     "text": [
      "#be\n",
      "Decodificado Loop: #be, Final antes do Loop: su#\n",
      "#bd\n",
      "Decodificado Loop: #bd, Final antes do Loop: fu#\n"
     ]
    },
    {
     "data": {
      "text/plain": [
       "(2, 460)"
      ]
     },
     "execution_count": 60,
     "metadata": {},
     "output_type": "execute_result"
    }
   ],
   "source": [
    "model = load_model('../data/prop_65_batch_579_2')\n",
    "pipeline(['#vense#','#eskolie#'])"
   ]
  },
  {
   "cell_type": "code",
   "execution_count": 96,
   "metadata": {},
   "outputs": [
    {
     "name": "stdout",
     "output_type": "stream",
     "text": [
      "#po\n",
      "Decodificado Loop: #po#, Final antes do Loop: iu#\n",
      "#xe\n",
      "Decodificado Loop: #xebuu#, Final antes do Loop: iu#\n"
     ]
    },
    {
     "data": {
      "text/plain": [
       "(2, 460)"
      ]
     },
     "execution_count": 96,
     "metadata": {},
     "output_type": "execute_result"
    }
   ],
   "source": [
    "model = load_model('../data/prop_65')\n",
    "pipeline(['#po#','#hepo#'])"
   ]
  },
  {
   "cell_type": "code",
   "execution_count": 97,
   "metadata": {},
   "outputs": [
    {
     "name": "stdout",
     "output_type": "stream",
     "text": [
      "#je\n",
      "Decodificado Loop: #jentu, Final antes do Loop: tu#\n",
      "#fe\n",
      "Decodificado Loop: #fentu, Final antes do Loop: tu#\n",
      "#xe\n",
      "Decodificado Loop: #xentu#, Final antes do Loop: du#\n",
      "#te\n",
      "Decodificado Loop: #tentk#, Final antes do Loop: du#\n"
     ]
    },
    {
     "data": {
      "text/plain": [
       "(4, 460)"
      ]
     },
     "execution_count": 97,
     "metadata": {},
     "output_type": "execute_result"
    }
   ],
   "source": [
    "model = load_model('../data/prop_65_1000')\n",
    "pipeline(['#jenti#','#fenti#','#hendi#','#tendi#'])"
   ]
  },
  {
   "cell_type": "code",
   "execution_count": 101,
   "metadata": {},
   "outputs": [
    {
     "name": "stdout",
     "output_type": "stream",
     "text": [
      "#to\n",
      "Decodificado Loop: #to#, Final antes do Loop: su#\n",
      "#ko\n",
      "Decodificado Loop: #kobsu#, Final antes do Loop: ru#\n"
     ]
    },
    {
     "data": {
      "text/plain": [
       "(2, 460)"
      ]
     },
     "execution_count": 101,
     "metadata": {},
     "output_type": "execute_result"
    }
   ],
   "source": [
    "model = load_model('../data/prop_65_1000')\n",
    "pipeline(['#tosi#','#kobri#'])#,'#fosi#']) "
   ]
  },
  {
   "cell_type": "code",
   "execution_count": 102,
   "metadata": {},
   "outputs": [
    {
     "name": "stdout",
     "output_type": "stream",
     "text": [
      "#af\n",
      "Decodificado Loop: #afu#, Final antes do Loop: su#\n",
      "#na\n",
      "Decodificado Loop: #natu#, Final antes do Loop: su#\n"
     ]
    },
    {
     "data": {
      "text/plain": [
       "(2, 460)"
      ]
     },
     "execution_count": 102,
     "metadata": {},
     "output_type": "execute_result"
    }
   ],
   "source": [
    "model = load_model('../data/prop_65_1000')\n",
    "pipeline(['#afaze#','#nase#'])"
   ]
  },
  {
   "cell_type": "code",
   "execution_count": 103,
   "metadata": {},
   "outputs": [
    {
     "name": "stdout",
     "output_type": "stream",
     "text": [
      "#ma\n",
      "Decodificado Loop: #matu, Final antes do Loop: tu#\n",
      "#pa\n",
      "Decodificado Loop: #pagu, Final antes do Loop: gu#\n",
      "#sa\n",
      "Decodificado Loop: #sau#, Final antes do Loop: iu#\n",
      "#ba\n",
      "Decodificado Loop: #batu#, Final antes do Loop: pu#\n"
     ]
    },
    {
     "data": {
      "text/plain": [
       "(4, 460)"
      ]
     },
     "execution_count": 103,
     "metadata": {},
     "output_type": "execute_result"
    }
   ],
   "source": [
    "model = load_model('../data/prop_65_1000')\n",
    "pipeline(['#mata#',\"#paga#\",'#sai#','#bate#'])"
   ]
  },
  {
   "cell_type": "markdown",
   "metadata": {},
   "source": [
    "## Proporcao 75% Irregulares"
   ]
  },
  {
   "cell_type": "markdown",
   "metadata": {},
   "source": [
    "|     Model Name     | Test File     | Total Irregular Verbs | Total Verbs | Proportion | Epochs | Batch Size  |\n",
    "|:------------------:|---------------|----------------------:|-------------|------------|--------|-------------|\n",
    "| prop_75       | prop_75       |                      |  400        |    75%     | 600   |  20         |"
   ]
  },
  {
   "cell_type": "code",
   "execution_count": 106,
   "metadata": {},
   "outputs": [
    {
     "name": "stdout",
     "output_type": "stream",
     "text": [
      "#pe\n",
      "Decodificado Loop: #pegu, Final antes do Loop: gu#\n",
      "#si\n",
      "Decodificado Loop: #sigu, Final antes do Loop: gu#\n",
      "#si\n",
      "Decodificado Loop: #siku, Final antes do Loop: ku#\n",
      "#te\n",
      "Decodificado Loop: #te#, Final antes do Loop: tu#\n",
      "#pr\n",
      "Decodificado Loop: #presps#, Final antes do Loop: tu#\n"
     ]
    },
    {
     "data": {
      "text/plain": [
       "(5, 460)"
      ]
     },
     "execution_count": 106,
     "metadata": {},
     "output_type": "execute_result"
    }
   ],
   "source": [
    "model = load_model('../data/prop_75')\n",
    "pipeline(['#pega#','#sega#','#seka#','#testa#','#presta#'])"
   ]
  },
  {
   "cell_type": "code",
   "execution_count": 109,
   "metadata": {},
   "outputs": [
    {
     "name": "stdout",
     "output_type": "stream",
     "text": [
      "#er\n",
      "Decodificado Loop: #eru, Final antes do Loop: ru#\n",
      "#mi\n",
      "Decodificado Loop: #misu#, Final antes do Loop: ru#\n",
      "#ap\n",
      "Decodificado Loop: #apu#, Final antes do Loop: tu#\n"
     ]
    },
    {
     "data": {
      "text/plain": [
       "(3, 460)"
      ]
     },
     "execution_count": 109,
     "metadata": {},
     "output_type": "execute_result"
    }
   ],
   "source": [
    "model = load_model('../data/prop_75')\n",
    "pipeline(['#ora#',\"#mora#\",'#aposta#'])"
   ]
  },
  {
   "cell_type": "code",
   "execution_count": 110,
   "metadata": {},
   "outputs": [
    {
     "name": "stdout",
     "output_type": "stream",
     "text": [
      "#su\n",
      "Decodificado Loop: #su#, Final antes do Loop: iu#\n",
      "#me\n",
      "Decodificado Loop: #medu#, Final antes do Loop: iu#\n"
     ]
    },
    {
     "data": {
      "text/plain": [
       "(2, 460)"
      ]
     },
     "execution_count": 110,
     "metadata": {},
     "output_type": "execute_result"
    }
   ],
   "source": [
    "model = load_model('../data/prop_75')\n",
    "pipeline(['#sortia#','#media#'])"
   ]
  },
  {
   "cell_type": "code",
   "execution_count": 112,
   "metadata": {},
   "outputs": [
    {
     "name": "stdout",
     "output_type": "stream",
     "text": [
      "#ve\n",
      "Decodificado Loop: #vensu, Final antes do Loop: su#\n"
     ]
    },
    {
     "data": {
      "text/plain": [
       "(1, 460)"
      ]
     },
     "execution_count": 112,
     "metadata": {},
     "output_type": "execute_result"
    }
   ],
   "source": [
    "model = load_model('../data/prop_75')\n",
    "pipeline(['#vense#'])"
   ]
  },
  {
   "cell_type": "code",
   "execution_count": 114,
   "metadata": {},
   "outputs": [
    {
     "name": "stdout",
     "output_type": "stream",
     "text": [
      "#po\n",
      "Decodificado Loop: #pompp#, Final antes do Loop: iu#\n",
      "#xe\n",
      "Decodificado Loop: #xebuu#, Final antes do Loop: iu#\n",
      "#ko\n",
      "Decodificado Loop: #kompi#, Final antes do Loop: iu#\n"
     ]
    },
    {
     "data": {
      "text/plain": [
       "(3, 460)"
      ]
     },
     "execution_count": 114,
     "metadata": {},
     "output_type": "execute_result"
    }
   ],
   "source": [
    "model = load_model('../data/prop_75')\n",
    "pipeline(['#po#','#hepo#','#kompo#'])"
   ]
  },
  {
   "cell_type": "code",
   "execution_count": 116,
   "metadata": {},
   "outputs": [
    {
     "name": "stdout",
     "output_type": "stream",
     "text": [
      "#fe\n",
      "Decodificado Loop: #fentu, Final antes do Loop: tu#\n",
      "#xe\n",
      "Decodificado Loop: #xedtu, Final antes do Loop: tu#\n",
      "#te\n",
      "Decodificado Loop: #tentk#, Final antes do Loop: tu#\n"
     ]
    },
    {
     "data": {
      "text/plain": [
       "(3, 460)"
      ]
     },
     "execution_count": 116,
     "metadata": {},
     "output_type": "execute_result"
    }
   ],
   "source": [
    "model = load_model('../data/prop_75')\n",
    "pipeline(['#fenti#','#hendi#','#tendi#'])"
   ]
  },
  {
   "cell_type": "code",
   "execution_count": 118,
   "metadata": {},
   "outputs": [
    {
     "name": "stdout",
     "output_type": "stream",
     "text": [
      "#ko\n",
      "Decodificado Loop: #komsu#, Final antes do Loop: ru#\n"
     ]
    },
    {
     "data": {
      "text/plain": [
       "(1, 460)"
      ]
     },
     "execution_count": 118,
     "metadata": {},
     "output_type": "execute_result"
    }
   ],
   "source": [
    "model = load_model('../data/prop_75')\n",
    "pipeline(['#kobri#'])#,'#fosi#']) "
   ]
  },
  {
   "cell_type": "code",
   "execution_count": 119,
   "metadata": {},
   "outputs": [
    {
     "name": "stdout",
     "output_type": "stream",
     "text": [
      "#ap\n",
      "Decodificado Loop: #apu#, Final antes do Loop: su#\n",
      "#na\n",
      "Decodificado Loop: #naku#, Final antes do Loop: su#\n"
     ]
    },
    {
     "data": {
      "text/plain": [
       "(2, 460)"
      ]
     },
     "execution_count": 119,
     "metadata": {},
     "output_type": "execute_result"
    }
   ],
   "source": [
    "model = load_model('../data/prop_75')\n",
    "pipeline(['#afaze#','#nase#'])"
   ]
  },
  {
   "cell_type": "code",
   "execution_count": 120,
   "metadata": {},
   "outputs": [
    {
     "name": "stdout",
     "output_type": "stream",
     "text": [
      "#ma\n",
      "Decodificado Loop: #matu, Final antes do Loop: tu#\n",
      "#pa\n",
      "Decodificado Loop: #pabu#, Final antes do Loop: gu#\n",
      "#sa\n",
      "Decodificado Loop: #sai#, Final antes do Loop: au#\n",
      "#ba\n",
      "Decodificado Loop: #batu, Final antes do Loop: tu#\n"
     ]
    },
    {
     "data": {
      "text/plain": [
       "(4, 460)"
      ]
     },
     "execution_count": 120,
     "metadata": {},
     "output_type": "execute_result"
    }
   ],
   "source": [
    "model = load_model('../data/prop_75')\n",
    "pipeline(['#mata#',\"#paga#\",'#sai#','#bate#'])"
   ]
  },
  {
   "cell_type": "markdown",
   "metadata": {},
   "source": [
    "|     Model Name     | Test File     | Total Irregular Verbs | Total Verbs | Proportion | Epochs | Batch Size  |\n",
    "|:------------------:|---------------|----------------------:|-------------|------------|--------|-------------|\n",
    "| prop_75_1000       | prop_75       |                      |  400        |    75%     | 1000   |  20         |"
   ]
  },
  {
   "cell_type": "code",
   "execution_count": 121,
   "metadata": {},
   "outputs": [],
   "source": [
    "model = load_model('../data/prop_75')\n",
    "model.fit(X,Y, epochs=400, batch_size=20,verbose=False)\n",
    "model.save('../data/prop_75_1000')"
   ]
  },
  {
   "cell_type": "code",
   "execution_count": 122,
   "metadata": {},
   "outputs": [
    {
     "name": "stdout",
     "output_type": "stream",
     "text": [
      "#pe\n",
      "Decodificado Loop: #pegu, Final antes do Loop: gu#\n",
      "#si\n",
      "Decodificado Loop: #sigu, Final antes do Loop: gu#\n",
      "#si\n",
      "Decodificado Loop: #sikO#, Final antes do Loop: ku#\n",
      "#te\n",
      "Decodificado Loop: #te#, Final antes do Loop: tu#\n",
      "#pr\n",
      "Decodificado Loop: #prespx#, Final antes do Loop: tu#\n"
     ]
    },
    {
     "data": {
      "text/plain": [
       "(5, 460)"
      ]
     },
     "execution_count": 122,
     "metadata": {},
     "output_type": "execute_result"
    }
   ],
   "source": [
    "model = load_model('../data/prop_75_1000')\n",
    "pipeline(['#pega#','#sega#','#seka#','#testa#','#presta#'])"
   ]
  },
  {
   "cell_type": "code",
   "execution_count": 127,
   "metadata": {},
   "outputs": [
    {
     "name": "stdout",
     "output_type": "stream",
     "text": [
      "#er\n",
      "Decodificado Loop: #eru, Final antes do Loop: ru#\n",
      "#mo\n",
      "Decodificado Loop: #moza#, Final antes do Loop: ru#\n",
      "#ap\n",
      "Decodificado Loop: #apu#, Final antes do Loop: tu#\n"
     ]
    },
    {
     "data": {
      "text/plain": [
       "(3, 460)"
      ]
     },
     "execution_count": 127,
     "metadata": {},
     "output_type": "execute_result"
    }
   ],
   "source": [
    "model = load_model('../data/prop_75_1000')\n",
    "pipeline(['#ora#',\"#mora#\",'#aposta#'])"
   ]
  },
  {
   "cell_type": "code",
   "execution_count": 128,
   "metadata": {},
   "outputs": [
    {
     "name": "stdout",
     "output_type": "stream",
     "text": [
      "#su\n",
      "Decodificado Loop: #su#, Final antes do Loop: iu#\n",
      "#me\n",
      "Decodificado Loop: #meeo#, Final antes do Loop: iu#\n"
     ]
    },
    {
     "data": {
      "text/plain": [
       "(2, 460)"
      ]
     },
     "execution_count": 128,
     "metadata": {},
     "output_type": "execute_result"
    }
   ],
   "source": [
    "model = load_model('../data/prop_75_1000')\n",
    "pipeline(['#sortia#','#media#'])"
   ]
  },
  {
   "cell_type": "code",
   "execution_count": 129,
   "metadata": {},
   "outputs": [
    {
     "name": "stdout",
     "output_type": "stream",
     "text": [
      "#ve\n",
      "Decodificado Loop: #vensu, Final antes do Loop: su#\n"
     ]
    },
    {
     "data": {
      "text/plain": [
       "(1, 460)"
      ]
     },
     "execution_count": 129,
     "metadata": {},
     "output_type": "execute_result"
    }
   ],
   "source": [
    "model = load_model('../data/prop_75_1000')\n",
    "pipeline(['#vense#'])"
   ]
  },
  {
   "cell_type": "code",
   "execution_count": 130,
   "metadata": {},
   "outputs": [
    {
     "name": "stdout",
     "output_type": "stream",
     "text": [
      "#po\n",
      "Decodificado Loop: #po#, Final antes do Loop: iu#\n",
      "#xe\n",
      "Decodificado Loop: #xebaO#, Final antes do Loop: iu#\n",
      "#ko\n",
      "Decodificado Loop: #kompi#, Final antes do Loop: iu#\n"
     ]
    },
    {
     "data": {
      "text/plain": [
       "(3, 460)"
      ]
     },
     "execution_count": 130,
     "metadata": {},
     "output_type": "execute_result"
    }
   ],
   "source": [
    "model = load_model('../data/prop_75_1000')\n",
    "pipeline(['#po#','#hepo#','#kompo#'])"
   ]
  },
  {
   "cell_type": "code",
   "execution_count": 131,
   "metadata": {},
   "outputs": [
    {
     "name": "stdout",
     "output_type": "stream",
     "text": [
      "#po\n",
      "Decodificado Loop: #po#, Final antes do Loop: iu#\n",
      "#xe\n",
      "Decodificado Loop: #xebaO#, Final antes do Loop: iu#\n",
      "#ko\n",
      "Decodificado Loop: #kompi#, Final antes do Loop: iu#\n"
     ]
    },
    {
     "data": {
      "text/plain": [
       "(3, 460)"
      ]
     },
     "execution_count": 131,
     "metadata": {},
     "output_type": "execute_result"
    }
   ],
   "source": [
    "model = load_model('../data/prop_75_1000')\n",
    "pipeline(['#po#','#hepo#','#kompo#'])"
   ]
  },
  {
   "cell_type": "code",
   "execution_count": 136,
   "metadata": {},
   "outputs": [
    {
     "name": "stdout",
     "output_type": "stream",
     "text": [
      "#fe\n",
      "Decodificado Loop: #fentu, Final antes do Loop: tu#\n",
      "#xe\n",
      "Decodificado Loop: #xedtu, Final antes do Loop: tu#\n"
     ]
    },
    {
     "data": {
      "text/plain": [
       "(2, 460)"
      ]
     },
     "execution_count": 136,
     "metadata": {},
     "output_type": "execute_result"
    }
   ],
   "source": [
    "model = load_model('../data/prop_75_1000')\n",
    "pipeline(['#fenti#','#hendi#'])"
   ]
  },
  {
   "cell_type": "code",
   "execution_count": 139,
   "metadata": {},
   "outputs": [
    {
     "name": "stdout",
     "output_type": "stream",
     "text": [
      "#ko\n",
      "Decodificado Loop: #komsu#, Final antes do Loop: ru#\n"
     ]
    },
    {
     "data": {
      "text/plain": [
       "(1, 460)"
      ]
     },
     "execution_count": 139,
     "metadata": {},
     "output_type": "execute_result"
    }
   ],
   "source": [
    "model = load_model('../data/prop_75_1000')\n",
    "pipeline(['#kobri#'])#,'#fosi#']) "
   ]
  },
  {
   "cell_type": "code",
   "execution_count": 140,
   "metadata": {},
   "outputs": [
    {
     "name": "stdout",
     "output_type": "stream",
     "text": [
      "#af\n",
      "Decodificado Loop: #afu#, Final antes do Loop: su#\n",
      "#na\n",
      "Decodificado Loop: #napu#, Final antes do Loop: su#\n"
     ]
    },
    {
     "data": {
      "text/plain": [
       "(2, 460)"
      ]
     },
     "execution_count": 140,
     "metadata": {},
     "output_type": "execute_result"
    }
   ],
   "source": [
    "model = load_model('../data/prop_75_1000')\n",
    "pipeline(['#afaze#','#nase#'])"
   ]
  },
  {
   "cell_type": "code",
   "execution_count": 141,
   "metadata": {},
   "outputs": [
    {
     "name": "stdout",
     "output_type": "stream",
     "text": [
      "#ma\n",
      "Decodificado Loop: #matu, Final antes do Loop: tu#\n",
      "#pa\n",
      "Decodificado Loop: #pabu#, Final antes do Loop: gu#\n",
      "#sa\n",
      "Decodificado Loop: #safpipipppp#, Final antes do Loop: au#\n",
      "#ba\n",
      "Decodificado Loop: #batu#, Final antes do Loop: pu#\n"
     ]
    },
    {
     "data": {
      "text/plain": [
       "(4, 460)"
      ]
     },
     "execution_count": 141,
     "metadata": {},
     "output_type": "execute_result"
    }
   ],
   "source": [
    "model = load_model('../data/prop_75_1000')\n",
    "pipeline(['#mata#',\"#paga#\",'#sai#','#bate#'])"
   ]
  },
  {
   "cell_type": "markdown",
   "metadata": {},
   "source": [
    "## Proporcao 85% Irregulares"
   ]
  },
  {
   "cell_type": "markdown",
   "metadata": {},
   "source": [
    "|     Model Name     | Test File     | Total Irregular Verbs | Total Verbs | Proportion | Epochs | Batch Size  |\n",
    "|:------------------:|---------------|----------------------:|-------------|------------|--------|-------------|\n",
    "| prop_85       | prop_85       |                      |  400        |    85%     | 600   |  20         |"
   ]
  },
  {
   "cell_type": "code",
   "execution_count": 144,
   "metadata": {},
   "outputs": [
    {
     "name": "stdout",
     "output_type": "stream",
     "text": [
      "#pe\n",
      "Decodificado Loop: #pegu, Final antes do Loop: gu#\n",
      "#si\n",
      "Decodificado Loop: #sigu, Final antes do Loop: gu#\n",
      "#si\n",
      "Decodificado Loop: #siku, Final antes do Loop: ku#\n",
      "#de\n",
      "Decodificado Loop: #de#, Final antes do Loop: tu#\n",
      "#pr\n",
      "Decodificado Loop: #presps#, Final antes do Loop: tu#\n"
     ]
    },
    {
     "data": {
      "text/plain": [
       "(5, 460)"
      ]
     },
     "execution_count": 144,
     "metadata": {},
     "output_type": "execute_result"
    }
   ],
   "source": [
    "model = load_model('../data/prop_85')\n",
    "pipeline(['#pega#','#sega#','#seka#','#testa#','#presta#'])"
   ]
  },
  {
   "cell_type": "code",
   "execution_count": 147,
   "metadata": {},
   "outputs": [
    {
     "name": "stdout",
     "output_type": "stream",
     "text": [
      "#er\n",
      "Decodificado Loop: #eru, Final antes do Loop: ru#\n",
      "#mu\n",
      "Decodificado Loop: #muzujfzazasakada#, Final antes do Loop: ru#\n",
      "#jo\n",
      "Decodificado Loop: #jogogu, Final antes do Loop: gu#\n"
     ]
    },
    {
     "data": {
      "text/plain": [
       "(3, 460)"
      ]
     },
     "execution_count": 147,
     "metadata": {},
     "output_type": "execute_result"
    }
   ],
   "source": [
    "model = load_model('../data/prop_85')\n",
    "pipeline(['#ora#',\"#mora#\",'#joga#'])"
   ]
  },
  {
   "cell_type": "code",
   "execution_count": 148,
   "metadata": {},
   "outputs": [
    {
     "name": "stdout",
     "output_type": "stream",
     "text": [
      "#su\n",
      "Decodificado Loop: #su#, Final antes do Loop: iu#\n",
      "#me\n",
      "Decodificado Loop: #meuu#, Final antes do Loop: iu#\n"
     ]
    },
    {
     "data": {
      "text/plain": [
       "(2, 460)"
      ]
     },
     "execution_count": 148,
     "metadata": {},
     "output_type": "execute_result"
    }
   ],
   "source": [
    "model = load_model('../data/prop_85')\n",
    "pipeline(['#sortia#','#media#'])"
   ]
  },
  {
   "cell_type": "markdown",
   "metadata": {},
   "source": [
    "## FULL BATCH"
   ]
  },
  {
   "cell_type": "code",
   "execution_count": 13,
   "metadata": {},
   "outputs": [
    {
     "name": "stdout",
     "output_type": "stream",
     "text": [
      "#pe\n",
      "Decodificado Loop: #pe, Final antes do Loop: gu#\n"
     ]
    },
    {
     "data": {
      "text/plain": [
       "(1, 460)"
      ]
     },
     "execution_count": 13,
     "metadata": {},
     "output_type": "execute_result"
    }
   ],
   "source": [
    "model = load_model('../data/prop_55_batch_400')\n",
    "pipeline(['#pega#'])"
   ]
  },
  {
   "cell_type": "code",
   "execution_count": null,
   "metadata": {},
   "outputs": [],
   "source": []
  }
 ],
 "metadata": {
  "kernelspec": {
   "display_name": "Python 3",
   "language": "python",
   "name": "python3"
  },
  "language_info": {
   "codemirror_mode": {
    "name": "ipython",
    "version": 3
   },
   "file_extension": ".py",
   "mimetype": "text/x-python",
   "name": "python",
   "nbconvert_exporter": "python",
   "pygments_lexer": "ipython3",
   "version": "3.6.0"
  }
 },
 "nbformat": 4,
 "nbformat_minor": 2
}
