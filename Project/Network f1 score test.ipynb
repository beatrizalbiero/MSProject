{
 "cells": [
  {
   "cell_type": "code",
   "execution_count": 1,
   "metadata": {
    "collapsed": false
   },
   "outputs": [
    {
     "name": "stderr",
     "output_type": "stream",
     "text": [
      "Using TensorFlow backend.\n"
     ]
    }
   ],
   "source": [
    "'''\n",
    "packages\n",
    "'''\n",
    "import sys\n",
    "import keras\n",
    "from keras.models import Sequential\n",
    "from keras.layers import Dense\n",
    "from keras.models import load_model\n",
    "import numpy as np\n",
    "import random\n",
    "import pickle\n",
    "import decoding2\n",
    "import coding_function as cf\n",
    "import decoding_function as df\n",
    "import csv\n",
    "from Files import nodes\n",
    "import os\n",
    "sys.path.append('../')"
   ]
  },
  {
   "cell_type": "code",
   "execution_count": 2,
   "metadata": {
    "collapsed": false
   },
   "outputs": [],
   "source": [
    "#from keras_metrics import KerasMetrics"
   ]
  },
  {
   "cell_type": "code",
   "execution_count": 3,
   "metadata": {
    "collapsed": false
   },
   "outputs": [],
   "source": [
    "# Loading Data"
   ]
  },
  {
   "cell_type": "code",
   "execution_count": 16,
   "metadata": {
    "collapsed": false
   },
   "outputs": [],
   "source": [
    "\"\"\"\n",
    "with open('Files/training_data_set.csv','r') as csvfile:\n",
    "    readcsv = csv.reader(csvfile, delimiter = ',')\n",
    "    phoneticinf = []\n",
    "    phoneticI = []\n",
    "    for row in readcsv:\n",
    "        phoneticinf.append(row[1])\n",
    "        phoneticI.append(row[3])\n",
    "\"\"\"\n",
    "with open('Files/biased_train.csv','r') as csvfile:\n",
    "    readcsv = csv.reader(csvfile, delimiter = ',')\n",
    "    phoneticinf = []\n",
    "    phoneticI = []\n",
    "    for row in readcsv:\n",
    "        phoneticinf.append(row[1])\n",
    "        phoneticI.append(row[3])"
   ]
  },
  {
   "cell_type": "code",
   "execution_count": 3,
   "metadata": {
    "collapsed": false
   },
   "outputs": [],
   "source": [
    "#cf.dataTest(phoneticinf,phoneticI) # careful with duplicates on your dataset"
   ]
  },
  {
   "cell_type": "code",
   "execution_count": 4,
   "metadata": {
    "collapsed": false
   },
   "outputs": [],
   "source": [
    "# for key in dictioinf.keys(): \n",
    "#      if key in phoneticinf:\n",
    "#         phoneticinf.remove(key)\n",
    "# phoneticinf"
   ]
  },
  {
   "cell_type": "code",
   "execution_count": 5,
   "metadata": {
    "collapsed": true
   },
   "outputs": [],
   "source": [
    "\n",
    "dictioinf = {}\n",
    "dictioI = {}\n",
    "\n",
    "for item in phoneticinf:\n",
    "    dictioinf[item] = cf.coding(item)\n",
    "\n",
    "for item in phoneticI:\n",
    "    dictioI[item] = cf.coding(item)\n",
    " "
   ]
  },
  {
   "cell_type": "code",
   "execution_count": 6,
   "metadata": {
    "collapsed": false
   },
   "outputs": [],
   "source": [
    "\n",
    "X = np.array(list(dictioinf.values())) #input column\n",
    "Y = np.array(list(dictioI.values())) #output column\n"
   ]
  },
  {
   "cell_type": "code",
   "execution_count": 7,
   "metadata": {
    "collapsed": true
   },
   "outputs": [],
   "source": [
    "'''\n",
    "2. Define model\n",
    "'''\n",
    "\n",
    "model = Sequential()\n",
    "model.add(Dense(460, input_shape=(460,), activation='sigmoid'))\n"
   ]
  },
  {
   "cell_type": "code",
   "execution_count": 8,
   "metadata": {
    "collapsed": false
   },
   "outputs": [
    {
     "data": {
      "text/plain": [
       "'\\n3. Evaluate model #TODO\\n'"
      ]
     },
     "execution_count": 8,
     "metadata": {},
     "output_type": "execute_result"
    }
   ],
   "source": [
    "'''\n",
    "3. Evaluate model #TODO\n",
    "'''\n",
    "\n"
   ]
  },
  {
   "cell_type": "code",
   "execution_count": 9,
   "metadata": {
    "collapsed": false
   },
   "outputs": [],
   "source": [
    "'''\n",
    "4. Compile model\n",
    "'''\n",
    "\n",
    "model.compile(loss='mean_squared_error', optimizer='adadelta')\n"
   ]
  },
  {
   "cell_type": "code",
   "execution_count": 13,
   "metadata": {},
   "outputs": [
    {
     "name": "stdout",
     "output_type": "stream",
     "text": [
      "Epoch 1/100\n",
      "22/22 [==============================] - 0s - loss: 0.0433     \n",
      "Epoch 2/100\n",
      "22/22 [==============================] - 0s - loss: 0.0432     \n",
      "Epoch 3/100\n",
      "22/22 [==============================] - 0s - loss: 0.0431     \n",
      "Epoch 4/100\n",
      "22/22 [==============================] - 0s - loss: 0.0431     \n",
      "Epoch 5/100\n",
      "22/22 [==============================] - 0s - loss: 0.0430     \n",
      "Epoch 6/100\n",
      "22/22 [==============================] - 0s - loss: 0.0429     \n",
      "Epoch 7/100\n",
      "22/22 [==============================] - 0s - loss: 0.0428     \n",
      "Epoch 8/100\n",
      "22/22 [==============================] - 0s - loss: 0.0427     \n",
      "Epoch 9/100\n",
      "22/22 [==============================] - 0s - loss: 0.0427     \n",
      "Epoch 10/100\n",
      "22/22 [==============================] - 0s - loss: 0.0426     \n",
      "Epoch 11/100\n",
      "22/22 [==============================] - 0s - loss: 0.0425     \n",
      "Epoch 12/100\n",
      "22/22 [==============================] - 0s - loss: 0.0424     \n",
      "Epoch 13/100\n",
      "22/22 [==============================] - 0s - loss: 0.0424     \n",
      "Epoch 14/100\n",
      "22/22 [==============================] - 0s - loss: 0.0423     \n",
      "Epoch 15/100\n",
      "22/22 [==============================] - 0s - loss: 0.0422     \n",
      "Epoch 16/100\n",
      "22/22 [==============================] - 0s - loss: 0.0421     \n",
      "Epoch 17/100\n",
      "22/22 [==============================] - 0s - loss: 0.0420     \n",
      "Epoch 18/100\n",
      "22/22 [==============================] - 0s - loss: 0.0420     \n",
      "Epoch 19/100\n",
      "22/22 [==============================] - 0s - loss: 0.0419     \n",
      "Epoch 20/100\n",
      "22/22 [==============================] - 0s - loss: 0.0418     \n",
      "Epoch 21/100\n",
      "22/22 [==============================] - 0s - loss: 0.0418     \n",
      "Epoch 22/100\n",
      "22/22 [==============================] - 0s - loss: 0.0417     \n",
      "Epoch 23/100\n",
      "22/22 [==============================] - 0s - loss: 0.0416     \n",
      "Epoch 24/100\n",
      "22/22 [==============================] - 0s - loss: 0.0415     \n",
      "Epoch 25/100\n",
      "22/22 [==============================] - 0s - loss: 0.0415     \n",
      "Epoch 26/100\n",
      "22/22 [==============================] - 0s - loss: 0.0414     \n",
      "Epoch 27/100\n",
      "22/22 [==============================] - 0s - loss: 0.0413     \n",
      "Epoch 28/100\n",
      "22/22 [==============================] - 0s - loss: 0.0413     \n",
      "Epoch 29/100\n",
      "22/22 [==============================] - 0s - loss: 0.0412     \n",
      "Epoch 30/100\n",
      "22/22 [==============================] - 0s - loss: 0.0411     \n",
      "Epoch 31/100\n",
      "22/22 [==============================] - 0s - loss: 0.0410     \n",
      "Epoch 32/100\n",
      "22/22 [==============================] - 0s - loss: 0.0410     \n",
      "Epoch 33/100\n",
      "22/22 [==============================] - 0s - loss: 0.0409     \n",
      "Epoch 34/100\n",
      "22/22 [==============================] - 0s - loss: 0.0408     \n",
      "Epoch 35/100\n",
      "22/22 [==============================] - 0s - loss: 0.0408     \n",
      "Epoch 36/100\n",
      "22/22 [==============================] - 0s - loss: 0.0407     \n",
      "Epoch 37/100\n",
      "22/22 [==============================] - 0s - loss: 0.0406     \n",
      "Epoch 38/100\n",
      "22/22 [==============================] - 0s - loss: 0.0406     \n",
      "Epoch 39/100\n",
      "22/22 [==============================] - 0s - loss: 0.0405     \n",
      "Epoch 40/100\n",
      "22/22 [==============================] - 0s - loss: 0.0404     \n",
      "Epoch 41/100\n",
      "22/22 [==============================] - 0s - loss: 0.0404     \n",
      "Epoch 42/100\n",
      "22/22 [==============================] - 0s - loss: 0.0403     \n",
      "Epoch 43/100\n",
      "22/22 [==============================] - 0s - loss: 0.0402     \n",
      "Epoch 44/100\n",
      "22/22 [==============================] - 0s - loss: 0.0402     \n",
      "Epoch 45/100\n",
      "22/22 [==============================] - 0s - loss: 0.0401     \n",
      "Epoch 46/100\n",
      "22/22 [==============================] - 0s - loss: 0.0400     \n",
      "Epoch 47/100\n",
      "22/22 [==============================] - 0s - loss: 0.0399     \n",
      "Epoch 48/100\n",
      "22/22 [==============================] - 0s - loss: 0.0399     \n",
      "Epoch 49/100\n",
      "22/22 [==============================] - 0s - loss: 0.0398     \n",
      "Epoch 50/100\n",
      "22/22 [==============================] - 0s - loss: 0.0397     \n",
      "Epoch 51/100\n",
      "22/22 [==============================] - 0s - loss: 0.0397     \n",
      "Epoch 52/100\n",
      "22/22 [==============================] - 0s - loss: 0.0396     \n",
      "Epoch 53/100\n",
      "22/22 [==============================] - 0s - loss: 0.0396     \n",
      "Epoch 54/100\n",
      "22/22 [==============================] - 0s - loss: 0.0395     \n",
      "Epoch 55/100\n",
      "22/22 [==============================] - 0s - loss: 0.0394     \n",
      "Epoch 56/100\n",
      "22/22 [==============================] - 0s - loss: 0.0393     \n",
      "Epoch 57/100\n",
      "22/22 [==============================] - 0s - loss: 0.0393     \n",
      "Epoch 58/100\n",
      "22/22 [==============================] - 0s - loss: 0.0392     \n",
      "Epoch 59/100\n",
      "22/22 [==============================] - 0s - loss: 0.0392     \n",
      "Epoch 60/100\n",
      "22/22 [==============================] - 0s - loss: 0.0391     \n",
      "Epoch 61/100\n",
      "22/22 [==============================] - 0s - loss: 0.0390     \n",
      "Epoch 62/100\n",
      "22/22 [==============================] - 0s - loss: 0.0390     \n",
      "Epoch 63/100\n",
      "22/22 [==============================] - 0s - loss: 0.0389     \n",
      "Epoch 64/100\n",
      "22/22 [==============================] - 0s - loss: 0.0388     \n",
      "Epoch 65/100\n",
      "22/22 [==============================] - 0s - loss: 0.0388     \n",
      "Epoch 66/100\n",
      "22/22 [==============================] - 0s - loss: 0.0387     \n",
      "Epoch 67/100\n",
      "22/22 [==============================] - 0s - loss: 0.0386     \n",
      "Epoch 68/100\n",
      "22/22 [==============================] - 0s - loss: 0.0386     \n",
      "Epoch 69/100\n",
      "22/22 [==============================] - 0s - loss: 0.0385     \n",
      "Epoch 70/100\n",
      "22/22 [==============================] - 0s - loss: 0.0385     \n",
      "Epoch 71/100\n",
      "22/22 [==============================] - 0s - loss: 0.0384     \n",
      "Epoch 72/100\n",
      "22/22 [==============================] - 0s - loss: 0.0383     \n",
      "Epoch 73/100\n",
      "22/22 [==============================] - 0s - loss: 0.0383     \n",
      "Epoch 74/100\n",
      "22/22 [==============================] - 0s - loss: 0.0382     \n",
      "Epoch 75/100\n",
      "22/22 [==============================] - 0s - loss: 0.0381     \n",
      "Epoch 76/100\n",
      "22/22 [==============================] - 0s - loss: 0.0381     \n",
      "Epoch 77/100\n",
      "22/22 [==============================] - 0s - loss: 0.0380     \n",
      "Epoch 78/100\n",
      "22/22 [==============================] - 0s - loss: 0.0380     \n",
      "Epoch 79/100\n",
      "22/22 [==============================] - 0s - loss: 0.0379     \n",
      "Epoch 80/100\n",
      "22/22 [==============================] - 0s - loss: 0.0379     \n",
      "Epoch 81/100\n",
      "22/22 [==============================] - 0s - loss: 0.0378     \n",
      "Epoch 82/100\n",
      "22/22 [==============================] - 0s - loss: 0.0377     \n",
      "Epoch 83/100\n",
      "22/22 [==============================] - 0s - loss: 0.0377     \n",
      "Epoch 84/100\n",
      "22/22 [==============================] - 0s - loss: 0.0376     \n",
      "Epoch 85/100\n",
      "22/22 [==============================] - 0s - loss: 0.0375     \n",
      "Epoch 86/100\n",
      "22/22 [==============================] - 0s - loss: 0.0375     \n",
      "Epoch 87/100\n",
      "22/22 [==============================] - 0s - loss: 0.0374     \n",
      "Epoch 88/100\n",
      "22/22 [==============================] - 0s - loss: 0.0374     \n",
      "Epoch 89/100\n",
      "22/22 [==============================] - 0s - loss: 0.0373     \n",
      "Epoch 90/100\n",
      "22/22 [==============================] - 0s - loss: 0.0373     \n",
      "Epoch 91/100\n",
      "22/22 [==============================] - 0s - loss: 0.0372     \n",
      "Epoch 92/100\n",
      "22/22 [==============================] - 0s - loss: 0.0371     \n",
      "Epoch 93/100\n",
      "22/22 [==============================] - 0s - loss: 0.0371     \n",
      "Epoch 94/100\n",
      "22/22 [==============================] - 0s - loss: 0.0370     \n",
      "Epoch 95/100\n",
      "22/22 [==============================] - 0s - loss: 0.0369     \n",
      "Epoch 96/100\n",
      "22/22 [==============================] - 0s - loss: 0.0369     \n",
      "Epoch 97/100\n",
      "22/22 [==============================] - 0s - loss: 0.0368     \n",
      "Epoch 98/100\n",
      "22/22 [==============================] - 0s - loss: 0.0368     \n",
      "Epoch 99/100\n",
      "22/22 [==============================] - 0s - loss: 0.0367     \n",
      "Epoch 100/100\n",
      "22/22 [==============================] - 0s - loss: 0.0366     \n"
     ]
    },
    {
     "data": {
      "text/plain": [
       "<keras.callbacks.History at 0x11e5e6be0>"
      ]
     },
     "execution_count": 13,
     "metadata": {},
     "output_type": "execute_result"
    }
   ],
   "source": [
    "'''\n",
    "5. Fit model\n",
    "'''\n",
    "\n",
    "model.fit(X,Y, epochs=100, batch_size=20)"
   ]
  },
  {
   "cell_type": "code",
   "execution_count": 16,
   "metadata": {},
   "outputs": [],
   "source": [
    "# Saving Model\n",
    "model.save('../data/biased_model')"
   ]
  },
  {
   "cell_type": "code",
   "execution_count": 17,
   "metadata": {},
   "outputs": [],
   "source": [
    "# Loading Model\n",
    "model = load_model('../data/biased_model')"
   ]
  },
  {
   "cell_type": "code",
   "execution_count": 14,
   "metadata": {},
   "outputs": [],
   "source": [
    "def pipeline(verbs):\n",
    "    \"\"\"\n",
    "    Pipeline receives a list of verbs and decodes it.\n",
    "    \n",
    "    :verbs type: list\n",
    "    :r type: string\n",
    "    \"\"\"\n",
    "    test_list = []\n",
    "    for i in verbs:\n",
    "        coding = cf.coding(i)        \n",
    "        test_list.append(coding)\n",
    "    test_list = np.array(test_list)\n",
    "    prediction = model.predict(test_list)\n",
    "    for i in prediction:\n",
    "        print(decoding2.decoding(i))\n",
    "    return test_list.shape"
   ]
  },
  {
   "cell_type": "code",
   "execution_count": 17,
   "metadata": {},
   "outputs": [
    {
     "name": "stdout",
     "output_type": "stream",
     "text": [
      "#tO\n",
      "Decodificado Loop: #tOldixmopOlgijmofgejpolgijmj#, Final antes do Loop: nu#\n",
      "#bE\n",
      "Decodificado Loop: #bEku, Final antes do Loop: ku#\n"
     ]
    },
    {
     "data": {
      "text/plain": [
       "(2, 460)"
      ]
     },
     "execution_count": 17,
     "metadata": {},
     "output_type": "execute_result"
    }
   ],
   "source": [
    "pipeline(['#xora#','#fexa#'])"
   ]
  },
  {
   "cell_type": "code",
   "execution_count": 20,
   "metadata": {},
   "outputs": [
    {
     "name": "stdout",
     "output_type": "stream",
     "text": [
      "#xO\n"
     ]
    },
    {
     "data": {
      "text/plain": [
       "'Decodificado Loop: #xOra, Final antes do Loop: ra#'"
      ]
     },
     "execution_count": 20,
     "metadata": {},
     "output_type": "execute_result"
    }
   ],
   "source": []
  },
  {
   "cell_type": "code",
   "execution_count": null,
   "metadata": {},
   "outputs": [],
   "source": []
  }
 ],
 "metadata": {
  "kernelspec": {
   "display_name": "Python 3",
   "language": "python",
   "name": "python3"
  },
  "language_info": {
   "codemirror_mode": {
    "name": "ipython",
    "version": 3
   },
   "file_extension": ".py",
   "mimetype": "text/x-python",
   "name": "python",
   "nbconvert_exporter": "python",
   "pygments_lexer": "ipython3",
   "version": "3.6.0"
  }
 },
 "nbformat": 4,
 "nbformat_minor": 2
}
