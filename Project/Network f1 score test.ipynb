{
 "cells": [
  {
   "cell_type": "markdown",
   "metadata": {},
   "source": [
    "### Packages"
   ]
  },
  {
   "cell_type": "code",
   "execution_count": 1,
   "metadata": {
    "collapsed": false
   },
   "outputs": [
    {
     "name": "stderr",
     "output_type": "stream",
     "text": [
      "Using TensorFlow backend.\n"
     ]
    }
   ],
   "source": [
    "import sys\n",
    "import keras\n",
    "from keras.models import Sequential\n",
    "from keras.layers import Dense\n",
    "from keras.models import load_model\n",
    "import numpy as np\n",
    "import random\n",
    "import pickle\n",
    "import decoding2\n",
    "import coding_function as cf\n",
    "import decoding_function as df\n",
    "import csv\n",
    "from Files import nodes\n",
    "import os\n",
    "#from keras_metrics import KerasMetrics\n",
    "sys.path.append('../')"
   ]
  },
  {
   "cell_type": "code",
   "execution_count": 2,
   "metadata": {
    "collapsed": false
   },
   "outputs": [],
   "source": [
    "\"\"\"\n",
    "Path Sugestions:\n",
    "Files/training_data_set.csv\n",
    "Files/biased_train1.csv\n",
    "Files/biased_train2.csv\n",
    "Files/biased_train3.csv\n",
    "\"\"\"\n",
    "def load_data(path):\n",
    "    import coding_function as cf\n",
    "    with open(path,'r') as csvfile:\n",
    "        readcsv = csv.reader(csvfile, delimiter = ',')\n",
    "        phoneticinf = []\n",
    "        phoneticI = []\n",
    "        for row in readcsv:\n",
    "            phoneticinf.append(row[1])\n",
    "            phoneticI.append(row[3])\n",
    "    cf.dataTest(phoneticinf,phoneticI)\n",
    "    #for key in dictioinf.keys(): \n",
    "    #    if key in phoneticinf:\n",
    "    #        phoneticinf.remove(key)\n",
    "    dictioinf = {}\n",
    "    dictioI = {}\n",
    "    for item in phoneticinf:\n",
    "        dictioinf[item] = cf.coding(item)\n",
    "    for item in phoneticI:\n",
    "        dictioI[item] = cf.coding(item)    \n",
    "    X = np.array(list(dictioinf.values())) #input column\n",
    "    Y = np.array(list(dictioI.values())) #output column\n",
    "    return X,Y\n",
    "\n",
    "def pipeline(verbs):\n",
    "    \"\"\"\n",
    "    Pipeline receives a list of verbs and decodes it.\n",
    "    \n",
    "    :verbs type: list\n",
    "    :r type: string\n",
    "    \"\"\"\n",
    "    test_list = []\n",
    "    for i in verbs:\n",
    "        coding = cf.coding(i)        \n",
    "        test_list.append(coding)\n",
    "    test_list = np.array(test_list)\n",
    "    prediction = model.predict(test_list)\n",
    "    for i in prediction:\n",
    "        print(decoding2.decoding(i))\n",
    "    return test_list.shape"
   ]
  },
  {
   "cell_type": "markdown",
   "metadata": {},
   "source": [
    "### 1. Load Data"
   ]
  },
  {
   "cell_type": "code",
   "execution_count": 104,
   "metadata": {
    "collapsed": true
   },
   "outputs": [],
   "source": [
    "#path = '../data/prop_55.csv'\n",
    "#path = '../data/prop_65.csv'\n",
    "path = '../data/prop_75.csv'\n",
    "#path = '../data/prop_85.csv'\n",
    "#path = '../data/prop_95.csv'\n",
    "X,Y = load_data(path)"
   ]
  },
  {
   "cell_type": "markdown",
   "metadata": {},
   "source": [
    "### 2. Fit Neural Net (Optional)"
   ]
  },
  {
   "cell_type": "code",
   "execution_count": 105,
   "metadata": {
    "collapsed": true
   },
   "outputs": [],
   "source": [
    "# 1. Define Model\n",
    "model = Sequential()\n",
    "model.add(Dense(460, input_shape=(460,), activation='sigmoid'))\n",
    "\n",
    "# 2. Evaluate model\n",
    "\n",
    "# 3. Compile model\n",
    "model.compile(loss='mean_squared_error', optimizer='adadelta')\n",
    "\n",
    "# 4. Fit model\n",
    "model.fit(X,Y, epochs=600, batch_size=20,verbose=False)\n",
    "\n",
    "# 5. Save model\n",
    "model.save('../data/prop_75')"
   ]
  },
  {
   "cell_type": "markdown",
   "metadata": {},
   "source": [
    "### 2. (Or Load Trained Model)"
   ]
  },
  {
   "cell_type": "code",
   "execution_count": 4,
   "metadata": {
    "collapsed": true
   },
   "outputs": [],
   "source": [
    "model = load_model('../data/prop_55')\n",
    "#model = load_model('../data/biased_model_test1')"
   ]
  },
  {
   "cell_type": "markdown",
   "metadata": {},
   "source": [
    "#### 2.1 Train existing model"
   ]
  },
  {
   "cell_type": "code",
   "execution_count": 58,
   "metadata": {
    "collapsed": false
   },
   "outputs": [],
   "source": [
    "model = load_model('../data/prop_55')\n",
    "model.fit(X,Y, epochs=400, batch_size=20,verbose=False)\n",
    "model.save('../data/prop_55_1000')"
   ]
  },
  {
   "cell_type": "markdown",
   "metadata": {},
   "source": [
    "### 3. Check Results\n",
    "pipeline(['#para#','#fexa#','#mexe#','#konta#','#testa#','#abri#','#kala#','#fala#'])\n",
    "\n",
    "|       \t|       \t| front \t| middle  \t| back    \t|\n",
    "|:-----:\t|-------\t|------:\t|---------\t|---------\t|\n",
    "|       \t|       \t| v/u   \t| v/u     \t| v/u     \t|\n",
    "|  **int**  | **stop**  | b/p   \t| d/t     \t| g/k     \t|\n",
    "|       \t| **nasal** | m/-   \t| n/-     \t| -       \t|\n",
    "| **cont**  | **fric**  | v/f   \t| z/s    \t| j/x   \t|\n",
    "|       \t| **liq**   | l/-   \t| r/-     \t| -/h     \t|\n",
    "| **vowel** | **high**  | e/i   \t| -       \t| o/u     \t|\n",
    "|       \t| **low**   | -/E   \t| -/a     \t| -/O     \t|"
   ]
  },
  {
   "cell_type": "markdown",
   "metadata": {},
   "source": [
    "## Results:\n",
    "|     Model Name     | Test File     | Total Irregular Verbs | Total Verbs | Proportion | Epochs | Batch Size |\n",
    "|:------------------:|---------------|----------------------:|-------------|------------|--------|-------------|\n",
    "| biased_model_test1 | biased_train_1 |                    66 | 139         | 47%        | 600    |  20          |"
   ]
  },
  {
   "cell_type": "code",
   "execution_count": 45,
   "metadata": {
    "collapsed": false
   },
   "outputs": [
    {
     "name": "stdout",
     "output_type": "stream",
     "text": [
      "#pa\n",
      "Decodificado Loop: #paru, Final antes do Loop: ru#\n",
      "#fe\n",
      "Decodificado Loop: #feku#, Final antes do Loop: xu#\n",
      "#me\n",
      "Decodificado Loop: #mexu, Final antes do Loop: xu#\n",
      "#ko\n",
      "Decodificado Loop: #ko#, Final antes do Loop: tu#\n",
      "#tE\n",
      "Decodificado Loop: #tEspu#, Final antes do Loop: tu#\n",
      "#ag\n",
      "Decodificado Loop: #agva#, Final antes do Loop: zu#\n",
      "#pa\n",
      "Decodificado Loop: #palu, Final antes do Loop: lu#\n",
      "#fa\n",
      "Decodificado Loop: #falu, Final antes do Loop: lu#\n"
     ]
    },
    {
     "data": {
      "text/plain": [
       "(8, 460)"
      ]
     },
     "execution_count": 45,
     "metadata": {},
     "output_type": "execute_result"
    }
   ],
   "source": [
    "model = load_model('../data/biased_model_test1')\n",
    "pipeline(['#para#','#fexa#','#mexe#','#konta#','#testa#','#abri#','#kala#','#fala#'])"
   ]
  },
  {
   "cell_type": "markdown",
   "metadata": {},
   "source": [
    "|     Model Name     | Test File     | Total Irregular Verbs | Total Verbs | Proportion | Epochs | Batch Sizes |\n",
    "|:------------------:|---------------|----------------------:|-------------|------------|--------|-------------|\n",
    "| unbiased_model | training_data_set |          151          |    410      |     37%    | 600    |  20          |"
   ]
  },
  {
   "cell_type": "code",
   "execution_count": 78,
   "metadata": {
    "collapsed": false
   },
   "outputs": [
    {
     "name": "stdout",
     "output_type": "stream",
     "text": [
      "#pa\n",
      "Decodificado Loop: #pari#, Final antes do Loop: ru#\n",
      "#fe\n",
      "Decodificado Loop: #fexu, Final antes do Loop: xu#\n",
      "#me\n",
      "Decodificado Loop: #mexu, Final antes do Loop: xu#\n",
      "#ab\n",
      "Decodificado Loop: #abru, Final antes do Loop: ru#\n",
      "#ka\n",
      "Decodificado Loop: #kalu, Final antes do Loop: lu#\n",
      "#fa\n",
      "Decodificado Loop: #falu, Final antes do Loop: lu#\n",
      "#te\n",
      "Decodificado Loop: #teku, Final antes do Loop: ku#\n"
     ]
    },
    {
     "data": {
      "text/plain": [
       "(7, 460)"
      ]
     },
     "execution_count": 78,
     "metadata": {},
     "output_type": "execute_result"
    }
   ],
   "source": [
    "model = load_model('../data/unbiased_model')\n",
    "pipeline(['#para#','#fexa#','#mexe#','#abri#','#kala#','#fala#','#teka#'])"
   ]
  },
  {
   "cell_type": "markdown",
   "metadata": {},
   "source": [
    "|     Model Name     | Test File     | Total Irregular Verbs | Total Verbs | Proportion | Epochs | Batch Size  |\n",
    "|:------------------:|---------------|----------------------:|-------------|------------|--------|-------------|\n",
    "| biased_model_test2 | biased_train2 |        88             |  132        |    66%     | 600    |  20         |"
   ]
  },
  {
   "cell_type": "code",
   "execution_count": 4,
   "metadata": {
    "collapsed": true
   },
   "outputs": [],
   "source": [
    "model = load_model('../data/biased_model_test2')"
   ]
  },
  {
   "cell_type": "code",
   "execution_count": 21,
   "metadata": {
    "collapsed": false
   },
   "outputs": [],
   "source": [
    "#pipeline(['#fexa#','#mexe#','#konta#','#testa#','#kala#','#fala#',\"#bota#\"])"
   ]
  },
  {
   "cell_type": "markdown",
   "metadata": {},
   "source": [
    "|     Model Name     | Test File     | Total Irregular Verbs | Total Verbs | Proportion | Epochs | Batch Size  |\n",
    "|:------------------:|---------------|----------------------:|-------------|------------|--------|-------------|\n",
    "| biased_model_test3 | biased_train3 |        88             |  156        |    50%     | 600    |  20         |"
   ]
  },
  {
   "cell_type": "code",
   "execution_count": 5,
   "metadata": {
    "collapsed": true
   },
   "outputs": [],
   "source": [
    "model = load_model('../data/biased_model_test3')"
   ]
  },
  {
   "cell_type": "code",
   "execution_count": 6,
   "metadata": {
    "collapsed": false
   },
   "outputs": [
    {
     "name": "stdout",
     "output_type": "stream",
     "text": [
      "#pa\n",
      "Decodificado Loop: #paru, Final antes do Loop: ru#\n",
      "#fi\n",
      "Decodificado Loop: #fiku#, Final antes do Loop: xu#\n",
      "#me\n",
      "Decodificado Loop: #mesu, Final antes do Loop: su#\n",
      "#ko\n",
      "Decodificado Loop: #ko#, Final antes do Loop: tu#\n",
      "#dE\n",
      "Decodificado Loop: #dE#, Final antes do Loop: tu#\n",
      "#pa\n",
      "Decodificado Loop: #palu, Final antes do Loop: lu#\n",
      "#fa\n",
      "Decodificado Loop: #falu, Final antes do Loop: lu#\n"
     ]
    },
    {
     "data": {
      "text/plain": [
       "(7, 460)"
      ]
     },
     "execution_count": 6,
     "metadata": {},
     "output_type": "execute_result"
    }
   ],
   "source": [
    "pipeline(['#para#','#fexa#','#mexe#','#konta#','#testa#','#kala#','#fala#'])"
   ]
  },
  {
   "cell_type": "markdown",
   "metadata": {},
   "source": [
    "|     Model Name     | Test File     | Total Irregular Verbs | Total Verbs | Proportion | Epochs | Batch Size  |\n",
    "|:------------------:|---------------|----------------------:|-------------|------------|--------|-------------|\n",
    "| biased_model_test2 | biased_train2 |        88             |  132        |    66%     | 1000    |  20         |"
   ]
  },
  {
   "cell_type": "code",
   "execution_count": 20,
   "metadata": {
    "collapsed": false
   },
   "outputs": [],
   "source": [
    "#pipeline(['#para#','#fexa#','#mexe#','#abri#','#kala#','#fala#','#teka#'])"
   ]
  },
  {
   "cell_type": "markdown",
   "metadata": {},
   "source": [
    "## Proporcao 55% Irregulares"
   ]
  },
  {
   "cell_type": "markdown",
   "metadata": {},
   "source": [
    "|     Model Name     | Test File     | Total Irregular Verbs | Total Verbs | Proportion | Epochs | Batch Size  |\n",
    "|:------------------:|---------------|----------------------:|-------------|------------|--------|-------------|\n",
    "| prop_55           | prop_55       |        209            |  464        |    55%     | 600    |  20         |"
   ]
  },
  {
   "cell_type": "code",
   "execution_count": 11,
   "metadata": {
    "collapsed": false
   },
   "outputs": [
    {
     "data": {
      "text/plain": [
       "353"
      ]
     },
     "execution_count": 11,
     "metadata": {},
     "output_type": "execute_result"
    }
   ],
   "source": [
    "path = '../data/prop_55.csv'\n",
    "X,Y = load_data(path)\n",
    "len(X)"
   ]
  },
  {
   "cell_type": "code",
   "execution_count": 6,
   "metadata": {
    "collapsed": false
   },
   "outputs": [
    {
     "name": "stdout",
     "output_type": "stream",
     "text": [
      "#pe\n",
      "Decodificado Loop: #pegu, Final antes do Loop: gu#\n",
      "#se\n",
      "Decodificado Loop: #segu, Final antes do Loop: gu#\n",
      "#se\n",
      "Decodificado Loop: #seku, Final antes do Loop: ku#\n",
      "#te\n",
      "Decodificado Loop: #te#, Final antes do Loop: tu#\n",
      "#pr\n",
      "Decodificado Loop: #prespx#, Final antes do Loop: tu#\n"
     ]
    },
    {
     "data": {
      "text/plain": [
       "(5, 460)"
      ]
     },
     "execution_count": 6,
     "metadata": {},
     "output_type": "execute_result"
    }
   ],
   "source": [
    "model = load_model('../data/prop_55')\n",
    "pipeline(['#pega#','#sega#','#seka#','#testa#','#presta#'])"
   ]
  },
  {
   "cell_type": "code",
   "execution_count": 9,
   "metadata": {},
   "outputs": [
    {
     "name": "stdout",
     "output_type": "stream",
     "text": [
      "#er\n",
      "Decodificado Loop: #eru, Final antes do Loop: ru#\n",
      "#mo\n",
      "Decodificado Loop: #moru, Final antes do Loop: ru#\n",
      "#jo\n",
      "Decodificado Loop: #jo#, Final antes do Loop: gu#\n",
      "#ap\n",
      "Decodificado Loop: #apkxpi#, Final antes do Loop: tu#\n"
     ]
    },
    {
     "data": {
      "text/plain": [
       "(4, 460)"
      ]
     },
     "execution_count": 9,
     "metadata": {},
     "output_type": "execute_result"
    }
   ],
   "source": [
    "model = load_model('../data/prop_55')\n",
    "pipeline(['#ora#',\"#mora#\",'#joga#','#aposta#'])"
   ]
  },
  {
   "cell_type": "code",
   "execution_count": 11,
   "metadata": {},
   "outputs": [
    {
     "name": "stdout",
     "output_type": "stream",
     "text": [
      "#so\n",
      "Decodificado Loop: #so#, Final antes do Loop: iu#\n"
     ]
    },
    {
     "data": {
      "text/plain": [
       "(1, 460)"
      ]
     },
     "execution_count": 11,
     "metadata": {},
     "output_type": "execute_result"
    }
   ],
   "source": [
    "model = load_model('../data/prop_55')\n",
    "pipeline(['#sortia#'])"
   ]
  },
  {
   "cell_type": "code",
   "execution_count": 15,
   "metadata": {},
   "outputs": [
    {
     "name": "stdout",
     "output_type": "stream",
     "text": [
      "#ve\n",
      "Decodificado Loop: #vensu, Final antes do Loop: su#\n"
     ]
    },
    {
     "data": {
      "text/plain": [
       "(1, 460)"
      ]
     },
     "execution_count": 15,
     "metadata": {},
     "output_type": "execute_result"
    }
   ],
   "source": [
    "model = load_model('../data/prop_55')\n",
    "pipeline(['#vense#'])"
   ]
  },
  {
   "cell_type": "code",
   "execution_count": 18,
   "metadata": {},
   "outputs": [
    {
     "name": "stdout",
     "output_type": "stream",
     "text": [
      "#po\n",
      "Decodificado Loop: #po#, Final antes do Loop: iu#\n",
      "#xe\n",
      "Decodificado Loop: #xebuieeii#, Final antes do Loop: iu#\n"
     ]
    },
    {
     "data": {
      "text/plain": [
       "(2, 460)"
      ]
     },
     "execution_count": 18,
     "metadata": {},
     "output_type": "execute_result"
    }
   ],
   "source": [
    "model = load_model('../data/prop_55')\n",
    "pipeline(['#po#','#hepo#'])"
   ]
  },
  {
   "cell_type": "code",
   "execution_count": 19,
   "metadata": {},
   "outputs": [
    {
     "name": "stdout",
     "output_type": "stream",
     "text": [
      "#te\n",
      "Decodificado Loop: #tentk#, Final antes do Loop: du#\n",
      "#je\n",
      "Decodificado Loop: #jemti#, Final antes do Loop: tu#\n",
      "#fe\n",
      "Decodificado Loop: #fentu, Final antes do Loop: tu#\n",
      "#xe\n",
      "Decodificado Loop: #xentu#, Final antes do Loop: du#\n"
     ]
    },
    {
     "data": {
      "text/plain": [
       "(4, 460)"
      ]
     },
     "execution_count": 19,
     "metadata": {},
     "output_type": "execute_result"
    }
   ],
   "source": [
    "model = load_model('../data/prop_55')\n",
    "pipeline(['#tendi#','#jenti#','#fenti#','#hendi#'])"
   ]
  },
  {
   "cell_type": "code",
   "execution_count": 22,
   "metadata": {},
   "outputs": [
    {
     "name": "stdout",
     "output_type": "stream",
     "text": [
      "#to\n",
      "Decodificado Loop: #to#, Final antes do Loop: su#\n",
      "#ko\n",
      "Decodificado Loop: #kobsu#, Final antes do Loop: ru#\n",
      "#go\n",
      "Decodificado Loop: #goti#, Final antes do Loop: tu#\n"
     ]
    },
    {
     "data": {
      "text/plain": [
       "(3, 460)"
      ]
     },
     "execution_count": 22,
     "metadata": {},
     "output_type": "execute_result"
    }
   ],
   "source": [
    "model = load_model('../data/prop_55')\n",
    "pipeline(['#tosi#','#kobri#','#goti#'])"
   ]
  },
  {
   "cell_type": "code",
   "execution_count": 24,
   "metadata": {},
   "outputs": [
    {
     "name": "stdout",
     "output_type": "stream",
     "text": [
      "#na\n",
      "Decodificado Loop: #nasu, Final antes do Loop: su#\n",
      "#fa\n",
      "Decodificado Loop: #fazu, Final antes do Loop: zu#\n"
     ]
    },
    {
     "data": {
      "text/plain": [
       "(2, 460)"
      ]
     },
     "execution_count": 24,
     "metadata": {},
     "output_type": "execute_result"
    }
   ],
   "source": [
    "model = load_model('../data/prop_55')\n",
    "pipeline(['#nase#','#faze#'])"
   ]
  },
  {
   "cell_type": "code",
   "execution_count": 27,
   "metadata": {},
   "outputs": [
    {
     "name": "stdout",
     "output_type": "stream",
     "text": [
      "#ma\n",
      "Decodificado Loop: #matu, Final antes do Loop: tu#\n",
      "#pa\n",
      "Decodificado Loop: #pagu, Final antes do Loop: gu#\n",
      "#ba\n",
      "Decodificado Loop: #bato#, Final antes do Loop: tu#\n",
      "#sa\n",
      "Decodificado Loop: #sai#, Final antes do Loop: iu#\n"
     ]
    },
    {
     "data": {
      "text/plain": [
       "(4, 460)"
      ]
     },
     "execution_count": 27,
     "metadata": {},
     "output_type": "execute_result"
    }
   ],
   "source": [
    "model = load_model('../data/prop_55')\n",
    "pipeline(['#mata#',\"#paga#\",\"#bate#\",\"#sai#\"])"
   ]
  },
  {
   "cell_type": "code",
   "execution_count": 72,
   "metadata": {
    "collapsed": true
   },
   "outputs": [],
   "source": [
    "path = '../data/prop_55.csv'\n",
    "X,Y = load_data(path)\n",
    "#model = load_model('../data/prop_55')\n",
    "model.fit(X,Y, epochs=400, batch_size=5,verbose=False)\n",
    "model.save('../data/prop_55_2')"
   ]
  },
  {
   "cell_type": "markdown",
   "metadata": {},
   "source": [
    "|     Model Name     | Test File     | Total Irregular Verbs | Total Verbs | Proportion | Epochs | Batch Size  |\n",
    "|:------------------:|---------------|----------------------:|-------------|------------|--------|-------------|\n",
    "| prop_55_1000           | prop_55       |        209            |  464        |    55%     | 1000    |  5         |"
   ]
  },
  {
   "cell_type": "code",
   "execution_count": 73,
   "metadata": {},
   "outputs": [
    {
     "name": "stdout",
     "output_type": "stream",
     "text": [
      "#pe\n",
      "Decodificado Loop: #pegu, Final antes do Loop: gu#\n",
      "#se\n",
      "Decodificado Loop: #segu, Final antes do Loop: gu#\n",
      "#se\n",
      "Decodificado Loop: #seku, Final antes do Loop: ku#\n",
      "#te\n",
      "Decodificado Loop: #tesdu#, Final antes do Loop: tu#\n",
      "#pr\n",
      "Decodificado Loop: #prespx#, Final antes do Loop: tu#\n"
     ]
    },
    {
     "data": {
      "text/plain": [
       "(5, 460)"
      ]
     },
     "execution_count": 73,
     "metadata": {},
     "output_type": "execute_result"
    }
   ],
   "source": [
    "model = load_model('../data/prop_55_1000')\n",
    "pipeline(['#pega#','#sega#','#seka#','#testa#','#presta#'])"
   ]
  },
  {
   "cell_type": "code",
   "execution_count": 74,
   "metadata": {},
   "outputs": [
    {
     "name": "stdout",
     "output_type": "stream",
     "text": [
      "#er\n",
      "Decodificado Loop: #eru, Final antes do Loop: ru#\n",
      "#mo\n",
      "Decodificado Loop: #moru, Final antes do Loop: ru#\n",
      "#jo\n",
      "Decodificado Loop: #jo#, Final antes do Loop: gu#\n",
      "#ap\n",
      "Decodificado Loop: #apufpi#, Final antes do Loop: tu#\n",
      "#xe\n",
      "Decodificado Loop: #xetuma#, Final antes do Loop: mu#\n"
     ]
    },
    {
     "data": {
      "text/plain": [
       "(5, 460)"
      ]
     },
     "execution_count": 74,
     "metadata": {},
     "output_type": "execute_result"
    }
   ],
   "source": [
    "model = load_model('../data/prop_55_1000')\n",
    "pipeline(['#ora#',\"#mora#\",'#joga#','#aposta#','#hetoma#'])"
   ]
  },
  {
   "cell_type": "code",
   "execution_count": 75,
   "metadata": {},
   "outputs": [
    {
     "name": "stdout",
     "output_type": "stream",
     "text": [
      "#so\n",
      "Decodificado Loop: #so#, Final antes do Loop: iu#\n"
     ]
    },
    {
     "data": {
      "text/plain": [
       "(1, 460)"
      ]
     },
     "execution_count": 75,
     "metadata": {},
     "output_type": "execute_result"
    }
   ],
   "source": [
    "model = load_model('../data/prop_55_1000')\n",
    "pipeline(['#sortia#'])"
   ]
  },
  {
   "cell_type": "code",
   "execution_count": 78,
   "metadata": {},
   "outputs": [],
   "source": [
    "#model = load_model('../data/prop_55_1000')\n",
    "#pipeline(['#vense#'])"
   ]
  },
  {
   "cell_type": "code",
   "execution_count": 79,
   "metadata": {},
   "outputs": [
    {
     "name": "stdout",
     "output_type": "stream",
     "text": [
      "#ko\n",
      "Decodificado Loop: #kompi#, Final antes do Loop: iu#\n",
      "#po\n",
      "Decodificado Loop: #po#, Final antes do Loop: iu#\n"
     ]
    },
    {
     "data": {
      "text/plain": [
       "(2, 460)"
      ]
     },
     "execution_count": 79,
     "metadata": {},
     "output_type": "execute_result"
    }
   ],
   "source": [
    "model = load_model('../data/prop_55_1000')\n",
    "pipeline(['#kompo#','#po#'])"
   ]
  },
  {
   "cell_type": "code",
   "execution_count": 80,
   "metadata": {},
   "outputs": [
    {
     "name": "stdout",
     "output_type": "stream",
     "text": [
      "#je\n",
      "Decodificado Loop: #jentu, Final antes do Loop: tu#\n",
      "#fe\n",
      "Decodificado Loop: #fentu, Final antes do Loop: tu#\n",
      "#xe\n",
      "Decodificado Loop: #xentu#, Final antes do Loop: du#\n",
      "#te\n",
      "Decodificado Loop: #tentk#, Final antes do Loop: du#\n"
     ]
    },
    {
     "data": {
      "text/plain": [
       "(4, 460)"
      ]
     },
     "execution_count": 80,
     "metadata": {},
     "output_type": "execute_result"
    }
   ],
   "source": [
    "model = load_model('../data/prop_55_1000')\n",
    "pipeline(['#jenti#','#fenti#','#hendi#','#tendi#'])"
   ]
  },
  {
   "cell_type": "code",
   "execution_count": 81,
   "metadata": {},
   "outputs": [
    {
     "name": "stdout",
     "output_type": "stream",
     "text": [
      "#to\n",
      "Decodificado Loop: #to#, Final antes do Loop: su#\n",
      "#ko\n",
      "Decodificado Loop: #kobsu#, Final antes do Loop: ru#\n",
      "#go\n",
      "Decodificado Loop: #goti#, Final antes do Loop: tu#\n"
     ]
    },
    {
     "data": {
      "text/plain": [
       "(3, 460)"
      ]
     },
     "execution_count": 81,
     "metadata": {},
     "output_type": "execute_result"
    }
   ],
   "source": [
    "model = load_model('../data/prop_55_1000')\n",
    "pipeline(['#tosi#','#kobri#','#goti#'])#,'#fosi#']) "
   ]
  },
  {
   "cell_type": "code",
   "execution_count": 82,
   "metadata": {},
   "outputs": [
    {
     "name": "stdout",
     "output_type": "stream",
     "text": [
      "#af\n",
      "Decodificado Loop: #afu#, Final antes do Loop: su#\n",
      "#na\n",
      "Decodificado Loop: #nasu, Final antes do Loop: su#\n"
     ]
    },
    {
     "data": {
      "text/plain": [
       "(2, 460)"
      ]
     },
     "execution_count": 82,
     "metadata": {},
     "output_type": "execute_result"
    }
   ],
   "source": [
    "model = load_model('../data/prop_55_1000')\n",
    "pipeline(['#afaze#','#nase#'])"
   ]
  },
  {
   "cell_type": "code",
   "execution_count": 85,
   "metadata": {},
   "outputs": [
    {
     "name": "stdout",
     "output_type": "stream",
     "text": [
      "#ma\n",
      "Decodificado Loop: #matu, Final antes do Loop: tu#\n",
      "#pa\n",
      "Decodificado Loop: #pagu, Final antes do Loop: gu#\n",
      "#sa\n",
      "Decodificado Loop: #sau#, Final antes do Loop: iu#\n",
      "#ba\n",
      "Decodificado Loop: #batu, Final antes do Loop: tu#\n"
     ]
    },
    {
     "data": {
      "text/plain": [
       "(4, 460)"
      ]
     },
     "execution_count": 85,
     "metadata": {},
     "output_type": "execute_result"
    }
   ],
   "source": [
    "model = load_model('../data/prop_55_1000')\n",
    "pipeline(['#mata#',\"#paga#\",'#sai#','#bate#'])"
   ]
  },
  {
   "cell_type": "markdown",
   "metadata": {},
   "source": [
    "## Proporcao 65% Irregulares\n"
   ]
  },
  {
   "cell_type": "markdown",
   "metadata": {},
   "source": [
    "|     Model Name     | Test File     | Total Irregular Verbs | Total Verbs | Proportion | Epochs | Batch Size  |\n",
    "|:------------------:|---------------|----------------------:|-------------|------------|--------|-------------|\n",
    "| prop_65           | prop_65       |            209        |  579        |    65%     | 600    |  20         |"
   ]
  },
  {
   "cell_type": "code",
   "execution_count": 39,
   "metadata": {},
   "outputs": [
    {
     "name": "stdout",
     "output_type": "stream",
     "text": [
      "#pe\n",
      "Decodificado Loop: #pegu, Final antes do Loop: gu#\n",
      "#se\n",
      "Decodificado Loop: #segu, Final antes do Loop: gu#\n",
      "#se\n",
      "Decodificado Loop: #seku, Final antes do Loop: ku#\n",
      "#te\n",
      "Decodificado Loop: #tezdo#, Final antes do Loop: tu#\n",
      "#pr\n",
      "Decodificado Loop: #presps#, Final antes do Loop: tu#\n"
     ]
    },
    {
     "data": {
      "text/plain": [
       "(5, 460)"
      ]
     },
     "execution_count": 39,
     "metadata": {},
     "output_type": "execute_result"
    }
   ],
   "source": [
    "model = load_model('../data/prop_65')\n",
    "pipeline(['#pega#','#sega#','#seka#','#testa#','#presta#'])"
   ]
  },
  {
   "cell_type": "code",
   "execution_count": 40,
   "metadata": {},
   "outputs": [
    {
     "name": "stdout",
     "output_type": "stream",
     "text": [
      "#or\n",
      "Decodificado Loop: #oru, Final antes do Loop: ru#\n",
      "#mo\n",
      "Decodificado Loop: #moru, Final antes do Loop: ru#\n",
      "#jo\n",
      "Decodificado Loop: #jokokukugu, Final antes do Loop: gu#\n",
      "#ap\n",
      "Decodificado Loop: #apk#, Final antes do Loop: tu#\n",
      "#xe\n",
      "Decodificado Loop: #xetumo#, Final antes do Loop: mu#\n"
     ]
    },
    {
     "data": {
      "text/plain": [
       "(5, 460)"
      ]
     },
     "execution_count": 40,
     "metadata": {},
     "output_type": "execute_result"
    }
   ],
   "source": [
    "model = load_model('../data/prop_65')\n",
    "pipeline(['#ora#',\"#mora#\",'#joga#','#aposta#','#hetoma#'])"
   ]
  },
  {
   "cell_type": "code",
   "execution_count": 41,
   "metadata": {},
   "outputs": [
    {
     "name": "stdout",
     "output_type": "stream",
     "text": [
      "#so\n",
      "Decodificado Loop: #so#, Final antes do Loop: iu#\n",
      "#me\n",
      "Decodificado Loop: #meeobibebeb#, Final antes do Loop: iu#\n"
     ]
    },
    {
     "data": {
      "text/plain": [
       "(2, 460)"
      ]
     },
     "execution_count": 41,
     "metadata": {},
     "output_type": "execute_result"
    }
   ],
   "source": [
    "model = load_model('../data/prop_65')\n",
    "pipeline(['#sortia#','#media#'])"
   ]
  },
  {
   "cell_type": "code",
   "execution_count": 45,
   "metadata": {},
   "outputs": [
    {
     "name": "stdout",
     "output_type": "stream",
     "text": [
      "#ve\n",
      "Decodificado Loop: #vensu, Final antes do Loop: su#\n",
      "#pr\n",
      "Decodificado Loop: #protejipevi#, Final antes do Loop: ju#\n"
     ]
    },
    {
     "data": {
      "text/plain": [
       "(2, 460)"
      ]
     },
     "execution_count": 45,
     "metadata": {},
     "output_type": "execute_result"
    }
   ],
   "source": [
    "model = load_model('../data/prop_65')\n",
    "pipeline(['#vense#','#proteje#'])"
   ]
  },
  {
   "cell_type": "code",
   "execution_count": 48,
   "metadata": {},
   "outputs": [
    {
     "name": "stdout",
     "output_type": "stream",
     "text": [
      "#po\n",
      "Decodificado Loop: #po#, Final antes do Loop: iu#\n",
      "#xe\n",
      "Decodificado Loop: #xebuu#, Final antes do Loop: iu#\n"
     ]
    },
    {
     "data": {
      "text/plain": [
       "(2, 460)"
      ]
     },
     "execution_count": 48,
     "metadata": {},
     "output_type": "execute_result"
    }
   ],
   "source": [
    "model = load_model('../data/prop_65')\n",
    "pipeline(['#po#','#hepo#'])"
   ]
  },
  {
   "cell_type": "code",
   "execution_count": 49,
   "metadata": {},
   "outputs": [
    {
     "name": "stdout",
     "output_type": "stream",
     "text": [
      "#je\n",
      "Decodificado Loop: #jentu, Final antes do Loop: tu#\n",
      "#fe\n",
      "Decodificado Loop: #fentu, Final antes do Loop: tu#\n",
      "#xe\n",
      "Decodificado Loop: #xentu#, Final antes do Loop: du#\n",
      "#te\n",
      "Decodificado Loop: #tentt#, Final antes do Loop: du#\n"
     ]
    },
    {
     "data": {
      "text/plain": [
       "(4, 460)"
      ]
     },
     "execution_count": 49,
     "metadata": {},
     "output_type": "execute_result"
    }
   ],
   "source": [
    "model = load_model('../data/prop_65')\n",
    "pipeline(['#jenti#','#fenti#','#hendi#','#tendi#'])"
   ]
  },
  {
   "cell_type": "code",
   "execution_count": 52,
   "metadata": {},
   "outputs": [
    {
     "name": "stdout",
     "output_type": "stream",
     "text": [
      "#to\n",
      "Decodificado Loop: #to#, Final antes do Loop: su#\n",
      "#ko\n",
      "Decodificado Loop: #komsu#, Final antes do Loop: ru#\n",
      "#go\n",
      "Decodificado Loop: #goti#, Final antes do Loop: tu#\n"
     ]
    },
    {
     "data": {
      "text/plain": [
       "(3, 460)"
      ]
     },
     "execution_count": 52,
     "metadata": {},
     "output_type": "execute_result"
    }
   ],
   "source": [
    "model = load_model('../data/prop_65')\n",
    "pipeline(['#tosi#','#kobri#','#goti#'])#'#fosi#']) "
   ]
  },
  {
   "cell_type": "code",
   "execution_count": 53,
   "metadata": {},
   "outputs": [
    {
     "name": "stdout",
     "output_type": "stream",
     "text": [
      "#af\n",
      "Decodificado Loop: #afu#, Final antes do Loop: su#\n",
      "#na\n",
      "Decodificado Loop: #natu#, Final antes do Loop: su#\n"
     ]
    },
    {
     "data": {
      "text/plain": [
       "(2, 460)"
      ]
     },
     "execution_count": 53,
     "metadata": {},
     "output_type": "execute_result"
    }
   ],
   "source": [
    "model = load_model('../data/prop_65')\n",
    "pipeline(['#afaze#','#nase#'])"
   ]
  },
  {
   "cell_type": "code",
   "execution_count": 55,
   "metadata": {},
   "outputs": [
    {
     "name": "stdout",
     "output_type": "stream",
     "text": [
      "#ma\n",
      "Decodificado Loop: #matu, Final antes do Loop: tu#\n",
      "#pa\n",
      "Decodificado Loop: #pagu, Final antes do Loop: gu#\n",
      "#sa\n",
      "Decodificado Loop: #sau#, Final antes do Loop: iu#\n",
      "#ba\n",
      "Decodificado Loop: #batu, Final antes do Loop: tu#\n"
     ]
    },
    {
     "data": {
      "text/plain": [
       "(4, 460)"
      ]
     },
     "execution_count": 55,
     "metadata": {},
     "output_type": "execute_result"
    }
   ],
   "source": [
    "model = load_model('../data/prop_65')\n",
    "pipeline(['#mata#',\"#paga#\",'#sai#','#bate#'])"
   ]
  },
  {
   "cell_type": "markdown",
   "metadata": {},
   "source": [
    "|     Model Name     | Test File     | Total Irregular Verbs | Total Verbs | Proportion | Epochs | Batch Size  |\n",
    "|:------------------:|---------------|----------------------:|-------------|------------|--------|-------------|\n",
    "| prop_65_1000       | prop_65       |            209        |  579        |    65%     | 1000   |  20         |"
   ]
  },
  {
   "cell_type": "code",
   "execution_count": 86,
   "metadata": {},
   "outputs": [],
   "source": [
    "model = load_model('../data/prop_65')\n",
    "model.fit(X,Y, epochs=400, batch_size=20,verbose=False)\n",
    "model.save('../data/prop_65_1000')"
   ]
  },
  {
   "cell_type": "code",
   "execution_count": 87,
   "metadata": {},
   "outputs": [
    {
     "name": "stdout",
     "output_type": "stream",
     "text": [
      "#pe\n",
      "Decodificado Loop: #pegu, Final antes do Loop: gu#\n",
      "#se\n",
      "Decodificado Loop: #segu, Final antes do Loop: gu#\n",
      "#se\n",
      "Decodificado Loop: #seku, Final antes do Loop: ku#\n",
      "#te\n",
      "Decodificado Loop: #tezdo#, Final antes do Loop: tu#\n",
      "#pr\n",
      "Decodificado Loop: #prestx#, Final antes do Loop: tu#\n"
     ]
    },
    {
     "data": {
      "text/plain": [
       "(5, 460)"
      ]
     },
     "execution_count": 87,
     "metadata": {},
     "output_type": "execute_result"
    }
   ],
   "source": [
    "model = load_model('../data/prop_65_1000')\n",
    "pipeline(['#pega#','#sega#','#seka#','#testa#','#presta#'])"
   ]
  },
  {
   "cell_type": "code",
   "execution_count": 89,
   "metadata": {},
   "outputs": [
    {
     "name": "stdout",
     "output_type": "stream",
     "text": [
      "#or\n",
      "Decodificado Loop: #oru, Final antes do Loop: ru#\n",
      "#mo\n",
      "Decodificado Loop: #moru, Final antes do Loop: ru#\n",
      "#jo\n",
      "Decodificado Loop: #jo#, Final antes do Loop: gu#\n",
      "#ap\n",
      "Decodificado Loop: #apk#, Final antes do Loop: tu#\n",
      "#xe\n",
      "Decodificado Loop: #xedumo#, Final antes do Loop: mu#\n"
     ]
    },
    {
     "data": {
      "text/plain": [
       "(5, 460)"
      ]
     },
     "execution_count": 89,
     "metadata": {},
     "output_type": "execute_result"
    }
   ],
   "source": [
    "model = load_model('../data/prop_65_1000')\n",
    "pipeline(['#ora#',\"#mora#\",'#joga#','#aposta#','#hetoma#'])"
   ]
  },
  {
   "cell_type": "code",
   "execution_count": 90,
   "metadata": {},
   "outputs": [
    {
     "name": "stdout",
     "output_type": "stream",
     "text": [
      "#su\n",
      "Decodificado Loop: #su#, Final antes do Loop: iu#\n",
      "#me\n",
      "Decodificado Loop: #meeo#, Final antes do Loop: iu#\n"
     ]
    },
    {
     "data": {
      "text/plain": [
       "(2, 460)"
      ]
     },
     "execution_count": 90,
     "metadata": {},
     "output_type": "execute_result"
    }
   ],
   "source": [
    "model = load_model('../data/prop_65_1000')\n",
    "pipeline(['#sortia#','#media#'])"
   ]
  },
  {
   "cell_type": "code",
   "execution_count": 93,
   "metadata": {},
   "outputs": [
    {
     "name": "stdout",
     "output_type": "stream",
     "text": [
      "#ve\n",
      "Decodificado Loop: #vensu, Final antes do Loop: su#\n",
      "#es\n",
      "Decodificado Loop: #eskeviu, Final antes do Loop: iu#\n"
     ]
    },
    {
     "data": {
      "text/plain": [
       "(2, 460)"
      ]
     },
     "execution_count": 93,
     "metadata": {},
     "output_type": "execute_result"
    }
   ],
   "source": [
    "model = load_model('../data/prop_65_1000')\n",
    "pipeline(['#vense#','#eskolie#'])"
   ]
  },
  {
   "cell_type": "code",
   "execution_count": 96,
   "metadata": {},
   "outputs": [
    {
     "name": "stdout",
     "output_type": "stream",
     "text": [
      "#po\n",
      "Decodificado Loop: #po#, Final antes do Loop: iu#\n",
      "#xe\n",
      "Decodificado Loop: #xebuu#, Final antes do Loop: iu#\n"
     ]
    },
    {
     "data": {
      "text/plain": [
       "(2, 460)"
      ]
     },
     "execution_count": 96,
     "metadata": {},
     "output_type": "execute_result"
    }
   ],
   "source": [
    "model = load_model('../data/prop_65')\n",
    "pipeline(['#po#','#hepo#'])"
   ]
  },
  {
   "cell_type": "code",
   "execution_count": 97,
   "metadata": {},
   "outputs": [
    {
     "name": "stdout",
     "output_type": "stream",
     "text": [
      "#je\n",
      "Decodificado Loop: #jentu, Final antes do Loop: tu#\n",
      "#fe\n",
      "Decodificado Loop: #fentu, Final antes do Loop: tu#\n",
      "#xe\n",
      "Decodificado Loop: #xentu#, Final antes do Loop: du#\n",
      "#te\n",
      "Decodificado Loop: #tentk#, Final antes do Loop: du#\n"
     ]
    },
    {
     "data": {
      "text/plain": [
       "(4, 460)"
      ]
     },
     "execution_count": 97,
     "metadata": {},
     "output_type": "execute_result"
    }
   ],
   "source": [
    "model = load_model('../data/prop_65_1000')\n",
    "pipeline(['#jenti#','#fenti#','#hendi#','#tendi#'])"
   ]
  },
  {
   "cell_type": "code",
   "execution_count": 101,
   "metadata": {},
   "outputs": [
    {
     "name": "stdout",
     "output_type": "stream",
     "text": [
      "#to\n",
      "Decodificado Loop: #to#, Final antes do Loop: su#\n",
      "#ko\n",
      "Decodificado Loop: #kobsu#, Final antes do Loop: ru#\n"
     ]
    },
    {
     "data": {
      "text/plain": [
       "(2, 460)"
      ]
     },
     "execution_count": 101,
     "metadata": {},
     "output_type": "execute_result"
    }
   ],
   "source": [
    "model = load_model('../data/prop_65_1000')\n",
    "pipeline(['#tosi#','#kobri#'])#,'#fosi#']) "
   ]
  },
  {
   "cell_type": "code",
   "execution_count": 102,
   "metadata": {},
   "outputs": [
    {
     "name": "stdout",
     "output_type": "stream",
     "text": [
      "#af\n",
      "Decodificado Loop: #afu#, Final antes do Loop: su#\n",
      "#na\n",
      "Decodificado Loop: #natu#, Final antes do Loop: su#\n"
     ]
    },
    {
     "data": {
      "text/plain": [
       "(2, 460)"
      ]
     },
     "execution_count": 102,
     "metadata": {},
     "output_type": "execute_result"
    }
   ],
   "source": [
    "model = load_model('../data/prop_65_1000')\n",
    "pipeline(['#afaze#','#nase#'])"
   ]
  },
  {
   "cell_type": "code",
   "execution_count": 103,
   "metadata": {},
   "outputs": [
    {
     "name": "stdout",
     "output_type": "stream",
     "text": [
      "#ma\n",
      "Decodificado Loop: #matu, Final antes do Loop: tu#\n",
      "#pa\n",
      "Decodificado Loop: #pagu, Final antes do Loop: gu#\n",
      "#sa\n",
      "Decodificado Loop: #sau#, Final antes do Loop: iu#\n",
      "#ba\n",
      "Decodificado Loop: #batu#, Final antes do Loop: pu#\n"
     ]
    },
    {
     "data": {
      "text/plain": [
       "(4, 460)"
      ]
     },
     "execution_count": 103,
     "metadata": {},
     "output_type": "execute_result"
    }
   ],
   "source": [
    "model = load_model('../data/prop_65_1000')\n",
    "pipeline(['#mata#',\"#paga#\",'#sai#','#bate#'])"
   ]
  },
  {
   "cell_type": "markdown",
   "metadata": {},
   "source": [
    "## Proporcao 75% Irregulares"
   ]
  },
  {
   "cell_type": "markdown",
   "metadata": {},
   "source": [
    "|     Model Name     | Test File     | Total Irregular Verbs | Total Verbs | Proportion | Epochs | Batch Size  |\n",
    "|:------------------:|---------------|----------------------:|-------------|------------|--------|-------------|\n",
    "| prop_75       | prop_75       |                      |  400        |    75%     | 600   |  20         |"
   ]
  },
  {
   "cell_type": "code",
   "execution_count": 106,
   "metadata": {},
   "outputs": [
    {
     "name": "stdout",
     "output_type": "stream",
     "text": [
      "#pe\n",
      "Decodificado Loop: #pegu, Final antes do Loop: gu#\n",
      "#si\n",
      "Decodificado Loop: #sigu, Final antes do Loop: gu#\n",
      "#si\n",
      "Decodificado Loop: #siku, Final antes do Loop: ku#\n",
      "#te\n",
      "Decodificado Loop: #te#, Final antes do Loop: tu#\n",
      "#pr\n",
      "Decodificado Loop: #presps#, Final antes do Loop: tu#\n"
     ]
    },
    {
     "data": {
      "text/plain": [
       "(5, 460)"
      ]
     },
     "execution_count": 106,
     "metadata": {},
     "output_type": "execute_result"
    }
   ],
   "source": [
    "model = load_model('../data/prop_75')\n",
    "pipeline(['#pega#','#sega#','#seka#','#testa#','#presta#'])"
   ]
  },
  {
   "cell_type": "code",
   "execution_count": 109,
   "metadata": {},
   "outputs": [
    {
     "name": "stdout",
     "output_type": "stream",
     "text": [
      "#er\n",
      "Decodificado Loop: #eru, Final antes do Loop: ru#\n",
      "#mi\n",
      "Decodificado Loop: #misu#, Final antes do Loop: ru#\n",
      "#ap\n",
      "Decodificado Loop: #apu#, Final antes do Loop: tu#\n"
     ]
    },
    {
     "data": {
      "text/plain": [
       "(3, 460)"
      ]
     },
     "execution_count": 109,
     "metadata": {},
     "output_type": "execute_result"
    }
   ],
   "source": [
    "model = load_model('../data/prop_75')\n",
    "pipeline(['#ora#',\"#mora#\",'#aposta#'])"
   ]
  },
  {
   "cell_type": "code",
   "execution_count": 110,
   "metadata": {},
   "outputs": [
    {
     "name": "stdout",
     "output_type": "stream",
     "text": [
      "#su\n",
      "Decodificado Loop: #su#, Final antes do Loop: iu#\n",
      "#me\n",
      "Decodificado Loop: #medu#, Final antes do Loop: iu#\n"
     ]
    },
    {
     "data": {
      "text/plain": [
       "(2, 460)"
      ]
     },
     "execution_count": 110,
     "metadata": {},
     "output_type": "execute_result"
    }
   ],
   "source": [
    "model = load_model('../data/prop_75')\n",
    "pipeline(['#sortia#','#media#'])"
   ]
  },
  {
   "cell_type": "code",
   "execution_count": 112,
   "metadata": {},
   "outputs": [
    {
     "name": "stdout",
     "output_type": "stream",
     "text": [
      "#ve\n",
      "Decodificado Loop: #vensu, Final antes do Loop: su#\n"
     ]
    },
    {
     "data": {
      "text/plain": [
       "(1, 460)"
      ]
     },
     "execution_count": 112,
     "metadata": {},
     "output_type": "execute_result"
    }
   ],
   "source": [
    "model = load_model('../data/prop_75')\n",
    "pipeline(['#vense#'])"
   ]
  },
  {
   "cell_type": "code",
   "execution_count": 114,
   "metadata": {},
   "outputs": [
    {
     "name": "stdout",
     "output_type": "stream",
     "text": [
      "#po\n",
      "Decodificado Loop: #pompp#, Final antes do Loop: iu#\n",
      "#xe\n",
      "Decodificado Loop: #xebuu#, Final antes do Loop: iu#\n",
      "#ko\n",
      "Decodificado Loop: #kompi#, Final antes do Loop: iu#\n"
     ]
    },
    {
     "data": {
      "text/plain": [
       "(3, 460)"
      ]
     },
     "execution_count": 114,
     "metadata": {},
     "output_type": "execute_result"
    }
   ],
   "source": [
    "model = load_model('../data/prop_75')\n",
    "pipeline(['#po#','#hepo#','#kompo#'])"
   ]
  },
  {
   "cell_type": "code",
   "execution_count": 116,
   "metadata": {},
   "outputs": [
    {
     "name": "stdout",
     "output_type": "stream",
     "text": [
      "#fe\n",
      "Decodificado Loop: #fentu, Final antes do Loop: tu#\n",
      "#xe\n",
      "Decodificado Loop: #xedtu, Final antes do Loop: tu#\n",
      "#te\n",
      "Decodificado Loop: #tentk#, Final antes do Loop: tu#\n"
     ]
    },
    {
     "data": {
      "text/plain": [
       "(3, 460)"
      ]
     },
     "execution_count": 116,
     "metadata": {},
     "output_type": "execute_result"
    }
   ],
   "source": [
    "model = load_model('../data/prop_75')\n",
    "pipeline(['#fenti#','#hendi#','#tendi#'])"
   ]
  },
  {
   "cell_type": "code",
   "execution_count": 118,
   "metadata": {},
   "outputs": [
    {
     "name": "stdout",
     "output_type": "stream",
     "text": [
      "#ko\n",
      "Decodificado Loop: #komsu#, Final antes do Loop: ru#\n"
     ]
    },
    {
     "data": {
      "text/plain": [
       "(1, 460)"
      ]
     },
     "execution_count": 118,
     "metadata": {},
     "output_type": "execute_result"
    }
   ],
   "source": [
    "model = load_model('../data/prop_75')\n",
    "pipeline(['#kobri#'])#,'#fosi#']) "
   ]
  },
  {
   "cell_type": "code",
   "execution_count": 119,
   "metadata": {},
   "outputs": [
    {
     "name": "stdout",
     "output_type": "stream",
     "text": [
      "#ap\n",
      "Decodificado Loop: #apu#, Final antes do Loop: su#\n",
      "#na\n",
      "Decodificado Loop: #naku#, Final antes do Loop: su#\n"
     ]
    },
    {
     "data": {
      "text/plain": [
       "(2, 460)"
      ]
     },
     "execution_count": 119,
     "metadata": {},
     "output_type": "execute_result"
    }
   ],
   "source": [
    "model = load_model('../data/prop_75')\n",
    "pipeline(['#afaze#','#nase#'])"
   ]
  },
  {
   "cell_type": "code",
   "execution_count": 120,
   "metadata": {},
   "outputs": [
    {
     "name": "stdout",
     "output_type": "stream",
     "text": [
      "#ma\n",
      "Decodificado Loop: #matu, Final antes do Loop: tu#\n",
      "#pa\n",
      "Decodificado Loop: #pabu#, Final antes do Loop: gu#\n",
      "#sa\n",
      "Decodificado Loop: #sai#, Final antes do Loop: au#\n",
      "#ba\n",
      "Decodificado Loop: #batu, Final antes do Loop: tu#\n"
     ]
    },
    {
     "data": {
      "text/plain": [
       "(4, 460)"
      ]
     },
     "execution_count": 120,
     "metadata": {},
     "output_type": "execute_result"
    }
   ],
   "source": [
    "model = load_model('../data/prop_75')\n",
    "pipeline(['#mata#',\"#paga#\",'#sai#','#bate#'])"
   ]
  },
  {
   "cell_type": "markdown",
   "metadata": {},
   "source": [
    "|     Model Name     | Test File     | Total Irregular Verbs | Total Verbs | Proportion | Epochs | Batch Size  |\n",
    "|:------------------:|---------------|----------------------:|-------------|------------|--------|-------------|\n",
    "| prop_75_1000       | prop_75       |                      |  400        |    75%     | 1000   |  20         |"
   ]
  },
  {
   "cell_type": "code",
   "execution_count": 121,
   "metadata": {},
   "outputs": [],
   "source": [
    "model = load_model('../data/prop_75')\n",
    "model.fit(X,Y, epochs=400, batch_size=20,verbose=False)\n",
    "model.save('../data/prop_75_1000')"
   ]
  },
  {
   "cell_type": "code",
   "execution_count": 122,
   "metadata": {},
   "outputs": [
    {
     "name": "stdout",
     "output_type": "stream",
     "text": [
      "#pe\n",
      "Decodificado Loop: #pegu, Final antes do Loop: gu#\n",
      "#si\n",
      "Decodificado Loop: #sigu, Final antes do Loop: gu#\n",
      "#si\n",
      "Decodificado Loop: #sikO#, Final antes do Loop: ku#\n",
      "#te\n",
      "Decodificado Loop: #te#, Final antes do Loop: tu#\n",
      "#pr\n",
      "Decodificado Loop: #prespx#, Final antes do Loop: tu#\n"
     ]
    },
    {
     "data": {
      "text/plain": [
       "(5, 460)"
      ]
     },
     "execution_count": 122,
     "metadata": {},
     "output_type": "execute_result"
    }
   ],
   "source": [
    "model = load_model('../data/prop_75_1000')\n",
    "pipeline(['#pega#','#sega#','#seka#','#testa#','#presta#'])"
   ]
  },
  {
   "cell_type": "code",
   "execution_count": 127,
   "metadata": {},
   "outputs": [
    {
     "name": "stdout",
     "output_type": "stream",
     "text": [
      "#er\n",
      "Decodificado Loop: #eru, Final antes do Loop: ru#\n",
      "#mo\n",
      "Decodificado Loop: #moza#, Final antes do Loop: ru#\n",
      "#ap\n",
      "Decodificado Loop: #apu#, Final antes do Loop: tu#\n"
     ]
    },
    {
     "data": {
      "text/plain": [
       "(3, 460)"
      ]
     },
     "execution_count": 127,
     "metadata": {},
     "output_type": "execute_result"
    }
   ],
   "source": [
    "model = load_model('../data/prop_75_1000')\n",
    "pipeline(['#ora#',\"#mora#\",'#aposta#'])"
   ]
  },
  {
   "cell_type": "code",
   "execution_count": 128,
   "metadata": {},
   "outputs": [
    {
     "name": "stdout",
     "output_type": "stream",
     "text": [
      "#su\n",
      "Decodificado Loop: #su#, Final antes do Loop: iu#\n",
      "#me\n",
      "Decodificado Loop: #meeo#, Final antes do Loop: iu#\n"
     ]
    },
    {
     "data": {
      "text/plain": [
       "(2, 460)"
      ]
     },
     "execution_count": 128,
     "metadata": {},
     "output_type": "execute_result"
    }
   ],
   "source": [
    "model = load_model('../data/prop_75_1000')\n",
    "pipeline(['#sortia#','#media#'])"
   ]
  },
  {
   "cell_type": "code",
   "execution_count": 129,
   "metadata": {},
   "outputs": [
    {
     "name": "stdout",
     "output_type": "stream",
     "text": [
      "#ve\n",
      "Decodificado Loop: #vensu, Final antes do Loop: su#\n"
     ]
    },
    {
     "data": {
      "text/plain": [
       "(1, 460)"
      ]
     },
     "execution_count": 129,
     "metadata": {},
     "output_type": "execute_result"
    }
   ],
   "source": [
    "model = load_model('../data/prop_75_1000')\n",
    "pipeline(['#vense#'])"
   ]
  },
  {
   "cell_type": "code",
   "execution_count": 130,
   "metadata": {},
   "outputs": [
    {
     "name": "stdout",
     "output_type": "stream",
     "text": [
      "#po\n",
      "Decodificado Loop: #po#, Final antes do Loop: iu#\n",
      "#xe\n",
      "Decodificado Loop: #xebaO#, Final antes do Loop: iu#\n",
      "#ko\n",
      "Decodificado Loop: #kompi#, Final antes do Loop: iu#\n"
     ]
    },
    {
     "data": {
      "text/plain": [
       "(3, 460)"
      ]
     },
     "execution_count": 130,
     "metadata": {},
     "output_type": "execute_result"
    }
   ],
   "source": [
    "model = load_model('../data/prop_75_1000')\n",
    "pipeline(['#po#','#hepo#','#kompo#'])"
   ]
  },
  {
   "cell_type": "code",
   "execution_count": 131,
   "metadata": {},
   "outputs": [
    {
     "name": "stdout",
     "output_type": "stream",
     "text": [
      "#po\n",
      "Decodificado Loop: #po#, Final antes do Loop: iu#\n",
      "#xe\n",
      "Decodificado Loop: #xebaO#, Final antes do Loop: iu#\n",
      "#ko\n",
      "Decodificado Loop: #kompi#, Final antes do Loop: iu#\n"
     ]
    },
    {
     "data": {
      "text/plain": [
       "(3, 460)"
      ]
     },
     "execution_count": 131,
     "metadata": {},
     "output_type": "execute_result"
    }
   ],
   "source": [
    "model = load_model('../data/prop_75_1000')\n",
    "pipeline(['#po#','#hepo#','#kompo#'])"
   ]
  },
  {
   "cell_type": "code",
   "execution_count": 136,
   "metadata": {},
   "outputs": [
    {
     "name": "stdout",
     "output_type": "stream",
     "text": [
      "#fe\n",
      "Decodificado Loop: #fentu, Final antes do Loop: tu#\n",
      "#xe\n",
      "Decodificado Loop: #xedtu, Final antes do Loop: tu#\n"
     ]
    },
    {
     "data": {
      "text/plain": [
       "(2, 460)"
      ]
     },
     "execution_count": 136,
     "metadata": {},
     "output_type": "execute_result"
    }
   ],
   "source": [
    "model = load_model('../data/prop_75_1000')\n",
    "pipeline(['#fenti#','#hendi#'])"
   ]
  },
  {
   "cell_type": "code",
   "execution_count": 139,
   "metadata": {},
   "outputs": [
    {
     "name": "stdout",
     "output_type": "stream",
     "text": [
      "#ko\n",
      "Decodificado Loop: #komsu#, Final antes do Loop: ru#\n"
     ]
    },
    {
     "data": {
      "text/plain": [
       "(1, 460)"
      ]
     },
     "execution_count": 139,
     "metadata": {},
     "output_type": "execute_result"
    }
   ],
   "source": [
    "model = load_model('../data/prop_75_1000')\n",
    "pipeline(['#kobri#'])#,'#fosi#']) "
   ]
  },
  {
   "cell_type": "code",
   "execution_count": 140,
   "metadata": {},
   "outputs": [
    {
     "name": "stdout",
     "output_type": "stream",
     "text": [
      "#af\n",
      "Decodificado Loop: #afu#, Final antes do Loop: su#\n",
      "#na\n",
      "Decodificado Loop: #napu#, Final antes do Loop: su#\n"
     ]
    },
    {
     "data": {
      "text/plain": [
       "(2, 460)"
      ]
     },
     "execution_count": 140,
     "metadata": {},
     "output_type": "execute_result"
    }
   ],
   "source": [
    "model = load_model('../data/prop_75_1000')\n",
    "pipeline(['#afaze#','#nase#'])"
   ]
  },
  {
   "cell_type": "code",
   "execution_count": 141,
   "metadata": {},
   "outputs": [
    {
     "name": "stdout",
     "output_type": "stream",
     "text": [
      "#ma\n",
      "Decodificado Loop: #matu, Final antes do Loop: tu#\n",
      "#pa\n",
      "Decodificado Loop: #pabu#, Final antes do Loop: gu#\n",
      "#sa\n",
      "Decodificado Loop: #safpipipppp#, Final antes do Loop: au#\n",
      "#ba\n",
      "Decodificado Loop: #batu#, Final antes do Loop: pu#\n"
     ]
    },
    {
     "data": {
      "text/plain": [
       "(4, 460)"
      ]
     },
     "execution_count": 141,
     "metadata": {},
     "output_type": "execute_result"
    }
   ],
   "source": [
    "model = load_model('../data/prop_75_1000')\n",
    "pipeline(['#mata#',\"#paga#\",'#sai#','#bate#'])"
   ]
  },
  {
   "cell_type": "markdown",
   "metadata": {},
   "source": [
    "## Proporcao 85% Irregulares"
   ]
  },
  {
   "cell_type": "code",
   "execution_count": null,
   "metadata": {},
   "outputs": [],
   "source": []
  }
 ],
 "metadata": {
  "kernelspec": {
   "display_name": "Python 3",
   "language": "python",
   "name": "python3"
  },
  "language_info": {
   "codemirror_mode": {
    "name": "ipython",
    "version": 3
   },
   "file_extension": ".py",
   "mimetype": "text/x-python",
   "name": "python",
   "nbconvert_exporter": "python",
   "pygments_lexer": "ipython3",
   "version": "3.6.0"
  }
 },
 "nbformat": 4,
 "nbformat_minor": 2
}
