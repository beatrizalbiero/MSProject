{
 "cells": [
  {
   "cell_type": "code",
   "execution_count": 1,
   "metadata": {
    "collapsed": false
   },
   "outputs": [
    {
     "name": "stderr",
     "output_type": "stream",
     "text": [
      "Using TensorFlow backend.\n"
     ]
    }
   ],
   "source": [
    "'''\n",
    "packages\n",
    "'''\n",
    "import sys\n",
    "import keras\n",
    "from keras.models import Sequential\n",
    "from keras.layers import Dense\n",
    "from keras.models import load_model\n",
    "import numpy as np\n",
    "import random\n",
    "import pickle\n",
    "import decoding2\n",
    "import coding_function as cf\n",
    "import decoding_function as df\n",
    "import csv\n",
    "from Files import nodes\n",
    "import os\n",
    "sys.path.append('../')"
   ]
  },
  {
   "cell_type": "code",
   "execution_count": 2,
   "metadata": {
    "collapsed": false
   },
   "outputs": [],
   "source": [
    "#from keras_metrics import KerasMetrics"
   ]
  },
  {
   "cell_type": "code",
   "execution_count": 3,
   "metadata": {
    "collapsed": false
   },
   "outputs": [],
   "source": [
    "# Loading Data"
   ]
  },
  {
   "cell_type": "code",
   "execution_count": 70,
   "metadata": {
    "collapsed": false
   },
   "outputs": [
    {
     "data": {
      "text/plain": [
       "\"\\nwith open('Files/biased_train.csv','r') as csvfile:\\n    readcsv = csv.reader(csvfile, delimiter = ',')\\n    phoneticinf = []\\n    phoneticI = []\\n    for row in readcsv:\\n        phoneticinf.append(row[1])\\n        phoneticI.append(row[3])\\n\""
      ]
     },
     "execution_count": 70,
     "metadata": {},
     "output_type": "execute_result"
    }
   ],
   "source": [
    "\n",
    "with open('Files/training_data_set.csv','r') as csvfile:\n",
    "    readcsv = csv.reader(csvfile, delimiter = ',')\n",
    "    phoneticinf = []\n",
    "    phoneticI = []\n",
    "    for row in readcsv:\n",
    "        phoneticinf.append(row[1])\n",
    "        phoneticI.append(row[3])\n",
    "\"\"\"\n",
    "with open('Files/biased_train.csv','r') as csvfile:\n",
    "    readcsv = csv.reader(csvfile, delimiter = ',')\n",
    "    phoneticinf = []\n",
    "    phoneticI = []\n",
    "    for row in readcsv:\n",
    "        phoneticinf.append(row[1])\n",
    "        phoneticI.append(row[3])\n",
    "\"\"\""
   ]
  },
  {
   "cell_type": "code",
   "execution_count": 25,
   "metadata": {
    "collapsed": false
   },
   "outputs": [],
   "source": [
    "#cf.dataTest(phoneticinf,phoneticI) # careful with duplicates on your dataset"
   ]
  },
  {
   "cell_type": "code",
   "execution_count": 26,
   "metadata": {
    "collapsed": false
   },
   "outputs": [],
   "source": [
    "# for key in dictioinf.keys(): \n",
    "#      if key in phoneticinf:\n",
    "#         phoneticinf.remove(key)\n",
    "# phoneticinf"
   ]
  },
  {
   "cell_type": "code",
   "execution_count": 71,
   "metadata": {
    "collapsed": true
   },
   "outputs": [],
   "source": [
    "\n",
    "dictioinf = {}\n",
    "dictioI = {}\n",
    "\n",
    "for item in phoneticinf:\n",
    "    dictioinf[item] = cf.coding(item)\n",
    "\n",
    "for item in phoneticI:\n",
    "    dictioI[item] = cf.coding(item)\n",
    " "
   ]
  },
  {
   "cell_type": "code",
   "execution_count": 72,
   "metadata": {
    "collapsed": false
   },
   "outputs": [],
   "source": [
    "\n",
    "X = np.array(list(dictioinf.values())) #input column\n",
    "Y = np.array(list(dictioI.values())) #output column\n"
   ]
  },
  {
   "cell_type": "code",
   "execution_count": 51,
   "metadata": {
    "collapsed": true
   },
   "outputs": [],
   "source": [
    "'''\n",
    "2. Define model\n",
    "'''\n",
    "\n",
    "model = Sequential()\n",
    "model.add(Dense(460, input_shape=(460,), activation='sigmoid'))\n"
   ]
  },
  {
   "cell_type": "code",
   "execution_count": 52,
   "metadata": {
    "collapsed": false
   },
   "outputs": [
    {
     "data": {
      "text/plain": [
       "'\\n3. Evaluate model #TODO\\n'"
      ]
     },
     "execution_count": 52,
     "metadata": {},
     "output_type": "execute_result"
    }
   ],
   "source": [
    "'''\n",
    "3. Evaluate model #TODO\n",
    "'''\n",
    "\n"
   ]
  },
  {
   "cell_type": "code",
   "execution_count": 53,
   "metadata": {
    "collapsed": false
   },
   "outputs": [],
   "source": [
    "'''\n",
    "4. Compile model\n",
    "'''\n",
    "\n",
    "model.compile(loss='mean_squared_error', optimizer='adadelta')\n"
   ]
  },
  {
   "cell_type": "code",
   "execution_count": 54,
   "metadata": {},
   "outputs": [
    {
     "data": {
      "text/plain": [
       "<keras.callbacks.History at 0x11f8019b0>"
      ]
     },
     "execution_count": 54,
     "metadata": {},
     "output_type": "execute_result"
    }
   ],
   "source": [
    "'''\n",
    "5. Fit model\n",
    "'''\n",
    "\n",
    "model.fit(X,Y, epochs=600, batch_size=20,verbose=False)"
   ]
  },
  {
   "cell_type": "code",
   "execution_count": 55,
   "metadata": {},
   "outputs": [],
   "source": [
    "# Saving Model\n",
    "#model.save('../data/unbiased_model')"
   ]
  },
  {
   "cell_type": "code",
   "execution_count": 73,
   "metadata": {},
   "outputs": [],
   "source": [
    "# Loading Model\n",
    "model = load_model('../data/unbiased_model')\n",
    "#model = load_model('../data/biased_model_test1')"
   ]
  },
  {
   "cell_type": "code",
   "execution_count": 74,
   "metadata": {},
   "outputs": [],
   "source": [
    "def pipeline(verbs):\n",
    "    \"\"\"\n",
    "    Pipeline receives a list of verbs and decodes it.\n",
    "    \n",
    "    :verbs type: list\n",
    "    :r type: string\n",
    "    \"\"\"\n",
    "    test_list = []\n",
    "    for i in verbs:\n",
    "        coding = cf.coding(i)        \n",
    "        test_list.append(coding)\n",
    "    test_list = np.array(test_list)\n",
    "    prediction = model.predict(test_list)\n",
    "    for i in prediction:\n",
    "        print(decoding2.decoding(i))\n",
    "    return test_list.shape"
   ]
  },
  {
   "cell_type": "markdown",
   "metadata": {},
   "source": [
    "## Results:\n",
    "|     Model Name     | Test File     | Total Irregular Verbs | Total Verbs | Proportion | Epochs | Batch Size |\n",
    "|:------------------:|---------------|----------------------:|-------------|------------|--------|-------------|\n",
    "| biased_model_test1 | biased_train1 |                    66 | 139         | 47%        | 600    |  20          |"
   ]
  },
  {
   "cell_type": "code",
   "execution_count": 45,
   "metadata": {},
   "outputs": [
    {
     "name": "stdout",
     "output_type": "stream",
     "text": [
      "#pa\n",
      "Decodificado Loop: #paru, Final antes do Loop: ru#\n",
      "#fe\n",
      "Decodificado Loop: #feku#, Final antes do Loop: xu#\n",
      "#me\n",
      "Decodificado Loop: #mexu, Final antes do Loop: xu#\n",
      "#ko\n",
      "Decodificado Loop: #ko#, Final antes do Loop: tu#\n",
      "#tE\n",
      "Decodificado Loop: #tEspu#, Final antes do Loop: tu#\n",
      "#ag\n",
      "Decodificado Loop: #agva#, Final antes do Loop: zu#\n",
      "#pa\n",
      "Decodificado Loop: #palu, Final antes do Loop: lu#\n",
      "#fa\n",
      "Decodificado Loop: #falu, Final antes do Loop: lu#\n"
     ]
    },
    {
     "data": {
      "text/plain": [
       "(8, 460)"
      ]
     },
     "execution_count": 45,
     "metadata": {},
     "output_type": "execute_result"
    }
   ],
   "source": [
    "pipeline(['#para#','#fexa#','#mexe#','#konta#','#testa#','#abri#','#kala#','#fala#'])"
   ]
  },
  {
   "cell_type": "markdown",
   "metadata": {},
   "source": [
    "|     Model Name     | Test File     | Total Irregular Verbs | Total Verbs | Proportion | Epochs | Batch Size |\n",
    "|:------------------:|---------------|----------------------:|-------------|------------|--------|-------------|\n",
    "| unbiased_model | training_data_set |          151          |    410      |     37%    | 600    |  20          |"
   ]
  },
  {
   "cell_type": "code",
   "execution_count": 78,
   "metadata": {},
   "outputs": [
    {
     "name": "stdout",
     "output_type": "stream",
     "text": [
      "#pa\n",
      "Decodificado Loop: #pari#, Final antes do Loop: ru#\n",
      "#fe\n",
      "Decodificado Loop: #fexu, Final antes do Loop: xu#\n",
      "#me\n",
      "Decodificado Loop: #mexu, Final antes do Loop: xu#\n",
      "#ab\n",
      "Decodificado Loop: #abru, Final antes do Loop: ru#\n",
      "#ka\n",
      "Decodificado Loop: #kalu, Final antes do Loop: lu#\n",
      "#fa\n",
      "Decodificado Loop: #falu, Final antes do Loop: lu#\n",
      "#te\n",
      "Decodificado Loop: #teku, Final antes do Loop: ku#\n"
     ]
    },
    {
     "data": {
      "text/plain": [
       "(7, 460)"
      ]
     },
     "execution_count": 78,
     "metadata": {},
     "output_type": "execute_result"
    }
   ],
   "source": [
    "pipeline(['#para#','#fexa#','#mexe#','#abri#','#kala#','#fala#','#teka#'])"
   ]
  },
  {
   "cell_type": "markdown",
   "metadata": {},
   "source": [
    "|     Model Name     | Test File     | Total Irregular Verbs | Total Verbs | Proportion | Epochs | Batch Size  |\n",
    "|:------------------:|---------------|----------------------:|-------------|------------|--------|-------------|\n",
    "| biased_model_test1 | biased_train2 |                       |             |            | 600    |  20         |"
   ]
  },
  {
   "cell_type": "code",
   "execution_count": null,
   "metadata": {},
   "outputs": [],
   "source": []
  }
 ],
 "metadata": {
  "kernelspec": {
   "display_name": "Python 3",
   "language": "python",
   "name": "python3"
  },
  "language_info": {
   "codemirror_mode": {
    "name": "ipython",
    "version": 3
   },
   "file_extension": ".py",
   "mimetype": "text/x-python",
   "name": "python",
   "nbconvert_exporter": "python",
   "pygments_lexer": "ipython3",
   "version": "3.6.0"
  }
 },
 "nbformat": 4,
 "nbformat_minor": 2
}
