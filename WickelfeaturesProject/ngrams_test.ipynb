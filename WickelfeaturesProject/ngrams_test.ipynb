{
 "cells": [
  {
   "cell_type": "code",
   "execution_count": 5,
   "metadata": {
    "collapsed": false
   },
   "outputs": [],
   "source": [
    "import coding_function as cf\n",
    "import csv\n",
    "\n",
    "path = 'Corpus/corpus_completo.csv'\n",
    "\n",
    "def load_corpus(path, verbose=True):\n",
    "    \"\"\"\n",
    "    Create a pandas data frame.\n",
    "\n",
    "    Columns: 'infinitive': the verb's infinitive, 'vec_inf': the coded\n",
    "    infinitive form,\n",
    "    'f person': the verb's first person conjugation (in portuguese),\n",
    "    'vec_I': the coded conjugate form.\n",
    "\n",
    "    If verbose is True, returns the lenght of the corpus.\n",
    "\n",
    "    :path type: string\n",
    "    :verbose type: bool\n",
    "    :r type: tuple\n",
    "    \"\"\"\n",
    "    with open(path, 'r') as csvfile:\n",
    "        readcsv = csv.reader(csvfile, delimiter=',')\n",
    "        phoneticinf = []\n",
    "        phoneticI = []\n",
    "        for row in readcsv:\n",
    "            phoneticinf.append(row[1])\n",
    "            phoneticI.append(row[3])\n",
    "    cf.dataTest(phoneticinf, phoneticI) # tests if dataset is ok\n",
    "    if verbose == True:\n",
    "        print(len(phoneticinf), len(phoneticI))\n",
    "    return phoneticinf, phoneticI"
   ]
  },
  {
   "cell_type": "code",
   "execution_count": 6,
   "metadata": {
    "collapsed": false
   },
   "outputs": [
    {
     "name": "stdout",
     "output_type": "stream",
     "text": [
      "416 416\n"
     ]
    }
   ],
   "source": [
    "infinitive, conjugated = load_corpus(path)"
   ]
  },
  {
   "cell_type": "code",
   "execution_count": 10,
   "metadata": {
    "collapsed": false
   },
   "outputs": [],
   "source": [
    "corpus = infinitive + conjugated"
   ]
  },
  {
   "cell_type": "code",
   "execution_count": 12,
   "metadata": {
    "collapsed": false
   },
   "outputs": [],
   "source": [
    "trigrams = list()\n",
    "for item in corpus:\n",
    "    trigrams.append(cf.trigramizer(item))"
   ]
  },
  {
   "cell_type": "code",
   "execution_count": 15,
   "metadata": {
    "collapsed": false
   },
   "outputs": [
    {
     "data": {
      "text/plain": [
       "[('#', 'a', 'n'),\n",
       " ('a', 'n', 's'),\n",
       " ('n', 's', 'i'),\n",
       " ('s', 'i', 'a'),\n",
       " ('i', 'a', '#')]"
      ]
     },
     "execution_count": 15,
     "metadata": {},
     "output_type": "execute_result"
    }
   ],
   "source": [
    "trigrams[0]"
   ]
  },
  {
   "cell_type": "code",
   "execution_count": 19,
   "metadata": {
    "collapsed": true
   },
   "outputs": [],
   "source": [
    "grams = list()\n",
    "for sublist in trigrams:\n",
    "    for item in sublist:\n",
    "        grams.append(item)"
   ]
  },
  {
   "cell_type": "code",
   "execution_count": 21,
   "metadata": {
    "collapsed": false
   },
   "outputs": [
    {
     "data": {
      "text/plain": [
       "5128"
      ]
     },
     "execution_count": 21,
     "metadata": {},
     "output_type": "execute_result"
    }
   ],
   "source": [
    "len(grams)"
   ]
  },
  {
   "cell_type": "code",
   "execution_count": 23,
   "metadata": {
    "collapsed": false
   },
   "outputs": [
    {
     "data": {
      "text/plain": [
       "1068"
      ]
     },
     "execution_count": 23,
     "metadata": {},
     "output_type": "execute_result"
    }
   ],
   "source": [
    "len(set(grams))"
   ]
  },
  {
   "cell_type": "code",
   "execution_count": null,
   "metadata": {
    "collapsed": true
   },
   "outputs": [],
   "source": []
  }
 ],
 "metadata": {
  "kernelspec": {
   "display_name": "Python 3",
   "language": "python",
   "name": "python3"
  },
  "language_info": {
   "codemirror_mode": {
    "name": "ipython",
    "version": 3
   },
   "file_extension": ".py",
   "mimetype": "text/x-python",
   "name": "python",
   "nbconvert_exporter": "python",
   "pygments_lexer": "ipython3",
   "version": "3.6.4"
  }
 },
 "nbformat": 4,
 "nbformat_minor": 2
}
