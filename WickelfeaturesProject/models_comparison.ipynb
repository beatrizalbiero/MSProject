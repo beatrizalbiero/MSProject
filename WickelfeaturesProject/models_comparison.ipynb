{
 "cells": [
  {
   "cell_type": "markdown",
   "metadata": {},
   "source": [
    "# Encoder-Decoder - 3000 samples - softmax "
   ]
  },
  {
   "cell_type": "markdown",
   "metadata": {},
   "source": [
    "## Run Settings "
   ]
  },
  {
   "cell_type": "code",
   "execution_count": 75,
   "metadata": {
    "collapsed": false
   },
   "outputs": [],
   "source": [
    "%run run_model.py"
   ]
  },
  {
   "cell_type": "markdown",
   "metadata": {},
   "source": [
    "## Settings "
   ]
  },
  {
   "cell_type": "code",
   "execution_count": 76,
   "metadata": {
    "collapsed": false
   },
   "outputs": [],
   "source": [
    "batch_size = 64  # Batch size for training.\n",
    "epochs = 100  # Number of epochs to train for.\n",
    "latent_dim = 256  # Latent dimensionality of the encoding space.\n",
    "num_samples = 3000  # Number of samples to train on.\n",
    "# Path to the data txt file on disk.\n",
    "test_size = 100\n",
    "complete_corpus_path = 'Corpus/corpus4938.csv'\n",
    "\n",
    "train_file, test_file = load_train_test(corpus = complete_corpus_path, num_samples=num_samples, test_size=test_size)"
   ]
  },
  {
   "cell_type": "markdown",
   "metadata": {},
   "source": [
    "## Vectorize Data"
   ]
  },
  {
   "cell_type": "code",
   "execution_count": 41,
   "metadata": {
    "code_folding": [
     0
    ],
    "collapsed": false
   },
   "outputs": [
    {
     "name": "stdout",
     "output_type": "stream",
     "text": [
      "Number of samples: 3000\n",
      "Number of unique input tokens: 26\n",
      "Number of unique output tokens: 32\n",
      "Max sequence length for inputs: 15\n",
      "Max sequence length for outputs: 16\n"
     ]
    }
   ],
   "source": [
    "# Vectorize the data.\n",
    "input_texts = []\n",
    "target_texts = []\n",
    "input_characters = set()\n",
    "target_characters = set()\n",
    "with open(train_file, 'r', encoding='utf-8') as f:\n",
    "    lines = f.read().split('\\n')\n",
    "for line in lines[: min(num_samples, len(lines) - 1)]:\n",
    "    input_text, target_text = line.split(';')\n",
    "    # We use \"tab\" as the \"start sequence\" character\n",
    "    # for the targets, and \"\\n\" as \"end sequence\" character.\n",
    "    target_text = '\\t' + target_text + '\\n'\n",
    "    input_texts.append(input_text)\n",
    "    target_texts.append(target_text)\n",
    "    for char in input_text:\n",
    "        if char not in input_characters:\n",
    "            input_characters.add(char)\n",
    "    for char in target_text:\n",
    "        if char not in target_characters:\n",
    "            target_characters.add(char)\n",
    "\n",
    "input_characters = sorted(list(input_characters))\n",
    "target_characters = sorted(list(target_characters))\n",
    "num_encoder_tokens = len(input_characters)\n",
    "num_decoder_tokens = len(target_characters)\n",
    "max_encoder_seq_length = max([len(txt) for txt in input_texts])\n",
    "max_decoder_seq_length = max([len(txt) for txt in target_texts])\n",
    "\n",
    "print('Number of samples:', len(input_texts))\n",
    "print('Number of unique input tokens:', num_encoder_tokens)\n",
    "print('Number of unique output tokens:', num_decoder_tokens)\n",
    "print('Max sequence length for inputs:', max_encoder_seq_length)\n",
    "print('Max sequence length for outputs:', max_decoder_seq_length)\n",
    "\n",
    "# Dictionary of tokens\n",
    "input_token_index = dict(\n",
    "    [(char, i) for i, char in enumerate(input_characters)])\n",
    "target_token_index = dict(\n",
    "    [(char, i) for i, char in enumerate(target_characters)])\n",
    "\n",
    "encoder_input_data = np.zeros(\n",
    "    (len(input_texts), max_encoder_seq_length, num_encoder_tokens),\n",
    "    dtype='float32')\n",
    "decoder_input_data = np.zeros(\n",
    "    (len(input_texts), max_decoder_seq_length, num_decoder_tokens),\n",
    "    dtype='float32')\n",
    "decoder_target_data = np.zeros(\n",
    "    (len(input_texts), max_decoder_seq_length, num_decoder_tokens),\n",
    "    dtype='float32')\n",
    "\n",
    "for i, (input_text, target_text) in enumerate(zip(input_texts, target_texts)):\n",
    "    for t, char in enumerate(input_text):\n",
    "        encoder_input_data[i, t, input_token_index[char]] = 1.\n",
    "    for t, char in enumerate(target_text):\n",
    "        # decoder_target_data is ahead of decoder_input_data by one timestep\n",
    "        decoder_input_data[i, t, target_token_index[char]] = 1.\n",
    "        if t > 0:\n",
    "            # decoder_target_data will be ahead by one timestep\n",
    "            # and will not include the start character.\n",
    "            decoder_target_data[i, t - 1, target_token_index[char]] = 1."
   ]
  },
  {
   "cell_type": "markdown",
   "metadata": {},
   "source": [
    "## Model"
   ]
  },
  {
   "cell_type": "code",
   "execution_count": 266,
   "metadata": {
    "collapsed": true
   },
   "outputs": [],
   "source": [
    "# Define an input sequence and process it.\n",
    "encoder_inputs = Input(shape=(None, num_encoder_tokens))\n",
    "encoder = LSTM(latent_dim, return_state=True)\n",
    "encoder_outputs, state_h, state_c = encoder(encoder_inputs)\n",
    "# We discard `encoder_outputs` and only keep the states.\n",
    "encoder_states = [state_h, state_c]\n",
    "\n",
    "# Set up the decoder, using `encoder_states` as initial state.\n",
    "decoder_inputs = Input(shape=(None, num_decoder_tokens))\n",
    "# We set up our decoder to return full output sequences,\n",
    "# and to return internal states as well. We don't use the\n",
    "# return states in the training model, but we will use them in inference.\n",
    "decoder_lstm = LSTM(latent_dim, return_sequences=True, return_state=True)\n",
    "decoder_outputs, _, _ = decoder_lstm(decoder_inputs,\n",
    "                                     initial_state=encoder_states)\n",
    "decoder_dense = Dense(num_decoder_tokens, activation='softmax')\n",
    "decoder_outputs = decoder_dense(decoder_outputs)"
   ]
  },
  {
   "cell_type": "code",
   "execution_count": 267,
   "metadata": {
    "collapsed": true
   },
   "outputs": [],
   "source": [
    "# Define the model that will turn\n",
    "# `encoder_input_data` & `decoder_input_data` into `decoder_target_data`\n",
    "filename = 'Models/model5.h5'\n",
    "checkpoint = ModelCheckpoint(filename, monitor='val_loss', verbose=1, save_best_only=True, mode='min')\n",
    "model = Model([encoder_inputs, decoder_inputs], decoder_outputs)"
   ]
  },
  {
   "cell_type": "markdown",
   "metadata": {},
   "source": [
    "## Run Training "
   ]
  },
  {
   "cell_type": "code",
   "execution_count": 37,
   "metadata": {
    "collapsed": true
   },
   "outputs": [
    {
     "name": "stdout",
     "output_type": "stream",
     "text": [
      "Train on 2400 samples, validate on 600 samples\n",
      "Epoch 1/100\n",
      "Epoch 00001: val_loss improved from 1.31209 to 1.12663, saving model to Models/model5.h5\n"
     ]
    },
    {
     "name": "stderr",
     "output_type": "stream",
     "text": [
      "/Users/Beatriz/Dropbox/Linguística/algoritmos/principal/WickelfeaturesProject/mestrado/lib/python3.6/site-packages/keras/engine/topology.py:2344: UserWarning: Layer lstm_2 was passed non-serializable keyword arguments: {'initial_state': [<tf.Tensor 'lstm_1/while/Exit_2:0' shape=(?, 256) dtype=float32>, <tf.Tensor 'lstm_1/while/Exit_3:0' shape=(?, 256) dtype=float32>]}. They will not be included in the serialized model (and thus will be missing at deserialization time).\n",
      "  str(node.arguments) + '. They will not be included '\n"
     ]
    },
    {
     "name": "stdout",
     "output_type": "stream",
     "text": [
      " - 11s - loss: 1.1187 - acc: 0.1757 - val_loss: 1.1266 - val_acc: 0.2010\n",
      "Epoch 2/100\n",
      "Epoch 00002: val_loss improved from 1.12663 to 1.04979, saving model to Models/model5.h5\n",
      " - 10s - loss: 0.9993 - acc: 0.2036 - val_loss: 1.0498 - val_acc: 0.2106\n",
      "Epoch 3/100\n",
      "Epoch 00003: val_loss improved from 1.04979 to 0.94620, saving model to Models/model5.h5\n",
      " - 11s - loss: 0.9057 - acc: 0.2251 - val_loss: 0.9462 - val_acc: 0.2351\n",
      "Epoch 4/100\n",
      "Epoch 00004: val_loss did not improve\n",
      " - 10s - loss: 0.8421 - acc: 0.2402 - val_loss: 0.9709 - val_acc: 0.2196\n",
      "Epoch 5/100\n",
      "Epoch 00005: val_loss improved from 0.94620 to 0.88096, saving model to Models/model5.h5\n",
      " - 10s - loss: 0.7868 - acc: 0.2532 - val_loss: 0.8810 - val_acc: 0.2502\n",
      "Epoch 6/100\n",
      "Epoch 00006: val_loss improved from 0.88096 to 0.80939, saving model to Models/model5.h5\n",
      " - 10s - loss: 0.7444 - acc: 0.2634 - val_loss: 0.8094 - val_acc: 0.2680\n",
      "Epoch 7/100\n",
      "Epoch 00007: val_loss did not improve\n",
      " - 10s - loss: 0.6980 - acc: 0.2766 - val_loss: 0.8323 - val_acc: 0.2630\n",
      "Epoch 8/100\n",
      "Epoch 00008: val_loss improved from 0.80939 to 0.71714, saving model to Models/model5.h5\n",
      " - 9s - loss: 0.6574 - acc: 0.2881 - val_loss: 0.7171 - val_acc: 0.2970\n",
      "Epoch 9/100\n",
      "Epoch 00009: val_loss improved from 0.71714 to 0.68835, saving model to Models/model5.h5\n",
      " - 9s - loss: 0.6091 - acc: 0.3017 - val_loss: 0.6883 - val_acc: 0.3091\n",
      "Epoch 10/100\n",
      "Epoch 00010: val_loss did not improve\n",
      " - 9s - loss: 0.5759 - acc: 0.3131 - val_loss: 0.7236 - val_acc: 0.2975\n",
      "Epoch 11/100\n",
      "Epoch 00011: val_loss improved from 0.68835 to 0.64379, saving model to Models/model5.h5\n",
      " - 9s - loss: 0.5420 - acc: 0.3213 - val_loss: 0.6438 - val_acc: 0.3270\n",
      "Epoch 12/100\n",
      "Epoch 00012: val_loss improved from 0.64379 to 0.60695, saving model to Models/model5.h5\n",
      " - 9s - loss: 0.5173 - acc: 0.3277 - val_loss: 0.6069 - val_acc: 0.3356\n",
      "Epoch 13/100\n",
      "Epoch 00013: val_loss improved from 0.60695 to 0.58898, saving model to Models/model5.h5\n",
      " - 9s - loss: 0.4848 - acc: 0.3380 - val_loss: 0.5890 - val_acc: 0.3372\n",
      "Epoch 14/100\n",
      "Epoch 00014: val_loss did not improve\n",
      " - 9s - loss: 0.4550 - acc: 0.3463 - val_loss: 0.6259 - val_acc: 0.3286\n",
      "Epoch 15/100\n",
      "Epoch 00015: val_loss did not improve\n",
      " - 9s - loss: 0.4298 - acc: 0.3540 - val_loss: 0.6052 - val_acc: 0.3355\n",
      "Epoch 16/100\n",
      "Epoch 00016: val_loss improved from 0.58898 to 0.57993, saving model to Models/model5.h5\n",
      " - 9s - loss: 0.4022 - acc: 0.3614 - val_loss: 0.5799 - val_acc: 0.3392\n",
      "Epoch 17/100\n",
      "Epoch 00017: val_loss improved from 0.57993 to 0.56341, saving model to Models/model5.h5\n",
      " - 9s - loss: 0.3800 - acc: 0.3696 - val_loss: 0.5634 - val_acc: 0.3472\n",
      "Epoch 18/100\n",
      "Epoch 00018: val_loss did not improve\n",
      " - 9s - loss: 0.3570 - acc: 0.3758 - val_loss: 0.6017 - val_acc: 0.3356\n",
      "Epoch 19/100\n",
      "Epoch 00019: val_loss improved from 0.56341 to 0.52837, saving model to Models/model5.h5\n",
      " - 9s - loss: 0.3316 - acc: 0.3833 - val_loss: 0.5284 - val_acc: 0.3581\n",
      "Epoch 20/100\n",
      "Epoch 00020: val_loss improved from 0.52837 to 0.47693, saving model to Models/model5.h5\n",
      " - 9s - loss: 0.3181 - acc: 0.3869 - val_loss: 0.4769 - val_acc: 0.3702\n",
      "Epoch 21/100\n",
      "Epoch 00021: val_loss did not improve\n",
      " - 9s - loss: 0.2892 - acc: 0.3963 - val_loss: 0.4939 - val_acc: 0.3695\n",
      "Epoch 22/100\n",
      "Epoch 00022: val_loss improved from 0.47693 to 0.46615, saving model to Models/model5.h5\n",
      " - 9s - loss: 0.2718 - acc: 0.4016 - val_loss: 0.4662 - val_acc: 0.3767\n",
      "Epoch 23/100\n",
      "Epoch 00023: val_loss improved from 0.46615 to 0.43063, saving model to Models/model5.h5\n",
      " - 9s - loss: 0.2538 - acc: 0.4073 - val_loss: 0.4306 - val_acc: 0.3883\n",
      "Epoch 24/100\n",
      "Epoch 00024: val_loss did not improve\n",
      " - 9s - loss: 0.2323 - acc: 0.4148 - val_loss: 0.4669 - val_acc: 0.3778\n",
      "Epoch 25/100\n",
      "Epoch 00025: val_loss improved from 0.43063 to 0.41870, saving model to Models/model5.h5\n",
      " - 9s - loss: 0.2189 - acc: 0.4189 - val_loss: 0.4187 - val_acc: 0.3930\n",
      "Epoch 26/100\n",
      "Epoch 00026: val_loss improved from 0.41870 to 0.41636, saving model to Models/model5.h5\n",
      " - 9s - loss: 0.2022 - acc: 0.4238 - val_loss: 0.4164 - val_acc: 0.3924\n",
      "Epoch 27/100\n",
      "Epoch 00027: val_loss improved from 0.41636 to 0.40411, saving model to Models/model5.h5\n",
      " - 9s - loss: 0.1876 - acc: 0.4292 - val_loss: 0.4041 - val_acc: 0.3983\n",
      "Epoch 28/100\n",
      "Epoch 00028: val_loss did not improve\n",
      " - 9s - loss: 0.1723 - acc: 0.4344 - val_loss: 0.4041 - val_acc: 0.3951\n",
      "Epoch 29/100\n",
      "Epoch 00029: val_loss improved from 0.40411 to 0.39392, saving model to Models/model5.h5\n",
      " - 10s - loss: 0.1632 - acc: 0.4363 - val_loss: 0.3939 - val_acc: 0.3991\n",
      "Epoch 30/100\n",
      "Epoch 00030: val_loss did not improve\n",
      " - 10s - loss: 0.1484 - acc: 0.4410 - val_loss: 0.4348 - val_acc: 0.3906\n",
      "Epoch 31/100\n",
      "Epoch 00031: val_loss did not improve\n",
      " - 9s - loss: 0.1379 - acc: 0.4452 - val_loss: 0.4338 - val_acc: 0.3897\n",
      "Epoch 32/100\n",
      "Epoch 00032: val_loss did not improve\n",
      " - 9s - loss: 0.1248 - acc: 0.4489 - val_loss: 0.4322 - val_acc: 0.3881\n",
      "Epoch 33/100\n",
      "Epoch 00033: val_loss did not improve\n",
      " - 9s - loss: 0.1161 - acc: 0.4523 - val_loss: 0.4174 - val_acc: 0.3965\n",
      "Epoch 34/100\n",
      "Epoch 00034: val_loss did not improve\n",
      " - 9s - loss: 0.1070 - acc: 0.4552 - val_loss: 0.4578 - val_acc: 0.3853\n",
      "Epoch 35/100\n",
      "Epoch 00035: val_loss did not improve\n",
      " - 9s - loss: 0.1048 - acc: 0.4564 - val_loss: 0.3952 - val_acc: 0.3998\n",
      "Epoch 36/100\n",
      "Epoch 00036: val_loss improved from 0.39392 to 0.36863, saving model to Models/model5.h5\n",
      " - 9s - loss: 0.0886 - acc: 0.4621 - val_loss: 0.3686 - val_acc: 0.4117\n",
      "Epoch 37/100\n",
      "Epoch 00037: val_loss did not improve\n",
      " - 9s - loss: 0.0860 - acc: 0.4618 - val_loss: 0.3916 - val_acc: 0.4049\n",
      "Epoch 38/100\n",
      "Epoch 00038: val_loss did not improve\n",
      " - 9s - loss: 0.0816 - acc: 0.4634 - val_loss: 0.4242 - val_acc: 0.3976\n",
      "Epoch 39/100\n",
      "Epoch 00039: val_loss did not improve\n",
      " - 9s - loss: 0.0701 - acc: 0.4671 - val_loss: 0.4168 - val_acc: 0.4036\n",
      "Epoch 40/100\n",
      "Epoch 00040: val_loss did not improve\n",
      " - 9s - loss: 0.0645 - acc: 0.4696 - val_loss: 0.3846 - val_acc: 0.4082\n",
      "Epoch 41/100\n",
      "Epoch 00041: val_loss improved from 0.36863 to 0.36306, saving model to Models/model5.h5\n",
      " - 9s - loss: 0.0667 - acc: 0.4675 - val_loss: 0.3631 - val_acc: 0.4168\n",
      "Epoch 42/100\n",
      "Epoch 00042: val_loss improved from 0.36306 to 0.36012, saving model to Models/model5.h5\n",
      " - 9s - loss: 0.0574 - acc: 0.4711 - val_loss: 0.3601 - val_acc: 0.4137\n",
      "Epoch 43/100\n",
      "Epoch 00043: val_loss did not improve\n",
      " - 10s - loss: 0.0528 - acc: 0.4725 - val_loss: 0.3619 - val_acc: 0.4176\n",
      "Epoch 44/100\n",
      "Epoch 00044: val_loss did not improve\n",
      " - 9s - loss: 0.0520 - acc: 0.4721 - val_loss: 0.4186 - val_acc: 0.4079\n",
      "Epoch 45/100\n",
      "Epoch 00045: val_loss did not improve\n",
      " - 9s - loss: 0.0462 - acc: 0.4749 - val_loss: 0.4371 - val_acc: 0.3999\n",
      "Epoch 46/100\n",
      "Epoch 00046: val_loss did not improve\n",
      " - 9s - loss: 0.0472 - acc: 0.4741 - val_loss: 0.3827 - val_acc: 0.4153\n",
      "Epoch 47/100\n",
      "Epoch 00047: val_loss did not improve\n",
      " - 9s - loss: 0.0384 - acc: 0.4768 - val_loss: 0.4376 - val_acc: 0.4041\n",
      "Epoch 48/100\n",
      "Epoch 00048: val_loss did not improve\n",
      " - 9s - loss: 0.0432 - acc: 0.4748 - val_loss: 0.3781 - val_acc: 0.4168\n",
      "Epoch 49/100\n",
      "Epoch 00049: val_loss did not improve\n",
      " - 9s - loss: 0.0373 - acc: 0.4770 - val_loss: 0.3910 - val_acc: 0.4117\n",
      "Epoch 50/100\n",
      "Epoch 00050: val_loss did not improve\n",
      " - 9s - loss: 0.0311 - acc: 0.4786 - val_loss: 0.4094 - val_acc: 0.4100\n",
      "Epoch 51/100\n",
      "Epoch 00051: val_loss did not improve\n",
      " - 9s - loss: 0.0363 - acc: 0.4767 - val_loss: 0.4360 - val_acc: 0.4069\n",
      "Epoch 52/100\n",
      "Epoch 00052: val_loss did not improve\n",
      " - 9s - loss: 0.0337 - acc: 0.4775 - val_loss: 0.3944 - val_acc: 0.4125\n",
      "Epoch 53/100\n",
      "Epoch 00053: val_loss did not improve\n",
      " - 9s - loss: 0.0291 - acc: 0.4794 - val_loss: 0.3728 - val_acc: 0.4241\n",
      "Epoch 54/100\n",
      "Epoch 00054: val_loss improved from 0.36012 to 0.34081, saving model to Models/model5.h5\n",
      " - 9s - loss: 0.0302 - acc: 0.4790 - val_loss: 0.3408 - val_acc: 0.4239\n",
      "Epoch 55/100\n",
      "Epoch 00055: val_loss did not improve\n",
      " - 10s - loss: 0.0287 - acc: 0.4794 - val_loss: 0.3952 - val_acc: 0.4179\n",
      "Epoch 56/100\n",
      "Epoch 00056: val_loss did not improve\n",
      " - 9s - loss: 0.0259 - acc: 0.4800 - val_loss: 0.3875 - val_acc: 0.4196\n",
      "Epoch 57/100\n",
      "Epoch 00057: val_loss did not improve\n",
      " - 9s - loss: 0.0252 - acc: 0.4798 - val_loss: 0.3773 - val_acc: 0.4200\n",
      "Epoch 58/100\n",
      "Epoch 00058: val_loss did not improve\n",
      " - 9s - loss: 0.0242 - acc: 0.4800 - val_loss: 0.3974 - val_acc: 0.4216\n",
      "Epoch 59/100\n",
      "Epoch 00059: val_loss did not improve\n",
      " - 9s - loss: 0.0214 - acc: 0.4808 - val_loss: 0.3837 - val_acc: 0.4242\n",
      "Epoch 60/100\n",
      "Epoch 00060: val_loss did not improve\n",
      " - 9s - loss: 0.0259 - acc: 0.4792 - val_loss: 0.3539 - val_acc: 0.4266\n",
      "Epoch 61/100\n",
      "Epoch 00061: val_loss did not improve\n",
      " - 9s - loss: 0.0186 - acc: 0.4815 - val_loss: 0.3686 - val_acc: 0.4242\n",
      "Epoch 62/100\n",
      "Epoch 00062: val_loss did not improve\n",
      " - 9s - loss: 0.0213 - acc: 0.4804 - val_loss: 0.3763 - val_acc: 0.4239\n",
      "Epoch 63/100\n",
      "Epoch 00063: val_loss did not improve\n",
      " - 9s - loss: 0.0193 - acc: 0.4811 - val_loss: 0.3559 - val_acc: 0.4278\n",
      "Epoch 64/100\n",
      "Epoch 00064: val_loss did not improve\n",
      " - 9s - loss: 0.0165 - acc: 0.4819 - val_loss: 0.4786 - val_acc: 0.4070\n",
      "Epoch 65/100\n",
      "Epoch 00065: val_loss did not improve\n",
      " - 9s - loss: 0.0212 - acc: 0.4806 - val_loss: 0.4190 - val_acc: 0.4182\n",
      "Epoch 66/100\n",
      "Epoch 00066: val_loss did not improve\n",
      " - 9s - loss: 0.0186 - acc: 0.4813 - val_loss: 0.3795 - val_acc: 0.4255\n",
      "Epoch 67/100\n",
      "Epoch 00067: val_loss did not improve\n",
      " - 9s - loss: 0.0173 - acc: 0.4816 - val_loss: 0.3788 - val_acc: 0.4275\n",
      "Epoch 68/100\n",
      "Epoch 00068: val_loss did not improve\n",
      " - 9s - loss: 0.0160 - acc: 0.4820 - val_loss: 0.3958 - val_acc: 0.4225\n",
      "Epoch 69/100\n",
      "Epoch 00069: val_loss did not improve\n",
      " - 9s - loss: 0.0182 - acc: 0.4813 - val_loss: 0.3939 - val_acc: 0.4269\n",
      "Epoch 70/100\n",
      "Epoch 00070: val_loss did not improve\n",
      " - 9s - loss: 0.0166 - acc: 0.4815 - val_loss: 0.3876 - val_acc: 0.4255\n",
      "Epoch 71/100\n",
      "Epoch 00071: val_loss did not improve\n",
      " - 9s - loss: 0.0130 - acc: 0.4828 - val_loss: 0.4165 - val_acc: 0.4215\n",
      "Epoch 72/100\n",
      "Epoch 00072: val_loss did not improve\n",
      " - 9s - loss: 0.0170 - acc: 0.4816 - val_loss: 0.4371 - val_acc: 0.4151\n",
      "Epoch 73/100\n",
      "Epoch 00073: val_loss did not improve\n",
      " - 9s - loss: 0.0174 - acc: 0.4812 - val_loss: 0.3809 - val_acc: 0.4285\n",
      "Epoch 74/100\n",
      "Epoch 00074: val_loss did not improve\n",
      " - 9s - loss: 0.0136 - acc: 0.4826 - val_loss: 0.3704 - val_acc: 0.4310\n",
      "Epoch 75/100\n",
      "Epoch 00075: val_loss did not improve\n",
      " - 9s - loss: 0.0147 - acc: 0.4818 - val_loss: 0.3695 - val_acc: 0.4311\n",
      "Epoch 76/100\n",
      "Epoch 00076: val_loss did not improve\n",
      " - 9s - loss: 0.0113 - acc: 0.4832 - val_loss: 0.4520 - val_acc: 0.4183\n",
      "Epoch 77/100\n",
      "Epoch 00077: val_loss did not improve\n",
      " - 9s - loss: 0.0150 - acc: 0.4825 - val_loss: 0.4419 - val_acc: 0.4194\n",
      "Epoch 78/100\n",
      "Epoch 00078: val_loss did not improve\n",
      " - 9s - loss: 0.0135 - acc: 0.4826 - val_loss: 0.4023 - val_acc: 0.4266\n",
      "Epoch 79/100\n",
      "Epoch 00079: val_loss did not improve\n",
      " - 9s - loss: 0.0143 - acc: 0.4821 - val_loss: 0.4226 - val_acc: 0.4219\n",
      "Epoch 80/100\n",
      "Epoch 00080: val_loss did not improve\n",
      " - 9s - loss: 0.0130 - acc: 0.4827 - val_loss: 0.4018 - val_acc: 0.4267\n",
      "Epoch 81/100\n",
      "Epoch 00081: val_loss did not improve\n",
      " - 9s - loss: 0.0121 - acc: 0.4832 - val_loss: 0.3814 - val_acc: 0.4264\n",
      "Epoch 82/100\n",
      "Epoch 00082: val_loss did not improve\n",
      " - 9s - loss: 0.0140 - acc: 0.4824 - val_loss: 0.4709 - val_acc: 0.4126\n",
      "Epoch 83/100\n",
      "Epoch 00083: val_loss did not improve\n",
      " - 9s - loss: 0.0108 - acc: 0.4833 - val_loss: 0.3809 - val_acc: 0.4303\n",
      "Epoch 84/100\n",
      "Epoch 00084: val_loss did not improve\n",
      " - 9s - loss: 0.0112 - acc: 0.4831 - val_loss: 0.4125 - val_acc: 0.4234\n",
      "Epoch 85/100\n",
      "Epoch 00085: val_loss did not improve\n",
      " - 9s - loss: 0.0137 - acc: 0.4823 - val_loss: 0.4708 - val_acc: 0.4172\n",
      "Epoch 86/100\n",
      "Epoch 00086: val_loss did not improve\n",
      " - 9s - loss: 0.0140 - acc: 0.4829 - val_loss: 0.4162 - val_acc: 0.4264\n",
      "Epoch 87/100\n",
      "Epoch 00087: val_loss did not improve\n",
      " - 9s - loss: 0.0087 - acc: 0.4839 - val_loss: 0.4624 - val_acc: 0.4188\n",
      "Epoch 88/100\n",
      "Epoch 00088: val_loss did not improve\n",
      " - 9s - loss: 0.0110 - acc: 0.4830 - val_loss: 0.4442 - val_acc: 0.4194\n",
      "Epoch 89/100\n",
      "Epoch 00089: val_loss did not improve\n",
      " - 9s - loss: 0.0110 - acc: 0.4831 - val_loss: 0.3865 - val_acc: 0.4285\n",
      "Epoch 90/100\n",
      "Epoch 00090: val_loss did not improve\n",
      " - 9s - loss: 0.0092 - acc: 0.4836 - val_loss: 0.3826 - val_acc: 0.4304\n",
      "Epoch 91/100\n",
      "Epoch 00091: val_loss did not improve\n",
      " - 9s - loss: 0.0117 - acc: 0.4831 - val_loss: 0.3864 - val_acc: 0.4298\n",
      "Epoch 92/100\n",
      "Epoch 00092: val_loss did not improve\n",
      " - 9s - loss: 0.0117 - acc: 0.4828 - val_loss: 0.4040 - val_acc: 0.4272\n",
      "Epoch 93/100\n",
      "Epoch 00093: val_loss did not improve\n",
      " - 9s - loss: 0.0055 - acc: 0.4845 - val_loss: 0.4648 - val_acc: 0.4166\n",
      "Epoch 94/100\n",
      "Epoch 00094: val_loss did not improve\n",
      " - 9s - loss: 0.0103 - acc: 0.4834 - val_loss: 0.4246 - val_acc: 0.4234\n",
      "Epoch 95/100\n",
      "Epoch 00095: val_loss did not improve\n",
      " - 9s - loss: 0.0090 - acc: 0.4836 - val_loss: 0.4336 - val_acc: 0.4211\n",
      "Epoch 96/100\n",
      "Epoch 00096: val_loss did not improve\n",
      " - 9s - loss: 0.0111 - acc: 0.4831 - val_loss: 0.4045 - val_acc: 0.4299\n",
      "Epoch 97/100\n",
      "Epoch 00097: val_loss did not improve\n",
      " - 9s - loss: 0.0095 - acc: 0.4830 - val_loss: 0.4066 - val_acc: 0.4258\n",
      "Epoch 98/100\n",
      "Epoch 00098: val_loss did not improve\n",
      " - 9s - loss: 0.0077 - acc: 0.4839 - val_loss: 0.4563 - val_acc: 0.4233\n",
      "Epoch 99/100\n",
      "Epoch 00099: val_loss did not improve\n",
      " - 9s - loss: 0.0094 - acc: 0.4834 - val_loss: 0.4342 - val_acc: 0.4209\n",
      "Epoch 100/100\n",
      "Epoch 00100: val_loss did not improve\n",
      " - 9s - loss: 0.0078 - acc: 0.4838 - val_loss: 0.3996 - val_acc: 0.4290\n",
      "CPU times: user 43min 21s, sys: 4min, total: 47min 22s\n",
      "Wall time: 15min 5s\n"
     ]
    }
   ],
   "source": [
    "%%time\n",
    "# Run training\n",
    "model.compile(optimizer='rmsprop', loss='categorical_crossentropy', metrics=['accuracy'])\n",
    "history = model.fit([encoder_input_data, decoder_input_data],\n",
    "                    decoder_target_data,\n",
    "                    batch_size=batch_size,\n",
    "                    epochs=epochs,\n",
    "                    validation_split=0.2,verbose=2, callbacks=[checkpoint])"
   ]
  },
  {
   "cell_type": "markdown",
   "metadata": {},
   "source": [
    "## Save Results "
   ]
  },
  {
   "cell_type": "code",
   "execution_count": 50,
   "metadata": {
    "collapsed": false
   },
   "outputs": [],
   "source": [
    "with open('Files/train_history_model5', 'wb') as file_pi:\n",
    "    pickle.dump(history.history, file_pi)"
   ]
  },
  {
   "cell_type": "code",
   "execution_count": 38,
   "metadata": {
    "collapsed": true
   },
   "outputs": [],
   "source": [
    "# Save Weights\n",
    "save_path = '3000-softmax-no-dropout.h5'\n",
    "model.save_weights('Models/' + save_path)"
   ]
  },
  {
   "cell_type": "code",
   "execution_count": 39,
   "metadata": {
    "collapsed": false
   },
   "outputs": [
    {
     "name": "stdout",
     "output_type": "stream",
     "text": [
      "dict_keys(['val_loss', 'val_acc', 'loss', 'acc'])\n"
     ]
    }
   ],
   "source": [
    "%matplotlib inline\n",
    "# list all data in history\n",
    "print(history.history.keys())"
   ]
  },
  {
   "cell_type": "markdown",
   "metadata": {},
   "source": [
    "## Summary and Plots "
   ]
  },
  {
   "cell_type": "markdown",
   "metadata": {},
   "source": [
    "|     Model Name     | Test File     | Best Epoch Score | val_acc | val_loss | loss | acc    | Time|\n",
    "|:------------------:|---------------|-----------------:|---------|----------|------|--------|-----|\n",
    "| Model5.h5    | Corpus/test100verbs.csv      |   54    |  0.423  |  0.340   | 0.030|0.4789  |15 min|"
   ]
  },
  {
   "cell_type": "code",
   "execution_count": 51,
   "metadata": {
    "code_folding": [
     0
    ],
    "collapsed": false
   },
   "outputs": [
    {
     "data": {
      "image/png": "[encoded data removed]",
      "text/plain": [
       "<Figure size 432x288 with 1 Axes>"
      ]
     },
     "metadata": {},
     "output_type": "display_data"
    }
   ],
   "source": [
    "# summarize history for accuracy\n",
    "plt.plot(history.history['acc'])\n",
    "plt.plot(history.history['val_acc'])\n",
    "plt.title('model accuracy')\n",
    "plt.ylabel('accuracy')\n",
    "plt.xlabel('epoch')\n",
    "plt.legend(['train', 'test'], loc='upper left');"
   ]
  },
  {
   "cell_type": "code",
   "execution_count": 53,
   "metadata": {
    "code_folding": [
     0
    ],
    "collapsed": false
   },
   "outputs": [
    {
     "data": {
      "image/png": "[encoded data removed]",
      "text/plain": [
       "<Figure size 432x288 with 1 Axes>"
      ]
     },
     "metadata": {},
     "output_type": "display_data"
    }
   ],
   "source": [
    "# summarize history for loss\n",
    "plt.plot(history.history['loss'])\n",
    "plt.plot(history.history['val_loss'])\n",
    "plt.title('model loss')\n",
    "plt.ylabel('loss')\n",
    "plt.xlabel('epoch')\n",
    "plt.legend(['train', 'test'], loc='upper left');"
   ]
  },
  {
   "cell_type": "markdown",
   "metadata": {},
   "source": [
    "## Inference Mode "
   ]
  },
  {
   "cell_type": "code",
   "execution_count": 47,
   "metadata": {
    "code_folding": [
     0
    ],
    "collapsed": false
   },
   "outputs": [],
   "source": [
    "# Define an input sequence and process it.\n",
    "encoder_inputs = Input(shape=(None, num_encoder_tokens))\n",
    "encoder = LSTM(latent_dim, return_state=True)\n",
    "encoder_outputs, state_h, state_c = encoder(encoder_inputs)\n",
    "# We discard `encoder_outputs` and only keep the states.\n",
    "encoder_states = [state_h, state_c]\n",
    "\n",
    "# Set up the decoder, using `encoder_states` as initial state.\n",
    "decoder_inputs = Input(shape=(None, num_decoder_tokens))\n",
    "# We set up our decoder to return full output sequences,\n",
    "# and to return internal states as well. We don't use the\n",
    "# return states in the training model, but we will use them in inference.\n",
    "decoder_lstm = LSTM(latent_dim, return_sequences=True, return_state=True)\n",
    "decoder_outputs, _, _ = decoder_lstm(decoder_inputs,\n",
    "                                     initial_state=encoder_states)\n",
    "decoder_dense = Dense(num_decoder_tokens, activation='softmax')\n",
    "decoder_outputs = decoder_dense(decoder_outputs)\n",
    "\n",
    "# Define the model that will turn\n",
    "# `encoder_input_data` & `decoder_input_data` into `decoder_target_data`\n",
    "model = Model([encoder_inputs, decoder_inputs], decoder_outputs)\n",
    "model.load_weights('Models/3000-softmax-no-dropout.h5')\n",
    "\n",
    "# Next: inference mode (sampling).\n",
    "# Here's the drill:\n",
    "# 1) encode input and retrieve initial decoder state\n",
    "# 2) run one step of decoder with this initial state\n",
    "# and a \"start of sequence\" token as target.\n",
    "# Output will be the next target token\n",
    "# 3) Repeat with the current target token and current states\n",
    "\n",
    "# Define sampling models\n",
    "encoder_model = Model(encoder_inputs, encoder_states)\n",
    "\n",
    "decoder_state_input_h = Input(shape=(latent_dim,))\n",
    "decoder_state_input_c = Input(shape=(latent_dim,))\n",
    "decoder_states_inputs = [decoder_state_input_h, decoder_state_input_c]\n",
    "decoder_outputs, state_h, state_c = decoder_lstm(\n",
    "    decoder_inputs, initial_state=decoder_states_inputs)\n",
    "decoder_states = [state_h, state_c]\n",
    "decoder_outputs = decoder_dense(decoder_outputs)\n",
    "decoder_model = Model(\n",
    "    [decoder_inputs] + decoder_states_inputs,\n",
    "    [decoder_outputs] + decoder_states)\n",
    "\n",
    "# Reverse-lookup token index to decode sequences back to\n",
    "# something readable.\n",
    "reverse_input_char_index = dict(\n",
    "    (i, char) for char, i in input_token_index.items())\n",
    "reverse_target_char_index = dict(\n",
    "    (i, char) for char, i in target_token_index.items())"
   ]
  },
  {
   "cell_type": "markdown",
   "metadata": {},
   "source": [
    "## Test it on training set "
   ]
  },
  {
   "cell_type": "code",
   "execution_count": 45,
   "metadata": {
    "code_folding": [
     0
    ],
    "collapsed": true
   },
   "outputs": [],
   "source": [
    "def decode_sequence(input_seq):\n",
    "    # Encode the input as state vectors.\n",
    "    states_value = encoder_model.predict(input_seq)\n",
    "\n",
    "    # Generate empty target sequence of length 1.\n",
    "    target_seq = np.zeros((1, 1, num_decoder_tokens))\n",
    "    # Populate the first character of target sequence with the start character.\n",
    "    target_seq[0, 0, target_token_index['\\t']] = 1.\n",
    "\n",
    "    # Sampling loop for a batch of sequences\n",
    "    # (to simplify, here we assume a batch of size 1).\n",
    "    stop_condition = False\n",
    "    decoded_sentence = ''\n",
    "    while not stop_condition:\n",
    "        output_tokens, h, c = decoder_model.predict(\n",
    "            [target_seq] + states_value)\n",
    "\n",
    "        # Sample a token\n",
    "        sampled_token_index = np.argmax(output_tokens[0, -1, :])\n",
    "        sampled_char = reverse_target_char_index[sampled_token_index]\n",
    "        decoded_sentence += sampled_char\n",
    "\n",
    "        # Exit condition: either hit max length\n",
    "        # or find stop character.\n",
    "        if (sampled_char == '\\n' or\n",
    "           len(decoded_sentence) > max_decoder_seq_length):\n",
    "            stop_condition = True\n",
    "\n",
    "        # Update the target sequence (of length 1).\n",
    "        target_seq = np.zeros((1, 1, num_decoder_tokens))\n",
    "        target_seq[0, 0, sampled_token_index] = 1.\n",
    "\n",
    "        # Update states\n",
    "        states_value = [h, c]\n",
    "\n",
    "    return decoded_sentence"
   ]
  },
  {
   "cell_type": "code",
   "execution_count": 62,
   "metadata": {
    "code_folding": [
     0
    ],
    "collapsed": true
   },
   "outputs": [],
   "source": [
    "def encode_sequence(sentence, encoding_dict = input_token_index):\n",
    "    encoder_input_data = np.zeros((1,max_encoder_seq_length,len(encoding_dict)))\n",
    "    for t, char in enumerate(sentence):\n",
    "        encoder_input_data[0,t, encoding_dict[char]] = 1.\n",
    "    return encoder_input_data "
   ]
  },
  {
   "cell_type": "code",
   "execution_count": 63,
   "metadata": {
    "code_folding": [
     0
    ],
    "collapsed": true
   },
   "outputs": [],
   "source": [
    "def predictions(df_test):\n",
    "    \n",
    "    df_test['enconding'] = df_test.infinitivo.apply(encode_sequence).apply(decode_sequence)\n",
    "    return test"
   ]
  },
  {
   "cell_type": "code",
   "execution_count": 66,
   "metadata": {
    "code_folding": [
     0
    ],
    "collapsed": true
   },
   "outputs": [],
   "source": [
    "def predictions(df_test):\n",
    "    \n",
    "    df_test['enconding'] = df_test.infinitivo.apply(encode_sequence).apply(decode_sequence)\n",
    "    return df_test"
   ]
  },
  {
   "cell_type": "code",
   "execution_count": 48,
   "metadata": {
    "code_folding": [
     0
    ],
    "collapsed": true
   },
   "outputs": [
    {
     "name": "stdout",
     "output_type": "stream",
     "text": [
      "-\n",
      "Input sentence: ir\n",
      "Decoded sentence: vou\n",
      "\n",
      "-\n",
      "Input sentence: ser\n",
      "Decoded sentence: sou\n",
      "\n",
      "-\n",
      "Input sentence: fazer\n",
      "Decoded sentence: faço\n",
      "\n",
      "-\n",
      "Input sentence: amar\n",
      "Decoded sentence: amo\n",
      "\n",
      "-\n",
      "Input sentence: estar\n",
      "Decoded sentence: estou\n",
      "\n",
      "-\n",
      "Input sentence: ver\n",
      "Decoded sentence: vejo\n",
      "\n",
      "-\n",
      "Input sentence: vir\n",
      "Decoded sentence: venho\n",
      "\n",
      "-\n",
      "Input sentence: ter\n",
      "Decoded sentence: tenho\n",
      "\n",
      "-\n",
      "Input sentence: poder\n",
      "Decoded sentence: posso\n",
      "\n",
      "-\n",
      "Input sentence: dar\n",
      "Decoded sentence: dou\n",
      "\n",
      "-\n",
      "Input sentence: haver\n",
      "Decoded sentence: hei\n",
      "\n",
      "-\n",
      "Input sentence: partir\n",
      "Decoded sentence: parto\n",
      "\n",
      "-\n",
      "Input sentence: comer\n",
      "Decoded sentence: como\n",
      "\n",
      "-\n",
      "Input sentence: pôr\n",
      "Decoded sentence: ponho\n",
      "\n",
      "-\n",
      "Input sentence: dizer\n",
      "Decoded sentence: digo\n",
      "\n",
      "-\n",
      "Input sentence: estudar\n",
      "Decoded sentence: estudo\n",
      "\n",
      "-\n",
      "Input sentence: falar\n",
      "Decoded sentence: falo\n",
      "\n",
      "-\n",
      "Input sentence: cantar\n",
      "Decoded sentence: canto\n",
      "\n",
      "-\n",
      "Input sentence: rir\n",
      "Decoded sentence: rio\n",
      "\n",
      "-\n",
      "Input sentence: sair\n",
      "Decoded sentence: saio\n",
      "\n",
      "-\n",
      "Input sentence: querer\n",
      "Decoded sentence: quero\n",
      "\n",
      "-\n",
      "Input sentence: trazer\n",
      "Decoded sentence: trago\n",
      "\n",
      "-\n",
      "Input sentence: vender\n",
      "Decoded sentence: vendo\n",
      "\n",
      "-\n",
      "Input sentence: beber\n",
      "Decoded sentence: bebo\n",
      "\n",
      "-\n",
      "Input sentence: correr\n",
      "Decoded sentence: corro\n",
      "\n",
      "-\n",
      "Input sentence: ler\n",
      "Decoded sentence: leio\n",
      "\n",
      "-\n",
      "Input sentence: saber\n",
      "Decoded sentence: sei\n",
      "\n",
      "-\n",
      "Input sentence: sorrir\n",
      "Decoded sentence: sorrio\n",
      "\n",
      "-\n",
      "Input sentence: dormir\n",
      "Decoded sentence: durmo\n",
      "\n",
      "-\n",
      "Input sentence: sentir\n",
      "Decoded sentence: sinto\n",
      "\n",
      "-\n",
      "Input sentence: agir\n",
      "Decoded sentence: ajo\n",
      "\n",
      "-\n",
      "Input sentence: andar\n",
      "Decoded sentence: ando\n",
      "\n",
      "-\n",
      "Input sentence: escrever\n",
      "Decoded sentence: escrevo\n",
      "\n",
      "-\n",
      "Input sentence: brincar\n",
      "Decoded sentence: brinco\n",
      "\n",
      "-\n",
      "Input sentence: gostar\n",
      "Decoded sentence: gosto\n",
      "\n",
      "-\n",
      "Input sentence: ouvir\n",
      "Decoded sentence: ouço\n",
      "\n",
      "-\n",
      "Input sentence: corrigir\n",
      "Decoded sentence: corrimbo\n",
      "\n",
      "-\n",
      "Input sentence: pedir\n",
      "Decoded sentence: peço\n",
      "\n",
      "-\n",
      "Input sentence: chegar\n",
      "Decoded sentence: chego\n",
      "\n",
      "-\n",
      "Input sentence: jogar\n",
      "Decoded sentence: jogo\n",
      "\n",
      "-\n",
      "Input sentence: caber\n",
      "Decoded sentence: caibo\n",
      "\n",
      "-\n",
      "Input sentence: receber\n",
      "Decoded sentence: recebo\n",
      "\n",
      "-\n",
      "Input sentence: dançar\n",
      "Decoded sentence: danço\n",
      "\n",
      "-\n",
      "Input sentence: ficar\n",
      "Decoded sentence: fico\n",
      "\n",
      "-\n",
      "Input sentence: pensar\n",
      "Decoded sentence: penso\n",
      "\n",
      "-\n",
      "Input sentence: chamar\n",
      "Decoded sentence: chamo\n",
      "\n",
      "-\n",
      "Input sentence: crer\n",
      "Decoded sentence: creio\n",
      "\n",
      "-\n",
      "Input sentence: abrir\n",
      "Decoded sentence: abro\n",
      "\n",
      "-\n",
      "Input sentence: manter\n",
      "Decoded sentence: mantenho\n",
      "\n",
      "-\n",
      "Input sentence: expor\n",
      "Decoded sentence: exponho\n",
      "\n",
      "-\n",
      "Input sentence: encontrar\n",
      "Decoded sentence: encontrovo\n",
      "\n",
      "-\n",
      "Input sentence: lembrar\n",
      "Decoded sentence: lembro\n",
      "\n",
      "-\n",
      "Input sentence: cair\n",
      "Decoded sentence: caio\n",
      "\n",
      "-\n",
      "Input sentence: nascer\n",
      "Decoded sentence: nasço\n",
      "\n",
      "-\n",
      "Input sentence: começar\n",
      "Decoded sentence: começo\n",
      "\n",
      "-\n",
      "Input sentence: aprender\n",
      "Decoded sentence: aprendo\n",
      "\n",
      "-\n",
      "Input sentence: conseguir\n",
      "Decoded sentence: consigo\n",
      "\n",
      "-\n",
      "Input sentence: intervir\n",
      "Decoded sentence: intervenho\n",
      "\n",
      "-\n",
      "Input sentence: conhecer\n",
      "Decoded sentence: conheço\n",
      "\n",
      "-\n",
      "Input sentence: viver\n",
      "Decoded sentence: vivo\n",
      "\n",
      "-\n",
      "Input sentence: perder\n",
      "Decoded sentence: perco\n",
      "\n",
      "-\n",
      "Input sentence: comprar\n",
      "Decoded sentence: compro\n",
      "\n",
      "-\n",
      "Input sentence: usar\n",
      "Decoded sentence: uso\n",
      "\n",
      "-\n",
      "Input sentence: pular\n",
      "Decoded sentence: pulo\n",
      "\n",
      "-\n",
      "Input sentence: viajar\n",
      "Decoded sentence: viajo\n",
      "\n",
      "-\n",
      "Input sentence: voar\n",
      "Decoded sentence: voo\n",
      "\n",
      "-\n",
      "Input sentence: passear\n",
      "Decoded sentence: passeio\n",
      "\n",
      "-\n",
      "Input sentence: dividir\n",
      "Decoded sentence: divido\n",
      "\n",
      "-\n",
      "Input sentence: trabalhar\n",
      "Decoded sentence: trabalho\n",
      "\n",
      "-\n",
      "Input sentence: voltar\n",
      "Decoded sentence: volto\n",
      "\n",
      "-\n",
      "Input sentence: dirigir\n",
      "Decoded sentence: dirijo\n",
      "\n",
      "-\n",
      "Input sentence: subir\n",
      "Decoded sentence: subo\n",
      "\n",
      "-\n",
      "Input sentence: levar\n",
      "Decoded sentence: levo\n",
      "\n",
      "-\n",
      "Input sentence: dever\n",
      "Decoded sentence: devenho\n",
      "\n",
      "-\n",
      "Input sentence: proteger\n",
      "Decoded sentence: protejo\n",
      "\n",
      "-\n",
      "Input sentence: entender\n",
      "Decoded sentence: entendo\n",
      "\n",
      "-\n",
      "Input sentence: compor\n",
      "Decoded sentence: componho\n",
      "\n",
      "-\n",
      "Input sentence: parar\n",
      "Decoded sentence: paro\n",
      "\n",
      "-\n",
      "Input sentence: achar\n",
      "Decoded sentence: acho\n",
      "\n",
      "-\n",
      "Input sentence: olhar\n",
      "Decoded sentence: olho\n",
      "\n",
      "-\n",
      "Input sentence: passar\n",
      "Decoded sentence: passo\n",
      "\n",
      "-\n",
      "Input sentence: cumprir\n",
      "Decoded sentence: cumpro\n",
      "\n",
      "-\n",
      "Input sentence: seguir\n",
      "Decoded sentence: sigo\n",
      "\n",
      "-\n",
      "Input sentence: colocar\n",
      "Decoded sentence: coloco\n",
      "\n",
      "-\n",
      "Input sentence: fugir\n",
      "Decoded sentence: fujo\n",
      "\n",
      "-\n",
      "Input sentence: imprimir\n",
      "Decoded sentence: imprimo\n",
      "\n",
      "-\n",
      "Input sentence: assistir\n",
      "Decoded sentence: assisto\n",
      "\n",
      "-\n",
      "Input sentence: deixar\n",
      "Decoded sentence: deixo\n",
      "\n",
      "-\n",
      "Input sentence: precisar\n",
      "Decoded sentence: preciso\n",
      "\n",
      "-\n",
      "Input sentence: medir\n",
      "Decoded sentence: meço\n",
      "\n",
      "-\n",
      "Input sentence: acordar\n",
      "Decoded sentence: acordo\n",
      "\n",
      "-\n",
      "Input sentence: tossir\n",
      "Decoded sentence: tusso\n",
      "\n",
      "-\n",
      "Input sentence: conversar\n",
      "Decoded sentence: converso\n",
      "\n",
      "-\n",
      "Input sentence: procurar\n",
      "Decoded sentence: procuro\n",
      "\n",
      "-\n",
      "Input sentence: mexer\n",
      "Decoded sentence: mexo\n",
      "\n",
      "-\n",
      "Input sentence: fingir\n",
      "Decoded sentence: finjo\n",
      "\n",
      "-\n",
      "Input sentence: esquecer\n",
      "Decoded sentence: esqueço\n",
      "\n",
      "-\n",
      "Input sentence: desejar\n",
      "Decoded sentence: desejo\n",
      "\n",
      "-\n",
      "Input sentence: lavar\n",
      "Decoded sentence: lavo\n",
      "\n",
      "-\n",
      "Input sentence: esperar\n",
      "Decoded sentence: espero\n",
      "\n"
     ]
    }
   ],
   "source": [
    "for seq_index in range(100):\n",
    "    # Take one sequence (part of the training set)\n",
    "    # for trying out decoding.\n",
    "    input_seq = encoder_input_data[seq_index: seq_index + 1]\n",
    "    decoded_sentence = decode_sequence(input_seq)\n",
    "    print('-')\n",
    "    print('Input sentence:', input_texts[seq_index])\n",
    "    print('Decoded sentence:', decoded_sentence)"
   ]
  },
  {
   "cell_type": "code",
   "execution_count": 80,
   "metadata": {
    "collapsed": false
   },
   "outputs": [
    {
     "data": {
      "text/plain": [
       "'escureço\\n'"
      ]
     },
     "execution_count": 80,
     "metadata": {},
     "output_type": "execute_result"
    }
   ],
   "source": [
    "decode_sequence(encode_sequence(\"escurecer\"))"
   ]
  },
  {
   "cell_type": "markdown",
   "metadata": {},
   "source": [
    "## Test it on the Testing set "
   ]
  },
  {
   "cell_type": "code",
   "execution_count": 256,
   "metadata": {
    "collapsed": true
   },
   "outputs": [],
   "source": [
    "df_Test = load_test(test_file)"
   ]
  },
  {
   "cell_type": "code",
   "execution_count": 257,
   "metadata": {
    "collapsed": false
   },
   "outputs": [],
   "source": [
    "df_Test['encoding'] = df_Test.iloc[:60].infinitivo.apply(encode_sequence).apply(decode_sequence)"
   ]
  },
  {
   "cell_type": "code",
   "execution_count": 258,
   "metadata": {
    "collapsed": true
   },
   "outputs": [
    {
     "data": {
      "text/plain": [
       "array([['deformar', 'deformo', 'deforrio\\n'],\n",
       "       ['inferiorizar', 'inferiorizo', 'infirro\\n'],\n",
       "       ['ticar', 'tico', 'tico\\n'],\n",
       "       ['traquear', 'traqueio', 'tranjo\\n'],\n",
       "       ['desencantar', 'desencanto', 'desencanto\\n'],\n",
       "       ['excetuar', 'excetuo', 'executo\\n'],\n",
       "       ['acarear', 'acareio', 'acarelo\\n'],\n",
       "       ['chispar', 'chispo', 'chiso\\n'],\n",
       "       ['drenar', 'dreno', 'redeno\\n'],\n",
       "       ['encarcerar', 'encarcero', 'encarero\\n'],\n",
       "       ['fustigar', 'fustigo', 'fustio\\n'],\n",
       "       ['ilidir', 'ilido', 'ilido\\n'],\n",
       "       ['maximizar', 'maximizo', 'mamigizo\\n'],\n",
       "       ['quantificar', 'quantifico', 'quantifico\\n'],\n",
       "       ['reconquistar', 'reconquisto', 'reconsilio\\n'],\n",
       "       ['talhar', 'talho', 'talho\\n'],\n",
       "       ['tralhar', 'tralho', 'tralho\\n'],\n",
       "       ['verear', 'vereio', 'verezo\\n'],\n",
       "       ['alarmar', 'alarmo', 'alarro\\n'],\n",
       "       ['dissimular', 'dissimulo', 'dissumplido\\n'],\n",
       "       ['ortografar', 'ortografo', 'ootrego\\n'],\n",
       "       ['regatear', 'regateio', 'regato\\n'],\n",
       "       ['escorraçar', 'escorraço', 'escorro\\n'],\n",
       "       ['extirpar', 'extirpo', 'extiro\\n'],\n",
       "       ['mutilar', 'mutilo', 'multipo\\n'],\n",
       "       ['desenterrar', 'desenterro', 'desentrelo\\n'],\n",
       "       ['enxotar', 'enxoto', 'enxoto\\n'],\n",
       "       ['expiar', 'expio', 'expio\\n'],\n",
       "       ['pernear', 'perneio', 'perenço\\n'],\n",
       "       ['propugnar', 'propugno', 'propugo\\n'],\n",
       "       ['represar', 'represo', 'represo\\n'],\n",
       "       ['retaliar', 'retalio', 'retalio\\n'],\n",
       "       ['taralhar', 'taralho', 'taralho\\n'],\n",
       "       ['amargar', 'amargo', 'amargo\\n'],\n",
       "       ['arquear', 'arqueio', 'arquejo\\n'],\n",
       "       ['desarmonizar', 'desarmonizo', 'desmarço\\n'],\n",
       "       ['esterilizar', 'esterilizo', 'estrialeço\\n'],\n",
       "       ['potenciar', 'potencio', 'potencio\\n'],\n",
       "       ['renomear', 'renomeio', 'remano\\n'],\n",
       "       ['adornar', 'adorno', 'adorno\\n'],\n",
       "       ['cantear', 'canteio', 'canteio\\n'],\n",
       "       ['cominar', 'comino', 'comino\\n'],\n",
       "       ['hortar', 'horto', 'hotro\\n'],\n",
       "       ['infundir', 'infundo', 'infundo\\n'],\n",
       "       ['morsegar', 'morsego', 'mmoresto\\n'],\n",
       "       ['canonizar', 'canonizo', 'canciono\\n'],\n",
       "       ['envaidecer', 'envaideço', 'envacideço\\n'],\n",
       "       ['intercalar', 'intercalo', 'intercelo\\n'],\n",
       "       ['ruar', 'ruo', 'ruo\\n'],\n",
       "       ['amossar', 'amosso', 'amosso\\n'],\n",
       "       ['atraiçoar', 'atraiçoo', 'atraio\\n'],\n",
       "       ['desacostumar', 'desacostumo', 'descasparso\\n'],\n",
       "       ['passagear', 'passageio', 'passeio\\n'],\n",
       "       ['sagrar', 'sagro', 'sagro\\n'],\n",
       "       ['sotopor', 'sotoponho', 'sopto\\n'],\n",
       "       ['albergar', 'albergo', 'albergo\\n'],\n",
       "       ['arbitrar', 'arbitro', 'abrito\\n'],\n",
       "       ['desimpedir', 'desimpeço', 'desempio\\n'],\n",
       "       ['dignar', 'digno', 'digno\\n'],\n",
       "       ['fraturar', 'fraturo', 'fraturo\\n']], dtype=object)"
      ]
     },
     "execution_count": 258,
     "metadata": {},
     "output_type": "execute_result"
    }
   ],
   "source": [
    "df_Test.head(60).values"
   ]
  },
  {
   "cell_type": "code",
   "execution_count": 259,
   "metadata": {
    "collapsed": false
   },
   "outputs": [],
   "source": [
    "def test_accuracy(df, len_test):\n",
    "    df_Test['encoding'] = df_Test['encoding'].apply(lambda x: str(x)[:-1])\n",
    "\n",
    "    df_Test['conjugado'] = df_Test['conjugado'].apply(lambda x: str(x))\n",
    "\n",
    "    df = df_Test\n",
    "\n",
    "    matches = df[df['encoding'] == df['conjugado']]\n",
    "\n",
    "    return float(len(matches))/len_test "
   ]
  },
  {
   "cell_type": "code",
   "execution_count": 260,
   "metadata": {
    "collapsed": false
   },
   "outputs": [
    {
     "data": {
      "text/plain": [
       "0.38333333333333336"
      ]
     },
     "execution_count": 260,
     "metadata": {},
     "output_type": "execute_result"
    }
   ],
   "source": [
    "test_accuracy(df_Test, 60)"
   ]
  },
  {
   "cell_type": "markdown",
   "metadata": {},
   "source": [
    "---"
   ]
  },
  {
   "cell_type": "markdown",
   "metadata": {},
   "source": [
    "# Encoder-Decoder - Phonetic Transcription - 325 samples - softmax"
   ]
  },
  {
   "cell_type": "code",
   "execution_count": null,
   "metadata": {
    "collapsed": true
   },
   "outputs": [],
   "source": []
  },
  {
   "cell_type": "markdown",
   "metadata": {},
   "source": [
    "## Run Settings "
   ]
  },
  {
   "cell_type": "code",
   "execution_count": 75,
   "metadata": {
    "collapsed": false
   },
   "outputs": [],
   "source": [
    "%run run_model.py"
   ]
  },
  {
   "cell_type": "markdown",
   "metadata": {},
   "source": [
    "## Settings "
   ]
  },
  {
   "cell_type": "code",
   "execution_count": 261,
   "metadata": {
    "collapsed": false
   },
   "outputs": [],
   "source": [
    "batch_size = 64  # Batch size for training.\n",
    "epochs = 130  # Number of epochs to train for.\n",
    "latent_dim = 256  # Latent dimensionality of the encoding space.\n",
    "num_samples = 325  # Number of samples to train on.\n",
    "# Path to the data txt file on disk.\n",
    "test_size = 100\n",
    "complete_corpus_path = 'Corpus/train_lstm_corpus.csv'\n",
    "\n",
    "train_file, test_file = load_train_test(corpus = complete_corpus_path, \n",
    "                                        num_samples=num_samples, \n",
    "                                        test_size=test_size)"
   ]
  },
  {
   "cell_type": "markdown",
   "metadata": {},
   "source": [
    "## Vectorize Data"
   ]
  },
  {
   "cell_type": "code",
   "execution_count": 262,
   "metadata": {
    "code_folding": [
     0
    ],
    "collapsed": false
   },
   "outputs": [
    {
     "name": "stdout",
     "output_type": "stream",
     "text": [
      "Number of samples: 325\n",
      "Number of unique input tokens: 22\n",
      "Number of unique output tokens: 26\n",
      "Max sequence length for inputs: 11\n",
      "Max sequence length for outputs: 13\n"
     ]
    }
   ],
   "source": [
    "# Vectorize the data.\n",
    "input_texts = []\n",
    "target_texts = []\n",
    "input_characters = set()\n",
    "target_characters = set()\n",
    "with open(train_file, 'r', encoding='utf-8') as f:\n",
    "    lines = f.read().split('\\n')\n",
    "for line in lines[: min(num_samples, len(lines) - 1)]:\n",
    "    input_text, target_text = line.split(';')\n",
    "    # We use \"tab\" as the \"start sequence\" character\n",
    "    # for the targets, and \"\\n\" as \"end sequence\" character.\n",
    "    target_text = '\\t' + target_text + '\\n'\n",
    "    input_texts.append(input_text)\n",
    "    target_texts.append(target_text)\n",
    "    for char in input_text:\n",
    "        if char not in input_characters:\n",
    "            input_characters.add(char)\n",
    "    for char in target_text:\n",
    "        if char not in target_characters:\n",
    "            target_characters.add(char)\n",
    "\n",
    "input_characters = sorted(list(input_characters))\n",
    "target_characters = sorted(list(target_characters))\n",
    "num_encoder_tokens = len(input_characters)\n",
    "num_decoder_tokens = len(target_characters)\n",
    "max_encoder_seq_length = max([len(txt) for txt in input_texts])\n",
    "max_decoder_seq_length = max([len(txt) for txt in target_texts])\n",
    "\n",
    "print('Number of samples:', len(input_texts))\n",
    "print('Number of unique input tokens:', num_encoder_tokens)\n",
    "print('Number of unique output tokens:', num_decoder_tokens)\n",
    "print('Max sequence length for inputs:', max_encoder_seq_length)\n",
    "print('Max sequence length for outputs:', max_decoder_seq_length)\n",
    "\n",
    "# Dictionary of tokens\n",
    "input_token_index = dict(\n",
    "    [(char, i) for i, char in enumerate(input_characters)])\n",
    "target_token_index = dict(\n",
    "    [(char, i) for i, char in enumerate(target_characters)])\n",
    "\n",
    "encoder_input_data = np.zeros(\n",
    "    (len(input_texts), max_encoder_seq_length, num_encoder_tokens),\n",
    "    dtype='float32')\n",
    "decoder_input_data = np.zeros(\n",
    "    (len(input_texts), max_decoder_seq_length, num_decoder_tokens),\n",
    "    dtype='float32')\n",
    "decoder_target_data = np.zeros(\n",
    "    (len(input_texts), max_decoder_seq_length, num_decoder_tokens),\n",
    "    dtype='float32')\n",
    "\n",
    "for i, (input_text, target_text) in enumerate(zip(input_texts, target_texts)):\n",
    "    for t, char in enumerate(input_text):\n",
    "        encoder_input_data[i, t, input_token_index[char]] = 1.\n",
    "    for t, char in enumerate(target_text):\n",
    "        # decoder_target_data is ahead of decoder_input_data by one timestep\n",
    "        decoder_input_data[i, t, target_token_index[char]] = 1.\n",
    "        if t > 0:\n",
    "            # decoder_target_data will be ahead by one timestep\n",
    "            # and will not include the start character.\n",
    "            decoder_target_data[i, t - 1, target_token_index[char]] = 1."
   ]
  },
  {
   "cell_type": "markdown",
   "metadata": {},
   "source": [
    "## Model"
   ]
  },
  {
   "cell_type": "code",
   "execution_count": 268,
   "metadata": {
    "collapsed": true
   },
   "outputs": [],
   "source": [
    "# Define an input sequence and process it.\n",
    "encoder_inputs = Input(shape=(None, num_encoder_tokens))\n",
    "encoder = LSTM(latent_dim, return_state=True)\n",
    "encoder_outputs, state_h, state_c = encoder(encoder_inputs)\n",
    "# We discard `encoder_outputs` and only keep the states.\n",
    "encoder_states = [state_h, state_c]\n",
    "\n",
    "# Set up the decoder, using `encoder_states` as initial state.\n",
    "decoder_inputs = Input(shape=(None, num_decoder_tokens))\n",
    "# We set up our decoder to return full output sequences,\n",
    "# and to return internal states as well. We don't use the\n",
    "# return states in the training model, but we will use them in inference.\n",
    "decoder_lstm = LSTM(latent_dim, return_sequences=True, return_state=True)\n",
    "decoder_outputs, _, _ = decoder_lstm(decoder_inputs,\n",
    "                                     initial_state=encoder_states)\n",
    "decoder_dense = Dense(num_decoder_tokens, activation='softmax')\n",
    "decoder_outputs = decoder_dense(decoder_outputs)"
   ]
  },
  {
   "cell_type": "code",
   "execution_count": 269,
   "metadata": {
    "collapsed": true
   },
   "outputs": [],
   "source": [
    "# Define the model that will turn\n",
    "# `encoder_input_data` & `decoder_input_data` into `decoder_target_data`\n",
    "filename = 'Models/model6.h5'\n",
    "checkpoint = ModelCheckpoint(filename, monitor='val_loss', verbose=1, save_best_only=True, mode='min')\n",
    "model = Model([encoder_inputs, decoder_inputs], decoder_outputs)"
   ]
  },
  {
   "cell_type": "markdown",
   "metadata": {},
   "source": [
    "## Run Training "
   ]
  },
  {
   "cell_type": "code",
   "execution_count": 270,
   "metadata": {
    "collapsed": true
   },
   "outputs": [
    {
     "name": "stdout",
     "output_type": "stream",
     "text": [
      "Train on 260 samples, validate on 65 samples\n",
      "Epoch 1/130\n",
      "Epoch 00001: val_loss improved from inf to 1.64417, saving model to Models/model6.h5\n"
     ]
    },
    {
     "name": "stderr",
     "output_type": "stream",
     "text": [
      "/Users/Beatriz/Dropbox/Linguística/algoritmos/principal/WickelfeaturesProject/mestrado/lib/python3.6/site-packages/keras/engine/topology.py:2344: UserWarning: Layer lstm_18 was passed non-serializable keyword arguments: {'initial_state': [<tf.Tensor 'lstm_17/while/Exit_2:0' shape=(?, 256) dtype=float32>, <tf.Tensor 'lstm_17/while/Exit_3:0' shape=(?, 256) dtype=float32>]}. They will not be included in the serialized model (and thus will be missing at deserialization time).\n",
      "  str(node.arguments) + '. They will not be included '\n"
     ]
    },
    {
     "name": "stdout",
     "output_type": "stream",
     "text": [
      " - 3s - loss: 1.8408 - acc: 0.0879 - val_loss: 1.6442 - val_acc: 0.1053\n",
      "Epoch 2/130\n",
      "Epoch 00002: val_loss improved from 1.64417 to 1.53985, saving model to Models/model6.h5\n",
      " - 1s - loss: 1.5961 - acc: 0.1154 - val_loss: 1.5398 - val_acc: 0.1385\n",
      "Epoch 3/130\n",
      "Epoch 00003: val_loss improved from 1.53985 to 1.52422, saving model to Models/model6.h5\n",
      " - 1s - loss: 1.5367 - acc: 0.1402 - val_loss: 1.5242 - val_acc: 0.1420\n",
      "Epoch 4/130\n",
      "Epoch 00004: val_loss did not improve\n",
      " - 1s - loss: 1.5248 - acc: 0.1464 - val_loss: 1.5534 - val_acc: 0.0805\n",
      "Epoch 5/130\n",
      "Epoch 00005: val_loss improved from 1.52422 to 1.47230, saving model to Models/model6.h5\n",
      " - 1s - loss: 1.5240 - acc: 0.1308 - val_loss: 1.4723 - val_acc: 0.1680\n",
      "Epoch 6/130\n",
      "Epoch 00006: val_loss did not improve\n",
      " - 1s - loss: 1.4877 - acc: 0.1464 - val_loss: 1.9398 - val_acc: 0.0497\n",
      "Epoch 7/130\n",
      "Epoch 00007: val_loss did not improve\n",
      " - 1s - loss: 1.6059 - acc: 0.1388 - val_loss: 1.4766 - val_acc: 0.1763\n",
      "Epoch 8/130\n",
      "Epoch 00008: val_loss improved from 1.47230 to 1.46873, saving model to Models/model6.h5\n",
      " - 1s - loss: 1.4771 - acc: 0.1497 - val_loss: 1.4687 - val_acc: 0.1432\n",
      "Epoch 9/130\n",
      "Epoch 00009: val_loss improved from 1.46873 to 1.46154, saving model to Models/model6.h5\n",
      " - 1s - loss: 1.4806 - acc: 0.1482 - val_loss: 1.4615 - val_acc: 0.1574\n",
      "Epoch 10/130\n",
      "Epoch 00010: val_loss improved from 1.46154 to 1.43815, saving model to Models/model6.h5\n",
      " - 1s - loss: 1.4612 - acc: 0.1556 - val_loss: 1.4381 - val_acc: 0.1432\n",
      "Epoch 11/130\n",
      "Epoch 00011: val_loss did not improve\n",
      " - 1s - loss: 1.4487 - acc: 0.1607 - val_loss: 1.4682 - val_acc: 0.1669\n",
      "Epoch 12/130\n",
      "Epoch 00012: val_loss improved from 1.43815 to 1.43584, saving model to Models/model6.h5\n",
      " - 1s - loss: 1.4826 - acc: 0.1550 - val_loss: 1.4358 - val_acc: 0.1787\n",
      "Epoch 13/130\n",
      "Epoch 00013: val_loss improved from 1.43584 to 1.38524, saving model to Models/model6.h5\n",
      " - 1s - loss: 1.4270 - acc: 0.1882 - val_loss: 1.3852 - val_acc: 0.2071\n",
      "Epoch 14/130\n",
      "Epoch 00014: val_loss did not improve\n",
      " - 1s - loss: 1.3899 - acc: 0.2015 - val_loss: 1.4163 - val_acc: 0.1882\n",
      "Epoch 15/130\n",
      "Epoch 00015: val_loss improved from 1.38524 to 1.34230, saving model to Models/model6.h5\n",
      " - 1s - loss: 1.4379 - acc: 0.1820 - val_loss: 1.3423 - val_acc: 0.2095\n",
      "Epoch 16/130\n",
      "Epoch 00016: val_loss did not improve\n",
      " - 1s - loss: 1.3706 - acc: 0.2133 - val_loss: 1.3969 - val_acc: 0.1893\n",
      "Epoch 17/130\n",
      "Epoch 00017: val_loss improved from 1.34230 to 1.32667, saving model to Models/model6.h5\n",
      " - 1s - loss: 1.3545 - acc: 0.2033 - val_loss: 1.3267 - val_acc: 0.2237\n",
      "Epoch 18/130\n",
      "Epoch 00018: val_loss did not improve\n",
      " - 1s - loss: 1.3220 - acc: 0.2127 - val_loss: 1.3379 - val_acc: 0.2107\n",
      "Epoch 19/130\n",
      "Epoch 00019: val_loss did not improve\n",
      " - 1s - loss: 1.2886 - acc: 0.2370 - val_loss: 1.3998 - val_acc: 0.1964\n",
      "Epoch 20/130\n",
      "Epoch 00020: val_loss did not improve\n",
      " - 1s - loss: 1.3031 - acc: 0.2325 - val_loss: 1.3477 - val_acc: 0.2095\n",
      "Epoch 21/130\n",
      "Epoch 00021: val_loss improved from 1.32667 to 1.26973, saving model to Models/model6.h5\n",
      " - 1s - loss: 1.2611 - acc: 0.2438 - val_loss: 1.2697 - val_acc: 0.2343\n",
      "Epoch 22/130\n",
      "Epoch 00022: val_loss improved from 1.26973 to 1.25600, saving model to Models/model6.h5\n",
      " - 1s - loss: 1.2148 - acc: 0.2521 - val_loss: 1.2560 - val_acc: 0.2473\n",
      "Epoch 23/130\n",
      "Epoch 00023: val_loss did not improve\n",
      " - 1s - loss: 1.1995 - acc: 0.2470 - val_loss: 1.2915 - val_acc: 0.2024\n",
      "Epoch 24/130\n",
      "Epoch 00024: val_loss did not improve\n",
      " - 1s - loss: 1.1933 - acc: 0.2536 - val_loss: 1.3216 - val_acc: 0.1988\n",
      "Epoch 25/130\n",
      "Epoch 00025: val_loss improved from 1.25600 to 1.20246, saving model to Models/model6.h5\n",
      " - 1s - loss: 1.1932 - acc: 0.2544 - val_loss: 1.2025 - val_acc: 0.2556\n",
      "Epoch 26/130\n",
      "Epoch 00026: val_loss did not improve\n",
      " - 1s - loss: 1.1118 - acc: 0.2713 - val_loss: 1.5065 - val_acc: 0.1467\n",
      "Epoch 27/130\n",
      "Epoch 00027: val_loss did not improve\n",
      " - 1s - loss: 1.1955 - acc: 0.2462 - val_loss: 1.2361 - val_acc: 0.2331\n",
      "Epoch 28/130\n",
      "Epoch 00028: val_loss improved from 1.20246 to 1.18747, saving model to Models/model6.h5\n",
      " - 1s - loss: 1.0955 - acc: 0.2746 - val_loss: 1.1875 - val_acc: 0.2485\n",
      "Epoch 29/130\n",
      "Epoch 00029: val_loss improved from 1.18747 to 1.16728, saving model to Models/model6.h5\n",
      " - 1s - loss: 1.0565 - acc: 0.2917 - val_loss: 1.1673 - val_acc: 0.2509\n",
      "Epoch 30/130\n",
      "Epoch 00030: val_loss did not improve\n",
      " - 1s - loss: 1.0687 - acc: 0.2882 - val_loss: 1.2509 - val_acc: 0.2213\n",
      "Epoch 31/130\n",
      "Epoch 00031: val_loss improved from 1.16728 to 1.13960, saving model to Models/model6.h5\n",
      " - 1s - loss: 1.0610 - acc: 0.2953 - val_loss: 1.1396 - val_acc: 0.2592\n",
      "Epoch 32/130\n",
      "Epoch 00032: val_loss improved from 1.13960 to 1.13453, saving model to Models/model6.h5\n",
      " - 1s - loss: 1.0131 - acc: 0.3050 - val_loss: 1.1345 - val_acc: 0.2627\n",
      "Epoch 33/130\n",
      "Epoch 00033: val_loss improved from 1.13453 to 1.09399, saving model to Models/model6.h5\n",
      " - 1s - loss: 1.0045 - acc: 0.3080 - val_loss: 1.0940 - val_acc: 0.2840\n",
      "Epoch 34/130\n",
      "Epoch 00034: val_loss did not improve\n",
      " - 1s - loss: 0.9731 - acc: 0.3225 - val_loss: 1.1708 - val_acc: 0.2651\n",
      "Epoch 35/130\n",
      "Epoch 00035: val_loss did not improve\n",
      " - 1s - loss: 1.0024 - acc: 0.3068 - val_loss: 1.1145 - val_acc: 0.2828\n",
      "Epoch 36/130\n",
      "Epoch 00036: val_loss did not improve\n",
      " - 1s - loss: 0.9285 - acc: 0.3328 - val_loss: 1.1632 - val_acc: 0.2426\n",
      "Epoch 37/130\n",
      "Epoch 00037: val_loss did not improve\n",
      " - 1s - loss: 0.9458 - acc: 0.3172 - val_loss: 1.1062 - val_acc: 0.2769\n",
      "Epoch 38/130\n",
      "Epoch 00038: val_loss did not improve\n",
      " - 1s - loss: 0.9081 - acc: 0.3308 - val_loss: 1.0967 - val_acc: 0.2899\n",
      "Epoch 39/130\n",
      "Epoch 00039: val_loss did not improve\n",
      " - 1s - loss: 0.8969 - acc: 0.3376 - val_loss: 1.0955 - val_acc: 0.2746\n",
      "Epoch 40/130\n",
      "Epoch 00040: val_loss did not improve\n",
      " - 1s - loss: 0.8728 - acc: 0.3399 - val_loss: 1.1413 - val_acc: 0.2734\n",
      "Epoch 41/130\n",
      "Epoch 00041: val_loss improved from 1.09399 to 1.06703, saving model to Models/model6.h5\n",
      " - 1s - loss: 0.9007 - acc: 0.3337 - val_loss: 1.0670 - val_acc: 0.2769\n",
      "Epoch 42/130\n",
      "Epoch 00042: val_loss did not improve\n",
      " - 1s - loss: 0.8277 - acc: 0.3553 - val_loss: 1.2189 - val_acc: 0.2201\n",
      "Epoch 43/130\n",
      "Epoch 00043: val_loss improved from 1.06703 to 1.06437, saving model to Models/model6.h5\n",
      " - 1s - loss: 0.8985 - acc: 0.3322 - val_loss: 1.0644 - val_acc: 0.2757\n",
      "Epoch 44/130\n",
      "Epoch 00044: val_loss improved from 1.06437 to 0.98753, saving model to Models/model6.h5\n",
      " - 1s - loss: 0.8070 - acc: 0.3621 - val_loss: 0.9875 - val_acc: 0.3089\n",
      "Epoch 45/130\n",
      "Epoch 00045: val_loss did not improve\n",
      " - 1s - loss: 0.7920 - acc: 0.3615 - val_loss: 1.0246 - val_acc: 0.2923\n",
      "Epoch 46/130\n",
      "Epoch 00046: val_loss did not improve\n",
      " - 1s - loss: 0.7706 - acc: 0.3642 - val_loss: 1.1862 - val_acc: 0.2391\n",
      "Epoch 47/130\n",
      "Epoch 00047: val_loss did not improve\n",
      " - 1s - loss: 0.7968 - acc: 0.3533 - val_loss: 1.0917 - val_acc: 0.2698\n",
      "Epoch 48/130\n",
      "Epoch 00048: val_loss did not improve\n",
      " - 1s - loss: 0.7641 - acc: 0.3695 - val_loss: 1.0457 - val_acc: 0.2935\n",
      "Epoch 49/130\n",
      "Epoch 00049: val_loss did not improve\n",
      " - 1s - loss: 0.7337 - acc: 0.3811 - val_loss: 0.9979 - val_acc: 0.3077\n",
      "Epoch 50/130\n",
      "Epoch 00050: val_loss did not improve\n",
      " - 1s - loss: 0.7152 - acc: 0.3837 - val_loss: 1.0201 - val_acc: 0.2923\n",
      "Epoch 51/130\n",
      "Epoch 00051: val_loss did not improve\n",
      " - 1s - loss: 0.7060 - acc: 0.3831 - val_loss: 1.0357 - val_acc: 0.2793\n",
      "Epoch 52/130\n",
      "Epoch 00052: val_loss improved from 0.98753 to 0.97898, saving model to Models/model6.h5\n",
      " - 1s - loss: 0.7149 - acc: 0.3757 - val_loss: 0.9790 - val_acc: 0.3112\n",
      "Epoch 53/130\n",
      "Epoch 00053: val_loss did not improve\n",
      " - 1s - loss: 0.6788 - acc: 0.3911 - val_loss: 0.9956 - val_acc: 0.3077\n",
      "Epoch 54/130\n",
      "Epoch 00054: val_loss improved from 0.97898 to 0.97314, saving model to Models/model6.h5\n",
      " - 1s - loss: 0.6697 - acc: 0.3959 - val_loss: 0.9731 - val_acc: 0.3053\n",
      "Epoch 55/130\n",
      "Epoch 00055: val_loss did not improve\n",
      " - 1s - loss: 0.6479 - acc: 0.3997 - val_loss: 0.9864 - val_acc: 0.3053\n",
      "Epoch 56/130\n",
      "Epoch 00056: val_loss did not improve\n",
      " - 1s - loss: 0.6496 - acc: 0.3970 - val_loss: 1.0014 - val_acc: 0.3065\n",
      "Epoch 57/130\n",
      "Epoch 00057: val_loss did not improve\n",
      " - 1s - loss: 0.6566 - acc: 0.4030 - val_loss: 1.0232 - val_acc: 0.2888\n",
      "Epoch 58/130\n",
      "Epoch 00058: val_loss did not improve\n",
      " - 1s - loss: 0.6612 - acc: 0.3888 - val_loss: 1.0299 - val_acc: 0.2817\n",
      "Epoch 59/130\n",
      "Epoch 00059: val_loss did not improve\n",
      " - 1s - loss: 0.6117 - acc: 0.4059 - val_loss: 1.0162 - val_acc: 0.2828\n",
      "Epoch 60/130\n",
      "Epoch 00060: val_loss did not improve\n",
      " - 1s - loss: 0.5983 - acc: 0.4127 - val_loss: 0.9864 - val_acc: 0.3018\n",
      "Epoch 61/130\n",
      "Epoch 00061: val_loss did not improve\n",
      " - 1s - loss: 0.6292 - acc: 0.4074 - val_loss: 0.9899 - val_acc: 0.2911\n",
      "Epoch 62/130\n",
      "Epoch 00062: val_loss improved from 0.97314 to 0.94112, saving model to Models/model6.h5\n",
      " - 1s - loss: 0.5725 - acc: 0.4186 - val_loss: 0.9411 - val_acc: 0.3136\n",
      "Epoch 63/130\n",
      "Epoch 00063: val_loss did not improve\n",
      " - 1s - loss: 0.5608 - acc: 0.4337 - val_loss: 0.9720 - val_acc: 0.3136\n",
      "Epoch 64/130\n",
      "Epoch 00064: val_loss improved from 0.94112 to 0.92677, saving model to Models/model6.h5\n",
      " - 1s - loss: 0.5696 - acc: 0.4231 - val_loss: 0.9268 - val_acc: 0.3266\n",
      "Epoch 65/130\n",
      "Epoch 00065: val_loss did not improve\n",
      " - 1s - loss: 0.5346 - acc: 0.4355 - val_loss: 1.0133 - val_acc: 0.3006\n",
      "Epoch 66/130\n",
      "Epoch 00066: val_loss did not improve\n",
      " - 1s - loss: 0.5915 - acc: 0.4160 - val_loss: 0.9502 - val_acc: 0.3243\n",
      "Epoch 67/130\n",
      "Epoch 00067: val_loss did not improve\n",
      " - 1s - loss: 0.5148 - acc: 0.4402 - val_loss: 0.9277 - val_acc: 0.3266\n",
      "Epoch 68/130\n",
      "Epoch 00068: val_loss did not improve\n",
      " - 1s - loss: 0.5256 - acc: 0.4399 - val_loss: 1.0400 - val_acc: 0.2840\n",
      "Epoch 69/130\n",
      "Epoch 00069: val_loss improved from 0.92677 to 0.89435, saving model to Models/model6.h5\n",
      " - 1s - loss: 0.5488 - acc: 0.4284 - val_loss: 0.8943 - val_acc: 0.3373\n",
      "Epoch 70/130\n",
      "Epoch 00070: val_loss did not improve\n",
      " - 1s - loss: 0.5087 - acc: 0.4414 - val_loss: 0.9576 - val_acc: 0.3148\n",
      "Epoch 71/130\n",
      "Epoch 00071: val_loss did not improve\n",
      " - 1s - loss: 0.5013 - acc: 0.4429 - val_loss: 0.8961 - val_acc: 0.3408\n",
      "Epoch 72/130\n",
      "Epoch 00072: val_loss did not improve\n",
      " - 1s - loss: 0.4706 - acc: 0.4574 - val_loss: 0.9017 - val_acc: 0.3396\n",
      "Epoch 73/130\n",
      "Epoch 00073: val_loss did not improve\n",
      " - 1s - loss: 0.4677 - acc: 0.4559 - val_loss: 0.9255 - val_acc: 0.3243\n",
      "Epoch 74/130\n",
      "Epoch 00074: val_loss did not improve\n",
      " - 1s - loss: 0.4511 - acc: 0.4624 - val_loss: 1.0225 - val_acc: 0.3089\n",
      "Epoch 75/130\n",
      "Epoch 00075: val_loss did not improve\n",
      " - 1s - loss: 0.5146 - acc: 0.4343 - val_loss: 0.9381 - val_acc: 0.3290\n",
      "Epoch 76/130\n",
      "Epoch 00076: val_loss did not improve\n",
      " - 1s - loss: 0.4333 - acc: 0.4660 - val_loss: 0.9224 - val_acc: 0.3219\n",
      "Epoch 77/130\n",
      "Epoch 00077: val_loss improved from 0.89435 to 0.87265, saving model to Models/model6.h5\n",
      " - 1s - loss: 0.4322 - acc: 0.4636 - val_loss: 0.8727 - val_acc: 0.3349\n",
      "Epoch 78/130\n",
      "Epoch 00078: val_loss did not improve\n",
      " - 1s - loss: 0.4052 - acc: 0.4784 - val_loss: 0.9458 - val_acc: 0.3030\n",
      "Epoch 79/130\n",
      "Epoch 00079: val_loss did not improve\n",
      " - 1s - loss: 0.4005 - acc: 0.4784 - val_loss: 0.9591 - val_acc: 0.3290\n",
      "Epoch 80/130\n",
      "Epoch 00080: val_loss improved from 0.87265 to 0.86958, saving model to Models/model6.h5\n",
      " - 1s - loss: 0.4251 - acc: 0.4734 - val_loss: 0.8696 - val_acc: 0.3373\n",
      "Epoch 81/130\n",
      "Epoch 00081: val_loss did not improve\n",
      " - 1s - loss: 0.3671 - acc: 0.4876 - val_loss: 0.9575 - val_acc: 0.3349\n",
      "Epoch 82/130\n",
      "Epoch 00082: val_loss did not improve\n",
      " - 1s - loss: 0.3968 - acc: 0.4722 - val_loss: 0.8784 - val_acc: 0.3373\n",
      "Epoch 83/130\n",
      "Epoch 00083: val_loss did not improve\n",
      " - 1s - loss: 0.3743 - acc: 0.4873 - val_loss: 0.9286 - val_acc: 0.3325\n",
      "Epoch 84/130\n",
      "Epoch 00084: val_loss did not improve\n",
      " - 1s - loss: 0.3721 - acc: 0.4852 - val_loss: 0.9656 - val_acc: 0.3195\n",
      "Epoch 85/130\n",
      "Epoch 00085: val_loss did not improve\n",
      " - 1s - loss: 0.3927 - acc: 0.4808 - val_loss: 0.8898 - val_acc: 0.3373\n",
      "Epoch 86/130\n",
      "Epoch 00086: val_loss did not improve\n",
      " - 1s - loss: 0.3286 - acc: 0.5006 - val_loss: 0.9365 - val_acc: 0.3420\n",
      "Epoch 87/130\n",
      "Epoch 00087: val_loss improved from 0.86958 to 0.86956, saving model to Models/model6.h5\n",
      " - 1s - loss: 0.3277 - acc: 0.5006 - val_loss: 0.8696 - val_acc: 0.3456\n",
      "Epoch 88/130\n",
      "Epoch 00088: val_loss did not improve\n",
      " - 1s - loss: 0.3012 - acc: 0.5151 - val_loss: 0.9040 - val_acc: 0.3373\n",
      "Epoch 89/130\n",
      "Epoch 00089: val_loss did not improve\n",
      " - 1s - loss: 0.3215 - acc: 0.5024 - val_loss: 0.9118 - val_acc: 0.3325\n",
      "Epoch 90/130\n",
      "Epoch 00090: val_loss did not improve\n",
      " - 1s - loss: 0.3021 - acc: 0.5121 - val_loss: 0.9597 - val_acc: 0.3337\n",
      "Epoch 91/130\n",
      "Epoch 00091: val_loss did not improve\n",
      " - 1s - loss: 0.3503 - acc: 0.4885 - val_loss: 1.0271 - val_acc: 0.3101\n",
      "Epoch 92/130\n",
      "Epoch 00092: val_loss did not improve\n",
      " - 1s - loss: 0.3302 - acc: 0.5003 - val_loss: 0.9105 - val_acc: 0.3373\n",
      "Epoch 93/130\n",
      "Epoch 00093: val_loss did not improve\n",
      " - 1s - loss: 0.2890 - acc: 0.5136 - val_loss: 0.9078 - val_acc: 0.3444\n",
      "Epoch 94/130\n",
      "Epoch 00094: val_loss did not improve\n",
      " - 1s - loss: 0.2857 - acc: 0.5163 - val_loss: 0.9762 - val_acc: 0.3337\n",
      "Epoch 95/130\n",
      "Epoch 00095: val_loss did not improve\n",
      " - 1s - loss: 0.2689 - acc: 0.5210 - val_loss: 0.9030 - val_acc: 0.3479\n",
      "Epoch 96/130\n",
      "Epoch 00096: val_loss did not improve\n",
      " - 1s - loss: 0.2652 - acc: 0.5163 - val_loss: 0.9579 - val_acc: 0.3373\n",
      "Epoch 97/130\n",
      "Epoch 00097: val_loss improved from 0.86956 to 0.86741, saving model to Models/model6.h5\n",
      " - 1s - loss: 0.2903 - acc: 0.5086 - val_loss: 0.8674 - val_acc: 0.3432\n",
      "Epoch 98/130\n",
      "Epoch 00098: val_loss did not improve\n",
      " - 1s - loss: 0.2555 - acc: 0.5228 - val_loss: 0.9808 - val_acc: 0.3148\n",
      "Epoch 99/130\n",
      "Epoch 00099: val_loss did not improve\n",
      " - 1s - loss: 0.2754 - acc: 0.5189 - val_loss: 1.0404 - val_acc: 0.3243\n",
      "Epoch 100/130\n",
      "Epoch 00100: val_loss did not improve\n",
      " - 1s - loss: 0.2724 - acc: 0.5169 - val_loss: 0.9127 - val_acc: 0.3361\n",
      "Epoch 101/130\n",
      "Epoch 00101: val_loss did not improve\n",
      " - 1s - loss: 0.2234 - acc: 0.5364 - val_loss: 0.8795 - val_acc: 0.3444\n",
      "Epoch 102/130\n",
      "Epoch 00102: val_loss did not improve\n",
      " - 1s - loss: 0.2106 - acc: 0.5417 - val_loss: 0.9412 - val_acc: 0.3290\n",
      "Epoch 103/130\n",
      "Epoch 00103: val_loss did not improve\n",
      " - 1s - loss: 0.2658 - acc: 0.5133 - val_loss: 0.9582 - val_acc: 0.3349\n",
      "Epoch 104/130\n",
      "Epoch 00104: val_loss did not improve\n",
      " - 1s - loss: 0.1994 - acc: 0.5441 - val_loss: 0.9843 - val_acc: 0.3243\n",
      "Epoch 105/130\n",
      "Epoch 00105: val_loss did not improve\n",
      " - 1s - loss: 0.2413 - acc: 0.5322 - val_loss: 0.9324 - val_acc: 0.3361\n",
      "Epoch 106/130\n",
      "Epoch 00106: val_loss did not improve\n",
      " - 1s - loss: 0.1834 - acc: 0.5456 - val_loss: 1.0542 - val_acc: 0.3278\n",
      "Epoch 107/130\n",
      "Epoch 00107: val_loss did not improve\n",
      " - 1s - loss: 0.2398 - acc: 0.5320 - val_loss: 0.8974 - val_acc: 0.3444\n",
      "Epoch 108/130\n",
      "Epoch 00108: val_loss did not improve\n",
      " - 1s - loss: 0.2120 - acc: 0.5388 - val_loss: 0.9510 - val_acc: 0.3385\n",
      "Epoch 109/130\n",
      "Epoch 00109: val_loss did not improve\n",
      " - 1s - loss: 0.1794 - acc: 0.5515 - val_loss: 1.0164 - val_acc: 0.3325\n",
      "Epoch 110/130\n",
      "Epoch 00110: val_loss did not improve\n",
      " - 1s - loss: 0.2052 - acc: 0.5453 - val_loss: 1.0341 - val_acc: 0.3278\n",
      "Epoch 111/130\n",
      "Epoch 00111: val_loss did not improve\n",
      " - 1s - loss: 0.2073 - acc: 0.5467 - val_loss: 0.9408 - val_acc: 0.3432\n",
      "Epoch 112/130\n",
      "Epoch 00112: val_loss did not improve\n",
      " - 1s - loss: 0.1639 - acc: 0.5598 - val_loss: 0.9819 - val_acc: 0.3373\n",
      "Epoch 113/130\n",
      "Epoch 00113: val_loss did not improve\n",
      " - 1s - loss: 0.2128 - acc: 0.5385 - val_loss: 0.8975 - val_acc: 0.3432\n",
      "Epoch 114/130\n",
      "Epoch 00114: val_loss did not improve\n",
      " - 1s - loss: 0.1219 - acc: 0.5731 - val_loss: 0.9714 - val_acc: 0.3515\n",
      "Epoch 115/130\n",
      "Epoch 00115: val_loss did not improve\n",
      " - 1s - loss: 0.1629 - acc: 0.5550 - val_loss: 1.0015 - val_acc: 0.3160\n",
      "Epoch 116/130\n",
      "Epoch 00116: val_loss did not improve\n",
      " - 1s - loss: 0.1596 - acc: 0.5562 - val_loss: 1.0052 - val_acc: 0.3195\n",
      "Epoch 117/130\n",
      "Epoch 00117: val_loss did not improve\n",
      " - 1s - loss: 0.1783 - acc: 0.5485 - val_loss: 0.9728 - val_acc: 0.3325\n",
      "Epoch 118/130\n",
      "Epoch 00118: val_loss did not improve\n",
      " - 1s - loss: 0.1485 - acc: 0.5601 - val_loss: 0.9243 - val_acc: 0.3515\n",
      "Epoch 119/130\n",
      "Epoch 00119: val_loss did not improve\n",
      " - 1s - loss: 0.1294 - acc: 0.5689 - val_loss: 0.9560 - val_acc: 0.3503\n",
      "Epoch 120/130\n",
      "Epoch 00120: val_loss did not improve\n",
      " - 1s - loss: 0.1199 - acc: 0.5701 - val_loss: 0.9228 - val_acc: 0.3420\n",
      "Epoch 121/130\n",
      "Epoch 00121: val_loss did not improve\n",
      " - 1s - loss: 0.1158 - acc: 0.5719 - val_loss: 1.0461 - val_acc: 0.3290\n",
      "Epoch 122/130\n",
      "Epoch 00122: val_loss did not improve\n",
      " - 1s - loss: 0.1322 - acc: 0.5639 - val_loss: 1.0712 - val_acc: 0.3266\n",
      "Epoch 123/130\n",
      "Epoch 00123: val_loss did not improve\n",
      " - 1s - loss: 0.1715 - acc: 0.5476 - val_loss: 0.9638 - val_acc: 0.3361\n",
      "Epoch 124/130\n",
      "Epoch 00124: val_loss did not improve\n",
      " - 1s - loss: 0.1229 - acc: 0.5698 - val_loss: 0.9572 - val_acc: 0.3503\n",
      "Epoch 125/130\n",
      "Epoch 00125: val_loss did not improve\n",
      " - 1s - loss: 0.0837 - acc: 0.5808 - val_loss: 1.0853 - val_acc: 0.3337\n",
      "Epoch 126/130\n",
      "Epoch 00126: val_loss did not improve\n",
      " - 1s - loss: 0.1164 - acc: 0.5675 - val_loss: 1.0565 - val_acc: 0.3314\n",
      "Epoch 127/130\n",
      "Epoch 00127: val_loss did not improve\n",
      " - 1s - loss: 0.1461 - acc: 0.5592 - val_loss: 0.9998 - val_acc: 0.3550\n",
      "Epoch 128/130\n",
      "Epoch 00128: val_loss did not improve\n",
      " - 1s - loss: 0.1483 - acc: 0.5553 - val_loss: 1.0028 - val_acc: 0.3385\n",
      "Epoch 129/130\n",
      "Epoch 00129: val_loss did not improve\n",
      " - 1s - loss: 0.1299 - acc: 0.5657 - val_loss: 1.0593 - val_acc: 0.3278\n",
      "Epoch 130/130\n",
      "Epoch 00130: val_loss did not improve\n",
      " - 1s - loss: 0.1002 - acc: 0.5722 - val_loss: 1.0043 - val_acc: 0.3325\n",
      "CPU times: user 5min 3s, sys: 34.1 s, total: 5min 37s\n",
      "Wall time: 2min 16s\n"
     ]
    }
   ],
   "source": [
    "%%time\n",
    "# Run training\n",
    "model.compile(optimizer='rmsprop', loss='categorical_crossentropy', metrics=['accuracy'])\n",
    "history = model.fit([encoder_input_data, decoder_input_data],\n",
    "                    decoder_target_data,\n",
    "                    batch_size=batch_size,\n",
    "                    epochs=epochs,\n",
    "                    validation_split=0.2,verbose=2, callbacks=[checkpoint])"
   ]
  },
  {
   "cell_type": "markdown",
   "metadata": {},
   "source": [
    "## Save Results "
   ]
  },
  {
   "cell_type": "code",
   "execution_count": 271,
   "metadata": {
    "collapsed": false
   },
   "outputs": [],
   "source": [
    "with open('Files/train_history_model6', 'wb') as file_pi:\n",
    "    pickle.dump(history.history, file_pi)"
   ]
  },
  {
   "cell_type": "code",
   "execution_count": 272,
   "metadata": {
    "collapsed": true
   },
   "outputs": [],
   "source": [
    "# Save Weights\n",
    "save_path = '325phonetic-transcription-softmax-no-dropout.h5'\n",
    "model.save_weights('Models/' + save_path)"
   ]
  },
  {
   "cell_type": "code",
   "execution_count": 273,
   "metadata": {
    "collapsed": false
   },
   "outputs": [
    {
     "name": "stdout",
     "output_type": "stream",
     "text": [
      "dict_keys(['val_loss', 'val_acc', 'loss', 'acc'])\n"
     ]
    }
   ],
   "source": [
    "%matplotlib inline\n",
    "# list all data in history\n",
    "print(history.history.keys())"
   ]
  },
  {
   "cell_type": "code",
   "execution_count": 277,
   "metadata": {
    "collapsed": false
   },
   "outputs": [
    {
     "name": "stdout",
     "output_type": "stream",
     "text": [
      "0.34319526644853443 0.8674051908346323 0.2903436940449935 0.508579890544598\n"
     ]
    }
   ],
   "source": [
    "print(history.history['val_acc'][96],\n",
    "history.history['val_loss'][96],\n",
    "history.history['loss'][96],\n",
    "history.history['acc'][96])"
   ]
  },
  {
   "cell_type": "markdown",
   "metadata": {},
   "source": [
    "## Summary and Plots "
   ]
  },
  {
   "cell_type": "markdown",
   "metadata": {},
   "source": [
    "|     Model Name     | Test File     | Best Epoch Score | val_acc | val_loss | loss | acc    | Time|\n",
    "|:------------------:|---------------|-----------------:|---------|----------|------|--------|-----|\n",
    "| Model6.h5    | Corpus/test1001534626149verbs.csv      |   97    |  0.342  |  0.867   | 0.290|0.5085  |2 min|"
   ]
  },
  {
   "cell_type": "code",
   "execution_count": 278,
   "metadata": {
    "code_folding": [
     0
    ],
    "collapsed": false
   },
   "outputs": [
    {
     "data": {
      "image/png": "[encoded data removed]",
      "text/plain": [
       "<Figure size 432x288 with 1 Axes>"
      ]
     },
     "metadata": {},
     "output_type": "display_data"
    }
   ],
   "source": [
    "# summarize history for accuracy\n",
    "plt.plot(history.history['acc'])\n",
    "plt.plot(history.history['val_acc'])\n",
    "plt.title('model accuracy')\n",
    "plt.ylabel('accuracy')\n",
    "plt.xlabel('epoch')\n",
    "plt.legend(['train', 'test'], loc='upper left');"
   ]
  },
  {
   "cell_type": "code",
   "execution_count": 279,
   "metadata": {
    "code_folding": [
     0
    ],
    "collapsed": false
   },
   "outputs": [
    {
     "data": {
      "image/png": "[encoded data removed]",
      "text/plain": [
       "<Figure size 432x288 with 1 Axes>"
      ]
     },
     "metadata": {},
     "output_type": "display_data"
    }
   ],
   "source": [
    "# summarize history for loss\n",
    "plt.plot(history.history['loss'])\n",
    "plt.plot(history.history['val_loss'])\n",
    "plt.title('model loss')\n",
    "plt.ylabel('loss')\n",
    "plt.xlabel('epoch')\n",
    "plt.legend(['train', 'test'], loc='upper left');"
   ]
  },
  {
   "cell_type": "markdown",
   "metadata": {},
   "source": [
    "## Inference Mode "
   ]
  },
  {
   "cell_type": "code",
   "execution_count": 281,
   "metadata": {
    "code_folding": [],
    "collapsed": false
   },
   "outputs": [],
   "source": [
    "# Define an input sequence and process it.\n",
    "encoder_inputs = Input(shape=(None, num_encoder_tokens))\n",
    "encoder = LSTM(latent_dim, return_state=True)\n",
    "encoder_outputs, state_h, state_c = encoder(encoder_inputs)\n",
    "# We discard `encoder_outputs` and only keep the states.\n",
    "encoder_states = [state_h, state_c]\n",
    "\n",
    "# Set up the decoder, using `encoder_states` as initial state.\n",
    "decoder_inputs = Input(shape=(None, num_decoder_tokens))\n",
    "# We set up our decoder to return full output sequences,\n",
    "# and to return internal states as well. We don't use the\n",
    "# return states in the training model, but we will use them in inference.\n",
    "decoder_lstm = LSTM(latent_dim, return_sequences=True, return_state=True)\n",
    "decoder_outputs, _, _ = decoder_lstm(decoder_inputs,\n",
    "                                     initial_state=encoder_states)\n",
    "decoder_dense = Dense(num_decoder_tokens, activation='softmax')\n",
    "decoder_outputs = decoder_dense(decoder_outputs)\n",
    "\n",
    "# Define the model that will turn\n",
    "# `encoder_input_data` & `decoder_input_data` into `decoder_target_data`\n",
    "model = Model([encoder_inputs, decoder_inputs], decoder_outputs)\n",
    "model.load_weights('Models/325phonetic-transcription-softmax-no-dropout.h5')\n",
    "\n",
    "# Next: inference mode (sampling).\n",
    "# Here's the drill:\n",
    "# 1) encode input and retrieve initial decoder state\n",
    "# 2) run one step of decoder with this initial state\n",
    "# and a \"start of sequence\" token as target.\n",
    "# Output will be the next target token\n",
    "# 3) Repeat with the current target token and current states\n",
    "\n",
    "# Define sampling models\n",
    "encoder_model = Model(encoder_inputs, encoder_states)\n",
    "\n",
    "decoder_state_input_h = Input(shape=(latent_dim,))\n",
    "decoder_state_input_c = Input(shape=(latent_dim,))\n",
    "decoder_states_inputs = [decoder_state_input_h, decoder_state_input_c]\n",
    "decoder_outputs, state_h, state_c = decoder_lstm(\n",
    "    decoder_inputs, initial_state=decoder_states_inputs)\n",
    "decoder_states = [state_h, state_c]\n",
    "decoder_outputs = decoder_dense(decoder_outputs)\n",
    "decoder_model = Model(\n",
    "    [decoder_inputs] + decoder_states_inputs,\n",
    "    [decoder_outputs] + decoder_states)\n",
    "\n",
    "# Reverse-lookup token index to decode sequences back to\n",
    "# something readable.\n",
    "reverse_input_char_index = dict(\n",
    "    (i, char) for char, i in input_token_index.items())\n",
    "reverse_target_char_index = dict(\n",
    "    (i, char) for char, i in target_token_index.items())"
   ]
  },
  {
   "cell_type": "markdown",
   "metadata": {},
   "source": [
    "## Test it on training set "
   ]
  },
  {
   "cell_type": "code",
   "execution_count": 282,
   "metadata": {
    "code_folding": [
     0
    ],
    "collapsed": true
   },
   "outputs": [],
   "source": [
    "def decode_sequence(input_seq):\n",
    "    # Encode the input as state vectors.\n",
    "    states_value = encoder_model.predict(input_seq)\n",
    "\n",
    "    # Generate empty target sequence of length 1.\n",
    "    target_seq = np.zeros((1, 1, num_decoder_tokens))\n",
    "    # Populate the first character of target sequence with the start character.\n",
    "    target_seq[0, 0, target_token_index['\\t']] = 1.\n",
    "\n",
    "    # Sampling loop for a batch of sequences\n",
    "    # (to simplify, here we assume a batch of size 1).\n",
    "    stop_condition = False\n",
    "    decoded_sentence = ''\n",
    "    while not stop_condition:\n",
    "        output_tokens, h, c = decoder_model.predict(\n",
    "            [target_seq] + states_value)\n",
    "\n",
    "        # Sample a token\n",
    "        sampled_token_index = np.argmax(output_tokens[0, -1, :])\n",
    "        sampled_char = reverse_target_char_index[sampled_token_index]\n",
    "        decoded_sentence += sampled_char\n",
    "\n",
    "        # Exit condition: either hit max length\n",
    "        # or find stop character.\n",
    "        if (sampled_char == '\\n' or\n",
    "           len(decoded_sentence) > max_decoder_seq_length):\n",
    "            stop_condition = True\n",
    "\n",
    "        # Update the target sequence (of length 1).\n",
    "        target_seq = np.zeros((1, 1, num_decoder_tokens))\n",
    "        target_seq[0, 0, sampled_token_index] = 1.\n",
    "\n",
    "        # Update states\n",
    "        states_value = [h, c]\n",
    "\n",
    "    return decoded_sentence"
   ]
  },
  {
   "cell_type": "code",
   "execution_count": 283,
   "metadata": {
    "code_folding": [
     0
    ],
    "collapsed": true
   },
   "outputs": [],
   "source": [
    "def encode_sequence(sentence, encoding_dict = input_token_index):\n",
    "    encoder_input_data = np.zeros((1,max_encoder_seq_length,len(encoding_dict)))\n",
    "    for t, char in enumerate(sentence):\n",
    "        encoder_input_data[0,t, encoding_dict[char]] = 1.\n",
    "    return encoder_input_data "
   ]
  },
  {
   "cell_type": "code",
   "execution_count": 284,
   "metadata": {
    "code_folding": [
     0
    ],
    "collapsed": true
   },
   "outputs": [],
   "source": [
    "def predictions(df_test):\n",
    "    \n",
    "    df_test['enconding'] = df_test.infinitivo.apply(encode_sequence).apply(decode_sequence)\n",
    "    return test"
   ]
  },
  {
   "cell_type": "code",
   "execution_count": 285,
   "metadata": {
    "code_folding": [
     0
    ],
    "collapsed": true
   },
   "outputs": [],
   "source": [
    "def predictions(df_test):\n",
    "    \n",
    "    df_test['enconding'] = df_test.infinitivo.apply(encode_sequence).apply(decode_sequence)\n",
    "    return df_test"
   ]
  },
  {
   "cell_type": "code",
   "execution_count": 286,
   "metadata": {
    "code_folding": [
     0
    ],
    "collapsed": true
   },
   "outputs": [
    {
     "name": "stdout",
     "output_type": "stream",
     "text": [
      "-\n",
      "Input sentence: ansia\n",
      "Decoded sentence: anistu\n",
      "\n",
      "-\n",
      "Input sentence: pleitea\n",
      "Decoded sentence: pleiteiu\n",
      "\n",
      "-\n",
      "Input sentence: insendia\n",
      "Decoded sentence: iniiru\n",
      "\n",
      "-\n",
      "Input sentence: sortea\n",
      "Decoded sentence: sorteiu\n",
      "\n",
      "-\n",
      "Input sentence: hemedia\n",
      "Decoded sentence: hemedeiu\n",
      "\n",
      "-\n",
      "Input sentence: intermedia\n",
      "Decoded sentence: intermedeiu\n",
      "\n",
      "-\n",
      "Input sentence: pasea\n",
      "Decoded sentence: pasu\n",
      "\n",
      "-\n",
      "Input sentence: olia\n",
      "Decoded sentence: Oliu\n",
      "\n",
      "-\n",
      "Input sentence: koloka\n",
      "Decoded sentence: kolOku\n",
      "\n",
      "-\n",
      "Input sentence: informa\n",
      "Decoded sentence: infOrmu\n",
      "\n",
      "-\n",
      "Input sentence: torna\n",
      "Decoded sentence: tOrnu\n",
      "\n",
      "-\n",
      "Input sentence: mostra\n",
      "Decoded sentence: mOstru\n",
      "\n",
      "-\n",
      "Input sentence: tostar\n",
      "Decoded sentence: tOstu\n",
      "\n",
      "-\n",
      "Input sentence: troka\n",
      "Decoded sentence: trOku\n",
      "\n",
      "-\n",
      "Input sentence: heboka\n",
      "Decoded sentence: hebOku\n",
      "\n",
      "-\n",
      "Input sentence: soka\n",
      "Decoded sentence: sOku\n",
      "\n",
      "-\n",
      "Input sentence: kosa\n",
      "Decoded sentence: kOsu\n",
      "\n",
      "-\n",
      "Input sentence: toma\n",
      "Decoded sentence: tOmu\n",
      "\n",
      "-\n",
      "Input sentence: hekorta\n",
      "Decoded sentence: hekOrtu\n",
      "\n",
      "-\n",
      "Input sentence: entorta\n",
      "Decoded sentence: entOrtu\n",
      "\n",
      "-\n",
      "Input sentence: enkosta\n",
      "Decoded sentence: enkOstu\n",
      "\n",
      "-\n",
      "Input sentence: hetorna\n",
      "Decoded sentence: hetOrnu\n",
      "\n",
      "-\n",
      "Input sentence: ora\n",
      "Decoded sentence: Oru\n",
      "\n",
      "-\n",
      "Input sentence: mora\n",
      "Decoded sentence: mOru\n",
      "\n",
      "-\n",
      "Input sentence: posta\n",
      "Decoded sentence: pOstu\n",
      "\n",
      "-\n",
      "Input sentence: joga\n",
      "Decoded sentence: jOgu\n",
      "\n",
      "-\n",
      "Input sentence: akorda\n",
      "Decoded sentence: akOrdu\n",
      "\n",
      "-\n",
      "Input sentence: korta\n",
      "Decoded sentence: kOrtu\n",
      "\n",
      "-\n",
      "Input sentence: aumosa\n",
      "Decoded sentence: aumOsu\n",
      "\n",
      "-\n",
      "Input sentence: gosta\n",
      "Decoded sentence: gOstu\n",
      "\n",
      "-\n",
      "Input sentence: volta\n",
      "Decoded sentence: vOltu\n",
      "\n",
      "-\n",
      "Input sentence: deskobri\n",
      "Decoded sentence: deskubru\n",
      "\n",
      "-\n",
      "Input sentence: hekobri\n",
      "Decoded sentence: hekubru\n",
      "\n",
      "-\n",
      "Input sentence: engoli\n",
      "Decoded sentence: engulu\n",
      "\n",
      "-\n",
      "Input sentence: enkobri\n",
      "Decoded sentence: enkubru\n",
      "\n",
      "-\n",
      "Input sentence: tosi\n",
      "Decoded sentence: tusu\n",
      "\n",
      "-\n",
      "Input sentence: kobri\n",
      "Decoded sentence: kubru\n",
      "\n",
      "-\n",
      "Input sentence: hedize\n",
      "Decoded sentence: hedigu\n",
      "\n",
      "-\n",
      "Input sentence: desdize\n",
      "Decoded sentence: desidu\n",
      "\n",
      "-\n",
      "Input sentence: kondize\n",
      "Decoded sentence: kondigu\n",
      "\n",
      "-\n",
      "Input sentence: entredize\n",
      "Decoded sentence: entredigu\n",
      "\n",
      "-\n",
      "Input sentence: kontradize\n",
      "Decoded sentence: kontrafasu\n",
      "\n",
      "-\n",
      "Input sentence: interdize\n",
      "Decoded sentence: intermedeiu\n",
      "\n",
      "-\n",
      "Input sentence: perfaze\n",
      "Decoded sentence: perfasu\n",
      "\n",
      "-\n",
      "Input sentence: transfaze\n",
      "Decoded sentence: transfasu\n",
      "\n",
      "-\n",
      "Input sentence: insatisfaze\n",
      "Decoded sentence: iisitu\n",
      "\n",
      "-\n",
      "Input sentence: likefaze\n",
      "Decoded sentence: likefasu\n",
      "\n",
      "-\n",
      "Input sentence: benfaze\n",
      "Decoded sentence: benfasu\n",
      "\n",
      "-\n",
      "Input sentence: putrefaze\n",
      "Decoded sentence: putrefasu\n",
      "\n",
      "-\n",
      "Input sentence: kontrafaze\n",
      "Decoded sentence: kontrafasu\n",
      "\n",
      "-\n",
      "Input sentence: tohefaze\n",
      "Decoded sentence: tohefasu\n",
      "\n",
      "-\n",
      "Input sentence: harefaze\n",
      "Decoded sentence: harefasu\n",
      "\n",
      "-\n",
      "Input sentence: esfaze\n",
      "Decoded sentence: esfasu\n",
      "\n",
      "-\n",
      "Input sentence: despraze\n",
      "Decoded sentence: desprasu\n",
      "\n",
      "-\n",
      "Input sentence: adijaze\n",
      "Decoded sentence: adijasu\n",
      "\n",
      "-\n",
      "Input sentence: deskre\n",
      "Decoded sentence: deskreiu\n",
      "\n",
      "-\n",
      "Input sentence: hele\n",
      "Decoded sentence: heleiu\n",
      "\n",
      "-\n",
      "Input sentence: le\n",
      "Decoded sentence: leiu\n",
      "\n",
      "-\n",
      "Input sentence: tresle\n",
      "Decoded sentence: treleiu\n",
      "\n",
      "-\n",
      "Input sentence: hesenti\n",
      "Decoded sentence: hesintu\n",
      "\n",
      "-\n",
      "Input sentence: persenti\n",
      "Decoded sentence: persintu\n",
      "\n",
      "-\n",
      "Input sentence: desmenti\n",
      "Decoded sentence: desmintu\n",
      "\n",
      "-\n",
      "Input sentence: presenti\n",
      "Decoded sentence: presintu\n",
      "\n",
      "-\n",
      "Input sentence: asenti\n",
      "Decoded sentence: asintu\n",
      "\n",
      "-\n",
      "Input sentence: konsenti\n",
      "Decoded sentence: konsintu\n",
      "\n",
      "-\n",
      "Input sentence: impedi\n",
      "Decoded sentence: impEsu\n",
      "\n",
      "-\n",
      "Input sentence: pedi\n",
      "Decoded sentence: pEsu\n",
      "\n",
      "-\n",
      "Input sentence: dezimpedi\n",
      "Decoded sentence: dezimpEsu\n",
      "\n",
      "-\n",
      "Input sentence: despedi\n",
      "Decoded sentence: despEsu\n",
      "\n",
      "-\n",
      "Input sentence: espedi\n",
      "Decoded sentence: espEsu\n",
      "\n",
      "-\n",
      "Input sentence: desmedi\n",
      "Decoded sentence: desmiru\n",
      "\n",
      "-\n",
      "Input sentence: kontrapo\n",
      "Decoded sentence: kontraponiu\n",
      "\n",
      "-\n",
      "Input sentence: transpo\n",
      "Decoded sentence: transponiu\n",
      "\n",
      "-\n",
      "Input sentence: hedispo\n",
      "Decoded sentence: hedisponiu\n",
      "\n",
      "-\n",
      "Input sentence: despo\n",
      "Decoded sentence: desponiu\n",
      "\n",
      "-\n",
      "Input sentence: superpo\n",
      "Decoded sentence: superponiu\n",
      "\n",
      "-\n",
      "Input sentence: pospo\n",
      "Decoded sentence: posponiu\n",
      "\n",
      "-\n",
      "Input sentence: antepo\n",
      "Decoded sentence: anteponiu\n",
      "\n",
      "-\n",
      "Input sentence: trespo\n",
      "Decoded sentence: tresponiu\n",
      "\n",
      "-\n",
      "Input sentence: interpo\n",
      "Decoded sentence: intermedeiu\n",
      "\n",
      "-\n",
      "Input sentence: dekompo\n",
      "Decoded sentence: dekomponiu\n",
      "\n",
      "-\n",
      "Input sentence: justapo\n",
      "Decoded sentence: justaponiu\n",
      "\n",
      "-\n",
      "Input sentence: deskompo\n",
      "Decoded sentence: deskomponiu\n",
      "\n",
      "-\n",
      "Input sentence: propo\n",
      "Decoded sentence: proponiu\n",
      "\n",
      "-\n",
      "Input sentence: presupo\n",
      "Decoded sentence: presuponiu\n",
      "\n",
      "-\n",
      "Input sentence: hekompo\n",
      "Decoded sentence: hekomponiu\n",
      "\n",
      "-\n",
      "Input sentence: entrepo\n",
      "Decoded sentence: entreponiu\n",
      "\n",
      "-\n",
      "Input sentence: prosupo\n",
      "Decoded sentence: prosuponiu\n",
      "\n",
      "-\n",
      "Input sentence: predispo\n",
      "Decoded sentence: predisponiu\n",
      "\n",
      "-\n",
      "Input sentence: indispo\n",
      "Decoded sentence: iiiiru\n",
      "\n",
      "-\n",
      "Input sentence: dezapo\n",
      "Decoded sentence: dezaponiu\n",
      "\n",
      "-\n",
      "Input sentence: kompo\n",
      "Decoded sentence: komponiu\n",
      "\n",
      "-\n",
      "Input sentence: po\n",
      "Decoded sentence: poniu\n",
      "\n",
      "-\n",
      "Input sentence: persegi\n",
      "Decoded sentence: persigu\n",
      "\n",
      "-\n",
      "Input sentence: espeli\n",
      "Decoded sentence: espilu\n",
      "\n",
      "-\n",
      "Input sentence: inseri\n",
      "Decoded sentence: iniiru\n",
      "\n",
      "-\n",
      "Input sentence: agredi\n",
      "Decoded sentence: agridu\n",
      "\n",
      "-\n",
      "Input sentence: preveni\n",
      "Decoded sentence: previnu\n",
      "\n",
      "-\n",
      "Input sentence: preferi\n",
      "Decoded sentence: prefiru\n",
      "\n",
      "-\n",
      "Input sentence: kompeti\n",
      "Decoded sentence: kompitu\n",
      "\n"
     ]
    }
   ],
   "source": [
    "for seq_index in range(100):\n",
    "    # Take one sequence (part of the training set)\n",
    "    # for trying out decoding.\n",
    "    input_seq = encoder_input_data[seq_index: seq_index + 1]\n",
    "    decoded_sentence = decode_sequence(input_seq)\n",
    "    print('-')\n",
    "    print('Input sentence:', input_texts[seq_index])\n",
    "    print('Decoded sentence:', decoded_sentence)"
   ]
  },
  {
   "cell_type": "code",
   "execution_count": 288,
   "metadata": {
    "collapsed": false
   },
   "outputs": [
    {
     "data": {
      "text/plain": [
       "'sskrevu\\n'"
      ]
     },
     "execution_count": 288,
     "metadata": {},
     "output_type": "execute_result"
    }
   ],
   "source": [
    "decode_sequence(encode_sequence(\"eskureser\"))"
   ]
  },
  {
   "cell_type": "markdown",
   "metadata": {},
   "source": [
    "## Test it on the Testing set "
   ]
  },
  {
   "cell_type": "code",
   "execution_count": 303,
   "metadata": {
    "collapsed": true
   },
   "outputs": [],
   "source": [
    "df_Test = load_test('Corpus/test_corpus_lstm.csv')"
   ]
  },
  {
   "cell_type": "code",
   "execution_count": 304,
   "metadata": {
    "collapsed": false
   },
   "outputs": [],
   "source": [
    "df_Test['encoding'] = df_Test.iloc[:60].infinitivo.apply(encode_sequence).apply(decode_sequence)"
   ]
  },
  {
   "cell_type": "code",
   "execution_count": 305,
   "metadata": {
    "collapsed": true
   },
   "outputs": [
    {
     "data": {
      "text/plain": [
       "array([['odia', 'odeiu', 'ioiiu\\n'],\n",
       "       ['media', 'medeiu', 'eriru\\n'],\n",
       "       ['boia', 'bOiu', 'obivu\\n'],\n",
       "       ['bota', 'bOtu', 'Olu\\n'],\n",
       "       ['toka', 'tOku', 'tOsu\\n'],\n",
       "       ['foka', 'fOku', 'OOku\\n'],\n",
       "       ['xora', 'xOru', 'lu\\n'],\n",
       "       ['nota', 'nOtu', 'kontu\\n'],\n",
       "       ['sorti', 'surtu', 'surteiu\\n'],\n",
       "       ['dize', 'digu', 'deiiru\\n'],\n",
       "       ['faze', 'fasu', 'afasu\\n'],\n",
       "       ['satisfaze', 'satisfasu', 'asitu\\n'],\n",
       "       ['maufaze', 'maufasu', 'akuzu\\n'],\n",
       "       ['kre', 'kreiu', 'krru\\n'],\n",
       "       ['menti', 'mintu', 'entOrtu\\n'],\n",
       "       ['senti', 'sintu', 'istinu\\n'],\n",
       "       ['medi', 'mEsu', 'beiru\\n'],\n",
       "       ['impo', 'imponiu', 'iopiru\\n'],\n",
       "       ['supo', 'suponiu', 'susu\\n'],\n",
       "       ['depo', 'deponiu', 'desponiu\\n'],\n",
       "       ['espo', 'esponiu', 'espresu\\n'],\n",
       "       ['dispo', 'disponiu', 'diskutu\\n'],\n",
       "       ['feri', 'firu', 'eriru\\n'],\n",
       "       ['vesti', 'vistu', 'vevu\\n'],\n",
       "       ['servi', 'sirvu', 'iriru\\n'],\n",
       "       ['segir', 'sigu', 'siriu\\n'],\n",
       "       ['hepeti', 'hepitu', 'hespeniu\\n'],\n",
       "       ['dete', 'deteniu', 'desiru\\n'],\n",
       "       ['te', 'teniu', 'teniu\\n'],\n",
       "       ['protesta', 'protEstu', 'proteiu\\n'],\n",
       "       ['espera', 'espEru', 'esprEsu\\n'],\n",
       "       ['pega', 'pEgu', 'pEsu\\n'],\n",
       "       ['sega', 'sEgu', 'sEsu\\n'],\n",
       "       ['preve', 'preveju', 'previnu\\n'],\n",
       "       ['vi', 'veniu', 'viju\\n'],\n",
       "       ['adivi', 'adiveniu', 'aiijasu\\n'],\n",
       "       ['junta', 'juntu', 'jugu\\n'],\n",
       "       ['gasta', 'gastu', 'agu\\n'],\n",
       "       ['finda', 'findu', 'iifiru\\n'],\n",
       "       ['kuspi', 'kuspu', 'susku\\n'],\n",
       "       ['sumi', 'sumu', 'sujiru\\n'],\n",
       "       ['mohe', 'mohu', 'oohereniu\\n'],\n",
       "       ['axa', 'axu', 'adu\\n'],\n",
       "       ['finji', 'finju', 'iijiru\\n'],\n",
       "       ['konta', 'kontu', 'kontraponiu\\n'],\n",
       "       ['pensa', 'pensu', 'pEstu\\n'],\n",
       "       ['ezisti', 'ezistu', 'desiru\\n'],\n",
       "       ['kumpri', 'kumpru', 'kumu\\n'],\n",
       "       ['ama', 'amu', 'akabu\\n'],\n",
       "       ['omitir', 'omitu', 'komitu\\n'],\n",
       "       ['deve', 'devu', 'deivu\\n'],\n",
       "       ['hompe', 'hompu', 'hekooponiu\\n'],\n",
       "       ['sede', 'sedu', 'dssu\\n'],\n",
       "       ['buska', 'busku', 'mudu\\n'],\n",
       "       ['eskuta', 'eskutu', 'skku\\n'],\n",
       "       ['mata', 'matu', 'kOrtu\\n'],\n",
       "       ['paga', 'pagu', 'aauu\\n'],\n",
       "       ['sai', 'saiu', 'asistu\\n'],\n",
       "       ['bate', 'batu', 'firu\\n'],\n",
       "       ['dormi', 'durmu', 'obbiEru\\n'],\n",
       "       ['destrui', 'destruu', nan],\n",
       "       ['esvai', 'esvaiu', nan],\n",
       "       ['suspende', 'suspendu', nan],\n",
       "       ['kai', 'kaiu', nan],\n",
       "       ['imprimi', 'imprimu', nan],\n",
       "       ['hemedi', 'hemedu', nan],\n",
       "       ['influi', 'influu', nan],\n",
       "       ['sauva', 'sauvu', nan],\n",
       "       ['prende', 'prendu', nan],\n",
       "       ['distrai', 'distraiu', nan],\n",
       "       ['akudi', 'akudu', nan],\n",
       "       ['subi', 'subu', nan],\n",
       "       ['eleje', 'eleju', nan],\n",
       "       ['konstrui', 'konstruu', nan],\n",
       "       ['tende', 'tendu', nan],\n",
       "       ['gania', 'ganiu', nan],\n",
       "       ['aseita', 'aseitu', nan],\n",
       "       ['konfuji', 'konfuju', nan]], dtype=object)"
      ]
     },
     "execution_count": 305,
     "metadata": {},
     "output_type": "execute_result"
    }
   ],
   "source": [
    "df_Test.values"
   ]
  },
  {
   "cell_type": "code",
   "execution_count": 306,
   "metadata": {
    "collapsed": false
   },
   "outputs": [
    {
     "data": {
      "text/plain": [
       "78"
      ]
     },
     "execution_count": 306,
     "metadata": {},
     "output_type": "execute_result"
    }
   ],
   "source": [
    "len(df_Test)"
   ]
  },
  {
   "cell_type": "code",
   "execution_count": 307,
   "metadata": {
    "collapsed": false
   },
   "outputs": [],
   "source": [
    "\n",
    "def test_accuracy(df, len_test):\n",
    "    df_Test['encoding'] = df_Test['encoding'].apply(lambda x: str(x)[:-1])\n",
    "\n",
    "    df_Test['conjugado'] = df_Test['conjugado'].apply(lambda x: str(x))\n",
    "\n",
    "    df = df_Test\n",
    "\n",
    "    matches = df[df['encoding'] == df['conjugado']]\n",
    "\n",
    "    return float(len(matches))/len_test "
   ]
  },
  {
   "cell_type": "code",
   "execution_count": 308,
   "metadata": {
    "collapsed": false
   },
   "outputs": [
    {
     "data": {
      "text/plain": [
       "0.01282051282051282"
      ]
     },
     "execution_count": 308,
     "metadata": {},
     "output_type": "execute_result"
    }
   ],
   "source": [
    "test_accuracy(df_Test, 78)"
   ]
  },
  {
   "cell_type": "markdown",
   "metadata": {},
   "source": [
    "---"
   ]
  },
  {
   "cell_type": "markdown",
   "metadata": {},
   "source": [
    "# Encoder-Decoder - 2000 samples - RELU"
   ]
  },
  {
   "cell_type": "markdown",
   "metadata": {},
   "source": [
    "## Run Settings "
   ]
  },
  {
   "cell_type": "code",
   "execution_count": 75,
   "metadata": {
    "collapsed": false
   },
   "outputs": [],
   "source": [
    "%run run_model.py"
   ]
  },
  {
   "cell_type": "markdown",
   "metadata": {},
   "source": [
    "## Settings "
   ]
  },
  {
   "cell_type": "code",
   "execution_count": 354,
   "metadata": {
    "collapsed": true
   },
   "outputs": [],
   "source": [
    "batch_size = 64  # Batch size for training.\n",
    "epochs = 100  # Number of epochs to train for.\n",
    "latent_dim = 256  # Latent dimensionality of the encoding space.\n",
    "num_samples = 2000  # Number of samples to train on.\n",
    "# Path to the data txt file on disk.\n",
    "test_size = 100\n",
    "complete_corpus_path = 'Corpus/train2000verbs.csv'"
   ]
  },
  {
   "cell_type": "code",
   "execution_count": 388,
   "metadata": {
    "code_folding": [],
    "collapsed": false
   },
   "outputs": [],
   "source": [
    "def new_load_train_test(corpus):\n",
    "    with open(corpus, 'r', encoding='Latin-1') as f:\n",
    "        lines = f.read().split('\\n')\n",
    "    train_data = lines\n",
    "    \n",
    "    return train_data\n",
    "train_data = new_load_train_test(corpus = complete_corpus_path)"
   ]
  },
  {
   "cell_type": "code",
   "execution_count": 392,
   "metadata": {
    "collapsed": false
   },
   "outputs": [],
   "source": [
    "def new_load_test_data(corpus = 'Corpus/test1001534627942verbs.csv'):\n",
    "    with open(corpus, 'r', encoding='Latin-1') as f:\n",
    "        lines = f.read().split('\\n')\n",
    "    test_data = lines\n",
    "    \n",
    "    return test_data\n",
    "test_data = new_load_test_data()\n",
    "test_file = 'Corpus/test1001534627942verbs.csv'"
   ]
  },
  {
   "cell_type": "markdown",
   "metadata": {},
   "source": [
    "## Vectorize Data"
   ]
  },
  {
   "cell_type": "code",
   "execution_count": 350,
   "metadata": {
    "code_folding": [
     0
    ],
    "collapsed": false
   },
   "outputs": [
    {
     "name": "stdout",
     "output_type": "stream",
     "text": [
      "Number of samples: 2000\n",
      "Number of unique input tokens: 26\n",
      "Number of unique output tokens: 29\n",
      "Max sequence length for inputs: 15\n",
      "Max sequence length for outputs: 16\n"
     ]
    }
   ],
   "source": [
    "# Vectorize the data.\n",
    "input_texts = []\n",
    "target_texts = []\n",
    "input_characters = set()\n",
    "target_characters = set()\n",
    "with open(train_file, 'r', encoding='utf-8') as f:\n",
    "    lines = f.read().split('\\n')\n",
    "for line in lines[: min(num_samples, len(lines) - 1)]:\n",
    "    input_text, target_text = line.split(';')\n",
    "    # We use \"tab\" as the \"start sequence\" character\n",
    "    # for the targets, and \"\\n\" as \"end sequence\" character.\n",
    "    target_text = '\\t' + target_text + '\\n'\n",
    "    input_texts.append(input_text)\n",
    "    target_texts.append(target_text)\n",
    "    for char in input_text:\n",
    "        if char not in input_characters:\n",
    "            input_characters.add(char)\n",
    "    for char in target_text:\n",
    "        if char not in target_characters:\n",
    "            target_characters.add(char)\n",
    "\n",
    "input_characters = sorted(list(input_characters))\n",
    "target_characters = sorted(list(target_characters))\n",
    "num_encoder_tokens = len(input_characters)\n",
    "num_decoder_tokens = len(target_characters)\n",
    "max_encoder_seq_length = max([len(txt) for txt in input_texts])\n",
    "max_decoder_seq_length = max([len(txt) for txt in target_texts])\n",
    "\n",
    "print('Number of samples:', len(input_texts))\n",
    "print('Number of unique input tokens:', num_encoder_tokens)\n",
    "print('Number of unique output tokens:', num_decoder_tokens)\n",
    "print('Max sequence length for inputs:', max_encoder_seq_length)\n",
    "print('Max sequence length for outputs:', max_decoder_seq_length)\n",
    "\n",
    "# Dictionary of tokens\n",
    "input_token_index = dict(\n",
    "    [(char, i) for i, char in enumerate(input_characters)])\n",
    "target_token_index = dict(\n",
    "    [(char, i) for i, char in enumerate(target_characters)])\n",
    "\n",
    "encoder_input_data = np.zeros(\n",
    "    (len(input_texts), max_encoder_seq_length, num_encoder_tokens),\n",
    "    dtype='float32')\n",
    "decoder_input_data = np.zeros(\n",
    "    (len(input_texts), max_decoder_seq_length, num_decoder_tokens),\n",
    "    dtype='float32')\n",
    "decoder_target_data = np.zeros(\n",
    "    (len(input_texts), max_decoder_seq_length, num_decoder_tokens),\n",
    "    dtype='float32')\n",
    "\n",
    "for i, (input_text, target_text) in enumerate(zip(input_texts, target_texts)):\n",
    "    for t, char in enumerate(input_text):\n",
    "        encoder_input_data[i, t, input_token_index[char]] = 1.\n",
    "    for t, char in enumerate(target_text):\n",
    "        # decoder_target_data is ahead of decoder_input_data by one timestep\n",
    "        decoder_input_data[i, t, target_token_index[char]] = 1.\n",
    "        if t > 0:\n",
    "            # decoder_target_data will be ahead by one timestep\n",
    "            # and will not include the start character.\n",
    "            decoder_target_data[i, t - 1, target_token_index[char]] = 1."
   ]
  },
  {
   "cell_type": "markdown",
   "metadata": {},
   "source": [
    "## Model"
   ]
  },
  {
   "cell_type": "code",
   "execution_count": 355,
   "metadata": {
    "collapsed": true
   },
   "outputs": [],
   "source": [
    "# Define an input sequence and process it.\n",
    "encoder_inputs = Input(shape=(None, num_encoder_tokens))\n",
    "encoder = LSTM(latent_dim, return_state=True)\n",
    "encoder_outputs, state_h, state_c = encoder(encoder_inputs)\n",
    "# We discard `encoder_outputs` and only keep the states.\n",
    "encoder_states = [state_h, state_c]\n",
    "\n",
    "# Set up the decoder, using `encoder_states` as initial state.\n",
    "decoder_inputs = Input(shape=(None, num_decoder_tokens))\n",
    "# We set up our decoder to return full output sequences,\n",
    "# and to return internal states as well. We don't use the\n",
    "# return states in the training model, but we will use them in inference.\n",
    "decoder_lstm = LSTM(latent_dim, return_sequences=True, return_state=True)\n",
    "decoder_outputs, _, _ = decoder_lstm(decoder_inputs,\n",
    "                                     initial_state=encoder_states)\n",
    "decoder_dense = Dense(num_decoder_tokens, activation='relu')\n",
    "decoder_outputs = decoder_dense(decoder_outputs)"
   ]
  },
  {
   "cell_type": "code",
   "execution_count": 356,
   "metadata": {
    "collapsed": true
   },
   "outputs": [],
   "source": [
    "# Define the model that will turn\n",
    "# `encoder_input_data` & `decoder_input_data` into `decoder_target_data`\n",
    "filename = 'Models/model7.h5'\n",
    "checkpoint = ModelCheckpoint(filename, monitor='val_loss', verbose=1, save_best_only=True, mode='min')\n",
    "model = Model([encoder_inputs, decoder_inputs], decoder_outputs)"
   ]
  },
  {
   "cell_type": "markdown",
   "metadata": {},
   "source": [
    "## Run Training "
   ]
  },
  {
   "cell_type": "code",
   "execution_count": 357,
   "metadata": {
    "collapsed": true
   },
   "outputs": [
    {
     "name": "stdout",
     "output_type": "stream",
     "text": [
      "Train on 1600 samples, validate on 400 samples\n",
      "Epoch 1/100\n",
      "Epoch 00001: val_loss improved from inf to 1.64241, saving model to Models/model7.h5\n"
     ]
    },
    {
     "name": "stderr",
     "output_type": "stream",
     "text": [
      "/Users/Beatriz/Dropbox/Linguística/algoritmos/principal/WickelfeaturesProject/mestrado/lib/python3.6/site-packages/keras/engine/topology.py:2344: UserWarning: Layer lstm_38 was passed non-serializable keyword arguments: {'initial_state': [<tf.Tensor 'lstm_37/while/Exit_2:0' shape=(?, 256) dtype=float32>, <tf.Tensor 'lstm_37/while/Exit_3:0' shape=(?, 256) dtype=float32>]}. They will not be included in the serialized model (and thus will be missing at deserialization time).\n",
      "  str(node.arguments) + '. They will not be included '\n"
     ]
    },
    {
     "name": "stdout",
     "output_type": "stream",
     "text": [
      " - 13s - loss: 2.1501 - acc: 0.0740 - val_loss: 1.6424 - val_acc: 0.0331\n",
      "Epoch 2/100\n",
      "Epoch 00002: val_loss improved from 1.64241 to 1.59965, saving model to Models/model7.h5\n",
      " - 7s - loss: 1.5085 - acc: 0.0452 - val_loss: 1.5997 - val_acc: 0.0980\n",
      "Epoch 3/100\n",
      "Epoch 00003: val_loss improved from 1.59965 to 1.53816, saving model to Models/model7.h5\n",
      " - 7s - loss: 1.4446 - acc: 0.1315 - val_loss: 1.5382 - val_acc: 0.1575\n",
      "Epoch 4/100\n",
      "Epoch 00004: val_loss improved from 1.53816 to 1.48802, saving model to Models/model7.h5\n",
      " - 7s - loss: 1.3698 - acc: 0.1626 - val_loss: 1.4880 - val_acc: 0.1736\n",
      "Epoch 5/100\n",
      "Epoch 00005: val_loss improved from 1.48802 to 1.46256, saving model to Models/model7.h5\n",
      " - 7s - loss: 1.3221 - acc: 0.1682 - val_loss: 1.4626 - val_acc: 0.1789\n",
      "Epoch 6/100\n",
      "Epoch 00006: val_loss improved from 1.46256 to 1.42340, saving model to Models/model7.h5\n",
      " - 7s - loss: 1.2765 - acc: 0.1763 - val_loss: 1.4234 - val_acc: 0.1736\n",
      "Epoch 7/100\n",
      "Epoch 00007: val_loss did not improve\n",
      " - 6s - loss: 1.2832 - acc: 0.1683 - val_loss: 1.5240 - val_acc: 0.1406\n",
      "Epoch 8/100\n",
      "Epoch 00008: val_loss did not improve\n",
      " - 6s - loss: 1.5375 - acc: 0.0694 - val_loss: 1.7653 - val_acc: 0.1013\n",
      "Epoch 9/100\n",
      "Epoch 00009: val_loss did not improve\n",
      " - 6s - loss: 1.4671 - acc: 0.1079 - val_loss: 1.5211 - val_acc: 0.1334\n",
      "Epoch 10/100\n",
      "Epoch 00010: val_loss improved from 1.42340 to 1.42105, saving model to Models/model7.h5\n",
      " - 6s - loss: 1.3380 - acc: 0.1480 - val_loss: 1.4211 - val_acc: 0.1602\n",
      "Epoch 11/100\n",
      "Epoch 00011: val_loss improved from 1.42105 to 1.37879, saving model to Models/model7.h5\n",
      " - 7s - loss: 1.2482 - acc: 0.1665 - val_loss: 1.3788 - val_acc: 0.1761\n",
      "Epoch 12/100\n",
      "Epoch 00012: val_loss did not improve\n",
      " - 7s - loss: 1.3011 - acc: 0.1532 - val_loss: 1.4563 - val_acc: 0.1591\n",
      "Epoch 13/100\n",
      "Epoch 00013: val_loss did not improve\n",
      " - 6s - loss: 1.2805 - acc: 0.1598 - val_loss: 1.4170 - val_acc: 0.1780\n",
      "Epoch 14/100\n",
      "Epoch 00014: val_loss improved from 1.37879 to 1.36070, saving model to Models/model7.h5\n",
      " - 6s - loss: 1.2494 - acc: 0.1716 - val_loss: 1.3607 - val_acc: 0.1806\n",
      "Epoch 15/100\n",
      "Epoch 00015: val_loss improved from 1.36070 to 1.36056, saving model to Models/model7.h5\n",
      " - 7s - loss: 1.1908 - acc: 0.1730 - val_loss: 1.3606 - val_acc: 0.1817\n",
      "Epoch 16/100\n",
      "Epoch 00016: val_loss improved from 1.36056 to 1.33249, saving model to Models/model7.h5\n",
      " - 7s - loss: 1.1564 - acc: 0.1869 - val_loss: 1.3325 - val_acc: 0.1973\n",
      "Epoch 17/100\n",
      "Epoch 00017: val_loss did not improve\n",
      " - 7s - loss: 1.1460 - acc: 0.1826 - val_loss: 1.3667 - val_acc: 0.1500\n",
      "Epoch 18/100\n",
      "Epoch 00018: val_loss improved from 1.33249 to 1.31828, saving model to Models/model7.h5\n",
      " - 6s - loss: 1.2063 - acc: 0.1620 - val_loss: 1.3183 - val_acc: 0.1783\n",
      "Epoch 19/100\n",
      "Epoch 00019: val_loss did not improve\n",
      " - 7s - loss: 1.1809 - acc: 0.1811 - val_loss: 1.3333 - val_acc: 0.1800\n",
      "Epoch 20/100\n",
      "Epoch 00020: val_loss improved from 1.31828 to 1.30308, saving model to Models/model7.h5\n",
      " - 6s - loss: 1.1571 - acc: 0.1854 - val_loss: 1.3031 - val_acc: 0.1891\n",
      "Epoch 21/100\n",
      "Epoch 00021: val_loss did not improve\n",
      " - 7s - loss: 1.1175 - acc: 0.1965 - val_loss: 1.3094 - val_acc: 0.1970\n",
      "Epoch 22/100\n",
      "Epoch 00022: val_loss improved from 1.30308 to 1.28424, saving model to Models/model7.h5\n",
      " - 6s - loss: 1.1031 - acc: 0.2018 - val_loss: 1.2842 - val_acc: 0.2048\n",
      "Epoch 23/100\n",
      "Epoch 00023: val_loss did not improve\n",
      " - 7s - loss: 1.1319 - acc: 0.2021 - val_loss: 1.2992 - val_acc: 0.1911\n",
      "Epoch 24/100\n",
      "Epoch 00024: val_loss did not improve\n",
      " - 6s - loss: 1.1285 - acc: 0.1954 - val_loss: 1.2849 - val_acc: 0.1970\n",
      "Epoch 25/100\n",
      "Epoch 00025: val_loss did not improve\n",
      " - 6s - loss: 1.1322 - acc: 0.1951 - val_loss: 1.3874 - val_acc: 0.1789\n",
      "Epoch 26/100\n",
      "Epoch 00026: val_loss did not improve\n",
      " - 6s - loss: 1.1650 - acc: 0.1823 - val_loss: 1.3708 - val_acc: 0.1837\n",
      "Epoch 27/100\n",
      "Epoch 00027: val_loss did not improve\n",
      " - 6s - loss: 1.1648 - acc: 0.1849 - val_loss: 1.3402 - val_acc: 0.1927\n",
      "Epoch 28/100\n",
      "Epoch 00028: val_loss improved from 1.28424 to 1.26593, saving model to Models/model7.h5\n",
      " - 6s - loss: 1.1147 - acc: 0.1930 - val_loss: 1.2659 - val_acc: 0.1958\n",
      "Epoch 29/100\n",
      "Epoch 00029: val_loss did not improve\n",
      " - 7s - loss: 1.0841 - acc: 0.2014 - val_loss: 1.2843 - val_acc: 0.2027\n",
      "Epoch 30/100\n",
      "Epoch 00030: val_loss did not improve\n",
      " - 6s - loss: 1.2064 - acc: 0.1557 - val_loss: 1.3738 - val_acc: 0.1694\n",
      "Epoch 31/100\n",
      "Epoch 00031: val_loss did not improve\n",
      " - 6s - loss: 1.1493 - acc: 0.1872 - val_loss: 1.2757 - val_acc: 0.2042\n",
      "Epoch 32/100\n",
      "Epoch 00032: val_loss did not improve\n",
      " - 6s - loss: 1.1027 - acc: 0.2065 - val_loss: 1.2804 - val_acc: 0.2144\n",
      "Epoch 33/100\n",
      "Epoch 00033: val_loss improved from 1.26593 to 1.21519, saving model to Models/model7.h5\n",
      " - 6s - loss: 1.0546 - acc: 0.2143 - val_loss: 1.2152 - val_acc: 0.2203\n",
      "Epoch 34/100\n",
      "Epoch 00034: val_loss improved from 1.21519 to 1.20336, saving model to Models/model7.h5\n",
      " - 7s - loss: 1.0179 - acc: 0.2198 - val_loss: 1.2034 - val_acc: 0.2233\n",
      "Epoch 35/100\n",
      "Epoch 00035: val_loss did not improve\n",
      " - 7s - loss: 1.1826 - acc: 0.2016 - val_loss: 1.9251 - val_acc: 0.1377\n",
      "Epoch 36/100\n",
      "Epoch 00036: val_loss did not improve\n",
      " - 6s - loss: 1.4876 - acc: 0.1336 - val_loss: 1.5648 - val_acc: 0.1636\n",
      "Epoch 37/100\n",
      "Epoch 00037: val_loss did not improve\n",
      " - 6s - loss: 1.3931 - acc: 0.1665 - val_loss: 1.4585 - val_acc: 0.1773\n",
      "Epoch 38/100\n",
      "Epoch 00038: val_loss did not improve\n",
      " - 6s - loss: 1.2851 - acc: 0.1813 - val_loss: 1.3533 - val_acc: 0.1837\n",
      "Epoch 39/100\n",
      "Epoch 00039: val_loss did not improve\n",
      " - 6s - loss: 1.3191 - acc: 0.1075 - val_loss: 1.4447 - val_acc: 0.1138\n",
      "Epoch 40/100\n",
      "Epoch 00040: val_loss did not improve\n",
      " - 6s - loss: 1.2973 - acc: 0.1394 - val_loss: 1.4136 - val_acc: 0.1633\n",
      "Epoch 41/100\n",
      "Epoch 00041: val_loss did not improve\n",
      " - 6s - loss: 1.2408 - acc: 0.1640 - val_loss: 1.3765 - val_acc: 0.1730\n",
      "Epoch 42/100\n",
      "Epoch 00042: val_loss did not improve\n",
      " - 6s - loss: 1.1876 - acc: 0.1725 - val_loss: 1.3383 - val_acc: 0.1812\n",
      "Epoch 43/100\n",
      "Epoch 00043: val_loss did not improve\n",
      " - 6s - loss: 1.1537 - acc: 0.1816 - val_loss: 1.3095 - val_acc: 0.1909\n",
      "Epoch 44/100\n",
      "Epoch 00044: val_loss did not improve\n",
      " - 6s - loss: 1.2582 - acc: 0.1573 - val_loss: 1.3893 - val_acc: 0.1634\n",
      "Epoch 45/100\n",
      "Epoch 00045: val_loss did not improve\n",
      " - 6s - loss: 1.2122 - acc: 0.1676 - val_loss: 1.3907 - val_acc: 0.1703\n",
      "Epoch 46/100\n",
      "Epoch 00046: val_loss did not improve\n",
      " - 6s - loss: 1.1639 - acc: 0.1747 - val_loss: 1.3157 - val_acc: 0.1814\n",
      "Epoch 47/100\n",
      "Epoch 00047: val_loss did not improve\n",
      " - 6s - loss: 1.1351 - acc: 0.1829 - val_loss: 1.3291 - val_acc: 0.1862\n",
      "Epoch 48/100\n",
      "Epoch 00048: val_loss did not improve\n",
      " - 6s - loss: 1.1213 - acc: 0.1824 - val_loss: 1.2969 - val_acc: 0.1886\n",
      "Epoch 49/100\n",
      "Epoch 00049: val_loss did not improve\n",
      " - 6s - loss: 1.1444 - acc: 0.1830 - val_loss: 1.2967 - val_acc: 0.1928\n",
      "Epoch 50/100\n",
      "Epoch 00050: val_loss did not improve\n",
      " - 6s - loss: 1.1355 - acc: 0.1919 - val_loss: 1.2576 - val_acc: 0.1995\n",
      "Epoch 51/100\n",
      "Epoch 00051: val_loss did not improve\n",
      " - 6s - loss: 1.0767 - acc: 0.1963 - val_loss: 1.2664 - val_acc: 0.2028\n",
      "Epoch 52/100\n",
      "Epoch 00052: val_loss did not improve\n",
      " - 6s - loss: 1.0586 - acc: 0.2039 - val_loss: 1.2682 - val_acc: 0.2117\n",
      "Epoch 53/100\n",
      "Epoch 00053: val_loss did not improve\n",
      " - 6s - loss: 1.1580 - acc: 0.2066 - val_loss: 1.4936 - val_acc: 0.1948\n",
      "Epoch 54/100\n",
      "Epoch 00054: val_loss did not improve\n",
      " - 6s - loss: 1.2341 - acc: 0.1863 - val_loss: 1.3782 - val_acc: 0.1794\n",
      "Epoch 55/100\n",
      "Epoch 00055: val_loss did not improve\n",
      " - 6s - loss: 1.2243 - acc: 0.1601 - val_loss: 1.5979 - val_acc: 0.1256\n",
      "Epoch 56/100\n",
      "Epoch 00056: val_loss did not improve\n",
      " - 6s - loss: 1.4238 - acc: 0.0966 - val_loss: 1.4980 - val_acc: 0.0602\n",
      "Epoch 57/100\n",
      "Epoch 00057: val_loss did not improve\n",
      " - 6s - loss: 1.2948 - acc: 0.1058 - val_loss: 1.4233 - val_acc: 0.1412\n",
      "Epoch 58/100\n",
      "Epoch 00058: val_loss did not improve\n",
      " - 6s - loss: 1.2353 - acc: 0.1566 - val_loss: 1.3777 - val_acc: 0.1692\n",
      "Epoch 59/100\n",
      "Epoch 00059: val_loss did not improve\n",
      " - 6s - loss: 1.1889 - acc: 0.1786 - val_loss: 1.3460 - val_acc: 0.1830\n",
      "Epoch 60/100\n",
      "Epoch 00060: val_loss did not improve\n",
      " - 6s - loss: 1.1560 - acc: 0.1866 - val_loss: 1.3165 - val_acc: 0.1922\n",
      "Epoch 61/100\n",
      "Epoch 00061: val_loss did not improve\n",
      " - 6s - loss: 1.1389 - acc: 0.1858 - val_loss: 1.3255 - val_acc: 0.1772\n",
      "Epoch 62/100\n",
      "Epoch 00062: val_loss did not improve\n",
      " - 6s - loss: 1.1320 - acc: 0.1770 - val_loss: 1.3046 - val_acc: 0.1847\n",
      "Epoch 63/100\n",
      "Epoch 00063: val_loss did not improve\n",
      " - 6s - loss: 1.0995 - acc: 0.1877 - val_loss: 1.3045 - val_acc: 0.1978\n",
      "Epoch 64/100\n",
      "Epoch 00064: val_loss did not improve\n",
      " - 5s - loss: 1.0797 - acc: 0.1951 - val_loss: 1.2945 - val_acc: 0.1894\n",
      "Epoch 65/100\n",
      "Epoch 00065: val_loss did not improve\n",
      " - 6s - loss: 1.0718 - acc: 0.1909 - val_loss: 1.2353 - val_acc: 0.2053\n",
      "Epoch 66/100\n",
      "Epoch 00066: val_loss did not improve\n",
      " - 6s - loss: 1.0470 - acc: 0.2077 - val_loss: 1.2488 - val_acc: 0.2075\n",
      "Epoch 67/100\n",
      "Epoch 00067: val_loss improved from 1.20336 to 1.19620, saving model to Models/model7.h5\n",
      " - 6s - loss: 0.9920 - acc: 0.2030 - val_loss: 1.1962 - val_acc: 0.2045\n",
      "Epoch 68/100\n",
      "Epoch 00068: val_loss improved from 1.19620 to 1.12844, saving model to Models/model7.h5\n",
      " - 7s - loss: 0.9752 - acc: 0.2002 - val_loss: 1.1284 - val_acc: 0.2013\n",
      "Epoch 69/100\n",
      "Epoch 00069: val_loss improved from 1.12844 to 1.08255, saving model to Models/model7.h5\n",
      " - 8s - loss: 0.9319 - acc: 0.2080 - val_loss: 1.0825 - val_acc: 0.2123\n",
      "Epoch 70/100\n",
      "Epoch 00070: val_loss did not improve\n",
      " - 7s - loss: 0.9761 - acc: 0.1893 - val_loss: 1.1369 - val_acc: 0.1795\n",
      "Epoch 71/100\n",
      "Epoch 00071: val_loss did not improve\n",
      " - 6s - loss: 0.9502 - acc: 0.1952 - val_loss: 1.0986 - val_acc: 0.2036\n",
      "Epoch 72/100\n",
      "Epoch 00072: val_loss improved from 1.08255 to 1.07485, saving model to Models/model7.h5\n",
      " - 6s - loss: 0.9069 - acc: 0.2054 - val_loss: 1.0748 - val_acc: 0.2150\n",
      "Epoch 73/100\n",
      "Epoch 00073: val_loss improved from 1.07485 to 1.06208, saving model to Models/model7.h5\n",
      " - 7s - loss: 0.8811 - acc: 0.2116 - val_loss: 1.0621 - val_acc: 0.2161\n",
      "Epoch 74/100\n",
      "Epoch 00074: val_loss did not improve\n",
      " - 7s - loss: 0.8597 - acc: 0.2216 - val_loss: 1.0862 - val_acc: 0.2239\n",
      "Epoch 75/100\n",
      "Epoch 00075: val_loss did not improve\n",
      " - 7s - loss: 0.8546 - acc: 0.2285 - val_loss: 1.1123 - val_acc: 0.2292\n",
      "Epoch 76/100\n",
      "Epoch 00076: val_loss improved from 1.06208 to 1.05123, saving model to Models/model7.h5\n",
      " - 7s - loss: 0.8451 - acc: 0.2301 - val_loss: 1.0512 - val_acc: 0.2341\n",
      "Epoch 77/100\n",
      "Epoch 00077: val_loss did not improve\n",
      " - 7s - loss: 0.8252 - acc: 0.2318 - val_loss: 1.0950 - val_acc: 0.2272\n",
      "Epoch 78/100\n",
      "Epoch 00078: val_loss did not improve\n",
      " - 6s - loss: 0.8247 - acc: 0.2333 - val_loss: 1.0583 - val_acc: 0.2356\n",
      "Epoch 79/100\n",
      "Epoch 00079: val_loss did not improve\n",
      " - 6s - loss: 1.0193 - acc: 0.1973 - val_loss: 1.1218 - val_acc: 0.2081\n",
      "Epoch 80/100\n",
      "Epoch 00080: val_loss improved from 1.05123 to 1.02955, saving model to Models/model7.h5\n",
      " - 6s - loss: 0.8967 - acc: 0.2044 - val_loss: 1.0295 - val_acc: 0.2119\n",
      "Epoch 81/100\n",
      "Epoch 00081: val_loss did not improve\n",
      " - 7s - loss: 0.8526 - acc: 0.2165 - val_loss: 1.0379 - val_acc: 0.2131\n",
      "Epoch 82/100\n",
      "Epoch 00082: val_loss improved from 1.02955 to 1.02132, saving model to Models/model7.h5\n",
      " - 6s - loss: 0.8397 - acc: 0.2176 - val_loss: 1.0213 - val_acc: 0.2298\n",
      "Epoch 83/100\n",
      "Epoch 00083: val_loss did not improve\n",
      " - 7s - loss: 0.9294 - acc: 0.1739 - val_loss: 1.0432 - val_acc: 0.1795\n",
      "Epoch 84/100\n",
      "Epoch 00084: val_loss did not improve\n",
      " - 6s - loss: 0.8717 - acc: 0.1877 - val_loss: 1.0483 - val_acc: 0.1908\n",
      "Epoch 85/100\n",
      "Epoch 00085: val_loss did not improve\n",
      " - 6s - loss: 0.8496 - acc: 0.1937 - val_loss: 1.0236 - val_acc: 0.2017\n",
      "Epoch 86/100\n",
      "Epoch 00086: val_loss improved from 1.02132 to 1.00778, saving model to Models/model7.h5\n",
      " - 6s - loss: 0.8268 - acc: 0.2072 - val_loss: 1.0078 - val_acc: 0.2155\n",
      "Epoch 87/100\n",
      "Epoch 00087: val_loss did not improve\n",
      " - 7s - loss: 0.8716 - acc: 0.2068 - val_loss: 1.0710 - val_acc: 0.2062\n",
      "Epoch 88/100\n",
      "Epoch 00088: val_loss did not improve\n",
      " - 6s - loss: 0.8607 - acc: 0.2105 - val_loss: 1.0869 - val_acc: 0.2105\n",
      "Epoch 89/100\n",
      "Epoch 00089: val_loss did not improve\n",
      " - 6s - loss: 0.8633 - acc: 0.2094 - val_loss: 1.0578 - val_acc: 0.2162\n",
      "Epoch 90/100\n",
      "Epoch 00090: val_loss did not improve\n",
      " - 6s - loss: 0.8777 - acc: 0.2108 - val_loss: 1.2894 - val_acc: 0.1767\n",
      "Epoch 91/100\n",
      "Epoch 00091: val_loss did not improve\n",
      " - 6s - loss: 1.0067 - acc: 0.1846 - val_loss: 1.1334 - val_acc: 0.2122\n",
      "Epoch 92/100\n",
      "Epoch 00092: val_loss did not improve\n",
      " - 6s - loss: 0.9914 - acc: 0.1898 - val_loss: 1.2581 - val_acc: 0.1702\n",
      "Epoch 93/100\n",
      "Epoch 00093: val_loss did not improve\n",
      " - 6s - loss: 0.9920 - acc: 0.1807 - val_loss: 1.1340 - val_acc: 0.1922\n",
      "Epoch 94/100\n",
      "Epoch 00094: val_loss did not improve\n",
      " - 6s - loss: 0.9231 - acc: 0.1969 - val_loss: 1.0663 - val_acc: 0.2056\n",
      "Epoch 95/100\n",
      "Epoch 00095: val_loss did not improve\n",
      " - 6s - loss: 0.9332 - acc: 0.1963 - val_loss: 1.5194 - val_acc: 0.1398\n",
      "Epoch 96/100\n",
      "Epoch 00096: val_loss did not improve\n",
      " - 6s - loss: 1.0828 - acc: 0.1538 - val_loss: 1.2206 - val_acc: 0.1517\n",
      "Epoch 97/100\n",
      "Epoch 00097: val_loss did not improve\n",
      " - 6s - loss: 1.0365 - acc: 0.1684 - val_loss: 1.1726 - val_acc: 0.1672\n",
      "Epoch 98/100\n",
      "Epoch 00098: val_loss did not improve\n",
      " - 6s - loss: 0.9753 - acc: 0.1782 - val_loss: 1.1275 - val_acc: 0.1803\n",
      "Epoch 99/100\n",
      "Epoch 00099: val_loss did not improve\n",
      " - 6s - loss: 0.9351 - acc: 0.1858 - val_loss: 1.1140 - val_acc: 0.1884\n",
      "Epoch 100/100\n",
      "Epoch 00100: val_loss did not improve\n",
      " - 6s - loss: 0.9084 - acc: 0.1970 - val_loss: 1.0742 - val_acc: 0.1969\n",
      "CPU times: user 27min 36s, sys: 2min 39s, total: 30min 16s\n",
      "Wall time: 10min 16s\n"
     ]
    }
   ],
   "source": [
    "%%time\n",
    "# Run training\n",
    "model.compile(optimizer='adam', loss='categorical_crossentropy', metrics=['accuracy'])\n",
    "history = model.fit([encoder_input_data, decoder_input_data],\n",
    "                    decoder_target_data,\n",
    "                    batch_size=batch_size,\n",
    "                    epochs=epochs,\n",
    "                    validation_split=0.2,verbose=2, callbacks=[checkpoint])"
   ]
  },
  {
   "cell_type": "markdown",
   "metadata": {},
   "source": [
    "## Save Results "
   ]
  },
  {
   "cell_type": "code",
   "execution_count": 358,
   "metadata": {
    "collapsed": false
   },
   "outputs": [],
   "source": [
    "with open('Files/train_history_model7', 'wb') as file_pi:\n",
    "    pickle.dump(history.history, file_pi)"
   ]
  },
  {
   "cell_type": "code",
   "execution_count": 359,
   "metadata": {
    "collapsed": true
   },
   "outputs": [],
   "source": [
    "# Save Weights\n",
    "save_path = '2000-relu-no-dropout.h5'\n",
    "model.save_weights('Models/' + save_path)"
   ]
  },
  {
   "cell_type": "code",
   "execution_count": 360,
   "metadata": {
    "collapsed": false
   },
   "outputs": [
    {
     "name": "stdout",
     "output_type": "stream",
     "text": [
      "dict_keys(['val_loss', 'val_acc', 'loss', 'acc'])\n"
     ]
    }
   ],
   "source": [
    "%matplotlib inline\n",
    "# list all data in history\n",
    "print(history.history.keys())"
   ]
  },
  {
   "cell_type": "code",
   "execution_count": 361,
   "metadata": {
    "collapsed": false
   },
   "outputs": [
    {
     "data": {
      "text/plain": [
       "'Corpus/test1001534630013verbs.csv'"
      ]
     },
     "execution_count": 361,
     "metadata": {},
     "output_type": "execute_result"
    }
   ],
   "source": [
    "test_file"
   ]
  },
  {
   "cell_type": "code",
   "execution_count": 362,
   "metadata": {
    "collapsed": false
   },
   "outputs": [
    {
     "name": "stdout",
     "output_type": "stream",
     "text": [
      "0.21546875 1.0077752447128296 0.8268255162239074 0.2072265625\n"
     ]
    }
   ],
   "source": [
    "print(history.history['val_acc'][85],\n",
    "history.history['val_loss'][85],\n",
    "history.history['loss'][85],\n",
    "history.history['acc'][85])"
   ]
  },
  {
   "cell_type": "markdown",
   "metadata": {},
   "source": [
    "## Summary and Plots "
   ]
  },
  {
   "cell_type": "markdown",
   "metadata": {},
   "source": [
    "|     Model Name     | Test File     | Best Epoch Score | val_acc | val_loss | loss | acc    | Time|\n",
    "|:------------------:|---------------|-----------------:|---------|----------|------|--------|-----|\n",
    "| Model7.h5    | Corpus/test1001534630013verbs.csv'      |   86    |  0.21  |  1.00   | 0.82|0.207  |10 min|"
   ]
  },
  {
   "cell_type": "code",
   "execution_count": 363,
   "metadata": {
    "code_folding": [
     0
    ],
    "collapsed": false
   },
   "outputs": [
    {
     "data": {
      "image/png": "[encoded data removed]",
      "text/plain": [
       "<Figure size 432x288 with 1 Axes>"
      ]
     },
     "metadata": {},
     "output_type": "display_data"
    }
   ],
   "source": [
    "# summarize history for accuracy\n",
    "plt.plot(history.history['acc'])\n",
    "plt.plot(history.history['val_acc'])\n",
    "plt.title('model accuracy')\n",
    "plt.ylabel('accuracy')\n",
    "plt.xlabel('epoch')\n",
    "plt.legend(['train', 'test'], loc='upper left');"
   ]
  },
  {
   "cell_type": "code",
   "execution_count": 364,
   "metadata": {
    "code_folding": [
     0
    ],
    "collapsed": false
   },
   "outputs": [
    {
     "data": {
      "image/png": "[encoded data removed]",
      "text/plain": [
       "<Figure size 432x288 with 1 Axes>"
      ]
     },
     "metadata": {},
     "output_type": "display_data"
    }
   ],
   "source": [
    "# summarize history for loss\n",
    "plt.plot(history.history['loss'])\n",
    "plt.plot(history.history['val_loss'])\n",
    "plt.title('model loss')\n",
    "plt.ylabel('loss')\n",
    "plt.xlabel('epoch')\n",
    "plt.legend(['train', 'test'], loc='upper left');"
   ]
  },
  {
   "cell_type": "markdown",
   "metadata": {},
   "source": [
    "## Inference Mode "
   ]
  },
  {
   "cell_type": "code",
   "execution_count": 367,
   "metadata": {
    "code_folding": [],
    "collapsed": false
   },
   "outputs": [],
   "source": [
    "# Define an input sequence and process it.\n",
    "encoder_inputs = Input(shape=(None, num_encoder_tokens))\n",
    "encoder = LSTM(latent_dim, return_state=True)\n",
    "encoder_outputs, state_h, state_c = encoder(encoder_inputs)\n",
    "# We discard `encoder_outputs` and only keep the states.\n",
    "encoder_states = [state_h, state_c]\n",
    "\n",
    "# Set up the decoder, using `encoder_states` as initial state.\n",
    "decoder_inputs = Input(shape=(None, num_decoder_tokens))\n",
    "# We set up our decoder to return full output sequences,\n",
    "# and to return internal states as well. We don't use the\n",
    "# return states in the training model, but we will use them in inference.\n",
    "decoder_lstm = LSTM(latent_dim, return_sequences=True, return_state=True)\n",
    "decoder_outputs, _, _ = decoder_lstm(decoder_inputs,\n",
    "                                     initial_state=encoder_states)\n",
    "decoder_dense = Dense(num_decoder_tokens, activation='relu')\n",
    "decoder_outputs = decoder_dense(decoder_outputs)\n",
    "\n",
    "# Define the model that will turn\n",
    "# `encoder_input_data` & `decoder_input_data` into `decoder_target_data`\n",
    "model = Model([encoder_inputs, decoder_inputs], decoder_outputs)\n",
    "model.load_weights('Models/2000-relu-no-dropout.h5')\n",
    "\n",
    "# Next: inference mode (sampling).\n",
    "# Here's the drill:\n",
    "# 1) encode input and retrieve initial decoder state\n",
    "# 2) run one step of decoder with this initial state\n",
    "# and a \"start of sequence\" token as target.\n",
    "# Output will be the next target token\n",
    "# 3) Repeat with the current target token and current states\n",
    "\n",
    "# Define sampling models\n",
    "encoder_model = Model(encoder_inputs, encoder_states)\n",
    "\n",
    "decoder_state_input_h = Input(shape=(latent_dim,))\n",
    "decoder_state_input_c = Input(shape=(latent_dim,))\n",
    "decoder_states_inputs = [decoder_state_input_h, decoder_state_input_c]\n",
    "decoder_outputs, state_h, state_c = decoder_lstm(\n",
    "    decoder_inputs, initial_state=decoder_states_inputs)\n",
    "decoder_states = [state_h, state_c]\n",
    "decoder_outputs = decoder_dense(decoder_outputs)\n",
    "decoder_model = Model(\n",
    "    [decoder_inputs] + decoder_states_inputs,\n",
    "    [decoder_outputs] + decoder_states)\n",
    "\n",
    "# Reverse-lookup token index to decode sequences back to\n",
    "# something readable.\n",
    "reverse_input_char_index = dict(\n",
    "    (i, char) for char, i in input_token_index.items())\n",
    "reverse_target_char_index = dict(\n",
    "    (i, char) for char, i in target_token_index.items())"
   ]
  },
  {
   "cell_type": "markdown",
   "metadata": {},
   "source": [
    "## Test it on training set "
   ]
  },
  {
   "cell_type": "code",
   "execution_count": 396,
   "metadata": {
    "code_folding": [
     0
    ],
    "collapsed": true
   },
   "outputs": [],
   "source": [
    "def decode_sequence(input_seq):\n",
    "    # Encode the input as state vectors.\n",
    "    states_value = encoder_model.predict(input_seq)\n",
    "\n",
    "    # Generate empty target sequence of length 1.\n",
    "    target_seq = np.zeros((1, 1, num_decoder_tokens))\n",
    "    # Populate the first character of target sequence with the start character.\n",
    "    target_seq[0, 0, target_token_index['\\t']] = 1.\n",
    "\n",
    "    # Sampling loop for a batch of sequences\n",
    "    # (to simplify, here we assume a batch of size 1).\n",
    "    stop_condition = False\n",
    "    decoded_sentence = ''\n",
    "    while not stop_condition:\n",
    "        output_tokens, h, c = decoder_model.predict(\n",
    "            [target_seq] + states_value)\n",
    "\n",
    "        # Sample a token\n",
    "        sampled_token_index = np.argmax(output_tokens[0, -1, :])\n",
    "        sampled_char = reverse_target_char_index[sampled_token_index]\n",
    "        decoded_sentence += sampled_char\n",
    "\n",
    "        # Exit condition: either hit max length\n",
    "        # or find stop character.\n",
    "        if (sampled_char == '\\n' or\n",
    "           len(decoded_sentence) > max_decoder_seq_length):\n",
    "            stop_condition = True\n",
    "\n",
    "        # Update the target sequence (of length 1).\n",
    "        target_seq = np.zeros((1, 1, num_decoder_tokens))\n",
    "        target_seq[0, 0, sampled_token_index] = 1.\n",
    "\n",
    "        # Update states\n",
    "        states_value = [h, c]\n",
    "\n",
    "    return decoded_sentence"
   ]
  },
  {
   "cell_type": "code",
   "execution_count": 397,
   "metadata": {
    "code_folding": [
     0
    ],
    "collapsed": true
   },
   "outputs": [],
   "source": [
    "def encode_sequence(sentence, encoding_dict = input_token_index):\n",
    "    encoder_input_data = np.zeros((1,max_encoder_seq_length,len(encoding_dict)))\n",
    "    for t, char in enumerate(sentence):\n",
    "        encoder_input_data[0,t, encoding_dict[char]] = 1.\n",
    "    return encoder_input_data "
   ]
  },
  {
   "cell_type": "code",
   "execution_count": 398,
   "metadata": {
    "code_folding": [
     0
    ],
    "collapsed": true
   },
   "outputs": [],
   "source": [
    "def predictions(df_test):\n",
    "    \n",
    "    df_test['enconding'] = df_test.infinitivo.apply(encode_sequence).apply(decode_sequence)\n",
    "    return test"
   ]
  },
  {
   "cell_type": "code",
   "execution_count": 399,
   "metadata": {
    "code_folding": [
     0
    ],
    "collapsed": true
   },
   "outputs": [],
   "source": [
    "def predictions(df_test):\n",
    "    \n",
    "    df_test['enconding'] = df_test.infinitivo.apply(encode_sequence).apply(decode_sequence)\n",
    "    return df_test"
   ]
  },
  {
   "cell_type": "code",
   "execution_count": 400,
   "metadata": {
    "code_folding": [
     0
    ],
    "collapsed": true
   },
   "outputs": [
    {
     "name": "stdout",
     "output_type": "stream",
     "text": [
      "-\n",
      "Input sentence: ir\n",
      "Decoded sentence: o\n",
      "\n",
      "-\n",
      "Input sentence: ser\n",
      "Decoded sentence: ereso\n",
      "\n",
      "-\n",
      "Input sentence: fazer\n",
      "Decoded sentence: o\n",
      "\n",
      "-\n",
      "Input sentence: amar\n",
      "Decoded sentence: asuso\n",
      "\n",
      "-\n",
      "Input sentence: estar\n",
      "Decoded sentence: o\n",
      "\n",
      "-\n",
      "Input sentence: ver\n",
      "Decoded sentence: eveio\n",
      "\n",
      "-\n",
      "Input sentence: vir\n",
      "Decoded sentence: eveio\n",
      "\n",
      "-\n",
      "Input sentence: ter\n",
      "Decoded sentence: ereso\n",
      "\n",
      "-\n",
      "Input sentence: poder\n",
      "Decoded sentence: o\n",
      "\n",
      "-\n",
      "Input sentence: dar\n",
      "Decoded sentence: aso\n",
      "\n",
      "-\n",
      "Input sentence: haver\n",
      "Decoded sentence: veveuso\n",
      "\n",
      "-\n",
      "Input sentence: partir\n",
      "Decoded sentence: o\n",
      "\n",
      "-\n",
      "Input sentence: comer\n",
      "Decoded sentence: co\n",
      "\n",
      "-\n",
      "Input sentence: pÌ«r\n",
      "Decoded sentence: o\n",
      "\n",
      "-\n",
      "Input sentence: dizer\n",
      "Decoded sentence: eno\n",
      "\n",
      "-\n",
      "Input sentence: estudar\n",
      "Decoded sentence: o\n",
      "\n",
      "-\n",
      "Input sentence: falar\n",
      "Decoded sentence: o\n",
      "\n",
      "-\n",
      "Input sentence: cantar\n",
      "Decoded sentence: o\n",
      "\n",
      "-\n",
      "Input sentence: rir\n",
      "Decoded sentence: o\n",
      "\n",
      "-\n",
      "Input sentence: sair\n",
      "Decoded sentence: o\n",
      "\n",
      "-\n",
      "Input sentence: querer\n",
      "Decoded sentence: areso\n",
      "\n",
      "-\n",
      "Input sentence: trazer\n",
      "Decoded sentence: o\n",
      "\n",
      "-\n",
      "Input sentence: vender\n",
      "Decoded sentence: eeveio\n",
      "\n",
      "-\n",
      "Input sentence: beber\n",
      "Decoded sentence: co\n",
      "\n",
      "-\n",
      "Input sentence: correr\n",
      "Decoded sentence: co\n",
      "\n",
      "-\n",
      "Input sentence: ler\n",
      "Decoded sentence: elo\n",
      "\n",
      "-\n",
      "Input sentence: saber\n",
      "Decoded sentence: aso\n",
      "\n",
      "-\n",
      "Input sentence: sorrir\n",
      "Decoded sentence: o\n",
      "\n",
      "-\n",
      "Input sentence: dormir\n",
      "Decoded sentence: o\n",
      "\n",
      "-\n",
      "Input sentence: sentir\n",
      "Decoded sentence: eento\n",
      "\n",
      "-\n",
      "Input sentence: agir\n",
      "Decoded sentence: auso\n",
      "\n",
      "-\n",
      "Input sentence: andar\n",
      "Decoded sentence: auso\n",
      "\n",
      "-\n",
      "Input sentence: escrever\n",
      "Decoded sentence: eenevo\n",
      "\n",
      "-\n",
      "Input sentence: brincar\n",
      "Decoded sentence: co\n",
      "\n",
      "-\n",
      "Input sentence: gostar\n",
      "Decoded sentence: asauso\n",
      "\n",
      "-\n",
      "Input sentence: ouvir\n",
      "Decoded sentence: evo\n",
      "\n",
      "-\n",
      "Input sentence: corrigir\n",
      "Decoded sentence: oco\n",
      "\n",
      "-\n",
      "Input sentence: pedir\n",
      "Decoded sentence: penco\n",
      "\n",
      "-\n",
      "Input sentence: chegar\n",
      "Decoded sentence: areso\n",
      "\n",
      "-\n",
      "Input sentence: jogar\n",
      "Decoded sentence: ato\n",
      "\n",
      "-\n",
      "Input sentence: caber\n",
      "Decoded sentence: co\n",
      "\n",
      "-\n",
      "Input sentence: receber\n",
      "Decoded sentence: eco\n",
      "\n",
      "-\n",
      "Input sentence: danssar\n",
      "Decoded sentence: auso\n",
      "\n",
      "-\n",
      "Input sentence: ficar\n",
      "Decoded sentence: o\n",
      "\n",
      "-\n",
      "Input sentence: pensar\n",
      "Decoded sentence: o\n",
      "\n",
      "-\n",
      "Input sentence: chamar\n",
      "Decoded sentence: aso\n",
      "\n",
      "-\n",
      "Input sentence: crer\n",
      "Decoded sentence: o\n",
      "\n",
      "-\n",
      "Input sentence: abrir\n",
      "Decoded sentence: co\n",
      "\n",
      "-\n",
      "Input sentence: manter\n",
      "Decoded sentence: o\n",
      "\n",
      "-\n",
      "Input sentence: expor\n",
      "Decoded sentence: penco\n",
      "\n",
      "-\n",
      "Input sentence: encontrar\n",
      "Decoded sentence: oco\n",
      "\n",
      "-\n",
      "Input sentence: lembrar\n",
      "Decoded sentence: alo\n",
      "\n",
      "-\n",
      "Input sentence: cair\n",
      "Decoded sentence: o\n",
      "\n",
      "-\n",
      "Input sentence: nascer\n",
      "Decoded sentence: o\n",
      "\n",
      "-\n",
      "Input sentence: comessar\n",
      "Decoded sentence: co\n",
      "\n",
      "-\n",
      "Input sentence: aprender\n",
      "Decoded sentence: o\n",
      "\n",
      "-\n",
      "Input sentence: conseguir\n",
      "Decoded sentence: o\n",
      "\n",
      "-\n",
      "Input sentence: intervir\n",
      "Decoded sentence: eento\n",
      "\n",
      "-\n",
      "Input sentence: conhecer\n",
      "Decoded sentence: co\n",
      "\n",
      "-\n",
      "Input sentence: viver\n",
      "Decoded sentence: eveveio\n",
      "\n",
      "-\n",
      "Input sentence: perder\n",
      "Decoded sentence: o\n",
      "\n",
      "-\n",
      "Input sentence: comprar\n",
      "Decoded sentence: co\n",
      "\n",
      "-\n",
      "Input sentence: usar\n",
      "Decoded sentence: auso\n",
      "\n",
      "-\n",
      "Input sentence: pular\n",
      "Decoded sentence: ulo\n",
      "\n",
      "-\n",
      "Input sentence: viajar\n",
      "Decoded sentence: vevo\n",
      "\n",
      "-\n",
      "Input sentence: voar\n",
      "Decoded sentence: vavo\n",
      "\n",
      "-\n",
      "Input sentence: passear\n",
      "Decoded sentence: apuso\n",
      "\n",
      "-\n",
      "Input sentence: dividir\n",
      "Decoded sentence: eino\n",
      "\n",
      "-\n",
      "Input sentence: trabalhar\n",
      "Decoded sentence: ato\n",
      "\n",
      "-\n",
      "Input sentence: voltar\n",
      "Decoded sentence: vevo\n",
      "\n",
      "-\n",
      "Input sentence: dirigir\n",
      "Decoded sentence: o\n",
      "\n",
      "-\n",
      "Input sentence: subir\n",
      "Decoded sentence: auso\n",
      "\n",
      "-\n",
      "Input sentence: levar\n",
      "Decoded sentence: velo\n",
      "\n",
      "-\n",
      "Input sentence: dever\n",
      "Decoded sentence: eento\n",
      "\n",
      "-\n",
      "Input sentence: proteger\n",
      "Decoded sentence: o\n",
      "\n",
      "-\n",
      "Input sentence: entender\n",
      "Decoded sentence: eeneso\n",
      "\n",
      "-\n",
      "Input sentence: compor\n",
      "Decoded sentence: copo\n",
      "\n",
      "-\n",
      "Input sentence: parar\n",
      "Decoded sentence: o\n",
      "\n",
      "-\n",
      "Input sentence: achar\n",
      "Decoded sentence: aso\n",
      "\n",
      "-\n",
      "Input sentence: olhar\n",
      "Decoded sentence: aluo\n",
      "\n",
      "-\n",
      "Input sentence: passar\n",
      "Decoded sentence: asuso\n",
      "\n",
      "-\n",
      "Input sentence: cumprir\n",
      "Decoded sentence: o\n",
      "\n",
      "-\n",
      "Input sentence: seguir\n",
      "Decoded sentence: eito\n",
      "\n",
      "-\n",
      "Input sentence: colocar\n",
      "Decoded sentence: co\n",
      "\n",
      "-\n",
      "Input sentence: fugir\n",
      "Decoded sentence: o\n",
      "\n",
      "-\n",
      "Input sentence: imprimir\n",
      "Decoded sentence: o\n",
      "\n",
      "-\n",
      "Input sentence: assistir\n",
      "Decoded sentence: assuso\n",
      "\n",
      "-\n",
      "Input sentence: deixar\n",
      "Decoded sentence: exo\n",
      "\n",
      "-\n",
      "Input sentence: precisar\n",
      "Decoded sentence: o\n",
      "\n",
      "-\n",
      "Input sentence: medir\n",
      "Decoded sentence: eno\n",
      "\n",
      "-\n",
      "Input sentence: acordar\n",
      "Decoded sentence: co\n",
      "\n",
      "-\n",
      "Input sentence: tossir\n",
      "Decoded sentence: asso\n",
      "\n",
      "-\n",
      "Input sentence: conversar\n",
      "Decoded sentence: co\n",
      "\n",
      "-\n",
      "Input sentence: procurar\n",
      "Decoded sentence: o\n",
      "\n",
      "-\n",
      "Input sentence: mexer\n",
      "Decoded sentence: eendeio\n",
      "\n",
      "-\n",
      "Input sentence: fingir\n",
      "Decoded sentence: peno\n",
      "\n",
      "-\n",
      "Input sentence: esquecer\n",
      "Decoded sentence: esso\n",
      "\n",
      "-\n",
      "Input sentence: desejar\n",
      "Decoded sentence: o\n",
      "\n",
      "-\n",
      "Input sentence: lavar\n",
      "Decoded sentence: avalo\n",
      "\n",
      "-\n",
      "Input sentence: esperar\n",
      "Decoded sentence: o\n",
      "\n"
     ]
    }
   ],
   "source": [
    "for seq_index in range(100):\n",
    "    # Take one sequence (part of the training set)\n",
    "    # for trying out decoding.\n",
    "    input_seq = encoder_input_data[seq_index: seq_index + 1]\n",
    "    decoded_sentence = decode_sequence(input_seq)\n",
    "    print('-')\n",
    "    print('Input sentence:', input_texts[seq_index])\n",
    "    print('Decoded sentence:', decoded_sentence)"
   ]
  },
  {
   "cell_type": "code",
   "execution_count": 401,
   "metadata": {
    "collapsed": false
   },
   "outputs": [
    {
     "data": {
      "text/plain": [
       "'eco\\n'"
      ]
     },
     "execution_count": 401,
     "metadata": {},
     "output_type": "execute_result"
    }
   ],
   "source": [
    "decode_sequence(encode_sequence(\"escurecer\"))"
   ]
  },
  {
   "cell_type": "markdown",
   "metadata": {},
   "source": [
    "## Test it on the Testing set "
   ]
  },
  {
   "cell_type": "code",
   "execution_count": 402,
   "metadata": {
    "collapsed": false
   },
   "outputs": [
    {
     "data": {
      "text/plain": [
       "'Corpus/test1001534627942verbs.csv'"
      ]
     },
     "execution_count": 402,
     "metadata": {},
     "output_type": "execute_result"
    }
   ],
   "source": [
    "test_file"
   ]
  },
  {
   "cell_type": "code",
   "execution_count": 412,
   "metadata": {
    "collapsed": false
   },
   "outputs": [],
   "source": [
    "def new_load_test(test_file):\n",
    "    import pandas as pd\n",
    "\n",
    "    test = pd.read_csv(test_file, \n",
    "                       sep=';', names=['infinitivo','conjugado'], encoding='latin1')\n",
    "    return test\n",
    "df_Test = new_load_test(test_file)"
   ]
  },
  {
   "cell_type": "code",
   "execution_count": 413,
   "metadata": {
    "collapsed": false
   },
   "outputs": [],
   "source": [
    "df_Test['encoding'] = df_Test.infinitivo.iloc[:60].apply(encode_sequence).apply(decode_sequence)"
   ]
  },
  {
   "cell_type": "code",
   "execution_count": 414,
   "metadata": {
    "collapsed": true
   },
   "outputs": [
    {
     "data": {
      "text/plain": [
       "array([['raptar', 'rapto', 'aso\\n'],\n",
       "       ['salgar', 'salgo', 'aulo\\n'],\n",
       "       ['barrar', 'barro', 'aco\\n'],\n",
       "       ['urinar', 'urino', 'auso\\n'],\n",
       "       ['inquirir', 'inquiro', 'eino\\n'],\n",
       "       ['empobrecer', 'empobresso', 'co\\n'],\n",
       "       ['alumiar', 'alumio', 'aulo\\n'],\n",
       "       ['abreviar', 'abrevio', 'bero\\n'],\n",
       "       ['folhar', 'folho', 'o\\n'],\n",
       "       ['desprover', 'desprovo', 'co\\n'],\n",
       "       ['reconvir', 'reconvenho', 'eco\\n'],\n",
       "       ['refutar', 'refuto', 'o\\n'],\n",
       "       ['cogitar', 'cogito', 'aco\\n'],\n",
       "       ['contrastar', 'contrasto', 'oco\\n'],\n",
       "       ['profetizar', 'profetizo', 'openo\\n'],\n",
       "       ['repudiar', 'repudio', 'po\\n'],\n",
       "       ['escoar', 'escoo', 'o\\n'],\n",
       "       ['engrandecer', 'engrandesso', 'eulo\\n'],\n",
       "       ['desabafar', 'desabafo', 'auso\\n'],\n",
       "       ['estampar', 'estampo', 'asuso\\n'],\n",
       "       ['aquietar', 'aquieto', 'auso\\n'],\n",
       "       ['assombrar', 'assombro', 'aco\\n'],\n",
       "       ['solussar', 'solusso', 'aulo\\n'],\n",
       "       ['debulhar', 'debulho', 'o\\n'],\n",
       "       ['lixar', 'lixo', 'ulo\\n'],\n",
       "       ['sorver', 'sorvo', 'evero\\n'],\n",
       "       ['filtrar', 'filtro', 'o\\n'],\n",
       "       ['migrar', 'migro', 'aruso\\n'],\n",
       "       ['pilar', 'pilo', 'o\\n'],\n",
       "       ['bolar', 'bolo', 'alo\\n'],\n",
       "       ['perfumar', 'perfumo', 'po\\n'],\n",
       "       ['bem-querer', 'bem-quero', 'asuso\\n'],\n",
       "       ['desemalar', 'desemalo', 'o\\n'],\n",
       "       ['aprisionar', 'aprisiono', 'po\\n'],\n",
       "       ['rossar', 'rosso', 'aso\\n'],\n",
       "       ['infiltrar', 'infiltro', 'o\\n'],\n",
       "       ['presar', 'preso', 'o\\n'],\n",
       "       ['sondar', 'sondo', 'o\\n'],\n",
       "       ['velejar', 'velejo', 'evelo\\n'],\n",
       "       ['acrescer', 'acressso', 'co\\n'],\n",
       "       ['alargar', 'alargo', 'auaso\\n'],\n",
       "       ['pichar', 'picho', 'o\\n'],\n",
       "       ['acautelar', 'acautelo', 'o\\n'],\n",
       "       ['bronzear', 'bronzeio', 'co\\n'],\n",
       "       ['entornar', 'entorno', 'ero\\n'],\n",
       "       ['transcorrer', 'transcorro', 'aco\\n'],\n",
       "       ['lapidar', 'lapido', 'upaco\\n'],\n",
       "       ['mascarar', 'mascaro', 'aco\\n'],\n",
       "       ['descompor', 'descomponho', 'co\\n'],\n",
       "       ['bancar', 'banco', 'co\\n'],\n",
       "       ['aleijar', 'aleijo', 'aluso\\n'],\n",
       "       ['castrar', 'castro', 'aco\\n'],\n",
       "       ['condicionar', 'condiciono', 'poco\\n'],\n",
       "       ['embasar', 'embaso', 'asaso\\n'],\n",
       "       ['indenizar', 'indenizo', 'eneno\\n'],\n",
       "       ['rastejar', 'rastejo', 'asso\\n'],\n",
       "       ['edificar', 'edifico', 'po\\n'],\n",
       "       ['enamorar', 'enamoro', 'o\\n'],\n",
       "       ['voltear', 'volteio', 'vevo\\n'],\n",
       "       ['explicitar', 'explicito', 'epeco\\n']], dtype=object)"
      ]
     },
     "execution_count": 414,
     "metadata": {},
     "output_type": "execute_result"
    }
   ],
   "source": [
    "df_Test.head(60).values"
   ]
  },
  {
   "cell_type": "code",
   "execution_count": 415,
   "metadata": {
    "collapsed": false
   },
   "outputs": [],
   "source": [
    "def test_accuracy(df, len_test):\n",
    "    df_Test['encoding'] = df_Test['encoding'].apply(lambda x: str(x)[:-1])\n",
    "\n",
    "    df_Test['conjugado'] = df_Test['conjugado'].apply(lambda x: str(x))\n",
    "\n",
    "    df = df_Test\n",
    "\n",
    "    matches = df[df['encoding'] == df['conjugado']]\n",
    "\n",
    "    return float(len(matches))/len_test "
   ]
  },
  {
   "cell_type": "code",
   "execution_count": 416,
   "metadata": {
    "collapsed": false
   },
   "outputs": [
    {
     "data": {
      "text/plain": [
       "0.0"
      ]
     },
     "execution_count": 416,
     "metadata": {},
     "output_type": "execute_result"
    }
   ],
   "source": [
    "test_accuracy(df_Test, 60)"
   ]
  },
  {
   "cell_type": "markdown",
   "metadata": {},
   "source": [
    "---"
   ]
  },
  {
   "cell_type": "code",
   "execution_count": null,
   "metadata": {
    "collapsed": true
   },
   "outputs": [],
   "source": []
  }
 ],
 "metadata": {
  "hide_input": true,
  "kernelspec": {
   "display_name": "metrado",
   "language": "python",
   "name": "metrado"
  },
  "language_info": {
   "codemirror_mode": {
    "name": "ipython",
    "version": 3
   },
   "file_extension": ".py",
   "mimetype": "text/x-python",
   "name": "python",
   "nbconvert_exporter": "python",
   "pygments_lexer": "ipython3",
   "version": "3.6.4"
  },
  "toc": {
   "base_numbering": 1,
   "nav_menu": {},
   "number_sections": true,
   "sideBar": true,
   "skip_h1_title": false,
   "title_cell": "Table of Contents",
   "title_sidebar": "Contents",
   "toc_cell": false,
   "toc_position": {
    "height": "calc(100% - 180px)",
    "left": "10px",
    "top": "150px",
    "width": "307px"
   },
   "toc_section_display": true,
   "toc_window_display": true
  }
 },
 "nbformat": 4,
 "nbformat_minor": 2
}
