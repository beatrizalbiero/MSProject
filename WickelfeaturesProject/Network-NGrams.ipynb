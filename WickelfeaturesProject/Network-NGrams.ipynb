{
 "cells": [
  {
   "cell_type": "markdown",
   "metadata": {},
   "source": [
    "### Packages"
   ]
  },
  {
   "cell_type": "code",
   "execution_count": 1,
   "metadata": {
    "collapsed": false
   },
   "outputs": [
    {
     "name": "stderr",
     "output_type": "stream",
     "text": [
      "Using TensorFlow backend.\n"
     ]
    }
   ],
   "source": [
    "import sys\n",
    "import keras\n",
    "from keras.models import Sequential\n",
    "from keras.layers import Dense\n",
    "from keras.models import load_model\n",
    "from keras_metrics import KerasMetrics\n",
    "from keras.callbacks import EarlyStopping\n",
    "from keras import optimizers\n",
    "import numpy as np\n",
    "import random\n",
    "import pickle\n",
    "import decoding_ngrams as dc\n",
    "from Files import nodes\n",
    "import os\n",
    "import utility as ut\n",
    "import livelossplot\n",
    "sys.path.append('../')"
   ]
  },
  {
   "cell_type": "code",
   "execution_count": 2,
   "metadata": {
    "collapsed": true
   },
   "outputs": [],
   "source": [
    "def pipeline(verbs):\n",
    "    \"\"\"\n",
    "    Pipeline receives a list of verbs and predicts a conjugated form for them.\n",
    "    The prediction is saved in an output file.\n",
    "\n",
    "    :verbs type: list\n",
    "    :r type: string\n",
    "    \"\"\"\n",
    "    import coding_function as cf\n",
    "    from time import gmtime, strftime\n",
    "    import itertools\n",
    "    time = strftime(\"%Y-%m-%d_%H:%M:%S\", gmtime())\n",
    "    name = \"output_\" + time + \".txt\"\n",
    "\n",
    "    correct = {'#pega#': '#pEgu#', '#sega#': '#sEgu#', '#seka#': '#sEku#',\n",
    "               '#leva#': '#lEvu#', '#ora#': '#Oru#', '#mora#': '#mOru#',\n",
    "               '#posta#': '#pOtu#', '#joga#': '#jOgu#', '#sortia#': '#soiu#',\n",
    "               '#media#': '#meiu#', '#kompo#': '#koiu#', '#po#': '#poiu#', \n",
    "               '#menti#': '#mitu#', '#tosi#': '#tusu#', '#kobri#': \n",
    "               '#kuro#', '#faze#': '#fasu#', '#mata#': '#matu#', '#paga#': \n",
    "               '#pagu#', '#sai#': '#saiu#', '#bate#': '#batu#', '#kome#': \n",
    "               '#komu#','#nota#': '#nOta#','#soka#': '#sOku#','#loga#': '#lOga#',\n",
    "               '#limpa#': '#lipu#','#kasa#': '#kasu#'}\n",
    "\n",
    "#     f = open('Files/Results/'+ name, \"w\")\n",
    "#     f.write(\"train data set:\" + path + '\\n' + 'Results:\\n' + 'model name: ' + load + '\\n')\n",
    "    test_list = []\n",
    "    for i in verbs:\n",
    "        coding = cf.coding(i)\n",
    "        test_list.append(coding)\n",
    "    test_list = np.array(test_list)\n",
    "    prediction = model.predict(test_list)\n",
    "    sum = 0\n",
    "    for i,j in list(zip(verbs, prediction)):\n",
    "#         f.write('verb: '+ i + \", expected: \" + correct[i] + \", prediction: \" + \n",
    "#                 dc.decoding(j) + '\\n')\n",
    "        decoded = dc.decoding(j)\n",
    "        try: \n",
    "            print('input: '+ i + \", expected: \" + correct[i] + \", output: \" + \n",
    "                  decoded + '\\n')\n",
    "            if decoded == correct[i]:\n",
    "                sum = sum + 1 \n",
    "        except: \n",
    "            print('input: '+ i + \" -> output: \" + decoded + '\\n')\n",
    "        \n",
    "   \n",
    "    print(\"Accuracy (verbs): %.2f%%\" % (sum/len(verbs)*100 ))\n",
    "    scores = model.evaluate(X, Y)\n",
    "#     f.write(\"\\n%s: %.2f%% \\n%s: %.2f%% \\n%s: %.2f%%\" % (model.metrics_names[0], scores[1]*100,\n",
    "#                                                         model.metrics_names[1], scores[1]*100, \n",
    "#                                                         model.metrics_names[2], scores[2]*100,\n",
    "#                                                         model.metrics_names[3], scores[3]*100 ))\n",
    "    print(\"\\n%s: %.2f%% \\n%s: %.2f%% \\n%s: %.2f%% \\n%s: %.2f%%\" % (model.metrics_names[0], scores[0]*100,\n",
    "                                                                   model.metrics_names[1], scores[1]*100, \n",
    "                                                                   model.metrics_names[2], scores[2]*100,\n",
    "                                                                   model.metrics_names[3], scores[3]*100 ))\n",
    "    \n",
    "    \n",
    "    #f.close()\n",
    "    return #print(\"\\nPredictions saved in the file: \" + name) "
   ]
  },
  {
   "cell_type": "markdown",
   "metadata": {},
   "source": [
    "### 1. Load Data"
   ]
  },
  {
   "cell_type": "code",
   "execution_count": 3,
   "metadata": {
    "collapsed": false
   },
   "outputs": [
    {
     "data": {
      "text/plain": [
       "325"
      ]
     },
     "execution_count": 3,
     "metadata": {},
     "output_type": "execute_result"
    }
   ],
   "source": [
    "path = 'Corpus/train_corpus.csv'\n",
    "X,Y = ut.load_ngrams(path)\n",
    "batch = len(X)\n",
    "batch"
   ]
  },
  {
   "cell_type": "markdown",
   "metadata": {},
   "source": [
    "#### 1.2 Verify length of unique verbs"
   ]
  },
  {
   "cell_type": "code",
   "execution_count": 9,
   "metadata": {
    "collapsed": false
   },
   "outputs": [
    {
     "ename": "AttributeError",
     "evalue": "module 'utility' has no attribute 'load_ngrams'",
     "output_type": "error",
     "traceback": [
      "\u001b[0;31m---------------------------------------------------------------------------\u001b[0m",
      "\u001b[0;31mAttributeError\u001b[0m                            Traceback (most recent call last)",
      "\u001b[0;32m<ipython-input-9-29d551bc8f83>\u001b[0m in \u001b[0;36m<module>\u001b[0;34m()\u001b[0m\n\u001b[1;32m      1\u001b[0m \u001b[0mpath\u001b[0m \u001b[0;34m=\u001b[0m \u001b[0;34m'Corpus/train_corpus.csv'\u001b[0m\u001b[0;34m\u001b[0m\u001b[0m\n\u001b[0;32m----> 2\u001b[0;31m \u001b[0mX\u001b[0m\u001b[0;34m,\u001b[0m\u001b[0mY\u001b[0m \u001b[0;34m=\u001b[0m \u001b[0mut\u001b[0m\u001b[0;34m.\u001b[0m\u001b[0mload_ngrams\u001b[0m\u001b[0;34m(\u001b[0m\u001b[0mpath\u001b[0m\u001b[0;34m,\u001b[0m \u001b[0mverbose\u001b[0m \u001b[0;34m=\u001b[0m \u001b[0;32mTrue\u001b[0m\u001b[0;34m)\u001b[0m\u001b[0;34m\u001b[0m\u001b[0m\n\u001b[0m",
      "\u001b[0;31mAttributeError\u001b[0m: module 'utility' has no attribute 'load_ngrams'"
     ]
    }
   ],
   "source": [
    "path = 'Corpus/train_corpus.csv'\n",
    "X,Y = ut.load_ngrams(path, verbose = True)"
   ]
  },
  {
   "cell_type": "markdown",
   "metadata": {},
   "source": [
    "### 2. Fit Neural Net (Optional)"
   ]
  },
  {
   "cell_type": "code",
   "execution_count": 65,
   "metadata": {
    "collapsed": false
   },
   "outputs": [
    {
     "name": "stdout",
     "output_type": "stream",
     "text": [
      "256/325 [======================>.......] - ETA: 0s\b\b\b\b\b\b\b\b\b\b\b\b\b\b\b\b\b\b\b\b\b\b\b\b\b\b\b\b\b\b\b\b\b\b\b\b\b\b\b\b\b\b\b\b\b\b\b\b\b\b\n",
      "loss: 2.71% \n",
      "fbeta_score: 92.49% \n",
      "recall: 86.15% \n",
      "precision: 100.00%\n"
     ]
    }
   ],
   "source": [
    "# 1. Define Model\n",
    "model = Sequential()\n",
    "model.add(Dense(1060, input_shape=(1060,), activation='sigmoid'))\n",
    "\n",
    "\n",
    "# 2. Compile model\n",
    "keras_metrics = KerasMetrics()\n",
    "model.compile( \n",
    "    optimizer='adam', \n",
    "    loss='mean_squared_error',\n",
    "    metrics = [ keras_metrics.fbeta_score,\n",
    "               keras_metrics.recall,\n",
    "               keras_metrics.precision]\n",
    "            )\n",
    "\n",
    "# 3. Fit model\n",
    "stopper = EarlyStopping(monitor='fbeta_score', min_delta=0.00005, patience=50, verbose=1, mode='max')\n",
    "model.fit(X,Y,epochs = 400, batch_size=batch,verbose=False,callbacks= [stopper])\n",
    "\n",
    "# 4. Evaluate model\n",
    "scores = model.evaluate(X, Y)\n",
    "print(\"\\n%s: %.2f%% \\n%s: %.2f%% \\n%s: %.2f%% \\n%s: %.2f%%\" % (model.metrics_names[0], scores[0]*100,\n",
    "                                                               model.metrics_names[1], scores[1]*100, \n",
    "                                                               model.metrics_names[2], scores[2]*100,\n",
    "                                                               model.metrics_names[3], scores[3]*100 ))\n",
    "\n",
    "# 5. Save model\n",
    "model.save('Models/NgramModels/second_test')"
   ]
  },
  {
   "cell_type": "markdown",
   "metadata": {},
   "source": [
    "2. Load Trained Model"
   ]
  },
  {
   "cell_type": "code",
   "execution_count": 66,
   "metadata": {
    "collapsed": true
   },
   "outputs": [],
   "source": [
    "keras_metrics = KerasMetrics()\n",
    "model = load_model('Models/NgramModels/second_test',custom_objects={'fbeta_score': keras_metrics.fbeta_score,\n",
    "                                                     'recall': keras_metrics.recall,\n",
    "                                                     'precision': keras_metrics.precision})"
   ]
  },
  {
   "cell_type": "markdown",
   "metadata": {},
   "source": [
    "#### 2.1 Train existing model"
   ]
  },
  {
   "cell_type": "markdown",
   "metadata": {
    "collapsed": true
   },
   "source": [
    "model.fit(X,Y,epochs = 150, batch_size=batch,verbose=False,callbacks= [stopper])"
   ]
  },
  {
   "cell_type": "markdown",
   "metadata": {},
   "source": [
    "### 3. Check Results\n",
    "Test the prediction for some verbs.\n",
    "\n",
    "pipeline(['#pega#','#sega#','#seka#','#leva#','#ora#','#mora#', '#posta#',\n",
    "          '#joga#','#sortia#','#media#','#kompo#','#po#','#tendi#','#jenti#',\n",
    "          '#menti#','#hendi#','#tosi#','#kobri#','#faze#','#mata#','#paga#',\n",
    "          '#sai#','#bate#','#kome#'])\n",
    "    \n",
    "\n",
    "|       \t|       \t| front \t| middle  \t| back    \t|\n",
    "|:-----:\t|-------\t|------:\t|---------\t|---------\t|\n",
    "|       \t|       \t| v/u   \t| v/u     \t| v/u     \t|\n",
    "|  **int**  | **stop**  | b/p   \t| d/t     \t| g/k     \t|\n",
    "|       \t| **nasal** | m/-   \t| n/-     \t| -       \t|\n",
    "| **cont**  | **fric**  | v/f   \t| z/s    \t| j/x   \t|\n",
    "|       \t| **liq**   | l/-   \t| r/-     \t| -/h     \t|\n",
    "| **vowel** | **high**  | e/i   \t| -       \t| o/u     \t|\n",
    "|       \t| **low**   | -/E   \t| -/a     \t| -/O     \t|"
   ]
  },
  {
   "cell_type": "markdown",
   "metadata": {},
   "source": [
    "## Results:"
   ]
  },
  {
   "cell_type": "code",
   "execution_count": 6,
   "metadata": {
    "collapsed": false
   },
   "outputs": [],
   "source": [
    "from ngrams_nodes import activation"
   ]
  },
  {
   "cell_type": "code",
   "execution_count": 75,
   "metadata": {
    "collapsed": false
   },
   "outputs": [],
   "source": [
    "verbs = ['#mata#']\n",
    "test_list = []\n",
    "for i in verbs:\n",
    "    coding = activation(i)\n",
    "    test_list.append(coding)\n",
    "test_list = np.array(test_list)\n",
    "prediction = model.predict(test_list)"
   ]
  },
  {
   "cell_type": "code",
   "execution_count": 76,
   "metadata": {
    "collapsed": false
   },
   "outputs": [
    {
     "data": {
      "text/plain": [
       "array([[ 0.29995853,  0.33579236,  0.31932685, ...,  0.32640621,\n",
       "         0.30556184,  0.33054301]], dtype=float32)"
      ]
     },
     "execution_count": 76,
     "metadata": {},
     "output_type": "execute_result"
    }
   ],
   "source": [
    "prediction"
   ]
  },
  {
   "cell_type": "code",
   "execution_count": 77,
   "metadata": {
    "collapsed": true
   },
   "outputs": [],
   "source": [
    "from decoding_ngrams import decoding"
   ]
  },
  {
   "cell_type": "code",
   "execution_count": 78,
   "metadata": {
    "collapsed": false
   },
   "outputs": [
    {
     "name": "stdout",
     "output_type": "stream",
     "text": [
      "       trigram     value\n",
      "69   [#, m, a]  0.449999\n",
      "589  [m, a, n]  0.490798\n",
      "182  [a, n, t]  0.384592\n",
      "671  [n, t, u]  0.360832\n",
      "955  [t, u, #]  0.447232\n"
     ]
    }
   ],
   "source": [
    "for predict in prediction:\n",
    "    print(decoding(predict))"
   ]
  },
  {
   "cell_type": "code",
   "execution_count": 11,
   "metadata": {
    "collapsed": false
   },
   "outputs": [
    {
     "data": {
      "text/plain": [
       "1"
      ]
     },
     "execution_count": 11,
     "metadata": {},
     "output_type": "execute_result"
    }
   ],
   "source": [
    "len(prediction)"
   ]
  },
  {
   "cell_type": "code",
   "execution_count": null,
   "metadata": {
    "collapsed": true
   },
   "outputs": [],
   "source": []
  }
 ],
 "metadata": {
  "kernelspec": {
   "display_name": "Python 3",
   "language": "python",
   "name": "python3"
  },
  "language_info": {
   "codemirror_mode": {
    "name": "ipython",
    "version": 3
   },
   "file_extension": ".py",
   "mimetype": "text/x-python",
   "name": "python",
   "nbconvert_exporter": "python",
   "pygments_lexer": "ipython3",
   "version": "3.6.4"
  }
 },
 "nbformat": 4,
 "nbformat_minor": 2
}
