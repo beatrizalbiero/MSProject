{
 "cells": [
  {
   "cell_type": "code",
   "execution_count": 9,
   "metadata": {
    "collapsed": false
   },
   "outputs": [],
   "source": [
    "import coding_function as cf\n",
    "import csv\n",
    "\n",
    "path = 'Corpus/corpus_completo.csv'\n",
    "\n",
    "def load_corpus(path, verbose=True):\n",
    "    \"\"\"\n",
    "    Create a pandas data frame.\n",
    "\n",
    "    Columns: 'infinitive': the verb's infinitive, 'vec_inf': the coded\n",
    "    infinitive form,\n",
    "    'f person': the verb's first person conjugation (in portuguese),\n",
    "    'vec_I': the coded conjugate form.\n",
    "\n",
    "    If verbose is True, returns the lenght of the corpus.\n",
    "\n",
    "    :path type: string\n",
    "    :verbose type: bool\n",
    "    :r type: tuple\n",
    "    \"\"\"\n",
    "    with open(path, 'r') as csvfile:\n",
    "        readcsv = csv.reader(csvfile, delimiter=',')\n",
    "        phoneticinf = []\n",
    "        phoneticI = []\n",
    "        for row in readcsv:\n",
    "            phoneticinf.append(row[1])\n",
    "            phoneticI.append(row[3])\n",
    "    cf.dataTest(phoneticinf, phoneticI) # tests if dataset is ok\n",
    "    if verbose == True:\n",
    "        print(len(phoneticinf), len(phoneticI))\n",
    "    return phoneticinf, phoneticI"
   ]
  },
  {
   "cell_type": "code",
   "execution_count": 10,
   "metadata": {
    "collapsed": false
   },
   "outputs": [
    {
     "name": "stdout",
     "output_type": "stream",
     "text": [
      "416 416\n"
     ]
    }
   ],
   "source": [
    "infinitive, conjugated = load_corpus(path)"
   ]
  },
  {
   "cell_type": "code",
   "execution_count": 11,
   "metadata": {
    "collapsed": false
   },
   "outputs": [],
   "source": [
    "corpus = infinitive + conjugated"
   ]
  },
  {
   "cell_type": "code",
   "execution_count": 12,
   "metadata": {
    "collapsed": false
   },
   "outputs": [],
   "source": [
    "trigrams = list()\n",
    "for item in corpus:\n",
    "    trigrams.append(cf.trigramizer(item))"
   ]
  },
  {
   "cell_type": "code",
   "execution_count": 13,
   "metadata": {
    "collapsed": false
   },
   "outputs": [
    {
     "data": {
      "text/plain": [
       "[('#', 'a', 'n'),\n",
       " ('a', 'n', 's'),\n",
       " ('n', 's', 'i'),\n",
       " ('s', 'i', 'a'),\n",
       " ('i', 'a', '#')]"
      ]
     },
     "execution_count": 13,
     "metadata": {},
     "output_type": "execute_result"
    }
   ],
   "source": [
    "trigrams[0]"
   ]
  },
  {
   "cell_type": "code",
   "execution_count": 14,
   "metadata": {
    "collapsed": true
   },
   "outputs": [],
   "source": [
    "grams = list()\n",
    "for sublist in trigrams:\n",
    "    for item in sublist:\n",
    "        grams.append(item)"
   ]
  },
  {
   "cell_type": "code",
   "execution_count": 15,
   "metadata": {
    "collapsed": false
   },
   "outputs": [],
   "source": [
    "trigrams = list(set(grams))"
   ]
  },
  {
   "cell_type": "code",
   "execution_count": 17,
   "metadata": {
    "collapsed": false
   },
   "outputs": [
    {
     "data": {
      "text/plain": [
       "1068"
      ]
     },
     "execution_count": 17,
     "metadata": {},
     "output_type": "execute_result"
    }
   ],
   "source": [
    "import pickle\n",
    "with open(\"trigrams.txt\", \"wb\") as fp:   #Pickling\n",
    "       pickle.dump(trigrams, fp)\n",
    "with open(\"trigrams.txt\", \"rb\") as fp:   # Unpickling\n",
    "       trigrams = pickle.load(fp)\n",
    "len(trigrams)"
   ]
  },
  {
   "cell_type": "code",
   "execution_count": 18,
   "metadata": {
    "collapsed": false
   },
   "outputs": [
    {
     "data": {
      "text/plain": [
       "('l', 'a', 'v')"
      ]
     },
     "execution_count": 18,
     "metadata": {},
     "output_type": "execute_result"
    }
   ],
   "source": []
  },
  {
   "cell_type": "code",
   "execution_count": 19,
   "metadata": {
    "collapsed": false
   },
   "outputs": [],
   "source": [
    "def activation(verb):\n",
    "    \"\"\"\n",
    "    Activation of nodes.\n",
    "    \n",
    "    :type verb: string\n",
    "    :r type: list (boolean vector)\n",
    "    \"\"\"\n",
    "    import pickle\n",
    "    with open(\"trigrams.txt\", \"rb\") as fp:   # Unpickling\n",
    "           trigrams = pickle.load(fp)\n",
    "    verb_trigram = cf.trigramizer('#kosa#')\n",
    "    nodes = [0]*1068\n",
    "    for i,trigram_i in enumerate(trigrams):\n",
    "        for trigram_j in verb_trigram:\n",
    "            if trigram_i == trigram_j:\n",
    "                nodes[i] = 1\n",
    "    return nodes"
   ]
  },
  {
   "cell_type": "code",
   "execution_count": 22,
   "metadata": {
    "collapsed": false
   },
   "outputs": [],
   "source": [
    "kalo = activation(\"#kalo#\")"
   ]
  },
  {
   "cell_type": "code",
   "execution_count": 23,
   "metadata": {
    "collapsed": false
   },
   "outputs": [
    {
     "data": {
      "text/plain": [
       "4"
      ]
     },
     "execution_count": 23,
     "metadata": {},
     "output_type": "execute_result"
    }
   ],
   "source": [
    "kalo.count(1)"
   ]
  },
  {
   "cell_type": "code",
   "execution_count": null,
   "metadata": {
    "collapsed": true
   },
   "outputs": [],
   "source": []
  }
 ],
 "metadata": {
  "kernelspec": {
   "display_name": "Python 3",
   "language": "python",
   "name": "python3"
  },
  "language_info": {
   "codemirror_mode": {
    "name": "ipython",
    "version": 3
   },
   "file_extension": ".py",
   "mimetype": "text/x-python",
   "name": "python",
   "nbconvert_exporter": "python",
   "pygments_lexer": "ipython3",
   "version": "3.6.4"
  }
 },
 "nbformat": 4,
 "nbformat_minor": 2
}
