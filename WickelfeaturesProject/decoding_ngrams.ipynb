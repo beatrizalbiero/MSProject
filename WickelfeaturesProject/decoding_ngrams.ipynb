{
 "cells": [
  {
   "cell_type": "code",
   "execution_count": 2,
   "metadata": {
    "collapsed": true
   },
   "outputs": [],
   "source": [
    "from ngrams_nodes import activation\n",
    "import numpy as np"
   ]
  },
  {
   "cell_type": "code",
   "execution_count": 3,
   "metadata": {
    "collapsed": false
   },
   "outputs": [
    {
     "data": {
      "text/plain": [
       "5"
      ]
     },
     "execution_count": 3,
     "metadata": {},
     "output_type": "execute_result"
    }
   ],
   "source": [
    "activation('#pOstu#').count(1)"
   ]
  },
  {
   "cell_type": "code",
   "execution_count": 9,
   "metadata": {
    "collapsed": false
   },
   "outputs": [
    {
     "name": "stdout",
     "output_type": "stream",
     "text": [
      "['#', 'p', 'O'] ['#', 'p', 'O']\n"
     ]
    }
   ],
   "source": [
    "def decoding(vector):\n",
    "    \"\"\"\n",
    "    Receive a vector that represents the activation of trigrams and decode it back to a verb.\n",
    "    :vector type: numpy (ou lista???)\n",
    "    :r type: string\n",
    "    \"\"\"\n",
    "    def createdf(vector):\n",
    "        \"\"\"\n",
    "        Create a dataframe of trigrams and prediction values.\n",
    "\n",
    "        :vector type: list\n",
    "        :rtype: dataframe (pandas)\n",
    "        \"\"\"\n",
    "        import pandas as pd\n",
    "        from trigrams_nodes import trigrams_dict\n",
    "        new = np.asarray(vector)\n",
    "        df = pd.DataFrame()\n",
    "        df['trigram'] = trigrams_dict\n",
    "        df['value'] = vector\n",
    "        return df\n",
    "    \n",
    "    def best(df, n):\n",
    "        \"\"\"\n",
    "        Select sixteen best wickelfeatures.\n",
    "\n",
    "        :df type: df (pandas)\n",
    "        :r type: df (pandas)\n",
    "        \"\"\"\n",
    "        x = df.sort_values(by=['value'], axis=0, ascending=False,\n",
    "                           inplace=False, kind='quicksort',\n",
    "                           na_position='last')\n",
    "        r = x.head(n)\n",
    "        return r.sort_index(axis=0)\n",
    "    \n",
    "    def find_compatible(df1, df2):\n",
    "        \"\"\"\n",
    "        Find Compatible.\n",
    "\n",
    "        returns a new df with compatible trigrams\n",
    "\n",
    "        :df1 type: df\n",
    "        :df2 type: df\n",
    "        :r type: df\n",
    "        \"\"\"\n",
    "        df3 = pd.DataFrame()\n",
    "        df2['aux'] = ''\n",
    "        for index, row in df2.iterrows():\n",
    "            df2.iloc[index,\n",
    "                     df2.columns.get_loc('aux')] = (row['wickelfeatures'][0] +\n",
    "                                                    row['wickelfeatures'][1])\n",
    "        for index, row in df1.iterrows():\n",
    "            last_two = row[0][-2]+row[0][-1]\n",
    "            df3 = df3.append(df2[df2['aux'].isin([last_two])])\n",
    "        return df3.sort_index(axis=0)\n",
    "    \n",
    "    df = createdf(vector)\n",
    "    \n",
    "    first = df[:117]\n",
    "    decoded = []\n",
    "    decoded = best(first,1)['trigram'].iloc[0]\n",
    "        \n",
    "#     for item in df['trigram']:\n",
    "#         if item[-2] == decoded[1] and item[-1] == decoded[2]:\n",
    "#             print(item, decoded)\n",
    "# # #         if decoded[-1] == '#':\n",
    "# # #             break\n",
    "\n",
    "    return decoded\n",
    "x = decoding(activation(\"#pOstu#\"))"
   ]
  },
  {
   "cell_type": "code",
   "execution_count": 7,
   "metadata": {
    "collapsed": false
   },
   "outputs": [
    {
     "data": {
      "text/plain": [
       "['#', 'p', 'O']"
      ]
     },
     "execution_count": 7,
     "metadata": {},
     "output_type": "execute_result"
    }
   ],
   "source": [
    "x"
   ]
  },
  {
   "cell_type": "code",
   "execution_count": null,
   "metadata": {
    "collapsed": true
   },
   "outputs": [],
   "source": []
  }
 ],
 "metadata": {
  "kernelspec": {
   "display_name": "Python 3",
   "language": "python",
   "name": "python3"
  },
  "language_info": {
   "codemirror_mode": {
    "name": "ipython",
    "version": 3
   },
   "file_extension": ".py",
   "mimetype": "text/x-python",
   "name": "python",
   "nbconvert_exporter": "python",
   "pygments_lexer": "ipython3",
   "version": "3.6.4"
  }
 },
 "nbformat": 4,
 "nbformat_minor": 2
}
