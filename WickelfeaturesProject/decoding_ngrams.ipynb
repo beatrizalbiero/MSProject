{
 "cells": [
  {
   "cell_type": "code",
   "execution_count": 1,
   "metadata": {
    "collapsed": true
   },
   "outputs": [],
   "source": [
    "from ngrams_nodes import activation\n",
    "import numpy as np"
   ]
  },
  {
   "cell_type": "code",
   "execution_count": 2,
   "metadata": {
    "collapsed": false
   },
   "outputs": [
    {
     "data": {
      "text/plain": [
       "5"
      ]
     },
     "execution_count": 2,
     "metadata": {},
     "output_type": "execute_result"
    }
   ],
   "source": [
    "activation('#pOstu#').count(1)"
   ]
  },
  {
   "cell_type": "code",
   "execution_count": 38,
   "metadata": {
    "code_folding": [],
    "collapsed": false
   },
   "outputs": [
    {
     "name": "stdout",
     "output_type": "stream",
     "text": [
      "       trigram  value aux\n",
      "743  [p, O, s]      1  pO\n"
     ]
    }
   ],
   "source": [
    "def decoding(vector):\n",
    "    \"\"\"\n",
    "    Receive a vector that represents the activation of trigrams and decode it back to a verb.\n",
    "    :vector type: numpy array (ou lista???)\n",
    "    :r type: string\n",
    "    \"\"\"\n",
    "    def createdf(vector):\n",
    "        \"\"\"\n",
    "        Create a dataframe of trigrams and prediction values.\n",
    "\n",
    "        :vector type: list\n",
    "        :rtype: dataframe (pandas)\n",
    "        \"\"\"\n",
    "        import pandas as pd\n",
    "        from trigrams_nodes import trigrams_dict\n",
    "        new = np.asarray(vector)\n",
    "        df = pd.DataFrame()\n",
    "        df['trigram'] = trigrams_dict\n",
    "        df['value'] = vector\n",
    "        return df\n",
    "    \n",
    "    def best(df, n):\n",
    "        \"\"\"\n",
    "        Select sixteen best wickelfeatures.\n",
    "\n",
    "        :df type: df (pandas)\n",
    "        :r type: df (pandas)\n",
    "        \"\"\"\n",
    "        x = df.sort_values(by=['value'], axis=0, ascending=False,\n",
    "                           inplace=False, kind='quicksort',\n",
    "                           na_position='last')\n",
    "        r = x.head(n)\n",
    "        return r.sort_index(axis=0)\n",
    "    \n",
    "    def find_compatible(df1, df2):\n",
    "        \"\"\"\n",
    "        Find Compatible.\n",
    "\n",
    "        returns a new df with compatible trigrams\n",
    "\n",
    "        :df1 type: df\n",
    "        :df2 type: df\n",
    "        :r type: df\n",
    "        \"\"\"\n",
    "\n",
    "        import pandas as pd\n",
    "\n",
    "        df3 = pd.DataFrame()\n",
    "        df2['aux'] = ''\n",
    "        for index, row in df2.iterrows():\n",
    "            df2.iloc[index,\n",
    "                     df2.columns.get_loc('aux')] = (row['trigram'][0] +\n",
    "                                                    row['trigram'][1])\n",
    "        for index, row in df1.iterrows():\n",
    "            last_two = row[0][-2]+row[0][-1]\n",
    "            df3 = df3.append(df2[df2['aux'].isin([last_two])])\n",
    "        return df3\n",
    "    \n",
    "    df = createdf(vector) # df com todos os trigramas e seus respectivos valores\n",
    "    \n",
    "    first = df[:117]\n",
    "    decoded = []\n",
    "    decoded = best(first,1)\n",
    "    \n",
    "    print(find_compatible(decoded, df))\n",
    "    # decoded = best(first,1)['trigram'].iloc[0]\n",
    "    #preciso que o decoded seja um df para que eu possa encontrar dfs compativeis\n",
    "        \n",
    "\n",
    "\n",
    "    return decoded\n",
    "x = decoding(activation(\"#pOstu#\"))"
   ]
  },
  {
   "cell_type": "code",
   "execution_count": 11,
   "metadata": {
    "collapsed": false
   },
   "outputs": [
    {
     "data": {
      "text/plain": [
       "'p'"
      ]
     },
     "execution_count": 11,
     "metadata": {},
     "output_type": "execute_result"
    }
   ],
   "source": [
    "x.iloc[0][-2]"
   ]
  },
  {
   "cell_type": "code",
   "execution_count": null,
   "metadata": {
    "collapsed": true
   },
   "outputs": [],
   "source": []
  }
 ],
 "metadata": {
  "kernelspec": {
   "display_name": "Python 3",
   "language": "python",
   "name": "python3"
  },
  "language_info": {
   "codemirror_mode": {
    "name": "ipython",
    "version": 3
   },
   "file_extension": ".py",
   "mimetype": "text/x-python",
   "name": "python",
   "nbconvert_exporter": "python",
   "pygments_lexer": "ipython3",
   "version": "3.6.4"
  }
 },
 "nbformat": 4,
 "nbformat_minor": 2
}
