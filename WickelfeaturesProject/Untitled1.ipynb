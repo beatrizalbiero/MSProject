{
 "cells": [
  {
   "cell_type": "code",
   "execution_count": 1,
   "metadata": {
    "collapsed": false
   },
   "outputs": [
    {
     "name": "stdout",
     "output_type": "stream",
     "text": [
      "452\n"
     ]
    }
   ],
   "source": [
    "\"\"\"Utilities.\"\"\"\n",
    "\n",
    "import pandas as pd\n",
    "import csv\n",
    "import coding_function as cf\n",
    "import numpy as np\n",
    "\n",
    "path = '../data/prop_55.csv'\n",
    "with open(path, 'r') as csvfile:\n",
    "    readcsv = csv.reader(csvfile, delimiter=',')\n",
    "    phoneticinf = []\n",
    "    phoneticI = []\n",
    "    for row in readcsv:\n",
    "        phoneticinf.append(row[1])\n",
    "        phoneticI.append(row[3])\n",
    "cf.dataTest(phoneticinf, phoneticI)  # tests if dataset is ok\n",
    "vec_inf = []\n",
    "vec_I = []\n",
    "for item in phoneticinf:\n",
    "    vec_inf.append(cf.coding(item))\n",
    "print(len(vec_inf))"
   ]
  },
  {
   "cell_type": "code",
   "execution_count": 2,
   "metadata": {
    "collapsed": false
   },
   "outputs": [
    {
     "name": "stdout",
     "output_type": "stream",
     "text": [
      "452\n"
     ]
    }
   ],
   "source": [
    "for item in phoneticI:\n",
    "    vec_I.append(cf.coding(item))\n",
    "print(len(vec_I))\n",
    "d = {'infinitive': phoneticinf, 'vec_inf': vec_inf,\n",
    "     'f person': phoneticI, 'vec_I': vec_I}\n",
    "df = pd.DataFrame(data=d)\n",
    "X = np.array(df['vec_inf'].tolist())\n",
    "Y = np.array(df['vec_I'].tolist())"
   ]
  },
  {
   "cell_type": "code",
   "execution_count": 3,
   "metadata": {
    "collapsed": false
   },
   "outputs": [
    {
     "data": {
      "text/plain": [
       "452"
      ]
     },
     "execution_count": 3,
     "metadata": {},
     "output_type": "execute_result"
    }
   ],
   "source": [
    "len(X)"
   ]
  },
  {
   "cell_type": "code",
   "execution_count": 4,
   "metadata": {
    "collapsed": false
   },
   "outputs": [
    {
     "name": "stdout",
     "output_type": "stream",
     "text": [
      "452\n",
      "341\n"
     ]
    }
   ],
   "source": [
    "path = '../data/prop_55.csv'\n",
    "X,Y = load_data(path, len_set = True)"
   ]
  },
  {
   "cell_type": "code",
   "execution_count": 5,
   "metadata": {
    "collapsed": false
   },
   "outputs": [
    {
     "ename": "NameError",
     "evalue": "name 'df' is not defined",
     "output_type": "error",
     "traceback": [
      "\u001b[0;31m---------------------------------------------------------------------------\u001b[0m",
      "\u001b[0;31mNameError\u001b[0m                                 Traceback (most recent call last)",
      "\u001b[0;32m<ipython-input-5-7ed0097d7e9e>\u001b[0m in \u001b[0;36m<module>\u001b[0;34m()\u001b[0m\n\u001b[0;32m----> 1\u001b[0;31m \u001b[0mdf\u001b[0m\u001b[0;34m\u001b[0m\u001b[0m\n\u001b[0m",
      "\u001b[0;31mNameError\u001b[0m: name 'df' is not defined"
     ]
    }
   ],
   "source": []
  },
  {
   "cell_type": "code",
   "execution_count": null,
   "metadata": {
    "collapsed": true
   },
   "outputs": [],
   "source": []
  }
 ],
 "metadata": {
  "kernelspec": {
   "display_name": "Python 3",
   "language": "python",
   "name": "python3"
  },
  "language_info": {
   "codemirror_mode": {
    "name": "ipython",
    "version": 3
   },
   "file_extension": ".py",
   "mimetype": "text/x-python",
   "name": "python",
   "nbconvert_exporter": "python",
   "pygments_lexer": "ipython3",
   "version": "3.6.4"
  }
 },
 "nbformat": 4,
 "nbformat_minor": 2
}
