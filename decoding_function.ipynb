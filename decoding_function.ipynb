{
 "cells": [
  {
   "cell_type": "code",
   "execution_count": null,
   "metadata": {
    "collapsed": true
   },
   "outputs": [],
   "source": [
    "'''\n",
    "Decoding function:\n",
    "After the neural network training, there must be a way of converting a vector of wickelfeatures into wickelphones\n",
    "again and, finally,back to a whole string (verb).\n",
    "\n",
    "\n",
    "idea: start with a set of possible candidates and then reducing them until we have a winner\n",
    "\n",
    "'''"
   ]
  },
  {
   "cell_type": "code",
   "execution_count": 2,
   "metadata": {
    "collapsed": true
   },
   "outputs": [],
   "source": [
    "import coding_function as cf\n",
    "import pickle\n",
    "with open(\"nodes.txt\", \"rb\") as file:\n",
    "    wickelfeatures_list = pickle.load(file)"
   ]
  },
  {
   "cell_type": "code",
   "execution_count": 3,
   "metadata": {
    "collapsed": true
   },
   "outputs": [],
   "source": [
    "class MyList(list):\n",
    "    '''\n",
    "    MyList: A new class developed in order to eliminate incompatibilities (filtering)\n",
    "    :MyList type: list\n",
    "    :rtype: list\n",
    "    '''\n",
    "    def __init__(self, *args):\n",
    "        super(MyList, self).__init__(args)\n",
    "\n",
    "    def __sub__(self, other):\n",
    "        return self.__class__(*[item for item in self if item not in other])"
   ]
  },
  {
   "cell_type": "code",
   "execution_count": 4,
   "metadata": {
    "collapsed": true
   },
   "outputs": [],
   "source": [
    "def checkcandidates_beg(vector2string):\n",
    "    '''\n",
    "    checkcandidates_beg:\n",
    "    A procedure that returns the first trigram of a verb and a list of the next wickelfeatures\n",
    "    :vector2string type: Mylist\n",
    "    :rtype: decoded: str; wickelfeatures: list\n",
    "    '''\n",
    "    candidates1 = MyList('b','p','d','t','g',\n",
    "                'k','m','n','v','f','z','s',\n",
    "                'j','x','l','r','a','e','E',\n",
    "                'i', 'o', 'O', 'u')\n",
    "    candidates2 = MyList('b','p','d','t','g',\n",
    "                'k','m','n','v','f','z','s',\n",
    "                'j','x','l','r','a','e','E',\n",
    "                'i', 'o', 'O', 'u')\n",
    "\n",
    "    ints = MyList('b','p','d','t','g','k','m','n')\n",
    "    conts = MyList('v','f','z','s','j','x','l','r')\n",
    "    vowels = MyList('a','e','E','i', 'o', 'O', 'u')\n",
    "    b1s = MyList('b','p','d','t','g','k','v','f','z','s','j','x','e','i','o','u')\n",
    "    b2s = MyList('m','n','l','r','a','E','O')\n",
    "    fronts = MyList('b','p','v','f','m','l','E','i','e')\n",
    "    middles = MyList('d','t','n','z','s','r','a')\n",
    "    backs = MyList('g','k','j','x','o', 'O', 'u')\n",
    "    d1s = MyList('b','d','g','m','v','z','j','l','o','n','r','e')\n",
    "    d2s = MyList('p', 't', 'k', 'f', 's', 'x', 'a', 'E', 'O', 'u','i')\n",
    "\n",
    "    new = []\n",
    "\n",
    "    for item in vector2string:\n",
    "        if item[0] == '#':\n",
    "            new.append(item)\n",
    "            if item[1] == 'int':\n",
    "                #print(candidates)\n",
    "                candidates1 = candidates1 - conts - vowels\n",
    "            if item[1] == 'cont':\n",
    "                candidates1 = candidates1 - ints - vowels\n",
    "            if item[1] == 'vowel':\n",
    "                #print(candidates)\n",
    "                candidates1 = candidates1 - conts - ints\n",
    "            if item[1] == 'b1':\n",
    "                #print(candidates)\n",
    "                candidates1 = candidates1 - b2s\n",
    "            if item[1] == 'b2':\n",
    "                #print(candidates)\n",
    "                candidates1 = candidates1 - b1s\n",
    "            if item[1] == 'front':\n",
    "                #print(candidates)\n",
    "                candidates1 = candidates1 - middles - backs\n",
    "            if item[1] == 'middle':\n",
    "                #print(candidates)\n",
    "                candidates1 = candidates1 - fronts - backs\n",
    "            if item[1] == 'back':\n",
    "                #print(candidates)\n",
    "                candidates1 = candidates1 - fronts - middles\n",
    "            if item[1] == 'd1':\n",
    "                #print(candidates)\n",
    "                candidates1 = candidates1 - d2s\n",
    "            if item[1] == 'd2':\n",
    "                #print(candidates)\n",
    "                candidates1 = candidates1 - d1s\n",
    "            if item[2] == 'int':\n",
    "                #print(candidates)\n",
    "                candidates2 = candidates2 - conts - vowels\n",
    "            if item[2] == 'cont':\n",
    "                candidates2 = candidates2 - ints - vowels\n",
    "            if item[2] == 'vowel':\n",
    "                #print(candidates)\n",
    "                candidates2 = candidates2 - conts - ints\n",
    "\n",
    "            if item[2] == 'b1':\n",
    "                #print(candidates)\n",
    "                candidates2 = candidates2 - b2s\n",
    "\n",
    "            if item[2] == 'b2':\n",
    "                #print(candidates)\n",
    "                candidates2 = candidates2 - b1s\n",
    "            if item[2] == 'front':\n",
    "                #print(candidates)\n",
    "                candidates2 = candidates2 - middles - backs\n",
    "            if item[2] == 'middle':\n",
    "                #print(candidates)\n",
    "                candidates2 = candidates2 - fronts - backs\n",
    "            if item[2] == 'back':\n",
    "                #print(candidates)\n",
    "                candidates2 = candidates2 - fronts - middles\n",
    "\n",
    "            if item[2] == 'd1':\n",
    "                #print(candidates)\n",
    "                candidates2 = candidates2 - d2s\n",
    "\n",
    "            if item[2] == 'd2':\n",
    "                #print(candidates)\n",
    "                candidates2 = candidates2 - d1s\n",
    "\n",
    "\n",
    "    return {'decoded': \"\".join(['#'] + candidates1 + candidates2), 'wickelfeatures':new}"
   ]
  },
  {
   "cell_type": "code",
   "execution_count": 5,
   "metadata": {
    "collapsed": false
   },
   "outputs": [
    {
     "data": {
      "text/plain": [
       "list"
      ]
     },
     "execution_count": 5,
     "metadata": {},
     "output_type": "execute_result"
    }
   ],
   "source": [
    "dar = cf.coding('#dar#')\n",
    "Dar = cf.vector2string(dar,wickelfeatures_list)\n",
    "checkcandidates_beg(Dar)['decoded']\n",
    "type(checkcandidates_beg(Dar)['decoded'])\n",
    "type(checkcandidates_beg(Dar)['wickelfeatures'])"
   ]
  },
  {
   "cell_type": "code",
   "execution_count": 6,
   "metadata": {
    "collapsed": true
   },
   "outputs": [],
   "source": [
    "def find_compatible(list1,list2): \n",
    "    '''\n",
    "    find_compatible:\n",
    "    compares the first decoded wickelfeatures with a list of possible new wickelfeatures, \n",
    "    this procedure filters possible candidates for the second trigram\n",
    "    (returns a list of compatible lists in list2 according to list1)\n",
    "    :list1 type: list (possible candidates from the checkcandidates_beg function\n",
    "    :list2 type: list (all possible wickelfeatures)\n",
    "    :rtype: list    \n",
    "    '''\n",
    "    compatible =[]\n",
    "    for item1 in list1:\n",
    "        for item2 in list2:\n",
    "            if item1[1] == item2[0] and item1[2] == item2[1]:\n",
    "                compatible.append(item2)\n",
    "\n",
    "    return compatible"
   ]
  },
  {
   "cell_type": "code",
   "execution_count": 7,
   "metadata": {
    "collapsed": true
   },
   "outputs": [],
   "source": [
    "def competion(vector2string,position):\n",
    "    '''\n",
    "    competion:\n",
    "    given a set of wickelfeatures, it returns the most likely phoneme\n",
    "    :cf.vector2string type: list\n",
    "    :position type: int\n",
    "    :rtype: str \n",
    "    '''\n",
    "\n",
    "    competitors = {\"b\":0,\"p\":0,\"d\":0,'t':0,'g':0,'k':0,'m':0,'n':0,'v':0,'f':0,'z':0,'s':0,'j':0,'x':0,'l':0,\n",
    "                    'r':0,'a':0,'e':0,'E':0,'i':0, 'o':0, 'O':0, 'u':0, '#':0}\n",
    "\n",
    "    for item in vector2string:\n",
    "            if item[position] == '#':\n",
    "                competitors['#'] = competitors['#']+1\n",
    "\n",
    "            if item[position] == 'int':\n",
    "                competitors['b'] =competitors['b']+1\n",
    "                competitors['p'] =competitors['p']+1\n",
    "                competitors['d'] =competitors['d']+1\n",
    "                competitors['t'] =competitors['t']+1\n",
    "                competitors['g'] =competitors['g']+1\n",
    "                competitors['k'] =competitors['k']+1\n",
    "                competitors['m'] =competitors['m']+1\n",
    "                competitors['n'] =competitors['n']+1\n",
    "\n",
    "            if item[position] == 'cont':\n",
    "                competitors['v'] =competitors['v']+1\n",
    "                competitors['f'] =competitors['f']+1\n",
    "                competitors['z'] =competitors['z']+1\n",
    "                competitors['s'] =competitors['s']+1\n",
    "                competitors['j'] =competitors['j']+1\n",
    "                competitors['x'] =competitors['x']+1\n",
    "                competitors['l'] =competitors['l']+1\n",
    "                competitors['r'] =competitors['r']+1\n",
    "\n",
    "            if item[position] == 'vowel':\n",
    "                competitors['a'] =competitors['a']+1\n",
    "                competitors['e'] =competitors['e']+1\n",
    "                competitors['E'] =competitors['E']+1\n",
    "                competitors['i'] =competitors['i']+1\n",
    "                competitors['O'] =competitors['O']+1\n",
    "                competitors['u'] =competitors['u']+1\n",
    "                competitors['o'] =competitors['o']+1\n",
    "\n",
    "            if item[position] == 'b1':\n",
    "                competitors['b'] =competitors['b']+1\n",
    "                competitors['p'] =competitors['p']+1\n",
    "                competitors['d'] =competitors['d']+1\n",
    "                competitors['t'] =competitors['t']+1\n",
    "                competitors['g'] =competitors['g']+1\n",
    "                competitors['k'] =competitors['k']+1\n",
    "                competitors['v'] =competitors['v']+1\n",
    "                competitors['f'] =competitors['f']+1\n",
    "                competitors['z'] =competitors['z']+1\n",
    "                competitors['s'] =competitors['s']+1\n",
    "                competitors['j'] =competitors['j']+1\n",
    "                competitors['x'] =competitors['x']+1\n",
    "                competitors['e'] =competitors['e']+1\n",
    "                competitors['i'] =competitors['i']+1\n",
    "                competitors['u'] =competitors['u']+1\n",
    "                competitors['o'] =competitors['o']+1\n",
    "\n",
    "            if item[position] == 'b2':\n",
    "                competitors['m'] =competitors['m']+1\n",
    "                competitors['n'] =competitors['n']+1\n",
    "                competitors['l'] =competitors['l']+1\n",
    "                competitors['r'] =competitors['r']+1\n",
    "                competitors['a'] =competitors['a']+1\n",
    "                competitors['E'] =competitors['E'] +1\n",
    "                competitors['O'] =competitors['O']+1\n",
    "\n",
    "            if item[position] == 'front':\n",
    "                competitors['b'] =competitors['b']+1\n",
    "                competitors['p'] =competitors['p']+1\n",
    "                competitors['m'] =competitors['m']+1\n",
    "                competitors['v'] =competitors['v']+1\n",
    "                competitors['f'] =competitors['f']+1\n",
    "                competitors['l'] =competitors['l'] +1\n",
    "                competitors['e'] =competitors['e']+1\n",
    "                competitors['E'] =competitors['E'] +1\n",
    "                competitors['i'] =competitors['i']+1\n",
    "\n",
    "            if item[position] == 'middle':\n",
    "                competitors['d'] =competitors['d']+1\n",
    "                competitors['t'] =competitors['t']+1\n",
    "                competitors['n'] =competitors['n']+1\n",
    "                competitors['z'] =competitors['z']+1\n",
    "                competitors['s'] =competitors['s']+1\n",
    "                competitors['r'] =competitors['r']+1\n",
    "                competitors['a'] =competitors['a']+1\n",
    "\n",
    "            if item[position] == 'back':\n",
    "                competitors['g'] =competitors['g']+1\n",
    "                competitors['k'] =competitors['k'] +1\n",
    "                competitors['j'] = competitors['j'] +1\n",
    "                competitors['x'] =competitors['x']+1\n",
    "                competitors['o'] =competitors['o']+1\n",
    "                competitors['O'] =competitors['O']+1\n",
    "                competitors['u'] =competitors['u']+1\n",
    "\n",
    "            if item[position] == 'd1':\n",
    "                competitors['d'] =competitors['d']+1\n",
    "                competitors['b'] =competitors['b']+1\n",
    "                competitors['g'] =competitors['g']+1\n",
    "                competitors['m'] =competitors['m']+1\n",
    "                competitors['v'] =competitors['v']+1\n",
    "                competitors['z'] =competitors['z']+1\n",
    "                competitors['j'] =competitors['j']+1\n",
    "                competitors['l'] =competitors['l']+1\n",
    "                competitors['o'] =competitors['o']+1\n",
    "                competitors['n'] =competitors['n']+1\n",
    "                competitors['r'] =competitors['r']+1\n",
    "                competitors['e'] =competitors['e']+1\n",
    "            if item[position] == 'd2':\n",
    "                competitors['p'] =competitors['p']+1\n",
    "                competitors['t'] =competitors['t']+1\n",
    "                competitors['k'] =competitors['k']+1\n",
    "                competitors['f'] =competitors['f']+1\n",
    "                competitors['s'] =competitors['s'] +1\n",
    "                competitors['x'] =competitors['x']+1\n",
    "                competitors['a'] =competitors['a']+1\n",
    "                competitors['E'] =competitors['E']+1\n",
    "                competitors['i'] =competitors['i']+1\n",
    "                competitors['O'] =competitors['O']+1\n",
    "                competitors['u'] =competitors['u']+1\n",
    "\n",
    "    winner_score = max(competitors.items(), key=lambda k:k[1])\n",
    "\n",
    "    winner = str(winner_score[0])\n",
    "\n",
    "    return winner"
   ]
  },
  {
   "cell_type": "code",
   "execution_count": 8,
   "metadata": {
    "collapsed": true
   },
   "outputs": [],
   "source": [
    "def decoding(vector2string): \n",
    "    '''\n",
    "    decoding:\n",
    "    given a list of wickelfeatures (str), decodes it back into phonemes\n",
    "    \n",
    "    :cf.vector2string type: list\n",
    "    :rtype: str\n",
    "    '''\n",
    "\n",
    "    #decodes the first trigram, i.e, the first 3 symbols of a verb\n",
    "    decoded = str(checkcandidates_beg(vector2string)['decoded'])\n",
    "\n",
    "    #finds a new compatible list of wickelfeatures, i.e., an intersection with the first decoded trigram\n",
    "    new_list_of_wickelfeatures = find_compatible(checkcandidates_beg(vector2string)['wickelfeatures'],vector2string)\n",
    "\n",
    "    while len(new_list_of_wickelfeatures) > 16: #to avoid unnecessary loops\n",
    "\n",
    "        #decodes the next phoneme\n",
    "        phoneme = competion(new_list_of_wickelfeatures,2)\n",
    "\n",
    "        #do this until last phoneme is decoded\n",
    "        new_list_of_wickelfeatures = find_compatible(new_list_of_wickelfeatures,vector2string)\n",
    "\n",
    "        decoded = decoded + phoneme\n",
    "\n",
    "\n",
    "    return decoded"
   ]
  },
  {
   "cell_type": "code",
   "execution_count": 9,
   "metadata": {
    "collapsed": false
   },
   "outputs": [
    {
     "data": {
      "text/plain": [
       "'#dar#'"
      ]
     },
     "execution_count": 9,
     "metadata": {},
     "output_type": "execute_result"
    }
   ],
   "source": [
    "#Example:\n",
    "dar = cf.coding('#dar#') #first, string into vector\n",
    "Dar = cf.vector2string(dar,wickelfeatures_list)\n",
    "decoding(Dar)"
   ]
  },
  {
   "cell_type": "code",
   "execution_count": 10,
   "metadata": {
    "collapsed": false
   },
   "outputs": [
    {
     "data": {
      "text/plain": [
       "'#fala#'"
      ]
     },
     "execution_count": 10,
     "metadata": {},
     "output_type": "execute_result"
    }
   ],
   "source": [
    "#Example:\n",
    "fala = cf.coding('#fala#') #first, string into vector\n",
    "Fala = cf.vector2string(fala,wickelfeatures_list)\n",
    "decoding(Fala)"
   ]
  },
  {
   "cell_type": "code",
   "execution_count": 11,
   "metadata": {
    "collapsed": false
   },
   "outputs": [
    {
     "data": {
      "text/plain": [
       "'#mEsu#'"
      ]
     },
     "execution_count": 11,
     "metadata": {},
     "output_type": "execute_result"
    }
   ],
   "source": [
    "meco = cf.coding('#mEsu#')\n",
    "Meco = cf.vector2string(meco,wickelfeatures_list)\n",
    "decoding(Meco)"
   ]
  },
  {
   "cell_type": "code",
   "execution_count": null,
   "metadata": {
    "collapsed": true
   },
   "outputs": [],
   "source": []
  }
 ],
 "metadata": {
  "kernelspec": {
   "display_name": "Python 3",
   "language": "python",
   "name": "python3"
  },
  "language_info": {
   "codemirror_mode": {
    "name": "ipython",
    "version": 3
   },
   "file_extension": ".py",
   "mimetype": "text/x-python",
   "name": "python",
   "nbconvert_exporter": "python",
   "pygments_lexer": "ipython3",
   "version": "3.6.0"
  }
 },
 "nbformat": 4,
 "nbformat_minor": 2
}
